{
 "cells": [
  {
   "cell_type": "code",
   "execution_count": 1,
   "metadata": {},
   "outputs": [],
   "source": [
    "import torch \n",
    "import torch.nn\n",
    "from torch.nn import functional as F\n",
    "from torch.utils.data import DataLoader\n",
    "\n",
    "from Trainer import Trainer\n",
    "\n",
    "from variational_probing import VariationalProbingModel, RegularProbingModel\n",
    "from utils import *\n",
    "\n",
    "import numpy as np\n",
    "\n",
    "from transformers import AutoTokenizer\n",
    "import matplotlib.pyplot as plt\n",
    "import seaborn as sns\n",
    "sns.set_style(\"darkgrid\")\n",
    "\n",
    "%matplotlib inline"
   ]
  },
  {
   "cell_type": "code",
   "execution_count": 2,
   "metadata": {},
   "outputs": [
    {
     "name": "stderr",
     "output_type": "stream",
     "text": [
      "[nltk_data] Downloading package conll2000 to\n",
      "[nltk_data]     C:\\Users\\Nikita\\AppData\\Roaming\\nltk_data...\n",
      "[nltk_data]   Package conll2000 is already up-to-date!\n",
      "[nltk_data] Downloading package conll2000 to\n",
      "[nltk_data]     C:\\Users\\Nikita\\AppData\\Roaming\\nltk_data...\n",
      "[nltk_data]   Package conll2000 is already up-to-date!\n",
      "Some weights of RobertaModel were not initialized from the model checkpoint at D:/models/roberta-base and are newly initialized: ['roberta.pooler.dense.bias', 'roberta.pooler.dense.weight']\n",
      "You should probably TRAIN this model on a down-stream task to be able to use it for predictions and inference.\n",
      "Some weights of RobertaModel were not initialized from the model checkpoint at D:/models/roberta-base and are newly initialized: ['roberta.pooler.dense.bias', 'roberta.pooler.dense.weight']\n",
      "You should probably TRAIN this model on a down-stream task to be able to use it for predictions and inference.\n",
      "Some weights of RobertaModel were not initialized from the model checkpoint at D:/models/roberta-base and are newly initialized: ['roberta.pooler.dense.bias', 'roberta.pooler.dense.weight']\n",
      "You should probably TRAIN this model on a down-stream task to be able to use it for predictions and inference.\n",
      "d:\\anaconda3\\envs\\DL\\Lib\\site-packages\\transformers\\tokenization_utils_base.py:1601: FutureWarning: `clean_up_tokenization_spaces` was not set. It will be set to `True` by default. This behavior will be depracted in transformers v4.45, and will be then set to `False` by default. For more details check this issue: https://github.com/huggingface/transformers/issues/31884\n",
      "  warnings.warn(\n"
     ]
    }
   ],
   "source": [
    "data_path_train = \"conll2000_train.txt\"\n",
    "data_path_val = \"conll2000_test.txt\"\n",
    "\n",
    "\n",
    "train_dataset = MDLDataset_POSTagging(data_path_train)\n",
    "tagging_tokenizer = train_dataset.tagging_tokenizer\n",
    "val_dataset = MDLDataset_POSTagging(data_path_val, tagging_tokenizer)\n",
    "\n",
    "model = VariationalProbingModel(pretrained_path=\"D:/models/roberta-base\", out_features=len(tagging_tokenizer)).to(\"cuda\")\n",
    "model_non_var = RegularProbingModel(pretrained_path=\"D:/models/roberta-base\", out_features=len(tagging_tokenizer)).to(\"cuda\")\n",
    "\n",
    "tokenizer = AutoTokenizer.from_pretrained(\"D:/models/roberta-base\")\n",
    "\n",
    "collator = Collator(\n",
    "    tokenizer=tokenizer,\n",
    "    post_tagging_tokenizer=tagging_tokenizer,\n",
    "    max_length=1024,\n",
    "    padding=True,\n",
    "    truncation=True,\n",
    "    add_special_tokens=True\n",
    ")\n",
    "\n",
    "BATCH_SIZE = 256\n",
    "\n",
    "train_loader = DataLoader(train_dataset, batch_size=BATCH_SIZE, shuffle=True, collate_fn=collator)\n",
    "val_loader = DataLoader(val_dataset, batch_size=BATCH_SIZE, shuffle=False, collate_fn=collator)\n"
   ]
  },
  {
   "cell_type": "code",
   "execution_count": null,
   "metadata": {},
   "outputs": [
    {
     "data": {
      "application/vnd.jupyter.widget-view+json": {
       "model_id": "3ba9e859fe94449cb89bcb93dddb4982",
       "version_major": 2,
       "version_minor": 0
      },
      "text/plain": [
       "training epoch:   0%|          | 0/500 [00:00<?, ?it/s]"
      ]
     },
     "metadata": {},
     "output_type": "display_data"
    },
    {
     "data": {
      "application/vnd.jupyter.widget-view+json": {
       "model_id": "b510cd78ed024612bd68197793cb73e5",
       "version_major": 2,
       "version_minor": 0
      },
      "text/plain": [
       "training batch:   0%|          | 0/35 [00:00<?, ?it/s]"
      ]
     },
     "metadata": {},
     "output_type": "display_data"
    },
    {
     "data": {
      "application/vnd.jupyter.widget-view+json": {
       "model_id": "d9267e5594de437695c98a8d45f5e9f8",
       "version_major": 2,
       "version_minor": 0
      },
      "text/plain": [
       "eval batch:   0%|          | 0/8 [00:00<?, ?it/s]"
      ]
     },
     "metadata": {},
     "output_type": "display_data"
    },
    {
     "data": {
      "application/vnd.jupyter.widget-view+json": {
       "model_id": "93b77eebfc054bb7b5a4534e79b3d0f8",
       "version_major": 2,
       "version_minor": 0
      },
      "text/plain": [
       "training batch:   0%|          | 0/35 [00:00<?, ?it/s]"
      ]
     },
     "metadata": {},
     "output_type": "display_data"
    },
    {
     "data": {
      "application/vnd.jupyter.widget-view+json": {
       "model_id": "4ab4741c41774433b407e7659c2316ab",
       "version_major": 2,
       "version_minor": 0
      },
      "text/plain": [
       "eval batch:   0%|          | 0/8 [00:00<?, ?it/s]"
      ]
     },
     "metadata": {},
     "output_type": "display_data"
    },
    {
     "data": {
      "application/vnd.jupyter.widget-view+json": {
       "model_id": "53e1cc2e969c40fcb4073af1970aeefa",
       "version_major": 2,
       "version_minor": 0
      },
      "text/plain": [
       "training batch:   0%|          | 0/35 [00:00<?, ?it/s]"
      ]
     },
     "metadata": {},
     "output_type": "display_data"
    },
    {
     "data": {
      "application/vnd.jupyter.widget-view+json": {
       "model_id": "015afec26c6a4bd18db8a0b7a958ed76",
       "version_major": 2,
       "version_minor": 0
      },
      "text/plain": [
       "eval batch:   0%|          | 0/8 [00:00<?, ?it/s]"
      ]
     },
     "metadata": {},
     "output_type": "display_data"
    },
    {
     "data": {
      "application/vnd.jupyter.widget-view+json": {
       "model_id": "8095d000d68f442ea03a5c4d42a34ac1",
       "version_major": 2,
       "version_minor": 0
      },
      "text/plain": [
       "training batch:   0%|          | 0/35 [00:00<?, ?it/s]"
      ]
     },
     "metadata": {},
     "output_type": "display_data"
    },
    {
     "data": {
      "application/vnd.jupyter.widget-view+json": {
       "model_id": "cde9523e05f24a159afbbaf51c336e2f",
       "version_major": 2,
       "version_minor": 0
      },
      "text/plain": [
       "eval batch:   0%|          | 0/8 [00:00<?, ?it/s]"
      ]
     },
     "metadata": {},
     "output_type": "display_data"
    },
    {
     "data": {
      "application/vnd.jupyter.widget-view+json": {
       "model_id": "ffbc2890f1cc4d4c8549e7dc84bcad49",
       "version_major": 2,
       "version_minor": 0
      },
      "text/plain": [
       "training batch:   0%|          | 0/35 [00:00<?, ?it/s]"
      ]
     },
     "metadata": {},
     "output_type": "display_data"
    },
    {
     "data": {
      "application/vnd.jupyter.widget-view+json": {
       "model_id": "11918bae8d524b7c921cd68f83f57dff",
       "version_major": 2,
       "version_minor": 0
      },
      "text/plain": [
       "eval batch:   0%|          | 0/8 [00:00<?, ?it/s]"
      ]
     },
     "metadata": {},
     "output_type": "display_data"
    },
    {
     "data": {
      "application/vnd.jupyter.widget-view+json": {
       "model_id": "6c73aed742bd4a9fa8f06ad7677f5ffb",
       "version_major": 2,
       "version_minor": 0
      },
      "text/plain": [
       "training batch:   0%|          | 0/35 [00:00<?, ?it/s]"
      ]
     },
     "metadata": {},
     "output_type": "display_data"
    },
    {
     "data": {
      "application/vnd.jupyter.widget-view+json": {
       "model_id": "2e2e07737d1e4ebbb95a74c05eea29ea",
       "version_major": 2,
       "version_minor": 0
      },
      "text/plain": [
       "eval batch:   0%|          | 0/8 [00:00<?, ?it/s]"
      ]
     },
     "metadata": {},
     "output_type": "display_data"
    },
    {
     "data": {
      "application/vnd.jupyter.widget-view+json": {
       "model_id": "1abc8e14b48f440e96d77772124272f7",
       "version_major": 2,
       "version_minor": 0
      },
      "text/plain": [
       "training batch:   0%|          | 0/35 [00:00<?, ?it/s]"
      ]
     },
     "metadata": {},
     "output_type": "display_data"
    },
    {
     "data": {
      "application/vnd.jupyter.widget-view+json": {
       "model_id": "54ed0040cad64f6dad05bbd4bc0ecd26",
       "version_major": 2,
       "version_minor": 0
      },
      "text/plain": [
       "eval batch:   0%|          | 0/8 [00:00<?, ?it/s]"
      ]
     },
     "metadata": {},
     "output_type": "display_data"
    },
    {
     "data": {
      "application/vnd.jupyter.widget-view+json": {
       "model_id": "cb1a16c892e745478a2611177b9207bc",
       "version_major": 2,
       "version_minor": 0
      },
      "text/plain": [
       "training batch:   0%|          | 0/35 [00:00<?, ?it/s]"
      ]
     },
     "metadata": {},
     "output_type": "display_data"
    },
    {
     "data": {
      "application/vnd.jupyter.widget-view+json": {
       "model_id": "f00608a94bbc4936979fcf8c9d1afbf3",
       "version_major": 2,
       "version_minor": 0
      },
      "text/plain": [
       "eval batch:   0%|          | 0/8 [00:00<?, ?it/s]"
      ]
     },
     "metadata": {},
     "output_type": "display_data"
    },
    {
     "data": {
      "application/vnd.jupyter.widget-view+json": {
       "model_id": "a516dc44a0194a9fbd723c187f6cb797",
       "version_major": 2,
       "version_minor": 0
      },
      "text/plain": [
       "training batch:   0%|          | 0/35 [00:00<?, ?it/s]"
      ]
     },
     "metadata": {},
     "output_type": "display_data"
    },
    {
     "data": {
      "application/vnd.jupyter.widget-view+json": {
       "model_id": "60f8ac72449f4c57a784f68892be8b84",
       "version_major": 2,
       "version_minor": 0
      },
      "text/plain": [
       "eval batch:   0%|          | 0/8 [00:00<?, ?it/s]"
      ]
     },
     "metadata": {},
     "output_type": "display_data"
    },
    {
     "data": {
      "application/vnd.jupyter.widget-view+json": {
       "model_id": "1a79708df879430abee73592c6c0f062",
       "version_major": 2,
       "version_minor": 0
      },
      "text/plain": [
       "training batch:   0%|          | 0/35 [00:00<?, ?it/s]"
      ]
     },
     "metadata": {},
     "output_type": "display_data"
    },
    {
     "data": {
      "application/vnd.jupyter.widget-view+json": {
       "model_id": "e7de482b6b4a41e6a971711269b69275",
       "version_major": 2,
       "version_minor": 0
      },
      "text/plain": [
       "eval batch:   0%|          | 0/8 [00:00<?, ?it/s]"
      ]
     },
     "metadata": {},
     "output_type": "display_data"
    },
    {
     "data": {
      "application/vnd.jupyter.widget-view+json": {
       "model_id": "fb722f353cf34e66b42a34b7047251c8",
       "version_major": 2,
       "version_minor": 0
      },
      "text/plain": [
       "training batch:   0%|          | 0/35 [00:00<?, ?it/s]"
      ]
     },
     "metadata": {},
     "output_type": "display_data"
    },
    {
     "data": {
      "application/vnd.jupyter.widget-view+json": {
       "model_id": "5b23f5ad4e2e44838295976c4db31d24",
       "version_major": 2,
       "version_minor": 0
      },
      "text/plain": [
       "eval batch:   0%|          | 0/8 [00:00<?, ?it/s]"
      ]
     },
     "metadata": {},
     "output_type": "display_data"
    },
    {
     "data": {
      "application/vnd.jupyter.widget-view+json": {
       "model_id": "2cff897fd6b8491082ed44eb8113ea8a",
       "version_major": 2,
       "version_minor": 0
      },
      "text/plain": [
       "training batch:   0%|          | 0/35 [00:00<?, ?it/s]"
      ]
     },
     "metadata": {},
     "output_type": "display_data"
    },
    {
     "data": {
      "application/vnd.jupyter.widget-view+json": {
       "model_id": "bfd337a4df0240d5bd2d102d5d69abac",
       "version_major": 2,
       "version_minor": 0
      },
      "text/plain": [
       "eval batch:   0%|          | 0/8 [00:00<?, ?it/s]"
      ]
     },
     "metadata": {},
     "output_type": "display_data"
    },
    {
     "data": {
      "application/vnd.jupyter.widget-view+json": {
       "model_id": "bd3cbc0afaaa44a7afc2bbfa45a87f0d",
       "version_major": 2,
       "version_minor": 0
      },
      "text/plain": [
       "training batch:   0%|          | 0/35 [00:00<?, ?it/s]"
      ]
     },
     "metadata": {},
     "output_type": "display_data"
    },
    {
     "data": {
      "application/vnd.jupyter.widget-view+json": {
       "model_id": "819bf44fc2d843078998cfeb206ad302",
       "version_major": 2,
       "version_minor": 0
      },
      "text/plain": [
       "eval batch:   0%|          | 0/8 [00:00<?, ?it/s]"
      ]
     },
     "metadata": {},
     "output_type": "display_data"
    },
    {
     "data": {
      "application/vnd.jupyter.widget-view+json": {
       "model_id": "b47ad40ea4c1422fb7d4a447f80711f9",
       "version_major": 2,
       "version_minor": 0
      },
      "text/plain": [
       "training batch:   0%|          | 0/35 [00:00<?, ?it/s]"
      ]
     },
     "metadata": {},
     "output_type": "display_data"
    },
    {
     "data": {
      "application/vnd.jupyter.widget-view+json": {
       "model_id": "68862fa200354486addefbe7e4bba683",
       "version_major": 2,
       "version_minor": 0
      },
      "text/plain": [
       "eval batch:   0%|          | 0/8 [00:00<?, ?it/s]"
      ]
     },
     "metadata": {},
     "output_type": "display_data"
    },
    {
     "data": {
      "application/vnd.jupyter.widget-view+json": {
       "model_id": "e684096e78174b6fb4a9d1c66a76d5b3",
       "version_major": 2,
       "version_minor": 0
      },
      "text/plain": [
       "training batch:   0%|          | 0/35 [00:00<?, ?it/s]"
      ]
     },
     "metadata": {},
     "output_type": "display_data"
    },
    {
     "data": {
      "application/vnd.jupyter.widget-view+json": {
       "model_id": "0593d7dca748450cabfed9457a9b7f36",
       "version_major": 2,
       "version_minor": 0
      },
      "text/plain": [
       "eval batch:   0%|          | 0/8 [00:00<?, ?it/s]"
      ]
     },
     "metadata": {},
     "output_type": "display_data"
    },
    {
     "data": {
      "application/vnd.jupyter.widget-view+json": {
       "model_id": "c81b4cb72b1e40949091cd8b7735a4e4",
       "version_major": 2,
       "version_minor": 0
      },
      "text/plain": [
       "training batch:   0%|          | 0/35 [00:00<?, ?it/s]"
      ]
     },
     "metadata": {},
     "output_type": "display_data"
    },
    {
     "data": {
      "application/vnd.jupyter.widget-view+json": {
       "model_id": "8a45044d74cf40d8b39d1cb115c151fa",
       "version_major": 2,
       "version_minor": 0
      },
      "text/plain": [
       "eval batch:   0%|          | 0/8 [00:00<?, ?it/s]"
      ]
     },
     "metadata": {},
     "output_type": "display_data"
    },
    {
     "data": {
      "application/vnd.jupyter.widget-view+json": {
       "model_id": "b1226c8694474f3a83f2cae6e34dadda",
       "version_major": 2,
       "version_minor": 0
      },
      "text/plain": [
       "training batch:   0%|          | 0/35 [00:00<?, ?it/s]"
      ]
     },
     "metadata": {},
     "output_type": "display_data"
    },
    {
     "data": {
      "application/vnd.jupyter.widget-view+json": {
       "model_id": "c2b73052ad5344c3ae519f3cea2236a9",
       "version_major": 2,
       "version_minor": 0
      },
      "text/plain": [
       "eval batch:   0%|          | 0/8 [00:00<?, ?it/s]"
      ]
     },
     "metadata": {},
     "output_type": "display_data"
    },
    {
     "data": {
      "application/vnd.jupyter.widget-view+json": {
       "model_id": "4d797e74dd394aa0bf9d0f4c49cdd394",
       "version_major": 2,
       "version_minor": 0
      },
      "text/plain": [
       "training batch:   0%|          | 0/35 [00:00<?, ?it/s]"
      ]
     },
     "metadata": {},
     "output_type": "display_data"
    },
    {
     "data": {
      "application/vnd.jupyter.widget-view+json": {
       "model_id": "a0b13157efd6464b9ee9ba15511ba715",
       "version_major": 2,
       "version_minor": 0
      },
      "text/plain": [
       "eval batch:   0%|          | 0/8 [00:00<?, ?it/s]"
      ]
     },
     "metadata": {},
     "output_type": "display_data"
    },
    {
     "data": {
      "application/vnd.jupyter.widget-view+json": {
       "model_id": "84afb9ff15d744e4ab5b5e1e09383c70",
       "version_major": 2,
       "version_minor": 0
      },
      "text/plain": [
       "training batch:   0%|          | 0/35 [00:00<?, ?it/s]"
      ]
     },
     "metadata": {},
     "output_type": "display_data"
    },
    {
     "data": {
      "application/vnd.jupyter.widget-view+json": {
       "model_id": "33cf8a0275af429bb76c2f54eef749d4",
       "version_major": 2,
       "version_minor": 0
      },
      "text/plain": [
       "eval batch:   0%|          | 0/8 [00:00<?, ?it/s]"
      ]
     },
     "metadata": {},
     "output_type": "display_data"
    },
    {
     "data": {
      "application/vnd.jupyter.widget-view+json": {
       "model_id": "2dfe0318275145a88b1aa0983f332c7c",
       "version_major": 2,
       "version_minor": 0
      },
      "text/plain": [
       "training batch:   0%|          | 0/35 [00:00<?, ?it/s]"
      ]
     },
     "metadata": {},
     "output_type": "display_data"
    },
    {
     "data": {
      "application/vnd.jupyter.widget-view+json": {
       "model_id": "e6a35317c77843e3b729d4954f2201ff",
       "version_major": 2,
       "version_minor": 0
      },
      "text/plain": [
       "eval batch:   0%|          | 0/8 [00:00<?, ?it/s]"
      ]
     },
     "metadata": {},
     "output_type": "display_data"
    },
    {
     "data": {
      "application/vnd.jupyter.widget-view+json": {
       "model_id": "49b8c126f4664ef98992331a49c2a6cd",
       "version_major": 2,
       "version_minor": 0
      },
      "text/plain": [
       "training batch:   0%|          | 0/35 [00:00<?, ?it/s]"
      ]
     },
     "metadata": {},
     "output_type": "display_data"
    },
    {
     "data": {
      "application/vnd.jupyter.widget-view+json": {
       "model_id": "366924ebc36447739bf104187d15815f",
       "version_major": 2,
       "version_minor": 0
      },
      "text/plain": [
       "eval batch:   0%|          | 0/8 [00:00<?, ?it/s]"
      ]
     },
     "metadata": {},
     "output_type": "display_data"
    },
    {
     "data": {
      "application/vnd.jupyter.widget-view+json": {
       "model_id": "13cae9fcac6149ba8a0f5a6ae1105272",
       "version_major": 2,
       "version_minor": 0
      },
      "text/plain": [
       "training batch:   0%|          | 0/35 [00:00<?, ?it/s]"
      ]
     },
     "metadata": {},
     "output_type": "display_data"
    },
    {
     "data": {
      "application/vnd.jupyter.widget-view+json": {
       "model_id": "2eb3ed9406b845e9a322eeca46ada182",
       "version_major": 2,
       "version_minor": 0
      },
      "text/plain": [
       "eval batch:   0%|          | 0/8 [00:00<?, ?it/s]"
      ]
     },
     "metadata": {},
     "output_type": "display_data"
    },
    {
     "data": {
      "application/vnd.jupyter.widget-view+json": {
       "model_id": "2dd743424b9e40539ce9dd98cbffe46b",
       "version_major": 2,
       "version_minor": 0
      },
      "text/plain": [
       "training batch:   0%|          | 0/35 [00:00<?, ?it/s]"
      ]
     },
     "metadata": {},
     "output_type": "display_data"
    },
    {
     "data": {
      "application/vnd.jupyter.widget-view+json": {
       "model_id": "962d1e6915a54426b2ce942c3b5df8e3",
       "version_major": 2,
       "version_minor": 0
      },
      "text/plain": [
       "eval batch:   0%|          | 0/8 [00:00<?, ?it/s]"
      ]
     },
     "metadata": {},
     "output_type": "display_data"
    },
    {
     "data": {
      "application/vnd.jupyter.widget-view+json": {
       "model_id": "03fafef279e8430782ef29dc84a6eba6",
       "version_major": 2,
       "version_minor": 0
      },
      "text/plain": [
       "training batch:   0%|          | 0/35 [00:00<?, ?it/s]"
      ]
     },
     "metadata": {},
     "output_type": "display_data"
    },
    {
     "data": {
      "application/vnd.jupyter.widget-view+json": {
       "model_id": "5ceaca76fbb04435978b6c1bb78b3411",
       "version_major": 2,
       "version_minor": 0
      },
      "text/plain": [
       "eval batch:   0%|          | 0/8 [00:00<?, ?it/s]"
      ]
     },
     "metadata": {},
     "output_type": "display_data"
    },
    {
     "data": {
      "application/vnd.jupyter.widget-view+json": {
       "model_id": "cf186598b03e46ddb1fbcee9fb9fbdd8",
       "version_major": 2,
       "version_minor": 0
      },
      "text/plain": [
       "training batch:   0%|          | 0/35 [00:00<?, ?it/s]"
      ]
     },
     "metadata": {},
     "output_type": "display_data"
    },
    {
     "data": {
      "application/vnd.jupyter.widget-view+json": {
       "model_id": "8dbdcc8efa4740f38770a88566d1067f",
       "version_major": 2,
       "version_minor": 0
      },
      "text/plain": [
       "eval batch:   0%|          | 0/8 [00:00<?, ?it/s]"
      ]
     },
     "metadata": {},
     "output_type": "display_data"
    },
    {
     "data": {
      "application/vnd.jupyter.widget-view+json": {
       "model_id": "441577060dbc48cb858eca4bee57e50d",
       "version_major": 2,
       "version_minor": 0
      },
      "text/plain": [
       "training batch:   0%|          | 0/35 [00:00<?, ?it/s]"
      ]
     },
     "metadata": {},
     "output_type": "display_data"
    },
    {
     "data": {
      "application/vnd.jupyter.widget-view+json": {
       "model_id": "a7fbb7b77dcd42af8c47b55929151e6e",
       "version_major": 2,
       "version_minor": 0
      },
      "text/plain": [
       "eval batch:   0%|          | 0/8 [00:00<?, ?it/s]"
      ]
     },
     "metadata": {},
     "output_type": "display_data"
    },
    {
     "data": {
      "application/vnd.jupyter.widget-view+json": {
       "model_id": "2ec3f56294384de19fd82e4ab1e84d7f",
       "version_major": 2,
       "version_minor": 0
      },
      "text/plain": [
       "training batch:   0%|          | 0/35 [00:00<?, ?it/s]"
      ]
     },
     "metadata": {},
     "output_type": "display_data"
    },
    {
     "data": {
      "application/vnd.jupyter.widget-view+json": {
       "model_id": "c5d26b9f556143b19dd9c0be2b41491f",
       "version_major": 2,
       "version_minor": 0
      },
      "text/plain": [
       "eval batch:   0%|          | 0/8 [00:00<?, ?it/s]"
      ]
     },
     "metadata": {},
     "output_type": "display_data"
    },
    {
     "data": {
      "application/vnd.jupyter.widget-view+json": {
       "model_id": "3298e5fb187749ad926edef8c5cda873",
       "version_major": 2,
       "version_minor": 0
      },
      "text/plain": [
       "training batch:   0%|          | 0/35 [00:00<?, ?it/s]"
      ]
     },
     "metadata": {},
     "output_type": "display_data"
    },
    {
     "data": {
      "application/vnd.jupyter.widget-view+json": {
       "model_id": "236ab3f3fa3143a69117e85d87348166",
       "version_major": 2,
       "version_minor": 0
      },
      "text/plain": [
       "eval batch:   0%|          | 0/8 [00:00<?, ?it/s]"
      ]
     },
     "metadata": {},
     "output_type": "display_data"
    },
    {
     "data": {
      "application/vnd.jupyter.widget-view+json": {
       "model_id": "25348a6793a14841b3c6009c042f6870",
       "version_major": 2,
       "version_minor": 0
      },
      "text/plain": [
       "training batch:   0%|          | 0/35 [00:00<?, ?it/s]"
      ]
     },
     "metadata": {},
     "output_type": "display_data"
    },
    {
     "data": {
      "application/vnd.jupyter.widget-view+json": {
       "model_id": "b7a5535a87c644b2bbfce77312b55a5d",
       "version_major": 2,
       "version_minor": 0
      },
      "text/plain": [
       "eval batch:   0%|          | 0/8 [00:00<?, ?it/s]"
      ]
     },
     "metadata": {},
     "output_type": "display_data"
    },
    {
     "data": {
      "application/vnd.jupyter.widget-view+json": {
       "model_id": "8818c3b4007448a7b00e67a711a35cdb",
       "version_major": 2,
       "version_minor": 0
      },
      "text/plain": [
       "training batch:   0%|          | 0/35 [00:00<?, ?it/s]"
      ]
     },
     "metadata": {},
     "output_type": "display_data"
    },
    {
     "data": {
      "application/vnd.jupyter.widget-view+json": {
       "model_id": "010d8a794a66442fb2a3e0b3380266ec",
       "version_major": 2,
       "version_minor": 0
      },
      "text/plain": [
       "eval batch:   0%|          | 0/8 [00:00<?, ?it/s]"
      ]
     },
     "metadata": {},
     "output_type": "display_data"
    },
    {
     "data": {
      "application/vnd.jupyter.widget-view+json": {
       "model_id": "2cdccfaee04447e58761cda3713b5ebf",
       "version_major": 2,
       "version_minor": 0
      },
      "text/plain": [
       "training batch:   0%|          | 0/35 [00:00<?, ?it/s]"
      ]
     },
     "metadata": {},
     "output_type": "display_data"
    },
    {
     "data": {
      "application/vnd.jupyter.widget-view+json": {
       "model_id": "d60dc3abda354ec6852408da3a2dd225",
       "version_major": 2,
       "version_minor": 0
      },
      "text/plain": [
       "eval batch:   0%|          | 0/8 [00:00<?, ?it/s]"
      ]
     },
     "metadata": {},
     "output_type": "display_data"
    },
    {
     "data": {
      "application/vnd.jupyter.widget-view+json": {
       "model_id": "cac27dec20a94e8eadf477caeb8c09ce",
       "version_major": 2,
       "version_minor": 0
      },
      "text/plain": [
       "training batch:   0%|          | 0/35 [00:00<?, ?it/s]"
      ]
     },
     "metadata": {},
     "output_type": "display_data"
    },
    {
     "data": {
      "application/vnd.jupyter.widget-view+json": {
       "model_id": "4ffcfc3517924fbab5fe809592d98755",
       "version_major": 2,
       "version_minor": 0
      },
      "text/plain": [
       "eval batch:   0%|          | 0/8 [00:00<?, ?it/s]"
      ]
     },
     "metadata": {},
     "output_type": "display_data"
    },
    {
     "data": {
      "application/vnd.jupyter.widget-view+json": {
       "model_id": "9b5c4318b71042c19135763d45ef59c3",
       "version_major": 2,
       "version_minor": 0
      },
      "text/plain": [
       "training batch:   0%|          | 0/35 [00:00<?, ?it/s]"
      ]
     },
     "metadata": {},
     "output_type": "display_data"
    },
    {
     "data": {
      "application/vnd.jupyter.widget-view+json": {
       "model_id": "a88ec6b1d1504bc594a1a5663197140c",
       "version_major": 2,
       "version_minor": 0
      },
      "text/plain": [
       "eval batch:   0%|          | 0/8 [00:00<?, ?it/s]"
      ]
     },
     "metadata": {},
     "output_type": "display_data"
    },
    {
     "data": {
      "application/vnd.jupyter.widget-view+json": {
       "model_id": "529f839cf8fd42c9a3ae225f5d229ad1",
       "version_major": 2,
       "version_minor": 0
      },
      "text/plain": [
       "training batch:   0%|          | 0/35 [00:00<?, ?it/s]"
      ]
     },
     "metadata": {},
     "output_type": "display_data"
    },
    {
     "data": {
      "application/vnd.jupyter.widget-view+json": {
       "model_id": "bb7371ea712348168fbc46496b3ec3b3",
       "version_major": 2,
       "version_minor": 0
      },
      "text/plain": [
       "eval batch:   0%|          | 0/8 [00:00<?, ?it/s]"
      ]
     },
     "metadata": {},
     "output_type": "display_data"
    },
    {
     "data": {
      "application/vnd.jupyter.widget-view+json": {
       "model_id": "87b2c4f84ce2408cbf23cb76b5d7867b",
       "version_major": 2,
       "version_minor": 0
      },
      "text/plain": [
       "training batch:   0%|          | 0/35 [00:00<?, ?it/s]"
      ]
     },
     "metadata": {},
     "output_type": "display_data"
    },
    {
     "data": {
      "application/vnd.jupyter.widget-view+json": {
       "model_id": "c8053ab373694a2ca840212bbe7ca188",
       "version_major": 2,
       "version_minor": 0
      },
      "text/plain": [
       "eval batch:   0%|          | 0/8 [00:00<?, ?it/s]"
      ]
     },
     "metadata": {},
     "output_type": "display_data"
    },
    {
     "data": {
      "application/vnd.jupyter.widget-view+json": {
       "model_id": "67ea4e8fe60a4432a7eea30b914f6e0d",
       "version_major": 2,
       "version_minor": 0
      },
      "text/plain": [
       "training batch:   0%|          | 0/35 [00:00<?, ?it/s]"
      ]
     },
     "metadata": {},
     "output_type": "display_data"
    },
    {
     "data": {
      "application/vnd.jupyter.widget-view+json": {
       "model_id": "be1540b532334e49bd735588aa8c1897",
       "version_major": 2,
       "version_minor": 0
      },
      "text/plain": [
       "eval batch:   0%|          | 0/8 [00:00<?, ?it/s]"
      ]
     },
     "metadata": {},
     "output_type": "display_data"
    },
    {
     "data": {
      "application/vnd.jupyter.widget-view+json": {
       "model_id": "ec2621182b6b4a1e89582092992ca368",
       "version_major": 2,
       "version_minor": 0
      },
      "text/plain": [
       "training batch:   0%|          | 0/35 [00:00<?, ?it/s]"
      ]
     },
     "metadata": {},
     "output_type": "display_data"
    },
    {
     "data": {
      "application/vnd.jupyter.widget-view+json": {
       "model_id": "6dba763f0f31404e872f8d565b1877e2",
       "version_major": 2,
       "version_minor": 0
      },
      "text/plain": [
       "eval batch:   0%|          | 0/8 [00:00<?, ?it/s]"
      ]
     },
     "metadata": {},
     "output_type": "display_data"
    },
    {
     "data": {
      "application/vnd.jupyter.widget-view+json": {
       "model_id": "1acd70c0f3134e9397cc4808fa0a19d8",
       "version_major": 2,
       "version_minor": 0
      },
      "text/plain": [
       "training batch:   0%|          | 0/35 [00:00<?, ?it/s]"
      ]
     },
     "metadata": {},
     "output_type": "display_data"
    },
    {
     "data": {
      "application/vnd.jupyter.widget-view+json": {
       "model_id": "13a1d76e3c8c4e8c963ab95ea9f632cb",
       "version_major": 2,
       "version_minor": 0
      },
      "text/plain": [
       "eval batch:   0%|          | 0/8 [00:00<?, ?it/s]"
      ]
     },
     "metadata": {},
     "output_type": "display_data"
    },
    {
     "data": {
      "application/vnd.jupyter.widget-view+json": {
       "model_id": "42bf5634dbe24b3688c4d6e10d8d111e",
       "version_major": 2,
       "version_minor": 0
      },
      "text/plain": [
       "training batch:   0%|          | 0/35 [00:00<?, ?it/s]"
      ]
     },
     "metadata": {},
     "output_type": "display_data"
    },
    {
     "data": {
      "application/vnd.jupyter.widget-view+json": {
       "model_id": "e368828b27fd4cc1940d99c5dcfd064d",
       "version_major": 2,
       "version_minor": 0
      },
      "text/plain": [
       "eval batch:   0%|          | 0/8 [00:00<?, ?it/s]"
      ]
     },
     "metadata": {},
     "output_type": "display_data"
    },
    {
     "data": {
      "application/vnd.jupyter.widget-view+json": {
       "model_id": "d16ddb074a9a4b9a8a9bdeb9f92859f4",
       "version_major": 2,
       "version_minor": 0
      },
      "text/plain": [
       "training batch:   0%|          | 0/35 [00:00<?, ?it/s]"
      ]
     },
     "metadata": {},
     "output_type": "display_data"
    },
    {
     "data": {
      "application/vnd.jupyter.widget-view+json": {
       "model_id": "eba474eb832e477ba46badd0cf557d8e",
       "version_major": 2,
       "version_minor": 0
      },
      "text/plain": [
       "eval batch:   0%|          | 0/8 [00:00<?, ?it/s]"
      ]
     },
     "metadata": {},
     "output_type": "display_data"
    },
    {
     "data": {
      "application/vnd.jupyter.widget-view+json": {
       "model_id": "378bd4f9631249d789208acf55865eac",
       "version_major": 2,
       "version_minor": 0
      },
      "text/plain": [
       "training batch:   0%|          | 0/35 [00:00<?, ?it/s]"
      ]
     },
     "metadata": {},
     "output_type": "display_data"
    },
    {
     "data": {
      "application/vnd.jupyter.widget-view+json": {
       "model_id": "c16cce39859c432d8dcec70dab612368",
       "version_major": 2,
       "version_minor": 0
      },
      "text/plain": [
       "eval batch:   0%|          | 0/8 [00:00<?, ?it/s]"
      ]
     },
     "metadata": {},
     "output_type": "display_data"
    },
    {
     "data": {
      "application/vnd.jupyter.widget-view+json": {
       "model_id": "b057c238201a4aacb58938140d91dd97",
       "version_major": 2,
       "version_minor": 0
      },
      "text/plain": [
       "training batch:   0%|          | 0/35 [00:00<?, ?it/s]"
      ]
     },
     "metadata": {},
     "output_type": "display_data"
    },
    {
     "data": {
      "application/vnd.jupyter.widget-view+json": {
       "model_id": "8b33bee4163249c9b9ad82dff2c9b0e9",
       "version_major": 2,
       "version_minor": 0
      },
      "text/plain": [
       "eval batch:   0%|          | 0/8 [00:00<?, ?it/s]"
      ]
     },
     "metadata": {},
     "output_type": "display_data"
    },
    {
     "data": {
      "application/vnd.jupyter.widget-view+json": {
       "model_id": "878606649c374c148a0bc19b353d5412",
       "version_major": 2,
       "version_minor": 0
      },
      "text/plain": [
       "training batch:   0%|          | 0/35 [00:00<?, ?it/s]"
      ]
     },
     "metadata": {},
     "output_type": "display_data"
    },
    {
     "data": {
      "application/vnd.jupyter.widget-view+json": {
       "model_id": "85c2bcfe2ebf4436938ee422a51079dd",
       "version_major": 2,
       "version_minor": 0
      },
      "text/plain": [
       "eval batch:   0%|          | 0/8 [00:00<?, ?it/s]"
      ]
     },
     "metadata": {},
     "output_type": "display_data"
    },
    {
     "data": {
      "application/vnd.jupyter.widget-view+json": {
       "model_id": "e08872a2830d4546b0cbdf825d681170",
       "version_major": 2,
       "version_minor": 0
      },
      "text/plain": [
       "training batch:   0%|          | 0/35 [00:00<?, ?it/s]"
      ]
     },
     "metadata": {},
     "output_type": "display_data"
    },
    {
     "data": {
      "application/vnd.jupyter.widget-view+json": {
       "model_id": "9303c2a351b8437987cdc58a5a7c9eff",
       "version_major": 2,
       "version_minor": 0
      },
      "text/plain": [
       "eval batch:   0%|          | 0/8 [00:00<?, ?it/s]"
      ]
     },
     "metadata": {},
     "output_type": "display_data"
    },
    {
     "data": {
      "application/vnd.jupyter.widget-view+json": {
       "model_id": "4d6c29d909fd4e8893b941f5557dc7db",
       "version_major": 2,
       "version_minor": 0
      },
      "text/plain": [
       "training batch:   0%|          | 0/35 [00:00<?, ?it/s]"
      ]
     },
     "metadata": {},
     "output_type": "display_data"
    },
    {
     "data": {
      "application/vnd.jupyter.widget-view+json": {
       "model_id": "7c1daa79dd8348e4b2054ae788a32ff4",
       "version_major": 2,
       "version_minor": 0
      },
      "text/plain": [
       "eval batch:   0%|          | 0/8 [00:00<?, ?it/s]"
      ]
     },
     "metadata": {},
     "output_type": "display_data"
    },
    {
     "data": {
      "application/vnd.jupyter.widget-view+json": {
       "model_id": "d77fcefe9f4c46ca91fcedadd9562c55",
       "version_major": 2,
       "version_minor": 0
      },
      "text/plain": [
       "training batch:   0%|          | 0/35 [00:00<?, ?it/s]"
      ]
     },
     "metadata": {},
     "output_type": "display_data"
    },
    {
     "data": {
      "application/vnd.jupyter.widget-view+json": {
       "model_id": "dbdfce90958b4636896c494cd4743226",
       "version_major": 2,
       "version_minor": 0
      },
      "text/plain": [
       "eval batch:   0%|          | 0/8 [00:00<?, ?it/s]"
      ]
     },
     "metadata": {},
     "output_type": "display_data"
    },
    {
     "data": {
      "application/vnd.jupyter.widget-view+json": {
       "model_id": "bd77a44457044d3f994557f059e466f1",
       "version_major": 2,
       "version_minor": 0
      },
      "text/plain": [
       "training batch:   0%|          | 0/35 [00:00<?, ?it/s]"
      ]
     },
     "metadata": {},
     "output_type": "display_data"
    },
    {
     "data": {
      "application/vnd.jupyter.widget-view+json": {
       "model_id": "f69c6401470843b5b48938bdb20f6282",
       "version_major": 2,
       "version_minor": 0
      },
      "text/plain": [
       "eval batch:   0%|          | 0/8 [00:00<?, ?it/s]"
      ]
     },
     "metadata": {},
     "output_type": "display_data"
    },
    {
     "data": {
      "application/vnd.jupyter.widget-view+json": {
       "model_id": "65168aa8bb0b4aee8c2350d9cb3fc351",
       "version_major": 2,
       "version_minor": 0
      },
      "text/plain": [
       "training batch:   0%|          | 0/35 [00:00<?, ?it/s]"
      ]
     },
     "metadata": {},
     "output_type": "display_data"
    },
    {
     "data": {
      "application/vnd.jupyter.widget-view+json": {
       "model_id": "56ff6f743bc24850bbab9bfea7f37663",
       "version_major": 2,
       "version_minor": 0
      },
      "text/plain": [
       "eval batch:   0%|          | 0/8 [00:00<?, ?it/s]"
      ]
     },
     "metadata": {},
     "output_type": "display_data"
    },
    {
     "data": {
      "application/vnd.jupyter.widget-view+json": {
       "model_id": "5fd0469c261e498587c17580a015faca",
       "version_major": 2,
       "version_minor": 0
      },
      "text/plain": [
       "training batch:   0%|          | 0/35 [00:00<?, ?it/s]"
      ]
     },
     "metadata": {},
     "output_type": "display_data"
    },
    {
     "data": {
      "application/vnd.jupyter.widget-view+json": {
       "model_id": "012cda1e4a114ae5b0a47f887f40ec97",
       "version_major": 2,
       "version_minor": 0
      },
      "text/plain": [
       "eval batch:   0%|          | 0/8 [00:00<?, ?it/s]"
      ]
     },
     "metadata": {},
     "output_type": "display_data"
    },
    {
     "data": {
      "application/vnd.jupyter.widget-view+json": {
       "model_id": "4dfbf884e5894ccf8494f02422aba879",
       "version_major": 2,
       "version_minor": 0
      },
      "text/plain": [
       "training batch:   0%|          | 0/35 [00:00<?, ?it/s]"
      ]
     },
     "metadata": {},
     "output_type": "display_data"
    },
    {
     "data": {
      "application/vnd.jupyter.widget-view+json": {
       "model_id": "63872081770c436f8e8253a1eb1e3325",
       "version_major": 2,
       "version_minor": 0
      },
      "text/plain": [
       "eval batch:   0%|          | 0/8 [00:00<?, ?it/s]"
      ]
     },
     "metadata": {},
     "output_type": "display_data"
    },
    {
     "data": {
      "application/vnd.jupyter.widget-view+json": {
       "model_id": "c698b1083ee84a559064973b2c406a6d",
       "version_major": 2,
       "version_minor": 0
      },
      "text/plain": [
       "training batch:   0%|          | 0/35 [00:00<?, ?it/s]"
      ]
     },
     "metadata": {},
     "output_type": "display_data"
    },
    {
     "data": {
      "application/vnd.jupyter.widget-view+json": {
       "model_id": "10768f567df54d949460eff9f08ccf74",
       "version_major": 2,
       "version_minor": 0
      },
      "text/plain": [
       "eval batch:   0%|          | 0/8 [00:00<?, ?it/s]"
      ]
     },
     "metadata": {},
     "output_type": "display_data"
    },
    {
     "data": {
      "application/vnd.jupyter.widget-view+json": {
       "model_id": "8cebb786f45a4b52898c7b264d774ff0",
       "version_major": 2,
       "version_minor": 0
      },
      "text/plain": [
       "training batch:   0%|          | 0/35 [00:00<?, ?it/s]"
      ]
     },
     "metadata": {},
     "output_type": "display_data"
    },
    {
     "data": {
      "application/vnd.jupyter.widget-view+json": {
       "model_id": "b4aa466c8b314d0ea67cf1a94449f754",
       "version_major": 2,
       "version_minor": 0
      },
      "text/plain": [
       "eval batch:   0%|          | 0/8 [00:00<?, ?it/s]"
      ]
     },
     "metadata": {},
     "output_type": "display_data"
    },
    {
     "data": {
      "application/vnd.jupyter.widget-view+json": {
       "model_id": "37105eca27d44bd785eaf5c899469317",
       "version_major": 2,
       "version_minor": 0
      },
      "text/plain": [
       "training batch:   0%|          | 0/35 [00:00<?, ?it/s]"
      ]
     },
     "metadata": {},
     "output_type": "display_data"
    },
    {
     "data": {
      "application/vnd.jupyter.widget-view+json": {
       "model_id": "62dc7cf5f0c14a099a70f6a8574eebb4",
       "version_major": 2,
       "version_minor": 0
      },
      "text/plain": [
       "eval batch:   0%|          | 0/8 [00:00<?, ?it/s]"
      ]
     },
     "metadata": {},
     "output_type": "display_data"
    },
    {
     "data": {
      "application/vnd.jupyter.widget-view+json": {
       "model_id": "bbbe7ea421994175821e57f773841715",
       "version_major": 2,
       "version_minor": 0
      },
      "text/plain": [
       "training batch:   0%|          | 0/35 [00:00<?, ?it/s]"
      ]
     },
     "metadata": {},
     "output_type": "display_data"
    },
    {
     "data": {
      "application/vnd.jupyter.widget-view+json": {
       "model_id": "5f86b088c67c46a19b1ba69b6a1a7ed9",
       "version_major": 2,
       "version_minor": 0
      },
      "text/plain": [
       "eval batch:   0%|          | 0/8 [00:00<?, ?it/s]"
      ]
     },
     "metadata": {},
     "output_type": "display_data"
    },
    {
     "data": {
      "application/vnd.jupyter.widget-view+json": {
       "model_id": "875a9d583a974fdf8d4d74456f330d96",
       "version_major": 2,
       "version_minor": 0
      },
      "text/plain": [
       "training batch:   0%|          | 0/35 [00:00<?, ?it/s]"
      ]
     },
     "metadata": {},
     "output_type": "display_data"
    },
    {
     "data": {
      "application/vnd.jupyter.widget-view+json": {
       "model_id": "027438cbaebf4f45a7e9cb3511a63d13",
       "version_major": 2,
       "version_minor": 0
      },
      "text/plain": [
       "eval batch:   0%|          | 0/8 [00:00<?, ?it/s]"
      ]
     },
     "metadata": {},
     "output_type": "display_data"
    },
    {
     "data": {
      "application/vnd.jupyter.widget-view+json": {
       "model_id": "7b510f2f4e2b4fb19a9ae1d55d5903db",
       "version_major": 2,
       "version_minor": 0
      },
      "text/plain": [
       "training batch:   0%|          | 0/35 [00:00<?, ?it/s]"
      ]
     },
     "metadata": {},
     "output_type": "display_data"
    },
    {
     "data": {
      "application/vnd.jupyter.widget-view+json": {
       "model_id": "77a9ef1209a441aeab708c08618464f1",
       "version_major": 2,
       "version_minor": 0
      },
      "text/plain": [
       "eval batch:   0%|          | 0/8 [00:00<?, ?it/s]"
      ]
     },
     "metadata": {},
     "output_type": "display_data"
    },
    {
     "data": {
      "application/vnd.jupyter.widget-view+json": {
       "model_id": "c01d942267a3440181cd321f9626756e",
       "version_major": 2,
       "version_minor": 0
      },
      "text/plain": [
       "training batch:   0%|          | 0/35 [00:00<?, ?it/s]"
      ]
     },
     "metadata": {},
     "output_type": "display_data"
    },
    {
     "data": {
      "application/vnd.jupyter.widget-view+json": {
       "model_id": "050680631c02464b88cf069e37e66185",
       "version_major": 2,
       "version_minor": 0
      },
      "text/plain": [
       "eval batch:   0%|          | 0/8 [00:00<?, ?it/s]"
      ]
     },
     "metadata": {},
     "output_type": "display_data"
    },
    {
     "data": {
      "application/vnd.jupyter.widget-view+json": {
       "model_id": "335ee61697f2493f9600034d4465b8e2",
       "version_major": 2,
       "version_minor": 0
      },
      "text/plain": [
       "training batch:   0%|          | 0/35 [00:00<?, ?it/s]"
      ]
     },
     "metadata": {},
     "output_type": "display_data"
    },
    {
     "data": {
      "application/vnd.jupyter.widget-view+json": {
       "model_id": "d581ba04d11a4a26be2442ec16534a88",
       "version_major": 2,
       "version_minor": 0
      },
      "text/plain": [
       "eval batch:   0%|          | 0/8 [00:00<?, ?it/s]"
      ]
     },
     "metadata": {},
     "output_type": "display_data"
    },
    {
     "data": {
      "application/vnd.jupyter.widget-view+json": {
       "model_id": "da954ecae106486ba90a84e69246e6ea",
       "version_major": 2,
       "version_minor": 0
      },
      "text/plain": [
       "training batch:   0%|          | 0/35 [00:00<?, ?it/s]"
      ]
     },
     "metadata": {},
     "output_type": "display_data"
    },
    {
     "data": {
      "application/vnd.jupyter.widget-view+json": {
       "model_id": "bee0a27f690e4bdab0b7df9ebaa44a5d",
       "version_major": 2,
       "version_minor": 0
      },
      "text/plain": [
       "eval batch:   0%|          | 0/8 [00:00<?, ?it/s]"
      ]
     },
     "metadata": {},
     "output_type": "display_data"
    },
    {
     "data": {
      "application/vnd.jupyter.widget-view+json": {
       "model_id": "823afa6a34b54cedba6845cc152105ca",
       "version_major": 2,
       "version_minor": 0
      },
      "text/plain": [
       "training batch:   0%|          | 0/35 [00:00<?, ?it/s]"
      ]
     },
     "metadata": {},
     "output_type": "display_data"
    },
    {
     "data": {
      "application/vnd.jupyter.widget-view+json": {
       "model_id": "4268e7d3614f4a7a8da4fdb7f8c1ced7",
       "version_major": 2,
       "version_minor": 0
      },
      "text/plain": [
       "eval batch:   0%|          | 0/8 [00:00<?, ?it/s]"
      ]
     },
     "metadata": {},
     "output_type": "display_data"
    },
    {
     "data": {
      "application/vnd.jupyter.widget-view+json": {
       "model_id": "d33d8f2d6d234bb5bb5f13349e4e8766",
       "version_major": 2,
       "version_minor": 0
      },
      "text/plain": [
       "training batch:   0%|          | 0/35 [00:00<?, ?it/s]"
      ]
     },
     "metadata": {},
     "output_type": "display_data"
    },
    {
     "data": {
      "application/vnd.jupyter.widget-view+json": {
       "model_id": "66bff261b8fc45f2b562c2b8f85a04e1",
       "version_major": 2,
       "version_minor": 0
      },
      "text/plain": [
       "eval batch:   0%|          | 0/8 [00:00<?, ?it/s]"
      ]
     },
     "metadata": {},
     "output_type": "display_data"
    },
    {
     "data": {
      "application/vnd.jupyter.widget-view+json": {
       "model_id": "9f59cb2db4764137a560db9f439a6ae0",
       "version_major": 2,
       "version_minor": 0
      },
      "text/plain": [
       "training batch:   0%|          | 0/35 [00:00<?, ?it/s]"
      ]
     },
     "metadata": {},
     "output_type": "display_data"
    },
    {
     "data": {
      "application/vnd.jupyter.widget-view+json": {
       "model_id": "2ea9746b3a594ac7b10ef7601c55a53d",
       "version_major": 2,
       "version_minor": 0
      },
      "text/plain": [
       "eval batch:   0%|          | 0/8 [00:00<?, ?it/s]"
      ]
     },
     "metadata": {},
     "output_type": "display_data"
    },
    {
     "data": {
      "application/vnd.jupyter.widget-view+json": {
       "model_id": "d911b7a58e414702b85859fc914321ae",
       "version_major": 2,
       "version_minor": 0
      },
      "text/plain": [
       "training batch:   0%|          | 0/35 [00:00<?, ?it/s]"
      ]
     },
     "metadata": {},
     "output_type": "display_data"
    },
    {
     "data": {
      "application/vnd.jupyter.widget-view+json": {
       "model_id": "6eef8bf8bbcd40f9860c5dc71ee7d59f",
       "version_major": 2,
       "version_minor": 0
      },
      "text/plain": [
       "eval batch:   0%|          | 0/8 [00:00<?, ?it/s]"
      ]
     },
     "metadata": {},
     "output_type": "display_data"
    },
    {
     "data": {
      "application/vnd.jupyter.widget-view+json": {
       "model_id": "7789603f368f4187868878be375fa5af",
       "version_major": 2,
       "version_minor": 0
      },
      "text/plain": [
       "training batch:   0%|          | 0/35 [00:00<?, ?it/s]"
      ]
     },
     "metadata": {},
     "output_type": "display_data"
    },
    {
     "data": {
      "application/vnd.jupyter.widget-view+json": {
       "model_id": "928d45d918ab4faeb1e9cdf9899f2a61",
       "version_major": 2,
       "version_minor": 0
      },
      "text/plain": [
       "eval batch:   0%|          | 0/8 [00:00<?, ?it/s]"
      ]
     },
     "metadata": {},
     "output_type": "display_data"
    },
    {
     "data": {
      "application/vnd.jupyter.widget-view+json": {
       "model_id": "7524c5d80c724984af0b1bde486a6e03",
       "version_major": 2,
       "version_minor": 0
      },
      "text/plain": [
       "training batch:   0%|          | 0/35 [00:00<?, ?it/s]"
      ]
     },
     "metadata": {},
     "output_type": "display_data"
    },
    {
     "data": {
      "application/vnd.jupyter.widget-view+json": {
       "model_id": "a384943ad701465ab9522e884c6d5931",
       "version_major": 2,
       "version_minor": 0
      },
      "text/plain": [
       "eval batch:   0%|          | 0/8 [00:00<?, ?it/s]"
      ]
     },
     "metadata": {},
     "output_type": "display_data"
    },
    {
     "data": {
      "application/vnd.jupyter.widget-view+json": {
       "model_id": "f1205a1037ca497fa04f7b3646dfd6c4",
       "version_major": 2,
       "version_minor": 0
      },
      "text/plain": [
       "training batch:   0%|          | 0/35 [00:00<?, ?it/s]"
      ]
     },
     "metadata": {},
     "output_type": "display_data"
    },
    {
     "data": {
      "application/vnd.jupyter.widget-view+json": {
       "model_id": "c8724b5d919641ffb27838e08b9a6cca",
       "version_major": 2,
       "version_minor": 0
      },
      "text/plain": [
       "eval batch:   0%|          | 0/8 [00:00<?, ?it/s]"
      ]
     },
     "metadata": {},
     "output_type": "display_data"
    },
    {
     "data": {
      "application/vnd.jupyter.widget-view+json": {
       "model_id": "145facf467914ef4bd29b834c26359fd",
       "version_major": 2,
       "version_minor": 0
      },
      "text/plain": [
       "training batch:   0%|          | 0/35 [00:00<?, ?it/s]"
      ]
     },
     "metadata": {},
     "output_type": "display_data"
    },
    {
     "data": {
      "application/vnd.jupyter.widget-view+json": {
       "model_id": "f2adde9e9ab34b07b724bec141d71736",
       "version_major": 2,
       "version_minor": 0
      },
      "text/plain": [
       "eval batch:   0%|          | 0/8 [00:00<?, ?it/s]"
      ]
     },
     "metadata": {},
     "output_type": "display_data"
    },
    {
     "data": {
      "application/vnd.jupyter.widget-view+json": {
       "model_id": "0d53a16d08984ce780b26991ceede041",
       "version_major": 2,
       "version_minor": 0
      },
      "text/plain": [
       "training batch:   0%|          | 0/35 [00:00<?, ?it/s]"
      ]
     },
     "metadata": {},
     "output_type": "display_data"
    },
    {
     "data": {
      "application/vnd.jupyter.widget-view+json": {
       "model_id": "589adeacb4db4eeab7916b35ab06a6d8",
       "version_major": 2,
       "version_minor": 0
      },
      "text/plain": [
       "eval batch:   0%|          | 0/8 [00:00<?, ?it/s]"
      ]
     },
     "metadata": {},
     "output_type": "display_data"
    },
    {
     "data": {
      "application/vnd.jupyter.widget-view+json": {
       "model_id": "66a4e942b3304f0fa71a316c91d12873",
       "version_major": 2,
       "version_minor": 0
      },
      "text/plain": [
       "training batch:   0%|          | 0/35 [00:00<?, ?it/s]"
      ]
     },
     "metadata": {},
     "output_type": "display_data"
    },
    {
     "data": {
      "application/vnd.jupyter.widget-view+json": {
       "model_id": "a80926e6f20144fe926c9c05c5b4c7fe",
       "version_major": 2,
       "version_minor": 0
      },
      "text/plain": [
       "eval batch:   0%|          | 0/8 [00:00<?, ?it/s]"
      ]
     },
     "metadata": {},
     "output_type": "display_data"
    },
    {
     "data": {
      "application/vnd.jupyter.widget-view+json": {
       "model_id": "a57385ab67ab45839235d725eeb17756",
       "version_major": 2,
       "version_minor": 0
      },
      "text/plain": [
       "training batch:   0%|          | 0/35 [00:00<?, ?it/s]"
      ]
     },
     "metadata": {},
     "output_type": "display_data"
    },
    {
     "data": {
      "application/vnd.jupyter.widget-view+json": {
       "model_id": "b8af064646b94b31a1e71e910a560f7f",
       "version_major": 2,
       "version_minor": 0
      },
      "text/plain": [
       "eval batch:   0%|          | 0/8 [00:00<?, ?it/s]"
      ]
     },
     "metadata": {},
     "output_type": "display_data"
    },
    {
     "data": {
      "application/vnd.jupyter.widget-view+json": {
       "model_id": "a8647680e1ed4cc1a99dd5660bb4d794",
       "version_major": 2,
       "version_minor": 0
      },
      "text/plain": [
       "training batch:   0%|          | 0/35 [00:00<?, ?it/s]"
      ]
     },
     "metadata": {},
     "output_type": "display_data"
    },
    {
     "data": {
      "application/vnd.jupyter.widget-view+json": {
       "model_id": "c663b2eacd60400ba9aa879b29564789",
       "version_major": 2,
       "version_minor": 0
      },
      "text/plain": [
       "eval batch:   0%|          | 0/8 [00:00<?, ?it/s]"
      ]
     },
     "metadata": {},
     "output_type": "display_data"
    },
    {
     "data": {
      "application/vnd.jupyter.widget-view+json": {
       "model_id": "7e130a72c0e14674af9b375dd6e23555",
       "version_major": 2,
       "version_minor": 0
      },
      "text/plain": [
       "training batch:   0%|          | 0/35 [00:00<?, ?it/s]"
      ]
     },
     "metadata": {},
     "output_type": "display_data"
    },
    {
     "data": {
      "application/vnd.jupyter.widget-view+json": {
       "model_id": "3025b60bc9ad4090ac41660c8be5a786",
       "version_major": 2,
       "version_minor": 0
      },
      "text/plain": [
       "eval batch:   0%|          | 0/8 [00:00<?, ?it/s]"
      ]
     },
     "metadata": {},
     "output_type": "display_data"
    },
    {
     "data": {
      "application/vnd.jupyter.widget-view+json": {
       "model_id": "7c0adec95d6a4af5ae8cd389b86d4556",
       "version_major": 2,
       "version_minor": 0
      },
      "text/plain": [
       "training batch:   0%|          | 0/35 [00:00<?, ?it/s]"
      ]
     },
     "metadata": {},
     "output_type": "display_data"
    },
    {
     "data": {
      "application/vnd.jupyter.widget-view+json": {
       "model_id": "f9d75bead8c34b39b843eea30495011b",
       "version_major": 2,
       "version_minor": 0
      },
      "text/plain": [
       "eval batch:   0%|          | 0/8 [00:00<?, ?it/s]"
      ]
     },
     "metadata": {},
     "output_type": "display_data"
    },
    {
     "data": {
      "application/vnd.jupyter.widget-view+json": {
       "model_id": "284e8ee3bb814ed4a13c737f8e182b0f",
       "version_major": 2,
       "version_minor": 0
      },
      "text/plain": [
       "training batch:   0%|          | 0/35 [00:00<?, ?it/s]"
      ]
     },
     "metadata": {},
     "output_type": "display_data"
    },
    {
     "data": {
      "application/vnd.jupyter.widget-view+json": {
       "model_id": "5d594a8df25b42679d7459c85f32315c",
       "version_major": 2,
       "version_minor": 0
      },
      "text/plain": [
       "eval batch:   0%|          | 0/8 [00:00<?, ?it/s]"
      ]
     },
     "metadata": {},
     "output_type": "display_data"
    },
    {
     "data": {
      "application/vnd.jupyter.widget-view+json": {
       "model_id": "25fbf323460d4f4683df35796fbee735",
       "version_major": 2,
       "version_minor": 0
      },
      "text/plain": [
       "training batch:   0%|          | 0/35 [00:00<?, ?it/s]"
      ]
     },
     "metadata": {},
     "output_type": "display_data"
    },
    {
     "data": {
      "application/vnd.jupyter.widget-view+json": {
       "model_id": "94f6af42ad644e21bb954b6788d017d3",
       "version_major": 2,
       "version_minor": 0
      },
      "text/plain": [
       "eval batch:   0%|          | 0/8 [00:00<?, ?it/s]"
      ]
     },
     "metadata": {},
     "output_type": "display_data"
    },
    {
     "data": {
      "application/vnd.jupyter.widget-view+json": {
       "model_id": "0367b8c3a15a4ec89c860c19a329ffd1",
       "version_major": 2,
       "version_minor": 0
      },
      "text/plain": [
       "training batch:   0%|          | 0/35 [00:00<?, ?it/s]"
      ]
     },
     "metadata": {},
     "output_type": "display_data"
    },
    {
     "data": {
      "application/vnd.jupyter.widget-view+json": {
       "model_id": "66f84db434254c6893702a05d3e7a5ed",
       "version_major": 2,
       "version_minor": 0
      },
      "text/plain": [
       "eval batch:   0%|          | 0/8 [00:00<?, ?it/s]"
      ]
     },
     "metadata": {},
     "output_type": "display_data"
    },
    {
     "data": {
      "application/vnd.jupyter.widget-view+json": {
       "model_id": "401e6b83e8944c3d9e9e5bb3b544dfc3",
       "version_major": 2,
       "version_minor": 0
      },
      "text/plain": [
       "training batch:   0%|          | 0/35 [00:00<?, ?it/s]"
      ]
     },
     "metadata": {},
     "output_type": "display_data"
    },
    {
     "data": {
      "application/vnd.jupyter.widget-view+json": {
       "model_id": "5afdb72f7d3e4748920faa6dd87f7c0c",
       "version_major": 2,
       "version_minor": 0
      },
      "text/plain": [
       "eval batch:   0%|          | 0/8 [00:00<?, ?it/s]"
      ]
     },
     "metadata": {},
     "output_type": "display_data"
    },
    {
     "data": {
      "application/vnd.jupyter.widget-view+json": {
       "model_id": "91e8013f08224a0ab0ca7385bf73d9af",
       "version_major": 2,
       "version_minor": 0
      },
      "text/plain": [
       "training batch:   0%|          | 0/35 [00:00<?, ?it/s]"
      ]
     },
     "metadata": {},
     "output_type": "display_data"
    },
    {
     "data": {
      "application/vnd.jupyter.widget-view+json": {
       "model_id": "55bba55d7c004b82b01c523e87b54350",
       "version_major": 2,
       "version_minor": 0
      },
      "text/plain": [
       "eval batch:   0%|          | 0/8 [00:00<?, ?it/s]"
      ]
     },
     "metadata": {},
     "output_type": "display_data"
    },
    {
     "data": {
      "application/vnd.jupyter.widget-view+json": {
       "model_id": "d14937f9b2494db5bc790354f457a015",
       "version_major": 2,
       "version_minor": 0
      },
      "text/plain": [
       "training batch:   0%|          | 0/35 [00:00<?, ?it/s]"
      ]
     },
     "metadata": {},
     "output_type": "display_data"
    },
    {
     "data": {
      "application/vnd.jupyter.widget-view+json": {
       "model_id": "552a749df0f146188931a2b9dbb8edd9",
       "version_major": 2,
       "version_minor": 0
      },
      "text/plain": [
       "eval batch:   0%|          | 0/8 [00:00<?, ?it/s]"
      ]
     },
     "metadata": {},
     "output_type": "display_data"
    },
    {
     "data": {
      "application/vnd.jupyter.widget-view+json": {
       "model_id": "0bc5a05324bd4520a9b944e27a3d02d1",
       "version_major": 2,
       "version_minor": 0
      },
      "text/plain": [
       "training batch:   0%|          | 0/35 [00:00<?, ?it/s]"
      ]
     },
     "metadata": {},
     "output_type": "display_data"
    },
    {
     "data": {
      "application/vnd.jupyter.widget-view+json": {
       "model_id": "a56f5a54d99f4524945a112f43ad565f",
       "version_major": 2,
       "version_minor": 0
      },
      "text/plain": [
       "eval batch:   0%|          | 0/8 [00:00<?, ?it/s]"
      ]
     },
     "metadata": {},
     "output_type": "display_data"
    },
    {
     "data": {
      "application/vnd.jupyter.widget-view+json": {
       "model_id": "cde257151f1a40e7a170c83a97143e5a",
       "version_major": 2,
       "version_minor": 0
      },
      "text/plain": [
       "training batch:   0%|          | 0/35 [00:00<?, ?it/s]"
      ]
     },
     "metadata": {},
     "output_type": "display_data"
    },
    {
     "data": {
      "application/vnd.jupyter.widget-view+json": {
       "model_id": "6ecc8acdf52e44c6a544cf76910cbce1",
       "version_major": 2,
       "version_minor": 0
      },
      "text/plain": [
       "eval batch:   0%|          | 0/8 [00:00<?, ?it/s]"
      ]
     },
     "metadata": {},
     "output_type": "display_data"
    },
    {
     "data": {
      "application/vnd.jupyter.widget-view+json": {
       "model_id": "c22baead61434826a2a16874e6b5c6ac",
       "version_major": 2,
       "version_minor": 0
      },
      "text/plain": [
       "training batch:   0%|          | 0/35 [00:00<?, ?it/s]"
      ]
     },
     "metadata": {},
     "output_type": "display_data"
    },
    {
     "data": {
      "application/vnd.jupyter.widget-view+json": {
       "model_id": "6ff6ef9a25e74756888bb7f23795500d",
       "version_major": 2,
       "version_minor": 0
      },
      "text/plain": [
       "eval batch:   0%|          | 0/8 [00:00<?, ?it/s]"
      ]
     },
     "metadata": {},
     "output_type": "display_data"
    },
    {
     "data": {
      "application/vnd.jupyter.widget-view+json": {
       "model_id": "b2455f9495574e40a1a604762513e4fe",
       "version_major": 2,
       "version_minor": 0
      },
      "text/plain": [
       "training batch:   0%|          | 0/35 [00:00<?, ?it/s]"
      ]
     },
     "metadata": {},
     "output_type": "display_data"
    },
    {
     "data": {
      "application/vnd.jupyter.widget-view+json": {
       "model_id": "7f123d6cda074a0fa79a66c5a058b6f8",
       "version_major": 2,
       "version_minor": 0
      },
      "text/plain": [
       "eval batch:   0%|          | 0/8 [00:00<?, ?it/s]"
      ]
     },
     "metadata": {},
     "output_type": "display_data"
    },
    {
     "data": {
      "application/vnd.jupyter.widget-view+json": {
       "model_id": "d773aa5795044938a4b2b8e8a650fcce",
       "version_major": 2,
       "version_minor": 0
      },
      "text/plain": [
       "training batch:   0%|          | 0/35 [00:00<?, ?it/s]"
      ]
     },
     "metadata": {},
     "output_type": "display_data"
    },
    {
     "data": {
      "application/vnd.jupyter.widget-view+json": {
       "model_id": "8e05d0cb551143b999617cb8b64d14fb",
       "version_major": 2,
       "version_minor": 0
      },
      "text/plain": [
       "eval batch:   0%|          | 0/8 [00:00<?, ?it/s]"
      ]
     },
     "metadata": {},
     "output_type": "display_data"
    },
    {
     "data": {
      "application/vnd.jupyter.widget-view+json": {
       "model_id": "d88225524849489d8a8036d8398bf84c",
       "version_major": 2,
       "version_minor": 0
      },
      "text/plain": [
       "training batch:   0%|          | 0/35 [00:00<?, ?it/s]"
      ]
     },
     "metadata": {},
     "output_type": "display_data"
    },
    {
     "data": {
      "application/vnd.jupyter.widget-view+json": {
       "model_id": "edc57fc4669b4c56b15cf3f3543d5ea2",
       "version_major": 2,
       "version_minor": 0
      },
      "text/plain": [
       "eval batch:   0%|          | 0/8 [00:00<?, ?it/s]"
      ]
     },
     "metadata": {},
     "output_type": "display_data"
    },
    {
     "data": {
      "application/vnd.jupyter.widget-view+json": {
       "model_id": "7e22c811804b4179b385045fb61339ad",
       "version_major": 2,
       "version_minor": 0
      },
      "text/plain": [
       "training batch:   0%|          | 0/35 [00:00<?, ?it/s]"
      ]
     },
     "metadata": {},
     "output_type": "display_data"
    },
    {
     "data": {
      "application/vnd.jupyter.widget-view+json": {
       "model_id": "1136f695cf7c4a27aa666a60deedf1bb",
       "version_major": 2,
       "version_minor": 0
      },
      "text/plain": [
       "eval batch:   0%|          | 0/8 [00:00<?, ?it/s]"
      ]
     },
     "metadata": {},
     "output_type": "display_data"
    },
    {
     "data": {
      "application/vnd.jupyter.widget-view+json": {
       "model_id": "35c014a0f60945369de6a24b2a5c7ebf",
       "version_major": 2,
       "version_minor": 0
      },
      "text/plain": [
       "training batch:   0%|          | 0/35 [00:00<?, ?it/s]"
      ]
     },
     "metadata": {},
     "output_type": "display_data"
    },
    {
     "data": {
      "application/vnd.jupyter.widget-view+json": {
       "model_id": "05ba221d5bbc49918e6743dc896485a8",
       "version_major": 2,
       "version_minor": 0
      },
      "text/plain": [
       "eval batch:   0%|          | 0/8 [00:00<?, ?it/s]"
      ]
     },
     "metadata": {},
     "output_type": "display_data"
    },
    {
     "data": {
      "application/vnd.jupyter.widget-view+json": {
       "model_id": "5bfb134d5a1642398e4c4df3ef12c04d",
       "version_major": 2,
       "version_minor": 0
      },
      "text/plain": [
       "training batch:   0%|          | 0/35 [00:00<?, ?it/s]"
      ]
     },
     "metadata": {},
     "output_type": "display_data"
    },
    {
     "data": {
      "application/vnd.jupyter.widget-view+json": {
       "model_id": "61c93b61f2cb41a78e19935fb412afd0",
       "version_major": 2,
       "version_minor": 0
      },
      "text/plain": [
       "eval batch:   0%|          | 0/8 [00:00<?, ?it/s]"
      ]
     },
     "metadata": {},
     "output_type": "display_data"
    },
    {
     "data": {
      "application/vnd.jupyter.widget-view+json": {
       "model_id": "e7828274f4a4470fb22c895ed6385b6c",
       "version_major": 2,
       "version_minor": 0
      },
      "text/plain": [
       "training batch:   0%|          | 0/35 [00:00<?, ?it/s]"
      ]
     },
     "metadata": {},
     "output_type": "display_data"
    },
    {
     "data": {
      "application/vnd.jupyter.widget-view+json": {
       "model_id": "5d8e7a5809cf4864a3dc1ae45d346151",
       "version_major": 2,
       "version_minor": 0
      },
      "text/plain": [
       "eval batch:   0%|          | 0/8 [00:00<?, ?it/s]"
      ]
     },
     "metadata": {},
     "output_type": "display_data"
    },
    {
     "data": {
      "application/vnd.jupyter.widget-view+json": {
       "model_id": "b60c2f1d073748019d02396d5e8fabb4",
       "version_major": 2,
       "version_minor": 0
      },
      "text/plain": [
       "training batch:   0%|          | 0/35 [00:00<?, ?it/s]"
      ]
     },
     "metadata": {},
     "output_type": "display_data"
    },
    {
     "data": {
      "application/vnd.jupyter.widget-view+json": {
       "model_id": "cee613c0ed804a0ea65b2367398cea38",
       "version_major": 2,
       "version_minor": 0
      },
      "text/plain": [
       "eval batch:   0%|          | 0/8 [00:00<?, ?it/s]"
      ]
     },
     "metadata": {},
     "output_type": "display_data"
    },
    {
     "data": {
      "application/vnd.jupyter.widget-view+json": {
       "model_id": "e8c0dd5df425495aa92ffe1ea6bed9b6",
       "version_major": 2,
       "version_minor": 0
      },
      "text/plain": [
       "training batch:   0%|          | 0/35 [00:00<?, ?it/s]"
      ]
     },
     "metadata": {},
     "output_type": "display_data"
    },
    {
     "data": {
      "application/vnd.jupyter.widget-view+json": {
       "model_id": "80083bd26160439ba0d1d7e110b51c94",
       "version_major": 2,
       "version_minor": 0
      },
      "text/plain": [
       "eval batch:   0%|          | 0/8 [00:00<?, ?it/s]"
      ]
     },
     "metadata": {},
     "output_type": "display_data"
    },
    {
     "data": {
      "application/vnd.jupyter.widget-view+json": {
       "model_id": "976d3dd843fb401db77ded51f222e717",
       "version_major": 2,
       "version_minor": 0
      },
      "text/plain": [
       "training batch:   0%|          | 0/35 [00:00<?, ?it/s]"
      ]
     },
     "metadata": {},
     "output_type": "display_data"
    },
    {
     "data": {
      "application/vnd.jupyter.widget-view+json": {
       "model_id": "c3e92ed006d64a8dbe415a0cee06216c",
       "version_major": 2,
       "version_minor": 0
      },
      "text/plain": [
       "eval batch:   0%|          | 0/8 [00:00<?, ?it/s]"
      ]
     },
     "metadata": {},
     "output_type": "display_data"
    },
    {
     "data": {
      "application/vnd.jupyter.widget-view+json": {
       "model_id": "8496f0f5f84b4a38998d4ea4b279cba9",
       "version_major": 2,
       "version_minor": 0
      },
      "text/plain": [
       "training batch:   0%|          | 0/35 [00:00<?, ?it/s]"
      ]
     },
     "metadata": {},
     "output_type": "display_data"
    },
    {
     "data": {
      "application/vnd.jupyter.widget-view+json": {
       "model_id": "833095ff964b4de681149069e857df2a",
       "version_major": 2,
       "version_minor": 0
      },
      "text/plain": [
       "eval batch:   0%|          | 0/8 [00:00<?, ?it/s]"
      ]
     },
     "metadata": {},
     "output_type": "display_data"
    },
    {
     "data": {
      "application/vnd.jupyter.widget-view+json": {
       "model_id": "7b0e42fa25a0457ca152c953e54592e7",
       "version_major": 2,
       "version_minor": 0
      },
      "text/plain": [
       "training batch:   0%|          | 0/35 [00:00<?, ?it/s]"
      ]
     },
     "metadata": {},
     "output_type": "display_data"
    },
    {
     "data": {
      "application/vnd.jupyter.widget-view+json": {
       "model_id": "de8bee4817ea440cbbebd9544593efe5",
       "version_major": 2,
       "version_minor": 0
      },
      "text/plain": [
       "eval batch:   0%|          | 0/8 [00:00<?, ?it/s]"
      ]
     },
     "metadata": {},
     "output_type": "display_data"
    },
    {
     "data": {
      "application/vnd.jupyter.widget-view+json": {
       "model_id": "c35dd094e3364c808be599734ddcd8e2",
       "version_major": 2,
       "version_minor": 0
      },
      "text/plain": [
       "training batch:   0%|          | 0/35 [00:00<?, ?it/s]"
      ]
     },
     "metadata": {},
     "output_type": "display_data"
    },
    {
     "data": {
      "application/vnd.jupyter.widget-view+json": {
       "model_id": "f465b58119ab4d1c9ae98b70e19f1155",
       "version_major": 2,
       "version_minor": 0
      },
      "text/plain": [
       "eval batch:   0%|          | 0/8 [00:00<?, ?it/s]"
      ]
     },
     "metadata": {},
     "output_type": "display_data"
    },
    {
     "data": {
      "application/vnd.jupyter.widget-view+json": {
       "model_id": "8358dba4fbef4267a1a0c9fc26d650b2",
       "version_major": 2,
       "version_minor": 0
      },
      "text/plain": [
       "training batch:   0%|          | 0/35 [00:00<?, ?it/s]"
      ]
     },
     "metadata": {},
     "output_type": "display_data"
    },
    {
     "data": {
      "application/vnd.jupyter.widget-view+json": {
       "model_id": "930296be44ed4864b05b39bdea33ee67",
       "version_major": 2,
       "version_minor": 0
      },
      "text/plain": [
       "eval batch:   0%|          | 0/8 [00:00<?, ?it/s]"
      ]
     },
     "metadata": {},
     "output_type": "display_data"
    },
    {
     "data": {
      "application/vnd.jupyter.widget-view+json": {
       "model_id": "e55a15e8f671405982b5c9f043c7fd34",
       "version_major": 2,
       "version_minor": 0
      },
      "text/plain": [
       "training batch:   0%|          | 0/35 [00:00<?, ?it/s]"
      ]
     },
     "metadata": {},
     "output_type": "display_data"
    },
    {
     "data": {
      "application/vnd.jupyter.widget-view+json": {
       "model_id": "fe1f576228ef424ab59b8bdc48236c17",
       "version_major": 2,
       "version_minor": 0
      },
      "text/plain": [
       "eval batch:   0%|          | 0/8 [00:00<?, ?it/s]"
      ]
     },
     "metadata": {},
     "output_type": "display_data"
    },
    {
     "data": {
      "application/vnd.jupyter.widget-view+json": {
       "model_id": "94238fd8f4234380aa1e3f5c6c1b3a70",
       "version_major": 2,
       "version_minor": 0
      },
      "text/plain": [
       "training batch:   0%|          | 0/35 [00:00<?, ?it/s]"
      ]
     },
     "metadata": {},
     "output_type": "display_data"
    },
    {
     "data": {
      "application/vnd.jupyter.widget-view+json": {
       "model_id": "1ffc60e8816d4363967f90edd669df1c",
       "version_major": 2,
       "version_minor": 0
      },
      "text/plain": [
       "eval batch:   0%|          | 0/8 [00:00<?, ?it/s]"
      ]
     },
     "metadata": {},
     "output_type": "display_data"
    },
    {
     "data": {
      "application/vnd.jupyter.widget-view+json": {
       "model_id": "4c8f0c9d872347839a24635d4c1f613b",
       "version_major": 2,
       "version_minor": 0
      },
      "text/plain": [
       "training batch:   0%|          | 0/35 [00:00<?, ?it/s]"
      ]
     },
     "metadata": {},
     "output_type": "display_data"
    },
    {
     "data": {
      "application/vnd.jupyter.widget-view+json": {
       "model_id": "4d735259b83f4930929521b459f1f2ae",
       "version_major": 2,
       "version_minor": 0
      },
      "text/plain": [
       "eval batch:   0%|          | 0/8 [00:00<?, ?it/s]"
      ]
     },
     "metadata": {},
     "output_type": "display_data"
    },
    {
     "data": {
      "application/vnd.jupyter.widget-view+json": {
       "model_id": "1e1b1fa492f24dca836d15694eaec587",
       "version_major": 2,
       "version_minor": 0
      },
      "text/plain": [
       "training batch:   0%|          | 0/35 [00:00<?, ?it/s]"
      ]
     },
     "metadata": {},
     "output_type": "display_data"
    },
    {
     "data": {
      "application/vnd.jupyter.widget-view+json": {
       "model_id": "5d0196342cbf4ff78215d51708ceb167",
       "version_major": 2,
       "version_minor": 0
      },
      "text/plain": [
       "eval batch:   0%|          | 0/8 [00:00<?, ?it/s]"
      ]
     },
     "metadata": {},
     "output_type": "display_data"
    },
    {
     "data": {
      "application/vnd.jupyter.widget-view+json": {
       "model_id": "40d7a040ec4c41bb93bb372bcba1d645",
       "version_major": 2,
       "version_minor": 0
      },
      "text/plain": [
       "training batch:   0%|          | 0/35 [00:00<?, ?it/s]"
      ]
     },
     "metadata": {},
     "output_type": "display_data"
    },
    {
     "data": {
      "application/vnd.jupyter.widget-view+json": {
       "model_id": "ca1521e5be544d309dc64410be55bed8",
       "version_major": 2,
       "version_minor": 0
      },
      "text/plain": [
       "eval batch:   0%|          | 0/8 [00:00<?, ?it/s]"
      ]
     },
     "metadata": {},
     "output_type": "display_data"
    },
    {
     "data": {
      "application/vnd.jupyter.widget-view+json": {
       "model_id": "a67b57509f164d39b44972b054294021",
       "version_major": 2,
       "version_minor": 0
      },
      "text/plain": [
       "training batch:   0%|          | 0/35 [00:00<?, ?it/s]"
      ]
     },
     "metadata": {},
     "output_type": "display_data"
    },
    {
     "data": {
      "application/vnd.jupyter.widget-view+json": {
       "model_id": "ac5669ddd0fb483fbf9add241e0f2905",
       "version_major": 2,
       "version_minor": 0
      },
      "text/plain": [
       "eval batch:   0%|          | 0/8 [00:00<?, ?it/s]"
      ]
     },
     "metadata": {},
     "output_type": "display_data"
    },
    {
     "data": {
      "application/vnd.jupyter.widget-view+json": {
       "model_id": "047c834a1982452abcec1b01263ec2aa",
       "version_major": 2,
       "version_minor": 0
      },
      "text/plain": [
       "training batch:   0%|          | 0/35 [00:00<?, ?it/s]"
      ]
     },
     "metadata": {},
     "output_type": "display_data"
    },
    {
     "data": {
      "application/vnd.jupyter.widget-view+json": {
       "model_id": "2b38e1a8b5af4d1f9b3ef83d4ce7c8c3",
       "version_major": 2,
       "version_minor": 0
      },
      "text/plain": [
       "eval batch:   0%|          | 0/8 [00:00<?, ?it/s]"
      ]
     },
     "metadata": {},
     "output_type": "display_data"
    },
    {
     "data": {
      "application/vnd.jupyter.widget-view+json": {
       "model_id": "3863130aca94471f92fa0640b5a127ef",
       "version_major": 2,
       "version_minor": 0
      },
      "text/plain": [
       "training batch:   0%|          | 0/35 [00:00<?, ?it/s]"
      ]
     },
     "metadata": {},
     "output_type": "display_data"
    },
    {
     "data": {
      "application/vnd.jupyter.widget-view+json": {
       "model_id": "2def09b8184945acb9944f06fdfda0c6",
       "version_major": 2,
       "version_minor": 0
      },
      "text/plain": [
       "eval batch:   0%|          | 0/8 [00:00<?, ?it/s]"
      ]
     },
     "metadata": {},
     "output_type": "display_data"
    },
    {
     "data": {
      "application/vnd.jupyter.widget-view+json": {
       "model_id": "f4ee5884988d4e7aa50ba73834bd63e7",
       "version_major": 2,
       "version_minor": 0
      },
      "text/plain": [
       "training batch:   0%|          | 0/35 [00:00<?, ?it/s]"
      ]
     },
     "metadata": {},
     "output_type": "display_data"
    },
    {
     "data": {
      "application/vnd.jupyter.widget-view+json": {
       "model_id": "96ea21a180cf45fba0d7d084dff48635",
       "version_major": 2,
       "version_minor": 0
      },
      "text/plain": [
       "eval batch:   0%|          | 0/8 [00:00<?, ?it/s]"
      ]
     },
     "metadata": {},
     "output_type": "display_data"
    },
    {
     "data": {
      "application/vnd.jupyter.widget-view+json": {
       "model_id": "5e1f06a09fd84d8484c0af0a51434253",
       "version_major": 2,
       "version_minor": 0
      },
      "text/plain": [
       "training batch:   0%|          | 0/35 [00:00<?, ?it/s]"
      ]
     },
     "metadata": {},
     "output_type": "display_data"
    },
    {
     "data": {
      "application/vnd.jupyter.widget-view+json": {
       "model_id": "8b30c57b282349cbbe8a088eee8f2117",
       "version_major": 2,
       "version_minor": 0
      },
      "text/plain": [
       "eval batch:   0%|          | 0/8 [00:00<?, ?it/s]"
      ]
     },
     "metadata": {},
     "output_type": "display_data"
    },
    {
     "data": {
      "application/vnd.jupyter.widget-view+json": {
       "model_id": "6f7fe3c4f5ed462a873f530cfc04e9fc",
       "version_major": 2,
       "version_minor": 0
      },
      "text/plain": [
       "training batch:   0%|          | 0/35 [00:00<?, ?it/s]"
      ]
     },
     "metadata": {},
     "output_type": "display_data"
    },
    {
     "data": {
      "application/vnd.jupyter.widget-view+json": {
       "model_id": "40599eb6127b49d8bbd7e2ad126a44b6",
       "version_major": 2,
       "version_minor": 0
      },
      "text/plain": [
       "eval batch:   0%|          | 0/8 [00:00<?, ?it/s]"
      ]
     },
     "metadata": {},
     "output_type": "display_data"
    },
    {
     "data": {
      "application/vnd.jupyter.widget-view+json": {
       "model_id": "4905f71e4a6346bc813e5bb74de3f91e",
       "version_major": 2,
       "version_minor": 0
      },
      "text/plain": [
       "training batch:   0%|          | 0/35 [00:00<?, ?it/s]"
      ]
     },
     "metadata": {},
     "output_type": "display_data"
    },
    {
     "data": {
      "application/vnd.jupyter.widget-view+json": {
       "model_id": "801f4f5e3e934ae4a5592fb94657485a",
       "version_major": 2,
       "version_minor": 0
      },
      "text/plain": [
       "eval batch:   0%|          | 0/8 [00:00<?, ?it/s]"
      ]
     },
     "metadata": {},
     "output_type": "display_data"
    },
    {
     "data": {
      "application/vnd.jupyter.widget-view+json": {
       "model_id": "ba2dc595db7d4f5e8a58425ea5a92c3a",
       "version_major": 2,
       "version_minor": 0
      },
      "text/plain": [
       "training batch:   0%|          | 0/35 [00:00<?, ?it/s]"
      ]
     },
     "metadata": {},
     "output_type": "display_data"
    },
    {
     "data": {
      "application/vnd.jupyter.widget-view+json": {
       "model_id": "ea33918c811c4807b4778aa359e6b7e5",
       "version_major": 2,
       "version_minor": 0
      },
      "text/plain": [
       "eval batch:   0%|          | 0/8 [00:00<?, ?it/s]"
      ]
     },
     "metadata": {},
     "output_type": "display_data"
    },
    {
     "data": {
      "application/vnd.jupyter.widget-view+json": {
       "model_id": "6893d694300c4974a5663c9cbccab806",
       "version_major": 2,
       "version_minor": 0
      },
      "text/plain": [
       "training batch:   0%|          | 0/35 [00:00<?, ?it/s]"
      ]
     },
     "metadata": {},
     "output_type": "display_data"
    },
    {
     "data": {
      "application/vnd.jupyter.widget-view+json": {
       "model_id": "fe952fa9c3a04820a0795e85b2036408",
       "version_major": 2,
       "version_minor": 0
      },
      "text/plain": [
       "eval batch:   0%|          | 0/8 [00:00<?, ?it/s]"
      ]
     },
     "metadata": {},
     "output_type": "display_data"
    },
    {
     "data": {
      "application/vnd.jupyter.widget-view+json": {
       "model_id": "b6a07778ea2a435db1004fdcee8d9e19",
       "version_major": 2,
       "version_minor": 0
      },
      "text/plain": [
       "training batch:   0%|          | 0/35 [00:00<?, ?it/s]"
      ]
     },
     "metadata": {},
     "output_type": "display_data"
    },
    {
     "data": {
      "application/vnd.jupyter.widget-view+json": {
       "model_id": "91110f24a52b4823a44c586dd05005a9",
       "version_major": 2,
       "version_minor": 0
      },
      "text/plain": [
       "eval batch:   0%|          | 0/8 [00:00<?, ?it/s]"
      ]
     },
     "metadata": {},
     "output_type": "display_data"
    },
    {
     "data": {
      "application/vnd.jupyter.widget-view+json": {
       "model_id": "fd98631de4954fcfa912b79c95781357",
       "version_major": 2,
       "version_minor": 0
      },
      "text/plain": [
       "training batch:   0%|          | 0/35 [00:00<?, ?it/s]"
      ]
     },
     "metadata": {},
     "output_type": "display_data"
    },
    {
     "data": {
      "application/vnd.jupyter.widget-view+json": {
       "model_id": "6c00b2e7858f4cb68dff6dce39a4042e",
       "version_major": 2,
       "version_minor": 0
      },
      "text/plain": [
       "eval batch:   0%|          | 0/8 [00:00<?, ?it/s]"
      ]
     },
     "metadata": {},
     "output_type": "display_data"
    },
    {
     "data": {
      "application/vnd.jupyter.widget-view+json": {
       "model_id": "961d30d7aa86417f8cde167bf7dff298",
       "version_major": 2,
       "version_minor": 0
      },
      "text/plain": [
       "training batch:   0%|          | 0/35 [00:00<?, ?it/s]"
      ]
     },
     "metadata": {},
     "output_type": "display_data"
    },
    {
     "data": {
      "application/vnd.jupyter.widget-view+json": {
       "model_id": "14446c2a46f54b0dae82ea24540bd4c5",
       "version_major": 2,
       "version_minor": 0
      },
      "text/plain": [
       "eval batch:   0%|          | 0/8 [00:00<?, ?it/s]"
      ]
     },
     "metadata": {},
     "output_type": "display_data"
    },
    {
     "data": {
      "application/vnd.jupyter.widget-view+json": {
       "model_id": "44f70b022223451896682e47f9d9f140",
       "version_major": 2,
       "version_minor": 0
      },
      "text/plain": [
       "training batch:   0%|          | 0/35 [00:00<?, ?it/s]"
      ]
     },
     "metadata": {},
     "output_type": "display_data"
    },
    {
     "data": {
      "application/vnd.jupyter.widget-view+json": {
       "model_id": "68f84eeda5fd4f9fb08700301507abc9",
       "version_major": 2,
       "version_minor": 0
      },
      "text/plain": [
       "eval batch:   0%|          | 0/8 [00:00<?, ?it/s]"
      ]
     },
     "metadata": {},
     "output_type": "display_data"
    },
    {
     "data": {
      "application/vnd.jupyter.widget-view+json": {
       "model_id": "aa73f57696d24617a7f933f68d075714",
       "version_major": 2,
       "version_minor": 0
      },
      "text/plain": [
       "training batch:   0%|          | 0/35 [00:00<?, ?it/s]"
      ]
     },
     "metadata": {},
     "output_type": "display_data"
    },
    {
     "data": {
      "application/vnd.jupyter.widget-view+json": {
       "model_id": "bad18eeb87d640008f427995989997e3",
       "version_major": 2,
       "version_minor": 0
      },
      "text/plain": [
       "eval batch:   0%|          | 0/8 [00:00<?, ?it/s]"
      ]
     },
     "metadata": {},
     "output_type": "display_data"
    },
    {
     "data": {
      "application/vnd.jupyter.widget-view+json": {
       "model_id": "a154c7ca106f40839046311b2a0782f2",
       "version_major": 2,
       "version_minor": 0
      },
      "text/plain": [
       "training batch:   0%|          | 0/35 [00:00<?, ?it/s]"
      ]
     },
     "metadata": {},
     "output_type": "display_data"
    },
    {
     "data": {
      "application/vnd.jupyter.widget-view+json": {
       "model_id": "8f33ef98a5434e248f033bba3e20745b",
       "version_major": 2,
       "version_minor": 0
      },
      "text/plain": [
       "eval batch:   0%|          | 0/8 [00:00<?, ?it/s]"
      ]
     },
     "metadata": {},
     "output_type": "display_data"
    },
    {
     "data": {
      "application/vnd.jupyter.widget-view+json": {
       "model_id": "44efae4eaae5484ea51273e9abf18ce7",
       "version_major": 2,
       "version_minor": 0
      },
      "text/plain": [
       "training batch:   0%|          | 0/35 [00:00<?, ?it/s]"
      ]
     },
     "metadata": {},
     "output_type": "display_data"
    },
    {
     "data": {
      "application/vnd.jupyter.widget-view+json": {
       "model_id": "ee8f6ccae3104a3a95b1149b60f75f8d",
       "version_major": 2,
       "version_minor": 0
      },
      "text/plain": [
       "eval batch:   0%|          | 0/8 [00:00<?, ?it/s]"
      ]
     },
     "metadata": {},
     "output_type": "display_data"
    },
    {
     "data": {
      "application/vnd.jupyter.widget-view+json": {
       "model_id": "7e8236b6c4b24d4692339373e53e71e7",
       "version_major": 2,
       "version_minor": 0
      },
      "text/plain": [
       "training batch:   0%|          | 0/35 [00:00<?, ?it/s]"
      ]
     },
     "metadata": {},
     "output_type": "display_data"
    },
    {
     "data": {
      "application/vnd.jupyter.widget-view+json": {
       "model_id": "7ab11a90c5684632b4acd5efeb805633",
       "version_major": 2,
       "version_minor": 0
      },
      "text/plain": [
       "eval batch:   0%|          | 0/8 [00:00<?, ?it/s]"
      ]
     },
     "metadata": {},
     "output_type": "display_data"
    },
    {
     "data": {
      "application/vnd.jupyter.widget-view+json": {
       "model_id": "8939a4fd8e534cb68fc79bad7aff2a0d",
       "version_major": 2,
       "version_minor": 0
      },
      "text/plain": [
       "training batch:   0%|          | 0/35 [00:00<?, ?it/s]"
      ]
     },
     "metadata": {},
     "output_type": "display_data"
    },
    {
     "data": {
      "application/vnd.jupyter.widget-view+json": {
       "model_id": "5448ad05952842608ce50c88f6c1841a",
       "version_major": 2,
       "version_minor": 0
      },
      "text/plain": [
       "eval batch:   0%|          | 0/8 [00:00<?, ?it/s]"
      ]
     },
     "metadata": {},
     "output_type": "display_data"
    },
    {
     "data": {
      "application/vnd.jupyter.widget-view+json": {
       "model_id": "e71a469f8ee743ce988b4e6210b5fdb2",
       "version_major": 2,
       "version_minor": 0
      },
      "text/plain": [
       "training batch:   0%|          | 0/35 [00:00<?, ?it/s]"
      ]
     },
     "metadata": {},
     "output_type": "display_data"
    },
    {
     "data": {
      "application/vnd.jupyter.widget-view+json": {
       "model_id": "dc3f50ad599648d39a478aef3b3a4338",
       "version_major": 2,
       "version_minor": 0
      },
      "text/plain": [
       "eval batch:   0%|          | 0/8 [00:00<?, ?it/s]"
      ]
     },
     "metadata": {},
     "output_type": "display_data"
    },
    {
     "data": {
      "application/vnd.jupyter.widget-view+json": {
       "model_id": "37f3f563d3754e3f98ad045e43f8dd5a",
       "version_major": 2,
       "version_minor": 0
      },
      "text/plain": [
       "training batch:   0%|          | 0/35 [00:00<?, ?it/s]"
      ]
     },
     "metadata": {},
     "output_type": "display_data"
    },
    {
     "data": {
      "application/vnd.jupyter.widget-view+json": {
       "model_id": "7f94f83a83424387a90aa83347ed381e",
       "version_major": 2,
       "version_minor": 0
      },
      "text/plain": [
       "eval batch:   0%|          | 0/8 [00:00<?, ?it/s]"
      ]
     },
     "metadata": {},
     "output_type": "display_data"
    },
    {
     "data": {
      "application/vnd.jupyter.widget-view+json": {
       "model_id": "c72e558a75fa4d7183c1b2db258045be",
       "version_major": 2,
       "version_minor": 0
      },
      "text/plain": [
       "training batch:   0%|          | 0/35 [00:00<?, ?it/s]"
      ]
     },
     "metadata": {},
     "output_type": "display_data"
    },
    {
     "data": {
      "application/vnd.jupyter.widget-view+json": {
       "model_id": "31c49dcaeaa24d5db58258b480861013",
       "version_major": 2,
       "version_minor": 0
      },
      "text/plain": [
       "eval batch:   0%|          | 0/8 [00:00<?, ?it/s]"
      ]
     },
     "metadata": {},
     "output_type": "display_data"
    },
    {
     "data": {
      "application/vnd.jupyter.widget-view+json": {
       "model_id": "14329ec451fe47419c3b8101593019fc",
       "version_major": 2,
       "version_minor": 0
      },
      "text/plain": [
       "training batch:   0%|          | 0/35 [00:00<?, ?it/s]"
      ]
     },
     "metadata": {},
     "output_type": "display_data"
    },
    {
     "data": {
      "application/vnd.jupyter.widget-view+json": {
       "model_id": "2ae33f3016584c31acf9535aba0be184",
       "version_major": 2,
       "version_minor": 0
      },
      "text/plain": [
       "eval batch:   0%|          | 0/8 [00:00<?, ?it/s]"
      ]
     },
     "metadata": {},
     "output_type": "display_data"
    },
    {
     "data": {
      "application/vnd.jupyter.widget-view+json": {
       "model_id": "336e3404b9a34de29f06726533a8fdec",
       "version_major": 2,
       "version_minor": 0
      },
      "text/plain": [
       "training batch:   0%|          | 0/35 [00:00<?, ?it/s]"
      ]
     },
     "metadata": {},
     "output_type": "display_data"
    },
    {
     "data": {
      "application/vnd.jupyter.widget-view+json": {
       "model_id": "f9c470d59d95450185497d72e513b86a",
       "version_major": 2,
       "version_minor": 0
      },
      "text/plain": [
       "eval batch:   0%|          | 0/8 [00:00<?, ?it/s]"
      ]
     },
     "metadata": {},
     "output_type": "display_data"
    },
    {
     "data": {
      "application/vnd.jupyter.widget-view+json": {
       "model_id": "402ae0f9f80b4813af39eeec1ff656bb",
       "version_major": 2,
       "version_minor": 0
      },
      "text/plain": [
       "training batch:   0%|          | 0/35 [00:00<?, ?it/s]"
      ]
     },
     "metadata": {},
     "output_type": "display_data"
    },
    {
     "data": {
      "application/vnd.jupyter.widget-view+json": {
       "model_id": "8f3ec9364f59463ab57f4742f3f6bdd4",
       "version_major": 2,
       "version_minor": 0
      },
      "text/plain": [
       "eval batch:   0%|          | 0/8 [00:00<?, ?it/s]"
      ]
     },
     "metadata": {},
     "output_type": "display_data"
    },
    {
     "data": {
      "application/vnd.jupyter.widget-view+json": {
       "model_id": "b2b4bd9fda854585936a1604fefcbda1",
       "version_major": 2,
       "version_minor": 0
      },
      "text/plain": [
       "training batch:   0%|          | 0/35 [00:00<?, ?it/s]"
      ]
     },
     "metadata": {},
     "output_type": "display_data"
    },
    {
     "data": {
      "application/vnd.jupyter.widget-view+json": {
       "model_id": "bf385bf84ab14f95905ac20a40eade62",
       "version_major": 2,
       "version_minor": 0
      },
      "text/plain": [
       "eval batch:   0%|          | 0/8 [00:00<?, ?it/s]"
      ]
     },
     "metadata": {},
     "output_type": "display_data"
    },
    {
     "data": {
      "application/vnd.jupyter.widget-view+json": {
       "model_id": "6c51d76c9dfc433a814a0940164770c4",
       "version_major": 2,
       "version_minor": 0
      },
      "text/plain": [
       "training batch:   0%|          | 0/35 [00:00<?, ?it/s]"
      ]
     },
     "metadata": {},
     "output_type": "display_data"
    },
    {
     "data": {
      "application/vnd.jupyter.widget-view+json": {
       "model_id": "e6205252766847b293836b6094e06b06",
       "version_major": 2,
       "version_minor": 0
      },
      "text/plain": [
       "eval batch:   0%|          | 0/8 [00:00<?, ?it/s]"
      ]
     },
     "metadata": {},
     "output_type": "display_data"
    },
    {
     "data": {
      "application/vnd.jupyter.widget-view+json": {
       "model_id": "37b202b3647a41e6b805c423809807b1",
       "version_major": 2,
       "version_minor": 0
      },
      "text/plain": [
       "training batch:   0%|          | 0/35 [00:00<?, ?it/s]"
      ]
     },
     "metadata": {},
     "output_type": "display_data"
    },
    {
     "data": {
      "application/vnd.jupyter.widget-view+json": {
       "model_id": "32cc1d858c0c4bfba4f18be20f7a5a20",
       "version_major": 2,
       "version_minor": 0
      },
      "text/plain": [
       "eval batch:   0%|          | 0/8 [00:00<?, ?it/s]"
      ]
     },
     "metadata": {},
     "output_type": "display_data"
    },
    {
     "data": {
      "application/vnd.jupyter.widget-view+json": {
       "model_id": "43114d5fb41a4e37b90d86247e6887ab",
       "version_major": 2,
       "version_minor": 0
      },
      "text/plain": [
       "training batch:   0%|          | 0/35 [00:00<?, ?it/s]"
      ]
     },
     "metadata": {},
     "output_type": "display_data"
    },
    {
     "data": {
      "application/vnd.jupyter.widget-view+json": {
       "model_id": "1c9a804600f5420b9de0add808afa404",
       "version_major": 2,
       "version_minor": 0
      },
      "text/plain": [
       "eval batch:   0%|          | 0/8 [00:00<?, ?it/s]"
      ]
     },
     "metadata": {},
     "output_type": "display_data"
    },
    {
     "data": {
      "application/vnd.jupyter.widget-view+json": {
       "model_id": "0e6dcd3b963041019f644f4e66e8e71f",
       "version_major": 2,
       "version_minor": 0
      },
      "text/plain": [
       "training batch:   0%|          | 0/35 [00:00<?, ?it/s]"
      ]
     },
     "metadata": {},
     "output_type": "display_data"
    },
    {
     "data": {
      "application/vnd.jupyter.widget-view+json": {
       "model_id": "4a59462fa05f404aa55c50d7f59767c0",
       "version_major": 2,
       "version_minor": 0
      },
      "text/plain": [
       "eval batch:   0%|          | 0/8 [00:00<?, ?it/s]"
      ]
     },
     "metadata": {},
     "output_type": "display_data"
    },
    {
     "data": {
      "application/vnd.jupyter.widget-view+json": {
       "model_id": "06c653dc1a404ed0a12aa5d72b25307e",
       "version_major": 2,
       "version_minor": 0
      },
      "text/plain": [
       "training batch:   0%|          | 0/35 [00:00<?, ?it/s]"
      ]
     },
     "metadata": {},
     "output_type": "display_data"
    },
    {
     "data": {
      "application/vnd.jupyter.widget-view+json": {
       "model_id": "8069d23ac7c54b5bbee3aa17627efb9d",
       "version_major": 2,
       "version_minor": 0
      },
      "text/plain": [
       "eval batch:   0%|          | 0/8 [00:00<?, ?it/s]"
      ]
     },
     "metadata": {},
     "output_type": "display_data"
    },
    {
     "data": {
      "application/vnd.jupyter.widget-view+json": {
       "model_id": "3993b064d5ae40bfa5512b9fd26cb6c6",
       "version_major": 2,
       "version_minor": 0
      },
      "text/plain": [
       "training batch:   0%|          | 0/35 [00:00<?, ?it/s]"
      ]
     },
     "metadata": {},
     "output_type": "display_data"
    },
    {
     "data": {
      "application/vnd.jupyter.widget-view+json": {
       "model_id": "ba7a4a146f684472a1c0c8c635e515a8",
       "version_major": 2,
       "version_minor": 0
      },
      "text/plain": [
       "eval batch:   0%|          | 0/8 [00:00<?, ?it/s]"
      ]
     },
     "metadata": {},
     "output_type": "display_data"
    },
    {
     "data": {
      "application/vnd.jupyter.widget-view+json": {
       "model_id": "5ea71a27564940b59d5280af3b197c15",
       "version_major": 2,
       "version_minor": 0
      },
      "text/plain": [
       "training batch:   0%|          | 0/35 [00:00<?, ?it/s]"
      ]
     },
     "metadata": {},
     "output_type": "display_data"
    },
    {
     "data": {
      "application/vnd.jupyter.widget-view+json": {
       "model_id": "f4c5398853f04da29685c5d02721711c",
       "version_major": 2,
       "version_minor": 0
      },
      "text/plain": [
       "eval batch:   0%|          | 0/8 [00:00<?, ?it/s]"
      ]
     },
     "metadata": {},
     "output_type": "display_data"
    },
    {
     "data": {
      "application/vnd.jupyter.widget-view+json": {
       "model_id": "c1fb98bf5aa748e7bc60c490dc579b89",
       "version_major": 2,
       "version_minor": 0
      },
      "text/plain": [
       "training batch:   0%|          | 0/35 [00:00<?, ?it/s]"
      ]
     },
     "metadata": {},
     "output_type": "display_data"
    },
    {
     "data": {
      "application/vnd.jupyter.widget-view+json": {
       "model_id": "8c6a2f147b924cfe9183686f7e63268d",
       "version_major": 2,
       "version_minor": 0
      },
      "text/plain": [
       "eval batch:   0%|          | 0/8 [00:00<?, ?it/s]"
      ]
     },
     "metadata": {},
     "output_type": "display_data"
    },
    {
     "data": {
      "application/vnd.jupyter.widget-view+json": {
       "model_id": "2c85189859e34b54a555e247d515cfde",
       "version_major": 2,
       "version_minor": 0
      },
      "text/plain": [
       "training batch:   0%|          | 0/35 [00:00<?, ?it/s]"
      ]
     },
     "metadata": {},
     "output_type": "display_data"
    },
    {
     "data": {
      "application/vnd.jupyter.widget-view+json": {
       "model_id": "4629ed8416914f10ab63f8fe036e3688",
       "version_major": 2,
       "version_minor": 0
      },
      "text/plain": [
       "eval batch:   0%|          | 0/8 [00:00<?, ?it/s]"
      ]
     },
     "metadata": {},
     "output_type": "display_data"
    },
    {
     "data": {
      "application/vnd.jupyter.widget-view+json": {
       "model_id": "53ac635e24634a9483f4d84191ce205e",
       "version_major": 2,
       "version_minor": 0
      },
      "text/plain": [
       "training batch:   0%|          | 0/35 [00:00<?, ?it/s]"
      ]
     },
     "metadata": {},
     "output_type": "display_data"
    },
    {
     "data": {
      "application/vnd.jupyter.widget-view+json": {
       "model_id": "6223ff62755f439abbb51f44fe6b8467",
       "version_major": 2,
       "version_minor": 0
      },
      "text/plain": [
       "eval batch:   0%|          | 0/8 [00:00<?, ?it/s]"
      ]
     },
     "metadata": {},
     "output_type": "display_data"
    },
    {
     "data": {
      "application/vnd.jupyter.widget-view+json": {
       "model_id": "73f88cf92aea41d49f7c67f288430acd",
       "version_major": 2,
       "version_minor": 0
      },
      "text/plain": [
       "training batch:   0%|          | 0/35 [00:00<?, ?it/s]"
      ]
     },
     "metadata": {},
     "output_type": "display_data"
    },
    {
     "data": {
      "application/vnd.jupyter.widget-view+json": {
       "model_id": "7ab9a87f667f41418186a4081b771533",
       "version_major": 2,
       "version_minor": 0
      },
      "text/plain": [
       "eval batch:   0%|          | 0/8 [00:00<?, ?it/s]"
      ]
     },
     "metadata": {},
     "output_type": "display_data"
    },
    {
     "data": {
      "application/vnd.jupyter.widget-view+json": {
       "model_id": "99ac87b5114e431bbe1f98c91fc88f87",
       "version_major": 2,
       "version_minor": 0
      },
      "text/plain": [
       "training batch:   0%|          | 0/35 [00:00<?, ?it/s]"
      ]
     },
     "metadata": {},
     "output_type": "display_data"
    },
    {
     "data": {
      "application/vnd.jupyter.widget-view+json": {
       "model_id": "5afa3783903340b2a2375b54d5a83ea2",
       "version_major": 2,
       "version_minor": 0
      },
      "text/plain": [
       "eval batch:   0%|          | 0/8 [00:00<?, ?it/s]"
      ]
     },
     "metadata": {},
     "output_type": "display_data"
    },
    {
     "data": {
      "application/vnd.jupyter.widget-view+json": {
       "model_id": "683cc27bc0374cdc91e123d28b5bd47e",
       "version_major": 2,
       "version_minor": 0
      },
      "text/plain": [
       "training batch:   0%|          | 0/35 [00:00<?, ?it/s]"
      ]
     },
     "metadata": {},
     "output_type": "display_data"
    },
    {
     "data": {
      "application/vnd.jupyter.widget-view+json": {
       "model_id": "c1a748a47bac4944bb950d7e960b7238",
       "version_major": 2,
       "version_minor": 0
      },
      "text/plain": [
       "eval batch:   0%|          | 0/8 [00:00<?, ?it/s]"
      ]
     },
     "metadata": {},
     "output_type": "display_data"
    },
    {
     "data": {
      "application/vnd.jupyter.widget-view+json": {
       "model_id": "135929146ac74be59dcaf4a65a9735f9",
       "version_major": 2,
       "version_minor": 0
      },
      "text/plain": [
       "training batch:   0%|          | 0/35 [00:00<?, ?it/s]"
      ]
     },
     "metadata": {},
     "output_type": "display_data"
    },
    {
     "data": {
      "application/vnd.jupyter.widget-view+json": {
       "model_id": "e60eb94a2f004f10ac397afe0423a45f",
       "version_major": 2,
       "version_minor": 0
      },
      "text/plain": [
       "eval batch:   0%|          | 0/8 [00:00<?, ?it/s]"
      ]
     },
     "metadata": {},
     "output_type": "display_data"
    },
    {
     "data": {
      "application/vnd.jupyter.widget-view+json": {
       "model_id": "0676566a9e4245619198ad0492abdca4",
       "version_major": 2,
       "version_minor": 0
      },
      "text/plain": [
       "training batch:   0%|          | 0/35 [00:00<?, ?it/s]"
      ]
     },
     "metadata": {},
     "output_type": "display_data"
    },
    {
     "data": {
      "application/vnd.jupyter.widget-view+json": {
       "model_id": "845c7d209f934d49b75f7bd07e657682",
       "version_major": 2,
       "version_minor": 0
      },
      "text/plain": [
       "eval batch:   0%|          | 0/8 [00:00<?, ?it/s]"
      ]
     },
     "metadata": {},
     "output_type": "display_data"
    },
    {
     "data": {
      "application/vnd.jupyter.widget-view+json": {
       "model_id": "d15330d9b3c74cd29b594433ab27ddf9",
       "version_major": 2,
       "version_minor": 0
      },
      "text/plain": [
       "training batch:   0%|          | 0/35 [00:00<?, ?it/s]"
      ]
     },
     "metadata": {},
     "output_type": "display_data"
    },
    {
     "data": {
      "application/vnd.jupyter.widget-view+json": {
       "model_id": "0df3f330cd0e4a018d070fbacf876d38",
       "version_major": 2,
       "version_minor": 0
      },
      "text/plain": [
       "eval batch:   0%|          | 0/8 [00:00<?, ?it/s]"
      ]
     },
     "metadata": {},
     "output_type": "display_data"
    },
    {
     "data": {
      "application/vnd.jupyter.widget-view+json": {
       "model_id": "4a10aa059caa4b4eb46749ab973ab0be",
       "version_major": 2,
       "version_minor": 0
      },
      "text/plain": [
       "training batch:   0%|          | 0/35 [00:00<?, ?it/s]"
      ]
     },
     "metadata": {},
     "output_type": "display_data"
    },
    {
     "data": {
      "application/vnd.jupyter.widget-view+json": {
       "model_id": "e5545c3b45414f4b841c61084f5e19a7",
       "version_major": 2,
       "version_minor": 0
      },
      "text/plain": [
       "eval batch:   0%|          | 0/8 [00:00<?, ?it/s]"
      ]
     },
     "metadata": {},
     "output_type": "display_data"
    },
    {
     "data": {
      "application/vnd.jupyter.widget-view+json": {
       "model_id": "92039556ea664b96b22bf824a605b650",
       "version_major": 2,
       "version_minor": 0
      },
      "text/plain": [
       "training batch:   0%|          | 0/35 [00:00<?, ?it/s]"
      ]
     },
     "metadata": {},
     "output_type": "display_data"
    },
    {
     "data": {
      "application/vnd.jupyter.widget-view+json": {
       "model_id": "0777bbbc771d433196db856e4193c669",
       "version_major": 2,
       "version_minor": 0
      },
      "text/plain": [
       "eval batch:   0%|          | 0/8 [00:00<?, ?it/s]"
      ]
     },
     "metadata": {},
     "output_type": "display_data"
    },
    {
     "data": {
      "application/vnd.jupyter.widget-view+json": {
       "model_id": "5cdd864041a74176bbeb25e77c0b0c7f",
       "version_major": 2,
       "version_minor": 0
      },
      "text/plain": [
       "training batch:   0%|          | 0/35 [00:00<?, ?it/s]"
      ]
     },
     "metadata": {},
     "output_type": "display_data"
    },
    {
     "data": {
      "application/vnd.jupyter.widget-view+json": {
       "model_id": "9d1b2646cd3a422aac8072ec4f522447",
       "version_major": 2,
       "version_minor": 0
      },
      "text/plain": [
       "eval batch:   0%|          | 0/8 [00:00<?, ?it/s]"
      ]
     },
     "metadata": {},
     "output_type": "display_data"
    },
    {
     "data": {
      "application/vnd.jupyter.widget-view+json": {
       "model_id": "b49a2f05d2d541d2985ef7ea137f734c",
       "version_major": 2,
       "version_minor": 0
      },
      "text/plain": [
       "training batch:   0%|          | 0/35 [00:00<?, ?it/s]"
      ]
     },
     "metadata": {},
     "output_type": "display_data"
    },
    {
     "data": {
      "application/vnd.jupyter.widget-view+json": {
       "model_id": "559b5dcd06e2434e8c99a31cd4974743",
       "version_major": 2,
       "version_minor": 0
      },
      "text/plain": [
       "eval batch:   0%|          | 0/8 [00:00<?, ?it/s]"
      ]
     },
     "metadata": {},
     "output_type": "display_data"
    },
    {
     "data": {
      "application/vnd.jupyter.widget-view+json": {
       "model_id": "b1817807d8944925b6cceba88fb86dc1",
       "version_major": 2,
       "version_minor": 0
      },
      "text/plain": [
       "training batch:   0%|          | 0/35 [00:00<?, ?it/s]"
      ]
     },
     "metadata": {},
     "output_type": "display_data"
    },
    {
     "data": {
      "application/vnd.jupyter.widget-view+json": {
       "model_id": "5820cb645a7e4f4895d7a5c781c6e3a7",
       "version_major": 2,
       "version_minor": 0
      },
      "text/plain": [
       "eval batch:   0%|          | 0/8 [00:00<?, ?it/s]"
      ]
     },
     "metadata": {},
     "output_type": "display_data"
    },
    {
     "data": {
      "application/vnd.jupyter.widget-view+json": {
       "model_id": "5a8fc5c0138d448bbf995d81f7ed949f",
       "version_major": 2,
       "version_minor": 0
      },
      "text/plain": [
       "training batch:   0%|          | 0/35 [00:00<?, ?it/s]"
      ]
     },
     "metadata": {},
     "output_type": "display_data"
    },
    {
     "data": {
      "application/vnd.jupyter.widget-view+json": {
       "model_id": "f6623a25904d45858942de1673fceb57",
       "version_major": 2,
       "version_minor": 0
      },
      "text/plain": [
       "eval batch:   0%|          | 0/8 [00:00<?, ?it/s]"
      ]
     },
     "metadata": {},
     "output_type": "display_data"
    },
    {
     "data": {
      "application/vnd.jupyter.widget-view+json": {
       "model_id": "d1f2e677850a4091b64341103fa7ad3e",
       "version_major": 2,
       "version_minor": 0
      },
      "text/plain": [
       "training batch:   0%|          | 0/35 [00:00<?, ?it/s]"
      ]
     },
     "metadata": {},
     "output_type": "display_data"
    },
    {
     "data": {
      "application/vnd.jupyter.widget-view+json": {
       "model_id": "8f8990ad09144a43b55cead98e202b76",
       "version_major": 2,
       "version_minor": 0
      },
      "text/plain": [
       "eval batch:   0%|          | 0/8 [00:00<?, ?it/s]"
      ]
     },
     "metadata": {},
     "output_type": "display_data"
    },
    {
     "data": {
      "application/vnd.jupyter.widget-view+json": {
       "model_id": "43c3f65ede7b4f298a88439ac95effea",
       "version_major": 2,
       "version_minor": 0
      },
      "text/plain": [
       "training batch:   0%|          | 0/35 [00:00<?, ?it/s]"
      ]
     },
     "metadata": {},
     "output_type": "display_data"
    },
    {
     "data": {
      "application/vnd.jupyter.widget-view+json": {
       "model_id": "139307f2f79541d6b1d4a3f599e2a300",
       "version_major": 2,
       "version_minor": 0
      },
      "text/plain": [
       "eval batch:   0%|          | 0/8 [00:00<?, ?it/s]"
      ]
     },
     "metadata": {},
     "output_type": "display_data"
    },
    {
     "data": {
      "application/vnd.jupyter.widget-view+json": {
       "model_id": "e1450f77bdf7467cb1414c4fa60e976c",
       "version_major": 2,
       "version_minor": 0
      },
      "text/plain": [
       "training batch:   0%|          | 0/35 [00:00<?, ?it/s]"
      ]
     },
     "metadata": {},
     "output_type": "display_data"
    },
    {
     "data": {
      "application/vnd.jupyter.widget-view+json": {
       "model_id": "ea9fa629a0f541049f414cedeb7bdb1f",
       "version_major": 2,
       "version_minor": 0
      },
      "text/plain": [
       "eval batch:   0%|          | 0/8 [00:00<?, ?it/s]"
      ]
     },
     "metadata": {},
     "output_type": "display_data"
    },
    {
     "data": {
      "application/vnd.jupyter.widget-view+json": {
       "model_id": "1e4a26167a244b46a6a8a2c2d3426386",
       "version_major": 2,
       "version_minor": 0
      },
      "text/plain": [
       "training batch:   0%|          | 0/35 [00:00<?, ?it/s]"
      ]
     },
     "metadata": {},
     "output_type": "display_data"
    },
    {
     "data": {
      "application/vnd.jupyter.widget-view+json": {
       "model_id": "f9c1633280ab4ee78a85f884ac7f9de9",
       "version_major": 2,
       "version_minor": 0
      },
      "text/plain": [
       "eval batch:   0%|          | 0/8 [00:00<?, ?it/s]"
      ]
     },
     "metadata": {},
     "output_type": "display_data"
    },
    {
     "data": {
      "application/vnd.jupyter.widget-view+json": {
       "model_id": "fe05c59edf904c6fbfb6c9d3f9a8ecea",
       "version_major": 2,
       "version_minor": 0
      },
      "text/plain": [
       "training batch:   0%|          | 0/35 [00:00<?, ?it/s]"
      ]
     },
     "metadata": {},
     "output_type": "display_data"
    },
    {
     "data": {
      "application/vnd.jupyter.widget-view+json": {
       "model_id": "4b403c263b9c4e95a3a6e9cd5f0ab68c",
       "version_major": 2,
       "version_minor": 0
      },
      "text/plain": [
       "eval batch:   0%|          | 0/8 [00:00<?, ?it/s]"
      ]
     },
     "metadata": {},
     "output_type": "display_data"
    },
    {
     "data": {
      "application/vnd.jupyter.widget-view+json": {
       "model_id": "5a3b76812ba84b68a0399338b140a2d8",
       "version_major": 2,
       "version_minor": 0
      },
      "text/plain": [
       "training batch:   0%|          | 0/35 [00:00<?, ?it/s]"
      ]
     },
     "metadata": {},
     "output_type": "display_data"
    },
    {
     "data": {
      "application/vnd.jupyter.widget-view+json": {
       "model_id": "d0d49f5724ad4d3c84229f3f412e5858",
       "version_major": 2,
       "version_minor": 0
      },
      "text/plain": [
       "eval batch:   0%|          | 0/8 [00:00<?, ?it/s]"
      ]
     },
     "metadata": {},
     "output_type": "display_data"
    },
    {
     "data": {
      "application/vnd.jupyter.widget-view+json": {
       "model_id": "50b8ec1153f24c2fb3e2398ed0cf16f7",
       "version_major": 2,
       "version_minor": 0
      },
      "text/plain": [
       "training batch:   0%|          | 0/35 [00:00<?, ?it/s]"
      ]
     },
     "metadata": {},
     "output_type": "display_data"
    },
    {
     "data": {
      "application/vnd.jupyter.widget-view+json": {
       "model_id": "862ac3c760574af9b0b60336b9d183d2",
       "version_major": 2,
       "version_minor": 0
      },
      "text/plain": [
       "eval batch:   0%|          | 0/8 [00:00<?, ?it/s]"
      ]
     },
     "metadata": {},
     "output_type": "display_data"
    },
    {
     "data": {
      "application/vnd.jupyter.widget-view+json": {
       "model_id": "6f8edcd0a91d45028c0f72bbb0e856c1",
       "version_major": 2,
       "version_minor": 0
      },
      "text/plain": [
       "training batch:   0%|          | 0/35 [00:00<?, ?it/s]"
      ]
     },
     "metadata": {},
     "output_type": "display_data"
    },
    {
     "data": {
      "application/vnd.jupyter.widget-view+json": {
       "model_id": "9d5687a64fb94a2b9f8076f83e71bd90",
       "version_major": 2,
       "version_minor": 0
      },
      "text/plain": [
       "eval batch:   0%|          | 0/8 [00:00<?, ?it/s]"
      ]
     },
     "metadata": {},
     "output_type": "display_data"
    },
    {
     "data": {
      "application/vnd.jupyter.widget-view+json": {
       "model_id": "92529162eafe427cb76e149994fea3e8",
       "version_major": 2,
       "version_minor": 0
      },
      "text/plain": [
       "training batch:   0%|          | 0/35 [00:00<?, ?it/s]"
      ]
     },
     "metadata": {},
     "output_type": "display_data"
    },
    {
     "data": {
      "application/vnd.jupyter.widget-view+json": {
       "model_id": "b2caf686599a4536b7b0542700ceebde",
       "version_major": 2,
       "version_minor": 0
      },
      "text/plain": [
       "eval batch:   0%|          | 0/8 [00:00<?, ?it/s]"
      ]
     },
     "metadata": {},
     "output_type": "display_data"
    },
    {
     "data": {
      "application/vnd.jupyter.widget-view+json": {
       "model_id": "e15a8024f7dc43c28179e74f4e1d8157",
       "version_major": 2,
       "version_minor": 0
      },
      "text/plain": [
       "training batch:   0%|          | 0/35 [00:00<?, ?it/s]"
      ]
     },
     "metadata": {},
     "output_type": "display_data"
    },
    {
     "data": {
      "application/vnd.jupyter.widget-view+json": {
       "model_id": "7a24263788d1409bb57ea02c4cadd424",
       "version_major": 2,
       "version_minor": 0
      },
      "text/plain": [
       "eval batch:   0%|          | 0/8 [00:00<?, ?it/s]"
      ]
     },
     "metadata": {},
     "output_type": "display_data"
    },
    {
     "data": {
      "application/vnd.jupyter.widget-view+json": {
       "model_id": "6a8006baf9d948afaf7f7e7bb92ea415",
       "version_major": 2,
       "version_minor": 0
      },
      "text/plain": [
       "training batch:   0%|          | 0/35 [00:00<?, ?it/s]"
      ]
     },
     "metadata": {},
     "output_type": "display_data"
    },
    {
     "data": {
      "application/vnd.jupyter.widget-view+json": {
       "model_id": "c55874fe3b9943869a659211f8d94ea3",
       "version_major": 2,
       "version_minor": 0
      },
      "text/plain": [
       "eval batch:   0%|          | 0/8 [00:00<?, ?it/s]"
      ]
     },
     "metadata": {},
     "output_type": "display_data"
    },
    {
     "data": {
      "application/vnd.jupyter.widget-view+json": {
       "model_id": "45caeaab60354c849e9a449b216c02d5",
       "version_major": 2,
       "version_minor": 0
      },
      "text/plain": [
       "training batch:   0%|          | 0/35 [00:00<?, ?it/s]"
      ]
     },
     "metadata": {},
     "output_type": "display_data"
    },
    {
     "data": {
      "application/vnd.jupyter.widget-view+json": {
       "model_id": "ae8725315a73405280f31daa97e3bb2e",
       "version_major": 2,
       "version_minor": 0
      },
      "text/plain": [
       "eval batch:   0%|          | 0/8 [00:00<?, ?it/s]"
      ]
     },
     "metadata": {},
     "output_type": "display_data"
    },
    {
     "data": {
      "application/vnd.jupyter.widget-view+json": {
       "model_id": "a6961e0302714a68b2ca4c89ea53c416",
       "version_major": 2,
       "version_minor": 0
      },
      "text/plain": [
       "training batch:   0%|          | 0/35 [00:00<?, ?it/s]"
      ]
     },
     "metadata": {},
     "output_type": "display_data"
    },
    {
     "data": {
      "application/vnd.jupyter.widget-view+json": {
       "model_id": "4d519e7fe6984053a62f3dcf93070ba9",
       "version_major": 2,
       "version_minor": 0
      },
      "text/plain": [
       "eval batch:   0%|          | 0/8 [00:00<?, ?it/s]"
      ]
     },
     "metadata": {},
     "output_type": "display_data"
    },
    {
     "data": {
      "application/vnd.jupyter.widget-view+json": {
       "model_id": "93bf1e73cea6411aa03f2641b3af54c8",
       "version_major": 2,
       "version_minor": 0
      },
      "text/plain": [
       "training batch:   0%|          | 0/35 [00:00<?, ?it/s]"
      ]
     },
     "metadata": {},
     "output_type": "display_data"
    },
    {
     "data": {
      "application/vnd.jupyter.widget-view+json": {
       "model_id": "d38d8a211b6d40059a051d1ddf9ef5ec",
       "version_major": 2,
       "version_minor": 0
      },
      "text/plain": [
       "eval batch:   0%|          | 0/8 [00:00<?, ?it/s]"
      ]
     },
     "metadata": {},
     "output_type": "display_data"
    },
    {
     "data": {
      "application/vnd.jupyter.widget-view+json": {
       "model_id": "2934a9cb2c3d449bbc1f9ba32f427a49",
       "version_major": 2,
       "version_minor": 0
      },
      "text/plain": [
       "training batch:   0%|          | 0/35 [00:00<?, ?it/s]"
      ]
     },
     "metadata": {},
     "output_type": "display_data"
    },
    {
     "data": {
      "application/vnd.jupyter.widget-view+json": {
       "model_id": "267784b97b214dec827ca17cbd53fea9",
       "version_major": 2,
       "version_minor": 0
      },
      "text/plain": [
       "eval batch:   0%|          | 0/8 [00:00<?, ?it/s]"
      ]
     },
     "metadata": {},
     "output_type": "display_data"
    },
    {
     "data": {
      "application/vnd.jupyter.widget-view+json": {
       "model_id": "36bae34d7c194053a69137dc291e665b",
       "version_major": 2,
       "version_minor": 0
      },
      "text/plain": [
       "training batch:   0%|          | 0/35 [00:00<?, ?it/s]"
      ]
     },
     "metadata": {},
     "output_type": "display_data"
    },
    {
     "data": {
      "application/vnd.jupyter.widget-view+json": {
       "model_id": "8c3873737b93404c8fc8eee8c6a71fa5",
       "version_major": 2,
       "version_minor": 0
      },
      "text/plain": [
       "eval batch:   0%|          | 0/8 [00:00<?, ?it/s]"
      ]
     },
     "metadata": {},
     "output_type": "display_data"
    },
    {
     "data": {
      "application/vnd.jupyter.widget-view+json": {
       "model_id": "1544e694ffb64736a572461c3e38ef89",
       "version_major": 2,
       "version_minor": 0
      },
      "text/plain": [
       "training batch:   0%|          | 0/35 [00:00<?, ?it/s]"
      ]
     },
     "metadata": {},
     "output_type": "display_data"
    },
    {
     "data": {
      "application/vnd.jupyter.widget-view+json": {
       "model_id": "99632d5dddd44e90b95c2087c7ddcf3d",
       "version_major": 2,
       "version_minor": 0
      },
      "text/plain": [
       "eval batch:   0%|          | 0/8 [00:00<?, ?it/s]"
      ]
     },
     "metadata": {},
     "output_type": "display_data"
    },
    {
     "data": {
      "application/vnd.jupyter.widget-view+json": {
       "model_id": "b81794c271b041aabdf47f160ff18fa8",
       "version_major": 2,
       "version_minor": 0
      },
      "text/plain": [
       "training batch:   0%|          | 0/35 [00:00<?, ?it/s]"
      ]
     },
     "metadata": {},
     "output_type": "display_data"
    },
    {
     "data": {
      "application/vnd.jupyter.widget-view+json": {
       "model_id": "b3ecaf3d34464029814c60a831262ca7",
       "version_major": 2,
       "version_minor": 0
      },
      "text/plain": [
       "eval batch:   0%|          | 0/8 [00:00<?, ?it/s]"
      ]
     },
     "metadata": {},
     "output_type": "display_data"
    },
    {
     "data": {
      "application/vnd.jupyter.widget-view+json": {
       "model_id": "5ee6086c568249ba81406ff633726937",
       "version_major": 2,
       "version_minor": 0
      },
      "text/plain": [
       "training batch:   0%|          | 0/35 [00:00<?, ?it/s]"
      ]
     },
     "metadata": {},
     "output_type": "display_data"
    },
    {
     "data": {
      "application/vnd.jupyter.widget-view+json": {
       "model_id": "b9d7d8f6a74d433d808330664795374b",
       "version_major": 2,
       "version_minor": 0
      },
      "text/plain": [
       "eval batch:   0%|          | 0/8 [00:00<?, ?it/s]"
      ]
     },
     "metadata": {},
     "output_type": "display_data"
    },
    {
     "data": {
      "application/vnd.jupyter.widget-view+json": {
       "model_id": "520e5d8e87494bf8ad4ce2b057b24837",
       "version_major": 2,
       "version_minor": 0
      },
      "text/plain": [
       "training batch:   0%|          | 0/35 [00:00<?, ?it/s]"
      ]
     },
     "metadata": {},
     "output_type": "display_data"
    },
    {
     "data": {
      "application/vnd.jupyter.widget-view+json": {
       "model_id": "fd3675316e084fd88bb3983c1fc59096",
       "version_major": 2,
       "version_minor": 0
      },
      "text/plain": [
       "eval batch:   0%|          | 0/8 [00:00<?, ?it/s]"
      ]
     },
     "metadata": {},
     "output_type": "display_data"
    },
    {
     "data": {
      "application/vnd.jupyter.widget-view+json": {
       "model_id": "7d06cb7b49574d399904ee94421dd32a",
       "version_major": 2,
       "version_minor": 0
      },
      "text/plain": [
       "training batch:   0%|          | 0/35 [00:00<?, ?it/s]"
      ]
     },
     "metadata": {},
     "output_type": "display_data"
    },
    {
     "data": {
      "application/vnd.jupyter.widget-view+json": {
       "model_id": "d9443c74249548ed97cf83721cf3b682",
       "version_major": 2,
       "version_minor": 0
      },
      "text/plain": [
       "eval batch:   0%|          | 0/8 [00:00<?, ?it/s]"
      ]
     },
     "metadata": {},
     "output_type": "display_data"
    },
    {
     "data": {
      "application/vnd.jupyter.widget-view+json": {
       "model_id": "4e43476d6bab428a93944c2c49329db6",
       "version_major": 2,
       "version_minor": 0
      },
      "text/plain": [
       "training batch:   0%|          | 0/35 [00:00<?, ?it/s]"
      ]
     },
     "metadata": {},
     "output_type": "display_data"
    },
    {
     "data": {
      "application/vnd.jupyter.widget-view+json": {
       "model_id": "38cc92c834ce40e8bb5adc253573e700",
       "version_major": 2,
       "version_minor": 0
      },
      "text/plain": [
       "eval batch:   0%|          | 0/8 [00:00<?, ?it/s]"
      ]
     },
     "metadata": {},
     "output_type": "display_data"
    },
    {
     "data": {
      "application/vnd.jupyter.widget-view+json": {
       "model_id": "804c1d555010454cb7015488a8e4a19d",
       "version_major": 2,
       "version_minor": 0
      },
      "text/plain": [
       "training batch:   0%|          | 0/35 [00:00<?, ?it/s]"
      ]
     },
     "metadata": {},
     "output_type": "display_data"
    },
    {
     "data": {
      "application/vnd.jupyter.widget-view+json": {
       "model_id": "7ed3bc4084bd465583cc4dc54c0b5b22",
       "version_major": 2,
       "version_minor": 0
      },
      "text/plain": [
       "eval batch:   0%|          | 0/8 [00:00<?, ?it/s]"
      ]
     },
     "metadata": {},
     "output_type": "display_data"
    },
    {
     "data": {
      "application/vnd.jupyter.widget-view+json": {
       "model_id": "bd8a4ba7ed8741cf94edbe0f77099a5d",
       "version_major": 2,
       "version_minor": 0
      },
      "text/plain": [
       "training batch:   0%|          | 0/35 [00:00<?, ?it/s]"
      ]
     },
     "metadata": {},
     "output_type": "display_data"
    },
    {
     "data": {
      "application/vnd.jupyter.widget-view+json": {
       "model_id": "65645714834c4e56990cb5e8b3374783",
       "version_major": 2,
       "version_minor": 0
      },
      "text/plain": [
       "eval batch:   0%|          | 0/8 [00:00<?, ?it/s]"
      ]
     },
     "metadata": {},
     "output_type": "display_data"
    },
    {
     "data": {
      "application/vnd.jupyter.widget-view+json": {
       "model_id": "d014d05dacc2465d8a3cd958ff442eeb",
       "version_major": 2,
       "version_minor": 0
      },
      "text/plain": [
       "training batch:   0%|          | 0/35 [00:00<?, ?it/s]"
      ]
     },
     "metadata": {},
     "output_type": "display_data"
    },
    {
     "data": {
      "application/vnd.jupyter.widget-view+json": {
       "model_id": "a763bbb5d5c54e73a7f24dab63f7b452",
       "version_major": 2,
       "version_minor": 0
      },
      "text/plain": [
       "eval batch:   0%|          | 0/8 [00:00<?, ?it/s]"
      ]
     },
     "metadata": {},
     "output_type": "display_data"
    },
    {
     "data": {
      "application/vnd.jupyter.widget-view+json": {
       "model_id": "d5d2067c69564cb1a537ecdb0f94f623",
       "version_major": 2,
       "version_minor": 0
      },
      "text/plain": [
       "training batch:   0%|          | 0/35 [00:00<?, ?it/s]"
      ]
     },
     "metadata": {},
     "output_type": "display_data"
    },
    {
     "data": {
      "application/vnd.jupyter.widget-view+json": {
       "model_id": "d06350bf96814988982d0db2f1ad68a2",
       "version_major": 2,
       "version_minor": 0
      },
      "text/plain": [
       "eval batch:   0%|          | 0/8 [00:00<?, ?it/s]"
      ]
     },
     "metadata": {},
     "output_type": "display_data"
    },
    {
     "data": {
      "application/vnd.jupyter.widget-view+json": {
       "model_id": "4ad96545e2084f81bc9576152293439e",
       "version_major": 2,
       "version_minor": 0
      },
      "text/plain": [
       "training batch:   0%|          | 0/35 [00:00<?, ?it/s]"
      ]
     },
     "metadata": {},
     "output_type": "display_data"
    },
    {
     "data": {
      "application/vnd.jupyter.widget-view+json": {
       "model_id": "dad06030f18c436b845aba373060504d",
       "version_major": 2,
       "version_minor": 0
      },
      "text/plain": [
       "eval batch:   0%|          | 0/8 [00:00<?, ?it/s]"
      ]
     },
     "metadata": {},
     "output_type": "display_data"
    },
    {
     "data": {
      "application/vnd.jupyter.widget-view+json": {
       "model_id": "c9c52b416f584657888e96631ae80e08",
       "version_major": 2,
       "version_minor": 0
      },
      "text/plain": [
       "training batch:   0%|          | 0/35 [00:00<?, ?it/s]"
      ]
     },
     "metadata": {},
     "output_type": "display_data"
    },
    {
     "data": {
      "application/vnd.jupyter.widget-view+json": {
       "model_id": "052f141e62f44207bfe15df7d5683d44",
       "version_major": 2,
       "version_minor": 0
      },
      "text/plain": [
       "eval batch:   0%|          | 0/8 [00:00<?, ?it/s]"
      ]
     },
     "metadata": {},
     "output_type": "display_data"
    },
    {
     "data": {
      "application/vnd.jupyter.widget-view+json": {
       "model_id": "08e972b7ab2e42f1922a6b433c5cf50b",
       "version_major": 2,
       "version_minor": 0
      },
      "text/plain": [
       "training batch:   0%|          | 0/35 [00:00<?, ?it/s]"
      ]
     },
     "metadata": {},
     "output_type": "display_data"
    },
    {
     "data": {
      "application/vnd.jupyter.widget-view+json": {
       "model_id": "34f50eb2f1044b99a6c1fe3336222d08",
       "version_major": 2,
       "version_minor": 0
      },
      "text/plain": [
       "eval batch:   0%|          | 0/8 [00:00<?, ?it/s]"
      ]
     },
     "metadata": {},
     "output_type": "display_data"
    },
    {
     "data": {
      "application/vnd.jupyter.widget-view+json": {
       "model_id": "d0ae688fe722473898ea02e62c0efb58",
       "version_major": 2,
       "version_minor": 0
      },
      "text/plain": [
       "training batch:   0%|          | 0/35 [00:00<?, ?it/s]"
      ]
     },
     "metadata": {},
     "output_type": "display_data"
    },
    {
     "data": {
      "application/vnd.jupyter.widget-view+json": {
       "model_id": "63ff35c8d32d426ba74717d95ac9404d",
       "version_major": 2,
       "version_minor": 0
      },
      "text/plain": [
       "eval batch:   0%|          | 0/8 [00:00<?, ?it/s]"
      ]
     },
     "metadata": {},
     "output_type": "display_data"
    },
    {
     "data": {
      "application/vnd.jupyter.widget-view+json": {
       "model_id": "254d42d86152475699f68b3437ec87c7",
       "version_major": 2,
       "version_minor": 0
      },
      "text/plain": [
       "training batch:   0%|          | 0/35 [00:00<?, ?it/s]"
      ]
     },
     "metadata": {},
     "output_type": "display_data"
    },
    {
     "data": {
      "application/vnd.jupyter.widget-view+json": {
       "model_id": "9003d64f86a143d3b0ede88db98586ea",
       "version_major": 2,
       "version_minor": 0
      },
      "text/plain": [
       "eval batch:   0%|          | 0/8 [00:00<?, ?it/s]"
      ]
     },
     "metadata": {},
     "output_type": "display_data"
    },
    {
     "data": {
      "application/vnd.jupyter.widget-view+json": {
       "model_id": "818d22f9354c4307b029752df1314cca",
       "version_major": 2,
       "version_minor": 0
      },
      "text/plain": [
       "training batch:   0%|          | 0/35 [00:00<?, ?it/s]"
      ]
     },
     "metadata": {},
     "output_type": "display_data"
    },
    {
     "data": {
      "application/vnd.jupyter.widget-view+json": {
       "model_id": "289db09aef9d40aeba76dce9ae3e8fe0",
       "version_major": 2,
       "version_minor": 0
      },
      "text/plain": [
       "eval batch:   0%|          | 0/8 [00:00<?, ?it/s]"
      ]
     },
     "metadata": {},
     "output_type": "display_data"
    },
    {
     "data": {
      "application/vnd.jupyter.widget-view+json": {
       "model_id": "6719caf1a7f243098408543ed27c29cb",
       "version_major": 2,
       "version_minor": 0
      },
      "text/plain": [
       "training batch:   0%|          | 0/35 [00:00<?, ?it/s]"
      ]
     },
     "metadata": {},
     "output_type": "display_data"
    },
    {
     "data": {
      "application/vnd.jupyter.widget-view+json": {
       "model_id": "4867d891a95e497b941160d7a362c8c8",
       "version_major": 2,
       "version_minor": 0
      },
      "text/plain": [
       "eval batch:   0%|          | 0/8 [00:00<?, ?it/s]"
      ]
     },
     "metadata": {},
     "output_type": "display_data"
    },
    {
     "data": {
      "application/vnd.jupyter.widget-view+json": {
       "model_id": "b41216dacb8741c4b9b0de2add19b1c4",
       "version_major": 2,
       "version_minor": 0
      },
      "text/plain": [
       "training batch:   0%|          | 0/35 [00:00<?, ?it/s]"
      ]
     },
     "metadata": {},
     "output_type": "display_data"
    },
    {
     "data": {
      "application/vnd.jupyter.widget-view+json": {
       "model_id": "81de063296e74338b890bda5edd9b307",
       "version_major": 2,
       "version_minor": 0
      },
      "text/plain": [
       "eval batch:   0%|          | 0/8 [00:00<?, ?it/s]"
      ]
     },
     "metadata": {},
     "output_type": "display_data"
    },
    {
     "data": {
      "application/vnd.jupyter.widget-view+json": {
       "model_id": "f38a557c44b94628b3427e8ac728c105",
       "version_major": 2,
       "version_minor": 0
      },
      "text/plain": [
       "training batch:   0%|          | 0/35 [00:00<?, ?it/s]"
      ]
     },
     "metadata": {},
     "output_type": "display_data"
    },
    {
     "data": {
      "application/vnd.jupyter.widget-view+json": {
       "model_id": "ba41eaebfcdf472ab6f21a25793bf24c",
       "version_major": 2,
       "version_minor": 0
      },
      "text/plain": [
       "eval batch:   0%|          | 0/8 [00:00<?, ?it/s]"
      ]
     },
     "metadata": {},
     "output_type": "display_data"
    },
    {
     "data": {
      "application/vnd.jupyter.widget-view+json": {
       "model_id": "9cadf5bd0fe041ce9cd79c8cc95e984d",
       "version_major": 2,
       "version_minor": 0
      },
      "text/plain": [
       "training batch:   0%|          | 0/35 [00:00<?, ?it/s]"
      ]
     },
     "metadata": {},
     "output_type": "display_data"
    },
    {
     "data": {
      "application/vnd.jupyter.widget-view+json": {
       "model_id": "b8ad428cb2864dcfa1472d253a7c5b95",
       "version_major": 2,
       "version_minor": 0
      },
      "text/plain": [
       "eval batch:   0%|          | 0/8 [00:00<?, ?it/s]"
      ]
     },
     "metadata": {},
     "output_type": "display_data"
    },
    {
     "data": {
      "application/vnd.jupyter.widget-view+json": {
       "model_id": "3b7e610210c84baf9bc4929fc7038a3a",
       "version_major": 2,
       "version_minor": 0
      },
      "text/plain": [
       "training batch:   0%|          | 0/35 [00:00<?, ?it/s]"
      ]
     },
     "metadata": {},
     "output_type": "display_data"
    },
    {
     "data": {
      "application/vnd.jupyter.widget-view+json": {
       "model_id": "d5b052fadf8b4edb8ccd3528fefdf949",
       "version_major": 2,
       "version_minor": 0
      },
      "text/plain": [
       "eval batch:   0%|          | 0/8 [00:00<?, ?it/s]"
      ]
     },
     "metadata": {},
     "output_type": "display_data"
    },
    {
     "data": {
      "application/vnd.jupyter.widget-view+json": {
       "model_id": "de44a1c7fbbc4398a33832d7f3b12d37",
       "version_major": 2,
       "version_minor": 0
      },
      "text/plain": [
       "training batch:   0%|          | 0/35 [00:00<?, ?it/s]"
      ]
     },
     "metadata": {},
     "output_type": "display_data"
    },
    {
     "data": {
      "application/vnd.jupyter.widget-view+json": {
       "model_id": "20aef47dab854f4fa509c3452d3c2652",
       "version_major": 2,
       "version_minor": 0
      },
      "text/plain": [
       "eval batch:   0%|          | 0/8 [00:00<?, ?it/s]"
      ]
     },
     "metadata": {},
     "output_type": "display_data"
    },
    {
     "data": {
      "application/vnd.jupyter.widget-view+json": {
       "model_id": "fe2691cfdaf249a2b9f01c2b37e43e50",
       "version_major": 2,
       "version_minor": 0
      },
      "text/plain": [
       "training batch:   0%|          | 0/35 [00:00<?, ?it/s]"
      ]
     },
     "metadata": {},
     "output_type": "display_data"
    },
    {
     "data": {
      "application/vnd.jupyter.widget-view+json": {
       "model_id": "c5ee66cf95444bfe935bd7e0e0644273",
       "version_major": 2,
       "version_minor": 0
      },
      "text/plain": [
       "eval batch:   0%|          | 0/8 [00:00<?, ?it/s]"
      ]
     },
     "metadata": {},
     "output_type": "display_data"
    },
    {
     "data": {
      "application/vnd.jupyter.widget-view+json": {
       "model_id": "20f4974cb48a473f9dc70b6854b69b50",
       "version_major": 2,
       "version_minor": 0
      },
      "text/plain": [
       "training batch:   0%|          | 0/35 [00:00<?, ?it/s]"
      ]
     },
     "metadata": {},
     "output_type": "display_data"
    },
    {
     "data": {
      "application/vnd.jupyter.widget-view+json": {
       "model_id": "2d6761bfe35d4057b0b7835c77366fc3",
       "version_major": 2,
       "version_minor": 0
      },
      "text/plain": [
       "eval batch:   0%|          | 0/8 [00:00<?, ?it/s]"
      ]
     },
     "metadata": {},
     "output_type": "display_data"
    },
    {
     "data": {
      "application/vnd.jupyter.widget-view+json": {
       "model_id": "8fb03babe30b42ada54d55c84a2e3cf4",
       "version_major": 2,
       "version_minor": 0
      },
      "text/plain": [
       "training batch:   0%|          | 0/35 [00:00<?, ?it/s]"
      ]
     },
     "metadata": {},
     "output_type": "display_data"
    },
    {
     "data": {
      "application/vnd.jupyter.widget-view+json": {
       "model_id": "743bbf356c274bb4be97e8beee4d75a5",
       "version_major": 2,
       "version_minor": 0
      },
      "text/plain": [
       "eval batch:   0%|          | 0/8 [00:00<?, ?it/s]"
      ]
     },
     "metadata": {},
     "output_type": "display_data"
    },
    {
     "data": {
      "application/vnd.jupyter.widget-view+json": {
       "model_id": "a4d67a39ade04577beb9417b528cb866",
       "version_major": 2,
       "version_minor": 0
      },
      "text/plain": [
       "training batch:   0%|          | 0/35 [00:00<?, ?it/s]"
      ]
     },
     "metadata": {},
     "output_type": "display_data"
    },
    {
     "data": {
      "application/vnd.jupyter.widget-view+json": {
       "model_id": "37e752327f214c82a48b23664b513476",
       "version_major": 2,
       "version_minor": 0
      },
      "text/plain": [
       "eval batch:   0%|          | 0/8 [00:00<?, ?it/s]"
      ]
     },
     "metadata": {},
     "output_type": "display_data"
    },
    {
     "data": {
      "application/vnd.jupyter.widget-view+json": {
       "model_id": "f44c92a931b94a02b18159238dfe009b",
       "version_major": 2,
       "version_minor": 0
      },
      "text/plain": [
       "training batch:   0%|          | 0/35 [00:00<?, ?it/s]"
      ]
     },
     "metadata": {},
     "output_type": "display_data"
    },
    {
     "data": {
      "application/vnd.jupyter.widget-view+json": {
       "model_id": "f03fb1698c384cbf93776f598e680cfd",
       "version_major": 2,
       "version_minor": 0
      },
      "text/plain": [
       "eval batch:   0%|          | 0/8 [00:00<?, ?it/s]"
      ]
     },
     "metadata": {},
     "output_type": "display_data"
    },
    {
     "data": {
      "application/vnd.jupyter.widget-view+json": {
       "model_id": "13a637e7815a450181aa5babe43f3efb",
       "version_major": 2,
       "version_minor": 0
      },
      "text/plain": [
       "training batch:   0%|          | 0/35 [00:00<?, ?it/s]"
      ]
     },
     "metadata": {},
     "output_type": "display_data"
    },
    {
     "data": {
      "application/vnd.jupyter.widget-view+json": {
       "model_id": "1849c3497c5e4df787ca0fdb6b98755f",
       "version_major": 2,
       "version_minor": 0
      },
      "text/plain": [
       "eval batch:   0%|          | 0/8 [00:00<?, ?it/s]"
      ]
     },
     "metadata": {},
     "output_type": "display_data"
    },
    {
     "data": {
      "application/vnd.jupyter.widget-view+json": {
       "model_id": "d4d40c14b94c45abb2981fc61fd3ff55",
       "version_major": 2,
       "version_minor": 0
      },
      "text/plain": [
       "training batch:   0%|          | 0/35 [00:00<?, ?it/s]"
      ]
     },
     "metadata": {},
     "output_type": "display_data"
    },
    {
     "data": {
      "application/vnd.jupyter.widget-view+json": {
       "model_id": "0edd9435003c4831be4f28143050395c",
       "version_major": 2,
       "version_minor": 0
      },
      "text/plain": [
       "eval batch:   0%|          | 0/8 [00:00<?, ?it/s]"
      ]
     },
     "metadata": {},
     "output_type": "display_data"
    },
    {
     "data": {
      "application/vnd.jupyter.widget-view+json": {
       "model_id": "aed0ef04a0ee47a4a238cd7ca409ec66",
       "version_major": 2,
       "version_minor": 0
      },
      "text/plain": [
       "training batch:   0%|          | 0/35 [00:00<?, ?it/s]"
      ]
     },
     "metadata": {},
     "output_type": "display_data"
    },
    {
     "data": {
      "application/vnd.jupyter.widget-view+json": {
       "model_id": "3464c0f25ae34358ab67a83cc9ed9342",
       "version_major": 2,
       "version_minor": 0
      },
      "text/plain": [
       "eval batch:   0%|          | 0/8 [00:00<?, ?it/s]"
      ]
     },
     "metadata": {},
     "output_type": "display_data"
    },
    {
     "data": {
      "application/vnd.jupyter.widget-view+json": {
       "model_id": "bf178f2ee3c24774bff9392569fa7e25",
       "version_major": 2,
       "version_minor": 0
      },
      "text/plain": [
       "training batch:   0%|          | 0/35 [00:00<?, ?it/s]"
      ]
     },
     "metadata": {},
     "output_type": "display_data"
    },
    {
     "data": {
      "application/vnd.jupyter.widget-view+json": {
       "model_id": "5962cbe5c6f443c099170991858a49d2",
       "version_major": 2,
       "version_minor": 0
      },
      "text/plain": [
       "eval batch:   0%|          | 0/8 [00:00<?, ?it/s]"
      ]
     },
     "metadata": {},
     "output_type": "display_data"
    },
    {
     "data": {
      "application/vnd.jupyter.widget-view+json": {
       "model_id": "b9b156b0392f416fba6b55ae107fc152",
       "version_major": 2,
       "version_minor": 0
      },
      "text/plain": [
       "training batch:   0%|          | 0/35 [00:00<?, ?it/s]"
      ]
     },
     "metadata": {},
     "output_type": "display_data"
    },
    {
     "data": {
      "application/vnd.jupyter.widget-view+json": {
       "model_id": "0bdbb6967dbc44cbbec8957f88ab01d6",
       "version_major": 2,
       "version_minor": 0
      },
      "text/plain": [
       "eval batch:   0%|          | 0/8 [00:00<?, ?it/s]"
      ]
     },
     "metadata": {},
     "output_type": "display_data"
    },
    {
     "data": {
      "application/vnd.jupyter.widget-view+json": {
       "model_id": "0814634038dc445daf2bb9f48a95992e",
       "version_major": 2,
       "version_minor": 0
      },
      "text/plain": [
       "training batch:   0%|          | 0/35 [00:00<?, ?it/s]"
      ]
     },
     "metadata": {},
     "output_type": "display_data"
    },
    {
     "data": {
      "application/vnd.jupyter.widget-view+json": {
       "model_id": "26dab4c43dfc4310a003e767f8510a3f",
       "version_major": 2,
       "version_minor": 0
      },
      "text/plain": [
       "eval batch:   0%|          | 0/8 [00:00<?, ?it/s]"
      ]
     },
     "metadata": {},
     "output_type": "display_data"
    },
    {
     "data": {
      "application/vnd.jupyter.widget-view+json": {
       "model_id": "1ab825be947b4206aea6f5ae3f373281",
       "version_major": 2,
       "version_minor": 0
      },
      "text/plain": [
       "training batch:   0%|          | 0/35 [00:00<?, ?it/s]"
      ]
     },
     "metadata": {},
     "output_type": "display_data"
    },
    {
     "data": {
      "application/vnd.jupyter.widget-view+json": {
       "model_id": "b8725fd56fc64df2b3440453dd50fa8c",
       "version_major": 2,
       "version_minor": 0
      },
      "text/plain": [
       "eval batch:   0%|          | 0/8 [00:00<?, ?it/s]"
      ]
     },
     "metadata": {},
     "output_type": "display_data"
    },
    {
     "data": {
      "application/vnd.jupyter.widget-view+json": {
       "model_id": "87b7b1fa38c04a0ba209800133c5fd25",
       "version_major": 2,
       "version_minor": 0
      },
      "text/plain": [
       "training batch:   0%|          | 0/35 [00:00<?, ?it/s]"
      ]
     },
     "metadata": {},
     "output_type": "display_data"
    },
    {
     "data": {
      "application/vnd.jupyter.widget-view+json": {
       "model_id": "79d49e8aa4f84e9fbb1320e5600794aa",
       "version_major": 2,
       "version_minor": 0
      },
      "text/plain": [
       "eval batch:   0%|          | 0/8 [00:00<?, ?it/s]"
      ]
     },
     "metadata": {},
     "output_type": "display_data"
    },
    {
     "data": {
      "application/vnd.jupyter.widget-view+json": {
       "model_id": "56961491e6d746f59ba65ed594744c4b",
       "version_major": 2,
       "version_minor": 0
      },
      "text/plain": [
       "training batch:   0%|          | 0/35 [00:00<?, ?it/s]"
      ]
     },
     "metadata": {},
     "output_type": "display_data"
    },
    {
     "data": {
      "application/vnd.jupyter.widget-view+json": {
       "model_id": "ada1ca4061eb48239e3742d5da5281e8",
       "version_major": 2,
       "version_minor": 0
      },
      "text/plain": [
       "eval batch:   0%|          | 0/8 [00:00<?, ?it/s]"
      ]
     },
     "metadata": {},
     "output_type": "display_data"
    },
    {
     "data": {
      "application/vnd.jupyter.widget-view+json": {
       "model_id": "0561e39a49e849abaa70b56a327a23a4",
       "version_major": 2,
       "version_minor": 0
      },
      "text/plain": [
       "training batch:   0%|          | 0/35 [00:00<?, ?it/s]"
      ]
     },
     "metadata": {},
     "output_type": "display_data"
    },
    {
     "data": {
      "application/vnd.jupyter.widget-view+json": {
       "model_id": "ee567639b71c48e5bc01464c27b52797",
       "version_major": 2,
       "version_minor": 0
      },
      "text/plain": [
       "eval batch:   0%|          | 0/8 [00:00<?, ?it/s]"
      ]
     },
     "metadata": {},
     "output_type": "display_data"
    },
    {
     "data": {
      "application/vnd.jupyter.widget-view+json": {
       "model_id": "5c416fbb22964956b933109465073267",
       "version_major": 2,
       "version_minor": 0
      },
      "text/plain": [
       "training batch:   0%|          | 0/35 [00:00<?, ?it/s]"
      ]
     },
     "metadata": {},
     "output_type": "display_data"
    },
    {
     "data": {
      "application/vnd.jupyter.widget-view+json": {
       "model_id": "973eb9493b244fffaed474fc6caaaf53",
       "version_major": 2,
       "version_minor": 0
      },
      "text/plain": [
       "eval batch:   0%|          | 0/8 [00:00<?, ?it/s]"
      ]
     },
     "metadata": {},
     "output_type": "display_data"
    },
    {
     "data": {
      "application/vnd.jupyter.widget-view+json": {
       "model_id": "5fbbcf0f726e4973a501ca1630ba7a8d",
       "version_major": 2,
       "version_minor": 0
      },
      "text/plain": [
       "training batch:   0%|          | 0/35 [00:00<?, ?it/s]"
      ]
     },
     "metadata": {},
     "output_type": "display_data"
    },
    {
     "data": {
      "application/vnd.jupyter.widget-view+json": {
       "model_id": "4f40084b7ba44496b4e14ba5aa4091fa",
       "version_major": 2,
       "version_minor": 0
      },
      "text/plain": [
       "eval batch:   0%|          | 0/8 [00:00<?, ?it/s]"
      ]
     },
     "metadata": {},
     "output_type": "display_data"
    },
    {
     "data": {
      "application/vnd.jupyter.widget-view+json": {
       "model_id": "de0fcbadf9d54584950d6bf401a7a61a",
       "version_major": 2,
       "version_minor": 0
      },
      "text/plain": [
       "training batch:   0%|          | 0/35 [00:00<?, ?it/s]"
      ]
     },
     "metadata": {},
     "output_type": "display_data"
    },
    {
     "data": {
      "application/vnd.jupyter.widget-view+json": {
       "model_id": "62d697af218446b6a867a63dbeb256de",
       "version_major": 2,
       "version_minor": 0
      },
      "text/plain": [
       "eval batch:   0%|          | 0/8 [00:00<?, ?it/s]"
      ]
     },
     "metadata": {},
     "output_type": "display_data"
    },
    {
     "data": {
      "application/vnd.jupyter.widget-view+json": {
       "model_id": "5e4428cf2ab048f4be8f4b2aab49760c",
       "version_major": 2,
       "version_minor": 0
      },
      "text/plain": [
       "training batch:   0%|          | 0/35 [00:00<?, ?it/s]"
      ]
     },
     "metadata": {},
     "output_type": "display_data"
    },
    {
     "data": {
      "application/vnd.jupyter.widget-view+json": {
       "model_id": "bb68e91edbd2425386bb945ca3a54aa4",
       "version_major": 2,
       "version_minor": 0
      },
      "text/plain": [
       "eval batch:   0%|          | 0/8 [00:00<?, ?it/s]"
      ]
     },
     "metadata": {},
     "output_type": "display_data"
    },
    {
     "data": {
      "application/vnd.jupyter.widget-view+json": {
       "model_id": "2cf8b91253434831a79bf92818f4264a",
       "version_major": 2,
       "version_minor": 0
      },
      "text/plain": [
       "training batch:   0%|          | 0/35 [00:00<?, ?it/s]"
      ]
     },
     "metadata": {},
     "output_type": "display_data"
    },
    {
     "data": {
      "application/vnd.jupyter.widget-view+json": {
       "model_id": "ed4987b37f1f4e61a8d5e33d30598302",
       "version_major": 2,
       "version_minor": 0
      },
      "text/plain": [
       "eval batch:   0%|          | 0/8 [00:00<?, ?it/s]"
      ]
     },
     "metadata": {},
     "output_type": "display_data"
    },
    {
     "data": {
      "application/vnd.jupyter.widget-view+json": {
       "model_id": "c0c52c5b720f4d31b29e859f71a49996",
       "version_major": 2,
       "version_minor": 0
      },
      "text/plain": [
       "training batch:   0%|          | 0/35 [00:00<?, ?it/s]"
      ]
     },
     "metadata": {},
     "output_type": "display_data"
    },
    {
     "data": {
      "application/vnd.jupyter.widget-view+json": {
       "model_id": "fb5da8912cec489eb80530cf61358db2",
       "version_major": 2,
       "version_minor": 0
      },
      "text/plain": [
       "eval batch:   0%|          | 0/8 [00:00<?, ?it/s]"
      ]
     },
     "metadata": {},
     "output_type": "display_data"
    },
    {
     "data": {
      "application/vnd.jupyter.widget-view+json": {
       "model_id": "7295c18ac6a04dbaa5681b13c27d7da3",
       "version_major": 2,
       "version_minor": 0
      },
      "text/plain": [
       "training batch:   0%|          | 0/35 [00:00<?, ?it/s]"
      ]
     },
     "metadata": {},
     "output_type": "display_data"
    },
    {
     "data": {
      "application/vnd.jupyter.widget-view+json": {
       "model_id": "cbdbbc0543f64bd39b39c77c092dc2f8",
       "version_major": 2,
       "version_minor": 0
      },
      "text/plain": [
       "eval batch:   0%|          | 0/8 [00:00<?, ?it/s]"
      ]
     },
     "metadata": {},
     "output_type": "display_data"
    },
    {
     "data": {
      "application/vnd.jupyter.widget-view+json": {
       "model_id": "9a255ed37b7044e9b517dd1f2d843d0b",
       "version_major": 2,
       "version_minor": 0
      },
      "text/plain": [
       "training batch:   0%|          | 0/35 [00:00<?, ?it/s]"
      ]
     },
     "metadata": {},
     "output_type": "display_data"
    },
    {
     "data": {
      "application/vnd.jupyter.widget-view+json": {
       "model_id": "769c50428c5a499d85dee90dbf995e6d",
       "version_major": 2,
       "version_minor": 0
      },
      "text/plain": [
       "eval batch:   0%|          | 0/8 [00:00<?, ?it/s]"
      ]
     },
     "metadata": {},
     "output_type": "display_data"
    },
    {
     "data": {
      "application/vnd.jupyter.widget-view+json": {
       "model_id": "e3103cbd678d436e8dbc53a919f2574d",
       "version_major": 2,
       "version_minor": 0
      },
      "text/plain": [
       "training batch:   0%|          | 0/35 [00:00<?, ?it/s]"
      ]
     },
     "metadata": {},
     "output_type": "display_data"
    },
    {
     "data": {
      "application/vnd.jupyter.widget-view+json": {
       "model_id": "7124f084e03446f481a300762e2de2f0",
       "version_major": 2,
       "version_minor": 0
      },
      "text/plain": [
       "eval batch:   0%|          | 0/8 [00:00<?, ?it/s]"
      ]
     },
     "metadata": {},
     "output_type": "display_data"
    },
    {
     "data": {
      "application/vnd.jupyter.widget-view+json": {
       "model_id": "0f528f4fbefb40a7970bfeb31706090e",
       "version_major": 2,
       "version_minor": 0
      },
      "text/plain": [
       "training batch:   0%|          | 0/35 [00:00<?, ?it/s]"
      ]
     },
     "metadata": {},
     "output_type": "display_data"
    },
    {
     "data": {
      "application/vnd.jupyter.widget-view+json": {
       "model_id": "9e73178adb004a9d8c2b6ddd7d8e5ee9",
       "version_major": 2,
       "version_minor": 0
      },
      "text/plain": [
       "eval batch:   0%|          | 0/8 [00:00<?, ?it/s]"
      ]
     },
     "metadata": {},
     "output_type": "display_data"
    },
    {
     "data": {
      "application/vnd.jupyter.widget-view+json": {
       "model_id": "364805614a8548538ff9a67a2aff0f7b",
       "version_major": 2,
       "version_minor": 0
      },
      "text/plain": [
       "training batch:   0%|          | 0/35 [00:00<?, ?it/s]"
      ]
     },
     "metadata": {},
     "output_type": "display_data"
    },
    {
     "data": {
      "application/vnd.jupyter.widget-view+json": {
       "model_id": "d3b0f066698a4c67a2b5f18b91cb7b21",
       "version_major": 2,
       "version_minor": 0
      },
      "text/plain": [
       "eval batch:   0%|          | 0/8 [00:00<?, ?it/s]"
      ]
     },
     "metadata": {},
     "output_type": "display_data"
    },
    {
     "data": {
      "application/vnd.jupyter.widget-view+json": {
       "model_id": "f36e1f477a6b456bb48b4006fac4ed42",
       "version_major": 2,
       "version_minor": 0
      },
      "text/plain": [
       "training batch:   0%|          | 0/35 [00:00<?, ?it/s]"
      ]
     },
     "metadata": {},
     "output_type": "display_data"
    },
    {
     "data": {
      "application/vnd.jupyter.widget-view+json": {
       "model_id": "71b6715a2b0f468e8287460340603f31",
       "version_major": 2,
       "version_minor": 0
      },
      "text/plain": [
       "eval batch:   0%|          | 0/8 [00:00<?, ?it/s]"
      ]
     },
     "metadata": {},
     "output_type": "display_data"
    },
    {
     "data": {
      "application/vnd.jupyter.widget-view+json": {
       "model_id": "28b9840099fb461a8b97675cfd7b6b9d",
       "version_major": 2,
       "version_minor": 0
      },
      "text/plain": [
       "training batch:   0%|          | 0/35 [00:00<?, ?it/s]"
      ]
     },
     "metadata": {},
     "output_type": "display_data"
    },
    {
     "data": {
      "application/vnd.jupyter.widget-view+json": {
       "model_id": "a5da86f8308447f0abf61f4975b65800",
       "version_major": 2,
       "version_minor": 0
      },
      "text/plain": [
       "eval batch:   0%|          | 0/8 [00:00<?, ?it/s]"
      ]
     },
     "metadata": {},
     "output_type": "display_data"
    },
    {
     "data": {
      "application/vnd.jupyter.widget-view+json": {
       "model_id": "abbb9efd02df42e086b4fa6058c19a5a",
       "version_major": 2,
       "version_minor": 0
      },
      "text/plain": [
       "training batch:   0%|          | 0/35 [00:00<?, ?it/s]"
      ]
     },
     "metadata": {},
     "output_type": "display_data"
    },
    {
     "data": {
      "application/vnd.jupyter.widget-view+json": {
       "model_id": "5cd002951906438ea49a2f0dd53b060b",
       "version_major": 2,
       "version_minor": 0
      },
      "text/plain": [
       "eval batch:   0%|          | 0/8 [00:00<?, ?it/s]"
      ]
     },
     "metadata": {},
     "output_type": "display_data"
    },
    {
     "data": {
      "application/vnd.jupyter.widget-view+json": {
       "model_id": "c5d42c17e15548839d1bbc0fd717da73",
       "version_major": 2,
       "version_minor": 0
      },
      "text/plain": [
       "training batch:   0%|          | 0/35 [00:00<?, ?it/s]"
      ]
     },
     "metadata": {},
     "output_type": "display_data"
    },
    {
     "data": {
      "application/vnd.jupyter.widget-view+json": {
       "model_id": "d5b7c746d7e34f99aa442e99c6ea5958",
       "version_major": 2,
       "version_minor": 0
      },
      "text/plain": [
       "eval batch:   0%|          | 0/8 [00:00<?, ?it/s]"
      ]
     },
     "metadata": {},
     "output_type": "display_data"
    },
    {
     "data": {
      "application/vnd.jupyter.widget-view+json": {
       "model_id": "b2e5bf694fcf4edbbdc71c3b7beaf02b",
       "version_major": 2,
       "version_minor": 0
      },
      "text/plain": [
       "training batch:   0%|          | 0/35 [00:00<?, ?it/s]"
      ]
     },
     "metadata": {},
     "output_type": "display_data"
    },
    {
     "data": {
      "application/vnd.jupyter.widget-view+json": {
       "model_id": "a3ab6527868e48a291c3573405fb9d56",
       "version_major": 2,
       "version_minor": 0
      },
      "text/plain": [
       "eval batch:   0%|          | 0/8 [00:00<?, ?it/s]"
      ]
     },
     "metadata": {},
     "output_type": "display_data"
    },
    {
     "data": {
      "application/vnd.jupyter.widget-view+json": {
       "model_id": "87bafcfb56fc4d9687747afde459b07a",
       "version_major": 2,
       "version_minor": 0
      },
      "text/plain": [
       "training batch:   0%|          | 0/35 [00:00<?, ?it/s]"
      ]
     },
     "metadata": {},
     "output_type": "display_data"
    },
    {
     "data": {
      "application/vnd.jupyter.widget-view+json": {
       "model_id": "66972c470f65448fb60000536067894e",
       "version_major": 2,
       "version_minor": 0
      },
      "text/plain": [
       "eval batch:   0%|          | 0/8 [00:00<?, ?it/s]"
      ]
     },
     "metadata": {},
     "output_type": "display_data"
    },
    {
     "data": {
      "application/vnd.jupyter.widget-view+json": {
       "model_id": "a06b6be3cf4e4d56acfb97e078435995",
       "version_major": 2,
       "version_minor": 0
      },
      "text/plain": [
       "training batch:   0%|          | 0/35 [00:00<?, ?it/s]"
      ]
     },
     "metadata": {},
     "output_type": "display_data"
    },
    {
     "data": {
      "application/vnd.jupyter.widget-view+json": {
       "model_id": "fc5ec664d71e43f79212853e63f4aca1",
       "version_major": 2,
       "version_minor": 0
      },
      "text/plain": [
       "eval batch:   0%|          | 0/8 [00:00<?, ?it/s]"
      ]
     },
     "metadata": {},
     "output_type": "display_data"
    },
    {
     "data": {
      "application/vnd.jupyter.widget-view+json": {
       "model_id": "bb13cef0f55e465a8f4ec3c00a294087",
       "version_major": 2,
       "version_minor": 0
      },
      "text/plain": [
       "training batch:   0%|          | 0/35 [00:00<?, ?it/s]"
      ]
     },
     "metadata": {},
     "output_type": "display_data"
    },
    {
     "data": {
      "application/vnd.jupyter.widget-view+json": {
       "model_id": "061d19d24d8647e9860cb7be72417973",
       "version_major": 2,
       "version_minor": 0
      },
      "text/plain": [
       "eval batch:   0%|          | 0/8 [00:00<?, ?it/s]"
      ]
     },
     "metadata": {},
     "output_type": "display_data"
    },
    {
     "data": {
      "application/vnd.jupyter.widget-view+json": {
       "model_id": "04e4a7b37718406c90528560c52f6356",
       "version_major": 2,
       "version_minor": 0
      },
      "text/plain": [
       "training batch:   0%|          | 0/35 [00:00<?, ?it/s]"
      ]
     },
     "metadata": {},
     "output_type": "display_data"
    },
    {
     "data": {
      "application/vnd.jupyter.widget-view+json": {
       "model_id": "856c66a5a2dc49899e687c160a0ae89a",
       "version_major": 2,
       "version_minor": 0
      },
      "text/plain": [
       "eval batch:   0%|          | 0/8 [00:00<?, ?it/s]"
      ]
     },
     "metadata": {},
     "output_type": "display_data"
    },
    {
     "data": {
      "application/vnd.jupyter.widget-view+json": {
       "model_id": "1666515b6571496caa83eca4fa93d940",
       "version_major": 2,
       "version_minor": 0
      },
      "text/plain": [
       "training batch:   0%|          | 0/35 [00:00<?, ?it/s]"
      ]
     },
     "metadata": {},
     "output_type": "display_data"
    },
    {
     "data": {
      "application/vnd.jupyter.widget-view+json": {
       "model_id": "929afbb5f39140f89b3cddaf23cb1697",
       "version_major": 2,
       "version_minor": 0
      },
      "text/plain": [
       "eval batch:   0%|          | 0/8 [00:00<?, ?it/s]"
      ]
     },
     "metadata": {},
     "output_type": "display_data"
    },
    {
     "data": {
      "application/vnd.jupyter.widget-view+json": {
       "model_id": "d3c1a72859cc40e89568004f4c84fd69",
       "version_major": 2,
       "version_minor": 0
      },
      "text/plain": [
       "training batch:   0%|          | 0/35 [00:00<?, ?it/s]"
      ]
     },
     "metadata": {},
     "output_type": "display_data"
    },
    {
     "data": {
      "application/vnd.jupyter.widget-view+json": {
       "model_id": "7c87b98fd6814835bf55089572263a8e",
       "version_major": 2,
       "version_minor": 0
      },
      "text/plain": [
       "eval batch:   0%|          | 0/8 [00:00<?, ?it/s]"
      ]
     },
     "metadata": {},
     "output_type": "display_data"
    },
    {
     "data": {
      "application/vnd.jupyter.widget-view+json": {
       "model_id": "c58dab2f16d24ed5ae08a7db21af4028",
       "version_major": 2,
       "version_minor": 0
      },
      "text/plain": [
       "training batch:   0%|          | 0/35 [00:00<?, ?it/s]"
      ]
     },
     "metadata": {},
     "output_type": "display_data"
    },
    {
     "data": {
      "application/vnd.jupyter.widget-view+json": {
       "model_id": "297136a4084b4a6d9c8301a9f7c0a11d",
       "version_major": 2,
       "version_minor": 0
      },
      "text/plain": [
       "eval batch:   0%|          | 0/8 [00:00<?, ?it/s]"
      ]
     },
     "metadata": {},
     "output_type": "display_data"
    },
    {
     "data": {
      "application/vnd.jupyter.widget-view+json": {
       "model_id": "796580a3eabf4d1d82bfac0708d53e8e",
       "version_major": 2,
       "version_minor": 0
      },
      "text/plain": [
       "training batch:   0%|          | 0/35 [00:00<?, ?it/s]"
      ]
     },
     "metadata": {},
     "output_type": "display_data"
    },
    {
     "data": {
      "application/vnd.jupyter.widget-view+json": {
       "model_id": "27aabe68eee848e6ab522c11c633ede5",
       "version_major": 2,
       "version_minor": 0
      },
      "text/plain": [
       "eval batch:   0%|          | 0/8 [00:00<?, ?it/s]"
      ]
     },
     "metadata": {},
     "output_type": "display_data"
    },
    {
     "data": {
      "application/vnd.jupyter.widget-view+json": {
       "model_id": "980a46caa3384e51b06989c95417c0af",
       "version_major": 2,
       "version_minor": 0
      },
      "text/plain": [
       "training batch:   0%|          | 0/35 [00:00<?, ?it/s]"
      ]
     },
     "metadata": {},
     "output_type": "display_data"
    },
    {
     "data": {
      "application/vnd.jupyter.widget-view+json": {
       "model_id": "01a7ab01b78b4c2c9ba5be07d79342d4",
       "version_major": 2,
       "version_minor": 0
      },
      "text/plain": [
       "eval batch:   0%|          | 0/8 [00:00<?, ?it/s]"
      ]
     },
     "metadata": {},
     "output_type": "display_data"
    },
    {
     "data": {
      "application/vnd.jupyter.widget-view+json": {
       "model_id": "b133a8e0e9114c6a848be9edf03acc53",
       "version_major": 2,
       "version_minor": 0
      },
      "text/plain": [
       "training batch:   0%|          | 0/35 [00:00<?, ?it/s]"
      ]
     },
     "metadata": {},
     "output_type": "display_data"
    },
    {
     "data": {
      "application/vnd.jupyter.widget-view+json": {
       "model_id": "1f4cfd96a1e849dfb67e75f267d6d451",
       "version_major": 2,
       "version_minor": 0
      },
      "text/plain": [
       "eval batch:   0%|          | 0/8 [00:00<?, ?it/s]"
      ]
     },
     "metadata": {},
     "output_type": "display_data"
    },
    {
     "data": {
      "application/vnd.jupyter.widget-view+json": {
       "model_id": "62078e9dcd184ab79db43581c9a56a67",
       "version_major": 2,
       "version_minor": 0
      },
      "text/plain": [
       "training batch:   0%|          | 0/35 [00:00<?, ?it/s]"
      ]
     },
     "metadata": {},
     "output_type": "display_data"
    },
    {
     "data": {
      "application/vnd.jupyter.widget-view+json": {
       "model_id": "d6084441f1e74abe967a9474ea733daf",
       "version_major": 2,
       "version_minor": 0
      },
      "text/plain": [
       "eval batch:   0%|          | 0/8 [00:00<?, ?it/s]"
      ]
     },
     "metadata": {},
     "output_type": "display_data"
    },
    {
     "data": {
      "application/vnd.jupyter.widget-view+json": {
       "model_id": "d93f0ceab8f0462a8cbcb44088b0ec16",
       "version_major": 2,
       "version_minor": 0
      },
      "text/plain": [
       "training batch:   0%|          | 0/35 [00:00<?, ?it/s]"
      ]
     },
     "metadata": {},
     "output_type": "display_data"
    },
    {
     "data": {
      "application/vnd.jupyter.widget-view+json": {
       "model_id": "74509e37fa1f4cb6b799323d0cf1c0ec",
       "version_major": 2,
       "version_minor": 0
      },
      "text/plain": [
       "eval batch:   0%|          | 0/8 [00:00<?, ?it/s]"
      ]
     },
     "metadata": {},
     "output_type": "display_data"
    },
    {
     "data": {
      "application/vnd.jupyter.widget-view+json": {
       "model_id": "8af63e6571b7450b94c2f4e3e36faff6",
       "version_major": 2,
       "version_minor": 0
      },
      "text/plain": [
       "training batch:   0%|          | 0/35 [00:00<?, ?it/s]"
      ]
     },
     "metadata": {},
     "output_type": "display_data"
    },
    {
     "data": {
      "application/vnd.jupyter.widget-view+json": {
       "model_id": "7d3a38a1e81d4ed5a763f33cb703fa5c",
       "version_major": 2,
       "version_minor": 0
      },
      "text/plain": [
       "eval batch:   0%|          | 0/8 [00:00<?, ?it/s]"
      ]
     },
     "metadata": {},
     "output_type": "display_data"
    },
    {
     "data": {
      "application/vnd.jupyter.widget-view+json": {
       "model_id": "b2d293d0987a4959b5d1f6a11554731b",
       "version_major": 2,
       "version_minor": 0
      },
      "text/plain": [
       "training batch:   0%|          | 0/35 [00:00<?, ?it/s]"
      ]
     },
     "metadata": {},
     "output_type": "display_data"
    },
    {
     "data": {
      "application/vnd.jupyter.widget-view+json": {
       "model_id": "6119bcbdd5b942d0a180aaed2c71df45",
       "version_major": 2,
       "version_minor": 0
      },
      "text/plain": [
       "eval batch:   0%|          | 0/8 [00:00<?, ?it/s]"
      ]
     },
     "metadata": {},
     "output_type": "display_data"
    },
    {
     "data": {
      "application/vnd.jupyter.widget-view+json": {
       "model_id": "d17de7ca196c4e9baf4980390a912678",
       "version_major": 2,
       "version_minor": 0
      },
      "text/plain": [
       "training batch:   0%|          | 0/35 [00:00<?, ?it/s]"
      ]
     },
     "metadata": {},
     "output_type": "display_data"
    },
    {
     "data": {
      "application/vnd.jupyter.widget-view+json": {
       "model_id": "69daacab49564a62af8307e51cd5f5a8",
       "version_major": 2,
       "version_minor": 0
      },
      "text/plain": [
       "eval batch:   0%|          | 0/8 [00:00<?, ?it/s]"
      ]
     },
     "metadata": {},
     "output_type": "display_data"
    },
    {
     "data": {
      "application/vnd.jupyter.widget-view+json": {
       "model_id": "b613f47466874668bb28cf6ea410ffa3",
       "version_major": 2,
       "version_minor": 0
      },
      "text/plain": [
       "training batch:   0%|          | 0/35 [00:00<?, ?it/s]"
      ]
     },
     "metadata": {},
     "output_type": "display_data"
    },
    {
     "data": {
      "application/vnd.jupyter.widget-view+json": {
       "model_id": "36bd14d9610d4b9ba60872a8a2e786cd",
       "version_major": 2,
       "version_minor": 0
      },
      "text/plain": [
       "eval batch:   0%|          | 0/8 [00:00<?, ?it/s]"
      ]
     },
     "metadata": {},
     "output_type": "display_data"
    },
    {
     "data": {
      "application/vnd.jupyter.widget-view+json": {
       "model_id": "3ea62b5328a040668ff5e15e57d54443",
       "version_major": 2,
       "version_minor": 0
      },
      "text/plain": [
       "training batch:   0%|          | 0/35 [00:00<?, ?it/s]"
      ]
     },
     "metadata": {},
     "output_type": "display_data"
    },
    {
     "data": {
      "application/vnd.jupyter.widget-view+json": {
       "model_id": "7f71acf2a44c4e269fb43dba2c446741",
       "version_major": 2,
       "version_minor": 0
      },
      "text/plain": [
       "eval batch:   0%|          | 0/8 [00:00<?, ?it/s]"
      ]
     },
     "metadata": {},
     "output_type": "display_data"
    },
    {
     "data": {
      "application/vnd.jupyter.widget-view+json": {
       "model_id": "ed38e3ddca024624a9e8bf07ac232222",
       "version_major": 2,
       "version_minor": 0
      },
      "text/plain": [
       "training batch:   0%|          | 0/35 [00:00<?, ?it/s]"
      ]
     },
     "metadata": {},
     "output_type": "display_data"
    },
    {
     "data": {
      "application/vnd.jupyter.widget-view+json": {
       "model_id": "980456c7876543879a84009602b3403d",
       "version_major": 2,
       "version_minor": 0
      },
      "text/plain": [
       "eval batch:   0%|          | 0/8 [00:00<?, ?it/s]"
      ]
     },
     "metadata": {},
     "output_type": "display_data"
    },
    {
     "data": {
      "application/vnd.jupyter.widget-view+json": {
       "model_id": "6ea0e7b078454d9f8f7815dc1a8c7a25",
       "version_major": 2,
       "version_minor": 0
      },
      "text/plain": [
       "training batch:   0%|          | 0/35 [00:00<?, ?it/s]"
      ]
     },
     "metadata": {},
     "output_type": "display_data"
    },
    {
     "data": {
      "application/vnd.jupyter.widget-view+json": {
       "model_id": "afb0173764ca4c419003bded3d0a066c",
       "version_major": 2,
       "version_minor": 0
      },
      "text/plain": [
       "eval batch:   0%|          | 0/8 [00:00<?, ?it/s]"
      ]
     },
     "metadata": {},
     "output_type": "display_data"
    },
    {
     "data": {
      "application/vnd.jupyter.widget-view+json": {
       "model_id": "2bf5f2f118114db1b30b120ce495a34d",
       "version_major": 2,
       "version_minor": 0
      },
      "text/plain": [
       "training batch:   0%|          | 0/35 [00:00<?, ?it/s]"
      ]
     },
     "metadata": {},
     "output_type": "display_data"
    },
    {
     "data": {
      "application/vnd.jupyter.widget-view+json": {
       "model_id": "ee6ca459b94a41b4afd2acae64032111",
       "version_major": 2,
       "version_minor": 0
      },
      "text/plain": [
       "eval batch:   0%|          | 0/8 [00:00<?, ?it/s]"
      ]
     },
     "metadata": {},
     "output_type": "display_data"
    },
    {
     "data": {
      "application/vnd.jupyter.widget-view+json": {
       "model_id": "c746b33e62dc4e7fbeaba739bac84ea2",
       "version_major": 2,
       "version_minor": 0
      },
      "text/plain": [
       "training batch:   0%|          | 0/35 [00:00<?, ?it/s]"
      ]
     },
     "metadata": {},
     "output_type": "display_data"
    },
    {
     "data": {
      "application/vnd.jupyter.widget-view+json": {
       "model_id": "a9cc7df8390a485cb43a3e5dfee7621b",
       "version_major": 2,
       "version_minor": 0
      },
      "text/plain": [
       "eval batch:   0%|          | 0/8 [00:00<?, ?it/s]"
      ]
     },
     "metadata": {},
     "output_type": "display_data"
    },
    {
     "data": {
      "application/vnd.jupyter.widget-view+json": {
       "model_id": "a23e77c8c0c0423faf71aefe541e12d5",
       "version_major": 2,
       "version_minor": 0
      },
      "text/plain": [
       "training batch:   0%|          | 0/35 [00:00<?, ?it/s]"
      ]
     },
     "metadata": {},
     "output_type": "display_data"
    },
    {
     "data": {
      "application/vnd.jupyter.widget-view+json": {
       "model_id": "ad8ebc88e0c74651963f4184bdd75a65",
       "version_major": 2,
       "version_minor": 0
      },
      "text/plain": [
       "eval batch:   0%|          | 0/8 [00:00<?, ?it/s]"
      ]
     },
     "metadata": {},
     "output_type": "display_data"
    },
    {
     "data": {
      "application/vnd.jupyter.widget-view+json": {
       "model_id": "22b101a0a2924c3cbdfadc5376ac48e8",
       "version_major": 2,
       "version_minor": 0
      },
      "text/plain": [
       "training batch:   0%|          | 0/35 [00:00<?, ?it/s]"
      ]
     },
     "metadata": {},
     "output_type": "display_data"
    },
    {
     "data": {
      "application/vnd.jupyter.widget-view+json": {
       "model_id": "86f55e2003f646ae813869f5eb26e4a4",
       "version_major": 2,
       "version_minor": 0
      },
      "text/plain": [
       "eval batch:   0%|          | 0/8 [00:00<?, ?it/s]"
      ]
     },
     "metadata": {},
     "output_type": "display_data"
    },
    {
     "data": {
      "application/vnd.jupyter.widget-view+json": {
       "model_id": "aaa439296cb2480f94e81b62a2744c1b",
       "version_major": 2,
       "version_minor": 0
      },
      "text/plain": [
       "training batch:   0%|          | 0/35 [00:00<?, ?it/s]"
      ]
     },
     "metadata": {},
     "output_type": "display_data"
    },
    {
     "data": {
      "application/vnd.jupyter.widget-view+json": {
       "model_id": "3e2209f82add4bbaa63fea65483296de",
       "version_major": 2,
       "version_minor": 0
      },
      "text/plain": [
       "eval batch:   0%|          | 0/8 [00:00<?, ?it/s]"
      ]
     },
     "metadata": {},
     "output_type": "display_data"
    },
    {
     "data": {
      "application/vnd.jupyter.widget-view+json": {
       "model_id": "42e2255be5c44787955727d3b6fff3c7",
       "version_major": 2,
       "version_minor": 0
      },
      "text/plain": [
       "training batch:   0%|          | 0/35 [00:00<?, ?it/s]"
      ]
     },
     "metadata": {},
     "output_type": "display_data"
    },
    {
     "data": {
      "application/vnd.jupyter.widget-view+json": {
       "model_id": "38ab235e42d847488081ca6262f492db",
       "version_major": 2,
       "version_minor": 0
      },
      "text/plain": [
       "eval batch:   0%|          | 0/8 [00:00<?, ?it/s]"
      ]
     },
     "metadata": {},
     "output_type": "display_data"
    },
    {
     "data": {
      "application/vnd.jupyter.widget-view+json": {
       "model_id": "f72d8c578c6a422da0877d9292637820",
       "version_major": 2,
       "version_minor": 0
      },
      "text/plain": [
       "training batch:   0%|          | 0/35 [00:00<?, ?it/s]"
      ]
     },
     "metadata": {},
     "output_type": "display_data"
    },
    {
     "data": {
      "application/vnd.jupyter.widget-view+json": {
       "model_id": "ebdadc3a1e5a4b6da580a47006ae45fd",
       "version_major": 2,
       "version_minor": 0
      },
      "text/plain": [
       "eval batch:   0%|          | 0/8 [00:00<?, ?it/s]"
      ]
     },
     "metadata": {},
     "output_type": "display_data"
    },
    {
     "data": {
      "application/vnd.jupyter.widget-view+json": {
       "model_id": "e7a9de1ff1144a98937d243f175787bf",
       "version_major": 2,
       "version_minor": 0
      },
      "text/plain": [
       "training batch:   0%|          | 0/35 [00:00<?, ?it/s]"
      ]
     },
     "metadata": {},
     "output_type": "display_data"
    },
    {
     "data": {
      "application/vnd.jupyter.widget-view+json": {
       "model_id": "4e1e9f762c3d4e65b963cb950256ddf9",
       "version_major": 2,
       "version_minor": 0
      },
      "text/plain": [
       "eval batch:   0%|          | 0/8 [00:00<?, ?it/s]"
      ]
     },
     "metadata": {},
     "output_type": "display_data"
    },
    {
     "data": {
      "application/vnd.jupyter.widget-view+json": {
       "model_id": "45a8a0c77dfd4a88b867cc88a65e78d5",
       "version_major": 2,
       "version_minor": 0
      },
      "text/plain": [
       "training batch:   0%|          | 0/35 [00:00<?, ?it/s]"
      ]
     },
     "metadata": {},
     "output_type": "display_data"
    },
    {
     "data": {
      "application/vnd.jupyter.widget-view+json": {
       "model_id": "3eb0a7a4477744ff98a3c7bb290e814e",
       "version_major": 2,
       "version_minor": 0
      },
      "text/plain": [
       "eval batch:   0%|          | 0/8 [00:00<?, ?it/s]"
      ]
     },
     "metadata": {},
     "output_type": "display_data"
    },
    {
     "data": {
      "application/vnd.jupyter.widget-view+json": {
       "model_id": "2e18295dc0204b7b997b8c3622350c32",
       "version_major": 2,
       "version_minor": 0
      },
      "text/plain": [
       "training batch:   0%|          | 0/35 [00:00<?, ?it/s]"
      ]
     },
     "metadata": {},
     "output_type": "display_data"
    },
    {
     "data": {
      "application/vnd.jupyter.widget-view+json": {
       "model_id": "19769d84bdb84b44afd5da0d6ebc9353",
       "version_major": 2,
       "version_minor": 0
      },
      "text/plain": [
       "eval batch:   0%|          | 0/8 [00:00<?, ?it/s]"
      ]
     },
     "metadata": {},
     "output_type": "display_data"
    },
    {
     "data": {
      "application/vnd.jupyter.widget-view+json": {
       "model_id": "87e899a21df646db9ad81aa0a7db93cc",
       "version_major": 2,
       "version_minor": 0
      },
      "text/plain": [
       "training batch:   0%|          | 0/35 [00:00<?, ?it/s]"
      ]
     },
     "metadata": {},
     "output_type": "display_data"
    },
    {
     "data": {
      "application/vnd.jupyter.widget-view+json": {
       "model_id": "08b67607a58c40d893a5b18fe7596be5",
       "version_major": 2,
       "version_minor": 0
      },
      "text/plain": [
       "eval batch:   0%|          | 0/8 [00:00<?, ?it/s]"
      ]
     },
     "metadata": {},
     "output_type": "display_data"
    },
    {
     "data": {
      "application/vnd.jupyter.widget-view+json": {
       "model_id": "9f46ff026d624ba48e40047f67ed20ce",
       "version_major": 2,
       "version_minor": 0
      },
      "text/plain": [
       "training batch:   0%|          | 0/35 [00:00<?, ?it/s]"
      ]
     },
     "metadata": {},
     "output_type": "display_data"
    },
    {
     "data": {
      "application/vnd.jupyter.widget-view+json": {
       "model_id": "ced879e1b11844a4ba87989ae164ea1c",
       "version_major": 2,
       "version_minor": 0
      },
      "text/plain": [
       "eval batch:   0%|          | 0/8 [00:00<?, ?it/s]"
      ]
     },
     "metadata": {},
     "output_type": "display_data"
    },
    {
     "data": {
      "application/vnd.jupyter.widget-view+json": {
       "model_id": "58e434a68a0c41d284aa7a21dbfc1c83",
       "version_major": 2,
       "version_minor": 0
      },
      "text/plain": [
       "training batch:   0%|          | 0/35 [00:00<?, ?it/s]"
      ]
     },
     "metadata": {},
     "output_type": "display_data"
    },
    {
     "data": {
      "application/vnd.jupyter.widget-view+json": {
       "model_id": "2defda447c2142e1bdb21e45e1ff5d40",
       "version_major": 2,
       "version_minor": 0
      },
      "text/plain": [
       "eval batch:   0%|          | 0/8 [00:00<?, ?it/s]"
      ]
     },
     "metadata": {},
     "output_type": "display_data"
    },
    {
     "data": {
      "application/vnd.jupyter.widget-view+json": {
       "model_id": "2b0cc57a2d814118969d95f2a161ebbd",
       "version_major": 2,
       "version_minor": 0
      },
      "text/plain": [
       "training batch:   0%|          | 0/35 [00:00<?, ?it/s]"
      ]
     },
     "metadata": {},
     "output_type": "display_data"
    },
    {
     "data": {
      "application/vnd.jupyter.widget-view+json": {
       "model_id": "d442f2decffd4725b13b52add9a844ab",
       "version_major": 2,
       "version_minor": 0
      },
      "text/plain": [
       "eval batch:   0%|          | 0/8 [00:00<?, ?it/s]"
      ]
     },
     "metadata": {},
     "output_type": "display_data"
    },
    {
     "data": {
      "application/vnd.jupyter.widget-view+json": {
       "model_id": "459c493602f84038ba22533120679269",
       "version_major": 2,
       "version_minor": 0
      },
      "text/plain": [
       "training batch:   0%|          | 0/35 [00:00<?, ?it/s]"
      ]
     },
     "metadata": {},
     "output_type": "display_data"
    },
    {
     "data": {
      "application/vnd.jupyter.widget-view+json": {
       "model_id": "9e395492180a4e5bb5aa7c09cb5437ec",
       "version_major": 2,
       "version_minor": 0
      },
      "text/plain": [
       "eval batch:   0%|          | 0/8 [00:00<?, ?it/s]"
      ]
     },
     "metadata": {},
     "output_type": "display_data"
    },
    {
     "data": {
      "application/vnd.jupyter.widget-view+json": {
       "model_id": "f107de55ac8c4471872f4cafd1b5fe99",
       "version_major": 2,
       "version_minor": 0
      },
      "text/plain": [
       "training batch:   0%|          | 0/35 [00:00<?, ?it/s]"
      ]
     },
     "metadata": {},
     "output_type": "display_data"
    },
    {
     "data": {
      "application/vnd.jupyter.widget-view+json": {
       "model_id": "46a12f379813468b8be70a971697eab7",
       "version_major": 2,
       "version_minor": 0
      },
      "text/plain": [
       "eval batch:   0%|          | 0/8 [00:00<?, ?it/s]"
      ]
     },
     "metadata": {},
     "output_type": "display_data"
    },
    {
     "data": {
      "application/vnd.jupyter.widget-view+json": {
       "model_id": "299aad2bfb3b4de492806f476b7d2661",
       "version_major": 2,
       "version_minor": 0
      },
      "text/plain": [
       "training batch:   0%|          | 0/35 [00:00<?, ?it/s]"
      ]
     },
     "metadata": {},
     "output_type": "display_data"
    },
    {
     "data": {
      "application/vnd.jupyter.widget-view+json": {
       "model_id": "d8ee1f4cc4f54ad686a04de6bbcee27a",
       "version_major": 2,
       "version_minor": 0
      },
      "text/plain": [
       "eval batch:   0%|          | 0/8 [00:00<?, ?it/s]"
      ]
     },
     "metadata": {},
     "output_type": "display_data"
    },
    {
     "data": {
      "application/vnd.jupyter.widget-view+json": {
       "model_id": "f397c436dcc64065b824835fb56b752b",
       "version_major": 2,
       "version_minor": 0
      },
      "text/plain": [
       "training batch:   0%|          | 0/35 [00:00<?, ?it/s]"
      ]
     },
     "metadata": {},
     "output_type": "display_data"
    },
    {
     "data": {
      "application/vnd.jupyter.widget-view+json": {
       "model_id": "0071f5a0e536461e93b18544cde144eb",
       "version_major": 2,
       "version_minor": 0
      },
      "text/plain": [
       "eval batch:   0%|          | 0/8 [00:00<?, ?it/s]"
      ]
     },
     "metadata": {},
     "output_type": "display_data"
    },
    {
     "data": {
      "application/vnd.jupyter.widget-view+json": {
       "model_id": "ff0e4e41f8924c1ba6b5a0ada7f8aec6",
       "version_major": 2,
       "version_minor": 0
      },
      "text/plain": [
       "training batch:   0%|          | 0/35 [00:00<?, ?it/s]"
      ]
     },
     "metadata": {},
     "output_type": "display_data"
    },
    {
     "data": {
      "application/vnd.jupyter.widget-view+json": {
       "model_id": "d2eae879c22c48d8b6664fbf61db6862",
       "version_major": 2,
       "version_minor": 0
      },
      "text/plain": [
       "eval batch:   0%|          | 0/8 [00:00<?, ?it/s]"
      ]
     },
     "metadata": {},
     "output_type": "display_data"
    },
    {
     "data": {
      "application/vnd.jupyter.widget-view+json": {
       "model_id": "bfa3493e67b643939073fbb9fb0a7fe3",
       "version_major": 2,
       "version_minor": 0
      },
      "text/plain": [
       "training batch:   0%|          | 0/35 [00:00<?, ?it/s]"
      ]
     },
     "metadata": {},
     "output_type": "display_data"
    },
    {
     "data": {
      "application/vnd.jupyter.widget-view+json": {
       "model_id": "33565a2c01ac449a9609522f72c943ae",
       "version_major": 2,
       "version_minor": 0
      },
      "text/plain": [
       "eval batch:   0%|          | 0/8 [00:00<?, ?it/s]"
      ]
     },
     "metadata": {},
     "output_type": "display_data"
    },
    {
     "data": {
      "application/vnd.jupyter.widget-view+json": {
       "model_id": "e91c9957fcf340818deb35b269d2409a",
       "version_major": 2,
       "version_minor": 0
      },
      "text/plain": [
       "training batch:   0%|          | 0/35 [00:00<?, ?it/s]"
      ]
     },
     "metadata": {},
     "output_type": "display_data"
    },
    {
     "data": {
      "application/vnd.jupyter.widget-view+json": {
       "model_id": "3c7141e484374accb8ccb0d5fb2290bb",
       "version_major": 2,
       "version_minor": 0
      },
      "text/plain": [
       "eval batch:   0%|          | 0/8 [00:00<?, ?it/s]"
      ]
     },
     "metadata": {},
     "output_type": "display_data"
    },
    {
     "data": {
      "application/vnd.jupyter.widget-view+json": {
       "model_id": "762f8020c10846259a61b226cd50dd3c",
       "version_major": 2,
       "version_minor": 0
      },
      "text/plain": [
       "training batch:   0%|          | 0/35 [00:00<?, ?it/s]"
      ]
     },
     "metadata": {},
     "output_type": "display_data"
    },
    {
     "data": {
      "application/vnd.jupyter.widget-view+json": {
       "model_id": "203768a1f79f4863b5743a60cf6f269c",
       "version_major": 2,
       "version_minor": 0
      },
      "text/plain": [
       "eval batch:   0%|          | 0/8 [00:00<?, ?it/s]"
      ]
     },
     "metadata": {},
     "output_type": "display_data"
    },
    {
     "data": {
      "application/vnd.jupyter.widget-view+json": {
       "model_id": "fa4e3ffb6da74ca4bf2e75a84b287811",
       "version_major": 2,
       "version_minor": 0
      },
      "text/plain": [
       "training batch:   0%|          | 0/35 [00:00<?, ?it/s]"
      ]
     },
     "metadata": {},
     "output_type": "display_data"
    },
    {
     "data": {
      "application/vnd.jupyter.widget-view+json": {
       "model_id": "6a512fb445e248dcb1f6dc62cd6c0b08",
       "version_major": 2,
       "version_minor": 0
      },
      "text/plain": [
       "eval batch:   0%|          | 0/8 [00:00<?, ?it/s]"
      ]
     },
     "metadata": {},
     "output_type": "display_data"
    },
    {
     "data": {
      "application/vnd.jupyter.widget-view+json": {
       "model_id": "f134c56b67154b5ba659169eb3d9b08d",
       "version_major": 2,
       "version_minor": 0
      },
      "text/plain": [
       "training batch:   0%|          | 0/35 [00:00<?, ?it/s]"
      ]
     },
     "metadata": {},
     "output_type": "display_data"
    },
    {
     "data": {
      "application/vnd.jupyter.widget-view+json": {
       "model_id": "5ae3302539fa4cee81a1a4a79e52b436",
       "version_major": 2,
       "version_minor": 0
      },
      "text/plain": [
       "eval batch:   0%|          | 0/8 [00:00<?, ?it/s]"
      ]
     },
     "metadata": {},
     "output_type": "display_data"
    },
    {
     "data": {
      "application/vnd.jupyter.widget-view+json": {
       "model_id": "3a8ae96037ae4eacb032927f6a2217a4",
       "version_major": 2,
       "version_minor": 0
      },
      "text/plain": [
       "training batch:   0%|          | 0/35 [00:00<?, ?it/s]"
      ]
     },
     "metadata": {},
     "output_type": "display_data"
    },
    {
     "data": {
      "application/vnd.jupyter.widget-view+json": {
       "model_id": "db0fa5889f3347c7beae4319f4cf0c5e",
       "version_major": 2,
       "version_minor": 0
      },
      "text/plain": [
       "eval batch:   0%|          | 0/8 [00:00<?, ?it/s]"
      ]
     },
     "metadata": {},
     "output_type": "display_data"
    },
    {
     "data": {
      "application/vnd.jupyter.widget-view+json": {
       "model_id": "e49299a5bfa14491b6a3e83aff4b796f",
       "version_major": 2,
       "version_minor": 0
      },
      "text/plain": [
       "training batch:   0%|          | 0/35 [00:00<?, ?it/s]"
      ]
     },
     "metadata": {},
     "output_type": "display_data"
    },
    {
     "data": {
      "application/vnd.jupyter.widget-view+json": {
       "model_id": "bb4bb407e0f14839b46bfb0a824825bb",
       "version_major": 2,
       "version_minor": 0
      },
      "text/plain": [
       "eval batch:   0%|          | 0/8 [00:00<?, ?it/s]"
      ]
     },
     "metadata": {},
     "output_type": "display_data"
    },
    {
     "data": {
      "application/vnd.jupyter.widget-view+json": {
       "model_id": "6ef76e480e0b45efaeea6192fe174fe2",
       "version_major": 2,
       "version_minor": 0
      },
      "text/plain": [
       "training batch:   0%|          | 0/35 [00:00<?, ?it/s]"
      ]
     },
     "metadata": {},
     "output_type": "display_data"
    },
    {
     "data": {
      "application/vnd.jupyter.widget-view+json": {
       "model_id": "3ee7024e2ffd46d299902a0864a0ea08",
       "version_major": 2,
       "version_minor": 0
      },
      "text/plain": [
       "eval batch:   0%|          | 0/8 [00:00<?, ?it/s]"
      ]
     },
     "metadata": {},
     "output_type": "display_data"
    },
    {
     "data": {
      "application/vnd.jupyter.widget-view+json": {
       "model_id": "6291b5275ab3400aaf95d67a08509f8a",
       "version_major": 2,
       "version_minor": 0
      },
      "text/plain": [
       "training batch:   0%|          | 0/35 [00:00<?, ?it/s]"
      ]
     },
     "metadata": {},
     "output_type": "display_data"
    },
    {
     "data": {
      "application/vnd.jupyter.widget-view+json": {
       "model_id": "8ccc824599cb4e3a8732161399793024",
       "version_major": 2,
       "version_minor": 0
      },
      "text/plain": [
       "eval batch:   0%|          | 0/8 [00:00<?, ?it/s]"
      ]
     },
     "metadata": {},
     "output_type": "display_data"
    },
    {
     "data": {
      "application/vnd.jupyter.widget-view+json": {
       "model_id": "5c25ca636ca5440eb9ad67d91b0c0ffd",
       "version_major": 2,
       "version_minor": 0
      },
      "text/plain": [
       "training batch:   0%|          | 0/35 [00:00<?, ?it/s]"
      ]
     },
     "metadata": {},
     "output_type": "display_data"
    },
    {
     "data": {
      "application/vnd.jupyter.widget-view+json": {
       "model_id": "2a11c9bbe9294d24b67235e1e8f9fd3c",
       "version_major": 2,
       "version_minor": 0
      },
      "text/plain": [
       "eval batch:   0%|          | 0/8 [00:00<?, ?it/s]"
      ]
     },
     "metadata": {},
     "output_type": "display_data"
    },
    {
     "data": {
      "application/vnd.jupyter.widget-view+json": {
       "model_id": "5006a4b7e0ce46908c368f46548fcc6e",
       "version_major": 2,
       "version_minor": 0
      },
      "text/plain": [
       "training batch:   0%|          | 0/35 [00:00<?, ?it/s]"
      ]
     },
     "metadata": {},
     "output_type": "display_data"
    },
    {
     "data": {
      "application/vnd.jupyter.widget-view+json": {
       "model_id": "ee5dc6cefe8a4288a4e41db07a894dc7",
       "version_major": 2,
       "version_minor": 0
      },
      "text/plain": [
       "eval batch:   0%|          | 0/8 [00:00<?, ?it/s]"
      ]
     },
     "metadata": {},
     "output_type": "display_data"
    },
    {
     "data": {
      "application/vnd.jupyter.widget-view+json": {
       "model_id": "f623fcb91bf8414fb3589060e532cc01",
       "version_major": 2,
       "version_minor": 0
      },
      "text/plain": [
       "training batch:   0%|          | 0/35 [00:00<?, ?it/s]"
      ]
     },
     "metadata": {},
     "output_type": "display_data"
    },
    {
     "data": {
      "application/vnd.jupyter.widget-view+json": {
       "model_id": "a74c1dafecf441abaa527a6dbd465a6a",
       "version_major": 2,
       "version_minor": 0
      },
      "text/plain": [
       "eval batch:   0%|          | 0/8 [00:00<?, ?it/s]"
      ]
     },
     "metadata": {},
     "output_type": "display_data"
    },
    {
     "data": {
      "application/vnd.jupyter.widget-view+json": {
       "model_id": "9a4caa176338446e9e0db2f4bc9be9a2",
       "version_major": 2,
       "version_minor": 0
      },
      "text/plain": [
       "training batch:   0%|          | 0/35 [00:00<?, ?it/s]"
      ]
     },
     "metadata": {},
     "output_type": "display_data"
    },
    {
     "data": {
      "application/vnd.jupyter.widget-view+json": {
       "model_id": "7dca5ae906814b718cec478bcc352b09",
       "version_major": 2,
       "version_minor": 0
      },
      "text/plain": [
       "eval batch:   0%|          | 0/8 [00:00<?, ?it/s]"
      ]
     },
     "metadata": {},
     "output_type": "display_data"
    },
    {
     "data": {
      "application/vnd.jupyter.widget-view+json": {
       "model_id": "2f14449051cf439ba1043ef2c6ba7077",
       "version_major": 2,
       "version_minor": 0
      },
      "text/plain": [
       "training batch:   0%|          | 0/35 [00:00<?, ?it/s]"
      ]
     },
     "metadata": {},
     "output_type": "display_data"
    },
    {
     "data": {
      "application/vnd.jupyter.widget-view+json": {
       "model_id": "259b5d9ecdb045b28ce4752e61efe130",
       "version_major": 2,
       "version_minor": 0
      },
      "text/plain": [
       "eval batch:   0%|          | 0/8 [00:00<?, ?it/s]"
      ]
     },
     "metadata": {},
     "output_type": "display_data"
    },
    {
     "data": {
      "application/vnd.jupyter.widget-view+json": {
       "model_id": "b94e727241eb4685b425cb6f51cf81f5",
       "version_major": 2,
       "version_minor": 0
      },
      "text/plain": [
       "training batch:   0%|          | 0/35 [00:00<?, ?it/s]"
      ]
     },
     "metadata": {},
     "output_type": "display_data"
    },
    {
     "data": {
      "application/vnd.jupyter.widget-view+json": {
       "model_id": "6f4484f007d641328f5e589f9c01b28d",
       "version_major": 2,
       "version_minor": 0
      },
      "text/plain": [
       "eval batch:   0%|          | 0/8 [00:00<?, ?it/s]"
      ]
     },
     "metadata": {},
     "output_type": "display_data"
    },
    {
     "data": {
      "application/vnd.jupyter.widget-view+json": {
       "model_id": "4e990589981d41e09b87300dfdb0afc1",
       "version_major": 2,
       "version_minor": 0
      },
      "text/plain": [
       "training batch:   0%|          | 0/35 [00:00<?, ?it/s]"
      ]
     },
     "metadata": {},
     "output_type": "display_data"
    },
    {
     "data": {
      "application/vnd.jupyter.widget-view+json": {
       "model_id": "2a66be3bf0f84f1c823ccd9aa60e136b",
       "version_major": 2,
       "version_minor": 0
      },
      "text/plain": [
       "eval batch:   0%|          | 0/8 [00:00<?, ?it/s]"
      ]
     },
     "metadata": {},
     "output_type": "display_data"
    },
    {
     "data": {
      "application/vnd.jupyter.widget-view+json": {
       "model_id": "8c507651b4974b289feca2e1ded381bc",
       "version_major": 2,
       "version_minor": 0
      },
      "text/plain": [
       "training batch:   0%|          | 0/35 [00:00<?, ?it/s]"
      ]
     },
     "metadata": {},
     "output_type": "display_data"
    },
    {
     "data": {
      "application/vnd.jupyter.widget-view+json": {
       "model_id": "cbb7bfa61b2d43d38342a08f279f715d",
       "version_major": 2,
       "version_minor": 0
      },
      "text/plain": [
       "eval batch:   0%|          | 0/8 [00:00<?, ?it/s]"
      ]
     },
     "metadata": {},
     "output_type": "display_data"
    },
    {
     "data": {
      "application/vnd.jupyter.widget-view+json": {
       "model_id": "889149cbbf1d49ac8625cc1a8ac9e0dc",
       "version_major": 2,
       "version_minor": 0
      },
      "text/plain": [
       "training batch:   0%|          | 0/35 [00:00<?, ?it/s]"
      ]
     },
     "metadata": {},
     "output_type": "display_data"
    },
    {
     "data": {
      "application/vnd.jupyter.widget-view+json": {
       "model_id": "9b12eb823ec04ccb99e329e3138ce3ca",
       "version_major": 2,
       "version_minor": 0
      },
      "text/plain": [
       "eval batch:   0%|          | 0/8 [00:00<?, ?it/s]"
      ]
     },
     "metadata": {},
     "output_type": "display_data"
    },
    {
     "data": {
      "application/vnd.jupyter.widget-view+json": {
       "model_id": "10551d58b734418c81bfa9499095d278",
       "version_major": 2,
       "version_minor": 0
      },
      "text/plain": [
       "training batch:   0%|          | 0/35 [00:00<?, ?it/s]"
      ]
     },
     "metadata": {},
     "output_type": "display_data"
    },
    {
     "data": {
      "application/vnd.jupyter.widget-view+json": {
       "model_id": "06aea54dabca4d4cad65aa697acbc2d0",
       "version_major": 2,
       "version_minor": 0
      },
      "text/plain": [
       "eval batch:   0%|          | 0/8 [00:00<?, ?it/s]"
      ]
     },
     "metadata": {},
     "output_type": "display_data"
    },
    {
     "data": {
      "application/vnd.jupyter.widget-view+json": {
       "model_id": "4ea9576b20304770b6e304d5c5ca959d",
       "version_major": 2,
       "version_minor": 0
      },
      "text/plain": [
       "training batch:   0%|          | 0/35 [00:00<?, ?it/s]"
      ]
     },
     "metadata": {},
     "output_type": "display_data"
    },
    {
     "data": {
      "application/vnd.jupyter.widget-view+json": {
       "model_id": "1e63ec6a8d814d1daaf6500a0c2e8d05",
       "version_major": 2,
       "version_minor": 0
      },
      "text/plain": [
       "eval batch:   0%|          | 0/8 [00:00<?, ?it/s]"
      ]
     },
     "metadata": {},
     "output_type": "display_data"
    },
    {
     "data": {
      "application/vnd.jupyter.widget-view+json": {
       "model_id": "23d3e554e8a74d9f80338491a34bade6",
       "version_major": 2,
       "version_minor": 0
      },
      "text/plain": [
       "training batch:   0%|          | 0/35 [00:00<?, ?it/s]"
      ]
     },
     "metadata": {},
     "output_type": "display_data"
    },
    {
     "data": {
      "application/vnd.jupyter.widget-view+json": {
       "model_id": "45dda436bd7b4bceb5c6bb98fa6bdde8",
       "version_major": 2,
       "version_minor": 0
      },
      "text/plain": [
       "eval batch:   0%|          | 0/8 [00:00<?, ?it/s]"
      ]
     },
     "metadata": {},
     "output_type": "display_data"
    },
    {
     "data": {
      "application/vnd.jupyter.widget-view+json": {
       "model_id": "706bdd75f1cd4622a9b24b4133b8609d",
       "version_major": 2,
       "version_minor": 0
      },
      "text/plain": [
       "training batch:   0%|          | 0/35 [00:00<?, ?it/s]"
      ]
     },
     "metadata": {},
     "output_type": "display_data"
    },
    {
     "data": {
      "application/vnd.jupyter.widget-view+json": {
       "model_id": "6c5109bc1ef64c59b14c7bdad5e6753e",
       "version_major": 2,
       "version_minor": 0
      },
      "text/plain": [
       "eval batch:   0%|          | 0/8 [00:00<?, ?it/s]"
      ]
     },
     "metadata": {},
     "output_type": "display_data"
    },
    {
     "data": {
      "application/vnd.jupyter.widget-view+json": {
       "model_id": "931607dfb81e46b89d80c06e657d63fd",
       "version_major": 2,
       "version_minor": 0
      },
      "text/plain": [
       "training batch:   0%|          | 0/35 [00:00<?, ?it/s]"
      ]
     },
     "metadata": {},
     "output_type": "display_data"
    },
    {
     "data": {
      "application/vnd.jupyter.widget-view+json": {
       "model_id": "6f31aa80232540ad93ef0ac8b362dda5",
       "version_major": 2,
       "version_minor": 0
      },
      "text/plain": [
       "eval batch:   0%|          | 0/8 [00:00<?, ?it/s]"
      ]
     },
     "metadata": {},
     "output_type": "display_data"
    },
    {
     "data": {
      "application/vnd.jupyter.widget-view+json": {
       "model_id": "f2d484ce74944748b5e486ca382bbc74",
       "version_major": 2,
       "version_minor": 0
      },
      "text/plain": [
       "training batch:   0%|          | 0/35 [00:00<?, ?it/s]"
      ]
     },
     "metadata": {},
     "output_type": "display_data"
    },
    {
     "data": {
      "application/vnd.jupyter.widget-view+json": {
       "model_id": "8053cc82f99c46658fc90cb107ed69cb",
       "version_major": 2,
       "version_minor": 0
      },
      "text/plain": [
       "eval batch:   0%|          | 0/8 [00:00<?, ?it/s]"
      ]
     },
     "metadata": {},
     "output_type": "display_data"
    },
    {
     "data": {
      "application/vnd.jupyter.widget-view+json": {
       "model_id": "c6f2fc7676b443bc91f611169586b343",
       "version_major": 2,
       "version_minor": 0
      },
      "text/plain": [
       "training batch:   0%|          | 0/35 [00:00<?, ?it/s]"
      ]
     },
     "metadata": {},
     "output_type": "display_data"
    },
    {
     "data": {
      "application/vnd.jupyter.widget-view+json": {
       "model_id": "880ff110f6b44d7d9749717acf5130d2",
       "version_major": 2,
       "version_minor": 0
      },
      "text/plain": [
       "eval batch:   0%|          | 0/8 [00:00<?, ?it/s]"
      ]
     },
     "metadata": {},
     "output_type": "display_data"
    },
    {
     "data": {
      "application/vnd.jupyter.widget-view+json": {
       "model_id": "a34fddcaf200479ab323d44ee59bd6b5",
       "version_major": 2,
       "version_minor": 0
      },
      "text/plain": [
       "training batch:   0%|          | 0/35 [00:00<?, ?it/s]"
      ]
     },
     "metadata": {},
     "output_type": "display_data"
    },
    {
     "data": {
      "application/vnd.jupyter.widget-view+json": {
       "model_id": "6c21635c9aa64232917652b9db1f0c3c",
       "version_major": 2,
       "version_minor": 0
      },
      "text/plain": [
       "eval batch:   0%|          | 0/8 [00:00<?, ?it/s]"
      ]
     },
     "metadata": {},
     "output_type": "display_data"
    },
    {
     "data": {
      "application/vnd.jupyter.widget-view+json": {
       "model_id": "5294322d897a4a41a1dde4d45adf3ec0",
       "version_major": 2,
       "version_minor": 0
      },
      "text/plain": [
       "training batch:   0%|          | 0/35 [00:00<?, ?it/s]"
      ]
     },
     "metadata": {},
     "output_type": "display_data"
    },
    {
     "data": {
      "application/vnd.jupyter.widget-view+json": {
       "model_id": "c9f21ef725f043f4893b3912a9fa6746",
       "version_major": 2,
       "version_minor": 0
      },
      "text/plain": [
       "eval batch:   0%|          | 0/8 [00:00<?, ?it/s]"
      ]
     },
     "metadata": {},
     "output_type": "display_data"
    },
    {
     "data": {
      "application/vnd.jupyter.widget-view+json": {
       "model_id": "12c3703474804b728153210e1a824e9d",
       "version_major": 2,
       "version_minor": 0
      },
      "text/plain": [
       "training batch:   0%|          | 0/35 [00:00<?, ?it/s]"
      ]
     },
     "metadata": {},
     "output_type": "display_data"
    },
    {
     "data": {
      "application/vnd.jupyter.widget-view+json": {
       "model_id": "8694ba9e95d34d4885af497e134c14b6",
       "version_major": 2,
       "version_minor": 0
      },
      "text/plain": [
       "eval batch:   0%|          | 0/8 [00:00<?, ?it/s]"
      ]
     },
     "metadata": {},
     "output_type": "display_data"
    },
    {
     "data": {
      "application/vnd.jupyter.widget-view+json": {
       "model_id": "fe767db51b614469b6cf53db79aa9313",
       "version_major": 2,
       "version_minor": 0
      },
      "text/plain": [
       "training batch:   0%|          | 0/35 [00:00<?, ?it/s]"
      ]
     },
     "metadata": {},
     "output_type": "display_data"
    },
    {
     "data": {
      "application/vnd.jupyter.widget-view+json": {
       "model_id": "623ad33caa7140ef93e843c8a84dc901",
       "version_major": 2,
       "version_minor": 0
      },
      "text/plain": [
       "eval batch:   0%|          | 0/8 [00:00<?, ?it/s]"
      ]
     },
     "metadata": {},
     "output_type": "display_data"
    },
    {
     "data": {
      "application/vnd.jupyter.widget-view+json": {
       "model_id": "cc74e8a79e9f407bb6e681856002b54a",
       "version_major": 2,
       "version_minor": 0
      },
      "text/plain": [
       "training batch:   0%|          | 0/35 [00:00<?, ?it/s]"
      ]
     },
     "metadata": {},
     "output_type": "display_data"
    },
    {
     "data": {
      "application/vnd.jupyter.widget-view+json": {
       "model_id": "ee7ad13dbeed4fea86215a323f04470c",
       "version_major": 2,
       "version_minor": 0
      },
      "text/plain": [
       "eval batch:   0%|          | 0/8 [00:00<?, ?it/s]"
      ]
     },
     "metadata": {},
     "output_type": "display_data"
    },
    {
     "data": {
      "application/vnd.jupyter.widget-view+json": {
       "model_id": "4fd5c30f88e3429faa7c66a70ff1c53d",
       "version_major": 2,
       "version_minor": 0
      },
      "text/plain": [
       "training batch:   0%|          | 0/35 [00:00<?, ?it/s]"
      ]
     },
     "metadata": {},
     "output_type": "display_data"
    },
    {
     "data": {
      "application/vnd.jupyter.widget-view+json": {
       "model_id": "91b3632e6b844bc09a17a6106772b387",
       "version_major": 2,
       "version_minor": 0
      },
      "text/plain": [
       "eval batch:   0%|          | 0/8 [00:00<?, ?it/s]"
      ]
     },
     "metadata": {},
     "output_type": "display_data"
    },
    {
     "data": {
      "application/vnd.jupyter.widget-view+json": {
       "model_id": "24cfca06abfa4b66aca8054a5b1a7621",
       "version_major": 2,
       "version_minor": 0
      },
      "text/plain": [
       "training batch:   0%|          | 0/35 [00:00<?, ?it/s]"
      ]
     },
     "metadata": {},
     "output_type": "display_data"
    },
    {
     "data": {
      "application/vnd.jupyter.widget-view+json": {
       "model_id": "6ddc0f9bcdb142cfbfce70a8fa94e060",
       "version_major": 2,
       "version_minor": 0
      },
      "text/plain": [
       "eval batch:   0%|          | 0/8 [00:00<?, ?it/s]"
      ]
     },
     "metadata": {},
     "output_type": "display_data"
    },
    {
     "data": {
      "application/vnd.jupyter.widget-view+json": {
       "model_id": "a077b795302247cdbc0afc7fc0dccbac",
       "version_major": 2,
       "version_minor": 0
      },
      "text/plain": [
       "training batch:   0%|          | 0/35 [00:00<?, ?it/s]"
      ]
     },
     "metadata": {},
     "output_type": "display_data"
    },
    {
     "data": {
      "application/vnd.jupyter.widget-view+json": {
       "model_id": "08a1cff83cd44370ac549f8441e3f837",
       "version_major": 2,
       "version_minor": 0
      },
      "text/plain": [
       "eval batch:   0%|          | 0/8 [00:00<?, ?it/s]"
      ]
     },
     "metadata": {},
     "output_type": "display_data"
    },
    {
     "data": {
      "application/vnd.jupyter.widget-view+json": {
       "model_id": "39c0ef4c8d574b7caa40319947c10b84",
       "version_major": 2,
       "version_minor": 0
      },
      "text/plain": [
       "training batch:   0%|          | 0/35 [00:00<?, ?it/s]"
      ]
     },
     "metadata": {},
     "output_type": "display_data"
    },
    {
     "data": {
      "application/vnd.jupyter.widget-view+json": {
       "model_id": "4c8c5ec7043a462c9315b4d9f8bd48be",
       "version_major": 2,
       "version_minor": 0
      },
      "text/plain": [
       "eval batch:   0%|          | 0/8 [00:00<?, ?it/s]"
      ]
     },
     "metadata": {},
     "output_type": "display_data"
    },
    {
     "data": {
      "application/vnd.jupyter.widget-view+json": {
       "model_id": "f581685fbf4f47f0a2119215db8472c3",
       "version_major": 2,
       "version_minor": 0
      },
      "text/plain": [
       "training batch:   0%|          | 0/35 [00:00<?, ?it/s]"
      ]
     },
     "metadata": {},
     "output_type": "display_data"
    },
    {
     "data": {
      "application/vnd.jupyter.widget-view+json": {
       "model_id": "9ccea0ce243948949603af3fc955ec44",
       "version_major": 2,
       "version_minor": 0
      },
      "text/plain": [
       "eval batch:   0%|          | 0/8 [00:00<?, ?it/s]"
      ]
     },
     "metadata": {},
     "output_type": "display_data"
    },
    {
     "data": {
      "application/vnd.jupyter.widget-view+json": {
       "model_id": "4118df1219f74972abf7def897eaa522",
       "version_major": 2,
       "version_minor": 0
      },
      "text/plain": [
       "training batch:   0%|          | 0/35 [00:00<?, ?it/s]"
      ]
     },
     "metadata": {},
     "output_type": "display_data"
    },
    {
     "data": {
      "application/vnd.jupyter.widget-view+json": {
       "model_id": "c984ed96580040ed93d435932b3e9efc",
       "version_major": 2,
       "version_minor": 0
      },
      "text/plain": [
       "eval batch:   0%|          | 0/8 [00:00<?, ?it/s]"
      ]
     },
     "metadata": {},
     "output_type": "display_data"
    },
    {
     "data": {
      "application/vnd.jupyter.widget-view+json": {
       "model_id": "7aa02863e9c64074bb3144ac3d02c465",
       "version_major": 2,
       "version_minor": 0
      },
      "text/plain": [
       "training batch:   0%|          | 0/35 [00:00<?, ?it/s]"
      ]
     },
     "metadata": {},
     "output_type": "display_data"
    },
    {
     "data": {
      "application/vnd.jupyter.widget-view+json": {
       "model_id": "eebf36b0e3a449e1ae29b6cce26815bf",
       "version_major": 2,
       "version_minor": 0
      },
      "text/plain": [
       "eval batch:   0%|          | 0/8 [00:00<?, ?it/s]"
      ]
     },
     "metadata": {},
     "output_type": "display_data"
    },
    {
     "data": {
      "application/vnd.jupyter.widget-view+json": {
       "model_id": "7aaa934ae86e465988ff6b1108dc6b04",
       "version_major": 2,
       "version_minor": 0
      },
      "text/plain": [
       "training batch:   0%|          | 0/35 [00:00<?, ?it/s]"
      ]
     },
     "metadata": {},
     "output_type": "display_data"
    },
    {
     "data": {
      "application/vnd.jupyter.widget-view+json": {
       "model_id": "d64048c722324347ae47fbfbde4fbe0e",
       "version_major": 2,
       "version_minor": 0
      },
      "text/plain": [
       "eval batch:   0%|          | 0/8 [00:00<?, ?it/s]"
      ]
     },
     "metadata": {},
     "output_type": "display_data"
    },
    {
     "data": {
      "application/vnd.jupyter.widget-view+json": {
       "model_id": "919a84d69b9e49adb7f2d63045328672",
       "version_major": 2,
       "version_minor": 0
      },
      "text/plain": [
       "training batch:   0%|          | 0/35 [00:00<?, ?it/s]"
      ]
     },
     "metadata": {},
     "output_type": "display_data"
    },
    {
     "data": {
      "application/vnd.jupyter.widget-view+json": {
       "model_id": "1be29957618841268c007ec20483d517",
       "version_major": 2,
       "version_minor": 0
      },
      "text/plain": [
       "eval batch:   0%|          | 0/8 [00:00<?, ?it/s]"
      ]
     },
     "metadata": {},
     "output_type": "display_data"
    },
    {
     "data": {
      "application/vnd.jupyter.widget-view+json": {
       "model_id": "3350a6f9ba2846cebda21de3f9b42bcf",
       "version_major": 2,
       "version_minor": 0
      },
      "text/plain": [
       "training batch:   0%|          | 0/35 [00:00<?, ?it/s]"
      ]
     },
     "metadata": {},
     "output_type": "display_data"
    },
    {
     "data": {
      "application/vnd.jupyter.widget-view+json": {
       "model_id": "5e8d128d4e6a4faf919d9e5a29c2c346",
       "version_major": 2,
       "version_minor": 0
      },
      "text/plain": [
       "eval batch:   0%|          | 0/8 [00:00<?, ?it/s]"
      ]
     },
     "metadata": {},
     "output_type": "display_data"
    },
    {
     "data": {
      "application/vnd.jupyter.widget-view+json": {
       "model_id": "5964131c792f4938a33d184c46873a2a",
       "version_major": 2,
       "version_minor": 0
      },
      "text/plain": [
       "training batch:   0%|          | 0/35 [00:00<?, ?it/s]"
      ]
     },
     "metadata": {},
     "output_type": "display_data"
    },
    {
     "data": {
      "application/vnd.jupyter.widget-view+json": {
       "model_id": "b2b80f3d25cb475aa2641d67f0cf5dc7",
       "version_major": 2,
       "version_minor": 0
      },
      "text/plain": [
       "eval batch:   0%|          | 0/8 [00:00<?, ?it/s]"
      ]
     },
     "metadata": {},
     "output_type": "display_data"
    },
    {
     "data": {
      "application/vnd.jupyter.widget-view+json": {
       "model_id": "6c352d43e0bd4c6a9bf71809416eaa4b",
       "version_major": 2,
       "version_minor": 0
      },
      "text/plain": [
       "training batch:   0%|          | 0/35 [00:00<?, ?it/s]"
      ]
     },
     "metadata": {},
     "output_type": "display_data"
    },
    {
     "data": {
      "application/vnd.jupyter.widget-view+json": {
       "model_id": "3bfa4a4febb744828144f2d4f851c1ad",
       "version_major": 2,
       "version_minor": 0
      },
      "text/plain": [
       "eval batch:   0%|          | 0/8 [00:00<?, ?it/s]"
      ]
     },
     "metadata": {},
     "output_type": "display_data"
    },
    {
     "data": {
      "application/vnd.jupyter.widget-view+json": {
       "model_id": "eaf838333ebb408cb31dedb555a886b7",
       "version_major": 2,
       "version_minor": 0
      },
      "text/plain": [
       "training batch:   0%|          | 0/35 [00:00<?, ?it/s]"
      ]
     },
     "metadata": {},
     "output_type": "display_data"
    },
    {
     "data": {
      "application/vnd.jupyter.widget-view+json": {
       "model_id": "1cb0dc4b93b14693a3c8576385fd2cea",
       "version_major": 2,
       "version_minor": 0
      },
      "text/plain": [
       "eval batch:   0%|          | 0/8 [00:00<?, ?it/s]"
      ]
     },
     "metadata": {},
     "output_type": "display_data"
    },
    {
     "data": {
      "application/vnd.jupyter.widget-view+json": {
       "model_id": "e0f8da3deed646d58b17fa9925c4deea",
       "version_major": 2,
       "version_minor": 0
      },
      "text/plain": [
       "training batch:   0%|          | 0/35 [00:00<?, ?it/s]"
      ]
     },
     "metadata": {},
     "output_type": "display_data"
    },
    {
     "data": {
      "application/vnd.jupyter.widget-view+json": {
       "model_id": "e1cdc5ff09a040659a5bbac5b0279a25",
       "version_major": 2,
       "version_minor": 0
      },
      "text/plain": [
       "eval batch:   0%|          | 0/8 [00:00<?, ?it/s]"
      ]
     },
     "metadata": {},
     "output_type": "display_data"
    },
    {
     "data": {
      "application/vnd.jupyter.widget-view+json": {
       "model_id": "512e3642866949f9998a594d283d6d04",
       "version_major": 2,
       "version_minor": 0
      },
      "text/plain": [
       "training batch:   0%|          | 0/35 [00:00<?, ?it/s]"
      ]
     },
     "metadata": {},
     "output_type": "display_data"
    },
    {
     "data": {
      "application/vnd.jupyter.widget-view+json": {
       "model_id": "90fb0351bfb142feb239e5c42ca329a6",
       "version_major": 2,
       "version_minor": 0
      },
      "text/plain": [
       "eval batch:   0%|          | 0/8 [00:00<?, ?it/s]"
      ]
     },
     "metadata": {},
     "output_type": "display_data"
    },
    {
     "data": {
      "application/vnd.jupyter.widget-view+json": {
       "model_id": "c8b517a4fa6e4fc2b9e6be7410255cf7",
       "version_major": 2,
       "version_minor": 0
      },
      "text/plain": [
       "training batch:   0%|          | 0/35 [00:00<?, ?it/s]"
      ]
     },
     "metadata": {},
     "output_type": "display_data"
    },
    {
     "data": {
      "application/vnd.jupyter.widget-view+json": {
       "model_id": "8945c3b7204c4e73b6c05c0e1b5462f8",
       "version_major": 2,
       "version_minor": 0
      },
      "text/plain": [
       "eval batch:   0%|          | 0/8 [00:00<?, ?it/s]"
      ]
     },
     "metadata": {},
     "output_type": "display_data"
    },
    {
     "data": {
      "application/vnd.jupyter.widget-view+json": {
       "model_id": "64a5af77b35840c99b065de911775735",
       "version_major": 2,
       "version_minor": 0
      },
      "text/plain": [
       "training batch:   0%|          | 0/35 [00:00<?, ?it/s]"
      ]
     },
     "metadata": {},
     "output_type": "display_data"
    },
    {
     "data": {
      "application/vnd.jupyter.widget-view+json": {
       "model_id": "0fe7062b2897487bbbc9dd3ae4075f48",
       "version_major": 2,
       "version_minor": 0
      },
      "text/plain": [
       "eval batch:   0%|          | 0/8 [00:00<?, ?it/s]"
      ]
     },
     "metadata": {},
     "output_type": "display_data"
    },
    {
     "data": {
      "application/vnd.jupyter.widget-view+json": {
       "model_id": "565698339c434b4a8ee1fe27b8110614",
       "version_major": 2,
       "version_minor": 0
      },
      "text/plain": [
       "training batch:   0%|          | 0/35 [00:00<?, ?it/s]"
      ]
     },
     "metadata": {},
     "output_type": "display_data"
    },
    {
     "data": {
      "application/vnd.jupyter.widget-view+json": {
       "model_id": "bcd6cd595cab451d8bebfff1c5007855",
       "version_major": 2,
       "version_minor": 0
      },
      "text/plain": [
       "eval batch:   0%|          | 0/8 [00:00<?, ?it/s]"
      ]
     },
     "metadata": {},
     "output_type": "display_data"
    },
    {
     "data": {
      "application/vnd.jupyter.widget-view+json": {
       "model_id": "770729c35b1f4da792f4c03f316bc9ed",
       "version_major": 2,
       "version_minor": 0
      },
      "text/plain": [
       "training batch:   0%|          | 0/35 [00:00<?, ?it/s]"
      ]
     },
     "metadata": {},
     "output_type": "display_data"
    },
    {
     "data": {
      "application/vnd.jupyter.widget-view+json": {
       "model_id": "761f2923b8cf48dbb3dcafc97b92b703",
       "version_major": 2,
       "version_minor": 0
      },
      "text/plain": [
       "eval batch:   0%|          | 0/8 [00:00<?, ?it/s]"
      ]
     },
     "metadata": {},
     "output_type": "display_data"
    },
    {
     "data": {
      "application/vnd.jupyter.widget-view+json": {
       "model_id": "d2ee6299785045caace2f9ce11adabfa",
       "version_major": 2,
       "version_minor": 0
      },
      "text/plain": [
       "training batch:   0%|          | 0/35 [00:00<?, ?it/s]"
      ]
     },
     "metadata": {},
     "output_type": "display_data"
    },
    {
     "data": {
      "application/vnd.jupyter.widget-view+json": {
       "model_id": "a430ee8a3f4b4651a21a47f39a41e287",
       "version_major": 2,
       "version_minor": 0
      },
      "text/plain": [
       "eval batch:   0%|          | 0/8 [00:00<?, ?it/s]"
      ]
     },
     "metadata": {},
     "output_type": "display_data"
    },
    {
     "data": {
      "application/vnd.jupyter.widget-view+json": {
       "model_id": "7c95ffba77074f3faa3972c8a7bc1b99",
       "version_major": 2,
       "version_minor": 0
      },
      "text/plain": [
       "training batch:   0%|          | 0/35 [00:00<?, ?it/s]"
      ]
     },
     "metadata": {},
     "output_type": "display_data"
    },
    {
     "data": {
      "application/vnd.jupyter.widget-view+json": {
       "model_id": "bb844616fdc34a84a097eef3306521d2",
       "version_major": 2,
       "version_minor": 0
      },
      "text/plain": [
       "eval batch:   0%|          | 0/8 [00:00<?, ?it/s]"
      ]
     },
     "metadata": {},
     "output_type": "display_data"
    },
    {
     "data": {
      "application/vnd.jupyter.widget-view+json": {
       "model_id": "d3611044a6d24eab8c00260f53b2af4a",
       "version_major": 2,
       "version_minor": 0
      },
      "text/plain": [
       "training batch:   0%|          | 0/35 [00:00<?, ?it/s]"
      ]
     },
     "metadata": {},
     "output_type": "display_data"
    },
    {
     "data": {
      "application/vnd.jupyter.widget-view+json": {
       "model_id": "532a5905483a48fa8b50f59703f72c59",
       "version_major": 2,
       "version_minor": 0
      },
      "text/plain": [
       "eval batch:   0%|          | 0/8 [00:00<?, ?it/s]"
      ]
     },
     "metadata": {},
     "output_type": "display_data"
    },
    {
     "data": {
      "application/vnd.jupyter.widget-view+json": {
       "model_id": "6e74fdc542794f6cb904b0f05bc01110",
       "version_major": 2,
       "version_minor": 0
      },
      "text/plain": [
       "training batch:   0%|          | 0/35 [00:00<?, ?it/s]"
      ]
     },
     "metadata": {},
     "output_type": "display_data"
    },
    {
     "data": {
      "application/vnd.jupyter.widget-view+json": {
       "model_id": "af5acb2424404c6baa95b32f7510c5fc",
       "version_major": 2,
       "version_minor": 0
      },
      "text/plain": [
       "eval batch:   0%|          | 0/8 [00:00<?, ?it/s]"
      ]
     },
     "metadata": {},
     "output_type": "display_data"
    },
    {
     "data": {
      "application/vnd.jupyter.widget-view+json": {
       "model_id": "982e870c51a649688fb0ebed8ecc6c44",
       "version_major": 2,
       "version_minor": 0
      },
      "text/plain": [
       "training batch:   0%|          | 0/35 [00:00<?, ?it/s]"
      ]
     },
     "metadata": {},
     "output_type": "display_data"
    },
    {
     "data": {
      "application/vnd.jupyter.widget-view+json": {
       "model_id": "a69b6e3b5b1248a0a5867a4f0a4991c4",
       "version_major": 2,
       "version_minor": 0
      },
      "text/plain": [
       "eval batch:   0%|          | 0/8 [00:00<?, ?it/s]"
      ]
     },
     "metadata": {},
     "output_type": "display_data"
    },
    {
     "data": {
      "application/vnd.jupyter.widget-view+json": {
       "model_id": "ff0e1bc5f98f4cd2bb3d25b139b02bb7",
       "version_major": 2,
       "version_minor": 0
      },
      "text/plain": [
       "training batch:   0%|          | 0/35 [00:00<?, ?it/s]"
      ]
     },
     "metadata": {},
     "output_type": "display_data"
    },
    {
     "data": {
      "application/vnd.jupyter.widget-view+json": {
       "model_id": "3800466f78ef4eb2a734cc6c53f06b40",
       "version_major": 2,
       "version_minor": 0
      },
      "text/plain": [
       "eval batch:   0%|          | 0/8 [00:00<?, ?it/s]"
      ]
     },
     "metadata": {},
     "output_type": "display_data"
    },
    {
     "data": {
      "application/vnd.jupyter.widget-view+json": {
       "model_id": "14e9a1de62d44a75acb78b23901d8252",
       "version_major": 2,
       "version_minor": 0
      },
      "text/plain": [
       "training batch:   0%|          | 0/35 [00:00<?, ?it/s]"
      ]
     },
     "metadata": {},
     "output_type": "display_data"
    },
    {
     "data": {
      "application/vnd.jupyter.widget-view+json": {
       "model_id": "0ba70e56bb414b97b1abf125e8900bba",
       "version_major": 2,
       "version_minor": 0
      },
      "text/plain": [
       "eval batch:   0%|          | 0/8 [00:00<?, ?it/s]"
      ]
     },
     "metadata": {},
     "output_type": "display_data"
    },
    {
     "data": {
      "application/vnd.jupyter.widget-view+json": {
       "model_id": "5d677734c99c42c4b8ab1c9ac227e992",
       "version_major": 2,
       "version_minor": 0
      },
      "text/plain": [
       "training batch:   0%|          | 0/35 [00:00<?, ?it/s]"
      ]
     },
     "metadata": {},
     "output_type": "display_data"
    },
    {
     "data": {
      "application/vnd.jupyter.widget-view+json": {
       "model_id": "1023716f39074f97a792f9b34e5c8b0e",
       "version_major": 2,
       "version_minor": 0
      },
      "text/plain": [
       "eval batch:   0%|          | 0/8 [00:00<?, ?it/s]"
      ]
     },
     "metadata": {},
     "output_type": "display_data"
    },
    {
     "data": {
      "application/vnd.jupyter.widget-view+json": {
       "model_id": "9fa82278c79f42b2a5f32dcc6777617c",
       "version_major": 2,
       "version_minor": 0
      },
      "text/plain": [
       "training batch:   0%|          | 0/35 [00:00<?, ?it/s]"
      ]
     },
     "metadata": {},
     "output_type": "display_data"
    },
    {
     "data": {
      "application/vnd.jupyter.widget-view+json": {
       "model_id": "ad51eff7c4d641b6bad1d072c42e3065",
       "version_major": 2,
       "version_minor": 0
      },
      "text/plain": [
       "eval batch:   0%|          | 0/8 [00:00<?, ?it/s]"
      ]
     },
     "metadata": {},
     "output_type": "display_data"
    },
    {
     "data": {
      "application/vnd.jupyter.widget-view+json": {
       "model_id": "192ca9a88d8946c6abc3ae6ed8dc5b50",
       "version_major": 2,
       "version_minor": 0
      },
      "text/plain": [
       "training batch:   0%|          | 0/35 [00:00<?, ?it/s]"
      ]
     },
     "metadata": {},
     "output_type": "display_data"
    },
    {
     "data": {
      "application/vnd.jupyter.widget-view+json": {
       "model_id": "21633dfc856c454d8dcfb041a58d1e9b",
       "version_major": 2,
       "version_minor": 0
      },
      "text/plain": [
       "eval batch:   0%|          | 0/8 [00:00<?, ?it/s]"
      ]
     },
     "metadata": {},
     "output_type": "display_data"
    },
    {
     "data": {
      "application/vnd.jupyter.widget-view+json": {
       "model_id": "378e4d7de0154c0e93e35507749053af",
       "version_major": 2,
       "version_minor": 0
      },
      "text/plain": [
       "training batch:   0%|          | 0/35 [00:00<?, ?it/s]"
      ]
     },
     "metadata": {},
     "output_type": "display_data"
    },
    {
     "data": {
      "application/vnd.jupyter.widget-view+json": {
       "model_id": "a7fd00b3824a4f54ae2d913f489fd288",
       "version_major": 2,
       "version_minor": 0
      },
      "text/plain": [
       "eval batch:   0%|          | 0/8 [00:00<?, ?it/s]"
      ]
     },
     "metadata": {},
     "output_type": "display_data"
    },
    {
     "data": {
      "application/vnd.jupyter.widget-view+json": {
       "model_id": "cd7b9115e5d5401788da8343938ca483",
       "version_major": 2,
       "version_minor": 0
      },
      "text/plain": [
       "training batch:   0%|          | 0/35 [00:00<?, ?it/s]"
      ]
     },
     "metadata": {},
     "output_type": "display_data"
    },
    {
     "data": {
      "application/vnd.jupyter.widget-view+json": {
       "model_id": "5caa5317d27e474999e9cfb6a77d354b",
       "version_major": 2,
       "version_minor": 0
      },
      "text/plain": [
       "eval batch:   0%|          | 0/8 [00:00<?, ?it/s]"
      ]
     },
     "metadata": {},
     "output_type": "display_data"
    },
    {
     "data": {
      "application/vnd.jupyter.widget-view+json": {
       "model_id": "8f6699f1ff8e4411803f914ecb64e809",
       "version_major": 2,
       "version_minor": 0
      },
      "text/plain": [
       "training batch:   0%|          | 0/35 [00:00<?, ?it/s]"
      ]
     },
     "metadata": {},
     "output_type": "display_data"
    },
    {
     "data": {
      "application/vnd.jupyter.widget-view+json": {
       "model_id": "9d78620ed5274876a68a11fbb73e959a",
       "version_major": 2,
       "version_minor": 0
      },
      "text/plain": [
       "eval batch:   0%|          | 0/8 [00:00<?, ?it/s]"
      ]
     },
     "metadata": {},
     "output_type": "display_data"
    },
    {
     "data": {
      "application/vnd.jupyter.widget-view+json": {
       "model_id": "777572bcc20c429e8eda281e76f80abb",
       "version_major": 2,
       "version_minor": 0
      },
      "text/plain": [
       "training batch:   0%|          | 0/35 [00:00<?, ?it/s]"
      ]
     },
     "metadata": {},
     "output_type": "display_data"
    },
    {
     "data": {
      "application/vnd.jupyter.widget-view+json": {
       "model_id": "e767a06adde74e7a97625bae70169afb",
       "version_major": 2,
       "version_minor": 0
      },
      "text/plain": [
       "eval batch:   0%|          | 0/8 [00:00<?, ?it/s]"
      ]
     },
     "metadata": {},
     "output_type": "display_data"
    },
    {
     "data": {
      "application/vnd.jupyter.widget-view+json": {
       "model_id": "a28980d20f764d069dd2e500249edd48",
       "version_major": 2,
       "version_minor": 0
      },
      "text/plain": [
       "training batch:   0%|          | 0/35 [00:00<?, ?it/s]"
      ]
     },
     "metadata": {},
     "output_type": "display_data"
    },
    {
     "data": {
      "application/vnd.jupyter.widget-view+json": {
       "model_id": "fe5e0dce34c64ec8bbba3531560e5e8f",
       "version_major": 2,
       "version_minor": 0
      },
      "text/plain": [
       "eval batch:   0%|          | 0/8 [00:00<?, ?it/s]"
      ]
     },
     "metadata": {},
     "output_type": "display_data"
    },
    {
     "data": {
      "application/vnd.jupyter.widget-view+json": {
       "model_id": "4b1ff71bba1c41a1a5ec98f14c1f1606",
       "version_major": 2,
       "version_minor": 0
      },
      "text/plain": [
       "training batch:   0%|          | 0/35 [00:00<?, ?it/s]"
      ]
     },
     "metadata": {},
     "output_type": "display_data"
    },
    {
     "data": {
      "application/vnd.jupyter.widget-view+json": {
       "model_id": "edd14370735c440f81e60344df18904d",
       "version_major": 2,
       "version_minor": 0
      },
      "text/plain": [
       "eval batch:   0%|          | 0/8 [00:00<?, ?it/s]"
      ]
     },
     "metadata": {},
     "output_type": "display_data"
    },
    {
     "data": {
      "application/vnd.jupyter.widget-view+json": {
       "model_id": "d1eab456f8ec4475891c4ba87aa74172",
       "version_major": 2,
       "version_minor": 0
      },
      "text/plain": [
       "training batch:   0%|          | 0/35 [00:00<?, ?it/s]"
      ]
     },
     "metadata": {},
     "output_type": "display_data"
    },
    {
     "data": {
      "application/vnd.jupyter.widget-view+json": {
       "model_id": "91dea4dcfab34491b426b8cc56d1973e",
       "version_major": 2,
       "version_minor": 0
      },
      "text/plain": [
       "eval batch:   0%|          | 0/8 [00:00<?, ?it/s]"
      ]
     },
     "metadata": {},
     "output_type": "display_data"
    },
    {
     "data": {
      "application/vnd.jupyter.widget-view+json": {
       "model_id": "1e7a97211f5344959e4e4ad57185a636",
       "version_major": 2,
       "version_minor": 0
      },
      "text/plain": [
       "training batch:   0%|          | 0/35 [00:00<?, ?it/s]"
      ]
     },
     "metadata": {},
     "output_type": "display_data"
    },
    {
     "data": {
      "application/vnd.jupyter.widget-view+json": {
       "model_id": "72c566e1f7f34539b1df1639a366061f",
       "version_major": 2,
       "version_minor": 0
      },
      "text/plain": [
       "eval batch:   0%|          | 0/8 [00:00<?, ?it/s]"
      ]
     },
     "metadata": {},
     "output_type": "display_data"
    },
    {
     "data": {
      "application/vnd.jupyter.widget-view+json": {
       "model_id": "0e623108b62c47fe9a9ceb656dfa2c0b",
       "version_major": 2,
       "version_minor": 0
      },
      "text/plain": [
       "training batch:   0%|          | 0/35 [00:00<?, ?it/s]"
      ]
     },
     "metadata": {},
     "output_type": "display_data"
    },
    {
     "data": {
      "application/vnd.jupyter.widget-view+json": {
       "model_id": "a673adfaf44c425087de14a5e8af451f",
       "version_major": 2,
       "version_minor": 0
      },
      "text/plain": [
       "eval batch:   0%|          | 0/8 [00:00<?, ?it/s]"
      ]
     },
     "metadata": {},
     "output_type": "display_data"
    },
    {
     "data": {
      "application/vnd.jupyter.widget-view+json": {
       "model_id": "831f5ce339814c608fc2137426905017",
       "version_major": 2,
       "version_minor": 0
      },
      "text/plain": [
       "training batch:   0%|          | 0/35 [00:00<?, ?it/s]"
      ]
     },
     "metadata": {},
     "output_type": "display_data"
    },
    {
     "data": {
      "application/vnd.jupyter.widget-view+json": {
       "model_id": "9a55edeef71b40bebdad852c94b6a8d6",
       "version_major": 2,
       "version_minor": 0
      },
      "text/plain": [
       "eval batch:   0%|          | 0/8 [00:00<?, ?it/s]"
      ]
     },
     "metadata": {},
     "output_type": "display_data"
    },
    {
     "data": {
      "application/vnd.jupyter.widget-view+json": {
       "model_id": "df759e5d092f42e786bf42969c30406a",
       "version_major": 2,
       "version_minor": 0
      },
      "text/plain": [
       "training batch:   0%|          | 0/35 [00:00<?, ?it/s]"
      ]
     },
     "metadata": {},
     "output_type": "display_data"
    },
    {
     "data": {
      "application/vnd.jupyter.widget-view+json": {
       "model_id": "66a9a16230104ba2997cf83190d3ea26",
       "version_major": 2,
       "version_minor": 0
      },
      "text/plain": [
       "eval batch:   0%|          | 0/8 [00:00<?, ?it/s]"
      ]
     },
     "metadata": {},
     "output_type": "display_data"
    },
    {
     "data": {
      "application/vnd.jupyter.widget-view+json": {
       "model_id": "e4ec76a6a0a24ac1ac53241eb59bf083",
       "version_major": 2,
       "version_minor": 0
      },
      "text/plain": [
       "training batch:   0%|          | 0/35 [00:00<?, ?it/s]"
      ]
     },
     "metadata": {},
     "output_type": "display_data"
    },
    {
     "data": {
      "application/vnd.jupyter.widget-view+json": {
       "model_id": "4c1f52d523d14a888872417a94b90ed2",
       "version_major": 2,
       "version_minor": 0
      },
      "text/plain": [
       "eval batch:   0%|          | 0/8 [00:00<?, ?it/s]"
      ]
     },
     "metadata": {},
     "output_type": "display_data"
    },
    {
     "data": {
      "application/vnd.jupyter.widget-view+json": {
       "model_id": "2eb7a43fd35943ba8e0ad62feaeb122e",
       "version_major": 2,
       "version_minor": 0
      },
      "text/plain": [
       "training batch:   0%|          | 0/35 [00:00<?, ?it/s]"
      ]
     },
     "metadata": {},
     "output_type": "display_data"
    },
    {
     "data": {
      "application/vnd.jupyter.widget-view+json": {
       "model_id": "a2c6cfe7df4142a8845cefdc9b0f9621",
       "version_major": 2,
       "version_minor": 0
      },
      "text/plain": [
       "eval batch:   0%|          | 0/8 [00:00<?, ?it/s]"
      ]
     },
     "metadata": {},
     "output_type": "display_data"
    },
    {
     "data": {
      "application/vnd.jupyter.widget-view+json": {
       "model_id": "643217b529f240908af940d32e6d5137",
       "version_major": 2,
       "version_minor": 0
      },
      "text/plain": [
       "training batch:   0%|          | 0/35 [00:00<?, ?it/s]"
      ]
     },
     "metadata": {},
     "output_type": "display_data"
    },
    {
     "data": {
      "application/vnd.jupyter.widget-view+json": {
       "model_id": "85508528120a49f8bf107d145c3920c1",
       "version_major": 2,
       "version_minor": 0
      },
      "text/plain": [
       "eval batch:   0%|          | 0/8 [00:00<?, ?it/s]"
      ]
     },
     "metadata": {},
     "output_type": "display_data"
    },
    {
     "data": {
      "application/vnd.jupyter.widget-view+json": {
       "model_id": "75c0bc4fde794f64bbc1f27b8b82300a",
       "version_major": 2,
       "version_minor": 0
      },
      "text/plain": [
       "training batch:   0%|          | 0/35 [00:00<?, ?it/s]"
      ]
     },
     "metadata": {},
     "output_type": "display_data"
    },
    {
     "data": {
      "application/vnd.jupyter.widget-view+json": {
       "model_id": "a489975d3ba14cd2b54c282309f4be3a",
       "version_major": 2,
       "version_minor": 0
      },
      "text/plain": [
       "eval batch:   0%|          | 0/8 [00:00<?, ?it/s]"
      ]
     },
     "metadata": {},
     "output_type": "display_data"
    },
    {
     "data": {
      "application/vnd.jupyter.widget-view+json": {
       "model_id": "d6f3e7cf0dd741e0b2032b8c24793018",
       "version_major": 2,
       "version_minor": 0
      },
      "text/plain": [
       "training batch:   0%|          | 0/35 [00:00<?, ?it/s]"
      ]
     },
     "metadata": {},
     "output_type": "display_data"
    },
    {
     "data": {
      "application/vnd.jupyter.widget-view+json": {
       "model_id": "bce9624ee28e450585dd3eb1866a9e6c",
       "version_major": 2,
       "version_minor": 0
      },
      "text/plain": [
       "eval batch:   0%|          | 0/8 [00:00<?, ?it/s]"
      ]
     },
     "metadata": {},
     "output_type": "display_data"
    },
    {
     "data": {
      "application/vnd.jupyter.widget-view+json": {
       "model_id": "e9287766fb284c7698382f0c8b44f1c3",
       "version_major": 2,
       "version_minor": 0
      },
      "text/plain": [
       "training batch:   0%|          | 0/35 [00:00<?, ?it/s]"
      ]
     },
     "metadata": {},
     "output_type": "display_data"
    },
    {
     "data": {
      "application/vnd.jupyter.widget-view+json": {
       "model_id": "6525f13299764529a7c7ff5e4c28ae47",
       "version_major": 2,
       "version_minor": 0
      },
      "text/plain": [
       "eval batch:   0%|          | 0/8 [00:00<?, ?it/s]"
      ]
     },
     "metadata": {},
     "output_type": "display_data"
    },
    {
     "data": {
      "application/vnd.jupyter.widget-view+json": {
       "model_id": "44b3f372caa04627a93d6312232abdb9",
       "version_major": 2,
       "version_minor": 0
      },
      "text/plain": [
       "training batch:   0%|          | 0/35 [00:00<?, ?it/s]"
      ]
     },
     "metadata": {},
     "output_type": "display_data"
    },
    {
     "data": {
      "application/vnd.jupyter.widget-view+json": {
       "model_id": "1edfbe551b3942df9bd6b814f1d59a40",
       "version_major": 2,
       "version_minor": 0
      },
      "text/plain": [
       "eval batch:   0%|          | 0/8 [00:00<?, ?it/s]"
      ]
     },
     "metadata": {},
     "output_type": "display_data"
    },
    {
     "data": {
      "application/vnd.jupyter.widget-view+json": {
       "model_id": "b8a7bfb8f5494bb0b589ff0d0829db81",
       "version_major": 2,
       "version_minor": 0
      },
      "text/plain": [
       "training batch:   0%|          | 0/35 [00:00<?, ?it/s]"
      ]
     },
     "metadata": {},
     "output_type": "display_data"
    },
    {
     "data": {
      "application/vnd.jupyter.widget-view+json": {
       "model_id": "ba1650f48f1446eba368a731c0898e2a",
       "version_major": 2,
       "version_minor": 0
      },
      "text/plain": [
       "eval batch:   0%|          | 0/8 [00:00<?, ?it/s]"
      ]
     },
     "metadata": {},
     "output_type": "display_data"
    },
    {
     "data": {
      "application/vnd.jupyter.widget-view+json": {
       "model_id": "0d1da54e1e8a40eabfbc850bc01dd42f",
       "version_major": 2,
       "version_minor": 0
      },
      "text/plain": [
       "training batch:   0%|          | 0/35 [00:00<?, ?it/s]"
      ]
     },
     "metadata": {},
     "output_type": "display_data"
    },
    {
     "data": {
      "application/vnd.jupyter.widget-view+json": {
       "model_id": "4b15b768cdd5465a99325114e7399f5b",
       "version_major": 2,
       "version_minor": 0
      },
      "text/plain": [
       "eval batch:   0%|          | 0/8 [00:00<?, ?it/s]"
      ]
     },
     "metadata": {},
     "output_type": "display_data"
    },
    {
     "data": {
      "application/vnd.jupyter.widget-view+json": {
       "model_id": "f7689bb3efb44fd392187ade6a713844",
       "version_major": 2,
       "version_minor": 0
      },
      "text/plain": [
       "training batch:   0%|          | 0/35 [00:00<?, ?it/s]"
      ]
     },
     "metadata": {},
     "output_type": "display_data"
    },
    {
     "data": {
      "application/vnd.jupyter.widget-view+json": {
       "model_id": "d0521ec237b342ceb45a90b15982885c",
       "version_major": 2,
       "version_minor": 0
      },
      "text/plain": [
       "eval batch:   0%|          | 0/8 [00:00<?, ?it/s]"
      ]
     },
     "metadata": {},
     "output_type": "display_data"
    },
    {
     "data": {
      "application/vnd.jupyter.widget-view+json": {
       "model_id": "153be673eb69443899ab9bddd27e9ed4",
       "version_major": 2,
       "version_minor": 0
      },
      "text/plain": [
       "training batch:   0%|          | 0/35 [00:00<?, ?it/s]"
      ]
     },
     "metadata": {},
     "output_type": "display_data"
    },
    {
     "data": {
      "application/vnd.jupyter.widget-view+json": {
       "model_id": "b8594858d5334fc7a92bd6da83e7d64c",
       "version_major": 2,
       "version_minor": 0
      },
      "text/plain": [
       "eval batch:   0%|          | 0/8 [00:00<?, ?it/s]"
      ]
     },
     "metadata": {},
     "output_type": "display_data"
    },
    {
     "data": {
      "application/vnd.jupyter.widget-view+json": {
       "model_id": "8657056f82644959a70f289bc49b5e33",
       "version_major": 2,
       "version_minor": 0
      },
      "text/plain": [
       "training batch:   0%|          | 0/35 [00:00<?, ?it/s]"
      ]
     },
     "metadata": {},
     "output_type": "display_data"
    },
    {
     "data": {
      "application/vnd.jupyter.widget-view+json": {
       "model_id": "1e0e785ae95b4b0ab8f59e4a6a5796dc",
       "version_major": 2,
       "version_minor": 0
      },
      "text/plain": [
       "eval batch:   0%|          | 0/8 [00:00<?, ?it/s]"
      ]
     },
     "metadata": {},
     "output_type": "display_data"
    },
    {
     "data": {
      "application/vnd.jupyter.widget-view+json": {
       "model_id": "cc69aa8cbe2a4ba3a263ebb53847ca7d",
       "version_major": 2,
       "version_minor": 0
      },
      "text/plain": [
       "training batch:   0%|          | 0/35 [00:00<?, ?it/s]"
      ]
     },
     "metadata": {},
     "output_type": "display_data"
    },
    {
     "data": {
      "application/vnd.jupyter.widget-view+json": {
       "model_id": "fb31971f369f4d50ab0f722230fb5687",
       "version_major": 2,
       "version_minor": 0
      },
      "text/plain": [
       "eval batch:   0%|          | 0/8 [00:00<?, ?it/s]"
      ]
     },
     "metadata": {},
     "output_type": "display_data"
    },
    {
     "data": {
      "application/vnd.jupyter.widget-view+json": {
       "model_id": "58a809d3cfe14789b19e36be3b1f5ba7",
       "version_major": 2,
       "version_minor": 0
      },
      "text/plain": [
       "training batch:   0%|          | 0/35 [00:00<?, ?it/s]"
      ]
     },
     "metadata": {},
     "output_type": "display_data"
    },
    {
     "data": {
      "application/vnd.jupyter.widget-view+json": {
       "model_id": "1a412be3f68345b5b6648d4b11e3a3c9",
       "version_major": 2,
       "version_minor": 0
      },
      "text/plain": [
       "eval batch:   0%|          | 0/8 [00:00<?, ?it/s]"
      ]
     },
     "metadata": {},
     "output_type": "display_data"
    },
    {
     "data": {
      "application/vnd.jupyter.widget-view+json": {
       "model_id": "111e95eb35be477ba65df184a1f6b282",
       "version_major": 2,
       "version_minor": 0
      },
      "text/plain": [
       "training batch:   0%|          | 0/35 [00:00<?, ?it/s]"
      ]
     },
     "metadata": {},
     "output_type": "display_data"
    },
    {
     "data": {
      "application/vnd.jupyter.widget-view+json": {
       "model_id": "c683a0dd28364153bebc7068ebe0f93c",
       "version_major": 2,
       "version_minor": 0
      },
      "text/plain": [
       "eval batch:   0%|          | 0/8 [00:00<?, ?it/s]"
      ]
     },
     "metadata": {},
     "output_type": "display_data"
    },
    {
     "data": {
      "application/vnd.jupyter.widget-view+json": {
       "model_id": "0d10e6a924f24b3bae8dc3d1ebd26520",
       "version_major": 2,
       "version_minor": 0
      },
      "text/plain": [
       "training batch:   0%|          | 0/35 [00:00<?, ?it/s]"
      ]
     },
     "metadata": {},
     "output_type": "display_data"
    },
    {
     "data": {
      "application/vnd.jupyter.widget-view+json": {
       "model_id": "61121c425a544b1aac465eb7fd174b2b",
       "version_major": 2,
       "version_minor": 0
      },
      "text/plain": [
       "eval batch:   0%|          | 0/8 [00:00<?, ?it/s]"
      ]
     },
     "metadata": {},
     "output_type": "display_data"
    },
    {
     "data": {
      "application/vnd.jupyter.widget-view+json": {
       "model_id": "16a5488c5c19452ab321698577e4e280",
       "version_major": 2,
       "version_minor": 0
      },
      "text/plain": [
       "training batch:   0%|          | 0/35 [00:00<?, ?it/s]"
      ]
     },
     "metadata": {},
     "output_type": "display_data"
    },
    {
     "data": {
      "application/vnd.jupyter.widget-view+json": {
       "model_id": "9376b5a432b346719fc4f3764c2122cf",
       "version_major": 2,
       "version_minor": 0
      },
      "text/plain": [
       "eval batch:   0%|          | 0/8 [00:00<?, ?it/s]"
      ]
     },
     "metadata": {},
     "output_type": "display_data"
    },
    {
     "data": {
      "application/vnd.jupyter.widget-view+json": {
       "model_id": "ea5ccd89909f4d6ba632d8eda5101a2d",
       "version_major": 2,
       "version_minor": 0
      },
      "text/plain": [
       "training batch:   0%|          | 0/35 [00:00<?, ?it/s]"
      ]
     },
     "metadata": {},
     "output_type": "display_data"
    },
    {
     "data": {
      "application/vnd.jupyter.widget-view+json": {
       "model_id": "088c5eb91fb2478390197a8f1ea1398e",
       "version_major": 2,
       "version_minor": 0
      },
      "text/plain": [
       "eval batch:   0%|          | 0/8 [00:00<?, ?it/s]"
      ]
     },
     "metadata": {},
     "output_type": "display_data"
    },
    {
     "data": {
      "application/vnd.jupyter.widget-view+json": {
       "model_id": "b08c3fbf4f6c4466967863b89fa3345d",
       "version_major": 2,
       "version_minor": 0
      },
      "text/plain": [
       "training batch:   0%|          | 0/35 [00:00<?, ?it/s]"
      ]
     },
     "metadata": {},
     "output_type": "display_data"
    },
    {
     "data": {
      "application/vnd.jupyter.widget-view+json": {
       "model_id": "40493779679f496bab59581800222668",
       "version_major": 2,
       "version_minor": 0
      },
      "text/plain": [
       "eval batch:   0%|          | 0/8 [00:00<?, ?it/s]"
      ]
     },
     "metadata": {},
     "output_type": "display_data"
    },
    {
     "data": {
      "application/vnd.jupyter.widget-view+json": {
       "model_id": "c338e13cd69b4d8dbd25bef298fd2c4a",
       "version_major": 2,
       "version_minor": 0
      },
      "text/plain": [
       "training batch:   0%|          | 0/35 [00:00<?, ?it/s]"
      ]
     },
     "metadata": {},
     "output_type": "display_data"
    },
    {
     "data": {
      "application/vnd.jupyter.widget-view+json": {
       "model_id": "590fbcdc9b3548a9bd1ff0b53e45ad96",
       "version_major": 2,
       "version_minor": 0
      },
      "text/plain": [
       "eval batch:   0%|          | 0/8 [00:00<?, ?it/s]"
      ]
     },
     "metadata": {},
     "output_type": "display_data"
    },
    {
     "data": {
      "application/vnd.jupyter.widget-view+json": {
       "model_id": "95f0fef63f724614849bacc3094802d9",
       "version_major": 2,
       "version_minor": 0
      },
      "text/plain": [
       "training batch:   0%|          | 0/35 [00:00<?, ?it/s]"
      ]
     },
     "metadata": {},
     "output_type": "display_data"
    },
    {
     "data": {
      "application/vnd.jupyter.widget-view+json": {
       "model_id": "24479900c04744be808d8e101e9681c8",
       "version_major": 2,
       "version_minor": 0
      },
      "text/plain": [
       "eval batch:   0%|          | 0/8 [00:00<?, ?it/s]"
      ]
     },
     "metadata": {},
     "output_type": "display_data"
    },
    {
     "data": {
      "application/vnd.jupyter.widget-view+json": {
       "model_id": "133707135f424b3481b5f647617a4963",
       "version_major": 2,
       "version_minor": 0
      },
      "text/plain": [
       "training batch:   0%|          | 0/35 [00:00<?, ?it/s]"
      ]
     },
     "metadata": {},
     "output_type": "display_data"
    },
    {
     "data": {
      "application/vnd.jupyter.widget-view+json": {
       "model_id": "d01641932dcb41349adff680101ae33a",
       "version_major": 2,
       "version_minor": 0
      },
      "text/plain": [
       "eval batch:   0%|          | 0/8 [00:00<?, ?it/s]"
      ]
     },
     "metadata": {},
     "output_type": "display_data"
    },
    {
     "data": {
      "application/vnd.jupyter.widget-view+json": {
       "model_id": "a9a602890d6548948f177500862bd6ea",
       "version_major": 2,
       "version_minor": 0
      },
      "text/plain": [
       "training batch:   0%|          | 0/35 [00:00<?, ?it/s]"
      ]
     },
     "metadata": {},
     "output_type": "display_data"
    },
    {
     "data": {
      "application/vnd.jupyter.widget-view+json": {
       "model_id": "14e35b51267b4cf28b6cf14e4a4cf13d",
       "version_major": 2,
       "version_minor": 0
      },
      "text/plain": [
       "eval batch:   0%|          | 0/8 [00:00<?, ?it/s]"
      ]
     },
     "metadata": {},
     "output_type": "display_data"
    },
    {
     "data": {
      "application/vnd.jupyter.widget-view+json": {
       "model_id": "a5d56fdc689a4f28bc8187e952fbba5c",
       "version_major": 2,
       "version_minor": 0
      },
      "text/plain": [
       "training batch:   0%|          | 0/35 [00:00<?, ?it/s]"
      ]
     },
     "metadata": {},
     "output_type": "display_data"
    },
    {
     "data": {
      "application/vnd.jupyter.widget-view+json": {
       "model_id": "c5d163bcf1ca404ab905af8e4545a194",
       "version_major": 2,
       "version_minor": 0
      },
      "text/plain": [
       "eval batch:   0%|          | 0/8 [00:00<?, ?it/s]"
      ]
     },
     "metadata": {},
     "output_type": "display_data"
    },
    {
     "data": {
      "application/vnd.jupyter.widget-view+json": {
       "model_id": "6d6579694d2e49548aa4333b06ade1be",
       "version_major": 2,
       "version_minor": 0
      },
      "text/plain": [
       "training batch:   0%|          | 0/35 [00:00<?, ?it/s]"
      ]
     },
     "metadata": {},
     "output_type": "display_data"
    },
    {
     "data": {
      "application/vnd.jupyter.widget-view+json": {
       "model_id": "352d2a74ca11488d8e6250a4b0d21e35",
       "version_major": 2,
       "version_minor": 0
      },
      "text/plain": [
       "eval batch:   0%|          | 0/8 [00:00<?, ?it/s]"
      ]
     },
     "metadata": {},
     "output_type": "display_data"
    },
    {
     "data": {
      "application/vnd.jupyter.widget-view+json": {
       "model_id": "5bc0af32bb744e638950f459ab198af7",
       "version_major": 2,
       "version_minor": 0
      },
      "text/plain": [
       "training batch:   0%|          | 0/35 [00:00<?, ?it/s]"
      ]
     },
     "metadata": {},
     "output_type": "display_data"
    },
    {
     "data": {
      "application/vnd.jupyter.widget-view+json": {
       "model_id": "57b19a1aa60a4eb3928ebdc77cef0ccf",
       "version_major": 2,
       "version_minor": 0
      },
      "text/plain": [
       "eval batch:   0%|          | 0/8 [00:00<?, ?it/s]"
      ]
     },
     "metadata": {},
     "output_type": "display_data"
    },
    {
     "data": {
      "application/vnd.jupyter.widget-view+json": {
       "model_id": "3d1742c87be6420c9493d0e0e7b3fc28",
       "version_major": 2,
       "version_minor": 0
      },
      "text/plain": [
       "training batch:   0%|          | 0/35 [00:00<?, ?it/s]"
      ]
     },
     "metadata": {},
     "output_type": "display_data"
    },
    {
     "data": {
      "application/vnd.jupyter.widget-view+json": {
       "model_id": "b1e2387908114609a28aea96e32ef696",
       "version_major": 2,
       "version_minor": 0
      },
      "text/plain": [
       "eval batch:   0%|          | 0/8 [00:00<?, ?it/s]"
      ]
     },
     "metadata": {},
     "output_type": "display_data"
    },
    {
     "data": {
      "application/vnd.jupyter.widget-view+json": {
       "model_id": "049c2fe2b98347f781737f7e6e18bfe2",
       "version_major": 2,
       "version_minor": 0
      },
      "text/plain": [
       "training batch:   0%|          | 0/35 [00:00<?, ?it/s]"
      ]
     },
     "metadata": {},
     "output_type": "display_data"
    },
    {
     "data": {
      "application/vnd.jupyter.widget-view+json": {
       "model_id": "0b1a8dae2d58488caba384c9acbfabb9",
       "version_major": 2,
       "version_minor": 0
      },
      "text/plain": [
       "eval batch:   0%|          | 0/8 [00:00<?, ?it/s]"
      ]
     },
     "metadata": {},
     "output_type": "display_data"
    },
    {
     "data": {
      "application/vnd.jupyter.widget-view+json": {
       "model_id": "714ecaad5fb94907bd0b571f6211e456",
       "version_major": 2,
       "version_minor": 0
      },
      "text/plain": [
       "training batch:   0%|          | 0/35 [00:00<?, ?it/s]"
      ]
     },
     "metadata": {},
     "output_type": "display_data"
    },
    {
     "data": {
      "application/vnd.jupyter.widget-view+json": {
       "model_id": "33b1f67479e14a1cb62fe5034f66c0a2",
       "version_major": 2,
       "version_minor": 0
      },
      "text/plain": [
       "eval batch:   0%|          | 0/8 [00:00<?, ?it/s]"
      ]
     },
     "metadata": {},
     "output_type": "display_data"
    },
    {
     "data": {
      "application/vnd.jupyter.widget-view+json": {
       "model_id": "c034c758ed114bcaaf735eaaa03dea9b",
       "version_major": 2,
       "version_minor": 0
      },
      "text/plain": [
       "training batch:   0%|          | 0/35 [00:00<?, ?it/s]"
      ]
     },
     "metadata": {},
     "output_type": "display_data"
    },
    {
     "data": {
      "application/vnd.jupyter.widget-view+json": {
       "model_id": "f337ba344adf41209232ea7247f6312b",
       "version_major": 2,
       "version_minor": 0
      },
      "text/plain": [
       "eval batch:   0%|          | 0/8 [00:00<?, ?it/s]"
      ]
     },
     "metadata": {},
     "output_type": "display_data"
    },
    {
     "data": {
      "application/vnd.jupyter.widget-view+json": {
       "model_id": "a5f2d61a5aa14154a4b87b09c7fa2a41",
       "version_major": 2,
       "version_minor": 0
      },
      "text/plain": [
       "training batch:   0%|          | 0/35 [00:00<?, ?it/s]"
      ]
     },
     "metadata": {},
     "output_type": "display_data"
    },
    {
     "data": {
      "application/vnd.jupyter.widget-view+json": {
       "model_id": "6adaf201e2204f818ded720119be2fa6",
       "version_major": 2,
       "version_minor": 0
      },
      "text/plain": [
       "eval batch:   0%|          | 0/8 [00:00<?, ?it/s]"
      ]
     },
     "metadata": {},
     "output_type": "display_data"
    },
    {
     "data": {
      "application/vnd.jupyter.widget-view+json": {
       "model_id": "209f68b8fc3c4113b879d0d57329397e",
       "version_major": 2,
       "version_minor": 0
      },
      "text/plain": [
       "training batch:   0%|          | 0/35 [00:00<?, ?it/s]"
      ]
     },
     "metadata": {},
     "output_type": "display_data"
    },
    {
     "data": {
      "application/vnd.jupyter.widget-view+json": {
       "model_id": "5d70cd4a1dc94822ae250ee30b45c4f8",
       "version_major": 2,
       "version_minor": 0
      },
      "text/plain": [
       "eval batch:   0%|          | 0/8 [00:00<?, ?it/s]"
      ]
     },
     "metadata": {},
     "output_type": "display_data"
    },
    {
     "data": {
      "application/vnd.jupyter.widget-view+json": {
       "model_id": "ba82ba3bee5d4ea3b943b361f7e8d208",
       "version_major": 2,
       "version_minor": 0
      },
      "text/plain": [
       "training batch:   0%|          | 0/35 [00:00<?, ?it/s]"
      ]
     },
     "metadata": {},
     "output_type": "display_data"
    },
    {
     "data": {
      "application/vnd.jupyter.widget-view+json": {
       "model_id": "d29157f8e4604ec1a8b5c2ff56b3f11a",
       "version_major": 2,
       "version_minor": 0
      },
      "text/plain": [
       "eval batch:   0%|          | 0/8 [00:00<?, ?it/s]"
      ]
     },
     "metadata": {},
     "output_type": "display_data"
    },
    {
     "data": {
      "application/vnd.jupyter.widget-view+json": {
       "model_id": "db6cd200b3c2491a94ea8c8f768aad3b",
       "version_major": 2,
       "version_minor": 0
      },
      "text/plain": [
       "training batch:   0%|          | 0/35 [00:00<?, ?it/s]"
      ]
     },
     "metadata": {},
     "output_type": "display_data"
    },
    {
     "data": {
      "application/vnd.jupyter.widget-view+json": {
       "model_id": "7b0baa1b4a6645d9b8a9e72e299128b0",
       "version_major": 2,
       "version_minor": 0
      },
      "text/plain": [
       "eval batch:   0%|          | 0/8 [00:00<?, ?it/s]"
      ]
     },
     "metadata": {},
     "output_type": "display_data"
    },
    {
     "data": {
      "application/vnd.jupyter.widget-view+json": {
       "model_id": "f2365efcb48b4b12aa1cfc694b8abe57",
       "version_major": 2,
       "version_minor": 0
      },
      "text/plain": [
       "training batch:   0%|          | 0/35 [00:00<?, ?it/s]"
      ]
     },
     "metadata": {},
     "output_type": "display_data"
    },
    {
     "data": {
      "application/vnd.jupyter.widget-view+json": {
       "model_id": "d0fdeb37e66845f68f84d4c9b124e141",
       "version_major": 2,
       "version_minor": 0
      },
      "text/plain": [
       "eval batch:   0%|          | 0/8 [00:00<?, ?it/s]"
      ]
     },
     "metadata": {},
     "output_type": "display_data"
    },
    {
     "data": {
      "application/vnd.jupyter.widget-view+json": {
       "model_id": "02ad0036f48742fe8d481a62a30157e1",
       "version_major": 2,
       "version_minor": 0
      },
      "text/plain": [
       "training batch:   0%|          | 0/35 [00:00<?, ?it/s]"
      ]
     },
     "metadata": {},
     "output_type": "display_data"
    },
    {
     "data": {
      "application/vnd.jupyter.widget-view+json": {
       "model_id": "4a8389470749466d841509ca5aaa12c8",
       "version_major": 2,
       "version_minor": 0
      },
      "text/plain": [
       "eval batch:   0%|          | 0/8 [00:00<?, ?it/s]"
      ]
     },
     "metadata": {},
     "output_type": "display_data"
    },
    {
     "data": {
      "application/vnd.jupyter.widget-view+json": {
       "model_id": "b3309cb5f8e24666b33a668829bc4412",
       "version_major": 2,
       "version_minor": 0
      },
      "text/plain": [
       "training batch:   0%|          | 0/35 [00:00<?, ?it/s]"
      ]
     },
     "metadata": {},
     "output_type": "display_data"
    },
    {
     "data": {
      "application/vnd.jupyter.widget-view+json": {
       "model_id": "68412b6788864291928d4342cdc9a2b8",
       "version_major": 2,
       "version_minor": 0
      },
      "text/plain": [
       "eval batch:   0%|          | 0/8 [00:00<?, ?it/s]"
      ]
     },
     "metadata": {},
     "output_type": "display_data"
    },
    {
     "data": {
      "application/vnd.jupyter.widget-view+json": {
       "model_id": "ff33fffb2de74f1496056fbd68443e6a",
       "version_major": 2,
       "version_minor": 0
      },
      "text/plain": [
       "training batch:   0%|          | 0/35 [00:00<?, ?it/s]"
      ]
     },
     "metadata": {},
     "output_type": "display_data"
    },
    {
     "data": {
      "application/vnd.jupyter.widget-view+json": {
       "model_id": "d95f9b691e1a44dfb885a24714140888",
       "version_major": 2,
       "version_minor": 0
      },
      "text/plain": [
       "eval batch:   0%|          | 0/8 [00:00<?, ?it/s]"
      ]
     },
     "metadata": {},
     "output_type": "display_data"
    },
    {
     "data": {
      "application/vnd.jupyter.widget-view+json": {
       "model_id": "a7a7f5ca18734ccfa8c2b59a21dc0509",
       "version_major": 2,
       "version_minor": 0
      },
      "text/plain": [
       "training batch:   0%|          | 0/35 [00:00<?, ?it/s]"
      ]
     },
     "metadata": {},
     "output_type": "display_data"
    },
    {
     "data": {
      "application/vnd.jupyter.widget-view+json": {
       "model_id": "1b538cacbf7b4b2e8571046105fb49b1",
       "version_major": 2,
       "version_minor": 0
      },
      "text/plain": [
       "eval batch:   0%|          | 0/8 [00:00<?, ?it/s]"
      ]
     },
     "metadata": {},
     "output_type": "display_data"
    },
    {
     "data": {
      "application/vnd.jupyter.widget-view+json": {
       "model_id": "2f84f710224b4ed7b9d7bd06df562394",
       "version_major": 2,
       "version_minor": 0
      },
      "text/plain": [
       "training batch:   0%|          | 0/35 [00:00<?, ?it/s]"
      ]
     },
     "metadata": {},
     "output_type": "display_data"
    },
    {
     "data": {
      "application/vnd.jupyter.widget-view+json": {
       "model_id": "c4b28ec16fdf460eae811751f25ae5d5",
       "version_major": 2,
       "version_minor": 0
      },
      "text/plain": [
       "eval batch:   0%|          | 0/8 [00:00<?, ?it/s]"
      ]
     },
     "metadata": {},
     "output_type": "display_data"
    },
    {
     "data": {
      "application/vnd.jupyter.widget-view+json": {
       "model_id": "4885ce26c4a54752a337f7d774b692bc",
       "version_major": 2,
       "version_minor": 0
      },
      "text/plain": [
       "training batch:   0%|          | 0/35 [00:00<?, ?it/s]"
      ]
     },
     "metadata": {},
     "output_type": "display_data"
    },
    {
     "data": {
      "application/vnd.jupyter.widget-view+json": {
       "model_id": "3ae4016d026f48d598ff09b349994bdc",
       "version_major": 2,
       "version_minor": 0
      },
      "text/plain": [
       "eval batch:   0%|          | 0/8 [00:00<?, ?it/s]"
      ]
     },
     "metadata": {},
     "output_type": "display_data"
    },
    {
     "data": {
      "application/vnd.jupyter.widget-view+json": {
       "model_id": "d8bbdf85978c4ca484a811835d4c5ef8",
       "version_major": 2,
       "version_minor": 0
      },
      "text/plain": [
       "training batch:   0%|          | 0/35 [00:00<?, ?it/s]"
      ]
     },
     "metadata": {},
     "output_type": "display_data"
    },
    {
     "data": {
      "application/vnd.jupyter.widget-view+json": {
       "model_id": "58c471a5f5344183952a9dc0e17dd48b",
       "version_major": 2,
       "version_minor": 0
      },
      "text/plain": [
       "eval batch:   0%|          | 0/8 [00:00<?, ?it/s]"
      ]
     },
     "metadata": {},
     "output_type": "display_data"
    },
    {
     "data": {
      "application/vnd.jupyter.widget-view+json": {
       "model_id": "4fc5a9a9e8a346718a2fde17053eec36",
       "version_major": 2,
       "version_minor": 0
      },
      "text/plain": [
       "training batch:   0%|          | 0/35 [00:00<?, ?it/s]"
      ]
     },
     "metadata": {},
     "output_type": "display_data"
    },
    {
     "data": {
      "application/vnd.jupyter.widget-view+json": {
       "model_id": "b1ec0deea3cc4ae9894cdbe0c91a14d7",
       "version_major": 2,
       "version_minor": 0
      },
      "text/plain": [
       "eval batch:   0%|          | 0/8 [00:00<?, ?it/s]"
      ]
     },
     "metadata": {},
     "output_type": "display_data"
    },
    {
     "data": {
      "application/vnd.jupyter.widget-view+json": {
       "model_id": "0ba3467e4ac845f698aeba9269c7b453",
       "version_major": 2,
       "version_minor": 0
      },
      "text/plain": [
       "training batch:   0%|          | 0/35 [00:00<?, ?it/s]"
      ]
     },
     "metadata": {},
     "output_type": "display_data"
    },
    {
     "data": {
      "application/vnd.jupyter.widget-view+json": {
       "model_id": "ae9a1ebc71094568927911feb73cf33b",
       "version_major": 2,
       "version_minor": 0
      },
      "text/plain": [
       "eval batch:   0%|          | 0/8 [00:00<?, ?it/s]"
      ]
     },
     "metadata": {},
     "output_type": "display_data"
    },
    {
     "data": {
      "application/vnd.jupyter.widget-view+json": {
       "model_id": "06614719aa2c4404907f88c11d4bc2e1",
       "version_major": 2,
       "version_minor": 0
      },
      "text/plain": [
       "training batch:   0%|          | 0/35 [00:00<?, ?it/s]"
      ]
     },
     "metadata": {},
     "output_type": "display_data"
    },
    {
     "data": {
      "application/vnd.jupyter.widget-view+json": {
       "model_id": "ccdb4a2ca35447fba68cb20a318da298",
       "version_major": 2,
       "version_minor": 0
      },
      "text/plain": [
       "eval batch:   0%|          | 0/8 [00:00<?, ?it/s]"
      ]
     },
     "metadata": {},
     "output_type": "display_data"
    },
    {
     "data": {
      "application/vnd.jupyter.widget-view+json": {
       "model_id": "a7ac9970ad6747e5824f1df2aacc59e8",
       "version_major": 2,
       "version_minor": 0
      },
      "text/plain": [
       "training batch:   0%|          | 0/35 [00:00<?, ?it/s]"
      ]
     },
     "metadata": {},
     "output_type": "display_data"
    },
    {
     "data": {
      "application/vnd.jupyter.widget-view+json": {
       "model_id": "0de541535f094de5838a4a66fa761b9c",
       "version_major": 2,
       "version_minor": 0
      },
      "text/plain": [
       "eval batch:   0%|          | 0/8 [00:00<?, ?it/s]"
      ]
     },
     "metadata": {},
     "output_type": "display_data"
    },
    {
     "data": {
      "application/vnd.jupyter.widget-view+json": {
       "model_id": "113371dda2b044178eb39ee8f3089a94",
       "version_major": 2,
       "version_minor": 0
      },
      "text/plain": [
       "training batch:   0%|          | 0/35 [00:00<?, ?it/s]"
      ]
     },
     "metadata": {},
     "output_type": "display_data"
    },
    {
     "data": {
      "application/vnd.jupyter.widget-view+json": {
       "model_id": "fa5d1f4cefc04c3ebe00abe4da4bcfda",
       "version_major": 2,
       "version_minor": 0
      },
      "text/plain": [
       "eval batch:   0%|          | 0/8 [00:00<?, ?it/s]"
      ]
     },
     "metadata": {},
     "output_type": "display_data"
    },
    {
     "data": {
      "application/vnd.jupyter.widget-view+json": {
       "model_id": "9ba0770ae982478c9a5e6fb8fddcdb22",
       "version_major": 2,
       "version_minor": 0
      },
      "text/plain": [
       "training batch:   0%|          | 0/35 [00:00<?, ?it/s]"
      ]
     },
     "metadata": {},
     "output_type": "display_data"
    },
    {
     "data": {
      "application/vnd.jupyter.widget-view+json": {
       "model_id": "19a7ca8cda2d4b1f818357823c57027d",
       "version_major": 2,
       "version_minor": 0
      },
      "text/plain": [
       "eval batch:   0%|          | 0/8 [00:00<?, ?it/s]"
      ]
     },
     "metadata": {},
     "output_type": "display_data"
    },
    {
     "data": {
      "application/vnd.jupyter.widget-view+json": {
       "model_id": "f137e8789a4c45b79d0901d331dae399",
       "version_major": 2,
       "version_minor": 0
      },
      "text/plain": [
       "training batch:   0%|          | 0/35 [00:00<?, ?it/s]"
      ]
     },
     "metadata": {},
     "output_type": "display_data"
    },
    {
     "data": {
      "application/vnd.jupyter.widget-view+json": {
       "model_id": "82114ac1cbae47a8b3fd0b911aedf3c5",
       "version_major": 2,
       "version_minor": 0
      },
      "text/plain": [
       "eval batch:   0%|          | 0/8 [00:00<?, ?it/s]"
      ]
     },
     "metadata": {},
     "output_type": "display_data"
    },
    {
     "data": {
      "application/vnd.jupyter.widget-view+json": {
       "model_id": "82e48a681bd14ca48d524e978e14c404",
       "version_major": 2,
       "version_minor": 0
      },
      "text/plain": [
       "training batch:   0%|          | 0/35 [00:00<?, ?it/s]"
      ]
     },
     "metadata": {},
     "output_type": "display_data"
    },
    {
     "data": {
      "application/vnd.jupyter.widget-view+json": {
       "model_id": "dc88558aa42e494d829ea9aa78b85c79",
       "version_major": 2,
       "version_minor": 0
      },
      "text/plain": [
       "eval batch:   0%|          | 0/8 [00:00<?, ?it/s]"
      ]
     },
     "metadata": {},
     "output_type": "display_data"
    },
    {
     "data": {
      "application/vnd.jupyter.widget-view+json": {
       "model_id": "ffe1d74cc5bb4924bf3542a9c494e9df",
       "version_major": 2,
       "version_minor": 0
      },
      "text/plain": [
       "training batch:   0%|          | 0/35 [00:00<?, ?it/s]"
      ]
     },
     "metadata": {},
     "output_type": "display_data"
    },
    {
     "data": {
      "application/vnd.jupyter.widget-view+json": {
       "model_id": "6c52be8869704a81bae9f20ba0cc2e15",
       "version_major": 2,
       "version_minor": 0
      },
      "text/plain": [
       "eval batch:   0%|          | 0/8 [00:00<?, ?it/s]"
      ]
     },
     "metadata": {},
     "output_type": "display_data"
    },
    {
     "data": {
      "application/vnd.jupyter.widget-view+json": {
       "model_id": "a4363cda99d645bf9c62dc48bd1541b0",
       "version_major": 2,
       "version_minor": 0
      },
      "text/plain": [
       "training batch:   0%|          | 0/35 [00:00<?, ?it/s]"
      ]
     },
     "metadata": {},
     "output_type": "display_data"
    },
    {
     "data": {
      "application/vnd.jupyter.widget-view+json": {
       "model_id": "8bea90d6e05c41cea5b88e75bda39895",
       "version_major": 2,
       "version_minor": 0
      },
      "text/plain": [
       "eval batch:   0%|          | 0/8 [00:00<?, ?it/s]"
      ]
     },
     "metadata": {},
     "output_type": "display_data"
    },
    {
     "data": {
      "application/vnd.jupyter.widget-view+json": {
       "model_id": "ffaa8dd0441341a5b6e92217788af66c",
       "version_major": 2,
       "version_minor": 0
      },
      "text/plain": [
       "training batch:   0%|          | 0/35 [00:00<?, ?it/s]"
      ]
     },
     "metadata": {},
     "output_type": "display_data"
    },
    {
     "data": {
      "application/vnd.jupyter.widget-view+json": {
       "model_id": "a1254511898d4ddc80892339352a59dd",
       "version_major": 2,
       "version_minor": 0
      },
      "text/plain": [
       "eval batch:   0%|          | 0/8 [00:00<?, ?it/s]"
      ]
     },
     "metadata": {},
     "output_type": "display_data"
    },
    {
     "data": {
      "application/vnd.jupyter.widget-view+json": {
       "model_id": "109b8dd273cc49ce95a58918b58ac91d",
       "version_major": 2,
       "version_minor": 0
      },
      "text/plain": [
       "training batch:   0%|          | 0/35 [00:00<?, ?it/s]"
      ]
     },
     "metadata": {},
     "output_type": "display_data"
    },
    {
     "data": {
      "application/vnd.jupyter.widget-view+json": {
       "model_id": "a52c67263d264e579bb8e5c5262cf3a2",
       "version_major": 2,
       "version_minor": 0
      },
      "text/plain": [
       "eval batch:   0%|          | 0/8 [00:00<?, ?it/s]"
      ]
     },
     "metadata": {},
     "output_type": "display_data"
    },
    {
     "data": {
      "application/vnd.jupyter.widget-view+json": {
       "model_id": "9696985cd819425dbdfe9bbb22caffdd",
       "version_major": 2,
       "version_minor": 0
      },
      "text/plain": [
       "training batch:   0%|          | 0/35 [00:00<?, ?it/s]"
      ]
     },
     "metadata": {},
     "output_type": "display_data"
    },
    {
     "data": {
      "application/vnd.jupyter.widget-view+json": {
       "model_id": "39f3a412a46a47399ea2deeeff3e1b52",
       "version_major": 2,
       "version_minor": 0
      },
      "text/plain": [
       "eval batch:   0%|          | 0/8 [00:00<?, ?it/s]"
      ]
     },
     "metadata": {},
     "output_type": "display_data"
    },
    {
     "data": {
      "application/vnd.jupyter.widget-view+json": {
       "model_id": "b659559ebca2432f83d8f0acda65d906",
       "version_major": 2,
       "version_minor": 0
      },
      "text/plain": [
       "training batch:   0%|          | 0/35 [00:00<?, ?it/s]"
      ]
     },
     "metadata": {},
     "output_type": "display_data"
    },
    {
     "data": {
      "application/vnd.jupyter.widget-view+json": {
       "model_id": "70fa7e59689a4103ac1f491b4b5de799",
       "version_major": 2,
       "version_minor": 0
      },
      "text/plain": [
       "eval batch:   0%|          | 0/8 [00:00<?, ?it/s]"
      ]
     },
     "metadata": {},
     "output_type": "display_data"
    },
    {
     "data": {
      "application/vnd.jupyter.widget-view+json": {
       "model_id": "01b3bb19c45f41ba8d64452abf79238a",
       "version_major": 2,
       "version_minor": 0
      },
      "text/plain": [
       "training batch:   0%|          | 0/35 [00:00<?, ?it/s]"
      ]
     },
     "metadata": {},
     "output_type": "display_data"
    },
    {
     "data": {
      "application/vnd.jupyter.widget-view+json": {
       "model_id": "4fde95ce3fef4a4bb422d1f10f510681",
       "version_major": 2,
       "version_minor": 0
      },
      "text/plain": [
       "eval batch:   0%|          | 0/8 [00:00<?, ?it/s]"
      ]
     },
     "metadata": {},
     "output_type": "display_data"
    },
    {
     "data": {
      "application/vnd.jupyter.widget-view+json": {
       "model_id": "82e125a16fa542218886e64f57a22b65",
       "version_major": 2,
       "version_minor": 0
      },
      "text/plain": [
       "training batch:   0%|          | 0/35 [00:00<?, ?it/s]"
      ]
     },
     "metadata": {},
     "output_type": "display_data"
    },
    {
     "data": {
      "application/vnd.jupyter.widget-view+json": {
       "model_id": "665980738b6346d5852c672f35dedf2d",
       "version_major": 2,
       "version_minor": 0
      },
      "text/plain": [
       "eval batch:   0%|          | 0/8 [00:00<?, ?it/s]"
      ]
     },
     "metadata": {},
     "output_type": "display_data"
    },
    {
     "data": {
      "application/vnd.jupyter.widget-view+json": {
       "model_id": "661643594fbe4b56a356cc4df02a8c54",
       "version_major": 2,
       "version_minor": 0
      },
      "text/plain": [
       "training batch:   0%|          | 0/35 [00:00<?, ?it/s]"
      ]
     },
     "metadata": {},
     "output_type": "display_data"
    },
    {
     "data": {
      "application/vnd.jupyter.widget-view+json": {
       "model_id": "b998c34155a34995a6ed76ea616e0a3b",
       "version_major": 2,
       "version_minor": 0
      },
      "text/plain": [
       "eval batch:   0%|          | 0/8 [00:00<?, ?it/s]"
      ]
     },
     "metadata": {},
     "output_type": "display_data"
    },
    {
     "data": {
      "application/vnd.jupyter.widget-view+json": {
       "model_id": "eaf39e29fc4e4bc3b574d7cbe138c83e",
       "version_major": 2,
       "version_minor": 0
      },
      "text/plain": [
       "training batch:   0%|          | 0/35 [00:00<?, ?it/s]"
      ]
     },
     "metadata": {},
     "output_type": "display_data"
    },
    {
     "data": {
      "application/vnd.jupyter.widget-view+json": {
       "model_id": "207c7b36476d4f628c1bb5970edbf653",
       "version_major": 2,
       "version_minor": 0
      },
      "text/plain": [
       "eval batch:   0%|          | 0/8 [00:00<?, ?it/s]"
      ]
     },
     "metadata": {},
     "output_type": "display_data"
    },
    {
     "data": {
      "application/vnd.jupyter.widget-view+json": {
       "model_id": "aefa2902282d4289bf2b4689fcb52e2d",
       "version_major": 2,
       "version_minor": 0
      },
      "text/plain": [
       "training batch:   0%|          | 0/35 [00:00<?, ?it/s]"
      ]
     },
     "metadata": {},
     "output_type": "display_data"
    },
    {
     "data": {
      "application/vnd.jupyter.widget-view+json": {
       "model_id": "8cddcccc9b084542b48ef17472352d2c",
       "version_major": 2,
       "version_minor": 0
      },
      "text/plain": [
       "eval batch:   0%|          | 0/8 [00:00<?, ?it/s]"
      ]
     },
     "metadata": {},
     "output_type": "display_data"
    },
    {
     "data": {
      "application/vnd.jupyter.widget-view+json": {
       "model_id": "6d53cff34b634bc691cccb7d5ecd02f8",
       "version_major": 2,
       "version_minor": 0
      },
      "text/plain": [
       "training batch:   0%|          | 0/35 [00:00<?, ?it/s]"
      ]
     },
     "metadata": {},
     "output_type": "display_data"
    },
    {
     "data": {
      "application/vnd.jupyter.widget-view+json": {
       "model_id": "d2d4ae3a970f4980abe893d118f25a92",
       "version_major": 2,
       "version_minor": 0
      },
      "text/plain": [
       "eval batch:   0%|          | 0/8 [00:00<?, ?it/s]"
      ]
     },
     "metadata": {},
     "output_type": "display_data"
    },
    {
     "data": {
      "application/vnd.jupyter.widget-view+json": {
       "model_id": "815b10b586514dddb88fdea445f30ca5",
       "version_major": 2,
       "version_minor": 0
      },
      "text/plain": [
       "training batch:   0%|          | 0/35 [00:00<?, ?it/s]"
      ]
     },
     "metadata": {},
     "output_type": "display_data"
    },
    {
     "data": {
      "application/vnd.jupyter.widget-view+json": {
       "model_id": "dfedddf313904dda9773fea683b47335",
       "version_major": 2,
       "version_minor": 0
      },
      "text/plain": [
       "eval batch:   0%|          | 0/8 [00:00<?, ?it/s]"
      ]
     },
     "metadata": {},
     "output_type": "display_data"
    },
    {
     "data": {
      "application/vnd.jupyter.widget-view+json": {
       "model_id": "624207b1469d471e93aa1098d72d5306",
       "version_major": 2,
       "version_minor": 0
      },
      "text/plain": [
       "training batch:   0%|          | 0/35 [00:00<?, ?it/s]"
      ]
     },
     "metadata": {},
     "output_type": "display_data"
    },
    {
     "data": {
      "application/vnd.jupyter.widget-view+json": {
       "model_id": "65d92fcaaead4a098719f310da25d1ea",
       "version_major": 2,
       "version_minor": 0
      },
      "text/plain": [
       "eval batch:   0%|          | 0/8 [00:00<?, ?it/s]"
      ]
     },
     "metadata": {},
     "output_type": "display_data"
    },
    {
     "data": {
      "application/vnd.jupyter.widget-view+json": {
       "model_id": "ffb718e93a264ac9976fa0a8886f26db",
       "version_major": 2,
       "version_minor": 0
      },
      "text/plain": [
       "training batch:   0%|          | 0/35 [00:00<?, ?it/s]"
      ]
     },
     "metadata": {},
     "output_type": "display_data"
    },
    {
     "data": {
      "application/vnd.jupyter.widget-view+json": {
       "model_id": "6840cc6b0ee2443eacf7dd6db5d57796",
       "version_major": 2,
       "version_minor": 0
      },
      "text/plain": [
       "eval batch:   0%|          | 0/8 [00:00<?, ?it/s]"
      ]
     },
     "metadata": {},
     "output_type": "display_data"
    },
    {
     "data": {
      "application/vnd.jupyter.widget-view+json": {
       "model_id": "57e363dc7d494e82a61a3d22e31c9199",
       "version_major": 2,
       "version_minor": 0
      },
      "text/plain": [
       "training batch:   0%|          | 0/35 [00:00<?, ?it/s]"
      ]
     },
     "metadata": {},
     "output_type": "display_data"
    },
    {
     "data": {
      "application/vnd.jupyter.widget-view+json": {
       "model_id": "124c3393d7424d73927d2f461d447677",
       "version_major": 2,
       "version_minor": 0
      },
      "text/plain": [
       "eval batch:   0%|          | 0/8 [00:00<?, ?it/s]"
      ]
     },
     "metadata": {},
     "output_type": "display_data"
    },
    {
     "data": {
      "application/vnd.jupyter.widget-view+json": {
       "model_id": "62a303e1bd144a35935ad4aa065ded8b",
       "version_major": 2,
       "version_minor": 0
      },
      "text/plain": [
       "training batch:   0%|          | 0/35 [00:00<?, ?it/s]"
      ]
     },
     "metadata": {},
     "output_type": "display_data"
    },
    {
     "data": {
      "application/vnd.jupyter.widget-view+json": {
       "model_id": "6198e711212d4f2091c0bc709f6e7cdc",
       "version_major": 2,
       "version_minor": 0
      },
      "text/plain": [
       "eval batch:   0%|          | 0/8 [00:00<?, ?it/s]"
      ]
     },
     "metadata": {},
     "output_type": "display_data"
    },
    {
     "data": {
      "application/vnd.jupyter.widget-view+json": {
       "model_id": "9d30b146ecab40b9a69647df16b092fc",
       "version_major": 2,
       "version_minor": 0
      },
      "text/plain": [
       "training batch:   0%|          | 0/35 [00:00<?, ?it/s]"
      ]
     },
     "metadata": {},
     "output_type": "display_data"
    },
    {
     "data": {
      "application/vnd.jupyter.widget-view+json": {
       "model_id": "3aace1b64359474eb696cf4d5a6e0281",
       "version_major": 2,
       "version_minor": 0
      },
      "text/plain": [
       "eval batch:   0%|          | 0/8 [00:00<?, ?it/s]"
      ]
     },
     "metadata": {},
     "output_type": "display_data"
    },
    {
     "data": {
      "application/vnd.jupyter.widget-view+json": {
       "model_id": "5e598985927844ba8b006ac5a210eb20",
       "version_major": 2,
       "version_minor": 0
      },
      "text/plain": [
       "training batch:   0%|          | 0/35 [00:00<?, ?it/s]"
      ]
     },
     "metadata": {},
     "output_type": "display_data"
    },
    {
     "data": {
      "application/vnd.jupyter.widget-view+json": {
       "model_id": "40d5259b8706498389b73be602950d9d",
       "version_major": 2,
       "version_minor": 0
      },
      "text/plain": [
       "eval batch:   0%|          | 0/8 [00:00<?, ?it/s]"
      ]
     },
     "metadata": {},
     "output_type": "display_data"
    },
    {
     "data": {
      "application/vnd.jupyter.widget-view+json": {
       "model_id": "26d6bc7a76e6403e884ce6ca06ba8f36",
       "version_major": 2,
       "version_minor": 0
      },
      "text/plain": [
       "training batch:   0%|          | 0/35 [00:00<?, ?it/s]"
      ]
     },
     "metadata": {},
     "output_type": "display_data"
    },
    {
     "data": {
      "application/vnd.jupyter.widget-view+json": {
       "model_id": "be70b17da13948b4926af86bd3e584b1",
       "version_major": 2,
       "version_minor": 0
      },
      "text/plain": [
       "eval batch:   0%|          | 0/8 [00:00<?, ?it/s]"
      ]
     },
     "metadata": {},
     "output_type": "display_data"
    },
    {
     "data": {
      "application/vnd.jupyter.widget-view+json": {
       "model_id": "4b865f2491c1462bbccb62cf15d9f340",
       "version_major": 2,
       "version_minor": 0
      },
      "text/plain": [
       "training batch:   0%|          | 0/35 [00:00<?, ?it/s]"
      ]
     },
     "metadata": {},
     "output_type": "display_data"
    },
    {
     "data": {
      "application/vnd.jupyter.widget-view+json": {
       "model_id": "8b09e8f3278341e6a39bcbfc47525ded",
       "version_major": 2,
       "version_minor": 0
      },
      "text/plain": [
       "eval batch:   0%|          | 0/8 [00:00<?, ?it/s]"
      ]
     },
     "metadata": {},
     "output_type": "display_data"
    },
    {
     "data": {
      "application/vnd.jupyter.widget-view+json": {
       "model_id": "cb8a9dbfb37d456d80b18addcf95d91d",
       "version_major": 2,
       "version_minor": 0
      },
      "text/plain": [
       "training batch:   0%|          | 0/35 [00:00<?, ?it/s]"
      ]
     },
     "metadata": {},
     "output_type": "display_data"
    },
    {
     "data": {
      "application/vnd.jupyter.widget-view+json": {
       "model_id": "997901a6808647d394fff99846be9762",
       "version_major": 2,
       "version_minor": 0
      },
      "text/plain": [
       "eval batch:   0%|          | 0/8 [00:00<?, ?it/s]"
      ]
     },
     "metadata": {},
     "output_type": "display_data"
    },
    {
     "data": {
      "application/vnd.jupyter.widget-view+json": {
       "model_id": "b1803436698b4f4eb4f6bfdc3af4d65f",
       "version_major": 2,
       "version_minor": 0
      },
      "text/plain": [
       "training batch:   0%|          | 0/35 [00:00<?, ?it/s]"
      ]
     },
     "metadata": {},
     "output_type": "display_data"
    },
    {
     "data": {
      "application/vnd.jupyter.widget-view+json": {
       "model_id": "17306caed1014ced81072f6a55b997f5",
       "version_major": 2,
       "version_minor": 0
      },
      "text/plain": [
       "eval batch:   0%|          | 0/8 [00:00<?, ?it/s]"
      ]
     },
     "metadata": {},
     "output_type": "display_data"
    },
    {
     "data": {
      "application/vnd.jupyter.widget-view+json": {
       "model_id": "140079f9b102476ea893f66a48e152e7",
       "version_major": 2,
       "version_minor": 0
      },
      "text/plain": [
       "training batch:   0%|          | 0/35 [00:00<?, ?it/s]"
      ]
     },
     "metadata": {},
     "output_type": "display_data"
    },
    {
     "data": {
      "application/vnd.jupyter.widget-view+json": {
       "model_id": "1300861d40ea41bd9244da113dac210b",
       "version_major": 2,
       "version_minor": 0
      },
      "text/plain": [
       "eval batch:   0%|          | 0/8 [00:00<?, ?it/s]"
      ]
     },
     "metadata": {},
     "output_type": "display_data"
    },
    {
     "data": {
      "application/vnd.jupyter.widget-view+json": {
       "model_id": "2a37c8a28e3b4041ae8ca9b981f6758a",
       "version_major": 2,
       "version_minor": 0
      },
      "text/plain": [
       "training batch:   0%|          | 0/35 [00:00<?, ?it/s]"
      ]
     },
     "metadata": {},
     "output_type": "display_data"
    },
    {
     "data": {
      "application/vnd.jupyter.widget-view+json": {
       "model_id": "4bbc56d1506f41538d8ab2f6556f0e96",
       "version_major": 2,
       "version_minor": 0
      },
      "text/plain": [
       "eval batch:   0%|          | 0/8 [00:00<?, ?it/s]"
      ]
     },
     "metadata": {},
     "output_type": "display_data"
    },
    {
     "data": {
      "application/vnd.jupyter.widget-view+json": {
       "model_id": "7a4c3a3bae2c455ea66b7eb2678456a0",
       "version_major": 2,
       "version_minor": 0
      },
      "text/plain": [
       "training batch:   0%|          | 0/35 [00:00<?, ?it/s]"
      ]
     },
     "metadata": {},
     "output_type": "display_data"
    },
    {
     "data": {
      "application/vnd.jupyter.widget-view+json": {
       "model_id": "1c28dc4e2228489b94303f162ca65ea6",
       "version_major": 2,
       "version_minor": 0
      },
      "text/plain": [
       "eval batch:   0%|          | 0/8 [00:00<?, ?it/s]"
      ]
     },
     "metadata": {},
     "output_type": "display_data"
    },
    {
     "data": {
      "application/vnd.jupyter.widget-view+json": {
       "model_id": "035ea64d71c940e1a1acf1a0e1d4130c",
       "version_major": 2,
       "version_minor": 0
      },
      "text/plain": [
       "training batch:   0%|          | 0/35 [00:00<?, ?it/s]"
      ]
     },
     "metadata": {},
     "output_type": "display_data"
    },
    {
     "data": {
      "application/vnd.jupyter.widget-view+json": {
       "model_id": "cd826fdcd7a44dcfb0eebbc90443fb77",
       "version_major": 2,
       "version_minor": 0
      },
      "text/plain": [
       "eval batch:   0%|          | 0/8 [00:00<?, ?it/s]"
      ]
     },
     "metadata": {},
     "output_type": "display_data"
    },
    {
     "data": {
      "application/vnd.jupyter.widget-view+json": {
       "model_id": "a1045d565efa416aa681c768394550c6",
       "version_major": 2,
       "version_minor": 0
      },
      "text/plain": [
       "training batch:   0%|          | 0/35 [00:00<?, ?it/s]"
      ]
     },
     "metadata": {},
     "output_type": "display_data"
    },
    {
     "data": {
      "application/vnd.jupyter.widget-view+json": {
       "model_id": "8caf7cd89ad24473a623de3669755aa9",
       "version_major": 2,
       "version_minor": 0
      },
      "text/plain": [
       "eval batch:   0%|          | 0/8 [00:00<?, ?it/s]"
      ]
     },
     "metadata": {},
     "output_type": "display_data"
    },
    {
     "data": {
      "application/vnd.jupyter.widget-view+json": {
       "model_id": "dfbe903cfd234d83b10caf569558dead",
       "version_major": 2,
       "version_minor": 0
      },
      "text/plain": [
       "training batch:   0%|          | 0/35 [00:00<?, ?it/s]"
      ]
     },
     "metadata": {},
     "output_type": "display_data"
    },
    {
     "data": {
      "application/vnd.jupyter.widget-view+json": {
       "model_id": "89a4d8e5a9764686a6eccebd4182f7ba",
       "version_major": 2,
       "version_minor": 0
      },
      "text/plain": [
       "eval batch:   0%|          | 0/8 [00:00<?, ?it/s]"
      ]
     },
     "metadata": {},
     "output_type": "display_data"
    },
    {
     "data": {
      "application/vnd.jupyter.widget-view+json": {
       "model_id": "091d526b260740cc96f35d0efa848906",
       "version_major": 2,
       "version_minor": 0
      },
      "text/plain": [
       "training batch:   0%|          | 0/35 [00:00<?, ?it/s]"
      ]
     },
     "metadata": {},
     "output_type": "display_data"
    },
    {
     "data": {
      "application/vnd.jupyter.widget-view+json": {
       "model_id": "d4860ecc02394185bd8299504ab741fb",
       "version_major": 2,
       "version_minor": 0
      },
      "text/plain": [
       "eval batch:   0%|          | 0/8 [00:00<?, ?it/s]"
      ]
     },
     "metadata": {},
     "output_type": "display_data"
    },
    {
     "data": {
      "application/vnd.jupyter.widget-view+json": {
       "model_id": "647fb84d8b3b4224905f5aad94e0b21b",
       "version_major": 2,
       "version_minor": 0
      },
      "text/plain": [
       "training batch:   0%|          | 0/35 [00:00<?, ?it/s]"
      ]
     },
     "metadata": {},
     "output_type": "display_data"
    },
    {
     "data": {
      "application/vnd.jupyter.widget-view+json": {
       "model_id": "342288bdac5946128ffb890956870534",
       "version_major": 2,
       "version_minor": 0
      },
      "text/plain": [
       "eval batch:   0%|          | 0/8 [00:00<?, ?it/s]"
      ]
     },
     "metadata": {},
     "output_type": "display_data"
    },
    {
     "data": {
      "application/vnd.jupyter.widget-view+json": {
       "model_id": "fd392ee7298a42b78e7bf88e8218e8d0",
       "version_major": 2,
       "version_minor": 0
      },
      "text/plain": [
       "training batch:   0%|          | 0/35 [00:00<?, ?it/s]"
      ]
     },
     "metadata": {},
     "output_type": "display_data"
    },
    {
     "data": {
      "application/vnd.jupyter.widget-view+json": {
       "model_id": "5040571a06af4592bc9b74a3ba8ad422",
       "version_major": 2,
       "version_minor": 0
      },
      "text/plain": [
       "eval batch:   0%|          | 0/8 [00:00<?, ?it/s]"
      ]
     },
     "metadata": {},
     "output_type": "display_data"
    },
    {
     "data": {
      "application/vnd.jupyter.widget-view+json": {
       "model_id": "ce91c6cc796745ac88fba0fdf380c59d",
       "version_major": 2,
       "version_minor": 0
      },
      "text/plain": [
       "training batch:   0%|          | 0/35 [00:00<?, ?it/s]"
      ]
     },
     "metadata": {},
     "output_type": "display_data"
    },
    {
     "data": {
      "application/vnd.jupyter.widget-view+json": {
       "model_id": "e04d3ca085f8425bad481ca2c4afb965",
       "version_major": 2,
       "version_minor": 0
      },
      "text/plain": [
       "eval batch:   0%|          | 0/8 [00:00<?, ?it/s]"
      ]
     },
     "metadata": {},
     "output_type": "display_data"
    },
    {
     "data": {
      "application/vnd.jupyter.widget-view+json": {
       "model_id": "eed60be9aba44ab38910c4d47ce6dedc",
       "version_major": 2,
       "version_minor": 0
      },
      "text/plain": [
       "training batch:   0%|          | 0/35 [00:00<?, ?it/s]"
      ]
     },
     "metadata": {},
     "output_type": "display_data"
    },
    {
     "data": {
      "application/vnd.jupyter.widget-view+json": {
       "model_id": "2d18feb202754a96a0b61d39bb4c9201",
       "version_major": 2,
       "version_minor": 0
      },
      "text/plain": [
       "eval batch:   0%|          | 0/8 [00:00<?, ?it/s]"
      ]
     },
     "metadata": {},
     "output_type": "display_data"
    },
    {
     "data": {
      "application/vnd.jupyter.widget-view+json": {
       "model_id": "e7938100cfa245bfa336a32761d4354a",
       "version_major": 2,
       "version_minor": 0
      },
      "text/plain": [
       "training batch:   0%|          | 0/35 [00:00<?, ?it/s]"
      ]
     },
     "metadata": {},
     "output_type": "display_data"
    },
    {
     "data": {
      "application/vnd.jupyter.widget-view+json": {
       "model_id": "4d1eb4d6b82b42379236923a92fd2004",
       "version_major": 2,
       "version_minor": 0
      },
      "text/plain": [
       "eval batch:   0%|          | 0/8 [00:00<?, ?it/s]"
      ]
     },
     "metadata": {},
     "output_type": "display_data"
    },
    {
     "data": {
      "application/vnd.jupyter.widget-view+json": {
       "model_id": "21bf7da4ad63479ba848a64d66bf97b3",
       "version_major": 2,
       "version_minor": 0
      },
      "text/plain": [
       "training batch:   0%|          | 0/35 [00:00<?, ?it/s]"
      ]
     },
     "metadata": {},
     "output_type": "display_data"
    },
    {
     "data": {
      "application/vnd.jupyter.widget-view+json": {
       "model_id": "59ac6fb860a248ee8616b3a097be364b",
       "version_major": 2,
       "version_minor": 0
      },
      "text/plain": [
       "eval batch:   0%|          | 0/8 [00:00<?, ?it/s]"
      ]
     },
     "metadata": {},
     "output_type": "display_data"
    },
    {
     "data": {
      "application/vnd.jupyter.widget-view+json": {
       "model_id": "123b7eb578c94eee8a34e512afbc7f5d",
       "version_major": 2,
       "version_minor": 0
      },
      "text/plain": [
       "training batch:   0%|          | 0/35 [00:00<?, ?it/s]"
      ]
     },
     "metadata": {},
     "output_type": "display_data"
    },
    {
     "data": {
      "application/vnd.jupyter.widget-view+json": {
       "model_id": "e9907fe1905d442081a15a40bbcee244",
       "version_major": 2,
       "version_minor": 0
      },
      "text/plain": [
       "eval batch:   0%|          | 0/8 [00:00<?, ?it/s]"
      ]
     },
     "metadata": {},
     "output_type": "display_data"
    },
    {
     "data": {
      "application/vnd.jupyter.widget-view+json": {
       "model_id": "245c090015694053829c2e8a968bab98",
       "version_major": 2,
       "version_minor": 0
      },
      "text/plain": [
       "training batch:   0%|          | 0/35 [00:00<?, ?it/s]"
      ]
     },
     "metadata": {},
     "output_type": "display_data"
    },
    {
     "data": {
      "application/vnd.jupyter.widget-view+json": {
       "model_id": "0d238792f76f4d2ebf888dcd0227b88a",
       "version_major": 2,
       "version_minor": 0
      },
      "text/plain": [
       "eval batch:   0%|          | 0/8 [00:00<?, ?it/s]"
      ]
     },
     "metadata": {},
     "output_type": "display_data"
    },
    {
     "data": {
      "application/vnd.jupyter.widget-view+json": {
       "model_id": "29efeb9f05a14e86aa22e50678eadbe9",
       "version_major": 2,
       "version_minor": 0
      },
      "text/plain": [
       "training batch:   0%|          | 0/35 [00:00<?, ?it/s]"
      ]
     },
     "metadata": {},
     "output_type": "display_data"
    },
    {
     "data": {
      "application/vnd.jupyter.widget-view+json": {
       "model_id": "2560d592e20543f39b82a703b0828aa9",
       "version_major": 2,
       "version_minor": 0
      },
      "text/plain": [
       "eval batch:   0%|          | 0/8 [00:00<?, ?it/s]"
      ]
     },
     "metadata": {},
     "output_type": "display_data"
    },
    {
     "data": {
      "application/vnd.jupyter.widget-view+json": {
       "model_id": "f710003825564131a754f391ac540427",
       "version_major": 2,
       "version_minor": 0
      },
      "text/plain": [
       "training batch:   0%|          | 0/35 [00:00<?, ?it/s]"
      ]
     },
     "metadata": {},
     "output_type": "display_data"
    },
    {
     "data": {
      "application/vnd.jupyter.widget-view+json": {
       "model_id": "782a67841c7748fda5c0b7e8f7228258",
       "version_major": 2,
       "version_minor": 0
      },
      "text/plain": [
       "eval batch:   0%|          | 0/8 [00:00<?, ?it/s]"
      ]
     },
     "metadata": {},
     "output_type": "display_data"
    },
    {
     "data": {
      "application/vnd.jupyter.widget-view+json": {
       "model_id": "52b4b96ec83c4fd6b762757f68e56407",
       "version_major": 2,
       "version_minor": 0
      },
      "text/plain": [
       "training batch:   0%|          | 0/35 [00:00<?, ?it/s]"
      ]
     },
     "metadata": {},
     "output_type": "display_data"
    },
    {
     "data": {
      "application/vnd.jupyter.widget-view+json": {
       "model_id": "31d28af1a6044f2c896143f2017a0961",
       "version_major": 2,
       "version_minor": 0
      },
      "text/plain": [
       "eval batch:   0%|          | 0/8 [00:00<?, ?it/s]"
      ]
     },
     "metadata": {},
     "output_type": "display_data"
    },
    {
     "data": {
      "application/vnd.jupyter.widget-view+json": {
       "model_id": "60fe1ebf3752486791bc38bd10792829",
       "version_major": 2,
       "version_minor": 0
      },
      "text/plain": [
       "training batch:   0%|          | 0/35 [00:00<?, ?it/s]"
      ]
     },
     "metadata": {},
     "output_type": "display_data"
    },
    {
     "data": {
      "application/vnd.jupyter.widget-view+json": {
       "model_id": "f52f87550b7c444f9b944c39029d6244",
       "version_major": 2,
       "version_minor": 0
      },
      "text/plain": [
       "eval batch:   0%|          | 0/8 [00:00<?, ?it/s]"
      ]
     },
     "metadata": {},
     "output_type": "display_data"
    },
    {
     "data": {
      "application/vnd.jupyter.widget-view+json": {
       "model_id": "e9d7d9bfd53f4e5683d81404ac3aa8bf",
       "version_major": 2,
       "version_minor": 0
      },
      "text/plain": [
       "training batch:   0%|          | 0/35 [00:00<?, ?it/s]"
      ]
     },
     "metadata": {},
     "output_type": "display_data"
    },
    {
     "data": {
      "application/vnd.jupyter.widget-view+json": {
       "model_id": "2fea35b4b2e84a3eb8ba57fdad231df8",
       "version_major": 2,
       "version_minor": 0
      },
      "text/plain": [
       "eval batch:   0%|          | 0/8 [00:00<?, ?it/s]"
      ]
     },
     "metadata": {},
     "output_type": "display_data"
    },
    {
     "data": {
      "application/vnd.jupyter.widget-view+json": {
       "model_id": "ec56a0036ee04f4a9c120e8d511950b9",
       "version_major": 2,
       "version_minor": 0
      },
      "text/plain": [
       "training batch:   0%|          | 0/35 [00:00<?, ?it/s]"
      ]
     },
     "metadata": {},
     "output_type": "display_data"
    },
    {
     "data": {
      "application/vnd.jupyter.widget-view+json": {
       "model_id": "7554eb55a5b545619127c52816c61306",
       "version_major": 2,
       "version_minor": 0
      },
      "text/plain": [
       "eval batch:   0%|          | 0/8 [00:00<?, ?it/s]"
      ]
     },
     "metadata": {},
     "output_type": "display_data"
    },
    {
     "data": {
      "application/vnd.jupyter.widget-view+json": {
       "model_id": "e1e5aa67bd984e58a3a1eaae1a67d4bf",
       "version_major": 2,
       "version_minor": 0
      },
      "text/plain": [
       "training batch:   0%|          | 0/35 [00:00<?, ?it/s]"
      ]
     },
     "metadata": {},
     "output_type": "display_data"
    }
   ],
   "source": [
    "trainer_non_var = Trainer(\n",
    "    model=model_non_var, \n",
    "    train_config={\n",
    "        \"variational\": False, \n",
    "        \"eval_metrics\": [\"cross_entropy_loss\", \"accuracy\"],\n",
    "        \"lr\": 1e-3,\n",
    "        \"optimizer\": \"Adam\",\n",
    "        \"n_epochs\": 500,\n",
    "        \"loss_function\": \"crossentropy\",\n",
    "        \"ignore_index\": tagging_tokenizer.pad_token_id\n",
    "    }\n",
    ")\n",
    "\n",
    "\n",
    "model_non_var = trainer_non_var.train(\n",
    "    train_loader=train_loader,\n",
    "    val_loader=val_loader,\n",
    "    evaluate_every=1,\n",
    "    KL_weight=None\n",
    ")\n",
    "\n",
    "val_metrics_non_var = trainer_non_var._metrics"
   ]
  },
  {
   "cell_type": "code",
   "execution_count": null,
   "metadata": {},
   "outputs": [],
   "source": [
    "torch.save(model_non_var, \"non_variational_roberta_demo.pt\")"
   ]
  },
  {
   "cell_type": "code",
   "execution_count": null,
   "metadata": {},
   "outputs": [
    {
     "data": {
      "application/vnd.jupyter.widget-view+json": {
       "model_id": "3fc3b7134dd24076bc650e65fdcfc4bf",
       "version_major": 2,
       "version_minor": 0
      },
      "text/plain": [
       "training epoch:   0%|          | 0/500 [00:00<?, ?it/s]"
      ]
     },
     "metadata": {},
     "output_type": "display_data"
    },
    {
     "data": {
      "application/vnd.jupyter.widget-view+json": {
       "model_id": "4593d32ea0bd4a8cabfd6728fe7c174f",
       "version_major": 2,
       "version_minor": 0
      },
      "text/plain": [
       "training batch:   0%|          | 0/140 [00:00<?, ?it/s]"
      ]
     },
     "metadata": {},
     "output_type": "display_data"
    },
    {
     "data": {
      "application/vnd.jupyter.widget-view+json": {
       "model_id": "92a70ca641154f9ab7f03a19bb3ab4d2",
       "version_major": 2,
       "version_minor": 0
      },
      "text/plain": [
       "eval batch:   0%|          | 0/32 [00:00<?, ?it/s]"
      ]
     },
     "metadata": {},
     "output_type": "display_data"
    },
    {
     "data": {
      "application/vnd.jupyter.widget-view+json": {
       "model_id": "355b8053d8064c2bbb483bb289daf6d7",
       "version_major": 2,
       "version_minor": 0
      },
      "text/plain": [
       "training batch:   0%|          | 0/140 [00:00<?, ?it/s]"
      ]
     },
     "metadata": {},
     "output_type": "display_data"
    },
    {
     "data": {
      "application/vnd.jupyter.widget-view+json": {
       "model_id": "9175f26e059444bd861f8fc93083b66f",
       "version_major": 2,
       "version_minor": 0
      },
      "text/plain": [
       "eval batch:   0%|          | 0/32 [00:00<?, ?it/s]"
      ]
     },
     "metadata": {},
     "output_type": "display_data"
    },
    {
     "data": {
      "application/vnd.jupyter.widget-view+json": {
       "model_id": "7fb2d2a119544dc58f62c04d272ee1fc",
       "version_major": 2,
       "version_minor": 0
      },
      "text/plain": [
       "training batch:   0%|          | 0/140 [00:00<?, ?it/s]"
      ]
     },
     "metadata": {},
     "output_type": "display_data"
    },
    {
     "data": {
      "application/vnd.jupyter.widget-view+json": {
       "model_id": "580ad830b7584c4eacf8506d69fd40a3",
       "version_major": 2,
       "version_minor": 0
      },
      "text/plain": [
       "eval batch:   0%|          | 0/32 [00:00<?, ?it/s]"
      ]
     },
     "metadata": {},
     "output_type": "display_data"
    },
    {
     "data": {
      "application/vnd.jupyter.widget-view+json": {
       "model_id": "2600fda978054be4a5a469bc957d9da3",
       "version_major": 2,
       "version_minor": 0
      },
      "text/plain": [
       "training batch:   0%|          | 0/140 [00:00<?, ?it/s]"
      ]
     },
     "metadata": {},
     "output_type": "display_data"
    },
    {
     "data": {
      "application/vnd.jupyter.widget-view+json": {
       "model_id": "45a26ec8edc6433fb006f682b3995a6e",
       "version_major": 2,
       "version_minor": 0
      },
      "text/plain": [
       "eval batch:   0%|          | 0/32 [00:00<?, ?it/s]"
      ]
     },
     "metadata": {},
     "output_type": "display_data"
    },
    {
     "data": {
      "application/vnd.jupyter.widget-view+json": {
       "model_id": "7f539946521d44d78278c4d59a7ddf86",
       "version_major": 2,
       "version_minor": 0
      },
      "text/plain": [
       "training batch:   0%|          | 0/140 [00:00<?, ?it/s]"
      ]
     },
     "metadata": {},
     "output_type": "display_data"
    },
    {
     "data": {
      "application/vnd.jupyter.widget-view+json": {
       "model_id": "f09fee975429418aaf28ea293798867a",
       "version_major": 2,
       "version_minor": 0
      },
      "text/plain": [
       "eval batch:   0%|          | 0/32 [00:00<?, ?it/s]"
      ]
     },
     "metadata": {},
     "output_type": "display_data"
    },
    {
     "data": {
      "application/vnd.jupyter.widget-view+json": {
       "model_id": "0e2e8685d3a74b1caa286b3cc85e80b4",
       "version_major": 2,
       "version_minor": 0
      },
      "text/plain": [
       "training batch:   0%|          | 0/140 [00:00<?, ?it/s]"
      ]
     },
     "metadata": {},
     "output_type": "display_data"
    },
    {
     "data": {
      "application/vnd.jupyter.widget-view+json": {
       "model_id": "1affea9bc484491585f9ccaff6ea81f8",
       "version_major": 2,
       "version_minor": 0
      },
      "text/plain": [
       "eval batch:   0%|          | 0/32 [00:00<?, ?it/s]"
      ]
     },
     "metadata": {},
     "output_type": "display_data"
    },
    {
     "data": {
      "application/vnd.jupyter.widget-view+json": {
       "model_id": "d67f74a74dae4467a359c8f9d18e3028",
       "version_major": 2,
       "version_minor": 0
      },
      "text/plain": [
       "training batch:   0%|          | 0/140 [00:00<?, ?it/s]"
      ]
     },
     "metadata": {},
     "output_type": "display_data"
    },
    {
     "data": {
      "application/vnd.jupyter.widget-view+json": {
       "model_id": "710a59bfb02d4fa3b26ae6b65227001d",
       "version_major": 2,
       "version_minor": 0
      },
      "text/plain": [
       "eval batch:   0%|          | 0/32 [00:00<?, ?it/s]"
      ]
     },
     "metadata": {},
     "output_type": "display_data"
    },
    {
     "data": {
      "application/vnd.jupyter.widget-view+json": {
       "model_id": "860e5f4029164828bc45f5af0ae6ac32",
       "version_major": 2,
       "version_minor": 0
      },
      "text/plain": [
       "training batch:   0%|          | 0/140 [00:00<?, ?it/s]"
      ]
     },
     "metadata": {},
     "output_type": "display_data"
    },
    {
     "data": {
      "application/vnd.jupyter.widget-view+json": {
       "model_id": "5ca7ace59e1a45f5b6f6baea4b3b0c1f",
       "version_major": 2,
       "version_minor": 0
      },
      "text/plain": [
       "eval batch:   0%|          | 0/32 [00:00<?, ?it/s]"
      ]
     },
     "metadata": {},
     "output_type": "display_data"
    },
    {
     "data": {
      "application/vnd.jupyter.widget-view+json": {
       "model_id": "e7710bf338744fb59fded18c0fa066de",
       "version_major": 2,
       "version_minor": 0
      },
      "text/plain": [
       "training batch:   0%|          | 0/140 [00:00<?, ?it/s]"
      ]
     },
     "metadata": {},
     "output_type": "display_data"
    },
    {
     "data": {
      "application/vnd.jupyter.widget-view+json": {
       "model_id": "99bf344e8d0a430fa538fb7e61d477e0",
       "version_major": 2,
       "version_minor": 0
      },
      "text/plain": [
       "eval batch:   0%|          | 0/32 [00:00<?, ?it/s]"
      ]
     },
     "metadata": {},
     "output_type": "display_data"
    },
    {
     "data": {
      "application/vnd.jupyter.widget-view+json": {
       "model_id": "39acd7cf97df477e9796dcc7a269b549",
       "version_major": 2,
       "version_minor": 0
      },
      "text/plain": [
       "training batch:   0%|          | 0/140 [00:00<?, ?it/s]"
      ]
     },
     "metadata": {},
     "output_type": "display_data"
    },
    {
     "data": {
      "application/vnd.jupyter.widget-view+json": {
       "model_id": "756174993a234738a9c422937ef502c0",
       "version_major": 2,
       "version_minor": 0
      },
      "text/plain": [
       "eval batch:   0%|          | 0/32 [00:00<?, ?it/s]"
      ]
     },
     "metadata": {},
     "output_type": "display_data"
    },
    {
     "data": {
      "application/vnd.jupyter.widget-view+json": {
       "model_id": "e878b680d8004e869073bf9f72ae26fb",
       "version_major": 2,
       "version_minor": 0
      },
      "text/plain": [
       "training batch:   0%|          | 0/140 [00:00<?, ?it/s]"
      ]
     },
     "metadata": {},
     "output_type": "display_data"
    },
    {
     "data": {
      "application/vnd.jupyter.widget-view+json": {
       "model_id": "5b1907bea190445198101d7ee5f5b238",
       "version_major": 2,
       "version_minor": 0
      },
      "text/plain": [
       "eval batch:   0%|          | 0/32 [00:00<?, ?it/s]"
      ]
     },
     "metadata": {},
     "output_type": "display_data"
    },
    {
     "data": {
      "application/vnd.jupyter.widget-view+json": {
       "model_id": "3a36f6e258bd4cc7bbf4667cb2998894",
       "version_major": 2,
       "version_minor": 0
      },
      "text/plain": [
       "training batch:   0%|          | 0/140 [00:00<?, ?it/s]"
      ]
     },
     "metadata": {},
     "output_type": "display_data"
    },
    {
     "data": {
      "application/vnd.jupyter.widget-view+json": {
       "model_id": "319f009586b946d2b35932dfb00092c3",
       "version_major": 2,
       "version_minor": 0
      },
      "text/plain": [
       "eval batch:   0%|          | 0/32 [00:00<?, ?it/s]"
      ]
     },
     "metadata": {},
     "output_type": "display_data"
    },
    {
     "data": {
      "application/vnd.jupyter.widget-view+json": {
       "model_id": "2ea2db7dcdf04909a95224d2b5dee408",
       "version_major": 2,
       "version_minor": 0
      },
      "text/plain": [
       "training batch:   0%|          | 0/140 [00:00<?, ?it/s]"
      ]
     },
     "metadata": {},
     "output_type": "display_data"
    },
    {
     "data": {
      "application/vnd.jupyter.widget-view+json": {
       "model_id": "1b551f706b884dd19cef78451e4d64b1",
       "version_major": 2,
       "version_minor": 0
      },
      "text/plain": [
       "eval batch:   0%|          | 0/32 [00:00<?, ?it/s]"
      ]
     },
     "metadata": {},
     "output_type": "display_data"
    },
    {
     "data": {
      "application/vnd.jupyter.widget-view+json": {
       "model_id": "5451877fc2c44764939d30a8e693e626",
       "version_major": 2,
       "version_minor": 0
      },
      "text/plain": [
       "training batch:   0%|          | 0/140 [00:00<?, ?it/s]"
      ]
     },
     "metadata": {},
     "output_type": "display_data"
    },
    {
     "data": {
      "application/vnd.jupyter.widget-view+json": {
       "model_id": "db22b28f213a4198801522acdffba758",
       "version_major": 2,
       "version_minor": 0
      },
      "text/plain": [
       "eval batch:   0%|          | 0/32 [00:00<?, ?it/s]"
      ]
     },
     "metadata": {},
     "output_type": "display_data"
    },
    {
     "data": {
      "application/vnd.jupyter.widget-view+json": {
       "model_id": "7fa92ba610944d0f951758866adbc999",
       "version_major": 2,
       "version_minor": 0
      },
      "text/plain": [
       "training batch:   0%|          | 0/140 [00:00<?, ?it/s]"
      ]
     },
     "metadata": {},
     "output_type": "display_data"
    },
    {
     "data": {
      "application/vnd.jupyter.widget-view+json": {
       "model_id": "43803882621246098fb64067250115b3",
       "version_major": 2,
       "version_minor": 0
      },
      "text/plain": [
       "eval batch:   0%|          | 0/32 [00:00<?, ?it/s]"
      ]
     },
     "metadata": {},
     "output_type": "display_data"
    },
    {
     "data": {
      "application/vnd.jupyter.widget-view+json": {
       "model_id": "439986325ece49669966034f85151aba",
       "version_major": 2,
       "version_minor": 0
      },
      "text/plain": [
       "training batch:   0%|          | 0/140 [00:00<?, ?it/s]"
      ]
     },
     "metadata": {},
     "output_type": "display_data"
    },
    {
     "data": {
      "application/vnd.jupyter.widget-view+json": {
       "model_id": "951e8967f3f5468aaf3ce51441810a45",
       "version_major": 2,
       "version_minor": 0
      },
      "text/plain": [
       "eval batch:   0%|          | 0/32 [00:00<?, ?it/s]"
      ]
     },
     "metadata": {},
     "output_type": "display_data"
    },
    {
     "data": {
      "application/vnd.jupyter.widget-view+json": {
       "model_id": "ff8adcec435b4ec987222a359585630d",
       "version_major": 2,
       "version_minor": 0
      },
      "text/plain": [
       "training batch:   0%|          | 0/140 [00:00<?, ?it/s]"
      ]
     },
     "metadata": {},
     "output_type": "display_data"
    },
    {
     "data": {
      "application/vnd.jupyter.widget-view+json": {
       "model_id": "f600dbf6905644409a0d7216d1e2d50d",
       "version_major": 2,
       "version_minor": 0
      },
      "text/plain": [
       "eval batch:   0%|          | 0/32 [00:00<?, ?it/s]"
      ]
     },
     "metadata": {},
     "output_type": "display_data"
    },
    {
     "data": {
      "application/vnd.jupyter.widget-view+json": {
       "model_id": "ceb032436f81491cbeffdf7b3242ba04",
       "version_major": 2,
       "version_minor": 0
      },
      "text/plain": [
       "training batch:   0%|          | 0/140 [00:00<?, ?it/s]"
      ]
     },
     "metadata": {},
     "output_type": "display_data"
    },
    {
     "data": {
      "application/vnd.jupyter.widget-view+json": {
       "model_id": "39daa9203b8542368cc773e1d560adf9",
       "version_major": 2,
       "version_minor": 0
      },
      "text/plain": [
       "eval batch:   0%|          | 0/32 [00:00<?, ?it/s]"
      ]
     },
     "metadata": {},
     "output_type": "display_data"
    },
    {
     "data": {
      "application/vnd.jupyter.widget-view+json": {
       "model_id": "eba776672ce54e30bc64a43bc2deaa64",
       "version_major": 2,
       "version_minor": 0
      },
      "text/plain": [
       "training batch:   0%|          | 0/140 [00:00<?, ?it/s]"
      ]
     },
     "metadata": {},
     "output_type": "display_data"
    },
    {
     "data": {
      "application/vnd.jupyter.widget-view+json": {
       "model_id": "78f2de203cbd4411a4d372e7de834663",
       "version_major": 2,
       "version_minor": 0
      },
      "text/plain": [
       "eval batch:   0%|          | 0/32 [00:00<?, ?it/s]"
      ]
     },
     "metadata": {},
     "output_type": "display_data"
    },
    {
     "data": {
      "application/vnd.jupyter.widget-view+json": {
       "model_id": "40877d44023142739f4c2ef650539343",
       "version_major": 2,
       "version_minor": 0
      },
      "text/plain": [
       "training batch:   0%|          | 0/140 [00:00<?, ?it/s]"
      ]
     },
     "metadata": {},
     "output_type": "display_data"
    },
    {
     "data": {
      "application/vnd.jupyter.widget-view+json": {
       "model_id": "155e3fe45c0349dfbd0996781da5e65a",
       "version_major": 2,
       "version_minor": 0
      },
      "text/plain": [
       "eval batch:   0%|          | 0/32 [00:00<?, ?it/s]"
      ]
     },
     "metadata": {},
     "output_type": "display_data"
    },
    {
     "data": {
      "application/vnd.jupyter.widget-view+json": {
       "model_id": "9c1e096788f4431a9c1efeb4f4747a6b",
       "version_major": 2,
       "version_minor": 0
      },
      "text/plain": [
       "training batch:   0%|          | 0/140 [00:00<?, ?it/s]"
      ]
     },
     "metadata": {},
     "output_type": "display_data"
    },
    {
     "data": {
      "application/vnd.jupyter.widget-view+json": {
       "model_id": "ccc2bbb941eb47f78a9174f4d09f4448",
       "version_major": 2,
       "version_minor": 0
      },
      "text/plain": [
       "eval batch:   0%|          | 0/32 [00:00<?, ?it/s]"
      ]
     },
     "metadata": {},
     "output_type": "display_data"
    },
    {
     "data": {
      "application/vnd.jupyter.widget-view+json": {
       "model_id": "db55a9afeb6e4bf793f24fb1c6cbac4e",
       "version_major": 2,
       "version_minor": 0
      },
      "text/plain": [
       "training batch:   0%|          | 0/140 [00:00<?, ?it/s]"
      ]
     },
     "metadata": {},
     "output_type": "display_data"
    },
    {
     "data": {
      "application/vnd.jupyter.widget-view+json": {
       "model_id": "360c5ed8fb514072ac0722fba527159d",
       "version_major": 2,
       "version_minor": 0
      },
      "text/plain": [
       "eval batch:   0%|          | 0/32 [00:00<?, ?it/s]"
      ]
     },
     "metadata": {},
     "output_type": "display_data"
    },
    {
     "data": {
      "application/vnd.jupyter.widget-view+json": {
       "model_id": "17c1c25746094f8ea7cee1b2d0d151dd",
       "version_major": 2,
       "version_minor": 0
      },
      "text/plain": [
       "training batch:   0%|          | 0/140 [00:00<?, ?it/s]"
      ]
     },
     "metadata": {},
     "output_type": "display_data"
    },
    {
     "data": {
      "application/vnd.jupyter.widget-view+json": {
       "model_id": "0b9dbc662c2d409da3baa4ba91eb3a60",
       "version_major": 2,
       "version_minor": 0
      },
      "text/plain": [
       "eval batch:   0%|          | 0/32 [00:00<?, ?it/s]"
      ]
     },
     "metadata": {},
     "output_type": "display_data"
    },
    {
     "data": {
      "application/vnd.jupyter.widget-view+json": {
       "model_id": "da9e7ca9e64b44658aa5a8946146d81c",
       "version_major": 2,
       "version_minor": 0
      },
      "text/plain": [
       "training batch:   0%|          | 0/140 [00:00<?, ?it/s]"
      ]
     },
     "metadata": {},
     "output_type": "display_data"
    },
    {
     "data": {
      "application/vnd.jupyter.widget-view+json": {
       "model_id": "f34d84bb27654781adf4fcac2a2f350b",
       "version_major": 2,
       "version_minor": 0
      },
      "text/plain": [
       "eval batch:   0%|          | 0/32 [00:00<?, ?it/s]"
      ]
     },
     "metadata": {},
     "output_type": "display_data"
    },
    {
     "data": {
      "application/vnd.jupyter.widget-view+json": {
       "model_id": "530dc4b31f924c359414ea95aa995e26",
       "version_major": 2,
       "version_minor": 0
      },
      "text/plain": [
       "training batch:   0%|          | 0/140 [00:00<?, ?it/s]"
      ]
     },
     "metadata": {},
     "output_type": "display_data"
    },
    {
     "data": {
      "application/vnd.jupyter.widget-view+json": {
       "model_id": "b4e6a5db47fd4d77af08ab65ab90e88d",
       "version_major": 2,
       "version_minor": 0
      },
      "text/plain": [
       "eval batch:   0%|          | 0/32 [00:00<?, ?it/s]"
      ]
     },
     "metadata": {},
     "output_type": "display_data"
    },
    {
     "data": {
      "application/vnd.jupyter.widget-view+json": {
       "model_id": "1c064c6ed87e493b949a9b1a5aa2d07b",
       "version_major": 2,
       "version_minor": 0
      },
      "text/plain": [
       "training batch:   0%|          | 0/140 [00:00<?, ?it/s]"
      ]
     },
     "metadata": {},
     "output_type": "display_data"
    },
    {
     "data": {
      "application/vnd.jupyter.widget-view+json": {
       "model_id": "51de1793f51143b08ccffd2820ccdf09",
       "version_major": 2,
       "version_minor": 0
      },
      "text/plain": [
       "eval batch:   0%|          | 0/32 [00:00<?, ?it/s]"
      ]
     },
     "metadata": {},
     "output_type": "display_data"
    },
    {
     "data": {
      "application/vnd.jupyter.widget-view+json": {
       "model_id": "ecda26b310bb40c49f93e976ded198c6",
       "version_major": 2,
       "version_minor": 0
      },
      "text/plain": [
       "training batch:   0%|          | 0/140 [00:00<?, ?it/s]"
      ]
     },
     "metadata": {},
     "output_type": "display_data"
    },
    {
     "data": {
      "application/vnd.jupyter.widget-view+json": {
       "model_id": "160cf2b972214602a3ad780b8a51df44",
       "version_major": 2,
       "version_minor": 0
      },
      "text/plain": [
       "eval batch:   0%|          | 0/32 [00:00<?, ?it/s]"
      ]
     },
     "metadata": {},
     "output_type": "display_data"
    },
    {
     "data": {
      "application/vnd.jupyter.widget-view+json": {
       "model_id": "299c8f0b22a34eb4b7ad210e0119f2f1",
       "version_major": 2,
       "version_minor": 0
      },
      "text/plain": [
       "training batch:   0%|          | 0/140 [00:00<?, ?it/s]"
      ]
     },
     "metadata": {},
     "output_type": "display_data"
    },
    {
     "data": {
      "application/vnd.jupyter.widget-view+json": {
       "model_id": "348cc618304a4fc1b0650e907920dbeb",
       "version_major": 2,
       "version_minor": 0
      },
      "text/plain": [
       "eval batch:   0%|          | 0/32 [00:00<?, ?it/s]"
      ]
     },
     "metadata": {},
     "output_type": "display_data"
    },
    {
     "data": {
      "application/vnd.jupyter.widget-view+json": {
       "model_id": "ad2f5ccba1fa4f1da8f5ae1b22d5d754",
       "version_major": 2,
       "version_minor": 0
      },
      "text/plain": [
       "training batch:   0%|          | 0/140 [00:00<?, ?it/s]"
      ]
     },
     "metadata": {},
     "output_type": "display_data"
    },
    {
     "data": {
      "application/vnd.jupyter.widget-view+json": {
       "model_id": "17c03855f5a544e89ed09de45b552c7a",
       "version_major": 2,
       "version_minor": 0
      },
      "text/plain": [
       "eval batch:   0%|          | 0/32 [00:00<?, ?it/s]"
      ]
     },
     "metadata": {},
     "output_type": "display_data"
    },
    {
     "data": {
      "application/vnd.jupyter.widget-view+json": {
       "model_id": "8627940d211d4c3cb47ecb71ca974ca9",
       "version_major": 2,
       "version_minor": 0
      },
      "text/plain": [
       "training batch:   0%|          | 0/140 [00:00<?, ?it/s]"
      ]
     },
     "metadata": {},
     "output_type": "display_data"
    },
    {
     "data": {
      "application/vnd.jupyter.widget-view+json": {
       "model_id": "34e7fa85aeec4344942c6f7bc18e2f19",
       "version_major": 2,
       "version_minor": 0
      },
      "text/plain": [
       "eval batch:   0%|          | 0/32 [00:00<?, ?it/s]"
      ]
     },
     "metadata": {},
     "output_type": "display_data"
    },
    {
     "data": {
      "application/vnd.jupyter.widget-view+json": {
       "model_id": "c409792ea66f4540b09787a03593fbea",
       "version_major": 2,
       "version_minor": 0
      },
      "text/plain": [
       "training batch:   0%|          | 0/140 [00:00<?, ?it/s]"
      ]
     },
     "metadata": {},
     "output_type": "display_data"
    },
    {
     "data": {
      "application/vnd.jupyter.widget-view+json": {
       "model_id": "49604eb1b15048a2a0a93a6fb54fab9d",
       "version_major": 2,
       "version_minor": 0
      },
      "text/plain": [
       "eval batch:   0%|          | 0/32 [00:00<?, ?it/s]"
      ]
     },
     "metadata": {},
     "output_type": "display_data"
    },
    {
     "data": {
      "application/vnd.jupyter.widget-view+json": {
       "model_id": "3ddabf0f9df5477bb4d06ce36c63bb19",
       "version_major": 2,
       "version_minor": 0
      },
      "text/plain": [
       "training batch:   0%|          | 0/140 [00:00<?, ?it/s]"
      ]
     },
     "metadata": {},
     "output_type": "display_data"
    },
    {
     "data": {
      "application/vnd.jupyter.widget-view+json": {
       "model_id": "39ccd6bc277040249fa6992702b3918e",
       "version_major": 2,
       "version_minor": 0
      },
      "text/plain": [
       "eval batch:   0%|          | 0/32 [00:00<?, ?it/s]"
      ]
     },
     "metadata": {},
     "output_type": "display_data"
    },
    {
     "data": {
      "application/vnd.jupyter.widget-view+json": {
       "model_id": "c617de08cd2a4c8e81091360d3a1da64",
       "version_major": 2,
       "version_minor": 0
      },
      "text/plain": [
       "training batch:   0%|          | 0/140 [00:00<?, ?it/s]"
      ]
     },
     "metadata": {},
     "output_type": "display_data"
    },
    {
     "data": {
      "application/vnd.jupyter.widget-view+json": {
       "model_id": "a6a0039827c64397854dffa65a70e0fa",
       "version_major": 2,
       "version_minor": 0
      },
      "text/plain": [
       "eval batch:   0%|          | 0/32 [00:00<?, ?it/s]"
      ]
     },
     "metadata": {},
     "output_type": "display_data"
    },
    {
     "data": {
      "application/vnd.jupyter.widget-view+json": {
       "model_id": "7017d18b180d4e08aba1cd3ee21f9531",
       "version_major": 2,
       "version_minor": 0
      },
      "text/plain": [
       "training batch:   0%|          | 0/140 [00:00<?, ?it/s]"
      ]
     },
     "metadata": {},
     "output_type": "display_data"
    },
    {
     "data": {
      "application/vnd.jupyter.widget-view+json": {
       "model_id": "76536e2a350c48ac822f3ae63baca1cf",
       "version_major": 2,
       "version_minor": 0
      },
      "text/plain": [
       "eval batch:   0%|          | 0/32 [00:00<?, ?it/s]"
      ]
     },
     "metadata": {},
     "output_type": "display_data"
    },
    {
     "data": {
      "application/vnd.jupyter.widget-view+json": {
       "model_id": "698b9da09a854d09b41e934364467470",
       "version_major": 2,
       "version_minor": 0
      },
      "text/plain": [
       "training batch:   0%|          | 0/140 [00:00<?, ?it/s]"
      ]
     },
     "metadata": {},
     "output_type": "display_data"
    },
    {
     "data": {
      "application/vnd.jupyter.widget-view+json": {
       "model_id": "57144206fc1949449ea7e5200f5aefaf",
       "version_major": 2,
       "version_minor": 0
      },
      "text/plain": [
       "eval batch:   0%|          | 0/32 [00:00<?, ?it/s]"
      ]
     },
     "metadata": {},
     "output_type": "display_data"
    },
    {
     "data": {
      "application/vnd.jupyter.widget-view+json": {
       "model_id": "d25a72f9a3a44ea3bc48e4557eb4e32b",
       "version_major": 2,
       "version_minor": 0
      },
      "text/plain": [
       "training batch:   0%|          | 0/140 [00:00<?, ?it/s]"
      ]
     },
     "metadata": {},
     "output_type": "display_data"
    },
    {
     "data": {
      "application/vnd.jupyter.widget-view+json": {
       "model_id": "af089371f9374e0281c44a79390b5d6e",
       "version_major": 2,
       "version_minor": 0
      },
      "text/plain": [
       "eval batch:   0%|          | 0/32 [00:00<?, ?it/s]"
      ]
     },
     "metadata": {},
     "output_type": "display_data"
    },
    {
     "data": {
      "application/vnd.jupyter.widget-view+json": {
       "model_id": "2bb4888f518c4139a74e9636b79c2c9e",
       "version_major": 2,
       "version_minor": 0
      },
      "text/plain": [
       "training batch:   0%|          | 0/140 [00:00<?, ?it/s]"
      ]
     },
     "metadata": {},
     "output_type": "display_data"
    },
    {
     "data": {
      "application/vnd.jupyter.widget-view+json": {
       "model_id": "a4eba21ff8f24a33970c3a77f6a986ee",
       "version_major": 2,
       "version_minor": 0
      },
      "text/plain": [
       "eval batch:   0%|          | 0/32 [00:00<?, ?it/s]"
      ]
     },
     "metadata": {},
     "output_type": "display_data"
    },
    {
     "data": {
      "application/vnd.jupyter.widget-view+json": {
       "model_id": "b1455650b72d4dfebbaee15be11ef86d",
       "version_major": 2,
       "version_minor": 0
      },
      "text/plain": [
       "training batch:   0%|          | 0/140 [00:00<?, ?it/s]"
      ]
     },
     "metadata": {},
     "output_type": "display_data"
    },
    {
     "data": {
      "application/vnd.jupyter.widget-view+json": {
       "model_id": "421f0ae412904f82894cca4ec1fa7701",
       "version_major": 2,
       "version_minor": 0
      },
      "text/plain": [
       "eval batch:   0%|          | 0/32 [00:00<?, ?it/s]"
      ]
     },
     "metadata": {},
     "output_type": "display_data"
    },
    {
     "data": {
      "application/vnd.jupyter.widget-view+json": {
       "model_id": "aaabb50b6d784c8aa25347d34dcba716",
       "version_major": 2,
       "version_minor": 0
      },
      "text/plain": [
       "training batch:   0%|          | 0/140 [00:00<?, ?it/s]"
      ]
     },
     "metadata": {},
     "output_type": "display_data"
    },
    {
     "data": {
      "application/vnd.jupyter.widget-view+json": {
       "model_id": "13d0a1d8bedb4958821db7a134f86b5d",
       "version_major": 2,
       "version_minor": 0
      },
      "text/plain": [
       "eval batch:   0%|          | 0/32 [00:00<?, ?it/s]"
      ]
     },
     "metadata": {},
     "output_type": "display_data"
    },
    {
     "data": {
      "application/vnd.jupyter.widget-view+json": {
       "model_id": "9019fb92ee134d228152891694e161b7",
       "version_major": 2,
       "version_minor": 0
      },
      "text/plain": [
       "training batch:   0%|          | 0/140 [00:00<?, ?it/s]"
      ]
     },
     "metadata": {},
     "output_type": "display_data"
    },
    {
     "data": {
      "application/vnd.jupyter.widget-view+json": {
       "model_id": "5b4a2dc433004ca7aca1e301c903bea2",
       "version_major": 2,
       "version_minor": 0
      },
      "text/plain": [
       "eval batch:   0%|          | 0/32 [00:00<?, ?it/s]"
      ]
     },
     "metadata": {},
     "output_type": "display_data"
    },
    {
     "data": {
      "application/vnd.jupyter.widget-view+json": {
       "model_id": "a09bbdd7a0cf47eeade1269425e53dff",
       "version_major": 2,
       "version_minor": 0
      },
      "text/plain": [
       "training batch:   0%|          | 0/140 [00:00<?, ?it/s]"
      ]
     },
     "metadata": {},
     "output_type": "display_data"
    },
    {
     "data": {
      "application/vnd.jupyter.widget-view+json": {
       "model_id": "708e0608186b40e8a12e9748dc7f3810",
       "version_major": 2,
       "version_minor": 0
      },
      "text/plain": [
       "eval batch:   0%|          | 0/32 [00:00<?, ?it/s]"
      ]
     },
     "metadata": {},
     "output_type": "display_data"
    },
    {
     "data": {
      "application/vnd.jupyter.widget-view+json": {
       "model_id": "a02350c341d04d13a97a47c5f12438a1",
       "version_major": 2,
       "version_minor": 0
      },
      "text/plain": [
       "training batch:   0%|          | 0/140 [00:00<?, ?it/s]"
      ]
     },
     "metadata": {},
     "output_type": "display_data"
    },
    {
     "data": {
      "application/vnd.jupyter.widget-view+json": {
       "model_id": "5128169a310b47709f64ad8d3873a231",
       "version_major": 2,
       "version_minor": 0
      },
      "text/plain": [
       "eval batch:   0%|          | 0/32 [00:00<?, ?it/s]"
      ]
     },
     "metadata": {},
     "output_type": "display_data"
    },
    {
     "data": {
      "application/vnd.jupyter.widget-view+json": {
       "model_id": "56907820e6d84fba88ff658328f3bac6",
       "version_major": 2,
       "version_minor": 0
      },
      "text/plain": [
       "training batch:   0%|          | 0/140 [00:00<?, ?it/s]"
      ]
     },
     "metadata": {},
     "output_type": "display_data"
    },
    {
     "data": {
      "application/vnd.jupyter.widget-view+json": {
       "model_id": "ca3aa0520c13444195eec346079fb280",
       "version_major": 2,
       "version_minor": 0
      },
      "text/plain": [
       "eval batch:   0%|          | 0/32 [00:00<?, ?it/s]"
      ]
     },
     "metadata": {},
     "output_type": "display_data"
    },
    {
     "data": {
      "application/vnd.jupyter.widget-view+json": {
       "model_id": "b1d331a75aa34be98f8ea8dfd9956648",
       "version_major": 2,
       "version_minor": 0
      },
      "text/plain": [
       "training batch:   0%|          | 0/140 [00:00<?, ?it/s]"
      ]
     },
     "metadata": {},
     "output_type": "display_data"
    },
    {
     "data": {
      "application/vnd.jupyter.widget-view+json": {
       "model_id": "389851dc972547c3acda0e8f5c3ba619",
       "version_major": 2,
       "version_minor": 0
      },
      "text/plain": [
       "eval batch:   0%|          | 0/32 [00:00<?, ?it/s]"
      ]
     },
     "metadata": {},
     "output_type": "display_data"
    },
    {
     "data": {
      "application/vnd.jupyter.widget-view+json": {
       "model_id": "a90e8dc0c4e24cc980d4c3594b91ed18",
       "version_major": 2,
       "version_minor": 0
      },
      "text/plain": [
       "training batch:   0%|          | 0/140 [00:00<?, ?it/s]"
      ]
     },
     "metadata": {},
     "output_type": "display_data"
    },
    {
     "data": {
      "application/vnd.jupyter.widget-view+json": {
       "model_id": "24372d154bf24db68b5daac7d65e4bf9",
       "version_major": 2,
       "version_minor": 0
      },
      "text/plain": [
       "eval batch:   0%|          | 0/32 [00:00<?, ?it/s]"
      ]
     },
     "metadata": {},
     "output_type": "display_data"
    },
    {
     "data": {
      "application/vnd.jupyter.widget-view+json": {
       "model_id": "13ff676b10074e9d8f78c1fd5274ce8c",
       "version_major": 2,
       "version_minor": 0
      },
      "text/plain": [
       "training batch:   0%|          | 0/140 [00:00<?, ?it/s]"
      ]
     },
     "metadata": {},
     "output_type": "display_data"
    },
    {
     "data": {
      "application/vnd.jupyter.widget-view+json": {
       "model_id": "0ef65688e5434457b7f19407400dac51",
       "version_major": 2,
       "version_minor": 0
      },
      "text/plain": [
       "eval batch:   0%|          | 0/32 [00:00<?, ?it/s]"
      ]
     },
     "metadata": {},
     "output_type": "display_data"
    },
    {
     "data": {
      "application/vnd.jupyter.widget-view+json": {
       "model_id": "c2b7b34ade02497fa3aa287371884bda",
       "version_major": 2,
       "version_minor": 0
      },
      "text/plain": [
       "training batch:   0%|          | 0/140 [00:00<?, ?it/s]"
      ]
     },
     "metadata": {},
     "output_type": "display_data"
    },
    {
     "data": {
      "application/vnd.jupyter.widget-view+json": {
       "model_id": "c3ffada2a3364019b73c01d0012c2914",
       "version_major": 2,
       "version_minor": 0
      },
      "text/plain": [
       "eval batch:   0%|          | 0/32 [00:00<?, ?it/s]"
      ]
     },
     "metadata": {},
     "output_type": "display_data"
    },
    {
     "data": {
      "application/vnd.jupyter.widget-view+json": {
       "model_id": "efb3e24dd00a433d8d22310100d95d55",
       "version_major": 2,
       "version_minor": 0
      },
      "text/plain": [
       "training batch:   0%|          | 0/140 [00:00<?, ?it/s]"
      ]
     },
     "metadata": {},
     "output_type": "display_data"
    },
    {
     "data": {
      "application/vnd.jupyter.widget-view+json": {
       "model_id": "e1a1dd45900a486bb9cdee5b72192f1a",
       "version_major": 2,
       "version_minor": 0
      },
      "text/plain": [
       "eval batch:   0%|          | 0/32 [00:00<?, ?it/s]"
      ]
     },
     "metadata": {},
     "output_type": "display_data"
    },
    {
     "data": {
      "application/vnd.jupyter.widget-view+json": {
       "model_id": "be97e173eac44c6692e732c515514575",
       "version_major": 2,
       "version_minor": 0
      },
      "text/plain": [
       "training batch:   0%|          | 0/140 [00:00<?, ?it/s]"
      ]
     },
     "metadata": {},
     "output_type": "display_data"
    },
    {
     "data": {
      "application/vnd.jupyter.widget-view+json": {
       "model_id": "614810640e354d748aec765ec24dc6be",
       "version_major": 2,
       "version_minor": 0
      },
      "text/plain": [
       "eval batch:   0%|          | 0/32 [00:00<?, ?it/s]"
      ]
     },
     "metadata": {},
     "output_type": "display_data"
    },
    {
     "data": {
      "application/vnd.jupyter.widget-view+json": {
       "model_id": "0574934d35b341d4ba48464e1828be23",
       "version_major": 2,
       "version_minor": 0
      },
      "text/plain": [
       "training batch:   0%|          | 0/140 [00:00<?, ?it/s]"
      ]
     },
     "metadata": {},
     "output_type": "display_data"
    },
    {
     "data": {
      "application/vnd.jupyter.widget-view+json": {
       "model_id": "b7f26bab723747cc9620503d860656ac",
       "version_major": 2,
       "version_minor": 0
      },
      "text/plain": [
       "eval batch:   0%|          | 0/32 [00:00<?, ?it/s]"
      ]
     },
     "metadata": {},
     "output_type": "display_data"
    },
    {
     "data": {
      "application/vnd.jupyter.widget-view+json": {
       "model_id": "981204635a1d4a0cbc335bb9fddd5c6a",
       "version_major": 2,
       "version_minor": 0
      },
      "text/plain": [
       "training batch:   0%|          | 0/140 [00:00<?, ?it/s]"
      ]
     },
     "metadata": {},
     "output_type": "display_data"
    },
    {
     "data": {
      "application/vnd.jupyter.widget-view+json": {
       "model_id": "0e6ceb9062b643cfaf42576049f22da4",
       "version_major": 2,
       "version_minor": 0
      },
      "text/plain": [
       "eval batch:   0%|          | 0/32 [00:00<?, ?it/s]"
      ]
     },
     "metadata": {},
     "output_type": "display_data"
    },
    {
     "data": {
      "application/vnd.jupyter.widget-view+json": {
       "model_id": "183aa2f6e3a5456492b3434cd8539ae9",
       "version_major": 2,
       "version_minor": 0
      },
      "text/plain": [
       "training batch:   0%|          | 0/140 [00:00<?, ?it/s]"
      ]
     },
     "metadata": {},
     "output_type": "display_data"
    },
    {
     "data": {
      "application/vnd.jupyter.widget-view+json": {
       "model_id": "bd5be51d762144fe9af656be8cd526d6",
       "version_major": 2,
       "version_minor": 0
      },
      "text/plain": [
       "eval batch:   0%|          | 0/32 [00:00<?, ?it/s]"
      ]
     },
     "metadata": {},
     "output_type": "display_data"
    },
    {
     "data": {
      "application/vnd.jupyter.widget-view+json": {
       "model_id": "2bf16d2c4e3442b0859d3e8de971c3ce",
       "version_major": 2,
       "version_minor": 0
      },
      "text/plain": [
       "training batch:   0%|          | 0/140 [00:00<?, ?it/s]"
      ]
     },
     "metadata": {},
     "output_type": "display_data"
    },
    {
     "data": {
      "application/vnd.jupyter.widget-view+json": {
       "model_id": "c5e049db0d9f41bf98e0b3ed5b23a5dd",
       "version_major": 2,
       "version_minor": 0
      },
      "text/plain": [
       "eval batch:   0%|          | 0/32 [00:00<?, ?it/s]"
      ]
     },
     "metadata": {},
     "output_type": "display_data"
    },
    {
     "data": {
      "application/vnd.jupyter.widget-view+json": {
       "model_id": "a07c1fddaf35499cae767f139469b1f2",
       "version_major": 2,
       "version_minor": 0
      },
      "text/plain": [
       "training batch:   0%|          | 0/140 [00:00<?, ?it/s]"
      ]
     },
     "metadata": {},
     "output_type": "display_data"
    },
    {
     "data": {
      "application/vnd.jupyter.widget-view+json": {
       "model_id": "67d47dab62664b26a4fc965591e82ceb",
       "version_major": 2,
       "version_minor": 0
      },
      "text/plain": [
       "eval batch:   0%|          | 0/32 [00:00<?, ?it/s]"
      ]
     },
     "metadata": {},
     "output_type": "display_data"
    },
    {
     "data": {
      "application/vnd.jupyter.widget-view+json": {
       "model_id": "6054d1253518447292784eaf316251a4",
       "version_major": 2,
       "version_minor": 0
      },
      "text/plain": [
       "training batch:   0%|          | 0/140 [00:00<?, ?it/s]"
      ]
     },
     "metadata": {},
     "output_type": "display_data"
    },
    {
     "data": {
      "application/vnd.jupyter.widget-view+json": {
       "model_id": "6971f8e9226b496585bde4ad5de15990",
       "version_major": 2,
       "version_minor": 0
      },
      "text/plain": [
       "eval batch:   0%|          | 0/32 [00:00<?, ?it/s]"
      ]
     },
     "metadata": {},
     "output_type": "display_data"
    },
    {
     "data": {
      "application/vnd.jupyter.widget-view+json": {
       "model_id": "6edac6323d7f4b0992a50c919b5889e0",
       "version_major": 2,
       "version_minor": 0
      },
      "text/plain": [
       "training batch:   0%|          | 0/140 [00:00<?, ?it/s]"
      ]
     },
     "metadata": {},
     "output_type": "display_data"
    },
    {
     "data": {
      "application/vnd.jupyter.widget-view+json": {
       "model_id": "27fb2c99fdab4d89bb5a84a9698d1b4c",
       "version_major": 2,
       "version_minor": 0
      },
      "text/plain": [
       "eval batch:   0%|          | 0/32 [00:00<?, ?it/s]"
      ]
     },
     "metadata": {},
     "output_type": "display_data"
    },
    {
     "data": {
      "application/vnd.jupyter.widget-view+json": {
       "model_id": "75cf737180e143fbbd47828258008ec2",
       "version_major": 2,
       "version_minor": 0
      },
      "text/plain": [
       "training batch:   0%|          | 0/140 [00:00<?, ?it/s]"
      ]
     },
     "metadata": {},
     "output_type": "display_data"
    },
    {
     "data": {
      "application/vnd.jupyter.widget-view+json": {
       "model_id": "a3946a9123694f41ab1182633155074f",
       "version_major": 2,
       "version_minor": 0
      },
      "text/plain": [
       "eval batch:   0%|          | 0/32 [00:00<?, ?it/s]"
      ]
     },
     "metadata": {},
     "output_type": "display_data"
    },
    {
     "data": {
      "application/vnd.jupyter.widget-view+json": {
       "model_id": "53eb722d48e546938fad855e09f14a04",
       "version_major": 2,
       "version_minor": 0
      },
      "text/plain": [
       "training batch:   0%|          | 0/140 [00:00<?, ?it/s]"
      ]
     },
     "metadata": {},
     "output_type": "display_data"
    },
    {
     "data": {
      "application/vnd.jupyter.widget-view+json": {
       "model_id": "d2a3aff886c84663918b062ee04c2ee3",
       "version_major": 2,
       "version_minor": 0
      },
      "text/plain": [
       "eval batch:   0%|          | 0/32 [00:00<?, ?it/s]"
      ]
     },
     "metadata": {},
     "output_type": "display_data"
    },
    {
     "data": {
      "application/vnd.jupyter.widget-view+json": {
       "model_id": "dfb838fab324468ca7493e60445a7a3e",
       "version_major": 2,
       "version_minor": 0
      },
      "text/plain": [
       "training batch:   0%|          | 0/140 [00:00<?, ?it/s]"
      ]
     },
     "metadata": {},
     "output_type": "display_data"
    },
    {
     "data": {
      "application/vnd.jupyter.widget-view+json": {
       "model_id": "94e005cec23b4b638c0ccf2f0a8999b1",
       "version_major": 2,
       "version_minor": 0
      },
      "text/plain": [
       "eval batch:   0%|          | 0/32 [00:00<?, ?it/s]"
      ]
     },
     "metadata": {},
     "output_type": "display_data"
    },
    {
     "data": {
      "application/vnd.jupyter.widget-view+json": {
       "model_id": "45085905455d47a1a1017cd33fa05014",
       "version_major": 2,
       "version_minor": 0
      },
      "text/plain": [
       "training batch:   0%|          | 0/140 [00:00<?, ?it/s]"
      ]
     },
     "metadata": {},
     "output_type": "display_data"
    },
    {
     "data": {
      "application/vnd.jupyter.widget-view+json": {
       "model_id": "bed5357a92ff4264b6e4ea1a9fc46ec9",
       "version_major": 2,
       "version_minor": 0
      },
      "text/plain": [
       "eval batch:   0%|          | 0/32 [00:00<?, ?it/s]"
      ]
     },
     "metadata": {},
     "output_type": "display_data"
    },
    {
     "data": {
      "application/vnd.jupyter.widget-view+json": {
       "model_id": "1f531fba141a49029dc8c4ff88cd64b4",
       "version_major": 2,
       "version_minor": 0
      },
      "text/plain": [
       "training batch:   0%|          | 0/140 [00:00<?, ?it/s]"
      ]
     },
     "metadata": {},
     "output_type": "display_data"
    },
    {
     "data": {
      "application/vnd.jupyter.widget-view+json": {
       "model_id": "8fdce5e4980743aeb086ddcb8f46346c",
       "version_major": 2,
       "version_minor": 0
      },
      "text/plain": [
       "eval batch:   0%|          | 0/32 [00:00<?, ?it/s]"
      ]
     },
     "metadata": {},
     "output_type": "display_data"
    },
    {
     "data": {
      "application/vnd.jupyter.widget-view+json": {
       "model_id": "51035b60f0c048439597a7cc5193ba9e",
       "version_major": 2,
       "version_minor": 0
      },
      "text/plain": [
       "training batch:   0%|          | 0/140 [00:00<?, ?it/s]"
      ]
     },
     "metadata": {},
     "output_type": "display_data"
    },
    {
     "data": {
      "application/vnd.jupyter.widget-view+json": {
       "model_id": "5cd10b51f03e4abfb9df6eacbf7ba0b8",
       "version_major": 2,
       "version_minor": 0
      },
      "text/plain": [
       "eval batch:   0%|          | 0/32 [00:00<?, ?it/s]"
      ]
     },
     "metadata": {},
     "output_type": "display_data"
    },
    {
     "data": {
      "application/vnd.jupyter.widget-view+json": {
       "model_id": "74ec59f21d8942898b9fb8d8a22a938f",
       "version_major": 2,
       "version_minor": 0
      },
      "text/plain": [
       "training batch:   0%|          | 0/140 [00:00<?, ?it/s]"
      ]
     },
     "metadata": {},
     "output_type": "display_data"
    },
    {
     "data": {
      "application/vnd.jupyter.widget-view+json": {
       "model_id": "8402c15914bc4fceb38c9a3dc8afe280",
       "version_major": 2,
       "version_minor": 0
      },
      "text/plain": [
       "eval batch:   0%|          | 0/32 [00:00<?, ?it/s]"
      ]
     },
     "metadata": {},
     "output_type": "display_data"
    },
    {
     "data": {
      "application/vnd.jupyter.widget-view+json": {
       "model_id": "9360d480b4d94ef9b7803db44b4c94ff",
       "version_major": 2,
       "version_minor": 0
      },
      "text/plain": [
       "training batch:   0%|          | 0/140 [00:00<?, ?it/s]"
      ]
     },
     "metadata": {},
     "output_type": "display_data"
    },
    {
     "data": {
      "application/vnd.jupyter.widget-view+json": {
       "model_id": "d3a471998a8941e78396078b0af8cbbe",
       "version_major": 2,
       "version_minor": 0
      },
      "text/plain": [
       "eval batch:   0%|          | 0/32 [00:00<?, ?it/s]"
      ]
     },
     "metadata": {},
     "output_type": "display_data"
    },
    {
     "data": {
      "application/vnd.jupyter.widget-view+json": {
       "model_id": "59bdff96ded0404ca466c92feb330a71",
       "version_major": 2,
       "version_minor": 0
      },
      "text/plain": [
       "training batch:   0%|          | 0/140 [00:00<?, ?it/s]"
      ]
     },
     "metadata": {},
     "output_type": "display_data"
    },
    {
     "data": {
      "application/vnd.jupyter.widget-view+json": {
       "model_id": "5f2eb3dcbbe9471dae64e8750644f4e5",
       "version_major": 2,
       "version_minor": 0
      },
      "text/plain": [
       "eval batch:   0%|          | 0/32 [00:00<?, ?it/s]"
      ]
     },
     "metadata": {},
     "output_type": "display_data"
    },
    {
     "data": {
      "application/vnd.jupyter.widget-view+json": {
       "model_id": "9ea6b5d230454ff7af5f277de2b38c01",
       "version_major": 2,
       "version_minor": 0
      },
      "text/plain": [
       "training batch:   0%|          | 0/140 [00:00<?, ?it/s]"
      ]
     },
     "metadata": {},
     "output_type": "display_data"
    },
    {
     "data": {
      "application/vnd.jupyter.widget-view+json": {
       "model_id": "6f6463ecc60e4fa8be6cd947f734c27f",
       "version_major": 2,
       "version_minor": 0
      },
      "text/plain": [
       "eval batch:   0%|          | 0/32 [00:00<?, ?it/s]"
      ]
     },
     "metadata": {},
     "output_type": "display_data"
    },
    {
     "data": {
      "application/vnd.jupyter.widget-view+json": {
       "model_id": "6e5eefabb51f4beaa638a373ac8feb77",
       "version_major": 2,
       "version_minor": 0
      },
      "text/plain": [
       "training batch:   0%|          | 0/140 [00:00<?, ?it/s]"
      ]
     },
     "metadata": {},
     "output_type": "display_data"
    },
    {
     "data": {
      "application/vnd.jupyter.widget-view+json": {
       "model_id": "2df0d94639944fc88b0a8334a53247ee",
       "version_major": 2,
       "version_minor": 0
      },
      "text/plain": [
       "eval batch:   0%|          | 0/32 [00:00<?, ?it/s]"
      ]
     },
     "metadata": {},
     "output_type": "display_data"
    },
    {
     "data": {
      "application/vnd.jupyter.widget-view+json": {
       "model_id": "ed2568456bb94d23bee81b7c97f9598a",
       "version_major": 2,
       "version_minor": 0
      },
      "text/plain": [
       "training batch:   0%|          | 0/140 [00:00<?, ?it/s]"
      ]
     },
     "metadata": {},
     "output_type": "display_data"
    },
    {
     "data": {
      "application/vnd.jupyter.widget-view+json": {
       "model_id": "a0e091de000a42c1ae4358cb9ba7dd43",
       "version_major": 2,
       "version_minor": 0
      },
      "text/plain": [
       "eval batch:   0%|          | 0/32 [00:00<?, ?it/s]"
      ]
     },
     "metadata": {},
     "output_type": "display_data"
    },
    {
     "data": {
      "application/vnd.jupyter.widget-view+json": {
       "model_id": "a94ed53a7c7f4f5696a901c69ed8212a",
       "version_major": 2,
       "version_minor": 0
      },
      "text/plain": [
       "training batch:   0%|          | 0/140 [00:00<?, ?it/s]"
      ]
     },
     "metadata": {},
     "output_type": "display_data"
    },
    {
     "data": {
      "application/vnd.jupyter.widget-view+json": {
       "model_id": "9f0a931bbf07431993f297d6404981fd",
       "version_major": 2,
       "version_minor": 0
      },
      "text/plain": [
       "eval batch:   0%|          | 0/32 [00:00<?, ?it/s]"
      ]
     },
     "metadata": {},
     "output_type": "display_data"
    },
    {
     "data": {
      "application/vnd.jupyter.widget-view+json": {
       "model_id": "3611e7f18f154df7a981db0290727e51",
       "version_major": 2,
       "version_minor": 0
      },
      "text/plain": [
       "training batch:   0%|          | 0/140 [00:00<?, ?it/s]"
      ]
     },
     "metadata": {},
     "output_type": "display_data"
    },
    {
     "data": {
      "application/vnd.jupyter.widget-view+json": {
       "model_id": "12be354b263f43efb898946a832b3efc",
       "version_major": 2,
       "version_minor": 0
      },
      "text/plain": [
       "eval batch:   0%|          | 0/32 [00:00<?, ?it/s]"
      ]
     },
     "metadata": {},
     "output_type": "display_data"
    },
    {
     "data": {
      "application/vnd.jupyter.widget-view+json": {
       "model_id": "eebf1b8afa3c4a79b83c6466bd3e5dd5",
       "version_major": 2,
       "version_minor": 0
      },
      "text/plain": [
       "training batch:   0%|          | 0/140 [00:00<?, ?it/s]"
      ]
     },
     "metadata": {},
     "output_type": "display_data"
    },
    {
     "data": {
      "application/vnd.jupyter.widget-view+json": {
       "model_id": "fc4a19f5591f4d2f892b0aa5a9136e71",
       "version_major": 2,
       "version_minor": 0
      },
      "text/plain": [
       "eval batch:   0%|          | 0/32 [00:00<?, ?it/s]"
      ]
     },
     "metadata": {},
     "output_type": "display_data"
    },
    {
     "data": {
      "application/vnd.jupyter.widget-view+json": {
       "model_id": "befc1a295623494eb0b8531fbf5fc266",
       "version_major": 2,
       "version_minor": 0
      },
      "text/plain": [
       "training batch:   0%|          | 0/140 [00:00<?, ?it/s]"
      ]
     },
     "metadata": {},
     "output_type": "display_data"
    },
    {
     "data": {
      "application/vnd.jupyter.widget-view+json": {
       "model_id": "51ec476191b843e58225f0e6c6d05a30",
       "version_major": 2,
       "version_minor": 0
      },
      "text/plain": [
       "eval batch:   0%|          | 0/32 [00:00<?, ?it/s]"
      ]
     },
     "metadata": {},
     "output_type": "display_data"
    },
    {
     "data": {
      "application/vnd.jupyter.widget-view+json": {
       "model_id": "711e5055d83c4b569b3bcbde4e60cef0",
       "version_major": 2,
       "version_minor": 0
      },
      "text/plain": [
       "training batch:   0%|          | 0/140 [00:00<?, ?it/s]"
      ]
     },
     "metadata": {},
     "output_type": "display_data"
    },
    {
     "data": {
      "application/vnd.jupyter.widget-view+json": {
       "model_id": "b3db109a6e124f89bbe54b4653b463dc",
       "version_major": 2,
       "version_minor": 0
      },
      "text/plain": [
       "eval batch:   0%|          | 0/32 [00:00<?, ?it/s]"
      ]
     },
     "metadata": {},
     "output_type": "display_data"
    },
    {
     "data": {
      "application/vnd.jupyter.widget-view+json": {
       "model_id": "64b64c1bc9e341c7a33470cb9cc3aad6",
       "version_major": 2,
       "version_minor": 0
      },
      "text/plain": [
       "training batch:   0%|          | 0/140 [00:00<?, ?it/s]"
      ]
     },
     "metadata": {},
     "output_type": "display_data"
    },
    {
     "data": {
      "application/vnd.jupyter.widget-view+json": {
       "model_id": "7b13d2123b014550b7faf9f35b2e0cb0",
       "version_major": 2,
       "version_minor": 0
      },
      "text/plain": [
       "eval batch:   0%|          | 0/32 [00:00<?, ?it/s]"
      ]
     },
     "metadata": {},
     "output_type": "display_data"
    },
    {
     "data": {
      "application/vnd.jupyter.widget-view+json": {
       "model_id": "ca06dd7cb88549ea9b56ae3a10f12c3c",
       "version_major": 2,
       "version_minor": 0
      },
      "text/plain": [
       "training batch:   0%|          | 0/140 [00:00<?, ?it/s]"
      ]
     },
     "metadata": {},
     "output_type": "display_data"
    },
    {
     "data": {
      "application/vnd.jupyter.widget-view+json": {
       "model_id": "d19f5b0c25954c0c81e0977905a89d52",
       "version_major": 2,
       "version_minor": 0
      },
      "text/plain": [
       "eval batch:   0%|          | 0/32 [00:00<?, ?it/s]"
      ]
     },
     "metadata": {},
     "output_type": "display_data"
    },
    {
     "data": {
      "application/vnd.jupyter.widget-view+json": {
       "model_id": "510bc64d78a24156bf52008bb7cb8205",
       "version_major": 2,
       "version_minor": 0
      },
      "text/plain": [
       "training batch:   0%|          | 0/140 [00:00<?, ?it/s]"
      ]
     },
     "metadata": {},
     "output_type": "display_data"
    },
    {
     "data": {
      "application/vnd.jupyter.widget-view+json": {
       "model_id": "ab40af7db3df496aab225de22f0ff99b",
       "version_major": 2,
       "version_minor": 0
      },
      "text/plain": [
       "eval batch:   0%|          | 0/32 [00:00<?, ?it/s]"
      ]
     },
     "metadata": {},
     "output_type": "display_data"
    },
    {
     "data": {
      "application/vnd.jupyter.widget-view+json": {
       "model_id": "afe44efb55af406cbf969016467c9f7f",
       "version_major": 2,
       "version_minor": 0
      },
      "text/plain": [
       "training batch:   0%|          | 0/140 [00:00<?, ?it/s]"
      ]
     },
     "metadata": {},
     "output_type": "display_data"
    },
    {
     "data": {
      "application/vnd.jupyter.widget-view+json": {
       "model_id": "2b6654502f694a338dfdc2b92fd26aaf",
       "version_major": 2,
       "version_minor": 0
      },
      "text/plain": [
       "eval batch:   0%|          | 0/32 [00:00<?, ?it/s]"
      ]
     },
     "metadata": {},
     "output_type": "display_data"
    },
    {
     "data": {
      "application/vnd.jupyter.widget-view+json": {
       "model_id": "0606cb0231a745f7a7ffc3f306dfdf4e",
       "version_major": 2,
       "version_minor": 0
      },
      "text/plain": [
       "training batch:   0%|          | 0/140 [00:00<?, ?it/s]"
      ]
     },
     "metadata": {},
     "output_type": "display_data"
    },
    {
     "data": {
      "application/vnd.jupyter.widget-view+json": {
       "model_id": "5a3162fd604e4aecbe662c02de368e74",
       "version_major": 2,
       "version_minor": 0
      },
      "text/plain": [
       "eval batch:   0%|          | 0/32 [00:00<?, ?it/s]"
      ]
     },
     "metadata": {},
     "output_type": "display_data"
    },
    {
     "data": {
      "application/vnd.jupyter.widget-view+json": {
       "model_id": "853b8f36a7374b44ab7f37e93a0a5a5c",
       "version_major": 2,
       "version_minor": 0
      },
      "text/plain": [
       "training batch:   0%|          | 0/140 [00:00<?, ?it/s]"
      ]
     },
     "metadata": {},
     "output_type": "display_data"
    },
    {
     "data": {
      "application/vnd.jupyter.widget-view+json": {
       "model_id": "f42866112f0b4bc9b4b4a6d589ee33ad",
       "version_major": 2,
       "version_minor": 0
      },
      "text/plain": [
       "eval batch:   0%|          | 0/32 [00:00<?, ?it/s]"
      ]
     },
     "metadata": {},
     "output_type": "display_data"
    },
    {
     "data": {
      "application/vnd.jupyter.widget-view+json": {
       "model_id": "a6956254fa974738b1e0fa158c4967f8",
       "version_major": 2,
       "version_minor": 0
      },
      "text/plain": [
       "training batch:   0%|          | 0/140 [00:00<?, ?it/s]"
      ]
     },
     "metadata": {},
     "output_type": "display_data"
    },
    {
     "data": {
      "application/vnd.jupyter.widget-view+json": {
       "model_id": "dab0866ff9dc46dfac547ea7283a46ce",
       "version_major": 2,
       "version_minor": 0
      },
      "text/plain": [
       "eval batch:   0%|          | 0/32 [00:00<?, ?it/s]"
      ]
     },
     "metadata": {},
     "output_type": "display_data"
    },
    {
     "data": {
      "application/vnd.jupyter.widget-view+json": {
       "model_id": "6afa9bd470c54630a2a32a1448582aad",
       "version_major": 2,
       "version_minor": 0
      },
      "text/plain": [
       "training batch:   0%|          | 0/140 [00:00<?, ?it/s]"
      ]
     },
     "metadata": {},
     "output_type": "display_data"
    },
    {
     "data": {
      "application/vnd.jupyter.widget-view+json": {
       "model_id": "d75892c90cb74b189374934411419eaa",
       "version_major": 2,
       "version_minor": 0
      },
      "text/plain": [
       "eval batch:   0%|          | 0/32 [00:00<?, ?it/s]"
      ]
     },
     "metadata": {},
     "output_type": "display_data"
    },
    {
     "data": {
      "application/vnd.jupyter.widget-view+json": {
       "model_id": "5bb555c8ce034e988becf4699ee7fa05",
       "version_major": 2,
       "version_minor": 0
      },
      "text/plain": [
       "training batch:   0%|          | 0/140 [00:00<?, ?it/s]"
      ]
     },
     "metadata": {},
     "output_type": "display_data"
    },
    {
     "data": {
      "application/vnd.jupyter.widget-view+json": {
       "model_id": "7453b0ec74e0468499eb9ab151644e10",
       "version_major": 2,
       "version_minor": 0
      },
      "text/plain": [
       "eval batch:   0%|          | 0/32 [00:00<?, ?it/s]"
      ]
     },
     "metadata": {},
     "output_type": "display_data"
    },
    {
     "data": {
      "application/vnd.jupyter.widget-view+json": {
       "model_id": "d7c84d8592a74517ad8eb821e80e8f3c",
       "version_major": 2,
       "version_minor": 0
      },
      "text/plain": [
       "training batch:   0%|          | 0/140 [00:00<?, ?it/s]"
      ]
     },
     "metadata": {},
     "output_type": "display_data"
    },
    {
     "data": {
      "application/vnd.jupyter.widget-view+json": {
       "model_id": "a14f4629a52c49e5be0a449d172b2c73",
       "version_major": 2,
       "version_minor": 0
      },
      "text/plain": [
       "eval batch:   0%|          | 0/32 [00:00<?, ?it/s]"
      ]
     },
     "metadata": {},
     "output_type": "display_data"
    },
    {
     "data": {
      "application/vnd.jupyter.widget-view+json": {
       "model_id": "92c23cb4ced24d42abeb1d68fff324e5",
       "version_major": 2,
       "version_minor": 0
      },
      "text/plain": [
       "training batch:   0%|          | 0/140 [00:00<?, ?it/s]"
      ]
     },
     "metadata": {},
     "output_type": "display_data"
    },
    {
     "data": {
      "application/vnd.jupyter.widget-view+json": {
       "model_id": "fbe3849140ac47b9977e71c4c2a23e46",
       "version_major": 2,
       "version_minor": 0
      },
      "text/plain": [
       "eval batch:   0%|          | 0/32 [00:00<?, ?it/s]"
      ]
     },
     "metadata": {},
     "output_type": "display_data"
    },
    {
     "data": {
      "application/vnd.jupyter.widget-view+json": {
       "model_id": "1565c809be604b728b3c7813a11e39bf",
       "version_major": 2,
       "version_minor": 0
      },
      "text/plain": [
       "training batch:   0%|          | 0/140 [00:00<?, ?it/s]"
      ]
     },
     "metadata": {},
     "output_type": "display_data"
    },
    {
     "data": {
      "application/vnd.jupyter.widget-view+json": {
       "model_id": "7862ded575be493ebe5d06b213d0a12d",
       "version_major": 2,
       "version_minor": 0
      },
      "text/plain": [
       "eval batch:   0%|          | 0/32 [00:00<?, ?it/s]"
      ]
     },
     "metadata": {},
     "output_type": "display_data"
    },
    {
     "data": {
      "application/vnd.jupyter.widget-view+json": {
       "model_id": "244790daa6c34642bcfc59bd0ba9bcd8",
       "version_major": 2,
       "version_minor": 0
      },
      "text/plain": [
       "training batch:   0%|          | 0/140 [00:00<?, ?it/s]"
      ]
     },
     "metadata": {},
     "output_type": "display_data"
    },
    {
     "data": {
      "application/vnd.jupyter.widget-view+json": {
       "model_id": "9096a73f2aa943b88dc5153eef2486df",
       "version_major": 2,
       "version_minor": 0
      },
      "text/plain": [
       "eval batch:   0%|          | 0/32 [00:00<?, ?it/s]"
      ]
     },
     "metadata": {},
     "output_type": "display_data"
    },
    {
     "data": {
      "application/vnd.jupyter.widget-view+json": {
       "model_id": "2d253a383b6947889335467ddaa1a7d6",
       "version_major": 2,
       "version_minor": 0
      },
      "text/plain": [
       "training batch:   0%|          | 0/140 [00:00<?, ?it/s]"
      ]
     },
     "metadata": {},
     "output_type": "display_data"
    },
    {
     "data": {
      "application/vnd.jupyter.widget-view+json": {
       "model_id": "2341ba7ab3ea4cca89aa67d7c81e9b38",
       "version_major": 2,
       "version_minor": 0
      },
      "text/plain": [
       "eval batch:   0%|          | 0/32 [00:00<?, ?it/s]"
      ]
     },
     "metadata": {},
     "output_type": "display_data"
    },
    {
     "data": {
      "application/vnd.jupyter.widget-view+json": {
       "model_id": "875eeb8d9d764b86b9d355c833329e5b",
       "version_major": 2,
       "version_minor": 0
      },
      "text/plain": [
       "training batch:   0%|          | 0/140 [00:00<?, ?it/s]"
      ]
     },
     "metadata": {},
     "output_type": "display_data"
    },
    {
     "data": {
      "application/vnd.jupyter.widget-view+json": {
       "model_id": "997b0365a6e8410f932a72d986c5ece1",
       "version_major": 2,
       "version_minor": 0
      },
      "text/plain": [
       "eval batch:   0%|          | 0/32 [00:00<?, ?it/s]"
      ]
     },
     "metadata": {},
     "output_type": "display_data"
    },
    {
     "data": {
      "application/vnd.jupyter.widget-view+json": {
       "model_id": "29a11cf0827149dd9f74ca5cd21ce68e",
       "version_major": 2,
       "version_minor": 0
      },
      "text/plain": [
       "training batch:   0%|          | 0/140 [00:00<?, ?it/s]"
      ]
     },
     "metadata": {},
     "output_type": "display_data"
    },
    {
     "data": {
      "application/vnd.jupyter.widget-view+json": {
       "model_id": "70510ee8e5164579a4e766529661bfa6",
       "version_major": 2,
       "version_minor": 0
      },
      "text/plain": [
       "eval batch:   0%|          | 0/32 [00:00<?, ?it/s]"
      ]
     },
     "metadata": {},
     "output_type": "display_data"
    },
    {
     "data": {
      "application/vnd.jupyter.widget-view+json": {
       "model_id": "2e289e0df538475b80be57cacd927ae6",
       "version_major": 2,
       "version_minor": 0
      },
      "text/plain": [
       "training batch:   0%|          | 0/140 [00:00<?, ?it/s]"
      ]
     },
     "metadata": {},
     "output_type": "display_data"
    },
    {
     "data": {
      "application/vnd.jupyter.widget-view+json": {
       "model_id": "403489a61bb246bea25c60ff1e0bda77",
       "version_major": 2,
       "version_minor": 0
      },
      "text/plain": [
       "eval batch:   0%|          | 0/32 [00:00<?, ?it/s]"
      ]
     },
     "metadata": {},
     "output_type": "display_data"
    },
    {
     "data": {
      "application/vnd.jupyter.widget-view+json": {
       "model_id": "913ef9bf7c884d969c758723d2c434a0",
       "version_major": 2,
       "version_minor": 0
      },
      "text/plain": [
       "training batch:   0%|          | 0/140 [00:00<?, ?it/s]"
      ]
     },
     "metadata": {},
     "output_type": "display_data"
    },
    {
     "data": {
      "application/vnd.jupyter.widget-view+json": {
       "model_id": "87417ccac1b04658b2975107c71ccb63",
       "version_major": 2,
       "version_minor": 0
      },
      "text/plain": [
       "eval batch:   0%|          | 0/32 [00:00<?, ?it/s]"
      ]
     },
     "metadata": {},
     "output_type": "display_data"
    },
    {
     "data": {
      "application/vnd.jupyter.widget-view+json": {
       "model_id": "63407a75ef6c440ba9e3c3a7a091e20e",
       "version_major": 2,
       "version_minor": 0
      },
      "text/plain": [
       "training batch:   0%|          | 0/140 [00:00<?, ?it/s]"
      ]
     },
     "metadata": {},
     "output_type": "display_data"
    },
    {
     "data": {
      "application/vnd.jupyter.widget-view+json": {
       "model_id": "ff11ca2d7a574709bb05fab93ab274df",
       "version_major": 2,
       "version_minor": 0
      },
      "text/plain": [
       "eval batch:   0%|          | 0/32 [00:00<?, ?it/s]"
      ]
     },
     "metadata": {},
     "output_type": "display_data"
    },
    {
     "data": {
      "application/vnd.jupyter.widget-view+json": {
       "model_id": "9c078eeb61f240e19bf075ce70e07035",
       "version_major": 2,
       "version_minor": 0
      },
      "text/plain": [
       "training batch:   0%|          | 0/140 [00:00<?, ?it/s]"
      ]
     },
     "metadata": {},
     "output_type": "display_data"
    },
    {
     "data": {
      "application/vnd.jupyter.widget-view+json": {
       "model_id": "02b645d05a064f90ac5e06213128523f",
       "version_major": 2,
       "version_minor": 0
      },
      "text/plain": [
       "eval batch:   0%|          | 0/32 [00:00<?, ?it/s]"
      ]
     },
     "metadata": {},
     "output_type": "display_data"
    },
    {
     "data": {
      "application/vnd.jupyter.widget-view+json": {
       "model_id": "b60acef9c1c04e608f120729d3d4f388",
       "version_major": 2,
       "version_minor": 0
      },
      "text/plain": [
       "training batch:   0%|          | 0/140 [00:00<?, ?it/s]"
      ]
     },
     "metadata": {},
     "output_type": "display_data"
    },
    {
     "data": {
      "application/vnd.jupyter.widget-view+json": {
       "model_id": "b7336ed7c8804686b5aad5637505c3f5",
       "version_major": 2,
       "version_minor": 0
      },
      "text/plain": [
       "eval batch:   0%|          | 0/32 [00:00<?, ?it/s]"
      ]
     },
     "metadata": {},
     "output_type": "display_data"
    },
    {
     "data": {
      "application/vnd.jupyter.widget-view+json": {
       "model_id": "4e7c87fac5f8424ab1d27266a71b65d8",
       "version_major": 2,
       "version_minor": 0
      },
      "text/plain": [
       "training batch:   0%|          | 0/140 [00:00<?, ?it/s]"
      ]
     },
     "metadata": {},
     "output_type": "display_data"
    },
    {
     "data": {
      "application/vnd.jupyter.widget-view+json": {
       "model_id": "01d6ceb2853a4e3a8357c61e1f8f8218",
       "version_major": 2,
       "version_minor": 0
      },
      "text/plain": [
       "eval batch:   0%|          | 0/32 [00:00<?, ?it/s]"
      ]
     },
     "metadata": {},
     "output_type": "display_data"
    },
    {
     "data": {
      "application/vnd.jupyter.widget-view+json": {
       "model_id": "dabdaa5b891b43d585644dbdd6802d84",
       "version_major": 2,
       "version_minor": 0
      },
      "text/plain": [
       "training batch:   0%|          | 0/140 [00:00<?, ?it/s]"
      ]
     },
     "metadata": {},
     "output_type": "display_data"
    },
    {
     "data": {
      "application/vnd.jupyter.widget-view+json": {
       "model_id": "5d2ee6837b124c4583be098e2eda27f6",
       "version_major": 2,
       "version_minor": 0
      },
      "text/plain": [
       "eval batch:   0%|          | 0/32 [00:00<?, ?it/s]"
      ]
     },
     "metadata": {},
     "output_type": "display_data"
    },
    {
     "data": {
      "application/vnd.jupyter.widget-view+json": {
       "model_id": "bfda9c4b24cb49299a522b06a45c7291",
       "version_major": 2,
       "version_minor": 0
      },
      "text/plain": [
       "training batch:   0%|          | 0/140 [00:00<?, ?it/s]"
      ]
     },
     "metadata": {},
     "output_type": "display_data"
    },
    {
     "data": {
      "application/vnd.jupyter.widget-view+json": {
       "model_id": "26ec9893c9934ab98d32eb4035f2a326",
       "version_major": 2,
       "version_minor": 0
      },
      "text/plain": [
       "eval batch:   0%|          | 0/32 [00:00<?, ?it/s]"
      ]
     },
     "metadata": {},
     "output_type": "display_data"
    },
    {
     "data": {
      "application/vnd.jupyter.widget-view+json": {
       "model_id": "6bf88b7be73147c99f2bafd255de6c9f",
       "version_major": 2,
       "version_minor": 0
      },
      "text/plain": [
       "training batch:   0%|          | 0/140 [00:00<?, ?it/s]"
      ]
     },
     "metadata": {},
     "output_type": "display_data"
    },
    {
     "data": {
      "application/vnd.jupyter.widget-view+json": {
       "model_id": "5fb15fe42d0144b7836a22d314384c84",
       "version_major": 2,
       "version_minor": 0
      },
      "text/plain": [
       "eval batch:   0%|          | 0/32 [00:00<?, ?it/s]"
      ]
     },
     "metadata": {},
     "output_type": "display_data"
    },
    {
     "data": {
      "application/vnd.jupyter.widget-view+json": {
       "model_id": "6d669b88b07a4a8ab2c7eef9e4a3e148",
       "version_major": 2,
       "version_minor": 0
      },
      "text/plain": [
       "training batch:   0%|          | 0/140 [00:00<?, ?it/s]"
      ]
     },
     "metadata": {},
     "output_type": "display_data"
    },
    {
     "data": {
      "application/vnd.jupyter.widget-view+json": {
       "model_id": "e0a78d3f98564b37a2eb7a59036f6502",
       "version_major": 2,
       "version_minor": 0
      },
      "text/plain": [
       "eval batch:   0%|          | 0/32 [00:00<?, ?it/s]"
      ]
     },
     "metadata": {},
     "output_type": "display_data"
    },
    {
     "data": {
      "application/vnd.jupyter.widget-view+json": {
       "model_id": "d6c2bb332ff34537a32ddee2851173e5",
       "version_major": 2,
       "version_minor": 0
      },
      "text/plain": [
       "training batch:   0%|          | 0/140 [00:00<?, ?it/s]"
      ]
     },
     "metadata": {},
     "output_type": "display_data"
    },
    {
     "data": {
      "application/vnd.jupyter.widget-view+json": {
       "model_id": "ba887b4b44c04b328d73c19bcd8a1f3d",
       "version_major": 2,
       "version_minor": 0
      },
      "text/plain": [
       "eval batch:   0%|          | 0/32 [00:00<?, ?it/s]"
      ]
     },
     "metadata": {},
     "output_type": "display_data"
    },
    {
     "data": {
      "application/vnd.jupyter.widget-view+json": {
       "model_id": "7ff777d5e2dc492ba89b92b40c6a1671",
       "version_major": 2,
       "version_minor": 0
      },
      "text/plain": [
       "training batch:   0%|          | 0/140 [00:00<?, ?it/s]"
      ]
     },
     "metadata": {},
     "output_type": "display_data"
    },
    {
     "data": {
      "application/vnd.jupyter.widget-view+json": {
       "model_id": "b786c5e3ff014619b0af370fee2cad47",
       "version_major": 2,
       "version_minor": 0
      },
      "text/plain": [
       "eval batch:   0%|          | 0/32 [00:00<?, ?it/s]"
      ]
     },
     "metadata": {},
     "output_type": "display_data"
    },
    {
     "data": {
      "application/vnd.jupyter.widget-view+json": {
       "model_id": "e96805a82fe8485badaa0de13385b738",
       "version_major": 2,
       "version_minor": 0
      },
      "text/plain": [
       "training batch:   0%|          | 0/140 [00:00<?, ?it/s]"
      ]
     },
     "metadata": {},
     "output_type": "display_data"
    },
    {
     "data": {
      "application/vnd.jupyter.widget-view+json": {
       "model_id": "1ad0b69f436b43ca93e83f92bf89b43c",
       "version_major": 2,
       "version_minor": 0
      },
      "text/plain": [
       "eval batch:   0%|          | 0/32 [00:00<?, ?it/s]"
      ]
     },
     "metadata": {},
     "output_type": "display_data"
    },
    {
     "data": {
      "application/vnd.jupyter.widget-view+json": {
       "model_id": "02a5d1aaac6449a0a625bfa74b191a0c",
       "version_major": 2,
       "version_minor": 0
      },
      "text/plain": [
       "training batch:   0%|          | 0/140 [00:00<?, ?it/s]"
      ]
     },
     "metadata": {},
     "output_type": "display_data"
    },
    {
     "data": {
      "application/vnd.jupyter.widget-view+json": {
       "model_id": "9ceaf5b19d21418ca38c9b2457f40875",
       "version_major": 2,
       "version_minor": 0
      },
      "text/plain": [
       "eval batch:   0%|          | 0/32 [00:00<?, ?it/s]"
      ]
     },
     "metadata": {},
     "output_type": "display_data"
    },
    {
     "data": {
      "application/vnd.jupyter.widget-view+json": {
       "model_id": "442581ce149440379ca49b63b655ecb3",
       "version_major": 2,
       "version_minor": 0
      },
      "text/plain": [
       "training batch:   0%|          | 0/140 [00:00<?, ?it/s]"
      ]
     },
     "metadata": {},
     "output_type": "display_data"
    },
    {
     "data": {
      "application/vnd.jupyter.widget-view+json": {
       "model_id": "e278afb2b21242e6a3264877e291ef2d",
       "version_major": 2,
       "version_minor": 0
      },
      "text/plain": [
       "eval batch:   0%|          | 0/32 [00:00<?, ?it/s]"
      ]
     },
     "metadata": {},
     "output_type": "display_data"
    },
    {
     "data": {
      "application/vnd.jupyter.widget-view+json": {
       "model_id": "1e49a2ba0ba943689919340c400d507b",
       "version_major": 2,
       "version_minor": 0
      },
      "text/plain": [
       "training batch:   0%|          | 0/140 [00:00<?, ?it/s]"
      ]
     },
     "metadata": {},
     "output_type": "display_data"
    },
    {
     "data": {
      "application/vnd.jupyter.widget-view+json": {
       "model_id": "0962b5f277e3467e972122f39167b785",
       "version_major": 2,
       "version_minor": 0
      },
      "text/plain": [
       "eval batch:   0%|          | 0/32 [00:00<?, ?it/s]"
      ]
     },
     "metadata": {},
     "output_type": "display_data"
    },
    {
     "data": {
      "application/vnd.jupyter.widget-view+json": {
       "model_id": "8c8cbd9c29864bbfb0e41951f88624c2",
       "version_major": 2,
       "version_minor": 0
      },
      "text/plain": [
       "training batch:   0%|          | 0/140 [00:00<?, ?it/s]"
      ]
     },
     "metadata": {},
     "output_type": "display_data"
    },
    {
     "data": {
      "application/vnd.jupyter.widget-view+json": {
       "model_id": "44e0860649834b2d8234e56fe51ac8ca",
       "version_major": 2,
       "version_minor": 0
      },
      "text/plain": [
       "eval batch:   0%|          | 0/32 [00:00<?, ?it/s]"
      ]
     },
     "metadata": {},
     "output_type": "display_data"
    },
    {
     "data": {
      "application/vnd.jupyter.widget-view+json": {
       "model_id": "a200a2e562f2441196d5cc9a6286f1cf",
       "version_major": 2,
       "version_minor": 0
      },
      "text/plain": [
       "training batch:   0%|          | 0/140 [00:00<?, ?it/s]"
      ]
     },
     "metadata": {},
     "output_type": "display_data"
    },
    {
     "data": {
      "application/vnd.jupyter.widget-view+json": {
       "model_id": "157b1a35948748efb3f75466e6ee3a06",
       "version_major": 2,
       "version_minor": 0
      },
      "text/plain": [
       "eval batch:   0%|          | 0/32 [00:00<?, ?it/s]"
      ]
     },
     "metadata": {},
     "output_type": "display_data"
    },
    {
     "data": {
      "application/vnd.jupyter.widget-view+json": {
       "model_id": "5c32be60d309427282863ba5b5658010",
       "version_major": 2,
       "version_minor": 0
      },
      "text/plain": [
       "training batch:   0%|          | 0/140 [00:00<?, ?it/s]"
      ]
     },
     "metadata": {},
     "output_type": "display_data"
    },
    {
     "data": {
      "application/vnd.jupyter.widget-view+json": {
       "model_id": "7f14d260028d408b8c0ab67645a643e8",
       "version_major": 2,
       "version_minor": 0
      },
      "text/plain": [
       "eval batch:   0%|          | 0/32 [00:00<?, ?it/s]"
      ]
     },
     "metadata": {},
     "output_type": "display_data"
    },
    {
     "data": {
      "application/vnd.jupyter.widget-view+json": {
       "model_id": "2a41b5e7b7a94e128d0073e36d845097",
       "version_major": 2,
       "version_minor": 0
      },
      "text/plain": [
       "training batch:   0%|          | 0/140 [00:00<?, ?it/s]"
      ]
     },
     "metadata": {},
     "output_type": "display_data"
    },
    {
     "data": {
      "application/vnd.jupyter.widget-view+json": {
       "model_id": "0b0e8ec64f2e4306b671f289985d377e",
       "version_major": 2,
       "version_minor": 0
      },
      "text/plain": [
       "eval batch:   0%|          | 0/32 [00:00<?, ?it/s]"
      ]
     },
     "metadata": {},
     "output_type": "display_data"
    },
    {
     "data": {
      "application/vnd.jupyter.widget-view+json": {
       "model_id": "3d806eba866848329b0088e9606fdcb4",
       "version_major": 2,
       "version_minor": 0
      },
      "text/plain": [
       "training batch:   0%|          | 0/140 [00:00<?, ?it/s]"
      ]
     },
     "metadata": {},
     "output_type": "display_data"
    },
    {
     "data": {
      "application/vnd.jupyter.widget-view+json": {
       "model_id": "0f6c295099ca4a57a7717a1e9d3c4195",
       "version_major": 2,
       "version_minor": 0
      },
      "text/plain": [
       "eval batch:   0%|          | 0/32 [00:00<?, ?it/s]"
      ]
     },
     "metadata": {},
     "output_type": "display_data"
    },
    {
     "data": {
      "application/vnd.jupyter.widget-view+json": {
       "model_id": "6859e631eea8404482ced655717f4874",
       "version_major": 2,
       "version_minor": 0
      },
      "text/plain": [
       "training batch:   0%|          | 0/140 [00:00<?, ?it/s]"
      ]
     },
     "metadata": {},
     "output_type": "display_data"
    },
    {
     "data": {
      "application/vnd.jupyter.widget-view+json": {
       "model_id": "63a8d20174cb4971b6488acae6586da1",
       "version_major": 2,
       "version_minor": 0
      },
      "text/plain": [
       "eval batch:   0%|          | 0/32 [00:00<?, ?it/s]"
      ]
     },
     "metadata": {},
     "output_type": "display_data"
    },
    {
     "data": {
      "application/vnd.jupyter.widget-view+json": {
       "model_id": "8e9682ac014348d7962aabadc252715f",
       "version_major": 2,
       "version_minor": 0
      },
      "text/plain": [
       "training batch:   0%|          | 0/140 [00:00<?, ?it/s]"
      ]
     },
     "metadata": {},
     "output_type": "display_data"
    },
    {
     "data": {
      "application/vnd.jupyter.widget-view+json": {
       "model_id": "6cd5dd9758ae46f3aa935b158a8773a0",
       "version_major": 2,
       "version_minor": 0
      },
      "text/plain": [
       "eval batch:   0%|          | 0/32 [00:00<?, ?it/s]"
      ]
     },
     "metadata": {},
     "output_type": "display_data"
    },
    {
     "data": {
      "application/vnd.jupyter.widget-view+json": {
       "model_id": "5c9ff205bc4748d5a20eb5c53268b650",
       "version_major": 2,
       "version_minor": 0
      },
      "text/plain": [
       "training batch:   0%|          | 0/140 [00:00<?, ?it/s]"
      ]
     },
     "metadata": {},
     "output_type": "display_data"
    },
    {
     "data": {
      "application/vnd.jupyter.widget-view+json": {
       "model_id": "246414b93eb544d586fdddb0aac768d1",
       "version_major": 2,
       "version_minor": 0
      },
      "text/plain": [
       "eval batch:   0%|          | 0/32 [00:00<?, ?it/s]"
      ]
     },
     "metadata": {},
     "output_type": "display_data"
    },
    {
     "data": {
      "application/vnd.jupyter.widget-view+json": {
       "model_id": "3d2fa6b253844511b4f45d972d998671",
       "version_major": 2,
       "version_minor": 0
      },
      "text/plain": [
       "training batch:   0%|          | 0/140 [00:00<?, ?it/s]"
      ]
     },
     "metadata": {},
     "output_type": "display_data"
    },
    {
     "data": {
      "application/vnd.jupyter.widget-view+json": {
       "model_id": "a59fbf58fff24e2193b6261e3423e479",
       "version_major": 2,
       "version_minor": 0
      },
      "text/plain": [
       "eval batch:   0%|          | 0/32 [00:00<?, ?it/s]"
      ]
     },
     "metadata": {},
     "output_type": "display_data"
    },
    {
     "data": {
      "application/vnd.jupyter.widget-view+json": {
       "model_id": "90f6c3d1c26b49318186ea64be6d32e8",
       "version_major": 2,
       "version_minor": 0
      },
      "text/plain": [
       "training batch:   0%|          | 0/140 [00:00<?, ?it/s]"
      ]
     },
     "metadata": {},
     "output_type": "display_data"
    },
    {
     "data": {
      "application/vnd.jupyter.widget-view+json": {
       "model_id": "08e0fe50010b493ab39f36807de11bf8",
       "version_major": 2,
       "version_minor": 0
      },
      "text/plain": [
       "eval batch:   0%|          | 0/32 [00:00<?, ?it/s]"
      ]
     },
     "metadata": {},
     "output_type": "display_data"
    },
    {
     "data": {
      "application/vnd.jupyter.widget-view+json": {
       "model_id": "535db825a26c4f9c8b6d144161e67207",
       "version_major": 2,
       "version_minor": 0
      },
      "text/plain": [
       "training batch:   0%|          | 0/140 [00:00<?, ?it/s]"
      ]
     },
     "metadata": {},
     "output_type": "display_data"
    },
    {
     "data": {
      "application/vnd.jupyter.widget-view+json": {
       "model_id": "45be6fe75b274a1e9e60bb55f0de4c9a",
       "version_major": 2,
       "version_minor": 0
      },
      "text/plain": [
       "eval batch:   0%|          | 0/32 [00:00<?, ?it/s]"
      ]
     },
     "metadata": {},
     "output_type": "display_data"
    },
    {
     "data": {
      "application/vnd.jupyter.widget-view+json": {
       "model_id": "07a40a3e4bad47f69f2fb154044b2758",
       "version_major": 2,
       "version_minor": 0
      },
      "text/plain": [
       "training batch:   0%|          | 0/140 [00:00<?, ?it/s]"
      ]
     },
     "metadata": {},
     "output_type": "display_data"
    },
    {
     "data": {
      "application/vnd.jupyter.widget-view+json": {
       "model_id": "75123d4a5fde4c63b8784c216c2897cc",
       "version_major": 2,
       "version_minor": 0
      },
      "text/plain": [
       "eval batch:   0%|          | 0/32 [00:00<?, ?it/s]"
      ]
     },
     "metadata": {},
     "output_type": "display_data"
    },
    {
     "data": {
      "application/vnd.jupyter.widget-view+json": {
       "model_id": "5c092931bd7d45ea80641b6c73a5e443",
       "version_major": 2,
       "version_minor": 0
      },
      "text/plain": [
       "training batch:   0%|          | 0/140 [00:00<?, ?it/s]"
      ]
     },
     "metadata": {},
     "output_type": "display_data"
    },
    {
     "data": {
      "application/vnd.jupyter.widget-view+json": {
       "model_id": "a20a3d6996334d39a621b0cd893d936e",
       "version_major": 2,
       "version_minor": 0
      },
      "text/plain": [
       "eval batch:   0%|          | 0/32 [00:00<?, ?it/s]"
      ]
     },
     "metadata": {},
     "output_type": "display_data"
    },
    {
     "data": {
      "application/vnd.jupyter.widget-view+json": {
       "model_id": "89c9e4df6fe14915ba0f81d7ce499cd9",
       "version_major": 2,
       "version_minor": 0
      },
      "text/plain": [
       "training batch:   0%|          | 0/140 [00:00<?, ?it/s]"
      ]
     },
     "metadata": {},
     "output_type": "display_data"
    },
    {
     "data": {
      "application/vnd.jupyter.widget-view+json": {
       "model_id": "9f6b2bb107aa4fe9b7e140412e96648c",
       "version_major": 2,
       "version_minor": 0
      },
      "text/plain": [
       "eval batch:   0%|          | 0/32 [00:00<?, ?it/s]"
      ]
     },
     "metadata": {},
     "output_type": "display_data"
    },
    {
     "data": {
      "application/vnd.jupyter.widget-view+json": {
       "model_id": "52b63d3b58ea4168b1e3c153fadb42e1",
       "version_major": 2,
       "version_minor": 0
      },
      "text/plain": [
       "training batch:   0%|          | 0/140 [00:00<?, ?it/s]"
      ]
     },
     "metadata": {},
     "output_type": "display_data"
    },
    {
     "data": {
      "application/vnd.jupyter.widget-view+json": {
       "model_id": "6e226af9837a4e94bbb78b98584aec33",
       "version_major": 2,
       "version_minor": 0
      },
      "text/plain": [
       "eval batch:   0%|          | 0/32 [00:00<?, ?it/s]"
      ]
     },
     "metadata": {},
     "output_type": "display_data"
    },
    {
     "data": {
      "application/vnd.jupyter.widget-view+json": {
       "model_id": "01d8eeec1f45437f93c7be7c3a576dc5",
       "version_major": 2,
       "version_minor": 0
      },
      "text/plain": [
       "training batch:   0%|          | 0/140 [00:00<?, ?it/s]"
      ]
     },
     "metadata": {},
     "output_type": "display_data"
    },
    {
     "data": {
      "application/vnd.jupyter.widget-view+json": {
       "model_id": "ae5a32ae73774b7483301b5a9ac0f147",
       "version_major": 2,
       "version_minor": 0
      },
      "text/plain": [
       "eval batch:   0%|          | 0/32 [00:00<?, ?it/s]"
      ]
     },
     "metadata": {},
     "output_type": "display_data"
    },
    {
     "data": {
      "application/vnd.jupyter.widget-view+json": {
       "model_id": "48a1a19603074475970e0635290016bd",
       "version_major": 2,
       "version_minor": 0
      },
      "text/plain": [
       "training batch:   0%|          | 0/140 [00:00<?, ?it/s]"
      ]
     },
     "metadata": {},
     "output_type": "display_data"
    },
    {
     "data": {
      "application/vnd.jupyter.widget-view+json": {
       "model_id": "2a0c1d8b38574a7ea93d1da1d904f8de",
       "version_major": 2,
       "version_minor": 0
      },
      "text/plain": [
       "eval batch:   0%|          | 0/32 [00:00<?, ?it/s]"
      ]
     },
     "metadata": {},
     "output_type": "display_data"
    },
    {
     "data": {
      "application/vnd.jupyter.widget-view+json": {
       "model_id": "d71d708952e74a08b4ebc0a57a978a66",
       "version_major": 2,
       "version_minor": 0
      },
      "text/plain": [
       "training batch:   0%|          | 0/140 [00:00<?, ?it/s]"
      ]
     },
     "metadata": {},
     "output_type": "display_data"
    },
    {
     "data": {
      "application/vnd.jupyter.widget-view+json": {
       "model_id": "e50e0df3a92240deb84ed5f729cc314b",
       "version_major": 2,
       "version_minor": 0
      },
      "text/plain": [
       "eval batch:   0%|          | 0/32 [00:00<?, ?it/s]"
      ]
     },
     "metadata": {},
     "output_type": "display_data"
    },
    {
     "data": {
      "application/vnd.jupyter.widget-view+json": {
       "model_id": "c38cc78b741942f0875fe55efbf9b946",
       "version_major": 2,
       "version_minor": 0
      },
      "text/plain": [
       "training batch:   0%|          | 0/140 [00:00<?, ?it/s]"
      ]
     },
     "metadata": {},
     "output_type": "display_data"
    },
    {
     "data": {
      "application/vnd.jupyter.widget-view+json": {
       "model_id": "364fdca6d0cc47e0905b2d3d85875536",
       "version_major": 2,
       "version_minor": 0
      },
      "text/plain": [
       "eval batch:   0%|          | 0/32 [00:00<?, ?it/s]"
      ]
     },
     "metadata": {},
     "output_type": "display_data"
    },
    {
     "data": {
      "application/vnd.jupyter.widget-view+json": {
       "model_id": "38083d6a5f5c4045a1577d4580e5ef12",
       "version_major": 2,
       "version_minor": 0
      },
      "text/plain": [
       "training batch:   0%|          | 0/140 [00:00<?, ?it/s]"
      ]
     },
     "metadata": {},
     "output_type": "display_data"
    },
    {
     "data": {
      "application/vnd.jupyter.widget-view+json": {
       "model_id": "833adb0f85384da4a6d243bc376ea7b1",
       "version_major": 2,
       "version_minor": 0
      },
      "text/plain": [
       "eval batch:   0%|          | 0/32 [00:00<?, ?it/s]"
      ]
     },
     "metadata": {},
     "output_type": "display_data"
    },
    {
     "data": {
      "application/vnd.jupyter.widget-view+json": {
       "model_id": "a8a199d831b34e469d50ea0d842b7a45",
       "version_major": 2,
       "version_minor": 0
      },
      "text/plain": [
       "training batch:   0%|          | 0/140 [00:00<?, ?it/s]"
      ]
     },
     "metadata": {},
     "output_type": "display_data"
    },
    {
     "data": {
      "application/vnd.jupyter.widget-view+json": {
       "model_id": "aa74d91df5ed45e49eb485a5793817f9",
       "version_major": 2,
       "version_minor": 0
      },
      "text/plain": [
       "eval batch:   0%|          | 0/32 [00:00<?, ?it/s]"
      ]
     },
     "metadata": {},
     "output_type": "display_data"
    },
    {
     "data": {
      "application/vnd.jupyter.widget-view+json": {
       "model_id": "824fdba78a814ee8a1c2567c6e912c6e",
       "version_major": 2,
       "version_minor": 0
      },
      "text/plain": [
       "training batch:   0%|          | 0/140 [00:00<?, ?it/s]"
      ]
     },
     "metadata": {},
     "output_type": "display_data"
    },
    {
     "data": {
      "application/vnd.jupyter.widget-view+json": {
       "model_id": "079ed24fb71942de8e9a1a75cc892f58",
       "version_major": 2,
       "version_minor": 0
      },
      "text/plain": [
       "eval batch:   0%|          | 0/32 [00:00<?, ?it/s]"
      ]
     },
     "metadata": {},
     "output_type": "display_data"
    },
    {
     "data": {
      "application/vnd.jupyter.widget-view+json": {
       "model_id": "52a4951a306b4705a379aab77151b6a3",
       "version_major": 2,
       "version_minor": 0
      },
      "text/plain": [
       "training batch:   0%|          | 0/140 [00:00<?, ?it/s]"
      ]
     },
     "metadata": {},
     "output_type": "display_data"
    },
    {
     "data": {
      "application/vnd.jupyter.widget-view+json": {
       "model_id": "1721ddbb5b3f4961a33e80be59a77fd5",
       "version_major": 2,
       "version_minor": 0
      },
      "text/plain": [
       "eval batch:   0%|          | 0/32 [00:00<?, ?it/s]"
      ]
     },
     "metadata": {},
     "output_type": "display_data"
    },
    {
     "data": {
      "application/vnd.jupyter.widget-view+json": {
       "model_id": "3f76382dab114c56b36e8b19b242c3a1",
       "version_major": 2,
       "version_minor": 0
      },
      "text/plain": [
       "training batch:   0%|          | 0/140 [00:00<?, ?it/s]"
      ]
     },
     "metadata": {},
     "output_type": "display_data"
    },
    {
     "data": {
      "application/vnd.jupyter.widget-view+json": {
       "model_id": "a5ef76488d7a4fcab6294c589bd4dfff",
       "version_major": 2,
       "version_minor": 0
      },
      "text/plain": [
       "eval batch:   0%|          | 0/32 [00:00<?, ?it/s]"
      ]
     },
     "metadata": {},
     "output_type": "display_data"
    },
    {
     "data": {
      "application/vnd.jupyter.widget-view+json": {
       "model_id": "64e498ae1e6f49d6a1a157f3fd90add6",
       "version_major": 2,
       "version_minor": 0
      },
      "text/plain": [
       "training batch:   0%|          | 0/140 [00:00<?, ?it/s]"
      ]
     },
     "metadata": {},
     "output_type": "display_data"
    },
    {
     "data": {
      "application/vnd.jupyter.widget-view+json": {
       "model_id": "e1ae6ebf78824c0f8f920ce69015fc0e",
       "version_major": 2,
       "version_minor": 0
      },
      "text/plain": [
       "eval batch:   0%|          | 0/32 [00:00<?, ?it/s]"
      ]
     },
     "metadata": {},
     "output_type": "display_data"
    },
    {
     "data": {
      "application/vnd.jupyter.widget-view+json": {
       "model_id": "2f4c9af5abaa43488040b8cd31ac509b",
       "version_major": 2,
       "version_minor": 0
      },
      "text/plain": [
       "training batch:   0%|          | 0/140 [00:00<?, ?it/s]"
      ]
     },
     "metadata": {},
     "output_type": "display_data"
    },
    {
     "data": {
      "application/vnd.jupyter.widget-view+json": {
       "model_id": "1c0de89a60824129a1d0b9c25742586a",
       "version_major": 2,
       "version_minor": 0
      },
      "text/plain": [
       "eval batch:   0%|          | 0/32 [00:00<?, ?it/s]"
      ]
     },
     "metadata": {},
     "output_type": "display_data"
    },
    {
     "data": {
      "application/vnd.jupyter.widget-view+json": {
       "model_id": "647b8593372d48ffb96784457c924737",
       "version_major": 2,
       "version_minor": 0
      },
      "text/plain": [
       "training batch:   0%|          | 0/140 [00:00<?, ?it/s]"
      ]
     },
     "metadata": {},
     "output_type": "display_data"
    },
    {
     "data": {
      "application/vnd.jupyter.widget-view+json": {
       "model_id": "526be6c94db74b519f77a4ba085757ac",
       "version_major": 2,
       "version_minor": 0
      },
      "text/plain": [
       "eval batch:   0%|          | 0/32 [00:00<?, ?it/s]"
      ]
     },
     "metadata": {},
     "output_type": "display_data"
    },
    {
     "data": {
      "application/vnd.jupyter.widget-view+json": {
       "model_id": "bfe9c95bc68949bb8aed4d7eaa18331d",
       "version_major": 2,
       "version_minor": 0
      },
      "text/plain": [
       "training batch:   0%|          | 0/140 [00:00<?, ?it/s]"
      ]
     },
     "metadata": {},
     "output_type": "display_data"
    },
    {
     "data": {
      "application/vnd.jupyter.widget-view+json": {
       "model_id": "a4cfda8a1d85489f884caebd0286a5c8",
       "version_major": 2,
       "version_minor": 0
      },
      "text/plain": [
       "eval batch:   0%|          | 0/32 [00:00<?, ?it/s]"
      ]
     },
     "metadata": {},
     "output_type": "display_data"
    },
    {
     "data": {
      "application/vnd.jupyter.widget-view+json": {
       "model_id": "f2ba52b586d64615aca67991b2b98fb5",
       "version_major": 2,
       "version_minor": 0
      },
      "text/plain": [
       "training batch:   0%|          | 0/140 [00:00<?, ?it/s]"
      ]
     },
     "metadata": {},
     "output_type": "display_data"
    },
    {
     "data": {
      "application/vnd.jupyter.widget-view+json": {
       "model_id": "473b1881448b481f9e15e103f7de237e",
       "version_major": 2,
       "version_minor": 0
      },
      "text/plain": [
       "eval batch:   0%|          | 0/32 [00:00<?, ?it/s]"
      ]
     },
     "metadata": {},
     "output_type": "display_data"
    },
    {
     "data": {
      "application/vnd.jupyter.widget-view+json": {
       "model_id": "3c1a27dbeffe4821a5c4147a7e0caacd",
       "version_major": 2,
       "version_minor": 0
      },
      "text/plain": [
       "training batch:   0%|          | 0/140 [00:00<?, ?it/s]"
      ]
     },
     "metadata": {},
     "output_type": "display_data"
    },
    {
     "data": {
      "application/vnd.jupyter.widget-view+json": {
       "model_id": "ab1d1268b7a04946980f5eabc8ac7f90",
       "version_major": 2,
       "version_minor": 0
      },
      "text/plain": [
       "eval batch:   0%|          | 0/32 [00:00<?, ?it/s]"
      ]
     },
     "metadata": {},
     "output_type": "display_data"
    },
    {
     "data": {
      "application/vnd.jupyter.widget-view+json": {
       "model_id": "9698f8b7b754403d92ce6e0de03445ac",
       "version_major": 2,
       "version_minor": 0
      },
      "text/plain": [
       "training batch:   0%|          | 0/140 [00:00<?, ?it/s]"
      ]
     },
     "metadata": {},
     "output_type": "display_data"
    },
    {
     "data": {
      "application/vnd.jupyter.widget-view+json": {
       "model_id": "0cf31aeb26a449bf8f621efc6eb7079e",
       "version_major": 2,
       "version_minor": 0
      },
      "text/plain": [
       "eval batch:   0%|          | 0/32 [00:00<?, ?it/s]"
      ]
     },
     "metadata": {},
     "output_type": "display_data"
    },
    {
     "data": {
      "application/vnd.jupyter.widget-view+json": {
       "model_id": "884c643d1eb44fb19fd690d8c88c173f",
       "version_major": 2,
       "version_minor": 0
      },
      "text/plain": [
       "training batch:   0%|          | 0/140 [00:00<?, ?it/s]"
      ]
     },
     "metadata": {},
     "output_type": "display_data"
    },
    {
     "data": {
      "application/vnd.jupyter.widget-view+json": {
       "model_id": "2f750d6cf162469b8a07b8acc324f0fe",
       "version_major": 2,
       "version_minor": 0
      },
      "text/plain": [
       "eval batch:   0%|          | 0/32 [00:00<?, ?it/s]"
      ]
     },
     "metadata": {},
     "output_type": "display_data"
    },
    {
     "data": {
      "application/vnd.jupyter.widget-view+json": {
       "model_id": "92925140d6b24f4497c60bc47d4c257f",
       "version_major": 2,
       "version_minor": 0
      },
      "text/plain": [
       "training batch:   0%|          | 0/140 [00:00<?, ?it/s]"
      ]
     },
     "metadata": {},
     "output_type": "display_data"
    },
    {
     "data": {
      "application/vnd.jupyter.widget-view+json": {
       "model_id": "20e6dd12aceb496492b4cc7b45980453",
       "version_major": 2,
       "version_minor": 0
      },
      "text/plain": [
       "eval batch:   0%|          | 0/32 [00:00<?, ?it/s]"
      ]
     },
     "metadata": {},
     "output_type": "display_data"
    },
    {
     "data": {
      "application/vnd.jupyter.widget-view+json": {
       "model_id": "24dd0a4a9eee4782a500ca6eb08e547d",
       "version_major": 2,
       "version_minor": 0
      },
      "text/plain": [
       "training batch:   0%|          | 0/140 [00:00<?, ?it/s]"
      ]
     },
     "metadata": {},
     "output_type": "display_data"
    },
    {
     "data": {
      "application/vnd.jupyter.widget-view+json": {
       "model_id": "703128be91554c7087df585ff41c22ce",
       "version_major": 2,
       "version_minor": 0
      },
      "text/plain": [
       "eval batch:   0%|          | 0/32 [00:00<?, ?it/s]"
      ]
     },
     "metadata": {},
     "output_type": "display_data"
    },
    {
     "data": {
      "application/vnd.jupyter.widget-view+json": {
       "model_id": "723ed9f6e0114854a7e4f2a13f3c165a",
       "version_major": 2,
       "version_minor": 0
      },
      "text/plain": [
       "training batch:   0%|          | 0/140 [00:00<?, ?it/s]"
      ]
     },
     "metadata": {},
     "output_type": "display_data"
    },
    {
     "data": {
      "application/vnd.jupyter.widget-view+json": {
       "model_id": "15089944873f4d84b3ebbd4f5fb421cf",
       "version_major": 2,
       "version_minor": 0
      },
      "text/plain": [
       "eval batch:   0%|          | 0/32 [00:00<?, ?it/s]"
      ]
     },
     "metadata": {},
     "output_type": "display_data"
    },
    {
     "data": {
      "application/vnd.jupyter.widget-view+json": {
       "model_id": "c05880e9969c4914b82086fc670ff603",
       "version_major": 2,
       "version_minor": 0
      },
      "text/plain": [
       "training batch:   0%|          | 0/140 [00:00<?, ?it/s]"
      ]
     },
     "metadata": {},
     "output_type": "display_data"
    },
    {
     "data": {
      "application/vnd.jupyter.widget-view+json": {
       "model_id": "05b50e1cbc4c4243b40703858634421b",
       "version_major": 2,
       "version_minor": 0
      },
      "text/plain": [
       "eval batch:   0%|          | 0/32 [00:00<?, ?it/s]"
      ]
     },
     "metadata": {},
     "output_type": "display_data"
    },
    {
     "data": {
      "application/vnd.jupyter.widget-view+json": {
       "model_id": "92280b33da824ff1b722f82e9f2c3b04",
       "version_major": 2,
       "version_minor": 0
      },
      "text/plain": [
       "training batch:   0%|          | 0/140 [00:00<?, ?it/s]"
      ]
     },
     "metadata": {},
     "output_type": "display_data"
    },
    {
     "data": {
      "application/vnd.jupyter.widget-view+json": {
       "model_id": "ca262dadf8544decafc71af4a325b8ab",
       "version_major": 2,
       "version_minor": 0
      },
      "text/plain": [
       "eval batch:   0%|          | 0/32 [00:00<?, ?it/s]"
      ]
     },
     "metadata": {},
     "output_type": "display_data"
    },
    {
     "data": {
      "application/vnd.jupyter.widget-view+json": {
       "model_id": "51262d21d83849a999a6b978f88cde5c",
       "version_major": 2,
       "version_minor": 0
      },
      "text/plain": [
       "training batch:   0%|          | 0/140 [00:00<?, ?it/s]"
      ]
     },
     "metadata": {},
     "output_type": "display_data"
    },
    {
     "data": {
      "application/vnd.jupyter.widget-view+json": {
       "model_id": "02120fa376ac4348b35ab8c99e8398d2",
       "version_major": 2,
       "version_minor": 0
      },
      "text/plain": [
       "eval batch:   0%|          | 0/32 [00:00<?, ?it/s]"
      ]
     },
     "metadata": {},
     "output_type": "display_data"
    },
    {
     "data": {
      "application/vnd.jupyter.widget-view+json": {
       "model_id": "dc5d80b6d8664ff0b336b66f637f45ba",
       "version_major": 2,
       "version_minor": 0
      },
      "text/plain": [
       "training batch:   0%|          | 0/140 [00:00<?, ?it/s]"
      ]
     },
     "metadata": {},
     "output_type": "display_data"
    },
    {
     "data": {
      "application/vnd.jupyter.widget-view+json": {
       "model_id": "390a1ceaa0884872815122913e302a42",
       "version_major": 2,
       "version_minor": 0
      },
      "text/plain": [
       "eval batch:   0%|          | 0/32 [00:00<?, ?it/s]"
      ]
     },
     "metadata": {},
     "output_type": "display_data"
    },
    {
     "data": {
      "application/vnd.jupyter.widget-view+json": {
       "model_id": "7f887073f6d241cd8c31f0558158c614",
       "version_major": 2,
       "version_minor": 0
      },
      "text/plain": [
       "training batch:   0%|          | 0/140 [00:00<?, ?it/s]"
      ]
     },
     "metadata": {},
     "output_type": "display_data"
    },
    {
     "data": {
      "application/vnd.jupyter.widget-view+json": {
       "model_id": "1bf5ecc05bc44a95aac476e7bbf524e0",
       "version_major": 2,
       "version_minor": 0
      },
      "text/plain": [
       "eval batch:   0%|          | 0/32 [00:00<?, ?it/s]"
      ]
     },
     "metadata": {},
     "output_type": "display_data"
    },
    {
     "data": {
      "application/vnd.jupyter.widget-view+json": {
       "model_id": "6f4f4bc4e4014d57995cf08cc6e48a22",
       "version_major": 2,
       "version_minor": 0
      },
      "text/plain": [
       "training batch:   0%|          | 0/140 [00:00<?, ?it/s]"
      ]
     },
     "metadata": {},
     "output_type": "display_data"
    },
    {
     "data": {
      "application/vnd.jupyter.widget-view+json": {
       "model_id": "4e2620c2d2484312a05b919de0bc28f2",
       "version_major": 2,
       "version_minor": 0
      },
      "text/plain": [
       "eval batch:   0%|          | 0/32 [00:00<?, ?it/s]"
      ]
     },
     "metadata": {},
     "output_type": "display_data"
    },
    {
     "data": {
      "application/vnd.jupyter.widget-view+json": {
       "model_id": "074f9303823e476d9378690c50bfbdeb",
       "version_major": 2,
       "version_minor": 0
      },
      "text/plain": [
       "training batch:   0%|          | 0/140 [00:00<?, ?it/s]"
      ]
     },
     "metadata": {},
     "output_type": "display_data"
    },
    {
     "data": {
      "application/vnd.jupyter.widget-view+json": {
       "model_id": "aab93610113c4380b54056d7545317ad",
       "version_major": 2,
       "version_minor": 0
      },
      "text/plain": [
       "eval batch:   0%|          | 0/32 [00:00<?, ?it/s]"
      ]
     },
     "metadata": {},
     "output_type": "display_data"
    },
    {
     "data": {
      "application/vnd.jupyter.widget-view+json": {
       "model_id": "d0cfe319417941b6b2beb2476d0e979d",
       "version_major": 2,
       "version_minor": 0
      },
      "text/plain": [
       "training batch:   0%|          | 0/140 [00:00<?, ?it/s]"
      ]
     },
     "metadata": {},
     "output_type": "display_data"
    },
    {
     "data": {
      "application/vnd.jupyter.widget-view+json": {
       "model_id": "c45f34039cb5462ba70dcc1473f224be",
       "version_major": 2,
       "version_minor": 0
      },
      "text/plain": [
       "eval batch:   0%|          | 0/32 [00:00<?, ?it/s]"
      ]
     },
     "metadata": {},
     "output_type": "display_data"
    },
    {
     "data": {
      "application/vnd.jupyter.widget-view+json": {
       "model_id": "a30f20bc1a59455bb8f47fe1fc44f412",
       "version_major": 2,
       "version_minor": 0
      },
      "text/plain": [
       "training batch:   0%|          | 0/140 [00:00<?, ?it/s]"
      ]
     },
     "metadata": {},
     "output_type": "display_data"
    },
    {
     "data": {
      "application/vnd.jupyter.widget-view+json": {
       "model_id": "04ae6aa1b9ac47a693d6cb5a86718e7a",
       "version_major": 2,
       "version_minor": 0
      },
      "text/plain": [
       "eval batch:   0%|          | 0/32 [00:00<?, ?it/s]"
      ]
     },
     "metadata": {},
     "output_type": "display_data"
    },
    {
     "data": {
      "application/vnd.jupyter.widget-view+json": {
       "model_id": "d35302bbb0e74296881b64fd0caac898",
       "version_major": 2,
       "version_minor": 0
      },
      "text/plain": [
       "training batch:   0%|          | 0/140 [00:00<?, ?it/s]"
      ]
     },
     "metadata": {},
     "output_type": "display_data"
    },
    {
     "data": {
      "application/vnd.jupyter.widget-view+json": {
       "model_id": "179369c9383947fabb0e9ff4567e9975",
       "version_major": 2,
       "version_minor": 0
      },
      "text/plain": [
       "eval batch:   0%|          | 0/32 [00:00<?, ?it/s]"
      ]
     },
     "metadata": {},
     "output_type": "display_data"
    },
    {
     "data": {
      "application/vnd.jupyter.widget-view+json": {
       "model_id": "917f4699f58d4be09301056d7a00e286",
       "version_major": 2,
       "version_minor": 0
      },
      "text/plain": [
       "training batch:   0%|          | 0/140 [00:00<?, ?it/s]"
      ]
     },
     "metadata": {},
     "output_type": "display_data"
    },
    {
     "data": {
      "application/vnd.jupyter.widget-view+json": {
       "model_id": "18cc98c446bb4283af7106b8a06f3c7c",
       "version_major": 2,
       "version_minor": 0
      },
      "text/plain": [
       "eval batch:   0%|          | 0/32 [00:00<?, ?it/s]"
      ]
     },
     "metadata": {},
     "output_type": "display_data"
    },
    {
     "data": {
      "application/vnd.jupyter.widget-view+json": {
       "model_id": "27b2da4e4c5344ecbc5db81bf0ee1c48",
       "version_major": 2,
       "version_minor": 0
      },
      "text/plain": [
       "training batch:   0%|          | 0/140 [00:00<?, ?it/s]"
      ]
     },
     "metadata": {},
     "output_type": "display_data"
    },
    {
     "data": {
      "application/vnd.jupyter.widget-view+json": {
       "model_id": "dc3dfed33c144da2a52547d408bc807e",
       "version_major": 2,
       "version_minor": 0
      },
      "text/plain": [
       "eval batch:   0%|          | 0/32 [00:00<?, ?it/s]"
      ]
     },
     "metadata": {},
     "output_type": "display_data"
    },
    {
     "data": {
      "application/vnd.jupyter.widget-view+json": {
       "model_id": "60ebaee5b8164ea9b311667824d02362",
       "version_major": 2,
       "version_minor": 0
      },
      "text/plain": [
       "training batch:   0%|          | 0/140 [00:00<?, ?it/s]"
      ]
     },
     "metadata": {},
     "output_type": "display_data"
    },
    {
     "data": {
      "application/vnd.jupyter.widget-view+json": {
       "model_id": "57346bda4af14a34916d3e3fc8577285",
       "version_major": 2,
       "version_minor": 0
      },
      "text/plain": [
       "eval batch:   0%|          | 0/32 [00:00<?, ?it/s]"
      ]
     },
     "metadata": {},
     "output_type": "display_data"
    },
    {
     "data": {
      "application/vnd.jupyter.widget-view+json": {
       "model_id": "9cfd5cd404fc45c2aa3c48469c074ccc",
       "version_major": 2,
       "version_minor": 0
      },
      "text/plain": [
       "training batch:   0%|          | 0/140 [00:00<?, ?it/s]"
      ]
     },
     "metadata": {},
     "output_type": "display_data"
    },
    {
     "data": {
      "application/vnd.jupyter.widget-view+json": {
       "model_id": "e3ff713c94c2456d940becf3a92b10f2",
       "version_major": 2,
       "version_minor": 0
      },
      "text/plain": [
       "eval batch:   0%|          | 0/32 [00:00<?, ?it/s]"
      ]
     },
     "metadata": {},
     "output_type": "display_data"
    },
    {
     "data": {
      "application/vnd.jupyter.widget-view+json": {
       "model_id": "f1ca5cd8c13f440593ce2cf27e63603c",
       "version_major": 2,
       "version_minor": 0
      },
      "text/plain": [
       "training batch:   0%|          | 0/140 [00:00<?, ?it/s]"
      ]
     },
     "metadata": {},
     "output_type": "display_data"
    },
    {
     "data": {
      "application/vnd.jupyter.widget-view+json": {
       "model_id": "3e3f3b64933a42fcae9fbc4af296759b",
       "version_major": 2,
       "version_minor": 0
      },
      "text/plain": [
       "eval batch:   0%|          | 0/32 [00:00<?, ?it/s]"
      ]
     },
     "metadata": {},
     "output_type": "display_data"
    },
    {
     "data": {
      "application/vnd.jupyter.widget-view+json": {
       "model_id": "46e6b6c561564e47a7d31bf68af1335a",
       "version_major": 2,
       "version_minor": 0
      },
      "text/plain": [
       "training batch:   0%|          | 0/140 [00:00<?, ?it/s]"
      ]
     },
     "metadata": {},
     "output_type": "display_data"
    },
    {
     "data": {
      "application/vnd.jupyter.widget-view+json": {
       "model_id": "3906b17688d34fc89c3ec99b3637469f",
       "version_major": 2,
       "version_minor": 0
      },
      "text/plain": [
       "eval batch:   0%|          | 0/32 [00:00<?, ?it/s]"
      ]
     },
     "metadata": {},
     "output_type": "display_data"
    },
    {
     "data": {
      "application/vnd.jupyter.widget-view+json": {
       "model_id": "3f81f08bdc83408bab99073b62f53194",
       "version_major": 2,
       "version_minor": 0
      },
      "text/plain": [
       "training batch:   0%|          | 0/140 [00:00<?, ?it/s]"
      ]
     },
     "metadata": {},
     "output_type": "display_data"
    },
    {
     "data": {
      "application/vnd.jupyter.widget-view+json": {
       "model_id": "b5490b7734194e4c857051ef5460f6b9",
       "version_major": 2,
       "version_minor": 0
      },
      "text/plain": [
       "eval batch:   0%|          | 0/32 [00:00<?, ?it/s]"
      ]
     },
     "metadata": {},
     "output_type": "display_data"
    },
    {
     "data": {
      "application/vnd.jupyter.widget-view+json": {
       "model_id": "71b87727f9094d97a8be023a3f91c4fe",
       "version_major": 2,
       "version_minor": 0
      },
      "text/plain": [
       "training batch:   0%|          | 0/140 [00:00<?, ?it/s]"
      ]
     },
     "metadata": {},
     "output_type": "display_data"
    },
    {
     "data": {
      "application/vnd.jupyter.widget-view+json": {
       "model_id": "6e1ff6311f5440e684fba6ff09cc1c6e",
       "version_major": 2,
       "version_minor": 0
      },
      "text/plain": [
       "eval batch:   0%|          | 0/32 [00:00<?, ?it/s]"
      ]
     },
     "metadata": {},
     "output_type": "display_data"
    },
    {
     "data": {
      "application/vnd.jupyter.widget-view+json": {
       "model_id": "f764f38666384908ab89190f968c28e9",
       "version_major": 2,
       "version_minor": 0
      },
      "text/plain": [
       "training batch:   0%|          | 0/140 [00:00<?, ?it/s]"
      ]
     },
     "metadata": {},
     "output_type": "display_data"
    },
    {
     "data": {
      "application/vnd.jupyter.widget-view+json": {
       "model_id": "4829141adec64c8686bfbb92569829bc",
       "version_major": 2,
       "version_minor": 0
      },
      "text/plain": [
       "eval batch:   0%|          | 0/32 [00:00<?, ?it/s]"
      ]
     },
     "metadata": {},
     "output_type": "display_data"
    },
    {
     "data": {
      "application/vnd.jupyter.widget-view+json": {
       "model_id": "b62598d045524547b37fe5f86e4e6392",
       "version_major": 2,
       "version_minor": 0
      },
      "text/plain": [
       "training batch:   0%|          | 0/140 [00:00<?, ?it/s]"
      ]
     },
     "metadata": {},
     "output_type": "display_data"
    },
    {
     "data": {
      "application/vnd.jupyter.widget-view+json": {
       "model_id": "34fe51113f04408eaf6dd1aeec6db62a",
       "version_major": 2,
       "version_minor": 0
      },
      "text/plain": [
       "eval batch:   0%|          | 0/32 [00:00<?, ?it/s]"
      ]
     },
     "metadata": {},
     "output_type": "display_data"
    },
    {
     "data": {
      "application/vnd.jupyter.widget-view+json": {
       "model_id": "abd8d1f45d954675ba0111f81275fe93",
       "version_major": 2,
       "version_minor": 0
      },
      "text/plain": [
       "training batch:   0%|          | 0/140 [00:00<?, ?it/s]"
      ]
     },
     "metadata": {},
     "output_type": "display_data"
    },
    {
     "data": {
      "application/vnd.jupyter.widget-view+json": {
       "model_id": "09789d02558f469d941deba93c0521aa",
       "version_major": 2,
       "version_minor": 0
      },
      "text/plain": [
       "eval batch:   0%|          | 0/32 [00:00<?, ?it/s]"
      ]
     },
     "metadata": {},
     "output_type": "display_data"
    },
    {
     "data": {
      "application/vnd.jupyter.widget-view+json": {
       "model_id": "5648d3b55f08452bbccdab8d9006cc26",
       "version_major": 2,
       "version_minor": 0
      },
      "text/plain": [
       "training batch:   0%|          | 0/140 [00:00<?, ?it/s]"
      ]
     },
     "metadata": {},
     "output_type": "display_data"
    },
    {
     "data": {
      "application/vnd.jupyter.widget-view+json": {
       "model_id": "60eeeb66300845968d067c839e59bcb0",
       "version_major": 2,
       "version_minor": 0
      },
      "text/plain": [
       "eval batch:   0%|          | 0/32 [00:00<?, ?it/s]"
      ]
     },
     "metadata": {},
     "output_type": "display_data"
    },
    {
     "data": {
      "application/vnd.jupyter.widget-view+json": {
       "model_id": "c14659bf2ba448e0bbd99b77c9cad988",
       "version_major": 2,
       "version_minor": 0
      },
      "text/plain": [
       "training batch:   0%|          | 0/140 [00:00<?, ?it/s]"
      ]
     },
     "metadata": {},
     "output_type": "display_data"
    },
    {
     "data": {
      "application/vnd.jupyter.widget-view+json": {
       "model_id": "0d3c69b9a581481ab579be9a5d8c4d7e",
       "version_major": 2,
       "version_minor": 0
      },
      "text/plain": [
       "eval batch:   0%|          | 0/32 [00:00<?, ?it/s]"
      ]
     },
     "metadata": {},
     "output_type": "display_data"
    },
    {
     "data": {
      "application/vnd.jupyter.widget-view+json": {
       "model_id": "748cbaceb8494e95a694d2d9b239abe1",
       "version_major": 2,
       "version_minor": 0
      },
      "text/plain": [
       "training batch:   0%|          | 0/140 [00:00<?, ?it/s]"
      ]
     },
     "metadata": {},
     "output_type": "display_data"
    },
    {
     "data": {
      "application/vnd.jupyter.widget-view+json": {
       "model_id": "f82ee3e2bc6c482b8f20c3d4dbdd10e6",
       "version_major": 2,
       "version_minor": 0
      },
      "text/plain": [
       "eval batch:   0%|          | 0/32 [00:00<?, ?it/s]"
      ]
     },
     "metadata": {},
     "output_type": "display_data"
    },
    {
     "data": {
      "application/vnd.jupyter.widget-view+json": {
       "model_id": "25a201fdb20b4de2aa2393adcc5afe0e",
       "version_major": 2,
       "version_minor": 0
      },
      "text/plain": [
       "training batch:   0%|          | 0/140 [00:00<?, ?it/s]"
      ]
     },
     "metadata": {},
     "output_type": "display_data"
    },
    {
     "data": {
      "application/vnd.jupyter.widget-view+json": {
       "model_id": "49605806abd8488fbd647d3732016d8b",
       "version_major": 2,
       "version_minor": 0
      },
      "text/plain": [
       "eval batch:   0%|          | 0/32 [00:00<?, ?it/s]"
      ]
     },
     "metadata": {},
     "output_type": "display_data"
    },
    {
     "data": {
      "application/vnd.jupyter.widget-view+json": {
       "model_id": "14f942d3291343c2aae0a0cb3c58b408",
       "version_major": 2,
       "version_minor": 0
      },
      "text/plain": [
       "training batch:   0%|          | 0/140 [00:00<?, ?it/s]"
      ]
     },
     "metadata": {},
     "output_type": "display_data"
    },
    {
     "data": {
      "application/vnd.jupyter.widget-view+json": {
       "model_id": "3d9f17b84afd42bf963042f48ff396f6",
       "version_major": 2,
       "version_minor": 0
      },
      "text/plain": [
       "eval batch:   0%|          | 0/32 [00:00<?, ?it/s]"
      ]
     },
     "metadata": {},
     "output_type": "display_data"
    },
    {
     "data": {
      "application/vnd.jupyter.widget-view+json": {
       "model_id": "4c073be6cc94471ca553235a9354d6f7",
       "version_major": 2,
       "version_minor": 0
      },
      "text/plain": [
       "training batch:   0%|          | 0/140 [00:00<?, ?it/s]"
      ]
     },
     "metadata": {},
     "output_type": "display_data"
    },
    {
     "data": {
      "application/vnd.jupyter.widget-view+json": {
       "model_id": "02439e5e92e94e6aa26270caccdf75dd",
       "version_major": 2,
       "version_minor": 0
      },
      "text/plain": [
       "eval batch:   0%|          | 0/32 [00:00<?, ?it/s]"
      ]
     },
     "metadata": {},
     "output_type": "display_data"
    },
    {
     "data": {
      "application/vnd.jupyter.widget-view+json": {
       "model_id": "932aa1174c854be4aaf6121a70149f9b",
       "version_major": 2,
       "version_minor": 0
      },
      "text/plain": [
       "training batch:   0%|          | 0/140 [00:00<?, ?it/s]"
      ]
     },
     "metadata": {},
     "output_type": "display_data"
    },
    {
     "data": {
      "application/vnd.jupyter.widget-view+json": {
       "model_id": "dc361c008c12466385f71c600ebced1b",
       "version_major": 2,
       "version_minor": 0
      },
      "text/plain": [
       "eval batch:   0%|          | 0/32 [00:00<?, ?it/s]"
      ]
     },
     "metadata": {},
     "output_type": "display_data"
    },
    {
     "data": {
      "application/vnd.jupyter.widget-view+json": {
       "model_id": "157f4cdd8aea45868492b882280a5a04",
       "version_major": 2,
       "version_minor": 0
      },
      "text/plain": [
       "training batch:   0%|          | 0/140 [00:00<?, ?it/s]"
      ]
     },
     "metadata": {},
     "output_type": "display_data"
    },
    {
     "data": {
      "application/vnd.jupyter.widget-view+json": {
       "model_id": "e8391f0c347840a7991203f46ab5796e",
       "version_major": 2,
       "version_minor": 0
      },
      "text/plain": [
       "eval batch:   0%|          | 0/32 [00:00<?, ?it/s]"
      ]
     },
     "metadata": {},
     "output_type": "display_data"
    },
    {
     "data": {
      "application/vnd.jupyter.widget-view+json": {
       "model_id": "5355e291a75d40139bec9d189e466734",
       "version_major": 2,
       "version_minor": 0
      },
      "text/plain": [
       "training batch:   0%|          | 0/140 [00:00<?, ?it/s]"
      ]
     },
     "metadata": {},
     "output_type": "display_data"
    },
    {
     "data": {
      "application/vnd.jupyter.widget-view+json": {
       "model_id": "6830d0056dc24fe29c9881e07f5e563b",
       "version_major": 2,
       "version_minor": 0
      },
      "text/plain": [
       "eval batch:   0%|          | 0/32 [00:00<?, ?it/s]"
      ]
     },
     "metadata": {},
     "output_type": "display_data"
    },
    {
     "data": {
      "application/vnd.jupyter.widget-view+json": {
       "model_id": "3a4f7332082e4d06bf4a9b5467661ed1",
       "version_major": 2,
       "version_minor": 0
      },
      "text/plain": [
       "training batch:   0%|          | 0/140 [00:00<?, ?it/s]"
      ]
     },
     "metadata": {},
     "output_type": "display_data"
    },
    {
     "data": {
      "application/vnd.jupyter.widget-view+json": {
       "model_id": "2d56e077599744eba2ff809a76ed5efb",
       "version_major": 2,
       "version_minor": 0
      },
      "text/plain": [
       "eval batch:   0%|          | 0/32 [00:00<?, ?it/s]"
      ]
     },
     "metadata": {},
     "output_type": "display_data"
    },
    {
     "data": {
      "application/vnd.jupyter.widget-view+json": {
       "model_id": "6f3cbc5424294fb8b631e34a2b4767d2",
       "version_major": 2,
       "version_minor": 0
      },
      "text/plain": [
       "training batch:   0%|          | 0/140 [00:00<?, ?it/s]"
      ]
     },
     "metadata": {},
     "output_type": "display_data"
    },
    {
     "data": {
      "application/vnd.jupyter.widget-view+json": {
       "model_id": "5862dd9362ee4ee68f50bb6862dda405",
       "version_major": 2,
       "version_minor": 0
      },
      "text/plain": [
       "eval batch:   0%|          | 0/32 [00:00<?, ?it/s]"
      ]
     },
     "metadata": {},
     "output_type": "display_data"
    },
    {
     "data": {
      "application/vnd.jupyter.widget-view+json": {
       "model_id": "530628e2324644408bf9e9cc6f7879e6",
       "version_major": 2,
       "version_minor": 0
      },
      "text/plain": [
       "training batch:   0%|          | 0/140 [00:00<?, ?it/s]"
      ]
     },
     "metadata": {},
     "output_type": "display_data"
    },
    {
     "data": {
      "application/vnd.jupyter.widget-view+json": {
       "model_id": "e1e28790d97f40e2943dde75a11da377",
       "version_major": 2,
       "version_minor": 0
      },
      "text/plain": [
       "eval batch:   0%|          | 0/32 [00:00<?, ?it/s]"
      ]
     },
     "metadata": {},
     "output_type": "display_data"
    },
    {
     "data": {
      "application/vnd.jupyter.widget-view+json": {
       "model_id": "24e5dc1b377c4348877336c002668a41",
       "version_major": 2,
       "version_minor": 0
      },
      "text/plain": [
       "training batch:   0%|          | 0/140 [00:00<?, ?it/s]"
      ]
     },
     "metadata": {},
     "output_type": "display_data"
    },
    {
     "data": {
      "application/vnd.jupyter.widget-view+json": {
       "model_id": "12fcc8905e8c4394a408f1c83b9ee622",
       "version_major": 2,
       "version_minor": 0
      },
      "text/plain": [
       "eval batch:   0%|          | 0/32 [00:00<?, ?it/s]"
      ]
     },
     "metadata": {},
     "output_type": "display_data"
    },
    {
     "data": {
      "application/vnd.jupyter.widget-view+json": {
       "model_id": "03a54442b28347cf94c4df9d4a5fe5fc",
       "version_major": 2,
       "version_minor": 0
      },
      "text/plain": [
       "training batch:   0%|          | 0/140 [00:00<?, ?it/s]"
      ]
     },
     "metadata": {},
     "output_type": "display_data"
    },
    {
     "data": {
      "application/vnd.jupyter.widget-view+json": {
       "model_id": "25bb3feaace347c8a20361a69ad3f22f",
       "version_major": 2,
       "version_minor": 0
      },
      "text/plain": [
       "eval batch:   0%|          | 0/32 [00:00<?, ?it/s]"
      ]
     },
     "metadata": {},
     "output_type": "display_data"
    },
    {
     "data": {
      "application/vnd.jupyter.widget-view+json": {
       "model_id": "ee6069bfa46c4fe1a31583a207088143",
       "version_major": 2,
       "version_minor": 0
      },
      "text/plain": [
       "training batch:   0%|          | 0/140 [00:00<?, ?it/s]"
      ]
     },
     "metadata": {},
     "output_type": "display_data"
    },
    {
     "data": {
      "application/vnd.jupyter.widget-view+json": {
       "model_id": "b970eb1575dd489384d8afa8f0e59be5",
       "version_major": 2,
       "version_minor": 0
      },
      "text/plain": [
       "eval batch:   0%|          | 0/32 [00:00<?, ?it/s]"
      ]
     },
     "metadata": {},
     "output_type": "display_data"
    },
    {
     "data": {
      "application/vnd.jupyter.widget-view+json": {
       "model_id": "29496cc17fd647ca85eead54674945da",
       "version_major": 2,
       "version_minor": 0
      },
      "text/plain": [
       "training batch:   0%|          | 0/140 [00:00<?, ?it/s]"
      ]
     },
     "metadata": {},
     "output_type": "display_data"
    },
    {
     "data": {
      "application/vnd.jupyter.widget-view+json": {
       "model_id": "6113f9fc2bdf4c009b3723a7dd7aa6a7",
       "version_major": 2,
       "version_minor": 0
      },
      "text/plain": [
       "eval batch:   0%|          | 0/32 [00:00<?, ?it/s]"
      ]
     },
     "metadata": {},
     "output_type": "display_data"
    },
    {
     "data": {
      "application/vnd.jupyter.widget-view+json": {
       "model_id": "cac727cc3927440a9040f7908cf16546",
       "version_major": 2,
       "version_minor": 0
      },
      "text/plain": [
       "training batch:   0%|          | 0/140 [00:00<?, ?it/s]"
      ]
     },
     "metadata": {},
     "output_type": "display_data"
    },
    {
     "data": {
      "application/vnd.jupyter.widget-view+json": {
       "model_id": "eef5680ccd49414ba4e274b2477f96bc",
       "version_major": 2,
       "version_minor": 0
      },
      "text/plain": [
       "eval batch:   0%|          | 0/32 [00:00<?, ?it/s]"
      ]
     },
     "metadata": {},
     "output_type": "display_data"
    },
    {
     "data": {
      "application/vnd.jupyter.widget-view+json": {
       "model_id": "135ffa42c8fb449da8e5179219e42e98",
       "version_major": 2,
       "version_minor": 0
      },
      "text/plain": [
       "training batch:   0%|          | 0/140 [00:00<?, ?it/s]"
      ]
     },
     "metadata": {},
     "output_type": "display_data"
    },
    {
     "data": {
      "application/vnd.jupyter.widget-view+json": {
       "model_id": "3be56150eb2f47b79b21f1232b876a80",
       "version_major": 2,
       "version_minor": 0
      },
      "text/plain": [
       "eval batch:   0%|          | 0/32 [00:00<?, ?it/s]"
      ]
     },
     "metadata": {},
     "output_type": "display_data"
    },
    {
     "data": {
      "application/vnd.jupyter.widget-view+json": {
       "model_id": "b2be47a33b72444ab9661a69d92dedf4",
       "version_major": 2,
       "version_minor": 0
      },
      "text/plain": [
       "training batch:   0%|          | 0/140 [00:00<?, ?it/s]"
      ]
     },
     "metadata": {},
     "output_type": "display_data"
    },
    {
     "data": {
      "application/vnd.jupyter.widget-view+json": {
       "model_id": "834bcd01f2a64733aafb2e69d139bf3f",
       "version_major": 2,
       "version_minor": 0
      },
      "text/plain": [
       "eval batch:   0%|          | 0/32 [00:00<?, ?it/s]"
      ]
     },
     "metadata": {},
     "output_type": "display_data"
    },
    {
     "data": {
      "application/vnd.jupyter.widget-view+json": {
       "model_id": "8eaf999eba814832aaad93bb4d8c3322",
       "version_major": 2,
       "version_minor": 0
      },
      "text/plain": [
       "training batch:   0%|          | 0/140 [00:00<?, ?it/s]"
      ]
     },
     "metadata": {},
     "output_type": "display_data"
    },
    {
     "data": {
      "application/vnd.jupyter.widget-view+json": {
       "model_id": "2de0c5d8dfc14a078d7d9869658d2f37",
       "version_major": 2,
       "version_minor": 0
      },
      "text/plain": [
       "eval batch:   0%|          | 0/32 [00:00<?, ?it/s]"
      ]
     },
     "metadata": {},
     "output_type": "display_data"
    },
    {
     "data": {
      "application/vnd.jupyter.widget-view+json": {
       "model_id": "d8a84691a308493e91b1c4a51fe78c32",
       "version_major": 2,
       "version_minor": 0
      },
      "text/plain": [
       "training batch:   0%|          | 0/140 [00:00<?, ?it/s]"
      ]
     },
     "metadata": {},
     "output_type": "display_data"
    },
    {
     "data": {
      "application/vnd.jupyter.widget-view+json": {
       "model_id": "e6d1cbade5194612ac1359862c9fb113",
       "version_major": 2,
       "version_minor": 0
      },
      "text/plain": [
       "eval batch:   0%|          | 0/32 [00:00<?, ?it/s]"
      ]
     },
     "metadata": {},
     "output_type": "display_data"
    },
    {
     "data": {
      "application/vnd.jupyter.widget-view+json": {
       "model_id": "7ea9a414e8c140589d248cab887f2a5f",
       "version_major": 2,
       "version_minor": 0
      },
      "text/plain": [
       "training batch:   0%|          | 0/140 [00:00<?, ?it/s]"
      ]
     },
     "metadata": {},
     "output_type": "display_data"
    },
    {
     "data": {
      "application/vnd.jupyter.widget-view+json": {
       "model_id": "dce6779f91a345f2b87458790a1bde6e",
       "version_major": 2,
       "version_minor": 0
      },
      "text/plain": [
       "eval batch:   0%|          | 0/32 [00:00<?, ?it/s]"
      ]
     },
     "metadata": {},
     "output_type": "display_data"
    },
    {
     "data": {
      "application/vnd.jupyter.widget-view+json": {
       "model_id": "7e62e8bf472447c4bd9b3cb625b1c737",
       "version_major": 2,
       "version_minor": 0
      },
      "text/plain": [
       "training batch:   0%|          | 0/140 [00:00<?, ?it/s]"
      ]
     },
     "metadata": {},
     "output_type": "display_data"
    },
    {
     "data": {
      "application/vnd.jupyter.widget-view+json": {
       "model_id": "ed53de55cd25461fa77a1b0849d846d7",
       "version_major": 2,
       "version_minor": 0
      },
      "text/plain": [
       "eval batch:   0%|          | 0/32 [00:00<?, ?it/s]"
      ]
     },
     "metadata": {},
     "output_type": "display_data"
    },
    {
     "data": {
      "application/vnd.jupyter.widget-view+json": {
       "model_id": "a8ef29e0f3cc4d34958dfe1e9a1a8902",
       "version_major": 2,
       "version_minor": 0
      },
      "text/plain": [
       "training batch:   0%|          | 0/140 [00:00<?, ?it/s]"
      ]
     },
     "metadata": {},
     "output_type": "display_data"
    },
    {
     "data": {
      "application/vnd.jupyter.widget-view+json": {
       "model_id": "d60e6b201ebd4c6ab249d9b69a3dd190",
       "version_major": 2,
       "version_minor": 0
      },
      "text/plain": [
       "eval batch:   0%|          | 0/32 [00:00<?, ?it/s]"
      ]
     },
     "metadata": {},
     "output_type": "display_data"
    },
    {
     "data": {
      "application/vnd.jupyter.widget-view+json": {
       "model_id": "f0473100d9454f64939728ad3b9c3f9b",
       "version_major": 2,
       "version_minor": 0
      },
      "text/plain": [
       "training batch:   0%|          | 0/140 [00:00<?, ?it/s]"
      ]
     },
     "metadata": {},
     "output_type": "display_data"
    },
    {
     "data": {
      "application/vnd.jupyter.widget-view+json": {
       "model_id": "69c1a6650090438b85dab8115b47579c",
       "version_major": 2,
       "version_minor": 0
      },
      "text/plain": [
       "eval batch:   0%|          | 0/32 [00:00<?, ?it/s]"
      ]
     },
     "metadata": {},
     "output_type": "display_data"
    },
    {
     "data": {
      "application/vnd.jupyter.widget-view+json": {
       "model_id": "a817d0fdcefa4097a4807a21b9b1cfc4",
       "version_major": 2,
       "version_minor": 0
      },
      "text/plain": [
       "training batch:   0%|          | 0/140 [00:00<?, ?it/s]"
      ]
     },
     "metadata": {},
     "output_type": "display_data"
    },
    {
     "data": {
      "application/vnd.jupyter.widget-view+json": {
       "model_id": "dd35540f57704fb19e50f137e2a42492",
       "version_major": 2,
       "version_minor": 0
      },
      "text/plain": [
       "eval batch:   0%|          | 0/32 [00:00<?, ?it/s]"
      ]
     },
     "metadata": {},
     "output_type": "display_data"
    },
    {
     "data": {
      "application/vnd.jupyter.widget-view+json": {
       "model_id": "583d8edd1a1a4fc18d9dd03185c8e97c",
       "version_major": 2,
       "version_minor": 0
      },
      "text/plain": [
       "training batch:   0%|          | 0/140 [00:00<?, ?it/s]"
      ]
     },
     "metadata": {},
     "output_type": "display_data"
    },
    {
     "data": {
      "application/vnd.jupyter.widget-view+json": {
       "model_id": "38c97cda24bd4464a4c1f7f3ba3961d4",
       "version_major": 2,
       "version_minor": 0
      },
      "text/plain": [
       "eval batch:   0%|          | 0/32 [00:00<?, ?it/s]"
      ]
     },
     "metadata": {},
     "output_type": "display_data"
    },
    {
     "data": {
      "application/vnd.jupyter.widget-view+json": {
       "model_id": "9a863009edbb43eda244c6cdca5ebdce",
       "version_major": 2,
       "version_minor": 0
      },
      "text/plain": [
       "training batch:   0%|          | 0/140 [00:00<?, ?it/s]"
      ]
     },
     "metadata": {},
     "output_type": "display_data"
    },
    {
     "data": {
      "application/vnd.jupyter.widget-view+json": {
       "model_id": "3e6835f51d954506b849fd24d8966884",
       "version_major": 2,
       "version_minor": 0
      },
      "text/plain": [
       "eval batch:   0%|          | 0/32 [00:00<?, ?it/s]"
      ]
     },
     "metadata": {},
     "output_type": "display_data"
    },
    {
     "data": {
      "application/vnd.jupyter.widget-view+json": {
       "model_id": "0e585e149cce4755a7983671a4a0a71c",
       "version_major": 2,
       "version_minor": 0
      },
      "text/plain": [
       "training batch:   0%|          | 0/140 [00:00<?, ?it/s]"
      ]
     },
     "metadata": {},
     "output_type": "display_data"
    },
    {
     "data": {
      "application/vnd.jupyter.widget-view+json": {
       "model_id": "d379643a41d84c41b78c8b311455cf1f",
       "version_major": 2,
       "version_minor": 0
      },
      "text/plain": [
       "eval batch:   0%|          | 0/32 [00:00<?, ?it/s]"
      ]
     },
     "metadata": {},
     "output_type": "display_data"
    },
    {
     "data": {
      "application/vnd.jupyter.widget-view+json": {
       "model_id": "99d7a13e867b461aa7634f76a455af7a",
       "version_major": 2,
       "version_minor": 0
      },
      "text/plain": [
       "training batch:   0%|          | 0/140 [00:00<?, ?it/s]"
      ]
     },
     "metadata": {},
     "output_type": "display_data"
    },
    {
     "data": {
      "application/vnd.jupyter.widget-view+json": {
       "model_id": "5d7b67edf287453981d7ba7e788ab720",
       "version_major": 2,
       "version_minor": 0
      },
      "text/plain": [
       "eval batch:   0%|          | 0/32 [00:00<?, ?it/s]"
      ]
     },
     "metadata": {},
     "output_type": "display_data"
    },
    {
     "data": {
      "application/vnd.jupyter.widget-view+json": {
       "model_id": "802b332737114b969a0fbafd8f4e2fb6",
       "version_major": 2,
       "version_minor": 0
      },
      "text/plain": [
       "training batch:   0%|          | 0/140 [00:00<?, ?it/s]"
      ]
     },
     "metadata": {},
     "output_type": "display_data"
    },
    {
     "data": {
      "application/vnd.jupyter.widget-view+json": {
       "model_id": "29d6f5776efb4aa785f3d77014f084a2",
       "version_major": 2,
       "version_minor": 0
      },
      "text/plain": [
       "eval batch:   0%|          | 0/32 [00:00<?, ?it/s]"
      ]
     },
     "metadata": {},
     "output_type": "display_data"
    },
    {
     "data": {
      "application/vnd.jupyter.widget-view+json": {
       "model_id": "9847c47cd7084983b09ac1eaad2ac666",
       "version_major": 2,
       "version_minor": 0
      },
      "text/plain": [
       "training batch:   0%|          | 0/140 [00:00<?, ?it/s]"
      ]
     },
     "metadata": {},
     "output_type": "display_data"
    },
    {
     "data": {
      "application/vnd.jupyter.widget-view+json": {
       "model_id": "d19f0a6bd1ef48249338006e936dd8c5",
       "version_major": 2,
       "version_minor": 0
      },
      "text/plain": [
       "eval batch:   0%|          | 0/32 [00:00<?, ?it/s]"
      ]
     },
     "metadata": {},
     "output_type": "display_data"
    },
    {
     "data": {
      "application/vnd.jupyter.widget-view+json": {
       "model_id": "122aaa3af6424313be81cd1d1b424603",
       "version_major": 2,
       "version_minor": 0
      },
      "text/plain": [
       "training batch:   0%|          | 0/140 [00:00<?, ?it/s]"
      ]
     },
     "metadata": {},
     "output_type": "display_data"
    },
    {
     "data": {
      "application/vnd.jupyter.widget-view+json": {
       "model_id": "7d0203a54e5e41e995a1fcb72f0c7bb9",
       "version_major": 2,
       "version_minor": 0
      },
      "text/plain": [
       "eval batch:   0%|          | 0/32 [00:00<?, ?it/s]"
      ]
     },
     "metadata": {},
     "output_type": "display_data"
    },
    {
     "data": {
      "application/vnd.jupyter.widget-view+json": {
       "model_id": "1e431c0a91644e989763e59ad7a2477b",
       "version_major": 2,
       "version_minor": 0
      },
      "text/plain": [
       "training batch:   0%|          | 0/140 [00:00<?, ?it/s]"
      ]
     },
     "metadata": {},
     "output_type": "display_data"
    },
    {
     "data": {
      "application/vnd.jupyter.widget-view+json": {
       "model_id": "eb5cb637f3cd4e988ab4319473e6bc13",
       "version_major": 2,
       "version_minor": 0
      },
      "text/plain": [
       "eval batch:   0%|          | 0/32 [00:00<?, ?it/s]"
      ]
     },
     "metadata": {},
     "output_type": "display_data"
    },
    {
     "data": {
      "application/vnd.jupyter.widget-view+json": {
       "model_id": "1979e1b01f2d4d2da0e98d9e05929fe5",
       "version_major": 2,
       "version_minor": 0
      },
      "text/plain": [
       "training batch:   0%|          | 0/140 [00:00<?, ?it/s]"
      ]
     },
     "metadata": {},
     "output_type": "display_data"
    },
    {
     "data": {
      "application/vnd.jupyter.widget-view+json": {
       "model_id": "b1de42d3e7044f76ad018f891cb9585d",
       "version_major": 2,
       "version_minor": 0
      },
      "text/plain": [
       "eval batch:   0%|          | 0/32 [00:00<?, ?it/s]"
      ]
     },
     "metadata": {},
     "output_type": "display_data"
    },
    {
     "data": {
      "application/vnd.jupyter.widget-view+json": {
       "model_id": "0c3d2e1cc822418bb8fdfa5d25983630",
       "version_major": 2,
       "version_minor": 0
      },
      "text/plain": [
       "training batch:   0%|          | 0/140 [00:00<?, ?it/s]"
      ]
     },
     "metadata": {},
     "output_type": "display_data"
    },
    {
     "data": {
      "application/vnd.jupyter.widget-view+json": {
       "model_id": "fb3d30d09bf7426b85f219bac08e7e91",
       "version_major": 2,
       "version_minor": 0
      },
      "text/plain": [
       "eval batch:   0%|          | 0/32 [00:00<?, ?it/s]"
      ]
     },
     "metadata": {},
     "output_type": "display_data"
    },
    {
     "data": {
      "application/vnd.jupyter.widget-view+json": {
       "model_id": "66c38c302cc5491c884b22298ff6ef2a",
       "version_major": 2,
       "version_minor": 0
      },
      "text/plain": [
       "training batch:   0%|          | 0/140 [00:00<?, ?it/s]"
      ]
     },
     "metadata": {},
     "output_type": "display_data"
    },
    {
     "data": {
      "application/vnd.jupyter.widget-view+json": {
       "model_id": "9affa0a46d3c43809a1ea75b92db59ad",
       "version_major": 2,
       "version_minor": 0
      },
      "text/plain": [
       "eval batch:   0%|          | 0/32 [00:00<?, ?it/s]"
      ]
     },
     "metadata": {},
     "output_type": "display_data"
    },
    {
     "data": {
      "application/vnd.jupyter.widget-view+json": {
       "model_id": "3b17a4ac8ff0442c834d313f5061b5f9",
       "version_major": 2,
       "version_minor": 0
      },
      "text/plain": [
       "training batch:   0%|          | 0/140 [00:00<?, ?it/s]"
      ]
     },
     "metadata": {},
     "output_type": "display_data"
    },
    {
     "data": {
      "application/vnd.jupyter.widget-view+json": {
       "model_id": "090b067be10b4298b1e96a2327dcf301",
       "version_major": 2,
       "version_minor": 0
      },
      "text/plain": [
       "eval batch:   0%|          | 0/32 [00:00<?, ?it/s]"
      ]
     },
     "metadata": {},
     "output_type": "display_data"
    },
    {
     "data": {
      "application/vnd.jupyter.widget-view+json": {
       "model_id": "bad721697cfb4e6fba4d3a6726a18328",
       "version_major": 2,
       "version_minor": 0
      },
      "text/plain": [
       "training batch:   0%|          | 0/140 [00:00<?, ?it/s]"
      ]
     },
     "metadata": {},
     "output_type": "display_data"
    },
    {
     "data": {
      "application/vnd.jupyter.widget-view+json": {
       "model_id": "cc3dde73fbb94f59a9a7145cc35559e3",
       "version_major": 2,
       "version_minor": 0
      },
      "text/plain": [
       "eval batch:   0%|          | 0/32 [00:00<?, ?it/s]"
      ]
     },
     "metadata": {},
     "output_type": "display_data"
    },
    {
     "data": {
      "application/vnd.jupyter.widget-view+json": {
       "model_id": "b5fe7a97447743ec95cce30d286f1df0",
       "version_major": 2,
       "version_minor": 0
      },
      "text/plain": [
       "training batch:   0%|          | 0/140 [00:00<?, ?it/s]"
      ]
     },
     "metadata": {},
     "output_type": "display_data"
    },
    {
     "data": {
      "application/vnd.jupyter.widget-view+json": {
       "model_id": "de3bafe2e2d14bfc885f5b889add2c53",
       "version_major": 2,
       "version_minor": 0
      },
      "text/plain": [
       "eval batch:   0%|          | 0/32 [00:00<?, ?it/s]"
      ]
     },
     "metadata": {},
     "output_type": "display_data"
    },
    {
     "data": {
      "application/vnd.jupyter.widget-view+json": {
       "model_id": "679a543101764fddad03e3bee8c1c982",
       "version_major": 2,
       "version_minor": 0
      },
      "text/plain": [
       "training batch:   0%|          | 0/140 [00:00<?, ?it/s]"
      ]
     },
     "metadata": {},
     "output_type": "display_data"
    },
    {
     "data": {
      "application/vnd.jupyter.widget-view+json": {
       "model_id": "274b7c8b1aeb43aaa9246aaf5d31bd2f",
       "version_major": 2,
       "version_minor": 0
      },
      "text/plain": [
       "eval batch:   0%|          | 0/32 [00:00<?, ?it/s]"
      ]
     },
     "metadata": {},
     "output_type": "display_data"
    },
    {
     "data": {
      "application/vnd.jupyter.widget-view+json": {
       "model_id": "03a50b89c3ae4eddb8e0f4e1f22a9e0a",
       "version_major": 2,
       "version_minor": 0
      },
      "text/plain": [
       "training batch:   0%|          | 0/140 [00:00<?, ?it/s]"
      ]
     },
     "metadata": {},
     "output_type": "display_data"
    },
    {
     "data": {
      "application/vnd.jupyter.widget-view+json": {
       "model_id": "e31f2b88f71a4688b2b4a22c2fc300ed",
       "version_major": 2,
       "version_minor": 0
      },
      "text/plain": [
       "eval batch:   0%|          | 0/32 [00:00<?, ?it/s]"
      ]
     },
     "metadata": {},
     "output_type": "display_data"
    },
    {
     "data": {
      "application/vnd.jupyter.widget-view+json": {
       "model_id": "6b21dad4b4b445949f7e0ae0dcc432b0",
       "version_major": 2,
       "version_minor": 0
      },
      "text/plain": [
       "training batch:   0%|          | 0/140 [00:00<?, ?it/s]"
      ]
     },
     "metadata": {},
     "output_type": "display_data"
    },
    {
     "data": {
      "application/vnd.jupyter.widget-view+json": {
       "model_id": "8095707063b14c3ea5a38cc0efcf4513",
       "version_major": 2,
       "version_minor": 0
      },
      "text/plain": [
       "eval batch:   0%|          | 0/32 [00:00<?, ?it/s]"
      ]
     },
     "metadata": {},
     "output_type": "display_data"
    },
    {
     "data": {
      "application/vnd.jupyter.widget-view+json": {
       "model_id": "f41720c1d6b246ad9ba68b43104751ba",
       "version_major": 2,
       "version_minor": 0
      },
      "text/plain": [
       "training batch:   0%|          | 0/140 [00:00<?, ?it/s]"
      ]
     },
     "metadata": {},
     "output_type": "display_data"
    },
    {
     "data": {
      "application/vnd.jupyter.widget-view+json": {
       "model_id": "3a68d602f5814493866640c0db81c6ee",
       "version_major": 2,
       "version_minor": 0
      },
      "text/plain": [
       "eval batch:   0%|          | 0/32 [00:00<?, ?it/s]"
      ]
     },
     "metadata": {},
     "output_type": "display_data"
    },
    {
     "data": {
      "application/vnd.jupyter.widget-view+json": {
       "model_id": "56767f1dd831428cbb704959b0620f72",
       "version_major": 2,
       "version_minor": 0
      },
      "text/plain": [
       "training batch:   0%|          | 0/140 [00:00<?, ?it/s]"
      ]
     },
     "metadata": {},
     "output_type": "display_data"
    },
    {
     "data": {
      "application/vnd.jupyter.widget-view+json": {
       "model_id": "77d04f8475f74d189fde60d0ffb72479",
       "version_major": 2,
       "version_minor": 0
      },
      "text/plain": [
       "eval batch:   0%|          | 0/32 [00:00<?, ?it/s]"
      ]
     },
     "metadata": {},
     "output_type": "display_data"
    },
    {
     "data": {
      "application/vnd.jupyter.widget-view+json": {
       "model_id": "02ba2d2ea9c7436d97253b69d1d8aa55",
       "version_major": 2,
       "version_minor": 0
      },
      "text/plain": [
       "training batch:   0%|          | 0/140 [00:00<?, ?it/s]"
      ]
     },
     "metadata": {},
     "output_type": "display_data"
    },
    {
     "data": {
      "application/vnd.jupyter.widget-view+json": {
       "model_id": "20fe2ddb4ec04ad4a1f78b7de5019792",
       "version_major": 2,
       "version_minor": 0
      },
      "text/plain": [
       "eval batch:   0%|          | 0/32 [00:00<?, ?it/s]"
      ]
     },
     "metadata": {},
     "output_type": "display_data"
    },
    {
     "data": {
      "application/vnd.jupyter.widget-view+json": {
       "model_id": "4423336e143b4578b77107d6dd5c4d26",
       "version_major": 2,
       "version_minor": 0
      },
      "text/plain": [
       "training batch:   0%|          | 0/140 [00:00<?, ?it/s]"
      ]
     },
     "metadata": {},
     "output_type": "display_data"
    },
    {
     "data": {
      "application/vnd.jupyter.widget-view+json": {
       "model_id": "2fd2f775ee3643718c8c9dc509331f4f",
       "version_major": 2,
       "version_minor": 0
      },
      "text/plain": [
       "eval batch:   0%|          | 0/32 [00:00<?, ?it/s]"
      ]
     },
     "metadata": {},
     "output_type": "display_data"
    },
    {
     "data": {
      "application/vnd.jupyter.widget-view+json": {
       "model_id": "b75139c34bda49e7b713f12308c7667b",
       "version_major": 2,
       "version_minor": 0
      },
      "text/plain": [
       "training batch:   0%|          | 0/140 [00:00<?, ?it/s]"
      ]
     },
     "metadata": {},
     "output_type": "display_data"
    },
    {
     "data": {
      "application/vnd.jupyter.widget-view+json": {
       "model_id": "02eddbc845bc4c6aa289c52ca734aa39",
       "version_major": 2,
       "version_minor": 0
      },
      "text/plain": [
       "eval batch:   0%|          | 0/32 [00:00<?, ?it/s]"
      ]
     },
     "metadata": {},
     "output_type": "display_data"
    },
    {
     "data": {
      "application/vnd.jupyter.widget-view+json": {
       "model_id": "db0d4bbc55c24682987e9d13512605f9",
       "version_major": 2,
       "version_minor": 0
      },
      "text/plain": [
       "training batch:   0%|          | 0/140 [00:00<?, ?it/s]"
      ]
     },
     "metadata": {},
     "output_type": "display_data"
    },
    {
     "data": {
      "application/vnd.jupyter.widget-view+json": {
       "model_id": "b00c1368e2b643ea9bb67dd116361bff",
       "version_major": 2,
       "version_minor": 0
      },
      "text/plain": [
       "eval batch:   0%|          | 0/32 [00:00<?, ?it/s]"
      ]
     },
     "metadata": {},
     "output_type": "display_data"
    },
    {
     "data": {
      "application/vnd.jupyter.widget-view+json": {
       "model_id": "f0ad14635fe04bd48651403d70115cf3",
       "version_major": 2,
       "version_minor": 0
      },
      "text/plain": [
       "training batch:   0%|          | 0/140 [00:00<?, ?it/s]"
      ]
     },
     "metadata": {},
     "output_type": "display_data"
    },
    {
     "data": {
      "application/vnd.jupyter.widget-view+json": {
       "model_id": "1cccf383eef44a5487b64167c0992575",
       "version_major": 2,
       "version_minor": 0
      },
      "text/plain": [
       "eval batch:   0%|          | 0/32 [00:00<?, ?it/s]"
      ]
     },
     "metadata": {},
     "output_type": "display_data"
    },
    {
     "data": {
      "application/vnd.jupyter.widget-view+json": {
       "model_id": "b4d50517acf44bd5963149fb0e2cce56",
       "version_major": 2,
       "version_minor": 0
      },
      "text/plain": [
       "training batch:   0%|          | 0/140 [00:00<?, ?it/s]"
      ]
     },
     "metadata": {},
     "output_type": "display_data"
    },
    {
     "data": {
      "application/vnd.jupyter.widget-view+json": {
       "model_id": "cb0f149ffeba483593c96578ca958c43",
       "version_major": 2,
       "version_minor": 0
      },
      "text/plain": [
       "eval batch:   0%|          | 0/32 [00:00<?, ?it/s]"
      ]
     },
     "metadata": {},
     "output_type": "display_data"
    },
    {
     "data": {
      "application/vnd.jupyter.widget-view+json": {
       "model_id": "1d5f7db22a4f4b11821449eda0834716",
       "version_major": 2,
       "version_minor": 0
      },
      "text/plain": [
       "training batch:   0%|          | 0/140 [00:00<?, ?it/s]"
      ]
     },
     "metadata": {},
     "output_type": "display_data"
    },
    {
     "data": {
      "application/vnd.jupyter.widget-view+json": {
       "model_id": "3464ae3b6c514716a0daf8f996c0cf84",
       "version_major": 2,
       "version_minor": 0
      },
      "text/plain": [
       "eval batch:   0%|          | 0/32 [00:00<?, ?it/s]"
      ]
     },
     "metadata": {},
     "output_type": "display_data"
    },
    {
     "data": {
      "application/vnd.jupyter.widget-view+json": {
       "model_id": "cce29f950d534c79a590c802f5b67415",
       "version_major": 2,
       "version_minor": 0
      },
      "text/plain": [
       "training batch:   0%|          | 0/140 [00:00<?, ?it/s]"
      ]
     },
     "metadata": {},
     "output_type": "display_data"
    },
    {
     "data": {
      "application/vnd.jupyter.widget-view+json": {
       "model_id": "ce7852bffd224a839424e45ed5dd4a43",
       "version_major": 2,
       "version_minor": 0
      },
      "text/plain": [
       "eval batch:   0%|          | 0/32 [00:00<?, ?it/s]"
      ]
     },
     "metadata": {},
     "output_type": "display_data"
    },
    {
     "data": {
      "application/vnd.jupyter.widget-view+json": {
       "model_id": "eb33ec554f3544a3ac16cf83bd2c6237",
       "version_major": 2,
       "version_minor": 0
      },
      "text/plain": [
       "training batch:   0%|          | 0/140 [00:00<?, ?it/s]"
      ]
     },
     "metadata": {},
     "output_type": "display_data"
    },
    {
     "data": {
      "application/vnd.jupyter.widget-view+json": {
       "model_id": "ae71002cf1554c5a94378fc6d94ec495",
       "version_major": 2,
       "version_minor": 0
      },
      "text/plain": [
       "eval batch:   0%|          | 0/32 [00:00<?, ?it/s]"
      ]
     },
     "metadata": {},
     "output_type": "display_data"
    },
    {
     "data": {
      "application/vnd.jupyter.widget-view+json": {
       "model_id": "31997f788fb84a3c9458969b0cf98fc6",
       "version_major": 2,
       "version_minor": 0
      },
      "text/plain": [
       "training batch:   0%|          | 0/140 [00:00<?, ?it/s]"
      ]
     },
     "metadata": {},
     "output_type": "display_data"
    },
    {
     "data": {
      "application/vnd.jupyter.widget-view+json": {
       "model_id": "24fd2ddcc31147199a1ea59dfc7f3904",
       "version_major": 2,
       "version_minor": 0
      },
      "text/plain": [
       "eval batch:   0%|          | 0/32 [00:00<?, ?it/s]"
      ]
     },
     "metadata": {},
     "output_type": "display_data"
    },
    {
     "data": {
      "application/vnd.jupyter.widget-view+json": {
       "model_id": "d83df0f140174513a9cc86875e78c348",
       "version_major": 2,
       "version_minor": 0
      },
      "text/plain": [
       "training batch:   0%|          | 0/140 [00:00<?, ?it/s]"
      ]
     },
     "metadata": {},
     "output_type": "display_data"
    },
    {
     "data": {
      "application/vnd.jupyter.widget-view+json": {
       "model_id": "04b0cba2a81a4f50b869af32da66ec00",
       "version_major": 2,
       "version_minor": 0
      },
      "text/plain": [
       "eval batch:   0%|          | 0/32 [00:00<?, ?it/s]"
      ]
     },
     "metadata": {},
     "output_type": "display_data"
    },
    {
     "data": {
      "application/vnd.jupyter.widget-view+json": {
       "model_id": "6df1a4c035734de0afa9b36b0e26399b",
       "version_major": 2,
       "version_minor": 0
      },
      "text/plain": [
       "training batch:   0%|          | 0/140 [00:00<?, ?it/s]"
      ]
     },
     "metadata": {},
     "output_type": "display_data"
    },
    {
     "data": {
      "application/vnd.jupyter.widget-view+json": {
       "model_id": "dbc10755b01548dfa969af247af8f887",
       "version_major": 2,
       "version_minor": 0
      },
      "text/plain": [
       "eval batch:   0%|          | 0/32 [00:00<?, ?it/s]"
      ]
     },
     "metadata": {},
     "output_type": "display_data"
    },
    {
     "data": {
      "application/vnd.jupyter.widget-view+json": {
       "model_id": "67463182165b4e54a5c69bbf21a3fee2",
       "version_major": 2,
       "version_minor": 0
      },
      "text/plain": [
       "training batch:   0%|          | 0/140 [00:00<?, ?it/s]"
      ]
     },
     "metadata": {},
     "output_type": "display_data"
    },
    {
     "data": {
      "application/vnd.jupyter.widget-view+json": {
       "model_id": "74426e818f52418a8bbcccdd97f887d8",
       "version_major": 2,
       "version_minor": 0
      },
      "text/plain": [
       "eval batch:   0%|          | 0/32 [00:00<?, ?it/s]"
      ]
     },
     "metadata": {},
     "output_type": "display_data"
    },
    {
     "data": {
      "application/vnd.jupyter.widget-view+json": {
       "model_id": "370a64df2b5941e2b8e9d14e92c13c6d",
       "version_major": 2,
       "version_minor": 0
      },
      "text/plain": [
       "training batch:   0%|          | 0/140 [00:00<?, ?it/s]"
      ]
     },
     "metadata": {},
     "output_type": "display_data"
    },
    {
     "data": {
      "application/vnd.jupyter.widget-view+json": {
       "model_id": "d07f12f9e2974b85984dd6c6ca70ee92",
       "version_major": 2,
       "version_minor": 0
      },
      "text/plain": [
       "eval batch:   0%|          | 0/32 [00:00<?, ?it/s]"
      ]
     },
     "metadata": {},
     "output_type": "display_data"
    },
    {
     "data": {
      "application/vnd.jupyter.widget-view+json": {
       "model_id": "7bbc092586f9441ca055369944e05e1d",
       "version_major": 2,
       "version_minor": 0
      },
      "text/plain": [
       "training batch:   0%|          | 0/140 [00:00<?, ?it/s]"
      ]
     },
     "metadata": {},
     "output_type": "display_data"
    },
    {
     "data": {
      "application/vnd.jupyter.widget-view+json": {
       "model_id": "4ede5d949e14400583d7b84d85be7670",
       "version_major": 2,
       "version_minor": 0
      },
      "text/plain": [
       "eval batch:   0%|          | 0/32 [00:00<?, ?it/s]"
      ]
     },
     "metadata": {},
     "output_type": "display_data"
    },
    {
     "data": {
      "application/vnd.jupyter.widget-view+json": {
       "model_id": "bf341b7e07254356bc668f81b16cfbf4",
       "version_major": 2,
       "version_minor": 0
      },
      "text/plain": [
       "training batch:   0%|          | 0/140 [00:00<?, ?it/s]"
      ]
     },
     "metadata": {},
     "output_type": "display_data"
    },
    {
     "data": {
      "application/vnd.jupyter.widget-view+json": {
       "model_id": "8256757b5b23432e83bd37110c1e56f7",
       "version_major": 2,
       "version_minor": 0
      },
      "text/plain": [
       "eval batch:   0%|          | 0/32 [00:00<?, ?it/s]"
      ]
     },
     "metadata": {},
     "output_type": "display_data"
    },
    {
     "data": {
      "application/vnd.jupyter.widget-view+json": {
       "model_id": "e52bc83d1ffe4909b5b0956240dc4c70",
       "version_major": 2,
       "version_minor": 0
      },
      "text/plain": [
       "training batch:   0%|          | 0/140 [00:00<?, ?it/s]"
      ]
     },
     "metadata": {},
     "output_type": "display_data"
    },
    {
     "data": {
      "application/vnd.jupyter.widget-view+json": {
       "model_id": "a4970660d4644fe097b6d2ab85d1ff66",
       "version_major": 2,
       "version_minor": 0
      },
      "text/plain": [
       "eval batch:   0%|          | 0/32 [00:00<?, ?it/s]"
      ]
     },
     "metadata": {},
     "output_type": "display_data"
    },
    {
     "data": {
      "application/vnd.jupyter.widget-view+json": {
       "model_id": "6299c32462424da88e1b79c2d365fa60",
       "version_major": 2,
       "version_minor": 0
      },
      "text/plain": [
       "training batch:   0%|          | 0/140 [00:00<?, ?it/s]"
      ]
     },
     "metadata": {},
     "output_type": "display_data"
    },
    {
     "data": {
      "application/vnd.jupyter.widget-view+json": {
       "model_id": "a143184cee524a31867508d698fe008a",
       "version_major": 2,
       "version_minor": 0
      },
      "text/plain": [
       "eval batch:   0%|          | 0/32 [00:00<?, ?it/s]"
      ]
     },
     "metadata": {},
     "output_type": "display_data"
    },
    {
     "data": {
      "application/vnd.jupyter.widget-view+json": {
       "model_id": "e07f6272c4b9468ab0eb241f8a154e04",
       "version_major": 2,
       "version_minor": 0
      },
      "text/plain": [
       "training batch:   0%|          | 0/140 [00:00<?, ?it/s]"
      ]
     },
     "metadata": {},
     "output_type": "display_data"
    },
    {
     "data": {
      "application/vnd.jupyter.widget-view+json": {
       "model_id": "c8459cbc974b4f7a9872fdd69ae925f2",
       "version_major": 2,
       "version_minor": 0
      },
      "text/plain": [
       "eval batch:   0%|          | 0/32 [00:00<?, ?it/s]"
      ]
     },
     "metadata": {},
     "output_type": "display_data"
    },
    {
     "data": {
      "application/vnd.jupyter.widget-view+json": {
       "model_id": "180c8424b0294f288ec108e64a8fc717",
       "version_major": 2,
       "version_minor": 0
      },
      "text/plain": [
       "training batch:   0%|          | 0/140 [00:00<?, ?it/s]"
      ]
     },
     "metadata": {},
     "output_type": "display_data"
    },
    {
     "data": {
      "application/vnd.jupyter.widget-view+json": {
       "model_id": "6feb0230cf7a4b54a980645407af6a57",
       "version_major": 2,
       "version_minor": 0
      },
      "text/plain": [
       "eval batch:   0%|          | 0/32 [00:00<?, ?it/s]"
      ]
     },
     "metadata": {},
     "output_type": "display_data"
    },
    {
     "data": {
      "application/vnd.jupyter.widget-view+json": {
       "model_id": "8c910638b2cb42bba4a317dc7625c372",
       "version_major": 2,
       "version_minor": 0
      },
      "text/plain": [
       "training batch:   0%|          | 0/140 [00:00<?, ?it/s]"
      ]
     },
     "metadata": {},
     "output_type": "display_data"
    },
    {
     "data": {
      "application/vnd.jupyter.widget-view+json": {
       "model_id": "87d6a672f3714fda882a411e8097ae2a",
       "version_major": 2,
       "version_minor": 0
      },
      "text/plain": [
       "eval batch:   0%|          | 0/32 [00:00<?, ?it/s]"
      ]
     },
     "metadata": {},
     "output_type": "display_data"
    },
    {
     "data": {
      "application/vnd.jupyter.widget-view+json": {
       "model_id": "7cb1871de0ba480c8de360fa09dcf7dd",
       "version_major": 2,
       "version_minor": 0
      },
      "text/plain": [
       "training batch:   0%|          | 0/140 [00:00<?, ?it/s]"
      ]
     },
     "metadata": {},
     "output_type": "display_data"
    },
    {
     "data": {
      "application/vnd.jupyter.widget-view+json": {
       "model_id": "40f00963ffb94efa8f1dfd588a491dd6",
       "version_major": 2,
       "version_minor": 0
      },
      "text/plain": [
       "eval batch:   0%|          | 0/32 [00:00<?, ?it/s]"
      ]
     },
     "metadata": {},
     "output_type": "display_data"
    },
    {
     "data": {
      "application/vnd.jupyter.widget-view+json": {
       "model_id": "4330e112370e4e8b99b7596b1bffd9a2",
       "version_major": 2,
       "version_minor": 0
      },
      "text/plain": [
       "training batch:   0%|          | 0/140 [00:00<?, ?it/s]"
      ]
     },
     "metadata": {},
     "output_type": "display_data"
    },
    {
     "data": {
      "application/vnd.jupyter.widget-view+json": {
       "model_id": "7b8da52def9043b6bc820eaf0aea445d",
       "version_major": 2,
       "version_minor": 0
      },
      "text/plain": [
       "eval batch:   0%|          | 0/32 [00:00<?, ?it/s]"
      ]
     },
     "metadata": {},
     "output_type": "display_data"
    },
    {
     "data": {
      "application/vnd.jupyter.widget-view+json": {
       "model_id": "93bef69bfd3b4e438bc46cbcfad416ae",
       "version_major": 2,
       "version_minor": 0
      },
      "text/plain": [
       "training batch:   0%|          | 0/140 [00:00<?, ?it/s]"
      ]
     },
     "metadata": {},
     "output_type": "display_data"
    },
    {
     "data": {
      "application/vnd.jupyter.widget-view+json": {
       "model_id": "a7c3d823d578481692d77d6c38209e8e",
       "version_major": 2,
       "version_minor": 0
      },
      "text/plain": [
       "eval batch:   0%|          | 0/32 [00:00<?, ?it/s]"
      ]
     },
     "metadata": {},
     "output_type": "display_data"
    },
    {
     "data": {
      "application/vnd.jupyter.widget-view+json": {
       "model_id": "d9f174ffcd224e35a6d9df301ba49f40",
       "version_major": 2,
       "version_minor": 0
      },
      "text/plain": [
       "training batch:   0%|          | 0/140 [00:00<?, ?it/s]"
      ]
     },
     "metadata": {},
     "output_type": "display_data"
    },
    {
     "data": {
      "application/vnd.jupyter.widget-view+json": {
       "model_id": "306df950f12b479288ace273207cdc61",
       "version_major": 2,
       "version_minor": 0
      },
      "text/plain": [
       "eval batch:   0%|          | 0/32 [00:00<?, ?it/s]"
      ]
     },
     "metadata": {},
     "output_type": "display_data"
    },
    {
     "data": {
      "application/vnd.jupyter.widget-view+json": {
       "model_id": "3d2a25476b86483ea2001a3485aba514",
       "version_major": 2,
       "version_minor": 0
      },
      "text/plain": [
       "training batch:   0%|          | 0/140 [00:00<?, ?it/s]"
      ]
     },
     "metadata": {},
     "output_type": "display_data"
    },
    {
     "data": {
      "application/vnd.jupyter.widget-view+json": {
       "model_id": "2694e32059934c08a68d8434d25fe946",
       "version_major": 2,
       "version_minor": 0
      },
      "text/plain": [
       "eval batch:   0%|          | 0/32 [00:00<?, ?it/s]"
      ]
     },
     "metadata": {},
     "output_type": "display_data"
    },
    {
     "data": {
      "application/vnd.jupyter.widget-view+json": {
       "model_id": "ae0f77cf781b44b89c3292c3fcb71de0",
       "version_major": 2,
       "version_minor": 0
      },
      "text/plain": [
       "training batch:   0%|          | 0/140 [00:00<?, ?it/s]"
      ]
     },
     "metadata": {},
     "output_type": "display_data"
    },
    {
     "data": {
      "application/vnd.jupyter.widget-view+json": {
       "model_id": "6b03b4138d4c44ba86779e64bc13fd1b",
       "version_major": 2,
       "version_minor": 0
      },
      "text/plain": [
       "eval batch:   0%|          | 0/32 [00:00<?, ?it/s]"
      ]
     },
     "metadata": {},
     "output_type": "display_data"
    },
    {
     "data": {
      "application/vnd.jupyter.widget-view+json": {
       "model_id": "7e93ac13d5f64d7d927ad5fbedc5cdba",
       "version_major": 2,
       "version_minor": 0
      },
      "text/plain": [
       "training batch:   0%|          | 0/140 [00:00<?, ?it/s]"
      ]
     },
     "metadata": {},
     "output_type": "display_data"
    },
    {
     "data": {
      "application/vnd.jupyter.widget-view+json": {
       "model_id": "16580c98e75b42e692f2e44a62f81423",
       "version_major": 2,
       "version_minor": 0
      },
      "text/plain": [
       "eval batch:   0%|          | 0/32 [00:00<?, ?it/s]"
      ]
     },
     "metadata": {},
     "output_type": "display_data"
    },
    {
     "data": {
      "application/vnd.jupyter.widget-view+json": {
       "model_id": "09c677545b2841908b26023e2d37c70d",
       "version_major": 2,
       "version_minor": 0
      },
      "text/plain": [
       "training batch:   0%|          | 0/140 [00:00<?, ?it/s]"
      ]
     },
     "metadata": {},
     "output_type": "display_data"
    },
    {
     "data": {
      "application/vnd.jupyter.widget-view+json": {
       "model_id": "fdb438ac0e1e4e1b8144c1b69d0715c4",
       "version_major": 2,
       "version_minor": 0
      },
      "text/plain": [
       "eval batch:   0%|          | 0/32 [00:00<?, ?it/s]"
      ]
     },
     "metadata": {},
     "output_type": "display_data"
    },
    {
     "data": {
      "application/vnd.jupyter.widget-view+json": {
       "model_id": "bb8d233a44dd4e61bf9f8575bddf1bfe",
       "version_major": 2,
       "version_minor": 0
      },
      "text/plain": [
       "training batch:   0%|          | 0/140 [00:00<?, ?it/s]"
      ]
     },
     "metadata": {},
     "output_type": "display_data"
    },
    {
     "data": {
      "application/vnd.jupyter.widget-view+json": {
       "model_id": "f96b11a613f64a9baa3af4a7de0a3af0",
       "version_major": 2,
       "version_minor": 0
      },
      "text/plain": [
       "eval batch:   0%|          | 0/32 [00:00<?, ?it/s]"
      ]
     },
     "metadata": {},
     "output_type": "display_data"
    },
    {
     "data": {
      "application/vnd.jupyter.widget-view+json": {
       "model_id": "e4bd58225e9a46dfad174cbc41423479",
       "version_major": 2,
       "version_minor": 0
      },
      "text/plain": [
       "training batch:   0%|          | 0/140 [00:00<?, ?it/s]"
      ]
     },
     "metadata": {},
     "output_type": "display_data"
    },
    {
     "data": {
      "application/vnd.jupyter.widget-view+json": {
       "model_id": "3712d2a07ad742f68fe4e9ac018f86d5",
       "version_major": 2,
       "version_minor": 0
      },
      "text/plain": [
       "eval batch:   0%|          | 0/32 [00:00<?, ?it/s]"
      ]
     },
     "metadata": {},
     "output_type": "display_data"
    },
    {
     "data": {
      "application/vnd.jupyter.widget-view+json": {
       "model_id": "23d37ae9872542a4a683973147b14ad0",
       "version_major": 2,
       "version_minor": 0
      },
      "text/plain": [
       "training batch:   0%|          | 0/140 [00:00<?, ?it/s]"
      ]
     },
     "metadata": {},
     "output_type": "display_data"
    },
    {
     "data": {
      "application/vnd.jupyter.widget-view+json": {
       "model_id": "c72d9224a15149c9b91a39dea045d011",
       "version_major": 2,
       "version_minor": 0
      },
      "text/plain": [
       "eval batch:   0%|          | 0/32 [00:00<?, ?it/s]"
      ]
     },
     "metadata": {},
     "output_type": "display_data"
    },
    {
     "data": {
      "application/vnd.jupyter.widget-view+json": {
       "model_id": "4d390ee68fda4f3daae294088db7bbf5",
       "version_major": 2,
       "version_minor": 0
      },
      "text/plain": [
       "training batch:   0%|          | 0/140 [00:00<?, ?it/s]"
      ]
     },
     "metadata": {},
     "output_type": "display_data"
    },
    {
     "data": {
      "application/vnd.jupyter.widget-view+json": {
       "model_id": "ebbbf6fefb7d4cd0a203ee6a79c004f7",
       "version_major": 2,
       "version_minor": 0
      },
      "text/plain": [
       "eval batch:   0%|          | 0/32 [00:00<?, ?it/s]"
      ]
     },
     "metadata": {},
     "output_type": "display_data"
    },
    {
     "data": {
      "application/vnd.jupyter.widget-view+json": {
       "model_id": "458bed4ee17a4339a6228c5aa6c9c485",
       "version_major": 2,
       "version_minor": 0
      },
      "text/plain": [
       "training batch:   0%|          | 0/140 [00:00<?, ?it/s]"
      ]
     },
     "metadata": {},
     "output_type": "display_data"
    },
    {
     "data": {
      "application/vnd.jupyter.widget-view+json": {
       "model_id": "9fdf93d91ad24d369b0a0b16536907cc",
       "version_major": 2,
       "version_minor": 0
      },
      "text/plain": [
       "eval batch:   0%|          | 0/32 [00:00<?, ?it/s]"
      ]
     },
     "metadata": {},
     "output_type": "display_data"
    },
    {
     "data": {
      "application/vnd.jupyter.widget-view+json": {
       "model_id": "26bd7973d08b415f99465d00fcfdd823",
       "version_major": 2,
       "version_minor": 0
      },
      "text/plain": [
       "training batch:   0%|          | 0/140 [00:00<?, ?it/s]"
      ]
     },
     "metadata": {},
     "output_type": "display_data"
    },
    {
     "data": {
      "application/vnd.jupyter.widget-view+json": {
       "model_id": "af08358fa82f42e8b22642e2c7d6b8a9",
       "version_major": 2,
       "version_minor": 0
      },
      "text/plain": [
       "eval batch:   0%|          | 0/32 [00:00<?, ?it/s]"
      ]
     },
     "metadata": {},
     "output_type": "display_data"
    },
    {
     "data": {
      "application/vnd.jupyter.widget-view+json": {
       "model_id": "d0b054f61c2f458a956457938ab10ca7",
       "version_major": 2,
       "version_minor": 0
      },
      "text/plain": [
       "training batch:   0%|          | 0/140 [00:00<?, ?it/s]"
      ]
     },
     "metadata": {},
     "output_type": "display_data"
    },
    {
     "data": {
      "application/vnd.jupyter.widget-view+json": {
       "model_id": "8bc435d7fa9841c5ba556cf99d27e42c",
       "version_major": 2,
       "version_minor": 0
      },
      "text/plain": [
       "eval batch:   0%|          | 0/32 [00:00<?, ?it/s]"
      ]
     },
     "metadata": {},
     "output_type": "display_data"
    },
    {
     "data": {
      "application/vnd.jupyter.widget-view+json": {
       "model_id": "8beb80f590394b7ab6538c1a1c4a8dd0",
       "version_major": 2,
       "version_minor": 0
      },
      "text/plain": [
       "training batch:   0%|          | 0/140 [00:00<?, ?it/s]"
      ]
     },
     "metadata": {},
     "output_type": "display_data"
    },
    {
     "data": {
      "application/vnd.jupyter.widget-view+json": {
       "model_id": "8fb3eef8af3e4492a0eac0261afc8ff7",
       "version_major": 2,
       "version_minor": 0
      },
      "text/plain": [
       "eval batch:   0%|          | 0/32 [00:00<?, ?it/s]"
      ]
     },
     "metadata": {},
     "output_type": "display_data"
    },
    {
     "data": {
      "application/vnd.jupyter.widget-view+json": {
       "model_id": "5c99f86b619e46bd9ed1d1524db20d0e",
       "version_major": 2,
       "version_minor": 0
      },
      "text/plain": [
       "training batch:   0%|          | 0/140 [00:00<?, ?it/s]"
      ]
     },
     "metadata": {},
     "output_type": "display_data"
    },
    {
     "data": {
      "application/vnd.jupyter.widget-view+json": {
       "model_id": "4cd3dbdb7a1a4e8db0621af6a701eb55",
       "version_major": 2,
       "version_minor": 0
      },
      "text/plain": [
       "eval batch:   0%|          | 0/32 [00:00<?, ?it/s]"
      ]
     },
     "metadata": {},
     "output_type": "display_data"
    },
    {
     "data": {
      "application/vnd.jupyter.widget-view+json": {
       "model_id": "c98763fb343b4684880bd9a171ef5128",
       "version_major": 2,
       "version_minor": 0
      },
      "text/plain": [
       "training batch:   0%|          | 0/140 [00:00<?, ?it/s]"
      ]
     },
     "metadata": {},
     "output_type": "display_data"
    },
    {
     "data": {
      "application/vnd.jupyter.widget-view+json": {
       "model_id": "286a0a179a1d492fa30b1a9c18f3d55f",
       "version_major": 2,
       "version_minor": 0
      },
      "text/plain": [
       "eval batch:   0%|          | 0/32 [00:00<?, ?it/s]"
      ]
     },
     "metadata": {},
     "output_type": "display_data"
    },
    {
     "data": {
      "application/vnd.jupyter.widget-view+json": {
       "model_id": "c976fc7900d84964bcf69938d44ea389",
       "version_major": 2,
       "version_minor": 0
      },
      "text/plain": [
       "training batch:   0%|          | 0/140 [00:00<?, ?it/s]"
      ]
     },
     "metadata": {},
     "output_type": "display_data"
    },
    {
     "data": {
      "application/vnd.jupyter.widget-view+json": {
       "model_id": "846068c463554ba989ad640255aa8f4e",
       "version_major": 2,
       "version_minor": 0
      },
      "text/plain": [
       "eval batch:   0%|          | 0/32 [00:00<?, ?it/s]"
      ]
     },
     "metadata": {},
     "output_type": "display_data"
    },
    {
     "data": {
      "application/vnd.jupyter.widget-view+json": {
       "model_id": "54462814d1c545148a2c321b6e25e964",
       "version_major": 2,
       "version_minor": 0
      },
      "text/plain": [
       "training batch:   0%|          | 0/140 [00:00<?, ?it/s]"
      ]
     },
     "metadata": {},
     "output_type": "display_data"
    },
    {
     "data": {
      "application/vnd.jupyter.widget-view+json": {
       "model_id": "e43705e76311409ca093fba800d466c9",
       "version_major": 2,
       "version_minor": 0
      },
      "text/plain": [
       "eval batch:   0%|          | 0/32 [00:00<?, ?it/s]"
      ]
     },
     "metadata": {},
     "output_type": "display_data"
    },
    {
     "data": {
      "application/vnd.jupyter.widget-view+json": {
       "model_id": "683e7ebb395c4d319e120f97f74ac7be",
       "version_major": 2,
       "version_minor": 0
      },
      "text/plain": [
       "training batch:   0%|          | 0/140 [00:00<?, ?it/s]"
      ]
     },
     "metadata": {},
     "output_type": "display_data"
    },
    {
     "data": {
      "application/vnd.jupyter.widget-view+json": {
       "model_id": "e0741b911e96439abc9a013f70408489",
       "version_major": 2,
       "version_minor": 0
      },
      "text/plain": [
       "eval batch:   0%|          | 0/32 [00:00<?, ?it/s]"
      ]
     },
     "metadata": {},
     "output_type": "display_data"
    },
    {
     "data": {
      "application/vnd.jupyter.widget-view+json": {
       "model_id": "ba29b91e18ab426a9e48f08efd347b2c",
       "version_major": 2,
       "version_minor": 0
      },
      "text/plain": [
       "training batch:   0%|          | 0/140 [00:00<?, ?it/s]"
      ]
     },
     "metadata": {},
     "output_type": "display_data"
    },
    {
     "data": {
      "application/vnd.jupyter.widget-view+json": {
       "model_id": "ad6b95362a8043039491f034a1419a61",
       "version_major": 2,
       "version_minor": 0
      },
      "text/plain": [
       "eval batch:   0%|          | 0/32 [00:00<?, ?it/s]"
      ]
     },
     "metadata": {},
     "output_type": "display_data"
    },
    {
     "data": {
      "application/vnd.jupyter.widget-view+json": {
       "model_id": "e06d0dd2d1fe4e6ab100bd2b8019b4a5",
       "version_major": 2,
       "version_minor": 0
      },
      "text/plain": [
       "training batch:   0%|          | 0/140 [00:00<?, ?it/s]"
      ]
     },
     "metadata": {},
     "output_type": "display_data"
    },
    {
     "data": {
      "application/vnd.jupyter.widget-view+json": {
       "model_id": "db33077ec24f4d00946451f0d6175efb",
       "version_major": 2,
       "version_minor": 0
      },
      "text/plain": [
       "eval batch:   0%|          | 0/32 [00:00<?, ?it/s]"
      ]
     },
     "metadata": {},
     "output_type": "display_data"
    },
    {
     "data": {
      "application/vnd.jupyter.widget-view+json": {
       "model_id": "38cdd22de10b4489b5f830c20c55ff0b",
       "version_major": 2,
       "version_minor": 0
      },
      "text/plain": [
       "training batch:   0%|          | 0/140 [00:00<?, ?it/s]"
      ]
     },
     "metadata": {},
     "output_type": "display_data"
    },
    {
     "data": {
      "application/vnd.jupyter.widget-view+json": {
       "model_id": "7d8b5fe9a10b49d58f08c6ff15a5b0c7",
       "version_major": 2,
       "version_minor": 0
      },
      "text/plain": [
       "eval batch:   0%|          | 0/32 [00:00<?, ?it/s]"
      ]
     },
     "metadata": {},
     "output_type": "display_data"
    },
    {
     "data": {
      "application/vnd.jupyter.widget-view+json": {
       "model_id": "32051d2f4fad4ebfa6f07a97511a8521",
       "version_major": 2,
       "version_minor": 0
      },
      "text/plain": [
       "training batch:   0%|          | 0/140 [00:00<?, ?it/s]"
      ]
     },
     "metadata": {},
     "output_type": "display_data"
    },
    {
     "data": {
      "application/vnd.jupyter.widget-view+json": {
       "model_id": "a1b82ed7f42641fc8e9dff2c00b5fc6e",
       "version_major": 2,
       "version_minor": 0
      },
      "text/plain": [
       "eval batch:   0%|          | 0/32 [00:00<?, ?it/s]"
      ]
     },
     "metadata": {},
     "output_type": "display_data"
    },
    {
     "data": {
      "application/vnd.jupyter.widget-view+json": {
       "model_id": "c8e14d4927d84cf3a6bfc2123bbdc055",
       "version_major": 2,
       "version_minor": 0
      },
      "text/plain": [
       "training batch:   0%|          | 0/140 [00:00<?, ?it/s]"
      ]
     },
     "metadata": {},
     "output_type": "display_data"
    },
    {
     "data": {
      "application/vnd.jupyter.widget-view+json": {
       "model_id": "2cf7a3d4b3374c24b5c385662fa89c3f",
       "version_major": 2,
       "version_minor": 0
      },
      "text/plain": [
       "eval batch:   0%|          | 0/32 [00:00<?, ?it/s]"
      ]
     },
     "metadata": {},
     "output_type": "display_data"
    },
    {
     "data": {
      "application/vnd.jupyter.widget-view+json": {
       "model_id": "a98d98a6a7134db381611ca89a3f6ca2",
       "version_major": 2,
       "version_minor": 0
      },
      "text/plain": [
       "training batch:   0%|          | 0/140 [00:00<?, ?it/s]"
      ]
     },
     "metadata": {},
     "output_type": "display_data"
    },
    {
     "data": {
      "application/vnd.jupyter.widget-view+json": {
       "model_id": "ff511b5fa16445f09ed7684bbc66c61f",
       "version_major": 2,
       "version_minor": 0
      },
      "text/plain": [
       "eval batch:   0%|          | 0/32 [00:00<?, ?it/s]"
      ]
     },
     "metadata": {},
     "output_type": "display_data"
    },
    {
     "data": {
      "application/vnd.jupyter.widget-view+json": {
       "model_id": "99a573649282499a901c7ab67a54ee1b",
       "version_major": 2,
       "version_minor": 0
      },
      "text/plain": [
       "training batch:   0%|          | 0/140 [00:00<?, ?it/s]"
      ]
     },
     "metadata": {},
     "output_type": "display_data"
    },
    {
     "data": {
      "application/vnd.jupyter.widget-view+json": {
       "model_id": "62a2de5ba80c445a83d82ad199268210",
       "version_major": 2,
       "version_minor": 0
      },
      "text/plain": [
       "eval batch:   0%|          | 0/32 [00:00<?, ?it/s]"
      ]
     },
     "metadata": {},
     "output_type": "display_data"
    },
    {
     "data": {
      "application/vnd.jupyter.widget-view+json": {
       "model_id": "147435fe025e445e8ea826f3eaa08d91",
       "version_major": 2,
       "version_minor": 0
      },
      "text/plain": [
       "training batch:   0%|          | 0/140 [00:00<?, ?it/s]"
      ]
     },
     "metadata": {},
     "output_type": "display_data"
    },
    {
     "data": {
      "application/vnd.jupyter.widget-view+json": {
       "model_id": "5eea9adf08df423a942fa994d021df1f",
       "version_major": 2,
       "version_minor": 0
      },
      "text/plain": [
       "eval batch:   0%|          | 0/32 [00:00<?, ?it/s]"
      ]
     },
     "metadata": {},
     "output_type": "display_data"
    },
    {
     "data": {
      "application/vnd.jupyter.widget-view+json": {
       "model_id": "b2bd382a31bd4b61bb5c1d9c83c50123",
       "version_major": 2,
       "version_minor": 0
      },
      "text/plain": [
       "training batch:   0%|          | 0/140 [00:00<?, ?it/s]"
      ]
     },
     "metadata": {},
     "output_type": "display_data"
    },
    {
     "data": {
      "application/vnd.jupyter.widget-view+json": {
       "model_id": "fd89b97fb73943c7aa46d7bf8bfaacf7",
       "version_major": 2,
       "version_minor": 0
      },
      "text/plain": [
       "eval batch:   0%|          | 0/32 [00:00<?, ?it/s]"
      ]
     },
     "metadata": {},
     "output_type": "display_data"
    },
    {
     "data": {
      "application/vnd.jupyter.widget-view+json": {
       "model_id": "96018e2175d34f738fc67e23b8d6beeb",
       "version_major": 2,
       "version_minor": 0
      },
      "text/plain": [
       "training batch:   0%|          | 0/140 [00:00<?, ?it/s]"
      ]
     },
     "metadata": {},
     "output_type": "display_data"
    },
    {
     "data": {
      "application/vnd.jupyter.widget-view+json": {
       "model_id": "8dc65df6041441659e0bc778fad7610c",
       "version_major": 2,
       "version_minor": 0
      },
      "text/plain": [
       "eval batch:   0%|          | 0/32 [00:00<?, ?it/s]"
      ]
     },
     "metadata": {},
     "output_type": "display_data"
    },
    {
     "data": {
      "application/vnd.jupyter.widget-view+json": {
       "model_id": "38f47fc2032e4e9ea3518164d4b08f20",
       "version_major": 2,
       "version_minor": 0
      },
      "text/plain": [
       "training batch:   0%|          | 0/140 [00:00<?, ?it/s]"
      ]
     },
     "metadata": {},
     "output_type": "display_data"
    },
    {
     "data": {
      "application/vnd.jupyter.widget-view+json": {
       "model_id": "9d4a912ccd6c475bb2e70759de741a53",
       "version_major": 2,
       "version_minor": 0
      },
      "text/plain": [
       "eval batch:   0%|          | 0/32 [00:00<?, ?it/s]"
      ]
     },
     "metadata": {},
     "output_type": "display_data"
    },
    {
     "data": {
      "application/vnd.jupyter.widget-view+json": {
       "model_id": "d0629ef126de432aaff510bb73798efc",
       "version_major": 2,
       "version_minor": 0
      },
      "text/plain": [
       "training batch:   0%|          | 0/140 [00:00<?, ?it/s]"
      ]
     },
     "metadata": {},
     "output_type": "display_data"
    },
    {
     "data": {
      "application/vnd.jupyter.widget-view+json": {
       "model_id": "766a88ef08d6488bb0d036dcaea145b3",
       "version_major": 2,
       "version_minor": 0
      },
      "text/plain": [
       "eval batch:   0%|          | 0/32 [00:00<?, ?it/s]"
      ]
     },
     "metadata": {},
     "output_type": "display_data"
    },
    {
     "data": {
      "application/vnd.jupyter.widget-view+json": {
       "model_id": "4c3ef4a1fd73404dad3737959a7d8c2e",
       "version_major": 2,
       "version_minor": 0
      },
      "text/plain": [
       "training batch:   0%|          | 0/140 [00:00<?, ?it/s]"
      ]
     },
     "metadata": {},
     "output_type": "display_data"
    },
    {
     "data": {
      "application/vnd.jupyter.widget-view+json": {
       "model_id": "9b8b803126b848ff882deff2ff42899f",
       "version_major": 2,
       "version_minor": 0
      },
      "text/plain": [
       "eval batch:   0%|          | 0/32 [00:00<?, ?it/s]"
      ]
     },
     "metadata": {},
     "output_type": "display_data"
    },
    {
     "data": {
      "application/vnd.jupyter.widget-view+json": {
       "model_id": "a78ac4e2d0ec4c48a5789fecd78a7e93",
       "version_major": 2,
       "version_minor": 0
      },
      "text/plain": [
       "training batch:   0%|          | 0/140 [00:00<?, ?it/s]"
      ]
     },
     "metadata": {},
     "output_type": "display_data"
    },
    {
     "data": {
      "application/vnd.jupyter.widget-view+json": {
       "model_id": "9b7f6f68c4fe43f78069431bc46c76fb",
       "version_major": 2,
       "version_minor": 0
      },
      "text/plain": [
       "eval batch:   0%|          | 0/32 [00:00<?, ?it/s]"
      ]
     },
     "metadata": {},
     "output_type": "display_data"
    },
    {
     "data": {
      "application/vnd.jupyter.widget-view+json": {
       "model_id": "df1678867759403da4bd7e9c6ef95747",
       "version_major": 2,
       "version_minor": 0
      },
      "text/plain": [
       "training batch:   0%|          | 0/140 [00:00<?, ?it/s]"
      ]
     },
     "metadata": {},
     "output_type": "display_data"
    },
    {
     "data": {
      "application/vnd.jupyter.widget-view+json": {
       "model_id": "1aed789bfae64512b4a01fafe6bbc226",
       "version_major": 2,
       "version_minor": 0
      },
      "text/plain": [
       "eval batch:   0%|          | 0/32 [00:00<?, ?it/s]"
      ]
     },
     "metadata": {},
     "output_type": "display_data"
    },
    {
     "data": {
      "application/vnd.jupyter.widget-view+json": {
       "model_id": "5ec10c3354b84ba5b454a27a57e8a86d",
       "version_major": 2,
       "version_minor": 0
      },
      "text/plain": [
       "training batch:   0%|          | 0/140 [00:00<?, ?it/s]"
      ]
     },
     "metadata": {},
     "output_type": "display_data"
    },
    {
     "data": {
      "application/vnd.jupyter.widget-view+json": {
       "model_id": "488decc234124c9e8e7ce350204ee15a",
       "version_major": 2,
       "version_minor": 0
      },
      "text/plain": [
       "eval batch:   0%|          | 0/32 [00:00<?, ?it/s]"
      ]
     },
     "metadata": {},
     "output_type": "display_data"
    },
    {
     "data": {
      "application/vnd.jupyter.widget-view+json": {
       "model_id": "dbccdff27c2145459e0f9ca421464e97",
       "version_major": 2,
       "version_minor": 0
      },
      "text/plain": [
       "training batch:   0%|          | 0/140 [00:00<?, ?it/s]"
      ]
     },
     "metadata": {},
     "output_type": "display_data"
    },
    {
     "data": {
      "application/vnd.jupyter.widget-view+json": {
       "model_id": "366dccb0b1794d758425924693327084",
       "version_major": 2,
       "version_minor": 0
      },
      "text/plain": [
       "eval batch:   0%|          | 0/32 [00:00<?, ?it/s]"
      ]
     },
     "metadata": {},
     "output_type": "display_data"
    },
    {
     "data": {
      "application/vnd.jupyter.widget-view+json": {
       "model_id": "b74e444a018c4218a63e07908169ba89",
       "version_major": 2,
       "version_minor": 0
      },
      "text/plain": [
       "training batch:   0%|          | 0/140 [00:00<?, ?it/s]"
      ]
     },
     "metadata": {},
     "output_type": "display_data"
    },
    {
     "data": {
      "application/vnd.jupyter.widget-view+json": {
       "model_id": "ed849246daf54c28b0a18fbd832556a8",
       "version_major": 2,
       "version_minor": 0
      },
      "text/plain": [
       "eval batch:   0%|          | 0/32 [00:00<?, ?it/s]"
      ]
     },
     "metadata": {},
     "output_type": "display_data"
    },
    {
     "data": {
      "application/vnd.jupyter.widget-view+json": {
       "model_id": "5fcdf2a243e048e7944fcd5a7f0e2680",
       "version_major": 2,
       "version_minor": 0
      },
      "text/plain": [
       "training batch:   0%|          | 0/140 [00:00<?, ?it/s]"
      ]
     },
     "metadata": {},
     "output_type": "display_data"
    },
    {
     "data": {
      "application/vnd.jupyter.widget-view+json": {
       "model_id": "b7e32a018421447dace511210ec7b85d",
       "version_major": 2,
       "version_minor": 0
      },
      "text/plain": [
       "eval batch:   0%|          | 0/32 [00:00<?, ?it/s]"
      ]
     },
     "metadata": {},
     "output_type": "display_data"
    },
    {
     "data": {
      "application/vnd.jupyter.widget-view+json": {
       "model_id": "58e67d8c96cc42749e03b5155eae7331",
       "version_major": 2,
       "version_minor": 0
      },
      "text/plain": [
       "training batch:   0%|          | 0/140 [00:00<?, ?it/s]"
      ]
     },
     "metadata": {},
     "output_type": "display_data"
    },
    {
     "data": {
      "application/vnd.jupyter.widget-view+json": {
       "model_id": "bc93db656c884a58921c5badb1444c70",
       "version_major": 2,
       "version_minor": 0
      },
      "text/plain": [
       "eval batch:   0%|          | 0/32 [00:00<?, ?it/s]"
      ]
     },
     "metadata": {},
     "output_type": "display_data"
    },
    {
     "data": {
      "application/vnd.jupyter.widget-view+json": {
       "model_id": "10495fde6cfd41e694a289cccf7a24c2",
       "version_major": 2,
       "version_minor": 0
      },
      "text/plain": [
       "training batch:   0%|          | 0/140 [00:00<?, ?it/s]"
      ]
     },
     "metadata": {},
     "output_type": "display_data"
    },
    {
     "data": {
      "application/vnd.jupyter.widget-view+json": {
       "model_id": "e1af409331a24a15a7bfcd77524889c5",
       "version_major": 2,
       "version_minor": 0
      },
      "text/plain": [
       "eval batch:   0%|          | 0/32 [00:00<?, ?it/s]"
      ]
     },
     "metadata": {},
     "output_type": "display_data"
    },
    {
     "data": {
      "application/vnd.jupyter.widget-view+json": {
       "model_id": "1fcf1c451e0b4161a50c97ff5fad0c19",
       "version_major": 2,
       "version_minor": 0
      },
      "text/plain": [
       "training batch:   0%|          | 0/140 [00:00<?, ?it/s]"
      ]
     },
     "metadata": {},
     "output_type": "display_data"
    },
    {
     "data": {
      "application/vnd.jupyter.widget-view+json": {
       "model_id": "cec7142b586044cdbf8e0f0319dccef8",
       "version_major": 2,
       "version_minor": 0
      },
      "text/plain": [
       "eval batch:   0%|          | 0/32 [00:00<?, ?it/s]"
      ]
     },
     "metadata": {},
     "output_type": "display_data"
    },
    {
     "data": {
      "application/vnd.jupyter.widget-view+json": {
       "model_id": "ef18e1b69f4c424a879fbc3a79e93e03",
       "version_major": 2,
       "version_minor": 0
      },
      "text/plain": [
       "training batch:   0%|          | 0/140 [00:00<?, ?it/s]"
      ]
     },
     "metadata": {},
     "output_type": "display_data"
    },
    {
     "data": {
      "application/vnd.jupyter.widget-view+json": {
       "model_id": "a583355957c0416fb1aa98458197ad82",
       "version_major": 2,
       "version_minor": 0
      },
      "text/plain": [
       "eval batch:   0%|          | 0/32 [00:00<?, ?it/s]"
      ]
     },
     "metadata": {},
     "output_type": "display_data"
    },
    {
     "data": {
      "application/vnd.jupyter.widget-view+json": {
       "model_id": "1874cd803c59480da0f9223df2ce6886",
       "version_major": 2,
       "version_minor": 0
      },
      "text/plain": [
       "training batch:   0%|          | 0/140 [00:00<?, ?it/s]"
      ]
     },
     "metadata": {},
     "output_type": "display_data"
    },
    {
     "data": {
      "application/vnd.jupyter.widget-view+json": {
       "model_id": "1480b8d8c940490ebaaf11e536cacc5a",
       "version_major": 2,
       "version_minor": 0
      },
      "text/plain": [
       "eval batch:   0%|          | 0/32 [00:00<?, ?it/s]"
      ]
     },
     "metadata": {},
     "output_type": "display_data"
    },
    {
     "data": {
      "application/vnd.jupyter.widget-view+json": {
       "model_id": "68bf3102a6b748abac937f8ef2e50282",
       "version_major": 2,
       "version_minor": 0
      },
      "text/plain": [
       "training batch:   0%|          | 0/140 [00:00<?, ?it/s]"
      ]
     },
     "metadata": {},
     "output_type": "display_data"
    },
    {
     "data": {
      "application/vnd.jupyter.widget-view+json": {
       "model_id": "95c316bd4535438b8fd1dd1729143385",
       "version_major": 2,
       "version_minor": 0
      },
      "text/plain": [
       "eval batch:   0%|          | 0/32 [00:00<?, ?it/s]"
      ]
     },
     "metadata": {},
     "output_type": "display_data"
    },
    {
     "data": {
      "application/vnd.jupyter.widget-view+json": {
       "model_id": "efff4d55690a49659c23ddf975cbc2a0",
       "version_major": 2,
       "version_minor": 0
      },
      "text/plain": [
       "training batch:   0%|          | 0/140 [00:00<?, ?it/s]"
      ]
     },
     "metadata": {},
     "output_type": "display_data"
    },
    {
     "data": {
      "application/vnd.jupyter.widget-view+json": {
       "model_id": "3accae14704947b9ba1bbcd6e43d9459",
       "version_major": 2,
       "version_minor": 0
      },
      "text/plain": [
       "eval batch:   0%|          | 0/32 [00:00<?, ?it/s]"
      ]
     },
     "metadata": {},
     "output_type": "display_data"
    },
    {
     "data": {
      "application/vnd.jupyter.widget-view+json": {
       "model_id": "75da63a7049a49058de61013ccaba102",
       "version_major": 2,
       "version_minor": 0
      },
      "text/plain": [
       "training batch:   0%|          | 0/140 [00:00<?, ?it/s]"
      ]
     },
     "metadata": {},
     "output_type": "display_data"
    },
    {
     "data": {
      "application/vnd.jupyter.widget-view+json": {
       "model_id": "e8a8305c36564c3d96e446c7c4b32f77",
       "version_major": 2,
       "version_minor": 0
      },
      "text/plain": [
       "eval batch:   0%|          | 0/32 [00:00<?, ?it/s]"
      ]
     },
     "metadata": {},
     "output_type": "display_data"
    },
    {
     "data": {
      "application/vnd.jupyter.widget-view+json": {
       "model_id": "13d87f2e777b44b0bea5ada0109da1c7",
       "version_major": 2,
       "version_minor": 0
      },
      "text/plain": [
       "training batch:   0%|          | 0/140 [00:00<?, ?it/s]"
      ]
     },
     "metadata": {},
     "output_type": "display_data"
    },
    {
     "data": {
      "application/vnd.jupyter.widget-view+json": {
       "model_id": "626bfda5c24a4a30a5c1f7bd2647002e",
       "version_major": 2,
       "version_minor": 0
      },
      "text/plain": [
       "eval batch:   0%|          | 0/32 [00:00<?, ?it/s]"
      ]
     },
     "metadata": {},
     "output_type": "display_data"
    },
    {
     "data": {
      "application/vnd.jupyter.widget-view+json": {
       "model_id": "223066ceb8e1428aa906c56e536ce4dc",
       "version_major": 2,
       "version_minor": 0
      },
      "text/plain": [
       "training batch:   0%|          | 0/140 [00:00<?, ?it/s]"
      ]
     },
     "metadata": {},
     "output_type": "display_data"
    },
    {
     "data": {
      "application/vnd.jupyter.widget-view+json": {
       "model_id": "0223f55a944b4eafb4338788a94bea79",
       "version_major": 2,
       "version_minor": 0
      },
      "text/plain": [
       "eval batch:   0%|          | 0/32 [00:00<?, ?it/s]"
      ]
     },
     "metadata": {},
     "output_type": "display_data"
    },
    {
     "data": {
      "application/vnd.jupyter.widget-view+json": {
       "model_id": "171ce9d19c2f417b8e5f91c2ffa5a7eb",
       "version_major": 2,
       "version_minor": 0
      },
      "text/plain": [
       "training batch:   0%|          | 0/140 [00:00<?, ?it/s]"
      ]
     },
     "metadata": {},
     "output_type": "display_data"
    },
    {
     "data": {
      "application/vnd.jupyter.widget-view+json": {
       "model_id": "e35fddf70aa64dc7ad92d2d2533f2121",
       "version_major": 2,
       "version_minor": 0
      },
      "text/plain": [
       "eval batch:   0%|          | 0/32 [00:00<?, ?it/s]"
      ]
     },
     "metadata": {},
     "output_type": "display_data"
    },
    {
     "data": {
      "application/vnd.jupyter.widget-view+json": {
       "model_id": "012fdc6b80a74d75a24bcd2fabad2e6e",
       "version_major": 2,
       "version_minor": 0
      },
      "text/plain": [
       "training batch:   0%|          | 0/140 [00:00<?, ?it/s]"
      ]
     },
     "metadata": {},
     "output_type": "display_data"
    },
    {
     "data": {
      "application/vnd.jupyter.widget-view+json": {
       "model_id": "0135cf5a64904f84a1046d23961f5db5",
       "version_major": 2,
       "version_minor": 0
      },
      "text/plain": [
       "eval batch:   0%|          | 0/32 [00:00<?, ?it/s]"
      ]
     },
     "metadata": {},
     "output_type": "display_data"
    },
    {
     "data": {
      "application/vnd.jupyter.widget-view+json": {
       "model_id": "780734f958b940fd8bb31d2f5f8fcec2",
       "version_major": 2,
       "version_minor": 0
      },
      "text/plain": [
       "training batch:   0%|          | 0/140 [00:00<?, ?it/s]"
      ]
     },
     "metadata": {},
     "output_type": "display_data"
    },
    {
     "data": {
      "application/vnd.jupyter.widget-view+json": {
       "model_id": "b72a2c9d932843c18b5d5e6dfb4b9cee",
       "version_major": 2,
       "version_minor": 0
      },
      "text/plain": [
       "eval batch:   0%|          | 0/32 [00:00<?, ?it/s]"
      ]
     },
     "metadata": {},
     "output_type": "display_data"
    },
    {
     "data": {
      "application/vnd.jupyter.widget-view+json": {
       "model_id": "7672d42b7d9345a88e1fc09de290c4e3",
       "version_major": 2,
       "version_minor": 0
      },
      "text/plain": [
       "training batch:   0%|          | 0/140 [00:00<?, ?it/s]"
      ]
     },
     "metadata": {},
     "output_type": "display_data"
    },
    {
     "data": {
      "application/vnd.jupyter.widget-view+json": {
       "model_id": "ce8da8a05acf4e2291d27436eed3027e",
       "version_major": 2,
       "version_minor": 0
      },
      "text/plain": [
       "eval batch:   0%|          | 0/32 [00:00<?, ?it/s]"
      ]
     },
     "metadata": {},
     "output_type": "display_data"
    },
    {
     "data": {
      "application/vnd.jupyter.widget-view+json": {
       "model_id": "caf8ef90ba674b3eba0896d157403738",
       "version_major": 2,
       "version_minor": 0
      },
      "text/plain": [
       "training batch:   0%|          | 0/140 [00:00<?, ?it/s]"
      ]
     },
     "metadata": {},
     "output_type": "display_data"
    },
    {
     "data": {
      "application/vnd.jupyter.widget-view+json": {
       "model_id": "7520ddb8c2874ff795c239bcf237a7f5",
       "version_major": 2,
       "version_minor": 0
      },
      "text/plain": [
       "eval batch:   0%|          | 0/32 [00:00<?, ?it/s]"
      ]
     },
     "metadata": {},
     "output_type": "display_data"
    },
    {
     "data": {
      "application/vnd.jupyter.widget-view+json": {
       "model_id": "68dbe5e50ff04a9abd67473c1b5529f0",
       "version_major": 2,
       "version_minor": 0
      },
      "text/plain": [
       "training batch:   0%|          | 0/140 [00:00<?, ?it/s]"
      ]
     },
     "metadata": {},
     "output_type": "display_data"
    },
    {
     "data": {
      "application/vnd.jupyter.widget-view+json": {
       "model_id": "ea7f69e609a2481da417b9b84578169a",
       "version_major": 2,
       "version_minor": 0
      },
      "text/plain": [
       "eval batch:   0%|          | 0/32 [00:00<?, ?it/s]"
      ]
     },
     "metadata": {},
     "output_type": "display_data"
    },
    {
     "data": {
      "application/vnd.jupyter.widget-view+json": {
       "model_id": "3be53de3db88460480dadc8779400d7b",
       "version_major": 2,
       "version_minor": 0
      },
      "text/plain": [
       "training batch:   0%|          | 0/140 [00:00<?, ?it/s]"
      ]
     },
     "metadata": {},
     "output_type": "display_data"
    },
    {
     "data": {
      "application/vnd.jupyter.widget-view+json": {
       "model_id": "e0ade9ab1f9b4c859209c3c8446e0e09",
       "version_major": 2,
       "version_minor": 0
      },
      "text/plain": [
       "eval batch:   0%|          | 0/32 [00:00<?, ?it/s]"
      ]
     },
     "metadata": {},
     "output_type": "display_data"
    },
    {
     "data": {
      "application/vnd.jupyter.widget-view+json": {
       "model_id": "d51f41903da34c5684d029ddf4c5b825",
       "version_major": 2,
       "version_minor": 0
      },
      "text/plain": [
       "training batch:   0%|          | 0/140 [00:00<?, ?it/s]"
      ]
     },
     "metadata": {},
     "output_type": "display_data"
    },
    {
     "data": {
      "application/vnd.jupyter.widget-view+json": {
       "model_id": "ed74537bf6154482952e0dd02a4fbbc2",
       "version_major": 2,
       "version_minor": 0
      },
      "text/plain": [
       "eval batch:   0%|          | 0/32 [00:00<?, ?it/s]"
      ]
     },
     "metadata": {},
     "output_type": "display_data"
    },
    {
     "data": {
      "application/vnd.jupyter.widget-view+json": {
       "model_id": "725e4ec5be834be2915690f43a842348",
       "version_major": 2,
       "version_minor": 0
      },
      "text/plain": [
       "training batch:   0%|          | 0/140 [00:00<?, ?it/s]"
      ]
     },
     "metadata": {},
     "output_type": "display_data"
    },
    {
     "data": {
      "application/vnd.jupyter.widget-view+json": {
       "model_id": "67dc5a6684014ef580b54b2b6e22ad9e",
       "version_major": 2,
       "version_minor": 0
      },
      "text/plain": [
       "eval batch:   0%|          | 0/32 [00:00<?, ?it/s]"
      ]
     },
     "metadata": {},
     "output_type": "display_data"
    },
    {
     "data": {
      "application/vnd.jupyter.widget-view+json": {
       "model_id": "ae7d070bd55542acb5781e6a17735ed4",
       "version_major": 2,
       "version_minor": 0
      },
      "text/plain": [
       "training batch:   0%|          | 0/140 [00:00<?, ?it/s]"
      ]
     },
     "metadata": {},
     "output_type": "display_data"
    },
    {
     "data": {
      "application/vnd.jupyter.widget-view+json": {
       "model_id": "cc37bf41fdca406ca7c58335b242e771",
       "version_major": 2,
       "version_minor": 0
      },
      "text/plain": [
       "eval batch:   0%|          | 0/32 [00:00<?, ?it/s]"
      ]
     },
     "metadata": {},
     "output_type": "display_data"
    },
    {
     "data": {
      "application/vnd.jupyter.widget-view+json": {
       "model_id": "3403873295a842138a91c66005799ba6",
       "version_major": 2,
       "version_minor": 0
      },
      "text/plain": [
       "training batch:   0%|          | 0/140 [00:00<?, ?it/s]"
      ]
     },
     "metadata": {},
     "output_type": "display_data"
    },
    {
     "data": {
      "application/vnd.jupyter.widget-view+json": {
       "model_id": "f43a8674da844f969620ddaf6a70b602",
       "version_major": 2,
       "version_minor": 0
      },
      "text/plain": [
       "eval batch:   0%|          | 0/32 [00:00<?, ?it/s]"
      ]
     },
     "metadata": {},
     "output_type": "display_data"
    },
    {
     "data": {
      "application/vnd.jupyter.widget-view+json": {
       "model_id": "59aaf5020c004445bcc2dbfb9953224a",
       "version_major": 2,
       "version_minor": 0
      },
      "text/plain": [
       "training batch:   0%|          | 0/140 [00:00<?, ?it/s]"
      ]
     },
     "metadata": {},
     "output_type": "display_data"
    },
    {
     "data": {
      "application/vnd.jupyter.widget-view+json": {
       "model_id": "7a1d4ca727c54e5a948801e8b037086c",
       "version_major": 2,
       "version_minor": 0
      },
      "text/plain": [
       "eval batch:   0%|          | 0/32 [00:00<?, ?it/s]"
      ]
     },
     "metadata": {},
     "output_type": "display_data"
    },
    {
     "data": {
      "application/vnd.jupyter.widget-view+json": {
       "model_id": "760afa0e6b134fd380fe4e93297f6eb5",
       "version_major": 2,
       "version_minor": 0
      },
      "text/plain": [
       "training batch:   0%|          | 0/140 [00:00<?, ?it/s]"
      ]
     },
     "metadata": {},
     "output_type": "display_data"
    },
    {
     "data": {
      "application/vnd.jupyter.widget-view+json": {
       "model_id": "588a7f8d9c474407a1f07220aeb5b0d4",
       "version_major": 2,
       "version_minor": 0
      },
      "text/plain": [
       "eval batch:   0%|          | 0/32 [00:00<?, ?it/s]"
      ]
     },
     "metadata": {},
     "output_type": "display_data"
    },
    {
     "data": {
      "application/vnd.jupyter.widget-view+json": {
       "model_id": "b41e2faa249c4a3391bff4a4e00613aa",
       "version_major": 2,
       "version_minor": 0
      },
      "text/plain": [
       "training batch:   0%|          | 0/140 [00:00<?, ?it/s]"
      ]
     },
     "metadata": {},
     "output_type": "display_data"
    },
    {
     "data": {
      "application/vnd.jupyter.widget-view+json": {
       "model_id": "37187456696f46aba76c007ac6be6f7a",
       "version_major": 2,
       "version_minor": 0
      },
      "text/plain": [
       "eval batch:   0%|          | 0/32 [00:00<?, ?it/s]"
      ]
     },
     "metadata": {},
     "output_type": "display_data"
    },
    {
     "data": {
      "application/vnd.jupyter.widget-view+json": {
       "model_id": "3a48016d02ef4496b6e4706bc504a89a",
       "version_major": 2,
       "version_minor": 0
      },
      "text/plain": [
       "training batch:   0%|          | 0/140 [00:00<?, ?it/s]"
      ]
     },
     "metadata": {},
     "output_type": "display_data"
    },
    {
     "data": {
      "application/vnd.jupyter.widget-view+json": {
       "model_id": "b8706c62d336471cb6095c344d95f3c2",
       "version_major": 2,
       "version_minor": 0
      },
      "text/plain": [
       "eval batch:   0%|          | 0/32 [00:00<?, ?it/s]"
      ]
     },
     "metadata": {},
     "output_type": "display_data"
    },
    {
     "data": {
      "application/vnd.jupyter.widget-view+json": {
       "model_id": "022763c734e24951bb9a2374122c087a",
       "version_major": 2,
       "version_minor": 0
      },
      "text/plain": [
       "training batch:   0%|          | 0/140 [00:00<?, ?it/s]"
      ]
     },
     "metadata": {},
     "output_type": "display_data"
    },
    {
     "data": {
      "application/vnd.jupyter.widget-view+json": {
       "model_id": "47ad75f3d97b47799f09d140542916de",
       "version_major": 2,
       "version_minor": 0
      },
      "text/plain": [
       "eval batch:   0%|          | 0/32 [00:00<?, ?it/s]"
      ]
     },
     "metadata": {},
     "output_type": "display_data"
    },
    {
     "data": {
      "application/vnd.jupyter.widget-view+json": {
       "model_id": "3968d03c800b429faa2b05fdfb0d64db",
       "version_major": 2,
       "version_minor": 0
      },
      "text/plain": [
       "training batch:   0%|          | 0/140 [00:00<?, ?it/s]"
      ]
     },
     "metadata": {},
     "output_type": "display_data"
    },
    {
     "data": {
      "application/vnd.jupyter.widget-view+json": {
       "model_id": "24a046175dec4cf9bb3ebdd192c2b65b",
       "version_major": 2,
       "version_minor": 0
      },
      "text/plain": [
       "eval batch:   0%|          | 0/32 [00:00<?, ?it/s]"
      ]
     },
     "metadata": {},
     "output_type": "display_data"
    },
    {
     "data": {
      "application/vnd.jupyter.widget-view+json": {
       "model_id": "89e9ed54101144a9a6c9fb1ace05a0b7",
       "version_major": 2,
       "version_minor": 0
      },
      "text/plain": [
       "training batch:   0%|          | 0/140 [00:00<?, ?it/s]"
      ]
     },
     "metadata": {},
     "output_type": "display_data"
    },
    {
     "data": {
      "application/vnd.jupyter.widget-view+json": {
       "model_id": "0668ff10834446bcac5bc4ad3569f1a2",
       "version_major": 2,
       "version_minor": 0
      },
      "text/plain": [
       "eval batch:   0%|          | 0/32 [00:00<?, ?it/s]"
      ]
     },
     "metadata": {},
     "output_type": "display_data"
    },
    {
     "data": {
      "application/vnd.jupyter.widget-view+json": {
       "model_id": "51ecbb6a797d4f188b18236ba66c3c3b",
       "version_major": 2,
       "version_minor": 0
      },
      "text/plain": [
       "training batch:   0%|          | 0/140 [00:00<?, ?it/s]"
      ]
     },
     "metadata": {},
     "output_type": "display_data"
    },
    {
     "data": {
      "application/vnd.jupyter.widget-view+json": {
       "model_id": "e6d012e407104beb94a421ffde7ad6c0",
       "version_major": 2,
       "version_minor": 0
      },
      "text/plain": [
       "eval batch:   0%|          | 0/32 [00:00<?, ?it/s]"
      ]
     },
     "metadata": {},
     "output_type": "display_data"
    },
    {
     "data": {
      "application/vnd.jupyter.widget-view+json": {
       "model_id": "68b5cdcd32c44f9abc6bdd62ea51b64b",
       "version_major": 2,
       "version_minor": 0
      },
      "text/plain": [
       "training batch:   0%|          | 0/140 [00:00<?, ?it/s]"
      ]
     },
     "metadata": {},
     "output_type": "display_data"
    },
    {
     "data": {
      "application/vnd.jupyter.widget-view+json": {
       "model_id": "d33ebcd136f342bea77da71692b0bfd7",
       "version_major": 2,
       "version_minor": 0
      },
      "text/plain": [
       "eval batch:   0%|          | 0/32 [00:00<?, ?it/s]"
      ]
     },
     "metadata": {},
     "output_type": "display_data"
    },
    {
     "data": {
      "application/vnd.jupyter.widget-view+json": {
       "model_id": "2e740f7d6339448fb043a78f09dfc2d5",
       "version_major": 2,
       "version_minor": 0
      },
      "text/plain": [
       "training batch:   0%|          | 0/140 [00:00<?, ?it/s]"
      ]
     },
     "metadata": {},
     "output_type": "display_data"
    },
    {
     "data": {
      "application/vnd.jupyter.widget-view+json": {
       "model_id": "08853fc84a94480e953df7755c95b99e",
       "version_major": 2,
       "version_minor": 0
      },
      "text/plain": [
       "eval batch:   0%|          | 0/32 [00:00<?, ?it/s]"
      ]
     },
     "metadata": {},
     "output_type": "display_data"
    },
    {
     "data": {
      "application/vnd.jupyter.widget-view+json": {
       "model_id": "4cd0c7b6cfb04805b26921ed50207e86",
       "version_major": 2,
       "version_minor": 0
      },
      "text/plain": [
       "training batch:   0%|          | 0/140 [00:00<?, ?it/s]"
      ]
     },
     "metadata": {},
     "output_type": "display_data"
    },
    {
     "data": {
      "application/vnd.jupyter.widget-view+json": {
       "model_id": "3e1f84c30fc4465caa0229059cd3a2b9",
       "version_major": 2,
       "version_minor": 0
      },
      "text/plain": [
       "eval batch:   0%|          | 0/32 [00:00<?, ?it/s]"
      ]
     },
     "metadata": {},
     "output_type": "display_data"
    },
    {
     "data": {
      "application/vnd.jupyter.widget-view+json": {
       "model_id": "e1291f94de0b459aa9875f5b9177f3f9",
       "version_major": 2,
       "version_minor": 0
      },
      "text/plain": [
       "training batch:   0%|          | 0/140 [00:00<?, ?it/s]"
      ]
     },
     "metadata": {},
     "output_type": "display_data"
    },
    {
     "data": {
      "application/vnd.jupyter.widget-view+json": {
       "model_id": "a7c5f47b216b42fdb7f5b2534255e77f",
       "version_major": 2,
       "version_minor": 0
      },
      "text/plain": [
       "eval batch:   0%|          | 0/32 [00:00<?, ?it/s]"
      ]
     },
     "metadata": {},
     "output_type": "display_data"
    },
    {
     "data": {
      "application/vnd.jupyter.widget-view+json": {
       "model_id": "ae219e54671d425dae0a299dcd55d60e",
       "version_major": 2,
       "version_minor": 0
      },
      "text/plain": [
       "training batch:   0%|          | 0/140 [00:00<?, ?it/s]"
      ]
     },
     "metadata": {},
     "output_type": "display_data"
    },
    {
     "data": {
      "application/vnd.jupyter.widget-view+json": {
       "model_id": "3217b4be279b4b51a9ec41f41b88724f",
       "version_major": 2,
       "version_minor": 0
      },
      "text/plain": [
       "eval batch:   0%|          | 0/32 [00:00<?, ?it/s]"
      ]
     },
     "metadata": {},
     "output_type": "display_data"
    },
    {
     "data": {
      "application/vnd.jupyter.widget-view+json": {
       "model_id": "2d9643deace44730bae9214a9960c874",
       "version_major": 2,
       "version_minor": 0
      },
      "text/plain": [
       "training batch:   0%|          | 0/140 [00:00<?, ?it/s]"
      ]
     },
     "metadata": {},
     "output_type": "display_data"
    },
    {
     "data": {
      "application/vnd.jupyter.widget-view+json": {
       "model_id": "137de68432674631b5f2ea5b3c445523",
       "version_major": 2,
       "version_minor": 0
      },
      "text/plain": [
       "eval batch:   0%|          | 0/32 [00:00<?, ?it/s]"
      ]
     },
     "metadata": {},
     "output_type": "display_data"
    },
    {
     "data": {
      "application/vnd.jupyter.widget-view+json": {
       "model_id": "6da43770dcc14f98ab99739306eb382a",
       "version_major": 2,
       "version_minor": 0
      },
      "text/plain": [
       "training batch:   0%|          | 0/140 [00:00<?, ?it/s]"
      ]
     },
     "metadata": {},
     "output_type": "display_data"
    },
    {
     "data": {
      "application/vnd.jupyter.widget-view+json": {
       "model_id": "3e90368df0fa4a80a1fa01847964b3bf",
       "version_major": 2,
       "version_minor": 0
      },
      "text/plain": [
       "eval batch:   0%|          | 0/32 [00:00<?, ?it/s]"
      ]
     },
     "metadata": {},
     "output_type": "display_data"
    },
    {
     "data": {
      "application/vnd.jupyter.widget-view+json": {
       "model_id": "cb14d378745d4504aa4087e2bcb55ffc",
       "version_major": 2,
       "version_minor": 0
      },
      "text/plain": [
       "training batch:   0%|          | 0/140 [00:00<?, ?it/s]"
      ]
     },
     "metadata": {},
     "output_type": "display_data"
    },
    {
     "data": {
      "application/vnd.jupyter.widget-view+json": {
       "model_id": "1bcadb0fb5ad4f438b24f321d525bfdc",
       "version_major": 2,
       "version_minor": 0
      },
      "text/plain": [
       "eval batch:   0%|          | 0/32 [00:00<?, ?it/s]"
      ]
     },
     "metadata": {},
     "output_type": "display_data"
    },
    {
     "data": {
      "application/vnd.jupyter.widget-view+json": {
       "model_id": "dcffee803fcf4d51a9862ea1e4f893a4",
       "version_major": 2,
       "version_minor": 0
      },
      "text/plain": [
       "training batch:   0%|          | 0/140 [00:00<?, ?it/s]"
      ]
     },
     "metadata": {},
     "output_type": "display_data"
    },
    {
     "data": {
      "application/vnd.jupyter.widget-view+json": {
       "model_id": "a8b1956848624d43aefa9515cfb622fb",
       "version_major": 2,
       "version_minor": 0
      },
      "text/plain": [
       "eval batch:   0%|          | 0/32 [00:00<?, ?it/s]"
      ]
     },
     "metadata": {},
     "output_type": "display_data"
    },
    {
     "data": {
      "application/vnd.jupyter.widget-view+json": {
       "model_id": "fce97f406f0b43c29b78c9eaa0ca83d8",
       "version_major": 2,
       "version_minor": 0
      },
      "text/plain": [
       "training batch:   0%|          | 0/140 [00:00<?, ?it/s]"
      ]
     },
     "metadata": {},
     "output_type": "display_data"
    },
    {
     "data": {
      "application/vnd.jupyter.widget-view+json": {
       "model_id": "d738fa8b736d496fb7dd4da2e30f0588",
       "version_major": 2,
       "version_minor": 0
      },
      "text/plain": [
       "eval batch:   0%|          | 0/32 [00:00<?, ?it/s]"
      ]
     },
     "metadata": {},
     "output_type": "display_data"
    },
    {
     "data": {
      "application/vnd.jupyter.widget-view+json": {
       "model_id": "139d3c46b07f45aebf02fa3113337a35",
       "version_major": 2,
       "version_minor": 0
      },
      "text/plain": [
       "training batch:   0%|          | 0/140 [00:00<?, ?it/s]"
      ]
     },
     "metadata": {},
     "output_type": "display_data"
    },
    {
     "data": {
      "application/vnd.jupyter.widget-view+json": {
       "model_id": "833317f26c224a5c9bc1e2b1aca0574f",
       "version_major": 2,
       "version_minor": 0
      },
      "text/plain": [
       "eval batch:   0%|          | 0/32 [00:00<?, ?it/s]"
      ]
     },
     "metadata": {},
     "output_type": "display_data"
    },
    {
     "data": {
      "application/vnd.jupyter.widget-view+json": {
       "model_id": "4640e6600e414fbba8bae2243213d9a1",
       "version_major": 2,
       "version_minor": 0
      },
      "text/plain": [
       "training batch:   0%|          | 0/140 [00:00<?, ?it/s]"
      ]
     },
     "metadata": {},
     "output_type": "display_data"
    },
    {
     "data": {
      "application/vnd.jupyter.widget-view+json": {
       "model_id": "5a598666d2fd4a5696cde588a9ecadde",
       "version_major": 2,
       "version_minor": 0
      },
      "text/plain": [
       "eval batch:   0%|          | 0/32 [00:00<?, ?it/s]"
      ]
     },
     "metadata": {},
     "output_type": "display_data"
    },
    {
     "data": {
      "application/vnd.jupyter.widget-view+json": {
       "model_id": "187d57fd5e824195a8a3723daab8fc99",
       "version_major": 2,
       "version_minor": 0
      },
      "text/plain": [
       "training batch:   0%|          | 0/140 [00:00<?, ?it/s]"
      ]
     },
     "metadata": {},
     "output_type": "display_data"
    },
    {
     "data": {
      "application/vnd.jupyter.widget-view+json": {
       "model_id": "840b3bfa6b10451aa24cd91180e3b741",
       "version_major": 2,
       "version_minor": 0
      },
      "text/plain": [
       "eval batch:   0%|          | 0/32 [00:00<?, ?it/s]"
      ]
     },
     "metadata": {},
     "output_type": "display_data"
    },
    {
     "data": {
      "application/vnd.jupyter.widget-view+json": {
       "model_id": "2a26303443704890b14365e8a1be8d23",
       "version_major": 2,
       "version_minor": 0
      },
      "text/plain": [
       "training batch:   0%|          | 0/140 [00:00<?, ?it/s]"
      ]
     },
     "metadata": {},
     "output_type": "display_data"
    },
    {
     "data": {
      "application/vnd.jupyter.widget-view+json": {
       "model_id": "e3ef2e7084064c00858ce98039d3bf82",
       "version_major": 2,
       "version_minor": 0
      },
      "text/plain": [
       "eval batch:   0%|          | 0/32 [00:00<?, ?it/s]"
      ]
     },
     "metadata": {},
     "output_type": "display_data"
    },
    {
     "data": {
      "application/vnd.jupyter.widget-view+json": {
       "model_id": "2652bcedf9d6495aa9ecfbc514cd53dd",
       "version_major": 2,
       "version_minor": 0
      },
      "text/plain": [
       "training batch:   0%|          | 0/140 [00:00<?, ?it/s]"
      ]
     },
     "metadata": {},
     "output_type": "display_data"
    },
    {
     "data": {
      "application/vnd.jupyter.widget-view+json": {
       "model_id": "a98e9d96d7df43a191dfe639468973b0",
       "version_major": 2,
       "version_minor": 0
      },
      "text/plain": [
       "eval batch:   0%|          | 0/32 [00:00<?, ?it/s]"
      ]
     },
     "metadata": {},
     "output_type": "display_data"
    },
    {
     "data": {
      "application/vnd.jupyter.widget-view+json": {
       "model_id": "f7c179d58c8a491f905a2739c18e9c43",
       "version_major": 2,
       "version_minor": 0
      },
      "text/plain": [
       "training batch:   0%|          | 0/140 [00:00<?, ?it/s]"
      ]
     },
     "metadata": {},
     "output_type": "display_data"
    },
    {
     "data": {
      "application/vnd.jupyter.widget-view+json": {
       "model_id": "a799e323aee04df9b9778d260d8f01fb",
       "version_major": 2,
       "version_minor": 0
      },
      "text/plain": [
       "eval batch:   0%|          | 0/32 [00:00<?, ?it/s]"
      ]
     },
     "metadata": {},
     "output_type": "display_data"
    },
    {
     "data": {
      "application/vnd.jupyter.widget-view+json": {
       "model_id": "fefebd56c00f42d9b1326d9da4aca7d0",
       "version_major": 2,
       "version_minor": 0
      },
      "text/plain": [
       "training batch:   0%|          | 0/140 [00:00<?, ?it/s]"
      ]
     },
     "metadata": {},
     "output_type": "display_data"
    },
    {
     "data": {
      "application/vnd.jupyter.widget-view+json": {
       "model_id": "6e063794f6a54a3fa7b364101cca7db3",
       "version_major": 2,
       "version_minor": 0
      },
      "text/plain": [
       "eval batch:   0%|          | 0/32 [00:00<?, ?it/s]"
      ]
     },
     "metadata": {},
     "output_type": "display_data"
    },
    {
     "data": {
      "application/vnd.jupyter.widget-view+json": {
       "model_id": "9ce4b32fbb00437e848282fd24c0cef7",
       "version_major": 2,
       "version_minor": 0
      },
      "text/plain": [
       "training batch:   0%|          | 0/140 [00:00<?, ?it/s]"
      ]
     },
     "metadata": {},
     "output_type": "display_data"
    },
    {
     "data": {
      "application/vnd.jupyter.widget-view+json": {
       "model_id": "c68233c0e12f42bfa52b5f4c181f6a92",
       "version_major": 2,
       "version_minor": 0
      },
      "text/plain": [
       "eval batch:   0%|          | 0/32 [00:00<?, ?it/s]"
      ]
     },
     "metadata": {},
     "output_type": "display_data"
    },
    {
     "data": {
      "application/vnd.jupyter.widget-view+json": {
       "model_id": "fb997f5f1c4a4ad1abbfd53532bef340",
       "version_major": 2,
       "version_minor": 0
      },
      "text/plain": [
       "training batch:   0%|          | 0/140 [00:00<?, ?it/s]"
      ]
     },
     "metadata": {},
     "output_type": "display_data"
    },
    {
     "data": {
      "application/vnd.jupyter.widget-view+json": {
       "model_id": "610be60620c442549a563286023c6999",
       "version_major": 2,
       "version_minor": 0
      },
      "text/plain": [
       "eval batch:   0%|          | 0/32 [00:00<?, ?it/s]"
      ]
     },
     "metadata": {},
     "output_type": "display_data"
    },
    {
     "data": {
      "application/vnd.jupyter.widget-view+json": {
       "model_id": "1b8dae93efec46a98ed2957ce9f9b712",
       "version_major": 2,
       "version_minor": 0
      },
      "text/plain": [
       "training batch:   0%|          | 0/140 [00:00<?, ?it/s]"
      ]
     },
     "metadata": {},
     "output_type": "display_data"
    },
    {
     "data": {
      "application/vnd.jupyter.widget-view+json": {
       "model_id": "7dbce84e78db495eb9b8eac757998b23",
       "version_major": 2,
       "version_minor": 0
      },
      "text/plain": [
       "eval batch:   0%|          | 0/32 [00:00<?, ?it/s]"
      ]
     },
     "metadata": {},
     "output_type": "display_data"
    },
    {
     "data": {
      "application/vnd.jupyter.widget-view+json": {
       "model_id": "95c2ea035b5b4f76a5505541d9cb0c5e",
       "version_major": 2,
       "version_minor": 0
      },
      "text/plain": [
       "training batch:   0%|          | 0/140 [00:00<?, ?it/s]"
      ]
     },
     "metadata": {},
     "output_type": "display_data"
    },
    {
     "data": {
      "application/vnd.jupyter.widget-view+json": {
       "model_id": "ccc13febfc134e89935ee034042fb675",
       "version_major": 2,
       "version_minor": 0
      },
      "text/plain": [
       "eval batch:   0%|          | 0/32 [00:00<?, ?it/s]"
      ]
     },
     "metadata": {},
     "output_type": "display_data"
    },
    {
     "data": {
      "application/vnd.jupyter.widget-view+json": {
       "model_id": "84cf0163682f4daabf3a0befb8e1d0a5",
       "version_major": 2,
       "version_minor": 0
      },
      "text/plain": [
       "training batch:   0%|          | 0/140 [00:00<?, ?it/s]"
      ]
     },
     "metadata": {},
     "output_type": "display_data"
    },
    {
     "data": {
      "application/vnd.jupyter.widget-view+json": {
       "model_id": "9c1d1d78c5f044ad84107ef124676e7a",
       "version_major": 2,
       "version_minor": 0
      },
      "text/plain": [
       "eval batch:   0%|          | 0/32 [00:00<?, ?it/s]"
      ]
     },
     "metadata": {},
     "output_type": "display_data"
    },
    {
     "data": {
      "application/vnd.jupyter.widget-view+json": {
       "model_id": "353faea31996438fb4e9d02665550e7b",
       "version_major": 2,
       "version_minor": 0
      },
      "text/plain": [
       "training batch:   0%|          | 0/140 [00:00<?, ?it/s]"
      ]
     },
     "metadata": {},
     "output_type": "display_data"
    },
    {
     "data": {
      "application/vnd.jupyter.widget-view+json": {
       "model_id": "9d7649f4fb2c4647801eefb76e9163ca",
       "version_major": 2,
       "version_minor": 0
      },
      "text/plain": [
       "eval batch:   0%|          | 0/32 [00:00<?, ?it/s]"
      ]
     },
     "metadata": {},
     "output_type": "display_data"
    },
    {
     "data": {
      "application/vnd.jupyter.widget-view+json": {
       "model_id": "4a49d54127184510bde5a2e8473ed632",
       "version_major": 2,
       "version_minor": 0
      },
      "text/plain": [
       "training batch:   0%|          | 0/140 [00:00<?, ?it/s]"
      ]
     },
     "metadata": {},
     "output_type": "display_data"
    },
    {
     "data": {
      "application/vnd.jupyter.widget-view+json": {
       "model_id": "8d2272949795413eb07dd831463607e9",
       "version_major": 2,
       "version_minor": 0
      },
      "text/plain": [
       "eval batch:   0%|          | 0/32 [00:00<?, ?it/s]"
      ]
     },
     "metadata": {},
     "output_type": "display_data"
    },
    {
     "data": {
      "application/vnd.jupyter.widget-view+json": {
       "model_id": "9a8179e6528a4ea9814385882bfedf26",
       "version_major": 2,
       "version_minor": 0
      },
      "text/plain": [
       "training batch:   0%|          | 0/140 [00:00<?, ?it/s]"
      ]
     },
     "metadata": {},
     "output_type": "display_data"
    },
    {
     "data": {
      "application/vnd.jupyter.widget-view+json": {
       "model_id": "0f973c0859cf4199bf48503e648e24f2",
       "version_major": 2,
       "version_minor": 0
      },
      "text/plain": [
       "eval batch:   0%|          | 0/32 [00:00<?, ?it/s]"
      ]
     },
     "metadata": {},
     "output_type": "display_data"
    },
    {
     "data": {
      "application/vnd.jupyter.widget-view+json": {
       "model_id": "ecb8301f886c431780bfe056cb4db453",
       "version_major": 2,
       "version_minor": 0
      },
      "text/plain": [
       "training batch:   0%|          | 0/140 [00:00<?, ?it/s]"
      ]
     },
     "metadata": {},
     "output_type": "display_data"
    },
    {
     "data": {
      "application/vnd.jupyter.widget-view+json": {
       "model_id": "33f1d78bad0343b38963a528aa253d9b",
       "version_major": 2,
       "version_minor": 0
      },
      "text/plain": [
       "eval batch:   0%|          | 0/32 [00:00<?, ?it/s]"
      ]
     },
     "metadata": {},
     "output_type": "display_data"
    },
    {
     "data": {
      "application/vnd.jupyter.widget-view+json": {
       "model_id": "52a1d9440ad74c4f8630d1a0847063f8",
       "version_major": 2,
       "version_minor": 0
      },
      "text/plain": [
       "training batch:   0%|          | 0/140 [00:00<?, ?it/s]"
      ]
     },
     "metadata": {},
     "output_type": "display_data"
    },
    {
     "data": {
      "application/vnd.jupyter.widget-view+json": {
       "model_id": "9ac34001e73447d28a8b98b6bda68992",
       "version_major": 2,
       "version_minor": 0
      },
      "text/plain": [
       "eval batch:   0%|          | 0/32 [00:00<?, ?it/s]"
      ]
     },
     "metadata": {},
     "output_type": "display_data"
    },
    {
     "data": {
      "application/vnd.jupyter.widget-view+json": {
       "model_id": "dd7f65279ab64d749c5349405b763f61",
       "version_major": 2,
       "version_minor": 0
      },
      "text/plain": [
       "training batch:   0%|          | 0/140 [00:00<?, ?it/s]"
      ]
     },
     "metadata": {},
     "output_type": "display_data"
    },
    {
     "data": {
      "application/vnd.jupyter.widget-view+json": {
       "model_id": "df9680c1449e487f951cc1827764c752",
       "version_major": 2,
       "version_minor": 0
      },
      "text/plain": [
       "eval batch:   0%|          | 0/32 [00:00<?, ?it/s]"
      ]
     },
     "metadata": {},
     "output_type": "display_data"
    },
    {
     "data": {
      "application/vnd.jupyter.widget-view+json": {
       "model_id": "2e7f4ca4835a45f183876c81f36bc749",
       "version_major": 2,
       "version_minor": 0
      },
      "text/plain": [
       "training batch:   0%|          | 0/140 [00:00<?, ?it/s]"
      ]
     },
     "metadata": {},
     "output_type": "display_data"
    },
    {
     "data": {
      "application/vnd.jupyter.widget-view+json": {
       "model_id": "f0d39532ebf0489eb71f7b6758501d0f",
       "version_major": 2,
       "version_minor": 0
      },
      "text/plain": [
       "eval batch:   0%|          | 0/32 [00:00<?, ?it/s]"
      ]
     },
     "metadata": {},
     "output_type": "display_data"
    },
    {
     "data": {
      "application/vnd.jupyter.widget-view+json": {
       "model_id": "df35174b8a624f6a970a44b3cca5af15",
       "version_major": 2,
       "version_minor": 0
      },
      "text/plain": [
       "training batch:   0%|          | 0/140 [00:00<?, ?it/s]"
      ]
     },
     "metadata": {},
     "output_type": "display_data"
    },
    {
     "data": {
      "application/vnd.jupyter.widget-view+json": {
       "model_id": "424d83bf18ba4ab098890d7347a428a4",
       "version_major": 2,
       "version_minor": 0
      },
      "text/plain": [
       "eval batch:   0%|          | 0/32 [00:00<?, ?it/s]"
      ]
     },
     "metadata": {},
     "output_type": "display_data"
    },
    {
     "data": {
      "application/vnd.jupyter.widget-view+json": {
       "model_id": "977c2d70efe143dd900bf93d78cc4be3",
       "version_major": 2,
       "version_minor": 0
      },
      "text/plain": [
       "training batch:   0%|          | 0/140 [00:00<?, ?it/s]"
      ]
     },
     "metadata": {},
     "output_type": "display_data"
    },
    {
     "data": {
      "application/vnd.jupyter.widget-view+json": {
       "model_id": "79c873c4d321498d9a3decec36c4d9e2",
       "version_major": 2,
       "version_minor": 0
      },
      "text/plain": [
       "eval batch:   0%|          | 0/32 [00:00<?, ?it/s]"
      ]
     },
     "metadata": {},
     "output_type": "display_data"
    },
    {
     "data": {
      "application/vnd.jupyter.widget-view+json": {
       "model_id": "0eaaec458dab4274851d3a41d4165048",
       "version_major": 2,
       "version_minor": 0
      },
      "text/plain": [
       "training batch:   0%|          | 0/140 [00:00<?, ?it/s]"
      ]
     },
     "metadata": {},
     "output_type": "display_data"
    },
    {
     "data": {
      "application/vnd.jupyter.widget-view+json": {
       "model_id": "5a849e0acb3341dda6dba6d0c2cb2afb",
       "version_major": 2,
       "version_minor": 0
      },
      "text/plain": [
       "eval batch:   0%|          | 0/32 [00:00<?, ?it/s]"
      ]
     },
     "metadata": {},
     "output_type": "display_data"
    },
    {
     "data": {
      "application/vnd.jupyter.widget-view+json": {
       "model_id": "0647ff425f8649539c2263e33cc7e104",
       "version_major": 2,
       "version_minor": 0
      },
      "text/plain": [
       "training batch:   0%|          | 0/140 [00:00<?, ?it/s]"
      ]
     },
     "metadata": {},
     "output_type": "display_data"
    },
    {
     "data": {
      "application/vnd.jupyter.widget-view+json": {
       "model_id": "b5833ed1f0494a1f91f7fe0dbdb68458",
       "version_major": 2,
       "version_minor": 0
      },
      "text/plain": [
       "eval batch:   0%|          | 0/32 [00:00<?, ?it/s]"
      ]
     },
     "metadata": {},
     "output_type": "display_data"
    },
    {
     "data": {
      "application/vnd.jupyter.widget-view+json": {
       "model_id": "d7588de02ad44fa989406d973e7af1f4",
       "version_major": 2,
       "version_minor": 0
      },
      "text/plain": [
       "training batch:   0%|          | 0/140 [00:00<?, ?it/s]"
      ]
     },
     "metadata": {},
     "output_type": "display_data"
    },
    {
     "data": {
      "application/vnd.jupyter.widget-view+json": {
       "model_id": "67965ba6e84b4e4b9ec0e116ffedcedb",
       "version_major": 2,
       "version_minor": 0
      },
      "text/plain": [
       "eval batch:   0%|          | 0/32 [00:00<?, ?it/s]"
      ]
     },
     "metadata": {},
     "output_type": "display_data"
    },
    {
     "data": {
      "application/vnd.jupyter.widget-view+json": {
       "model_id": "dd270e5b9396449eb782cf94ed6b0fa1",
       "version_major": 2,
       "version_minor": 0
      },
      "text/plain": [
       "training batch:   0%|          | 0/140 [00:00<?, ?it/s]"
      ]
     },
     "metadata": {},
     "output_type": "display_data"
    },
    {
     "data": {
      "application/vnd.jupyter.widget-view+json": {
       "model_id": "14fdc34c95434f81a907b30cdaadbcd7",
       "version_major": 2,
       "version_minor": 0
      },
      "text/plain": [
       "eval batch:   0%|          | 0/32 [00:00<?, ?it/s]"
      ]
     },
     "metadata": {},
     "output_type": "display_data"
    },
    {
     "data": {
      "application/vnd.jupyter.widget-view+json": {
       "model_id": "3429e9bf36354e818b14341c08d6303c",
       "version_major": 2,
       "version_minor": 0
      },
      "text/plain": [
       "training batch:   0%|          | 0/140 [00:00<?, ?it/s]"
      ]
     },
     "metadata": {},
     "output_type": "display_data"
    },
    {
     "data": {
      "application/vnd.jupyter.widget-view+json": {
       "model_id": "f4250cc996d94a0aab25d4ef98c1e1d2",
       "version_major": 2,
       "version_minor": 0
      },
      "text/plain": [
       "eval batch:   0%|          | 0/32 [00:00<?, ?it/s]"
      ]
     },
     "metadata": {},
     "output_type": "display_data"
    },
    {
     "data": {
      "application/vnd.jupyter.widget-view+json": {
       "model_id": "9d28b2b0c48a450388ad0c68ebbd00c3",
       "version_major": 2,
       "version_minor": 0
      },
      "text/plain": [
       "training batch:   0%|          | 0/140 [00:00<?, ?it/s]"
      ]
     },
     "metadata": {},
     "output_type": "display_data"
    },
    {
     "data": {
      "application/vnd.jupyter.widget-view+json": {
       "model_id": "61808a45bdaf4320bc9f41794d5b3372",
       "version_major": 2,
       "version_minor": 0
      },
      "text/plain": [
       "eval batch:   0%|          | 0/32 [00:00<?, ?it/s]"
      ]
     },
     "metadata": {},
     "output_type": "display_data"
    },
    {
     "data": {
      "application/vnd.jupyter.widget-view+json": {
       "model_id": "bf9301c94b154a778a5484da2cb172ac",
       "version_major": 2,
       "version_minor": 0
      },
      "text/plain": [
       "training batch:   0%|          | 0/140 [00:00<?, ?it/s]"
      ]
     },
     "metadata": {},
     "output_type": "display_data"
    },
    {
     "data": {
      "application/vnd.jupyter.widget-view+json": {
       "model_id": "e61a4166d4cc444a9e5a48c1f4d40608",
       "version_major": 2,
       "version_minor": 0
      },
      "text/plain": [
       "eval batch:   0%|          | 0/32 [00:00<?, ?it/s]"
      ]
     },
     "metadata": {},
     "output_type": "display_data"
    },
    {
     "data": {
      "application/vnd.jupyter.widget-view+json": {
       "model_id": "9d387937cb7c441fa0a0b616fcc8df7b",
       "version_major": 2,
       "version_minor": 0
      },
      "text/plain": [
       "training batch:   0%|          | 0/140 [00:00<?, ?it/s]"
      ]
     },
     "metadata": {},
     "output_type": "display_data"
    },
    {
     "data": {
      "application/vnd.jupyter.widget-view+json": {
       "model_id": "f379b7fc0c1c478d8bfc6d8186bf6816",
       "version_major": 2,
       "version_minor": 0
      },
      "text/plain": [
       "eval batch:   0%|          | 0/32 [00:00<?, ?it/s]"
      ]
     },
     "metadata": {},
     "output_type": "display_data"
    },
    {
     "data": {
      "application/vnd.jupyter.widget-view+json": {
       "model_id": "a528488274694fdaa29e54a446b99c2c",
       "version_major": 2,
       "version_minor": 0
      },
      "text/plain": [
       "training batch:   0%|          | 0/140 [00:00<?, ?it/s]"
      ]
     },
     "metadata": {},
     "output_type": "display_data"
    },
    {
     "data": {
      "application/vnd.jupyter.widget-view+json": {
       "model_id": "b644a97014384d519e710c61489b59d1",
       "version_major": 2,
       "version_minor": 0
      },
      "text/plain": [
       "eval batch:   0%|          | 0/32 [00:00<?, ?it/s]"
      ]
     },
     "metadata": {},
     "output_type": "display_data"
    },
    {
     "data": {
      "application/vnd.jupyter.widget-view+json": {
       "model_id": "6139f4637cb84954aaf58ff2c201cc07",
       "version_major": 2,
       "version_minor": 0
      },
      "text/plain": [
       "training batch:   0%|          | 0/140 [00:00<?, ?it/s]"
      ]
     },
     "metadata": {},
     "output_type": "display_data"
    },
    {
     "data": {
      "application/vnd.jupyter.widget-view+json": {
       "model_id": "bae393763a314a918f9617adf32f6522",
       "version_major": 2,
       "version_minor": 0
      },
      "text/plain": [
       "eval batch:   0%|          | 0/32 [00:00<?, ?it/s]"
      ]
     },
     "metadata": {},
     "output_type": "display_data"
    },
    {
     "data": {
      "application/vnd.jupyter.widget-view+json": {
       "model_id": "f8c9096871f54cc78c9fd7a5a5364295",
       "version_major": 2,
       "version_minor": 0
      },
      "text/plain": [
       "training batch:   0%|          | 0/140 [00:00<?, ?it/s]"
      ]
     },
     "metadata": {},
     "output_type": "display_data"
    },
    {
     "data": {
      "application/vnd.jupyter.widget-view+json": {
       "model_id": "f26cbf8c641840ef89df8cdf7640318f",
       "version_major": 2,
       "version_minor": 0
      },
      "text/plain": [
       "eval batch:   0%|          | 0/32 [00:00<?, ?it/s]"
      ]
     },
     "metadata": {},
     "output_type": "display_data"
    },
    {
     "data": {
      "application/vnd.jupyter.widget-view+json": {
       "model_id": "dff3378c03434c70b27c29a589062d76",
       "version_major": 2,
       "version_minor": 0
      },
      "text/plain": [
       "training batch:   0%|          | 0/140 [00:00<?, ?it/s]"
      ]
     },
     "metadata": {},
     "output_type": "display_data"
    },
    {
     "data": {
      "application/vnd.jupyter.widget-view+json": {
       "model_id": "bdbc094516924e8f9a6fead72a5520c5",
       "version_major": 2,
       "version_minor": 0
      },
      "text/plain": [
       "eval batch:   0%|          | 0/32 [00:00<?, ?it/s]"
      ]
     },
     "metadata": {},
     "output_type": "display_data"
    },
    {
     "data": {
      "application/vnd.jupyter.widget-view+json": {
       "model_id": "07fb450c028c49748f374fff5eb57957",
       "version_major": 2,
       "version_minor": 0
      },
      "text/plain": [
       "training batch:   0%|          | 0/140 [00:00<?, ?it/s]"
      ]
     },
     "metadata": {},
     "output_type": "display_data"
    },
    {
     "data": {
      "application/vnd.jupyter.widget-view+json": {
       "model_id": "e102b2fd6bfb41229853a008e25729bf",
       "version_major": 2,
       "version_minor": 0
      },
      "text/plain": [
       "eval batch:   0%|          | 0/32 [00:00<?, ?it/s]"
      ]
     },
     "metadata": {},
     "output_type": "display_data"
    },
    {
     "data": {
      "application/vnd.jupyter.widget-view+json": {
       "model_id": "0d44885822b849e2a47248bdf87ba6eb",
       "version_major": 2,
       "version_minor": 0
      },
      "text/plain": [
       "training batch:   0%|          | 0/140 [00:00<?, ?it/s]"
      ]
     },
     "metadata": {},
     "output_type": "display_data"
    },
    {
     "data": {
      "application/vnd.jupyter.widget-view+json": {
       "model_id": "73bdaf3556df4961b9c59006b71902e0",
       "version_major": 2,
       "version_minor": 0
      },
      "text/plain": [
       "eval batch:   0%|          | 0/32 [00:00<?, ?it/s]"
      ]
     },
     "metadata": {},
     "output_type": "display_data"
    },
    {
     "data": {
      "application/vnd.jupyter.widget-view+json": {
       "model_id": "3a04cc9f393648e7b235581ae284171c",
       "version_major": 2,
       "version_minor": 0
      },
      "text/plain": [
       "training batch:   0%|          | 0/140 [00:00<?, ?it/s]"
      ]
     },
     "metadata": {},
     "output_type": "display_data"
    },
    {
     "data": {
      "application/vnd.jupyter.widget-view+json": {
       "model_id": "f3b35af9499846ea9187d8875a998708",
       "version_major": 2,
       "version_minor": 0
      },
      "text/plain": [
       "eval batch:   0%|          | 0/32 [00:00<?, ?it/s]"
      ]
     },
     "metadata": {},
     "output_type": "display_data"
    },
    {
     "data": {
      "application/vnd.jupyter.widget-view+json": {
       "model_id": "a2813fdfaa6a4eaf90b50a1ac45db316",
       "version_major": 2,
       "version_minor": 0
      },
      "text/plain": [
       "training batch:   0%|          | 0/140 [00:00<?, ?it/s]"
      ]
     },
     "metadata": {},
     "output_type": "display_data"
    },
    {
     "data": {
      "application/vnd.jupyter.widget-view+json": {
       "model_id": "c535bc9527de48bdac683139603a7766",
       "version_major": 2,
       "version_minor": 0
      },
      "text/plain": [
       "eval batch:   0%|          | 0/32 [00:00<?, ?it/s]"
      ]
     },
     "metadata": {},
     "output_type": "display_data"
    },
    {
     "data": {
      "application/vnd.jupyter.widget-view+json": {
       "model_id": "5de7ea9aea474d69ac32668e2544ab90",
       "version_major": 2,
       "version_minor": 0
      },
      "text/plain": [
       "training batch:   0%|          | 0/140 [00:00<?, ?it/s]"
      ]
     },
     "metadata": {},
     "output_type": "display_data"
    },
    {
     "data": {
      "application/vnd.jupyter.widget-view+json": {
       "model_id": "6754ec4bea024135a0487742310ec46f",
       "version_major": 2,
       "version_minor": 0
      },
      "text/plain": [
       "eval batch:   0%|          | 0/32 [00:00<?, ?it/s]"
      ]
     },
     "metadata": {},
     "output_type": "display_data"
    },
    {
     "data": {
      "application/vnd.jupyter.widget-view+json": {
       "model_id": "b4a16261d2cb4721b6cac78b23eac266",
       "version_major": 2,
       "version_minor": 0
      },
      "text/plain": [
       "training batch:   0%|          | 0/140 [00:00<?, ?it/s]"
      ]
     },
     "metadata": {},
     "output_type": "display_data"
    },
    {
     "data": {
      "application/vnd.jupyter.widget-view+json": {
       "model_id": "1b622d70f7fd4f46b73be667afffa97f",
       "version_major": 2,
       "version_minor": 0
      },
      "text/plain": [
       "eval batch:   0%|          | 0/32 [00:00<?, ?it/s]"
      ]
     },
     "metadata": {},
     "output_type": "display_data"
    },
    {
     "data": {
      "application/vnd.jupyter.widget-view+json": {
       "model_id": "b9a11bd9c3f54e35a525ddfe4f170faa",
       "version_major": 2,
       "version_minor": 0
      },
      "text/plain": [
       "training batch:   0%|          | 0/140 [00:00<?, ?it/s]"
      ]
     },
     "metadata": {},
     "output_type": "display_data"
    },
    {
     "data": {
      "application/vnd.jupyter.widget-view+json": {
       "model_id": "c6c351525fbc4c4791dbaac0281ca007",
       "version_major": 2,
       "version_minor": 0
      },
      "text/plain": [
       "eval batch:   0%|          | 0/32 [00:00<?, ?it/s]"
      ]
     },
     "metadata": {},
     "output_type": "display_data"
    },
    {
     "data": {
      "application/vnd.jupyter.widget-view+json": {
       "model_id": "9b2780e1069d466f9f0e728b7096090e",
       "version_major": 2,
       "version_minor": 0
      },
      "text/plain": [
       "training batch:   0%|          | 0/140 [00:00<?, ?it/s]"
      ]
     },
     "metadata": {},
     "output_type": "display_data"
    },
    {
     "data": {
      "application/vnd.jupyter.widget-view+json": {
       "model_id": "9f51af723c2f4f18bf44ff0f65be7ac6",
       "version_major": 2,
       "version_minor": 0
      },
      "text/plain": [
       "eval batch:   0%|          | 0/32 [00:00<?, ?it/s]"
      ]
     },
     "metadata": {},
     "output_type": "display_data"
    },
    {
     "data": {
      "application/vnd.jupyter.widget-view+json": {
       "model_id": "12a8c313bb23490187841548d004b94c",
       "version_major": 2,
       "version_minor": 0
      },
      "text/plain": [
       "training batch:   0%|          | 0/140 [00:00<?, ?it/s]"
      ]
     },
     "metadata": {},
     "output_type": "display_data"
    },
    {
     "data": {
      "application/vnd.jupyter.widget-view+json": {
       "model_id": "59ba270fa54a4616a0c34128d0ebfbe5",
       "version_major": 2,
       "version_minor": 0
      },
      "text/plain": [
       "eval batch:   0%|          | 0/32 [00:00<?, ?it/s]"
      ]
     },
     "metadata": {},
     "output_type": "display_data"
    },
    {
     "data": {
      "application/vnd.jupyter.widget-view+json": {
       "model_id": "0a89eac88a784d5d8ac37470cdd324d6",
       "version_major": 2,
       "version_minor": 0
      },
      "text/plain": [
       "training batch:   0%|          | 0/140 [00:00<?, ?it/s]"
      ]
     },
     "metadata": {},
     "output_type": "display_data"
    },
    {
     "data": {
      "application/vnd.jupyter.widget-view+json": {
       "model_id": "4f5ca1ee08e94769b6bbdd5175bba6e3",
       "version_major": 2,
       "version_minor": 0
      },
      "text/plain": [
       "eval batch:   0%|          | 0/32 [00:00<?, ?it/s]"
      ]
     },
     "metadata": {},
     "output_type": "display_data"
    },
    {
     "data": {
      "application/vnd.jupyter.widget-view+json": {
       "model_id": "712bb9cb469947fc80c74ed83cf94578",
       "version_major": 2,
       "version_minor": 0
      },
      "text/plain": [
       "training batch:   0%|          | 0/140 [00:00<?, ?it/s]"
      ]
     },
     "metadata": {},
     "output_type": "display_data"
    },
    {
     "data": {
      "application/vnd.jupyter.widget-view+json": {
       "model_id": "95d435d026d74d97a6c4401178b29ed3",
       "version_major": 2,
       "version_minor": 0
      },
      "text/plain": [
       "eval batch:   0%|          | 0/32 [00:00<?, ?it/s]"
      ]
     },
     "metadata": {},
     "output_type": "display_data"
    },
    {
     "data": {
      "application/vnd.jupyter.widget-view+json": {
       "model_id": "bac640c278c44a5198c0d107505a598e",
       "version_major": 2,
       "version_minor": 0
      },
      "text/plain": [
       "training batch:   0%|          | 0/140 [00:00<?, ?it/s]"
      ]
     },
     "metadata": {},
     "output_type": "display_data"
    },
    {
     "data": {
      "application/vnd.jupyter.widget-view+json": {
       "model_id": "e033006497f9491fa4781c6bde6ac314",
       "version_major": 2,
       "version_minor": 0
      },
      "text/plain": [
       "eval batch:   0%|          | 0/32 [00:00<?, ?it/s]"
      ]
     },
     "metadata": {},
     "output_type": "display_data"
    },
    {
     "data": {
      "application/vnd.jupyter.widget-view+json": {
       "model_id": "99da0ffd20a2449d87a4c2efafa308ab",
       "version_major": 2,
       "version_minor": 0
      },
      "text/plain": [
       "training batch:   0%|          | 0/140 [00:00<?, ?it/s]"
      ]
     },
     "metadata": {},
     "output_type": "display_data"
    },
    {
     "data": {
      "application/vnd.jupyter.widget-view+json": {
       "model_id": "019d585195b44f66a51723341dfe8b29",
       "version_major": 2,
       "version_minor": 0
      },
      "text/plain": [
       "eval batch:   0%|          | 0/32 [00:00<?, ?it/s]"
      ]
     },
     "metadata": {},
     "output_type": "display_data"
    },
    {
     "data": {
      "application/vnd.jupyter.widget-view+json": {
       "model_id": "ade5d37ef8014d51baa382759df62ac0",
       "version_major": 2,
       "version_minor": 0
      },
      "text/plain": [
       "training batch:   0%|          | 0/140 [00:00<?, ?it/s]"
      ]
     },
     "metadata": {},
     "output_type": "display_data"
    },
    {
     "data": {
      "application/vnd.jupyter.widget-view+json": {
       "model_id": "59b1904b298d4e399efef819ef0df7ce",
       "version_major": 2,
       "version_minor": 0
      },
      "text/plain": [
       "eval batch:   0%|          | 0/32 [00:00<?, ?it/s]"
      ]
     },
     "metadata": {},
     "output_type": "display_data"
    },
    {
     "data": {
      "application/vnd.jupyter.widget-view+json": {
       "model_id": "48cdfb1a8cf84d2dba5767839e82a5d0",
       "version_major": 2,
       "version_minor": 0
      },
      "text/plain": [
       "training batch:   0%|          | 0/140 [00:00<?, ?it/s]"
      ]
     },
     "metadata": {},
     "output_type": "display_data"
    },
    {
     "data": {
      "application/vnd.jupyter.widget-view+json": {
       "model_id": "38ff093b4978498aa356aa588d67edc2",
       "version_major": 2,
       "version_minor": 0
      },
      "text/plain": [
       "eval batch:   0%|          | 0/32 [00:00<?, ?it/s]"
      ]
     },
     "metadata": {},
     "output_type": "display_data"
    },
    {
     "data": {
      "application/vnd.jupyter.widget-view+json": {
       "model_id": "aaae0e39b662440dbd3e6af6f3b25c22",
       "version_major": 2,
       "version_minor": 0
      },
      "text/plain": [
       "training batch:   0%|          | 0/140 [00:00<?, ?it/s]"
      ]
     },
     "metadata": {},
     "output_type": "display_data"
    },
    {
     "data": {
      "application/vnd.jupyter.widget-view+json": {
       "model_id": "d7e1fe194999429b9181c94905a978f2",
       "version_major": 2,
       "version_minor": 0
      },
      "text/plain": [
       "eval batch:   0%|          | 0/32 [00:00<?, ?it/s]"
      ]
     },
     "metadata": {},
     "output_type": "display_data"
    },
    {
     "data": {
      "application/vnd.jupyter.widget-view+json": {
       "model_id": "98451cb30ada43d9b69f6b4c16bb8888",
       "version_major": 2,
       "version_minor": 0
      },
      "text/plain": [
       "training batch:   0%|          | 0/140 [00:00<?, ?it/s]"
      ]
     },
     "metadata": {},
     "output_type": "display_data"
    },
    {
     "data": {
      "application/vnd.jupyter.widget-view+json": {
       "model_id": "ea329a979722479db3b6cc2dffe33838",
       "version_major": 2,
       "version_minor": 0
      },
      "text/plain": [
       "eval batch:   0%|          | 0/32 [00:00<?, ?it/s]"
      ]
     },
     "metadata": {},
     "output_type": "display_data"
    },
    {
     "data": {
      "application/vnd.jupyter.widget-view+json": {
       "model_id": "7744de7264394e12a5410ac958daab1e",
       "version_major": 2,
       "version_minor": 0
      },
      "text/plain": [
       "training batch:   0%|          | 0/140 [00:00<?, ?it/s]"
      ]
     },
     "metadata": {},
     "output_type": "display_data"
    },
    {
     "data": {
      "application/vnd.jupyter.widget-view+json": {
       "model_id": "8e11607ba48f45c89cab119688b9fc79",
       "version_major": 2,
       "version_minor": 0
      },
      "text/plain": [
       "eval batch:   0%|          | 0/32 [00:00<?, ?it/s]"
      ]
     },
     "metadata": {},
     "output_type": "display_data"
    },
    {
     "data": {
      "application/vnd.jupyter.widget-view+json": {
       "model_id": "f8de4af09f454b54bfb1c5e008c53387",
       "version_major": 2,
       "version_minor": 0
      },
      "text/plain": [
       "training batch:   0%|          | 0/140 [00:00<?, ?it/s]"
      ]
     },
     "metadata": {},
     "output_type": "display_data"
    },
    {
     "data": {
      "application/vnd.jupyter.widget-view+json": {
       "model_id": "55323419cac046c39084aaf238c95041",
       "version_major": 2,
       "version_minor": 0
      },
      "text/plain": [
       "eval batch:   0%|          | 0/32 [00:00<?, ?it/s]"
      ]
     },
     "metadata": {},
     "output_type": "display_data"
    },
    {
     "data": {
      "application/vnd.jupyter.widget-view+json": {
       "model_id": "59535e7ee4f24ee49fc2396c6a995267",
       "version_major": 2,
       "version_minor": 0
      },
      "text/plain": [
       "training batch:   0%|          | 0/140 [00:00<?, ?it/s]"
      ]
     },
     "metadata": {},
     "output_type": "display_data"
    },
    {
     "data": {
      "application/vnd.jupyter.widget-view+json": {
       "model_id": "5a303be627744e239d0653ee4cf99b58",
       "version_major": 2,
       "version_minor": 0
      },
      "text/plain": [
       "eval batch:   0%|          | 0/32 [00:00<?, ?it/s]"
      ]
     },
     "metadata": {},
     "output_type": "display_data"
    },
    {
     "data": {
      "application/vnd.jupyter.widget-view+json": {
       "model_id": "75c902aee48f48fbaec78b33466955bc",
       "version_major": 2,
       "version_minor": 0
      },
      "text/plain": [
       "training batch:   0%|          | 0/140 [00:00<?, ?it/s]"
      ]
     },
     "metadata": {},
     "output_type": "display_data"
    },
    {
     "data": {
      "application/vnd.jupyter.widget-view+json": {
       "model_id": "a9aba1e34ee640aca73457f093915d50",
       "version_major": 2,
       "version_minor": 0
      },
      "text/plain": [
       "eval batch:   0%|          | 0/32 [00:00<?, ?it/s]"
      ]
     },
     "metadata": {},
     "output_type": "display_data"
    },
    {
     "data": {
      "application/vnd.jupyter.widget-view+json": {
       "model_id": "5109676da06f42c9ac14fc66c00553e8",
       "version_major": 2,
       "version_minor": 0
      },
      "text/plain": [
       "training batch:   0%|          | 0/140 [00:00<?, ?it/s]"
      ]
     },
     "metadata": {},
     "output_type": "display_data"
    },
    {
     "data": {
      "application/vnd.jupyter.widget-view+json": {
       "model_id": "5197ebc6e374429bbbcf9f305eb54dbf",
       "version_major": 2,
       "version_minor": 0
      },
      "text/plain": [
       "eval batch:   0%|          | 0/32 [00:00<?, ?it/s]"
      ]
     },
     "metadata": {},
     "output_type": "display_data"
    },
    {
     "data": {
      "application/vnd.jupyter.widget-view+json": {
       "model_id": "d818c64c79ba43fd918b66748f18da1e",
       "version_major": 2,
       "version_minor": 0
      },
      "text/plain": [
       "training batch:   0%|          | 0/140 [00:00<?, ?it/s]"
      ]
     },
     "metadata": {},
     "output_type": "display_data"
    },
    {
     "data": {
      "application/vnd.jupyter.widget-view+json": {
       "model_id": "ac21f062cb1b4bfc834ab303f2457e94",
       "version_major": 2,
       "version_minor": 0
      },
      "text/plain": [
       "eval batch:   0%|          | 0/32 [00:00<?, ?it/s]"
      ]
     },
     "metadata": {},
     "output_type": "display_data"
    },
    {
     "data": {
      "application/vnd.jupyter.widget-view+json": {
       "model_id": "97cb11d470d447199e495a5fef3b33c6",
       "version_major": 2,
       "version_minor": 0
      },
      "text/plain": [
       "training batch:   0%|          | 0/140 [00:00<?, ?it/s]"
      ]
     },
     "metadata": {},
     "output_type": "display_data"
    },
    {
     "data": {
      "application/vnd.jupyter.widget-view+json": {
       "model_id": "3fa26aa2ab44408ab658f8a5ccc5169a",
       "version_major": 2,
       "version_minor": 0
      },
      "text/plain": [
       "eval batch:   0%|          | 0/32 [00:00<?, ?it/s]"
      ]
     },
     "metadata": {},
     "output_type": "display_data"
    },
    {
     "data": {
      "application/vnd.jupyter.widget-view+json": {
       "model_id": "fb32fceacf2249c5b7ff7f9dc3192c4e",
       "version_major": 2,
       "version_minor": 0
      },
      "text/plain": [
       "training batch:   0%|          | 0/140 [00:00<?, ?it/s]"
      ]
     },
     "metadata": {},
     "output_type": "display_data"
    },
    {
     "data": {
      "application/vnd.jupyter.widget-view+json": {
       "model_id": "5bc187fba93042ba9e783d2706e1b793",
       "version_major": 2,
       "version_minor": 0
      },
      "text/plain": [
       "eval batch:   0%|          | 0/32 [00:00<?, ?it/s]"
      ]
     },
     "metadata": {},
     "output_type": "display_data"
    },
    {
     "data": {
      "application/vnd.jupyter.widget-view+json": {
       "model_id": "75584aa18177420c9489754e67e43f0b",
       "version_major": 2,
       "version_minor": 0
      },
      "text/plain": [
       "training batch:   0%|          | 0/140 [00:00<?, ?it/s]"
      ]
     },
     "metadata": {},
     "output_type": "display_data"
    },
    {
     "data": {
      "application/vnd.jupyter.widget-view+json": {
       "model_id": "8475e9e7ea0a432fb05363da1e37e357",
       "version_major": 2,
       "version_minor": 0
      },
      "text/plain": [
       "eval batch:   0%|          | 0/32 [00:00<?, ?it/s]"
      ]
     },
     "metadata": {},
     "output_type": "display_data"
    },
    {
     "data": {
      "application/vnd.jupyter.widget-view+json": {
       "model_id": "9b9122b99a8040b8958dbffa42af6200",
       "version_major": 2,
       "version_minor": 0
      },
      "text/plain": [
       "training batch:   0%|          | 0/140 [00:00<?, ?it/s]"
      ]
     },
     "metadata": {},
     "output_type": "display_data"
    },
    {
     "data": {
      "application/vnd.jupyter.widget-view+json": {
       "model_id": "1f53adda77774c0395fba049043cb2a7",
       "version_major": 2,
       "version_minor": 0
      },
      "text/plain": [
       "eval batch:   0%|          | 0/32 [00:00<?, ?it/s]"
      ]
     },
     "metadata": {},
     "output_type": "display_data"
    },
    {
     "data": {
      "application/vnd.jupyter.widget-view+json": {
       "model_id": "b7939be071c745b1ab7bd7df1e69c4c0",
       "version_major": 2,
       "version_minor": 0
      },
      "text/plain": [
       "training batch:   0%|          | 0/140 [00:00<?, ?it/s]"
      ]
     },
     "metadata": {},
     "output_type": "display_data"
    },
    {
     "data": {
      "application/vnd.jupyter.widget-view+json": {
       "model_id": "82e8ca076bb54621ad4cce65179d2b83",
       "version_major": 2,
       "version_minor": 0
      },
      "text/plain": [
       "eval batch:   0%|          | 0/32 [00:00<?, ?it/s]"
      ]
     },
     "metadata": {},
     "output_type": "display_data"
    },
    {
     "data": {
      "application/vnd.jupyter.widget-view+json": {
       "model_id": "249e95ed35b1442bb00999ec2c831acd",
       "version_major": 2,
       "version_minor": 0
      },
      "text/plain": [
       "training batch:   0%|          | 0/140 [00:00<?, ?it/s]"
      ]
     },
     "metadata": {},
     "output_type": "display_data"
    },
    {
     "data": {
      "application/vnd.jupyter.widget-view+json": {
       "model_id": "136fa13f90d24d8b8ff3f534a4f9fe79",
       "version_major": 2,
       "version_minor": 0
      },
      "text/plain": [
       "eval batch:   0%|          | 0/32 [00:00<?, ?it/s]"
      ]
     },
     "metadata": {},
     "output_type": "display_data"
    },
    {
     "data": {
      "application/vnd.jupyter.widget-view+json": {
       "model_id": "01aba13eefa1444c9c4773b575963243",
       "version_major": 2,
       "version_minor": 0
      },
      "text/plain": [
       "training batch:   0%|          | 0/140 [00:00<?, ?it/s]"
      ]
     },
     "metadata": {},
     "output_type": "display_data"
    },
    {
     "data": {
      "application/vnd.jupyter.widget-view+json": {
       "model_id": "396e2543ce0841b38f9635bf25184e33",
       "version_major": 2,
       "version_minor": 0
      },
      "text/plain": [
       "eval batch:   0%|          | 0/32 [00:00<?, ?it/s]"
      ]
     },
     "metadata": {},
     "output_type": "display_data"
    },
    {
     "data": {
      "application/vnd.jupyter.widget-view+json": {
       "model_id": "b995e5097bda4f22aee01b690ce7a65a",
       "version_major": 2,
       "version_minor": 0
      },
      "text/plain": [
       "training batch:   0%|          | 0/140 [00:00<?, ?it/s]"
      ]
     },
     "metadata": {},
     "output_type": "display_data"
    },
    {
     "data": {
      "application/vnd.jupyter.widget-view+json": {
       "model_id": "842faad8baf34d1898907857d3cc1ecb",
       "version_major": 2,
       "version_minor": 0
      },
      "text/plain": [
       "eval batch:   0%|          | 0/32 [00:00<?, ?it/s]"
      ]
     },
     "metadata": {},
     "output_type": "display_data"
    },
    {
     "data": {
      "application/vnd.jupyter.widget-view+json": {
       "model_id": "637e56862ae846d595fa064887c54f41",
       "version_major": 2,
       "version_minor": 0
      },
      "text/plain": [
       "training batch:   0%|          | 0/140 [00:00<?, ?it/s]"
      ]
     },
     "metadata": {},
     "output_type": "display_data"
    },
    {
     "data": {
      "application/vnd.jupyter.widget-view+json": {
       "model_id": "ecb54728ae544357b1e6e9365ab945e3",
       "version_major": 2,
       "version_minor": 0
      },
      "text/plain": [
       "eval batch:   0%|          | 0/32 [00:00<?, ?it/s]"
      ]
     },
     "metadata": {},
     "output_type": "display_data"
    },
    {
     "data": {
      "application/vnd.jupyter.widget-view+json": {
       "model_id": "8a26ccd79b1647369017e09c8a5829ca",
       "version_major": 2,
       "version_minor": 0
      },
      "text/plain": [
       "training batch:   0%|          | 0/140 [00:00<?, ?it/s]"
      ]
     },
     "metadata": {},
     "output_type": "display_data"
    },
    {
     "data": {
      "application/vnd.jupyter.widget-view+json": {
       "model_id": "00a16fb42745456390466e0adb6f3e32",
       "version_major": 2,
       "version_minor": 0
      },
      "text/plain": [
       "eval batch:   0%|          | 0/32 [00:00<?, ?it/s]"
      ]
     },
     "metadata": {},
     "output_type": "display_data"
    },
    {
     "data": {
      "application/vnd.jupyter.widget-view+json": {
       "model_id": "66c4f56a6282449984eb2dbcc92d88c0",
       "version_major": 2,
       "version_minor": 0
      },
      "text/plain": [
       "training batch:   0%|          | 0/140 [00:00<?, ?it/s]"
      ]
     },
     "metadata": {},
     "output_type": "display_data"
    },
    {
     "data": {
      "application/vnd.jupyter.widget-view+json": {
       "model_id": "ca2612bd06334072a5f9cfe8a523216a",
       "version_major": 2,
       "version_minor": 0
      },
      "text/plain": [
       "eval batch:   0%|          | 0/32 [00:00<?, ?it/s]"
      ]
     },
     "metadata": {},
     "output_type": "display_data"
    },
    {
     "data": {
      "application/vnd.jupyter.widget-view+json": {
       "model_id": "442d877ee7bb44f589b848c21f6a1add",
       "version_major": 2,
       "version_minor": 0
      },
      "text/plain": [
       "training batch:   0%|          | 0/140 [00:00<?, ?it/s]"
      ]
     },
     "metadata": {},
     "output_type": "display_data"
    },
    {
     "data": {
      "application/vnd.jupyter.widget-view+json": {
       "model_id": "feeba8cf2e7f403c91280e50ed89a652",
       "version_major": 2,
       "version_minor": 0
      },
      "text/plain": [
       "eval batch:   0%|          | 0/32 [00:00<?, ?it/s]"
      ]
     },
     "metadata": {},
     "output_type": "display_data"
    },
    {
     "data": {
      "application/vnd.jupyter.widget-view+json": {
       "model_id": "6fe36565394f430c83388d33abca514e",
       "version_major": 2,
       "version_minor": 0
      },
      "text/plain": [
       "training batch:   0%|          | 0/140 [00:00<?, ?it/s]"
      ]
     },
     "metadata": {},
     "output_type": "display_data"
    },
    {
     "data": {
      "application/vnd.jupyter.widget-view+json": {
       "model_id": "b725e2aafb444b3596ae533f5cc1d7e8",
       "version_major": 2,
       "version_minor": 0
      },
      "text/plain": [
       "eval batch:   0%|          | 0/32 [00:00<?, ?it/s]"
      ]
     },
     "metadata": {},
     "output_type": "display_data"
    },
    {
     "data": {
      "application/vnd.jupyter.widget-view+json": {
       "model_id": "9de6b4081008488b8d80558b4ec69983",
       "version_major": 2,
       "version_minor": 0
      },
      "text/plain": [
       "training batch:   0%|          | 0/140 [00:00<?, ?it/s]"
      ]
     },
     "metadata": {},
     "output_type": "display_data"
    },
    {
     "data": {
      "application/vnd.jupyter.widget-view+json": {
       "model_id": "b6db3d756d58480ebb85d7535b8e06f2",
       "version_major": 2,
       "version_minor": 0
      },
      "text/plain": [
       "eval batch:   0%|          | 0/32 [00:00<?, ?it/s]"
      ]
     },
     "metadata": {},
     "output_type": "display_data"
    },
    {
     "data": {
      "application/vnd.jupyter.widget-view+json": {
       "model_id": "d523e49b82444e9bab755c9430d5f59e",
       "version_major": 2,
       "version_minor": 0
      },
      "text/plain": [
       "training batch:   0%|          | 0/140 [00:00<?, ?it/s]"
      ]
     },
     "metadata": {},
     "output_type": "display_data"
    },
    {
     "data": {
      "application/vnd.jupyter.widget-view+json": {
       "model_id": "1e58b81d418e41aa89b9616575b01689",
       "version_major": 2,
       "version_minor": 0
      },
      "text/plain": [
       "eval batch:   0%|          | 0/32 [00:00<?, ?it/s]"
      ]
     },
     "metadata": {},
     "output_type": "display_data"
    },
    {
     "data": {
      "application/vnd.jupyter.widget-view+json": {
       "model_id": "55790e3cd46b41ce81de1cabacb98604",
       "version_major": 2,
       "version_minor": 0
      },
      "text/plain": [
       "training batch:   0%|          | 0/140 [00:00<?, ?it/s]"
      ]
     },
     "metadata": {},
     "output_type": "display_data"
    },
    {
     "data": {
      "application/vnd.jupyter.widget-view+json": {
       "model_id": "47078552931047d682fdccb05f1fa396",
       "version_major": 2,
       "version_minor": 0
      },
      "text/plain": [
       "eval batch:   0%|          | 0/32 [00:00<?, ?it/s]"
      ]
     },
     "metadata": {},
     "output_type": "display_data"
    },
    {
     "data": {
      "application/vnd.jupyter.widget-view+json": {
       "model_id": "b55ec3b333464f2da26439b6f44aff9c",
       "version_major": 2,
       "version_minor": 0
      },
      "text/plain": [
       "training batch:   0%|          | 0/140 [00:00<?, ?it/s]"
      ]
     },
     "metadata": {},
     "output_type": "display_data"
    },
    {
     "data": {
      "application/vnd.jupyter.widget-view+json": {
       "model_id": "9dd866c445b44d839ca38652d8e86095",
       "version_major": 2,
       "version_minor": 0
      },
      "text/plain": [
       "eval batch:   0%|          | 0/32 [00:00<?, ?it/s]"
      ]
     },
     "metadata": {},
     "output_type": "display_data"
    },
    {
     "data": {
      "application/vnd.jupyter.widget-view+json": {
       "model_id": "12bc898c173143648a7cccf5217cc7bc",
       "version_major": 2,
       "version_minor": 0
      },
      "text/plain": [
       "training batch:   0%|          | 0/140 [00:00<?, ?it/s]"
      ]
     },
     "metadata": {},
     "output_type": "display_data"
    },
    {
     "data": {
      "application/vnd.jupyter.widget-view+json": {
       "model_id": "48c97d702fb5475492bbff81dbe72262",
       "version_major": 2,
       "version_minor": 0
      },
      "text/plain": [
       "eval batch:   0%|          | 0/32 [00:00<?, ?it/s]"
      ]
     },
     "metadata": {},
     "output_type": "display_data"
    },
    {
     "data": {
      "application/vnd.jupyter.widget-view+json": {
       "model_id": "a2586fbddad94cb4a504bed937490df4",
       "version_major": 2,
       "version_minor": 0
      },
      "text/plain": [
       "training batch:   0%|          | 0/140 [00:00<?, ?it/s]"
      ]
     },
     "metadata": {},
     "output_type": "display_data"
    },
    {
     "data": {
      "application/vnd.jupyter.widget-view+json": {
       "model_id": "794257dc80e44db7829663bae1e5c7c3",
       "version_major": 2,
       "version_minor": 0
      },
      "text/plain": [
       "eval batch:   0%|          | 0/32 [00:00<?, ?it/s]"
      ]
     },
     "metadata": {},
     "output_type": "display_data"
    },
    {
     "data": {
      "application/vnd.jupyter.widget-view+json": {
       "model_id": "85fd2fd5e60b4ddb9f83971cbeb24632",
       "version_major": 2,
       "version_minor": 0
      },
      "text/plain": [
       "training batch:   0%|          | 0/140 [00:00<?, ?it/s]"
      ]
     },
     "metadata": {},
     "output_type": "display_data"
    },
    {
     "data": {
      "application/vnd.jupyter.widget-view+json": {
       "model_id": "c1779bad0e5c4813a8667177fd6389e9",
       "version_major": 2,
       "version_minor": 0
      },
      "text/plain": [
       "eval batch:   0%|          | 0/32 [00:00<?, ?it/s]"
      ]
     },
     "metadata": {},
     "output_type": "display_data"
    },
    {
     "data": {
      "application/vnd.jupyter.widget-view+json": {
       "model_id": "dcfd43df7daa4d0aafb4cf4074919e4b",
       "version_major": 2,
       "version_minor": 0
      },
      "text/plain": [
       "training batch:   0%|          | 0/140 [00:00<?, ?it/s]"
      ]
     },
     "metadata": {},
     "output_type": "display_data"
    },
    {
     "data": {
      "application/vnd.jupyter.widget-view+json": {
       "model_id": "852036bac3ba428d800ede71d429e7b3",
       "version_major": 2,
       "version_minor": 0
      },
      "text/plain": [
       "eval batch:   0%|          | 0/32 [00:00<?, ?it/s]"
      ]
     },
     "metadata": {},
     "output_type": "display_data"
    },
    {
     "data": {
      "application/vnd.jupyter.widget-view+json": {
       "model_id": "5653c256a6e84ee3b84db8c6186d62d2",
       "version_major": 2,
       "version_minor": 0
      },
      "text/plain": [
       "training batch:   0%|          | 0/140 [00:00<?, ?it/s]"
      ]
     },
     "metadata": {},
     "output_type": "display_data"
    },
    {
     "data": {
      "application/vnd.jupyter.widget-view+json": {
       "model_id": "54b84d9d89ba47488458665dc48eb12e",
       "version_major": 2,
       "version_minor": 0
      },
      "text/plain": [
       "eval batch:   0%|          | 0/32 [00:00<?, ?it/s]"
      ]
     },
     "metadata": {},
     "output_type": "display_data"
    },
    {
     "data": {
      "application/vnd.jupyter.widget-view+json": {
       "model_id": "4a8e044fdc4041a390557f6ed4cb60b1",
       "version_major": 2,
       "version_minor": 0
      },
      "text/plain": [
       "training batch:   0%|          | 0/140 [00:00<?, ?it/s]"
      ]
     },
     "metadata": {},
     "output_type": "display_data"
    },
    {
     "data": {
      "application/vnd.jupyter.widget-view+json": {
       "model_id": "6a607771713146b9a3e4485f1ce17b4f",
       "version_major": 2,
       "version_minor": 0
      },
      "text/plain": [
       "eval batch:   0%|          | 0/32 [00:00<?, ?it/s]"
      ]
     },
     "metadata": {},
     "output_type": "display_data"
    },
    {
     "data": {
      "application/vnd.jupyter.widget-view+json": {
       "model_id": "2f20a25662214ec8912d051826086f80",
       "version_major": 2,
       "version_minor": 0
      },
      "text/plain": [
       "training batch:   0%|          | 0/140 [00:00<?, ?it/s]"
      ]
     },
     "metadata": {},
     "output_type": "display_data"
    },
    {
     "data": {
      "application/vnd.jupyter.widget-view+json": {
       "model_id": "ebc918cd340f4028b0dcef4d4858f2a9",
       "version_major": 2,
       "version_minor": 0
      },
      "text/plain": [
       "eval batch:   0%|          | 0/32 [00:00<?, ?it/s]"
      ]
     },
     "metadata": {},
     "output_type": "display_data"
    },
    {
     "data": {
      "application/vnd.jupyter.widget-view+json": {
       "model_id": "31624024635d4d73b1c8bfd452e7a866",
       "version_major": 2,
       "version_minor": 0
      },
      "text/plain": [
       "training batch:   0%|          | 0/140 [00:00<?, ?it/s]"
      ]
     },
     "metadata": {},
     "output_type": "display_data"
    },
    {
     "data": {
      "application/vnd.jupyter.widget-view+json": {
       "model_id": "b1a199522f3449d98013424022d3d085",
       "version_major": 2,
       "version_minor": 0
      },
      "text/plain": [
       "eval batch:   0%|          | 0/32 [00:00<?, ?it/s]"
      ]
     },
     "metadata": {},
     "output_type": "display_data"
    },
    {
     "data": {
      "application/vnd.jupyter.widget-view+json": {
       "model_id": "99732b28a1cf49b0aae16d0f72264b1b",
       "version_major": 2,
       "version_minor": 0
      },
      "text/plain": [
       "training batch:   0%|          | 0/140 [00:00<?, ?it/s]"
      ]
     },
     "metadata": {},
     "output_type": "display_data"
    },
    {
     "data": {
      "application/vnd.jupyter.widget-view+json": {
       "model_id": "5b7b7af98a654e588580672c57c03ead",
       "version_major": 2,
       "version_minor": 0
      },
      "text/plain": [
       "eval batch:   0%|          | 0/32 [00:00<?, ?it/s]"
      ]
     },
     "metadata": {},
     "output_type": "display_data"
    },
    {
     "data": {
      "application/vnd.jupyter.widget-view+json": {
       "model_id": "71c20130fe7b495991f61a1f4bb2000b",
       "version_major": 2,
       "version_minor": 0
      },
      "text/plain": [
       "training batch:   0%|          | 0/140 [00:00<?, ?it/s]"
      ]
     },
     "metadata": {},
     "output_type": "display_data"
    },
    {
     "data": {
      "application/vnd.jupyter.widget-view+json": {
       "model_id": "e67b9dbfd67c4cfaa40449d639479b50",
       "version_major": 2,
       "version_minor": 0
      },
      "text/plain": [
       "eval batch:   0%|          | 0/32 [00:00<?, ?it/s]"
      ]
     },
     "metadata": {},
     "output_type": "display_data"
    },
    {
     "data": {
      "application/vnd.jupyter.widget-view+json": {
       "model_id": "5477f7e08590425db0552132e9b3f0d1",
       "version_major": 2,
       "version_minor": 0
      },
      "text/plain": [
       "training batch:   0%|          | 0/140 [00:00<?, ?it/s]"
      ]
     },
     "metadata": {},
     "output_type": "display_data"
    },
    {
     "data": {
      "application/vnd.jupyter.widget-view+json": {
       "model_id": "4c6fa3ee0df94b9e86eaac757c86cec9",
       "version_major": 2,
       "version_minor": 0
      },
      "text/plain": [
       "eval batch:   0%|          | 0/32 [00:00<?, ?it/s]"
      ]
     },
     "metadata": {},
     "output_type": "display_data"
    },
    {
     "data": {
      "application/vnd.jupyter.widget-view+json": {
       "model_id": "8196ffa4fe594797be84f2538349f306",
       "version_major": 2,
       "version_minor": 0
      },
      "text/plain": [
       "training batch:   0%|          | 0/140 [00:00<?, ?it/s]"
      ]
     },
     "metadata": {},
     "output_type": "display_data"
    },
    {
     "data": {
      "application/vnd.jupyter.widget-view+json": {
       "model_id": "121bb901c5ea43ac9f3672c469d423c3",
       "version_major": 2,
       "version_minor": 0
      },
      "text/plain": [
       "eval batch:   0%|          | 0/32 [00:00<?, ?it/s]"
      ]
     },
     "metadata": {},
     "output_type": "display_data"
    },
    {
     "data": {
      "application/vnd.jupyter.widget-view+json": {
       "model_id": "9d99c1e9f8dc4cf6bf033c7be6aa4b76",
       "version_major": 2,
       "version_minor": 0
      },
      "text/plain": [
       "training batch:   0%|          | 0/140 [00:00<?, ?it/s]"
      ]
     },
     "metadata": {},
     "output_type": "display_data"
    },
    {
     "data": {
      "application/vnd.jupyter.widget-view+json": {
       "model_id": "c956dc4a65044ed18b555567a1478f22",
       "version_major": 2,
       "version_minor": 0
      },
      "text/plain": [
       "eval batch:   0%|          | 0/32 [00:00<?, ?it/s]"
      ]
     },
     "metadata": {},
     "output_type": "display_data"
    },
    {
     "data": {
      "application/vnd.jupyter.widget-view+json": {
       "model_id": "d62ca4950a1d4c9b8a61f9f0301f70b0",
       "version_major": 2,
       "version_minor": 0
      },
      "text/plain": [
       "training batch:   0%|          | 0/140 [00:00<?, ?it/s]"
      ]
     },
     "metadata": {},
     "output_type": "display_data"
    },
    {
     "data": {
      "application/vnd.jupyter.widget-view+json": {
       "model_id": "a009a04296384723856b844e1e3cd509",
       "version_major": 2,
       "version_minor": 0
      },
      "text/plain": [
       "eval batch:   0%|          | 0/32 [00:00<?, ?it/s]"
      ]
     },
     "metadata": {},
     "output_type": "display_data"
    },
    {
     "data": {
      "application/vnd.jupyter.widget-view+json": {
       "model_id": "4f48a6ddccc3420d9744cd8cb023e4c7",
       "version_major": 2,
       "version_minor": 0
      },
      "text/plain": [
       "training batch:   0%|          | 0/140 [00:00<?, ?it/s]"
      ]
     },
     "metadata": {},
     "output_type": "display_data"
    },
    {
     "data": {
      "application/vnd.jupyter.widget-view+json": {
       "model_id": "1570796358d64126a76c6f872490d65b",
       "version_major": 2,
       "version_minor": 0
      },
      "text/plain": [
       "eval batch:   0%|          | 0/32 [00:00<?, ?it/s]"
      ]
     },
     "metadata": {},
     "output_type": "display_data"
    },
    {
     "data": {
      "application/vnd.jupyter.widget-view+json": {
       "model_id": "b73b81a3f8bb431cab05e12aead89c93",
       "version_major": 2,
       "version_minor": 0
      },
      "text/plain": [
       "training batch:   0%|          | 0/140 [00:00<?, ?it/s]"
      ]
     },
     "metadata": {},
     "output_type": "display_data"
    },
    {
     "data": {
      "application/vnd.jupyter.widget-view+json": {
       "model_id": "2ba721fad94040389dbf3331bad59b8d",
       "version_major": 2,
       "version_minor": 0
      },
      "text/plain": [
       "eval batch:   0%|          | 0/32 [00:00<?, ?it/s]"
      ]
     },
     "metadata": {},
     "output_type": "display_data"
    },
    {
     "data": {
      "application/vnd.jupyter.widget-view+json": {
       "model_id": "3390f887a2cc4367b5f8bd2dc38f0317",
       "version_major": 2,
       "version_minor": 0
      },
      "text/plain": [
       "training batch:   0%|          | 0/140 [00:00<?, ?it/s]"
      ]
     },
     "metadata": {},
     "output_type": "display_data"
    },
    {
     "data": {
      "application/vnd.jupyter.widget-view+json": {
       "model_id": "f495cde7b9e748c4904998589aa5495c",
       "version_major": 2,
       "version_minor": 0
      },
      "text/plain": [
       "eval batch:   0%|          | 0/32 [00:00<?, ?it/s]"
      ]
     },
     "metadata": {},
     "output_type": "display_data"
    },
    {
     "data": {
      "application/vnd.jupyter.widget-view+json": {
       "model_id": "50b7515caa9947b78057bd4f8d6b7ceb",
       "version_major": 2,
       "version_minor": 0
      },
      "text/plain": [
       "training batch:   0%|          | 0/140 [00:00<?, ?it/s]"
      ]
     },
     "metadata": {},
     "output_type": "display_data"
    },
    {
     "data": {
      "application/vnd.jupyter.widget-view+json": {
       "model_id": "1fd2f7123724450fbee2c2cdd8077214",
       "version_major": 2,
       "version_minor": 0
      },
      "text/plain": [
       "eval batch:   0%|          | 0/32 [00:00<?, ?it/s]"
      ]
     },
     "metadata": {},
     "output_type": "display_data"
    },
    {
     "data": {
      "application/vnd.jupyter.widget-view+json": {
       "model_id": "be28e169d03f4141a48330a1733838a5",
       "version_major": 2,
       "version_minor": 0
      },
      "text/plain": [
       "training batch:   0%|          | 0/140 [00:00<?, ?it/s]"
      ]
     },
     "metadata": {},
     "output_type": "display_data"
    },
    {
     "data": {
      "application/vnd.jupyter.widget-view+json": {
       "model_id": "ae611908bdd34ea496d0022ab5c0b6bb",
       "version_major": 2,
       "version_minor": 0
      },
      "text/plain": [
       "eval batch:   0%|          | 0/32 [00:00<?, ?it/s]"
      ]
     },
     "metadata": {},
     "output_type": "display_data"
    },
    {
     "data": {
      "application/vnd.jupyter.widget-view+json": {
       "model_id": "ac4d67b6ac1747939284b2850cadef3b",
       "version_major": 2,
       "version_minor": 0
      },
      "text/plain": [
       "training batch:   0%|          | 0/140 [00:00<?, ?it/s]"
      ]
     },
     "metadata": {},
     "output_type": "display_data"
    },
    {
     "data": {
      "application/vnd.jupyter.widget-view+json": {
       "model_id": "0e0eda7ad6b843c1816c84079f1db067",
       "version_major": 2,
       "version_minor": 0
      },
      "text/plain": [
       "eval batch:   0%|          | 0/32 [00:00<?, ?it/s]"
      ]
     },
     "metadata": {},
     "output_type": "display_data"
    },
    {
     "data": {
      "application/vnd.jupyter.widget-view+json": {
       "model_id": "d90024daeb7b4cdeb3be51bc465fe39e",
       "version_major": 2,
       "version_minor": 0
      },
      "text/plain": [
       "training batch:   0%|          | 0/140 [00:00<?, ?it/s]"
      ]
     },
     "metadata": {},
     "output_type": "display_data"
    },
    {
     "data": {
      "application/vnd.jupyter.widget-view+json": {
       "model_id": "533e1795edd344efbef1d4f7207e51e7",
       "version_major": 2,
       "version_minor": 0
      },
      "text/plain": [
       "eval batch:   0%|          | 0/32 [00:00<?, ?it/s]"
      ]
     },
     "metadata": {},
     "output_type": "display_data"
    },
    {
     "data": {
      "application/vnd.jupyter.widget-view+json": {
       "model_id": "34b30dbc850d413abe9070d1499dcb4c",
       "version_major": 2,
       "version_minor": 0
      },
      "text/plain": [
       "training batch:   0%|          | 0/140 [00:00<?, ?it/s]"
      ]
     },
     "metadata": {},
     "output_type": "display_data"
    },
    {
     "data": {
      "application/vnd.jupyter.widget-view+json": {
       "model_id": "e50e2c63730f4895b03cd12ecba43cc4",
       "version_major": 2,
       "version_minor": 0
      },
      "text/plain": [
       "eval batch:   0%|          | 0/32 [00:00<?, ?it/s]"
      ]
     },
     "metadata": {},
     "output_type": "display_data"
    },
    {
     "data": {
      "application/vnd.jupyter.widget-view+json": {
       "model_id": "5ec05115cb56499eb61798ad26e0eb23",
       "version_major": 2,
       "version_minor": 0
      },
      "text/plain": [
       "training batch:   0%|          | 0/140 [00:00<?, ?it/s]"
      ]
     },
     "metadata": {},
     "output_type": "display_data"
    },
    {
     "data": {
      "application/vnd.jupyter.widget-view+json": {
       "model_id": "ec34301e56f6494dba404db966a8e671",
       "version_major": 2,
       "version_minor": 0
      },
      "text/plain": [
       "eval batch:   0%|          | 0/32 [00:00<?, ?it/s]"
      ]
     },
     "metadata": {},
     "output_type": "display_data"
    },
    {
     "data": {
      "application/vnd.jupyter.widget-view+json": {
       "model_id": "cb19d01426df44618bf0c6a750516252",
       "version_major": 2,
       "version_minor": 0
      },
      "text/plain": [
       "training batch:   0%|          | 0/140 [00:00<?, ?it/s]"
      ]
     },
     "metadata": {},
     "output_type": "display_data"
    },
    {
     "data": {
      "application/vnd.jupyter.widget-view+json": {
       "model_id": "fe4498881e4f4f149991136e043de387",
       "version_major": 2,
       "version_minor": 0
      },
      "text/plain": [
       "eval batch:   0%|          | 0/32 [00:00<?, ?it/s]"
      ]
     },
     "metadata": {},
     "output_type": "display_data"
    },
    {
     "data": {
      "application/vnd.jupyter.widget-view+json": {
       "model_id": "d5fe4ea0a70c488cab52b9e4ffa1b8fc",
       "version_major": 2,
       "version_minor": 0
      },
      "text/plain": [
       "training batch:   0%|          | 0/140 [00:00<?, ?it/s]"
      ]
     },
     "metadata": {},
     "output_type": "display_data"
    },
    {
     "data": {
      "application/vnd.jupyter.widget-view+json": {
       "model_id": "e0f7283ae3a64506af1fb7e1151b0a22",
       "version_major": 2,
       "version_minor": 0
      },
      "text/plain": [
       "eval batch:   0%|          | 0/32 [00:00<?, ?it/s]"
      ]
     },
     "metadata": {},
     "output_type": "display_data"
    },
    {
     "data": {
      "application/vnd.jupyter.widget-view+json": {
       "model_id": "4359817d8e844eeb8a3ae1433bbae79b",
       "version_major": 2,
       "version_minor": 0
      },
      "text/plain": [
       "training batch:   0%|          | 0/140 [00:00<?, ?it/s]"
      ]
     },
     "metadata": {},
     "output_type": "display_data"
    },
    {
     "data": {
      "application/vnd.jupyter.widget-view+json": {
       "model_id": "610e14f68bb04fa993a4780b93b11b8d",
       "version_major": 2,
       "version_minor": 0
      },
      "text/plain": [
       "eval batch:   0%|          | 0/32 [00:00<?, ?it/s]"
      ]
     },
     "metadata": {},
     "output_type": "display_data"
    },
    {
     "data": {
      "application/vnd.jupyter.widget-view+json": {
       "model_id": "c9e1f5d94ca341918024a2a16327d758",
       "version_major": 2,
       "version_minor": 0
      },
      "text/plain": [
       "training batch:   0%|          | 0/140 [00:00<?, ?it/s]"
      ]
     },
     "metadata": {},
     "output_type": "display_data"
    },
    {
     "data": {
      "application/vnd.jupyter.widget-view+json": {
       "model_id": "1877d9d30fd54bec8c01e44391113197",
       "version_major": 2,
       "version_minor": 0
      },
      "text/plain": [
       "eval batch:   0%|          | 0/32 [00:00<?, ?it/s]"
      ]
     },
     "metadata": {},
     "output_type": "display_data"
    },
    {
     "data": {
      "application/vnd.jupyter.widget-view+json": {
       "model_id": "509e630244b849a4b4f0e1ba270b3349",
       "version_major": 2,
       "version_minor": 0
      },
      "text/plain": [
       "training batch:   0%|          | 0/140 [00:00<?, ?it/s]"
      ]
     },
     "metadata": {},
     "output_type": "display_data"
    },
    {
     "data": {
      "application/vnd.jupyter.widget-view+json": {
       "model_id": "b7c2b1b6a9c14e5babb734b2123a301b",
       "version_major": 2,
       "version_minor": 0
      },
      "text/plain": [
       "eval batch:   0%|          | 0/32 [00:00<?, ?it/s]"
      ]
     },
     "metadata": {},
     "output_type": "display_data"
    },
    {
     "data": {
      "application/vnd.jupyter.widget-view+json": {
       "model_id": "660a441a92824b948181a51666f098e8",
       "version_major": 2,
       "version_minor": 0
      },
      "text/plain": [
       "training batch:   0%|          | 0/140 [00:00<?, ?it/s]"
      ]
     },
     "metadata": {},
     "output_type": "display_data"
    },
    {
     "data": {
      "application/vnd.jupyter.widget-view+json": {
       "model_id": "86004db85adc4d2d8f62e3460cca6b39",
       "version_major": 2,
       "version_minor": 0
      },
      "text/plain": [
       "eval batch:   0%|          | 0/32 [00:00<?, ?it/s]"
      ]
     },
     "metadata": {},
     "output_type": "display_data"
    },
    {
     "data": {
      "application/vnd.jupyter.widget-view+json": {
       "model_id": "aa0b8e092c59486c97a164786f2cc939",
       "version_major": 2,
       "version_minor": 0
      },
      "text/plain": [
       "training batch:   0%|          | 0/140 [00:00<?, ?it/s]"
      ]
     },
     "metadata": {},
     "output_type": "display_data"
    },
    {
     "data": {
      "application/vnd.jupyter.widget-view+json": {
       "model_id": "11ba9adf949a4f379cf285230ac973d7",
       "version_major": 2,
       "version_minor": 0
      },
      "text/plain": [
       "eval batch:   0%|          | 0/32 [00:00<?, ?it/s]"
      ]
     },
     "metadata": {},
     "output_type": "display_data"
    },
    {
     "data": {
      "application/vnd.jupyter.widget-view+json": {
       "model_id": "0e1ceb0b67484be8bb207a9802d62e15",
       "version_major": 2,
       "version_minor": 0
      },
      "text/plain": [
       "training batch:   0%|          | 0/140 [00:00<?, ?it/s]"
      ]
     },
     "metadata": {},
     "output_type": "display_data"
    },
    {
     "data": {
      "application/vnd.jupyter.widget-view+json": {
       "model_id": "d67e35743e924f1fb450e4423c3d8998",
       "version_major": 2,
       "version_minor": 0
      },
      "text/plain": [
       "eval batch:   0%|          | 0/32 [00:00<?, ?it/s]"
      ]
     },
     "metadata": {},
     "output_type": "display_data"
    },
    {
     "data": {
      "application/vnd.jupyter.widget-view+json": {
       "model_id": "13622f58f14f4ce8abcea72aa52dc8ee",
       "version_major": 2,
       "version_minor": 0
      },
      "text/plain": [
       "training batch:   0%|          | 0/140 [00:00<?, ?it/s]"
      ]
     },
     "metadata": {},
     "output_type": "display_data"
    },
    {
     "data": {
      "application/vnd.jupyter.widget-view+json": {
       "model_id": "408abbcdc2914e53aac38d16fc3408b8",
       "version_major": 2,
       "version_minor": 0
      },
      "text/plain": [
       "eval batch:   0%|          | 0/32 [00:00<?, ?it/s]"
      ]
     },
     "metadata": {},
     "output_type": "display_data"
    },
    {
     "data": {
      "application/vnd.jupyter.widget-view+json": {
       "model_id": "9d10cd3ae7b546b496bdd9d092f828e1",
       "version_major": 2,
       "version_minor": 0
      },
      "text/plain": [
       "training batch:   0%|          | 0/140 [00:00<?, ?it/s]"
      ]
     },
     "metadata": {},
     "output_type": "display_data"
    },
    {
     "data": {
      "application/vnd.jupyter.widget-view+json": {
       "model_id": "8fd8a8f65480405994cebfc699acb823",
       "version_major": 2,
       "version_minor": 0
      },
      "text/plain": [
       "eval batch:   0%|          | 0/32 [00:00<?, ?it/s]"
      ]
     },
     "metadata": {},
     "output_type": "display_data"
    },
    {
     "data": {
      "application/vnd.jupyter.widget-view+json": {
       "model_id": "3b205ee07edd4a868cb156d75e00f066",
       "version_major": 2,
       "version_minor": 0
      },
      "text/plain": [
       "training batch:   0%|          | 0/140 [00:00<?, ?it/s]"
      ]
     },
     "metadata": {},
     "output_type": "display_data"
    },
    {
     "data": {
      "application/vnd.jupyter.widget-view+json": {
       "model_id": "7e8e17f638f74d43a07049d6ceb689d1",
       "version_major": 2,
       "version_minor": 0
      },
      "text/plain": [
       "eval batch:   0%|          | 0/32 [00:00<?, ?it/s]"
      ]
     },
     "metadata": {},
     "output_type": "display_data"
    },
    {
     "data": {
      "application/vnd.jupyter.widget-view+json": {
       "model_id": "3f1c8dad846d4e73b4d37a0b936ccf6e",
       "version_major": 2,
       "version_minor": 0
      },
      "text/plain": [
       "training batch:   0%|          | 0/140 [00:00<?, ?it/s]"
      ]
     },
     "metadata": {},
     "output_type": "display_data"
    },
    {
     "data": {
      "application/vnd.jupyter.widget-view+json": {
       "model_id": "fa391c0ba7b34d3daedd85fa3f2b9823",
       "version_major": 2,
       "version_minor": 0
      },
      "text/plain": [
       "eval batch:   0%|          | 0/32 [00:00<?, ?it/s]"
      ]
     },
     "metadata": {},
     "output_type": "display_data"
    },
    {
     "data": {
      "application/vnd.jupyter.widget-view+json": {
       "model_id": "97e0328ba1744b09aa375c48dce03ceb",
       "version_major": 2,
       "version_minor": 0
      },
      "text/plain": [
       "training batch:   0%|          | 0/140 [00:00<?, ?it/s]"
      ]
     },
     "metadata": {},
     "output_type": "display_data"
    },
    {
     "data": {
      "application/vnd.jupyter.widget-view+json": {
       "model_id": "19dd9fdb481e4e09aac2c1187cdc502a",
       "version_major": 2,
       "version_minor": 0
      },
      "text/plain": [
       "eval batch:   0%|          | 0/32 [00:00<?, ?it/s]"
      ]
     },
     "metadata": {},
     "output_type": "display_data"
    },
    {
     "data": {
      "application/vnd.jupyter.widget-view+json": {
       "model_id": "d85e2835e8d9447582783a0914cb8071",
       "version_major": 2,
       "version_minor": 0
      },
      "text/plain": [
       "training batch:   0%|          | 0/140 [00:00<?, ?it/s]"
      ]
     },
     "metadata": {},
     "output_type": "display_data"
    },
    {
     "data": {
      "application/vnd.jupyter.widget-view+json": {
       "model_id": "2ab6d70002e2475dbd3ef52a699ebf96",
       "version_major": 2,
       "version_minor": 0
      },
      "text/plain": [
       "eval batch:   0%|          | 0/32 [00:00<?, ?it/s]"
      ]
     },
     "metadata": {},
     "output_type": "display_data"
    },
    {
     "data": {
      "application/vnd.jupyter.widget-view+json": {
       "model_id": "8332712c8cc24d759e137d771ed234e7",
       "version_major": 2,
       "version_minor": 0
      },
      "text/plain": [
       "training batch:   0%|          | 0/140 [00:00<?, ?it/s]"
      ]
     },
     "metadata": {},
     "output_type": "display_data"
    },
    {
     "data": {
      "application/vnd.jupyter.widget-view+json": {
       "model_id": "619d12dd60fd4277b52527a36721d3d8",
       "version_major": 2,
       "version_minor": 0
      },
      "text/plain": [
       "eval batch:   0%|          | 0/32 [00:00<?, ?it/s]"
      ]
     },
     "metadata": {},
     "output_type": "display_data"
    },
    {
     "data": {
      "application/vnd.jupyter.widget-view+json": {
       "model_id": "6396ca248195427c9b2b85349b85c3d4",
       "version_major": 2,
       "version_minor": 0
      },
      "text/plain": [
       "training batch:   0%|          | 0/140 [00:00<?, ?it/s]"
      ]
     },
     "metadata": {},
     "output_type": "display_data"
    },
    {
     "data": {
      "application/vnd.jupyter.widget-view+json": {
       "model_id": "500caaf4c1034945a5362a50ddf913d2",
       "version_major": 2,
       "version_minor": 0
      },
      "text/plain": [
       "eval batch:   0%|          | 0/32 [00:00<?, ?it/s]"
      ]
     },
     "metadata": {},
     "output_type": "display_data"
    },
    {
     "data": {
      "application/vnd.jupyter.widget-view+json": {
       "model_id": "1845ec99acc14a37b585b5f072aae4a3",
       "version_major": 2,
       "version_minor": 0
      },
      "text/plain": [
       "training batch:   0%|          | 0/140 [00:00<?, ?it/s]"
      ]
     },
     "metadata": {},
     "output_type": "display_data"
    },
    {
     "data": {
      "application/vnd.jupyter.widget-view+json": {
       "model_id": "13c747d82e3f417ab9e9053190cd7442",
       "version_major": 2,
       "version_minor": 0
      },
      "text/plain": [
       "eval batch:   0%|          | 0/32 [00:00<?, ?it/s]"
      ]
     },
     "metadata": {},
     "output_type": "display_data"
    },
    {
     "data": {
      "application/vnd.jupyter.widget-view+json": {
       "model_id": "85bf4089ec7349be82f97c03bd03df5a",
       "version_major": 2,
       "version_minor": 0
      },
      "text/plain": [
       "training batch:   0%|          | 0/140 [00:00<?, ?it/s]"
      ]
     },
     "metadata": {},
     "output_type": "display_data"
    },
    {
     "data": {
      "application/vnd.jupyter.widget-view+json": {
       "model_id": "ff0bff74e306444bb5b46d1beea01248",
       "version_major": 2,
       "version_minor": 0
      },
      "text/plain": [
       "eval batch:   0%|          | 0/32 [00:00<?, ?it/s]"
      ]
     },
     "metadata": {},
     "output_type": "display_data"
    },
    {
     "data": {
      "application/vnd.jupyter.widget-view+json": {
       "model_id": "df791327e8fc46689a57c744900bd230",
       "version_major": 2,
       "version_minor": 0
      },
      "text/plain": [
       "training batch:   0%|          | 0/140 [00:00<?, ?it/s]"
      ]
     },
     "metadata": {},
     "output_type": "display_data"
    },
    {
     "data": {
      "application/vnd.jupyter.widget-view+json": {
       "model_id": "c50960e754274b48b39b9d91c0a128be",
       "version_major": 2,
       "version_minor": 0
      },
      "text/plain": [
       "eval batch:   0%|          | 0/32 [00:00<?, ?it/s]"
      ]
     },
     "metadata": {},
     "output_type": "display_data"
    },
    {
     "data": {
      "application/vnd.jupyter.widget-view+json": {
       "model_id": "0bdb5b6724f54db9864c35658db475fc",
       "version_major": 2,
       "version_minor": 0
      },
      "text/plain": [
       "training batch:   0%|          | 0/140 [00:00<?, ?it/s]"
      ]
     },
     "metadata": {},
     "output_type": "display_data"
    },
    {
     "data": {
      "application/vnd.jupyter.widget-view+json": {
       "model_id": "6d9fffbd3a064c689f53016ac7a0bde3",
       "version_major": 2,
       "version_minor": 0
      },
      "text/plain": [
       "eval batch:   0%|          | 0/32 [00:00<?, ?it/s]"
      ]
     },
     "metadata": {},
     "output_type": "display_data"
    },
    {
     "data": {
      "application/vnd.jupyter.widget-view+json": {
       "model_id": "9041c470ab4c47ccb86550d34810edf5",
       "version_major": 2,
       "version_minor": 0
      },
      "text/plain": [
       "training batch:   0%|          | 0/140 [00:00<?, ?it/s]"
      ]
     },
     "metadata": {},
     "output_type": "display_data"
    },
    {
     "data": {
      "application/vnd.jupyter.widget-view+json": {
       "model_id": "3417faddff0945a4b37dcfcd426b4b91",
       "version_major": 2,
       "version_minor": 0
      },
      "text/plain": [
       "eval batch:   0%|          | 0/32 [00:00<?, ?it/s]"
      ]
     },
     "metadata": {},
     "output_type": "display_data"
    },
    {
     "data": {
      "application/vnd.jupyter.widget-view+json": {
       "model_id": "25fd9610d5f14f72af3a0b30e1a1b266",
       "version_major": 2,
       "version_minor": 0
      },
      "text/plain": [
       "training batch:   0%|          | 0/140 [00:00<?, ?it/s]"
      ]
     },
     "metadata": {},
     "output_type": "display_data"
    },
    {
     "data": {
      "application/vnd.jupyter.widget-view+json": {
       "model_id": "883e683f38624e4ab87efaf714227d8f",
       "version_major": 2,
       "version_minor": 0
      },
      "text/plain": [
       "eval batch:   0%|          | 0/32 [00:00<?, ?it/s]"
      ]
     },
     "metadata": {},
     "output_type": "display_data"
    },
    {
     "data": {
      "application/vnd.jupyter.widget-view+json": {
       "model_id": "a297eca4a4694749a9c546ff58a1df47",
       "version_major": 2,
       "version_minor": 0
      },
      "text/plain": [
       "training batch:   0%|          | 0/140 [00:00<?, ?it/s]"
      ]
     },
     "metadata": {},
     "output_type": "display_data"
    },
    {
     "data": {
      "application/vnd.jupyter.widget-view+json": {
       "model_id": "3861bc0a70cb47fb9d9ac64b41c0481a",
       "version_major": 2,
       "version_minor": 0
      },
      "text/plain": [
       "eval batch:   0%|          | 0/32 [00:00<?, ?it/s]"
      ]
     },
     "metadata": {},
     "output_type": "display_data"
    },
    {
     "data": {
      "application/vnd.jupyter.widget-view+json": {
       "model_id": "0443d6c957da4a2388cfa0744c98a463",
       "version_major": 2,
       "version_minor": 0
      },
      "text/plain": [
       "training batch:   0%|          | 0/140 [00:00<?, ?it/s]"
      ]
     },
     "metadata": {},
     "output_type": "display_data"
    },
    {
     "data": {
      "application/vnd.jupyter.widget-view+json": {
       "model_id": "c4a6ee787246468785f4b8a1c2bf9ee0",
       "version_major": 2,
       "version_minor": 0
      },
      "text/plain": [
       "eval batch:   0%|          | 0/32 [00:00<?, ?it/s]"
      ]
     },
     "metadata": {},
     "output_type": "display_data"
    },
    {
     "data": {
      "application/vnd.jupyter.widget-view+json": {
       "model_id": "7ea511e277454c419ce9cd02e4bb5559",
       "version_major": 2,
       "version_minor": 0
      },
      "text/plain": [
       "training batch:   0%|          | 0/140 [00:00<?, ?it/s]"
      ]
     },
     "metadata": {},
     "output_type": "display_data"
    },
    {
     "data": {
      "application/vnd.jupyter.widget-view+json": {
       "model_id": "7a05dfadc6dc4352b6bd57e1ae31879c",
       "version_major": 2,
       "version_minor": 0
      },
      "text/plain": [
       "eval batch:   0%|          | 0/32 [00:00<?, ?it/s]"
      ]
     },
     "metadata": {},
     "output_type": "display_data"
    },
    {
     "data": {
      "application/vnd.jupyter.widget-view+json": {
       "model_id": "e02332abbd6f4bfa85ac4c160d7802cb",
       "version_major": 2,
       "version_minor": 0
      },
      "text/plain": [
       "training batch:   0%|          | 0/140 [00:00<?, ?it/s]"
      ]
     },
     "metadata": {},
     "output_type": "display_data"
    },
    {
     "data": {
      "application/vnd.jupyter.widget-view+json": {
       "model_id": "2a5215d705b44f708ef25d5179e08a23",
       "version_major": 2,
       "version_minor": 0
      },
      "text/plain": [
       "eval batch:   0%|          | 0/32 [00:00<?, ?it/s]"
      ]
     },
     "metadata": {},
     "output_type": "display_data"
    },
    {
     "data": {
      "application/vnd.jupyter.widget-view+json": {
       "model_id": "184717ef09a94a33b22ce912a9993667",
       "version_major": 2,
       "version_minor": 0
      },
      "text/plain": [
       "training batch:   0%|          | 0/140 [00:00<?, ?it/s]"
      ]
     },
     "metadata": {},
     "output_type": "display_data"
    },
    {
     "data": {
      "application/vnd.jupyter.widget-view+json": {
       "model_id": "85a31eb33767425591fec5018e60c446",
       "version_major": 2,
       "version_minor": 0
      },
      "text/plain": [
       "eval batch:   0%|          | 0/32 [00:00<?, ?it/s]"
      ]
     },
     "metadata": {},
     "output_type": "display_data"
    },
    {
     "data": {
      "application/vnd.jupyter.widget-view+json": {
       "model_id": "564a11a979b14c63842bca9fad56b5de",
       "version_major": 2,
       "version_minor": 0
      },
      "text/plain": [
       "training batch:   0%|          | 0/140 [00:00<?, ?it/s]"
      ]
     },
     "metadata": {},
     "output_type": "display_data"
    },
    {
     "data": {
      "application/vnd.jupyter.widget-view+json": {
       "model_id": "db1a5bd322e64207b37685eb98eaa6a5",
       "version_major": 2,
       "version_minor": 0
      },
      "text/plain": [
       "eval batch:   0%|          | 0/32 [00:00<?, ?it/s]"
      ]
     },
     "metadata": {},
     "output_type": "display_data"
    },
    {
     "data": {
      "application/vnd.jupyter.widget-view+json": {
       "model_id": "3513f036fb744f4a9bfce166fa914233",
       "version_major": 2,
       "version_minor": 0
      },
      "text/plain": [
       "training batch:   0%|          | 0/140 [00:00<?, ?it/s]"
      ]
     },
     "metadata": {},
     "output_type": "display_data"
    },
    {
     "data": {
      "application/vnd.jupyter.widget-view+json": {
       "model_id": "d5708b9e3f7c45fb8c4dc3d695309b99",
       "version_major": 2,
       "version_minor": 0
      },
      "text/plain": [
       "eval batch:   0%|          | 0/32 [00:00<?, ?it/s]"
      ]
     },
     "metadata": {},
     "output_type": "display_data"
    },
    {
     "data": {
      "application/vnd.jupyter.widget-view+json": {
       "model_id": "527843f28d73414ea409036cb415bfa1",
       "version_major": 2,
       "version_minor": 0
      },
      "text/plain": [
       "training batch:   0%|          | 0/140 [00:00<?, ?it/s]"
      ]
     },
     "metadata": {},
     "output_type": "display_data"
    },
    {
     "data": {
      "application/vnd.jupyter.widget-view+json": {
       "model_id": "898ed01db920420281ec73de299fcb67",
       "version_major": 2,
       "version_minor": 0
      },
      "text/plain": [
       "eval batch:   0%|          | 0/32 [00:00<?, ?it/s]"
      ]
     },
     "metadata": {},
     "output_type": "display_data"
    },
    {
     "data": {
      "application/vnd.jupyter.widget-view+json": {
       "model_id": "2dbe6f9540b74797bd8f00f7cb360aea",
       "version_major": 2,
       "version_minor": 0
      },
      "text/plain": [
       "training batch:   0%|          | 0/140 [00:00<?, ?it/s]"
      ]
     },
     "metadata": {},
     "output_type": "display_data"
    },
    {
     "data": {
      "application/vnd.jupyter.widget-view+json": {
       "model_id": "1e65de8f052f46d2a2e1d57a08e115c9",
       "version_major": 2,
       "version_minor": 0
      },
      "text/plain": [
       "eval batch:   0%|          | 0/32 [00:00<?, ?it/s]"
      ]
     },
     "metadata": {},
     "output_type": "display_data"
    },
    {
     "data": {
      "application/vnd.jupyter.widget-view+json": {
       "model_id": "6fa7dcee5bf548d499c32f0164b6a7b3",
       "version_major": 2,
       "version_minor": 0
      },
      "text/plain": [
       "training batch:   0%|          | 0/140 [00:00<?, ?it/s]"
      ]
     },
     "metadata": {},
     "output_type": "display_data"
    },
    {
     "data": {
      "application/vnd.jupyter.widget-view+json": {
       "model_id": "001cef72d71f4b68ab4407c16645a0a0",
       "version_major": 2,
       "version_minor": 0
      },
      "text/plain": [
       "eval batch:   0%|          | 0/32 [00:00<?, ?it/s]"
      ]
     },
     "metadata": {},
     "output_type": "display_data"
    },
    {
     "data": {
      "application/vnd.jupyter.widget-view+json": {
       "model_id": "d50804079de34f79b6bd271dcb467b4b",
       "version_major": 2,
       "version_minor": 0
      },
      "text/plain": [
       "training batch:   0%|          | 0/140 [00:00<?, ?it/s]"
      ]
     },
     "metadata": {},
     "output_type": "display_data"
    },
    {
     "data": {
      "application/vnd.jupyter.widget-view+json": {
       "model_id": "41e1c9b6658247b990e61e06aa880a73",
       "version_major": 2,
       "version_minor": 0
      },
      "text/plain": [
       "eval batch:   0%|          | 0/32 [00:00<?, ?it/s]"
      ]
     },
     "metadata": {},
     "output_type": "display_data"
    },
    {
     "data": {
      "application/vnd.jupyter.widget-view+json": {
       "model_id": "1ddf463b2adc4a8581a79d99d89cbda5",
       "version_major": 2,
       "version_minor": 0
      },
      "text/plain": [
       "training batch:   0%|          | 0/140 [00:00<?, ?it/s]"
      ]
     },
     "metadata": {},
     "output_type": "display_data"
    },
    {
     "data": {
      "application/vnd.jupyter.widget-view+json": {
       "model_id": "b8f9766b16b447579328c82df820089b",
       "version_major": 2,
       "version_minor": 0
      },
      "text/plain": [
       "eval batch:   0%|          | 0/32 [00:00<?, ?it/s]"
      ]
     },
     "metadata": {},
     "output_type": "display_data"
    },
    {
     "data": {
      "application/vnd.jupyter.widget-view+json": {
       "model_id": "7b8884a9e01a45f2adae67612ad4a6b7",
       "version_major": 2,
       "version_minor": 0
      },
      "text/plain": [
       "training batch:   0%|          | 0/140 [00:00<?, ?it/s]"
      ]
     },
     "metadata": {},
     "output_type": "display_data"
    },
    {
     "data": {
      "application/vnd.jupyter.widget-view+json": {
       "model_id": "df0eb5e7e70a4e529f5f6ba3c4a6df42",
       "version_major": 2,
       "version_minor": 0
      },
      "text/plain": [
       "eval batch:   0%|          | 0/32 [00:00<?, ?it/s]"
      ]
     },
     "metadata": {},
     "output_type": "display_data"
    },
    {
     "data": {
      "application/vnd.jupyter.widget-view+json": {
       "model_id": "9b45f8d42edd4baa8703e7c4e54da4d0",
       "version_major": 2,
       "version_minor": 0
      },
      "text/plain": [
       "training batch:   0%|          | 0/140 [00:00<?, ?it/s]"
      ]
     },
     "metadata": {},
     "output_type": "display_data"
    },
    {
     "data": {
      "application/vnd.jupyter.widget-view+json": {
       "model_id": "c8cf8294750c4805a5ac8f60ab9ebe36",
       "version_major": 2,
       "version_minor": 0
      },
      "text/plain": [
       "eval batch:   0%|          | 0/32 [00:00<?, ?it/s]"
      ]
     },
     "metadata": {},
     "output_type": "display_data"
    },
    {
     "data": {
      "application/vnd.jupyter.widget-view+json": {
       "model_id": "21f5a3ce927047d6ab2e769b59198f19",
       "version_major": 2,
       "version_minor": 0
      },
      "text/plain": [
       "training batch:   0%|          | 0/140 [00:00<?, ?it/s]"
      ]
     },
     "metadata": {},
     "output_type": "display_data"
    },
    {
     "data": {
      "application/vnd.jupyter.widget-view+json": {
       "model_id": "41b7b71e0dd4425084c52bf8806cd5ef",
       "version_major": 2,
       "version_minor": 0
      },
      "text/plain": [
       "eval batch:   0%|          | 0/32 [00:00<?, ?it/s]"
      ]
     },
     "metadata": {},
     "output_type": "display_data"
    },
    {
     "data": {
      "application/vnd.jupyter.widget-view+json": {
       "model_id": "0d7c4f3ab3c349479cc3911c42db62be",
       "version_major": 2,
       "version_minor": 0
      },
      "text/plain": [
       "training batch:   0%|          | 0/140 [00:00<?, ?it/s]"
      ]
     },
     "metadata": {},
     "output_type": "display_data"
    },
    {
     "data": {
      "application/vnd.jupyter.widget-view+json": {
       "model_id": "79c47cdd36da413f8dca1a6c34aaada4",
       "version_major": 2,
       "version_minor": 0
      },
      "text/plain": [
       "eval batch:   0%|          | 0/32 [00:00<?, ?it/s]"
      ]
     },
     "metadata": {},
     "output_type": "display_data"
    },
    {
     "data": {
      "application/vnd.jupyter.widget-view+json": {
       "model_id": "d8104986baae45db88e12eea07f81de4",
       "version_major": 2,
       "version_minor": 0
      },
      "text/plain": [
       "training batch:   0%|          | 0/140 [00:00<?, ?it/s]"
      ]
     },
     "metadata": {},
     "output_type": "display_data"
    },
    {
     "data": {
      "application/vnd.jupyter.widget-view+json": {
       "model_id": "f1d078cc8b2946bd94c2ab24f192a051",
       "version_major": 2,
       "version_minor": 0
      },
      "text/plain": [
       "eval batch:   0%|          | 0/32 [00:00<?, ?it/s]"
      ]
     },
     "metadata": {},
     "output_type": "display_data"
    },
    {
     "data": {
      "application/vnd.jupyter.widget-view+json": {
       "model_id": "f314ef2effe64995a7f4988ce2ceda8a",
       "version_major": 2,
       "version_minor": 0
      },
      "text/plain": [
       "training batch:   0%|          | 0/140 [00:00<?, ?it/s]"
      ]
     },
     "metadata": {},
     "output_type": "display_data"
    },
    {
     "data": {
      "application/vnd.jupyter.widget-view+json": {
       "model_id": "868f9b0aa8fa4a3eae699696c33f2857",
       "version_major": 2,
       "version_minor": 0
      },
      "text/plain": [
       "eval batch:   0%|          | 0/32 [00:00<?, ?it/s]"
      ]
     },
     "metadata": {},
     "output_type": "display_data"
    },
    {
     "data": {
      "application/vnd.jupyter.widget-view+json": {
       "model_id": "1d4be7715d8d4c3a91c96b063c559ed6",
       "version_major": 2,
       "version_minor": 0
      },
      "text/plain": [
       "training batch:   0%|          | 0/140 [00:00<?, ?it/s]"
      ]
     },
     "metadata": {},
     "output_type": "display_data"
    },
    {
     "data": {
      "application/vnd.jupyter.widget-view+json": {
       "model_id": "7124eb23b0584ae8acc237654b7bdc23",
       "version_major": 2,
       "version_minor": 0
      },
      "text/plain": [
       "eval batch:   0%|          | 0/32 [00:00<?, ?it/s]"
      ]
     },
     "metadata": {},
     "output_type": "display_data"
    },
    {
     "data": {
      "application/vnd.jupyter.widget-view+json": {
       "model_id": "d6130210271b4d429fe87a1c0987d25c",
       "version_major": 2,
       "version_minor": 0
      },
      "text/plain": [
       "training batch:   0%|          | 0/140 [00:00<?, ?it/s]"
      ]
     },
     "metadata": {},
     "output_type": "display_data"
    },
    {
     "data": {
      "application/vnd.jupyter.widget-view+json": {
       "model_id": "c3c2483ad4e449f187ca8a86823ea05d",
       "version_major": 2,
       "version_minor": 0
      },
      "text/plain": [
       "eval batch:   0%|          | 0/32 [00:00<?, ?it/s]"
      ]
     },
     "metadata": {},
     "output_type": "display_data"
    },
    {
     "data": {
      "application/vnd.jupyter.widget-view+json": {
       "model_id": "e050807fda8745df94e6a688f61d642f",
       "version_major": 2,
       "version_minor": 0
      },
      "text/plain": [
       "training batch:   0%|          | 0/140 [00:00<?, ?it/s]"
      ]
     },
     "metadata": {},
     "output_type": "display_data"
    },
    {
     "data": {
      "application/vnd.jupyter.widget-view+json": {
       "model_id": "d63927877ca54ca1bf2db412b2272101",
       "version_major": 2,
       "version_minor": 0
      },
      "text/plain": [
       "eval batch:   0%|          | 0/32 [00:00<?, ?it/s]"
      ]
     },
     "metadata": {},
     "output_type": "display_data"
    },
    {
     "data": {
      "application/vnd.jupyter.widget-view+json": {
       "model_id": "06ee70d59952487eaa301fb0ada3bffa",
       "version_major": 2,
       "version_minor": 0
      },
      "text/plain": [
       "training batch:   0%|          | 0/140 [00:00<?, ?it/s]"
      ]
     },
     "metadata": {},
     "output_type": "display_data"
    },
    {
     "data": {
      "application/vnd.jupyter.widget-view+json": {
       "model_id": "9e0ed7c2926b49b7b62758424f9d4416",
       "version_major": 2,
       "version_minor": 0
      },
      "text/plain": [
       "eval batch:   0%|          | 0/32 [00:00<?, ?it/s]"
      ]
     },
     "metadata": {},
     "output_type": "display_data"
    },
    {
     "data": {
      "application/vnd.jupyter.widget-view+json": {
       "model_id": "2fedbdb8cde3474f858d07ec9214bbb8",
       "version_major": 2,
       "version_minor": 0
      },
      "text/plain": [
       "training batch:   0%|          | 0/140 [00:00<?, ?it/s]"
      ]
     },
     "metadata": {},
     "output_type": "display_data"
    },
    {
     "data": {
      "application/vnd.jupyter.widget-view+json": {
       "model_id": "19c3ce986f9b4db580193fee7646e36b",
       "version_major": 2,
       "version_minor": 0
      },
      "text/plain": [
       "eval batch:   0%|          | 0/32 [00:00<?, ?it/s]"
      ]
     },
     "metadata": {},
     "output_type": "display_data"
    },
    {
     "data": {
      "application/vnd.jupyter.widget-view+json": {
       "model_id": "e3d14169cb74498b89aba7d90eaf8989",
       "version_major": 2,
       "version_minor": 0
      },
      "text/plain": [
       "training batch:   0%|          | 0/140 [00:00<?, ?it/s]"
      ]
     },
     "metadata": {},
     "output_type": "display_data"
    },
    {
     "data": {
      "application/vnd.jupyter.widget-view+json": {
       "model_id": "4eea4e57294a47f09082177ee1679fb1",
       "version_major": 2,
       "version_minor": 0
      },
      "text/plain": [
       "eval batch:   0%|          | 0/32 [00:00<?, ?it/s]"
      ]
     },
     "metadata": {},
     "output_type": "display_data"
    },
    {
     "data": {
      "application/vnd.jupyter.widget-view+json": {
       "model_id": "a3181add40d94d3ba23bf95f17798588",
       "version_major": 2,
       "version_minor": 0
      },
      "text/plain": [
       "training batch:   0%|          | 0/140 [00:00<?, ?it/s]"
      ]
     },
     "metadata": {},
     "output_type": "display_data"
    },
    {
     "data": {
      "application/vnd.jupyter.widget-view+json": {
       "model_id": "96aad5803a5940b1873a65ff19924cfb",
       "version_major": 2,
       "version_minor": 0
      },
      "text/plain": [
       "eval batch:   0%|          | 0/32 [00:00<?, ?it/s]"
      ]
     },
     "metadata": {},
     "output_type": "display_data"
    },
    {
     "data": {
      "application/vnd.jupyter.widget-view+json": {
       "model_id": "71fc10d908374b4da460ec1f46f71993",
       "version_major": 2,
       "version_minor": 0
      },
      "text/plain": [
       "training batch:   0%|          | 0/140 [00:00<?, ?it/s]"
      ]
     },
     "metadata": {},
     "output_type": "display_data"
    },
    {
     "data": {
      "application/vnd.jupyter.widget-view+json": {
       "model_id": "a2f7c6f81ec345f19e36e314b18d008f",
       "version_major": 2,
       "version_minor": 0
      },
      "text/plain": [
       "eval batch:   0%|          | 0/32 [00:00<?, ?it/s]"
      ]
     },
     "metadata": {},
     "output_type": "display_data"
    },
    {
     "data": {
      "application/vnd.jupyter.widget-view+json": {
       "model_id": "af5121c8aa3f4f7890ab19bac104d596",
       "version_major": 2,
       "version_minor": 0
      },
      "text/plain": [
       "training batch:   0%|          | 0/140 [00:00<?, ?it/s]"
      ]
     },
     "metadata": {},
     "output_type": "display_data"
    },
    {
     "data": {
      "application/vnd.jupyter.widget-view+json": {
       "model_id": "6b98b0c86a6042a0883d05c4b7ecc77c",
       "version_major": 2,
       "version_minor": 0
      },
      "text/plain": [
       "eval batch:   0%|          | 0/32 [00:00<?, ?it/s]"
      ]
     },
     "metadata": {},
     "output_type": "display_data"
    },
    {
     "data": {
      "application/vnd.jupyter.widget-view+json": {
       "model_id": "569d224a61dc4bbabd2f7d17ca920bc2",
       "version_major": 2,
       "version_minor": 0
      },
      "text/plain": [
       "training batch:   0%|          | 0/140 [00:00<?, ?it/s]"
      ]
     },
     "metadata": {},
     "output_type": "display_data"
    },
    {
     "data": {
      "application/vnd.jupyter.widget-view+json": {
       "model_id": "910130f918604408b63e78ea45f6464d",
       "version_major": 2,
       "version_minor": 0
      },
      "text/plain": [
       "eval batch:   0%|          | 0/32 [00:00<?, ?it/s]"
      ]
     },
     "metadata": {},
     "output_type": "display_data"
    },
    {
     "data": {
      "application/vnd.jupyter.widget-view+json": {
       "model_id": "d8fd5a1669e94a1ead36acde79bf1d89",
       "version_major": 2,
       "version_minor": 0
      },
      "text/plain": [
       "training batch:   0%|          | 0/140 [00:00<?, ?it/s]"
      ]
     },
     "metadata": {},
     "output_type": "display_data"
    },
    {
     "data": {
      "application/vnd.jupyter.widget-view+json": {
       "model_id": "e83eb46fd4fc413bb6a804f4a83cb31f",
       "version_major": 2,
       "version_minor": 0
      },
      "text/plain": [
       "eval batch:   0%|          | 0/32 [00:00<?, ?it/s]"
      ]
     },
     "metadata": {},
     "output_type": "display_data"
    },
    {
     "data": {
      "application/vnd.jupyter.widget-view+json": {
       "model_id": "6a3d3b3b447f4832a1b7abf4bb5716d3",
       "version_major": 2,
       "version_minor": 0
      },
      "text/plain": [
       "training batch:   0%|          | 0/140 [00:00<?, ?it/s]"
      ]
     },
     "metadata": {},
     "output_type": "display_data"
    },
    {
     "data": {
      "application/vnd.jupyter.widget-view+json": {
       "model_id": "aa0325b6418f44ac9b10a1c2a2b38251",
       "version_major": 2,
       "version_minor": 0
      },
      "text/plain": [
       "eval batch:   0%|          | 0/32 [00:00<?, ?it/s]"
      ]
     },
     "metadata": {},
     "output_type": "display_data"
    },
    {
     "data": {
      "application/vnd.jupyter.widget-view+json": {
       "model_id": "537674bbda624463aa4495bb803d336e",
       "version_major": 2,
       "version_minor": 0
      },
      "text/plain": [
       "training batch:   0%|          | 0/140 [00:00<?, ?it/s]"
      ]
     },
     "metadata": {},
     "output_type": "display_data"
    },
    {
     "data": {
      "application/vnd.jupyter.widget-view+json": {
       "model_id": "9a866fead22f4dcc8fd7b148b09b1a2d",
       "version_major": 2,
       "version_minor": 0
      },
      "text/plain": [
       "eval batch:   0%|          | 0/32 [00:00<?, ?it/s]"
      ]
     },
     "metadata": {},
     "output_type": "display_data"
    },
    {
     "data": {
      "application/vnd.jupyter.widget-view+json": {
       "model_id": "9712f48127d24046b3f24d0293105106",
       "version_major": 2,
       "version_minor": 0
      },
      "text/plain": [
       "training batch:   0%|          | 0/140 [00:00<?, ?it/s]"
      ]
     },
     "metadata": {},
     "output_type": "display_data"
    },
    {
     "data": {
      "application/vnd.jupyter.widget-view+json": {
       "model_id": "64677ebacabc4ea3abeffd9ee5009d11",
       "version_major": 2,
       "version_minor": 0
      },
      "text/plain": [
       "eval batch:   0%|          | 0/32 [00:00<?, ?it/s]"
      ]
     },
     "metadata": {},
     "output_type": "display_data"
    },
    {
     "data": {
      "application/vnd.jupyter.widget-view+json": {
       "model_id": "6119ccc51597459dac544bd1113a7391",
       "version_major": 2,
       "version_minor": 0
      },
      "text/plain": [
       "training batch:   0%|          | 0/140 [00:00<?, ?it/s]"
      ]
     },
     "metadata": {},
     "output_type": "display_data"
    },
    {
     "data": {
      "application/vnd.jupyter.widget-view+json": {
       "model_id": "c2997d4d1d2a4fbf9a7c09b0457c99b5",
       "version_major": 2,
       "version_minor": 0
      },
      "text/plain": [
       "eval batch:   0%|          | 0/32 [00:00<?, ?it/s]"
      ]
     },
     "metadata": {},
     "output_type": "display_data"
    },
    {
     "data": {
      "application/vnd.jupyter.widget-view+json": {
       "model_id": "3b385ae47b2243a789e062c487703d3c",
       "version_major": 2,
       "version_minor": 0
      },
      "text/plain": [
       "training batch:   0%|          | 0/140 [00:00<?, ?it/s]"
      ]
     },
     "metadata": {},
     "output_type": "display_data"
    },
    {
     "data": {
      "application/vnd.jupyter.widget-view+json": {
       "model_id": "04d2ecac1a6241cb8a68057d64220aef",
       "version_major": 2,
       "version_minor": 0
      },
      "text/plain": [
       "eval batch:   0%|          | 0/32 [00:00<?, ?it/s]"
      ]
     },
     "metadata": {},
     "output_type": "display_data"
    },
    {
     "data": {
      "application/vnd.jupyter.widget-view+json": {
       "model_id": "a4b7d42467e34fc69995a7c59a68d410",
       "version_major": 2,
       "version_minor": 0
      },
      "text/plain": [
       "training batch:   0%|          | 0/140 [00:00<?, ?it/s]"
      ]
     },
     "metadata": {},
     "output_type": "display_data"
    },
    {
     "data": {
      "application/vnd.jupyter.widget-view+json": {
       "model_id": "667f9172a2be46b1998e910a76eee296",
       "version_major": 2,
       "version_minor": 0
      },
      "text/plain": [
       "eval batch:   0%|          | 0/32 [00:00<?, ?it/s]"
      ]
     },
     "metadata": {},
     "output_type": "display_data"
    },
    {
     "data": {
      "application/vnd.jupyter.widget-view+json": {
       "model_id": "7aa8edfd63a947a182fef1d03dea2caf",
       "version_major": 2,
       "version_minor": 0
      },
      "text/plain": [
       "training batch:   0%|          | 0/140 [00:00<?, ?it/s]"
      ]
     },
     "metadata": {},
     "output_type": "display_data"
    },
    {
     "data": {
      "application/vnd.jupyter.widget-view+json": {
       "model_id": "fe63323725294242ba42d92f125858c1",
       "version_major": 2,
       "version_minor": 0
      },
      "text/plain": [
       "eval batch:   0%|          | 0/32 [00:00<?, ?it/s]"
      ]
     },
     "metadata": {},
     "output_type": "display_data"
    },
    {
     "data": {
      "application/vnd.jupyter.widget-view+json": {
       "model_id": "719814de85a647199defc65ced14dc1b",
       "version_major": 2,
       "version_minor": 0
      },
      "text/plain": [
       "training batch:   0%|          | 0/140 [00:00<?, ?it/s]"
      ]
     },
     "metadata": {},
     "output_type": "display_data"
    },
    {
     "data": {
      "application/vnd.jupyter.widget-view+json": {
       "model_id": "7f98558e9f9447f6b2f7ea234f79ea34",
       "version_major": 2,
       "version_minor": 0
      },
      "text/plain": [
       "eval batch:   0%|          | 0/32 [00:00<?, ?it/s]"
      ]
     },
     "metadata": {},
     "output_type": "display_data"
    },
    {
     "data": {
      "application/vnd.jupyter.widget-view+json": {
       "model_id": "b3a135149e5640e2a8bdc5a4e7a06b9b",
       "version_major": 2,
       "version_minor": 0
      },
      "text/plain": [
       "training batch:   0%|          | 0/140 [00:00<?, ?it/s]"
      ]
     },
     "metadata": {},
     "output_type": "display_data"
    },
    {
     "data": {
      "application/vnd.jupyter.widget-view+json": {
       "model_id": "728c26cc79b94b36a87d6517d03b341f",
       "version_major": 2,
       "version_minor": 0
      },
      "text/plain": [
       "eval batch:   0%|          | 0/32 [00:00<?, ?it/s]"
      ]
     },
     "metadata": {},
     "output_type": "display_data"
    },
    {
     "data": {
      "application/vnd.jupyter.widget-view+json": {
       "model_id": "860493d4bce24db6aa3916f77f609d33",
       "version_major": 2,
       "version_minor": 0
      },
      "text/plain": [
       "training batch:   0%|          | 0/140 [00:00<?, ?it/s]"
      ]
     },
     "metadata": {},
     "output_type": "display_data"
    },
    {
     "data": {
      "application/vnd.jupyter.widget-view+json": {
       "model_id": "25def8ecb298480ca8b190db3a98f950",
       "version_major": 2,
       "version_minor": 0
      },
      "text/plain": [
       "eval batch:   0%|          | 0/32 [00:00<?, ?it/s]"
      ]
     },
     "metadata": {},
     "output_type": "display_data"
    },
    {
     "data": {
      "application/vnd.jupyter.widget-view+json": {
       "model_id": "7d1727d630e045ea9eafee45f818198e",
       "version_major": 2,
       "version_minor": 0
      },
      "text/plain": [
       "training batch:   0%|          | 0/140 [00:00<?, ?it/s]"
      ]
     },
     "metadata": {},
     "output_type": "display_data"
    },
    {
     "data": {
      "application/vnd.jupyter.widget-view+json": {
       "model_id": "ed13cda701ac49f284ff37dfd3b3d959",
       "version_major": 2,
       "version_minor": 0
      },
      "text/plain": [
       "eval batch:   0%|          | 0/32 [00:00<?, ?it/s]"
      ]
     },
     "metadata": {},
     "output_type": "display_data"
    },
    {
     "data": {
      "application/vnd.jupyter.widget-view+json": {
       "model_id": "e2f400c57e3449058a2d2c1f6b16cf51",
       "version_major": 2,
       "version_minor": 0
      },
      "text/plain": [
       "training batch:   0%|          | 0/140 [00:00<?, ?it/s]"
      ]
     },
     "metadata": {},
     "output_type": "display_data"
    },
    {
     "data": {
      "application/vnd.jupyter.widget-view+json": {
       "model_id": "4ddee0fa5a624db79c3f69c7e9f08c43",
       "version_major": 2,
       "version_minor": 0
      },
      "text/plain": [
       "eval batch:   0%|          | 0/32 [00:00<?, ?it/s]"
      ]
     },
     "metadata": {},
     "output_type": "display_data"
    },
    {
     "data": {
      "application/vnd.jupyter.widget-view+json": {
       "model_id": "2bb10b8e52574c5592fa4b3d780cb112",
       "version_major": 2,
       "version_minor": 0
      },
      "text/plain": [
       "training batch:   0%|          | 0/140 [00:00<?, ?it/s]"
      ]
     },
     "metadata": {},
     "output_type": "display_data"
    },
    {
     "data": {
      "application/vnd.jupyter.widget-view+json": {
       "model_id": "57d19768c0144417a4057108381ea042",
       "version_major": 2,
       "version_minor": 0
      },
      "text/plain": [
       "eval batch:   0%|          | 0/32 [00:00<?, ?it/s]"
      ]
     },
     "metadata": {},
     "output_type": "display_data"
    },
    {
     "data": {
      "application/vnd.jupyter.widget-view+json": {
       "model_id": "846cf0c0d3a145aba2212b3263092c45",
       "version_major": 2,
       "version_minor": 0
      },
      "text/plain": [
       "training batch:   0%|          | 0/140 [00:00<?, ?it/s]"
      ]
     },
     "metadata": {},
     "output_type": "display_data"
    },
    {
     "data": {
      "application/vnd.jupyter.widget-view+json": {
       "model_id": "d7ff0276a45140b3b8b4ec5d32dee2e4",
       "version_major": 2,
       "version_minor": 0
      },
      "text/plain": [
       "eval batch:   0%|          | 0/32 [00:00<?, ?it/s]"
      ]
     },
     "metadata": {},
     "output_type": "display_data"
    },
    {
     "data": {
      "application/vnd.jupyter.widget-view+json": {
       "model_id": "b45247f5fa8c4285a5b29c71abac5fcb",
       "version_major": 2,
       "version_minor": 0
      },
      "text/plain": [
       "training batch:   0%|          | 0/140 [00:00<?, ?it/s]"
      ]
     },
     "metadata": {},
     "output_type": "display_data"
    },
    {
     "data": {
      "application/vnd.jupyter.widget-view+json": {
       "model_id": "9b711ec6ee0441adbbe33dc5cc3c06e6",
       "version_major": 2,
       "version_minor": 0
      },
      "text/plain": [
       "eval batch:   0%|          | 0/32 [00:00<?, ?it/s]"
      ]
     },
     "metadata": {},
     "output_type": "display_data"
    },
    {
     "data": {
      "application/vnd.jupyter.widget-view+json": {
       "model_id": "477361629f9d482db68216cffdffe380",
       "version_major": 2,
       "version_minor": 0
      },
      "text/plain": [
       "training batch:   0%|          | 0/140 [00:00<?, ?it/s]"
      ]
     },
     "metadata": {},
     "output_type": "display_data"
    },
    {
     "data": {
      "application/vnd.jupyter.widget-view+json": {
       "model_id": "6657610a1a1745feaeb238b3f7c9575c",
       "version_major": 2,
       "version_minor": 0
      },
      "text/plain": [
       "eval batch:   0%|          | 0/32 [00:00<?, ?it/s]"
      ]
     },
     "metadata": {},
     "output_type": "display_data"
    },
    {
     "data": {
      "application/vnd.jupyter.widget-view+json": {
       "model_id": "c81479c7782d4ab8941cb9ac818c19cb",
       "version_major": 2,
       "version_minor": 0
      },
      "text/plain": [
       "training batch:   0%|          | 0/140 [00:00<?, ?it/s]"
      ]
     },
     "metadata": {},
     "output_type": "display_data"
    },
    {
     "data": {
      "application/vnd.jupyter.widget-view+json": {
       "model_id": "e96220bac0f146ff9d1f7dfb196393ff",
       "version_major": 2,
       "version_minor": 0
      },
      "text/plain": [
       "eval batch:   0%|          | 0/32 [00:00<?, ?it/s]"
      ]
     },
     "metadata": {},
     "output_type": "display_data"
    },
    {
     "data": {
      "application/vnd.jupyter.widget-view+json": {
       "model_id": "0c3ecdbd2841423a90dfdf07544a8030",
       "version_major": 2,
       "version_minor": 0
      },
      "text/plain": [
       "training batch:   0%|          | 0/140 [00:00<?, ?it/s]"
      ]
     },
     "metadata": {},
     "output_type": "display_data"
    },
    {
     "data": {
      "application/vnd.jupyter.widget-view+json": {
       "model_id": "85d29f5c072a4c12ae9e80bc88531374",
       "version_major": 2,
       "version_minor": 0
      },
      "text/plain": [
       "eval batch:   0%|          | 0/32 [00:00<?, ?it/s]"
      ]
     },
     "metadata": {},
     "output_type": "display_data"
    },
    {
     "data": {
      "application/vnd.jupyter.widget-view+json": {
       "model_id": "2e8fb6b1e9094c0586b850659a045dce",
       "version_major": 2,
       "version_minor": 0
      },
      "text/plain": [
       "training batch:   0%|          | 0/140 [00:00<?, ?it/s]"
      ]
     },
     "metadata": {},
     "output_type": "display_data"
    },
    {
     "data": {
      "application/vnd.jupyter.widget-view+json": {
       "model_id": "95999301b27d4dfdaf4559894c81aaa5",
       "version_major": 2,
       "version_minor": 0
      },
      "text/plain": [
       "eval batch:   0%|          | 0/32 [00:00<?, ?it/s]"
      ]
     },
     "metadata": {},
     "output_type": "display_data"
    },
    {
     "data": {
      "application/vnd.jupyter.widget-view+json": {
       "model_id": "f9e903f11a364f5b90d8da222b26000c",
       "version_major": 2,
       "version_minor": 0
      },
      "text/plain": [
       "training batch:   0%|          | 0/140 [00:00<?, ?it/s]"
      ]
     },
     "metadata": {},
     "output_type": "display_data"
    },
    {
     "data": {
      "application/vnd.jupyter.widget-view+json": {
       "model_id": "249f2ec624344945877801dfa6c8b5bf",
       "version_major": 2,
       "version_minor": 0
      },
      "text/plain": [
       "eval batch:   0%|          | 0/32 [00:00<?, ?it/s]"
      ]
     },
     "metadata": {},
     "output_type": "display_data"
    },
    {
     "data": {
      "application/vnd.jupyter.widget-view+json": {
       "model_id": "733a2caa82224aa29bf1c8feb20e2e39",
       "version_major": 2,
       "version_minor": 0
      },
      "text/plain": [
       "training batch:   0%|          | 0/140 [00:00<?, ?it/s]"
      ]
     },
     "metadata": {},
     "output_type": "display_data"
    },
    {
     "data": {
      "application/vnd.jupyter.widget-view+json": {
       "model_id": "14364e85cd0a4f728d399fbe135be99f",
       "version_major": 2,
       "version_minor": 0
      },
      "text/plain": [
       "eval batch:   0%|          | 0/32 [00:00<?, ?it/s]"
      ]
     },
     "metadata": {},
     "output_type": "display_data"
    },
    {
     "data": {
      "application/vnd.jupyter.widget-view+json": {
       "model_id": "ef5d327797f64d809a275043d5473048",
       "version_major": 2,
       "version_minor": 0
      },
      "text/plain": [
       "training batch:   0%|          | 0/140 [00:00<?, ?it/s]"
      ]
     },
     "metadata": {},
     "output_type": "display_data"
    },
    {
     "data": {
      "application/vnd.jupyter.widget-view+json": {
       "model_id": "e59739d6cce546aba83c66769c4ec0ec",
       "version_major": 2,
       "version_minor": 0
      },
      "text/plain": [
       "eval batch:   0%|          | 0/32 [00:00<?, ?it/s]"
      ]
     },
     "metadata": {},
     "output_type": "display_data"
    },
    {
     "data": {
      "application/vnd.jupyter.widget-view+json": {
       "model_id": "10b9f30ba9934a5e8f7c9280a11f0b5b",
       "version_major": 2,
       "version_minor": 0
      },
      "text/plain": [
       "training batch:   0%|          | 0/140 [00:00<?, ?it/s]"
      ]
     },
     "metadata": {},
     "output_type": "display_data"
    },
    {
     "data": {
      "application/vnd.jupyter.widget-view+json": {
       "model_id": "c97d837104f54f3aaec4ded943f96ed4",
       "version_major": 2,
       "version_minor": 0
      },
      "text/plain": [
       "eval batch:   0%|          | 0/32 [00:00<?, ?it/s]"
      ]
     },
     "metadata": {},
     "output_type": "display_data"
    },
    {
     "data": {
      "application/vnd.jupyter.widget-view+json": {
       "model_id": "3b2edd0f19294ae6a587199dccb144a2",
       "version_major": 2,
       "version_minor": 0
      },
      "text/plain": [
       "training batch:   0%|          | 0/140 [00:00<?, ?it/s]"
      ]
     },
     "metadata": {},
     "output_type": "display_data"
    },
    {
     "data": {
      "application/vnd.jupyter.widget-view+json": {
       "model_id": "f2573b4b182a4fb883da3d98259b3a37",
       "version_major": 2,
       "version_minor": 0
      },
      "text/plain": [
       "eval batch:   0%|          | 0/32 [00:00<?, ?it/s]"
      ]
     },
     "metadata": {},
     "output_type": "display_data"
    },
    {
     "data": {
      "application/vnd.jupyter.widget-view+json": {
       "model_id": "27026b9768ca49ee9587e75e5d72cc9a",
       "version_major": 2,
       "version_minor": 0
      },
      "text/plain": [
       "training batch:   0%|          | 0/140 [00:00<?, ?it/s]"
      ]
     },
     "metadata": {},
     "output_type": "display_data"
    },
    {
     "data": {
      "application/vnd.jupyter.widget-view+json": {
       "model_id": "8c6feca50b67448f9d18303c7d26a42c",
       "version_major": 2,
       "version_minor": 0
      },
      "text/plain": [
       "eval batch:   0%|          | 0/32 [00:00<?, ?it/s]"
      ]
     },
     "metadata": {},
     "output_type": "display_data"
    },
    {
     "data": {
      "application/vnd.jupyter.widget-view+json": {
       "model_id": "3ebda3d829534b8aa077c0d9745661e4",
       "version_major": 2,
       "version_minor": 0
      },
      "text/plain": [
       "training batch:   0%|          | 0/140 [00:00<?, ?it/s]"
      ]
     },
     "metadata": {},
     "output_type": "display_data"
    },
    {
     "data": {
      "application/vnd.jupyter.widget-view+json": {
       "model_id": "8238b884dfee4e1882d2cea2fd032114",
       "version_major": 2,
       "version_minor": 0
      },
      "text/plain": [
       "eval batch:   0%|          | 0/32 [00:00<?, ?it/s]"
      ]
     },
     "metadata": {},
     "output_type": "display_data"
    },
    {
     "data": {
      "application/vnd.jupyter.widget-view+json": {
       "model_id": "74a4792c29a74fd29ddb394abcd525a1",
       "version_major": 2,
       "version_minor": 0
      },
      "text/plain": [
       "training batch:   0%|          | 0/140 [00:00<?, ?it/s]"
      ]
     },
     "metadata": {},
     "output_type": "display_data"
    },
    {
     "data": {
      "application/vnd.jupyter.widget-view+json": {
       "model_id": "441529f8ec9940649252a55a7919e020",
       "version_major": 2,
       "version_minor": 0
      },
      "text/plain": [
       "eval batch:   0%|          | 0/32 [00:00<?, ?it/s]"
      ]
     },
     "metadata": {},
     "output_type": "display_data"
    },
    {
     "data": {
      "application/vnd.jupyter.widget-view+json": {
       "model_id": "eb1a74756f334378a8fe20bb7e8250ec",
       "version_major": 2,
       "version_minor": 0
      },
      "text/plain": [
       "training batch:   0%|          | 0/140 [00:00<?, ?it/s]"
      ]
     },
     "metadata": {},
     "output_type": "display_data"
    },
    {
     "data": {
      "application/vnd.jupyter.widget-view+json": {
       "model_id": "b943aa071ee04800bf9144a3d08f3d79",
       "version_major": 2,
       "version_minor": 0
      },
      "text/plain": [
       "eval batch:   0%|          | 0/32 [00:00<?, ?it/s]"
      ]
     },
     "metadata": {},
     "output_type": "display_data"
    },
    {
     "data": {
      "application/vnd.jupyter.widget-view+json": {
       "model_id": "a280b17fef5e420898fdf553019cde0f",
       "version_major": 2,
       "version_minor": 0
      },
      "text/plain": [
       "training batch:   0%|          | 0/140 [00:00<?, ?it/s]"
      ]
     },
     "metadata": {},
     "output_type": "display_data"
    },
    {
     "data": {
      "application/vnd.jupyter.widget-view+json": {
       "model_id": "6d6aed961f304f3ca617edfc0b4dc47f",
       "version_major": 2,
       "version_minor": 0
      },
      "text/plain": [
       "eval batch:   0%|          | 0/32 [00:00<?, ?it/s]"
      ]
     },
     "metadata": {},
     "output_type": "display_data"
    },
    {
     "data": {
      "application/vnd.jupyter.widget-view+json": {
       "model_id": "7bf13e2504974a2b91add528c4965164",
       "version_major": 2,
       "version_minor": 0
      },
      "text/plain": [
       "training batch:   0%|          | 0/140 [00:00<?, ?it/s]"
      ]
     },
     "metadata": {},
     "output_type": "display_data"
    },
    {
     "data": {
      "application/vnd.jupyter.widget-view+json": {
       "model_id": "b091b5b4bc4546ef86f433bf2a269489",
       "version_major": 2,
       "version_minor": 0
      },
      "text/plain": [
       "eval batch:   0%|          | 0/32 [00:00<?, ?it/s]"
      ]
     },
     "metadata": {},
     "output_type": "display_data"
    },
    {
     "data": {
      "application/vnd.jupyter.widget-view+json": {
       "model_id": "79a4ea84699d4668b5e72b78de448565",
       "version_major": 2,
       "version_minor": 0
      },
      "text/plain": [
       "training batch:   0%|          | 0/140 [00:00<?, ?it/s]"
      ]
     },
     "metadata": {},
     "output_type": "display_data"
    },
    {
     "data": {
      "application/vnd.jupyter.widget-view+json": {
       "model_id": "965f35150ebf45378b22d2429baad8a6",
       "version_major": 2,
       "version_minor": 0
      },
      "text/plain": [
       "eval batch:   0%|          | 0/32 [00:00<?, ?it/s]"
      ]
     },
     "metadata": {},
     "output_type": "display_data"
    },
    {
     "data": {
      "application/vnd.jupyter.widget-view+json": {
       "model_id": "89cd0326fc494945b3a5226846190912",
       "version_major": 2,
       "version_minor": 0
      },
      "text/plain": [
       "training batch:   0%|          | 0/140 [00:00<?, ?it/s]"
      ]
     },
     "metadata": {},
     "output_type": "display_data"
    },
    {
     "data": {
      "application/vnd.jupyter.widget-view+json": {
       "model_id": "e4531db43abb406882d2fe175f33e29d",
       "version_major": 2,
       "version_minor": 0
      },
      "text/plain": [
       "eval batch:   0%|          | 0/32 [00:00<?, ?it/s]"
      ]
     },
     "metadata": {},
     "output_type": "display_data"
    },
    {
     "data": {
      "application/vnd.jupyter.widget-view+json": {
       "model_id": "fffd5da3cb474175a257f772485032ea",
       "version_major": 2,
       "version_minor": 0
      },
      "text/plain": [
       "training batch:   0%|          | 0/140 [00:00<?, ?it/s]"
      ]
     },
     "metadata": {},
     "output_type": "display_data"
    },
    {
     "data": {
      "application/vnd.jupyter.widget-view+json": {
       "model_id": "9e5c60008c74448aa1411333158a0e86",
       "version_major": 2,
       "version_minor": 0
      },
      "text/plain": [
       "eval batch:   0%|          | 0/32 [00:00<?, ?it/s]"
      ]
     },
     "metadata": {},
     "output_type": "display_data"
    },
    {
     "data": {
      "application/vnd.jupyter.widget-view+json": {
       "model_id": "daec2560c5c347658b2fbc6605a8bd36",
       "version_major": 2,
       "version_minor": 0
      },
      "text/plain": [
       "training batch:   0%|          | 0/140 [00:00<?, ?it/s]"
      ]
     },
     "metadata": {},
     "output_type": "display_data"
    },
    {
     "data": {
      "application/vnd.jupyter.widget-view+json": {
       "model_id": "48f5ae87610c4547a0c4bbc6f792f30f",
       "version_major": 2,
       "version_minor": 0
      },
      "text/plain": [
       "eval batch:   0%|          | 0/32 [00:00<?, ?it/s]"
      ]
     },
     "metadata": {},
     "output_type": "display_data"
    },
    {
     "data": {
      "application/vnd.jupyter.widget-view+json": {
       "model_id": "61d6c9fcdfb44173a12d6795b4ab8841",
       "version_major": 2,
       "version_minor": 0
      },
      "text/plain": [
       "training batch:   0%|          | 0/140 [00:00<?, ?it/s]"
      ]
     },
     "metadata": {},
     "output_type": "display_data"
    },
    {
     "data": {
      "application/vnd.jupyter.widget-view+json": {
       "model_id": "48193f9c30f64ea985b6e6a437c97309",
       "version_major": 2,
       "version_minor": 0
      },
      "text/plain": [
       "eval batch:   0%|          | 0/32 [00:00<?, ?it/s]"
      ]
     },
     "metadata": {},
     "output_type": "display_data"
    },
    {
     "data": {
      "application/vnd.jupyter.widget-view+json": {
       "model_id": "4fe7352ec71644a790731ffd9425e7b3",
       "version_major": 2,
       "version_minor": 0
      },
      "text/plain": [
       "training batch:   0%|          | 0/140 [00:00<?, ?it/s]"
      ]
     },
     "metadata": {},
     "output_type": "display_data"
    },
    {
     "data": {
      "application/vnd.jupyter.widget-view+json": {
       "model_id": "00fbb3b424ae462aab46ddc133d918ea",
       "version_major": 2,
       "version_minor": 0
      },
      "text/plain": [
       "eval batch:   0%|          | 0/32 [00:00<?, ?it/s]"
      ]
     },
     "metadata": {},
     "output_type": "display_data"
    },
    {
     "data": {
      "application/vnd.jupyter.widget-view+json": {
       "model_id": "37c995f89f0648c8a87e524d5bd52961",
       "version_major": 2,
       "version_minor": 0
      },
      "text/plain": [
       "training batch:   0%|          | 0/140 [00:00<?, ?it/s]"
      ]
     },
     "metadata": {},
     "output_type": "display_data"
    },
    {
     "data": {
      "application/vnd.jupyter.widget-view+json": {
       "model_id": "210e379951af4c349b477fa86c3ee5aa",
       "version_major": 2,
       "version_minor": 0
      },
      "text/plain": [
       "eval batch:   0%|          | 0/32 [00:00<?, ?it/s]"
      ]
     },
     "metadata": {},
     "output_type": "display_data"
    },
    {
     "data": {
      "application/vnd.jupyter.widget-view+json": {
       "model_id": "b2815ce4b420404ca77f50902661768e",
       "version_major": 2,
       "version_minor": 0
      },
      "text/plain": [
       "training batch:   0%|          | 0/140 [00:00<?, ?it/s]"
      ]
     },
     "metadata": {},
     "output_type": "display_data"
    },
    {
     "data": {
      "application/vnd.jupyter.widget-view+json": {
       "model_id": "34c808e754f546e19f12031bc3d7afd8",
       "version_major": 2,
       "version_minor": 0
      },
      "text/plain": [
       "eval batch:   0%|          | 0/32 [00:00<?, ?it/s]"
      ]
     },
     "metadata": {},
     "output_type": "display_data"
    },
    {
     "data": {
      "application/vnd.jupyter.widget-view+json": {
       "model_id": "e178a376dc614eb59f9fcb0a0bd718ff",
       "version_major": 2,
       "version_minor": 0
      },
      "text/plain": [
       "training batch:   0%|          | 0/140 [00:00<?, ?it/s]"
      ]
     },
     "metadata": {},
     "output_type": "display_data"
    },
    {
     "data": {
      "application/vnd.jupyter.widget-view+json": {
       "model_id": "5c3e2243699543e9b059ede5bd6ab02a",
       "version_major": 2,
       "version_minor": 0
      },
      "text/plain": [
       "eval batch:   0%|          | 0/32 [00:00<?, ?it/s]"
      ]
     },
     "metadata": {},
     "output_type": "display_data"
    },
    {
     "data": {
      "application/vnd.jupyter.widget-view+json": {
       "model_id": "db55de129a00462ca5475a806b380e00",
       "version_major": 2,
       "version_minor": 0
      },
      "text/plain": [
       "training batch:   0%|          | 0/140 [00:00<?, ?it/s]"
      ]
     },
     "metadata": {},
     "output_type": "display_data"
    },
    {
     "data": {
      "application/vnd.jupyter.widget-view+json": {
       "model_id": "b490289301d646228ca03bb5d2e1daed",
       "version_major": 2,
       "version_minor": 0
      },
      "text/plain": [
       "eval batch:   0%|          | 0/32 [00:00<?, ?it/s]"
      ]
     },
     "metadata": {},
     "output_type": "display_data"
    },
    {
     "data": {
      "application/vnd.jupyter.widget-view+json": {
       "model_id": "534cad980d0048cba918333d935956ac",
       "version_major": 2,
       "version_minor": 0
      },
      "text/plain": [
       "training batch:   0%|          | 0/140 [00:00<?, ?it/s]"
      ]
     },
     "metadata": {},
     "output_type": "display_data"
    },
    {
     "data": {
      "application/vnd.jupyter.widget-view+json": {
       "model_id": "681aca6a6f5a4a2a86a7a5d23e25eec3",
       "version_major": 2,
       "version_minor": 0
      },
      "text/plain": [
       "eval batch:   0%|          | 0/32 [00:00<?, ?it/s]"
      ]
     },
     "metadata": {},
     "output_type": "display_data"
    },
    {
     "data": {
      "application/vnd.jupyter.widget-view+json": {
       "model_id": "a7a218ac6ac747b5830025342c26acd2",
       "version_major": 2,
       "version_minor": 0
      },
      "text/plain": [
       "training batch:   0%|          | 0/140 [00:00<?, ?it/s]"
      ]
     },
     "metadata": {},
     "output_type": "display_data"
    },
    {
     "data": {
      "application/vnd.jupyter.widget-view+json": {
       "model_id": "8ee13d3b5f3b4abda6f21a1c925ee3dc",
       "version_major": 2,
       "version_minor": 0
      },
      "text/plain": [
       "eval batch:   0%|          | 0/32 [00:00<?, ?it/s]"
      ]
     },
     "metadata": {},
     "output_type": "display_data"
    },
    {
     "data": {
      "application/vnd.jupyter.widget-view+json": {
       "model_id": "3804229b638e47cf9f1adfce8ea2535b",
       "version_major": 2,
       "version_minor": 0
      },
      "text/plain": [
       "training batch:   0%|          | 0/140 [00:00<?, ?it/s]"
      ]
     },
     "metadata": {},
     "output_type": "display_data"
    },
    {
     "data": {
      "application/vnd.jupyter.widget-view+json": {
       "model_id": "864b308bbc0048518a981b73c04792e3",
       "version_major": 2,
       "version_minor": 0
      },
      "text/plain": [
       "eval batch:   0%|          | 0/32 [00:00<?, ?it/s]"
      ]
     },
     "metadata": {},
     "output_type": "display_data"
    },
    {
     "data": {
      "application/vnd.jupyter.widget-view+json": {
       "model_id": "11c5e55422cc4ffeadefdeb059f08873",
       "version_major": 2,
       "version_minor": 0
      },
      "text/plain": [
       "training batch:   0%|          | 0/140 [00:00<?, ?it/s]"
      ]
     },
     "metadata": {},
     "output_type": "display_data"
    },
    {
     "data": {
      "application/vnd.jupyter.widget-view+json": {
       "model_id": "fd171a00833c42e18f9a35d5e9aa58d4",
       "version_major": 2,
       "version_minor": 0
      },
      "text/plain": [
       "eval batch:   0%|          | 0/32 [00:00<?, ?it/s]"
      ]
     },
     "metadata": {},
     "output_type": "display_data"
    },
    {
     "data": {
      "application/vnd.jupyter.widget-view+json": {
       "model_id": "c5d68db066d64aaf8a67a7d69eb1a705",
       "version_major": 2,
       "version_minor": 0
      },
      "text/plain": [
       "training batch:   0%|          | 0/140 [00:00<?, ?it/s]"
      ]
     },
     "metadata": {},
     "output_type": "display_data"
    },
    {
     "data": {
      "application/vnd.jupyter.widget-view+json": {
       "model_id": "2d3bf67ab22b4bff851aec3b490cb6c0",
       "version_major": 2,
       "version_minor": 0
      },
      "text/plain": [
       "eval batch:   0%|          | 0/32 [00:00<?, ?it/s]"
      ]
     },
     "metadata": {},
     "output_type": "display_data"
    },
    {
     "data": {
      "application/vnd.jupyter.widget-view+json": {
       "model_id": "d734e77823e447d1bc84498216ee3e73",
       "version_major": 2,
       "version_minor": 0
      },
      "text/plain": [
       "training batch:   0%|          | 0/140 [00:00<?, ?it/s]"
      ]
     },
     "metadata": {},
     "output_type": "display_data"
    },
    {
     "data": {
      "application/vnd.jupyter.widget-view+json": {
       "model_id": "e3eee55a62904a229ff929eb8a9b7a7d",
       "version_major": 2,
       "version_minor": 0
      },
      "text/plain": [
       "eval batch:   0%|          | 0/32 [00:00<?, ?it/s]"
      ]
     },
     "metadata": {},
     "output_type": "display_data"
    },
    {
     "data": {
      "application/vnd.jupyter.widget-view+json": {
       "model_id": "83ca1c275a86482195437acc91802ff2",
       "version_major": 2,
       "version_minor": 0
      },
      "text/plain": [
       "training batch:   0%|          | 0/140 [00:00<?, ?it/s]"
      ]
     },
     "metadata": {},
     "output_type": "display_data"
    },
    {
     "data": {
      "application/vnd.jupyter.widget-view+json": {
       "model_id": "b97db7dc452048ae8175cbf61e03ffe9",
       "version_major": 2,
       "version_minor": 0
      },
      "text/plain": [
       "eval batch:   0%|          | 0/32 [00:00<?, ?it/s]"
      ]
     },
     "metadata": {},
     "output_type": "display_data"
    }
   ],
   "source": [
    "trainer = Trainer(\n",
    "    model=model, \n",
    "    train_config={\n",
    "        \"variational\": True, \n",
    "        \"eval_metrics\": [\"description_length\", \"accuracy\"],\n",
    "        \"lr\": 1e-3,\n",
    "        \"optimizer\": \"Adam\",\n",
    "        \"n_epochs\": 500,\n",
    "        \"loss_function\": \"crossentropy\",\n",
    "        \"ignore_index\": tagging_tokenizer.pad_token_id\n",
    "    }\n",
    ")\n",
    "\n",
    "\n",
    "model = trainer.train(\n",
    "    train_loader=train_loader,\n",
    "    val_loader=val_loader,\n",
    "    evaluate_every=1,\n",
    "    KL_weight=0.001\n",
    ")\n",
    "\n",
    "val_metrics = trainer._metrics"
   ]
  },
  {
   "cell_type": "code",
   "execution_count": null,
   "metadata": {},
   "outputs": [],
   "source": [
    "torch.save(model, \"variational_roberta_demo.pt\")"
   ]
  },
  {
   "cell_type": "code",
   "execution_count": null,
   "metadata": {},
   "outputs": [],
   "source": [
    "# val_metrics_mean"
   ]
  },
  {
   "cell_type": "code",
   "execution_count": null,
   "metadata": {},
   "outputs": [
    {
     "data": {
      "text/plain": [
       "({'cross_entropy_loss': 1505.4814,\n",
       "  'KL_divergence': 149500.75,\n",
       "  'description_length': 151006.22,\n",
       "  'accuracy': 0.36956525},\n",
       " {'cross_entropy_loss': 1649.0188, 'accuracy': 0.369016})"
      ]
     },
     "execution_count": 6,
     "metadata": {},
     "output_type": "execute_result"
    }
   ],
   "source": [
    "val_metrics[0], val_metrics_non_var[0]"
   ]
  },
  {
   "cell_type": "code",
   "execution_count": null,
   "metadata": {},
   "outputs": [],
   "source": []
  },
  {
   "cell_type": "code",
   "execution_count": null,
   "metadata": {},
   "outputs": [],
   "source": [
    "\n",
    "def visualize(\n",
    "    metrics,\n",
    "    *args, \n",
    "    legend_labels=[\"MDL\", \"Train\"],\n",
    "    show_only_these=None,\n",
    "    Epoch_step=10\n",
    "): \n",
    "    all_metrics_lists = [metrics, *args]\n",
    "    all_metrics_labels = set.union(*[set(elem[0].keys()) for elem in all_metrics_lists])\n",
    "\n",
    "    if show_only_these is None:\n",
    "        metrics_to_show = list(all_metrics_labels)\n",
    "    else:\n",
    "        metrics_to_show = list(all_metrics_labels & set(show_only_these))\n",
    "\n",
    "    n_metrics = len(metrics_to_show)\n",
    "    \n",
    "    fig, axes = plt.subplots(n_metrics, 1, figsize=(12, n_metrics * 6))\n",
    "\n",
    "    x_axis = np.arange(len([elem[list(elem.keys())[0]] for elem in all_metrics_lists[0]])) * Epoch_step + Epoch_step\n",
    "\n",
    "    for i in range(n_metrics):\n",
    "        for j in range(len(all_metrics_lists)):\n",
    "            if metrics_to_show[i] in all_metrics_lists[j][0]:\n",
    "                axes[i].plot(x_axis, [elem[metrics_to_show[i]] for elem in all_metrics_lists[j]], label=legend_labels[j])\n",
    "\n",
    "        axes[i].set_title(metrics_to_show[i], fontsize=20)\n",
    "        axes[i].legend(shadow=True, loc=\"upper left\", fontsize=18)\n",
    "        axes[i].set_xlabel(\"Epochs\", fontsize=16)"
   ]
  },
  {
   "cell_type": "code",
   "execution_count": null,
   "metadata": {},
   "outputs": [],
   "source": [
    "visualize(\n",
    "    metrics=val_metrics, \n",
    "    legend_labels=[\"MDL\"], \n",
    "    show_only_these=[\"accuracy\", \"description_length\"],\n",
    "    Epoch_step=1\n",
    ")"
   ]
  },
  {
   "cell_type": "code",
   "execution_count": null,
   "metadata": {},
   "outputs": [],
   "source": []
  },
  {
   "cell_type": "code",
   "execution_count": null,
   "metadata": {},
   "outputs": [],
   "source": []
  }
 ],
 "metadata": {
  "kernelspec": {
   "display_name": "DL",
   "language": "python",
   "name": "python3"
  },
  "language_info": {
   "codemirror_mode": {
    "name": "ipython",
    "version": 3
   },
   "file_extension": ".py",
   "mimetype": "text/x-python",
   "name": "python",
   "nbconvert_exporter": "python",
   "pygments_lexer": "ipython3",
   "version": "3.11.9"
  }
 },
 "nbformat": 4,
 "nbformat_minor": 2
}
