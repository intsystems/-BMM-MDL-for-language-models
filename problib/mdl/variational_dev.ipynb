{
 "cells": [
  {
   "cell_type": "code",
   "execution_count": 1,
   "metadata": {},
   "outputs": [],
   "source": [
    "import torch \n",
    "import torch.nn\n",
    "from torch.nn import functional as F\n",
    "from torch.utils.data import DataLoader\n",
    "\n",
    "from Trainer import Trainer\n",
    "\n",
    "from variational_probing import VariationalProbingModel\n",
    "from utils import *\n",
    "\n",
    "from transformers import AutoTokenizer\n",
    "import matplotlib.pyplot as plt\n",
    "import seaborn as sns\n",
    "sns.set_style(\"darkgrid\")\n",
    "\n",
    "%matplotlib inline"
   ]
  },
  {
   "cell_type": "code",
   "execution_count": 2,
   "metadata": {},
   "outputs": [
    {
     "name": "stderr",
     "output_type": "stream",
     "text": [
      "[nltk_data] Downloading package conll2000 to\n",
      "[nltk_data]     C:\\Users\\Nikita\\AppData\\Roaming\\nltk_data...\n",
      "[nltk_data]   Package conll2000 is already up-to-date!\n",
      "[nltk_data] Downloading package conll2000 to\n",
      "[nltk_data]     C:\\Users\\Nikita\\AppData\\Roaming\\nltk_data...\n",
      "[nltk_data]   Package conll2000 is already up-to-date!\n",
      "[nltk_data] Downloading package conll2000 to\n",
      "[nltk_data]     C:\\Users\\Nikita\\AppData\\Roaming\\nltk_data...\n",
      "[nltk_data]   Package conll2000 is already up-to-date!\n",
      "Some weights of RobertaModel were not initialized from the model checkpoint at D:/models/roberta-base and are newly initialized: ['roberta.pooler.dense.bias', 'roberta.pooler.dense.weight']\n",
      "You should probably TRAIN this model on a down-stream task to be able to use it for predictions and inference.\n",
      "d:\\anaconda3\\envs\\DL\\Lib\\site-packages\\transformers\\tokenization_utils_base.py:1601: FutureWarning: `clean_up_tokenization_spaces` was not set. It will be set to `True` by default. This behavior will be depracted in transformers v4.45, and will be then set to `False` by default. For more details check this issue: https://github.com/huggingface/transformers/issues/31884\n",
      "  warnings.warn(\n"
     ]
    }
   ],
   "source": [
    "data_path_train = \"conll2000_train.txt\"\n",
    "data_path_val = \"conll2000_test.txt\"\n",
    "data_path_test = \"conll2000_test.txt\"\n",
    "\n",
    "\n",
    "train_dataset = MDLDataset_POSTagging(data_path_train)\n",
    "tagging_tokenizer = train_dataset.tagging_tokenizer\n",
    "val_dataset = MDLDataset_POSTagging(data_path_val, tagging_tokenizer)\n",
    "test_dataset = MDLDataset_POSTagging(data_path_test, tagging_tokenizer)\n",
    "\n",
    "model = VariationalProbingModel(pretrained_path=\"D:/models/roberta-base\", out_features=len(tagging_tokenizer)).to(\"cuda\")\n",
    "tokenizer = AutoTokenizer.from_pretrained(\"D:/models/roberta-base\")\n",
    "\n",
    "collator = Collator(\n",
    "    tokenizer=tokenizer,\n",
    "    post_tagging_tokenizer=tagging_tokenizer,\n",
    "    max_length=1024,\n",
    "    padding=True,\n",
    "    truncation=True,\n",
    "    add_special_tokens=True\n",
    ")\n",
    "\n",
    "BATCH_SIZE = 256\n",
    "\n",
    "train_loader = DataLoader(train_dataset, batch_size=BATCH_SIZE, shuffle=True, collate_fn=collator)\n",
    "\n",
    "val_loader = DataLoader(val_dataset, batch_size=BATCH_SIZE, shuffle=False, collate_fn=collator)\n",
    "\n",
    "test_loader = DataLoader(test_dataset, batch_size=BATCH_SIZE, shuffle=False, collate_fn=collator)\n"
   ]
  },
  {
   "cell_type": "code",
   "execution_count": 3,
   "metadata": {},
   "outputs": [
    {
     "data": {
      "text/plain": [
       "torch.Size([2, 5, 48])"
      ]
     },
     "execution_count": 3,
     "metadata": {},
     "output_type": "execute_result"
    }
   ],
   "source": [
    "inps = tokenizer([\"hello world!\", \"hello world!\"], return_tensors=\"pt\")\n",
    "test_output = model(inps[\"input_ids\"].to(\"cuda\"), inps[\"attention_mask\"].to(\"cuda\"))\n",
    "test_output.shape"
   ]
  },
  {
   "cell_type": "code",
   "execution_count": null,
   "metadata": {},
   "outputs": [
    {
     "data": {
      "application/vnd.jupyter.widget-view+json": {
       "model_id": "90e7a269265f44829c3b165a7b77f0eb",
       "version_major": 2,
       "version_minor": 0
      },
      "text/plain": [
       "training epoch:   0%|          | 0/250 [00:00<?, ?it/s]"
      ]
     },
     "metadata": {},
     "output_type": "display_data"
    },
    {
     "data": {
      "application/vnd.jupyter.widget-view+json": {
       "model_id": "83b966f5aab44dc0a9deff960558d3d0",
       "version_major": 2,
       "version_minor": 0
      },
      "text/plain": [
       "training batch:   0%|          | 0/35 [00:00<?, ?it/s]"
      ]
     },
     "metadata": {},
     "output_type": "display_data"
    },
    {
     "data": {
      "application/vnd.jupyter.widget-view+json": {
       "model_id": "14c895daea4a4c45aa75f1b80fa3a7bb",
       "version_major": 2,
       "version_minor": 0
      },
      "text/plain": [
       "training batch:   0%|          | 0/35 [00:00<?, ?it/s]"
      ]
     },
     "metadata": {},
     "output_type": "display_data"
    },
    {
     "data": {
      "application/vnd.jupyter.widget-view+json": {
       "model_id": "528820a3a092450c90e25635a64f1ecd",
       "version_major": 2,
       "version_minor": 0
      },
      "text/plain": [
       "training batch:   0%|          | 0/35 [00:00<?, ?it/s]"
      ]
     },
     "metadata": {},
     "output_type": "display_data"
    },
    {
     "data": {
      "application/vnd.jupyter.widget-view+json": {
       "model_id": "79a8b15375a645e396ba3caa8836eae5",
       "version_major": 2,
       "version_minor": 0
      },
      "text/plain": [
       "training batch:   0%|          | 0/35 [00:00<?, ?it/s]"
      ]
     },
     "metadata": {},
     "output_type": "display_data"
    },
    {
     "data": {
      "application/vnd.jupyter.widget-view+json": {
       "model_id": "a24ab21d091f4883ae8c8ca8b706c1b0",
       "version_major": 2,
       "version_minor": 0
      },
      "text/plain": [
       "training batch:   0%|          | 0/35 [00:00<?, ?it/s]"
      ]
     },
     "metadata": {},
     "output_type": "display_data"
    },
    {
     "data": {
      "application/vnd.jupyter.widget-view+json": {
       "model_id": "e3e45f6f4de6458593c4a2eb623a0e96",
       "version_major": 2,
       "version_minor": 0
      },
      "text/plain": [
       "training batch:   0%|          | 0/35 [00:00<?, ?it/s]"
      ]
     },
     "metadata": {},
     "output_type": "display_data"
    },
    {
     "data": {
      "application/vnd.jupyter.widget-view+json": {
       "model_id": "e20c4fc733f74fc0927a1bdb4fbe6fd5",
       "version_major": 2,
       "version_minor": 0
      },
      "text/plain": [
       "training batch:   0%|          | 0/35 [00:00<?, ?it/s]"
      ]
     },
     "metadata": {},
     "output_type": "display_data"
    },
    {
     "data": {
      "application/vnd.jupyter.widget-view+json": {
       "model_id": "da58b47f34d342e0abce4db1a0b23c1a",
       "version_major": 2,
       "version_minor": 0
      },
      "text/plain": [
       "training batch:   0%|          | 0/35 [00:00<?, ?it/s]"
      ]
     },
     "metadata": {},
     "output_type": "display_data"
    },
    {
     "data": {
      "application/vnd.jupyter.widget-view+json": {
       "model_id": "7589d4a5ec3348e2a560b574526bb7b3",
       "version_major": 2,
       "version_minor": 0
      },
      "text/plain": [
       "training batch:   0%|          | 0/35 [00:00<?, ?it/s]"
      ]
     },
     "metadata": {},
     "output_type": "display_data"
    },
    {
     "data": {
      "application/vnd.jupyter.widget-view+json": {
       "model_id": "3dc02644f9104843bf72d3761e51593f",
       "version_major": 2,
       "version_minor": 0
      },
      "text/plain": [
       "training batch:   0%|          | 0/35 [00:00<?, ?it/s]"
      ]
     },
     "metadata": {},
     "output_type": "display_data"
    },
    {
     "data": {
      "application/vnd.jupyter.widget-view+json": {
       "model_id": "97e113b7ddbf4a2ab65d3f6474ee9080",
       "version_major": 2,
       "version_minor": 0
      },
      "text/plain": [
       "eval batch:   0%|          | 0/8 [00:00<?, ?it/s]"
      ]
     },
     "metadata": {},
     "output_type": "display_data"
    },
    {
     "data": {
      "application/vnd.jupyter.widget-view+json": {
       "model_id": "0e47094d86714d29ac20837505d49dbb",
       "version_major": 2,
       "version_minor": 0
      },
      "text/plain": [
       "training batch:   0%|          | 0/35 [00:00<?, ?it/s]"
      ]
     },
     "metadata": {},
     "output_type": "display_data"
    },
    {
     "data": {
      "application/vnd.jupyter.widget-view+json": {
       "model_id": "62cc73735e44469abd13540a45f18d9f",
       "version_major": 2,
       "version_minor": 0
      },
      "text/plain": [
       "training batch:   0%|          | 0/35 [00:00<?, ?it/s]"
      ]
     },
     "metadata": {},
     "output_type": "display_data"
    },
    {
     "data": {
      "application/vnd.jupyter.widget-view+json": {
       "model_id": "f9b8b87f190046b5aff7fd45e56323fd",
       "version_major": 2,
       "version_minor": 0
      },
      "text/plain": [
       "training batch:   0%|          | 0/35 [00:00<?, ?it/s]"
      ]
     },
     "metadata": {},
     "output_type": "display_data"
    },
    {
     "data": {
      "application/vnd.jupyter.widget-view+json": {
       "model_id": "666fe49d675248c984bf250323557a22",
       "version_major": 2,
       "version_minor": 0
      },
      "text/plain": [
       "training batch:   0%|          | 0/35 [00:00<?, ?it/s]"
      ]
     },
     "metadata": {},
     "output_type": "display_data"
    },
    {
     "data": {
      "application/vnd.jupyter.widget-view+json": {
       "model_id": "53d0d50131ac47aebc7d827900c637a7",
       "version_major": 2,
       "version_minor": 0
      },
      "text/plain": [
       "training batch:   0%|          | 0/35 [00:00<?, ?it/s]"
      ]
     },
     "metadata": {},
     "output_type": "display_data"
    },
    {
     "data": {
      "application/vnd.jupyter.widget-view+json": {
       "model_id": "e7e70be2765e48c49a20921aa70bfa47",
       "version_major": 2,
       "version_minor": 0
      },
      "text/plain": [
       "training batch:   0%|          | 0/35 [00:00<?, ?it/s]"
      ]
     },
     "metadata": {},
     "output_type": "display_data"
    },
    {
     "data": {
      "application/vnd.jupyter.widget-view+json": {
       "model_id": "ce0860d043494ef199a61290973d6a45",
       "version_major": 2,
       "version_minor": 0
      },
      "text/plain": [
       "training batch:   0%|          | 0/35 [00:00<?, ?it/s]"
      ]
     },
     "metadata": {},
     "output_type": "display_data"
    },
    {
     "data": {
      "application/vnd.jupyter.widget-view+json": {
       "model_id": "037f261030554a4eafbeba424d39d9d9",
       "version_major": 2,
       "version_minor": 0
      },
      "text/plain": [
       "training batch:   0%|          | 0/35 [00:00<?, ?it/s]"
      ]
     },
     "metadata": {},
     "output_type": "display_data"
    },
    {
     "data": {
      "application/vnd.jupyter.widget-view+json": {
       "model_id": "26834ac08de1493da99094b1883d1fbb",
       "version_major": 2,
       "version_minor": 0
      },
      "text/plain": [
       "training batch:   0%|          | 0/35 [00:00<?, ?it/s]"
      ]
     },
     "metadata": {},
     "output_type": "display_data"
    },
    {
     "data": {
      "application/vnd.jupyter.widget-view+json": {
       "model_id": "e3530b06e0a2407581bf5e368cfc5845",
       "version_major": 2,
       "version_minor": 0
      },
      "text/plain": [
       "training batch:   0%|          | 0/35 [00:00<?, ?it/s]"
      ]
     },
     "metadata": {},
     "output_type": "display_data"
    },
    {
     "data": {
      "application/vnd.jupyter.widget-view+json": {
       "model_id": "0cdc78e0b632463899ec1a032b9c1427",
       "version_major": 2,
       "version_minor": 0
      },
      "text/plain": [
       "eval batch:   0%|          | 0/8 [00:00<?, ?it/s]"
      ]
     },
     "metadata": {},
     "output_type": "display_data"
    },
    {
     "data": {
      "application/vnd.jupyter.widget-view+json": {
       "model_id": "b43af44e5fdb43ca86789a021430cf2a",
       "version_major": 2,
       "version_minor": 0
      },
      "text/plain": [
       "training batch:   0%|          | 0/35 [00:00<?, ?it/s]"
      ]
     },
     "metadata": {},
     "output_type": "display_data"
    },
    {
     "data": {
      "application/vnd.jupyter.widget-view+json": {
       "model_id": "4f78d2ed8b1a421497e4da1bff52c652",
       "version_major": 2,
       "version_minor": 0
      },
      "text/plain": [
       "training batch:   0%|          | 0/35 [00:00<?, ?it/s]"
      ]
     },
     "metadata": {},
     "output_type": "display_data"
    },
    {
     "data": {
      "application/vnd.jupyter.widget-view+json": {
       "model_id": "025f1141ad104d668d65eaab5d45cc4b",
       "version_major": 2,
       "version_minor": 0
      },
      "text/plain": [
       "training batch:   0%|          | 0/35 [00:00<?, ?it/s]"
      ]
     },
     "metadata": {},
     "output_type": "display_data"
    },
    {
     "data": {
      "application/vnd.jupyter.widget-view+json": {
       "model_id": "fe417241a59e47f985f95bdf5e469c09",
       "version_major": 2,
       "version_minor": 0
      },
      "text/plain": [
       "training batch:   0%|          | 0/35 [00:00<?, ?it/s]"
      ]
     },
     "metadata": {},
     "output_type": "display_data"
    },
    {
     "data": {
      "application/vnd.jupyter.widget-view+json": {
       "model_id": "5dd68459a00a4ece95536b4882198536",
       "version_major": 2,
       "version_minor": 0
      },
      "text/plain": [
       "training batch:   0%|          | 0/35 [00:00<?, ?it/s]"
      ]
     },
     "metadata": {},
     "output_type": "display_data"
    },
    {
     "data": {
      "application/vnd.jupyter.widget-view+json": {
       "model_id": "407b4abc6a914dbc986409c0003cb556",
       "version_major": 2,
       "version_minor": 0
      },
      "text/plain": [
       "training batch:   0%|          | 0/35 [00:00<?, ?it/s]"
      ]
     },
     "metadata": {},
     "output_type": "display_data"
    },
    {
     "data": {
      "application/vnd.jupyter.widget-view+json": {
       "model_id": "e6399d4eb5934d26abb6a80e4445273d",
       "version_major": 2,
       "version_minor": 0
      },
      "text/plain": [
       "training batch:   0%|          | 0/35 [00:00<?, ?it/s]"
      ]
     },
     "metadata": {},
     "output_type": "display_data"
    },
    {
     "data": {
      "application/vnd.jupyter.widget-view+json": {
       "model_id": "9bba92e15b8d4df192f03f9aa25a4dbb",
       "version_major": 2,
       "version_minor": 0
      },
      "text/plain": [
       "training batch:   0%|          | 0/35 [00:00<?, ?it/s]"
      ]
     },
     "metadata": {},
     "output_type": "display_data"
    },
    {
     "data": {
      "application/vnd.jupyter.widget-view+json": {
       "model_id": "9219a5979ed24f459f03663e61319c6d",
       "version_major": 2,
       "version_minor": 0
      },
      "text/plain": [
       "training batch:   0%|          | 0/35 [00:00<?, ?it/s]"
      ]
     },
     "metadata": {},
     "output_type": "display_data"
    },
    {
     "data": {
      "application/vnd.jupyter.widget-view+json": {
       "model_id": "50833d9302ef45b685dbd5d0ed40aa6b",
       "version_major": 2,
       "version_minor": 0
      },
      "text/plain": [
       "training batch:   0%|          | 0/35 [00:00<?, ?it/s]"
      ]
     },
     "metadata": {},
     "output_type": "display_data"
    },
    {
     "data": {
      "application/vnd.jupyter.widget-view+json": {
       "model_id": "8f14713c6b184b9088425b3c38cb934b",
       "version_major": 2,
       "version_minor": 0
      },
      "text/plain": [
       "eval batch:   0%|          | 0/8 [00:00<?, ?it/s]"
      ]
     },
     "metadata": {},
     "output_type": "display_data"
    },
    {
     "data": {
      "application/vnd.jupyter.widget-view+json": {
       "model_id": "2a3c9c1bb91a41fc97db36456874a669",
       "version_major": 2,
       "version_minor": 0
      },
      "text/plain": [
       "training batch:   0%|          | 0/35 [00:00<?, ?it/s]"
      ]
     },
     "metadata": {},
     "output_type": "display_data"
    },
    {
     "data": {
      "application/vnd.jupyter.widget-view+json": {
       "model_id": "6207f338fc5f42b884f3258c175dd221",
       "version_major": 2,
       "version_minor": 0
      },
      "text/plain": [
       "training batch:   0%|          | 0/35 [00:00<?, ?it/s]"
      ]
     },
     "metadata": {},
     "output_type": "display_data"
    },
    {
     "data": {
      "application/vnd.jupyter.widget-view+json": {
       "model_id": "50e8404330924bfbbbc18b887ed95711",
       "version_major": 2,
       "version_minor": 0
      },
      "text/plain": [
       "training batch:   0%|          | 0/35 [00:00<?, ?it/s]"
      ]
     },
     "metadata": {},
     "output_type": "display_data"
    },
    {
     "data": {
      "application/vnd.jupyter.widget-view+json": {
       "model_id": "2e7557916716406390609eadc649e071",
       "version_major": 2,
       "version_minor": 0
      },
      "text/plain": [
       "training batch:   0%|          | 0/35 [00:00<?, ?it/s]"
      ]
     },
     "metadata": {},
     "output_type": "display_data"
    },
    {
     "data": {
      "application/vnd.jupyter.widget-view+json": {
       "model_id": "6b6d455108fe45f59963cd4fb62a0f83",
       "version_major": 2,
       "version_minor": 0
      },
      "text/plain": [
       "training batch:   0%|          | 0/35 [00:00<?, ?it/s]"
      ]
     },
     "metadata": {},
     "output_type": "display_data"
    },
    {
     "data": {
      "application/vnd.jupyter.widget-view+json": {
       "model_id": "e99827addb294749a103ec302f6da702",
       "version_major": 2,
       "version_minor": 0
      },
      "text/plain": [
       "training batch:   0%|          | 0/35 [00:00<?, ?it/s]"
      ]
     },
     "metadata": {},
     "output_type": "display_data"
    },
    {
     "data": {
      "application/vnd.jupyter.widget-view+json": {
       "model_id": "88f41f7ddff44ec6934572278af56837",
       "version_major": 2,
       "version_minor": 0
      },
      "text/plain": [
       "training batch:   0%|          | 0/35 [00:00<?, ?it/s]"
      ]
     },
     "metadata": {},
     "output_type": "display_data"
    },
    {
     "data": {
      "application/vnd.jupyter.widget-view+json": {
       "model_id": "6868b1a3c2af4b21aebd3b8e026b2a97",
       "version_major": 2,
       "version_minor": 0
      },
      "text/plain": [
       "training batch:   0%|          | 0/35 [00:00<?, ?it/s]"
      ]
     },
     "metadata": {},
     "output_type": "display_data"
    },
    {
     "data": {
      "application/vnd.jupyter.widget-view+json": {
       "model_id": "d912147aba114890ada27db227d1b58a",
       "version_major": 2,
       "version_minor": 0
      },
      "text/plain": [
       "training batch:   0%|          | 0/35 [00:00<?, ?it/s]"
      ]
     },
     "metadata": {},
     "output_type": "display_data"
    },
    {
     "data": {
      "application/vnd.jupyter.widget-view+json": {
       "model_id": "28009459949344348f6ef35e3d13e3f0",
       "version_major": 2,
       "version_minor": 0
      },
      "text/plain": [
       "training batch:   0%|          | 0/35 [00:00<?, ?it/s]"
      ]
     },
     "metadata": {},
     "output_type": "display_data"
    },
    {
     "data": {
      "application/vnd.jupyter.widget-view+json": {
       "model_id": "c1cf4671c91847c499a3bc4abde275ee",
       "version_major": 2,
       "version_minor": 0
      },
      "text/plain": [
       "eval batch:   0%|          | 0/8 [00:00<?, ?it/s]"
      ]
     },
     "metadata": {},
     "output_type": "display_data"
    },
    {
     "data": {
      "application/vnd.jupyter.widget-view+json": {
       "model_id": "588fea555ced49c48a1d86448fffc8c5",
       "version_major": 2,
       "version_minor": 0
      },
      "text/plain": [
       "training batch:   0%|          | 0/35 [00:00<?, ?it/s]"
      ]
     },
     "metadata": {},
     "output_type": "display_data"
    },
    {
     "data": {
      "application/vnd.jupyter.widget-view+json": {
       "model_id": "078a32c90e69429f903b1f6717a67cfd",
       "version_major": 2,
       "version_minor": 0
      },
      "text/plain": [
       "training batch:   0%|          | 0/35 [00:00<?, ?it/s]"
      ]
     },
     "metadata": {},
     "output_type": "display_data"
    },
    {
     "data": {
      "application/vnd.jupyter.widget-view+json": {
       "model_id": "cf2879db755542898c7b9ac9aff45a40",
       "version_major": 2,
       "version_minor": 0
      },
      "text/plain": [
       "training batch:   0%|          | 0/35 [00:00<?, ?it/s]"
      ]
     },
     "metadata": {},
     "output_type": "display_data"
    },
    {
     "data": {
      "application/vnd.jupyter.widget-view+json": {
       "model_id": "5462d6dacf6240e7b8622c31827d4746",
       "version_major": 2,
       "version_minor": 0
      },
      "text/plain": [
       "training batch:   0%|          | 0/35 [00:00<?, ?it/s]"
      ]
     },
     "metadata": {},
     "output_type": "display_data"
    },
    {
     "data": {
      "application/vnd.jupyter.widget-view+json": {
       "model_id": "6e025c5f7fe74f4694c278885a25f1b4",
       "version_major": 2,
       "version_minor": 0
      },
      "text/plain": [
       "training batch:   0%|          | 0/35 [00:00<?, ?it/s]"
      ]
     },
     "metadata": {},
     "output_type": "display_data"
    },
    {
     "data": {
      "application/vnd.jupyter.widget-view+json": {
       "model_id": "dcbbf813cd3e400485ae1b7754c38204",
       "version_major": 2,
       "version_minor": 0
      },
      "text/plain": [
       "training batch:   0%|          | 0/35 [00:00<?, ?it/s]"
      ]
     },
     "metadata": {},
     "output_type": "display_data"
    },
    {
     "data": {
      "application/vnd.jupyter.widget-view+json": {
       "model_id": "2e90a51d3d4c44d18c9ae6d2afb9be87",
       "version_major": 2,
       "version_minor": 0
      },
      "text/plain": [
       "training batch:   0%|          | 0/35 [00:00<?, ?it/s]"
      ]
     },
     "metadata": {},
     "output_type": "display_data"
    },
    {
     "data": {
      "application/vnd.jupyter.widget-view+json": {
       "model_id": "de7a2bb6e8484206ada7f1bd61dcb28b",
       "version_major": 2,
       "version_minor": 0
      },
      "text/plain": [
       "training batch:   0%|          | 0/35 [00:00<?, ?it/s]"
      ]
     },
     "metadata": {},
     "output_type": "display_data"
    },
    {
     "data": {
      "application/vnd.jupyter.widget-view+json": {
       "model_id": "72901c0b83a543dab97ff0871a3e2cb1",
       "version_major": 2,
       "version_minor": 0
      },
      "text/plain": [
       "training batch:   0%|          | 0/35 [00:00<?, ?it/s]"
      ]
     },
     "metadata": {},
     "output_type": "display_data"
    },
    {
     "data": {
      "application/vnd.jupyter.widget-view+json": {
       "model_id": "2a628f725b4e4ea786823aecfa3bdd77",
       "version_major": 2,
       "version_minor": 0
      },
      "text/plain": [
       "training batch:   0%|          | 0/35 [00:00<?, ?it/s]"
      ]
     },
     "metadata": {},
     "output_type": "display_data"
    },
    {
     "data": {
      "application/vnd.jupyter.widget-view+json": {
       "model_id": "82145bab9c944794bcc0b5736b61290e",
       "version_major": 2,
       "version_minor": 0
      },
      "text/plain": [
       "eval batch:   0%|          | 0/8 [00:00<?, ?it/s]"
      ]
     },
     "metadata": {},
     "output_type": "display_data"
    },
    {
     "data": {
      "application/vnd.jupyter.widget-view+json": {
       "model_id": "30c9eeab2db14267a0f3b2bb5661ceb0",
       "version_major": 2,
       "version_minor": 0
      },
      "text/plain": [
       "training batch:   0%|          | 0/35 [00:00<?, ?it/s]"
      ]
     },
     "metadata": {},
     "output_type": "display_data"
    },
    {
     "data": {
      "application/vnd.jupyter.widget-view+json": {
       "model_id": "ed6f9c70b2c94fbc97f0d512d4d08d2c",
       "version_major": 2,
       "version_minor": 0
      },
      "text/plain": [
       "training batch:   0%|          | 0/35 [00:00<?, ?it/s]"
      ]
     },
     "metadata": {},
     "output_type": "display_data"
    },
    {
     "data": {
      "application/vnd.jupyter.widget-view+json": {
       "model_id": "99d83cfb199842169e7c4d446ecbf6fc",
       "version_major": 2,
       "version_minor": 0
      },
      "text/plain": [
       "training batch:   0%|          | 0/35 [00:00<?, ?it/s]"
      ]
     },
     "metadata": {},
     "output_type": "display_data"
    },
    {
     "data": {
      "application/vnd.jupyter.widget-view+json": {
       "model_id": "7d4293e2596d46ad82b4ac59e7292f96",
       "version_major": 2,
       "version_minor": 0
      },
      "text/plain": [
       "training batch:   0%|          | 0/35 [00:00<?, ?it/s]"
      ]
     },
     "metadata": {},
     "output_type": "display_data"
    },
    {
     "data": {
      "application/vnd.jupyter.widget-view+json": {
       "model_id": "7e56392764624ddaad7b43f428c5c95c",
       "version_major": 2,
       "version_minor": 0
      },
      "text/plain": [
       "training batch:   0%|          | 0/35 [00:00<?, ?it/s]"
      ]
     },
     "metadata": {},
     "output_type": "display_data"
    },
    {
     "data": {
      "application/vnd.jupyter.widget-view+json": {
       "model_id": "d9c02e8cdcd94dc68814dcd004bf95b4",
       "version_major": 2,
       "version_minor": 0
      },
      "text/plain": [
       "training batch:   0%|          | 0/35 [00:00<?, ?it/s]"
      ]
     },
     "metadata": {},
     "output_type": "display_data"
    },
    {
     "data": {
      "application/vnd.jupyter.widget-view+json": {
       "model_id": "d503d5ccaf9c4831a34fe52f5b24a3e0",
       "version_major": 2,
       "version_minor": 0
      },
      "text/plain": [
       "training batch:   0%|          | 0/35 [00:00<?, ?it/s]"
      ]
     },
     "metadata": {},
     "output_type": "display_data"
    },
    {
     "data": {
      "application/vnd.jupyter.widget-view+json": {
       "model_id": "556c9a7976774a80b0af33c06a5f7d98",
       "version_major": 2,
       "version_minor": 0
      },
      "text/plain": [
       "training batch:   0%|          | 0/35 [00:00<?, ?it/s]"
      ]
     },
     "metadata": {},
     "output_type": "display_data"
    },
    {
     "data": {
      "application/vnd.jupyter.widget-view+json": {
       "model_id": "3e6e41f629124f39aa4871e420e384f9",
       "version_major": 2,
       "version_minor": 0
      },
      "text/plain": [
       "training batch:   0%|          | 0/35 [00:00<?, ?it/s]"
      ]
     },
     "metadata": {},
     "output_type": "display_data"
    },
    {
     "data": {
      "application/vnd.jupyter.widget-view+json": {
       "model_id": "3134e2aa0c1f42b7b105add82ca670c5",
       "version_major": 2,
       "version_minor": 0
      },
      "text/plain": [
       "training batch:   0%|          | 0/35 [00:00<?, ?it/s]"
      ]
     },
     "metadata": {},
     "output_type": "display_data"
    },
    {
     "data": {
      "application/vnd.jupyter.widget-view+json": {
       "model_id": "8647555facf64a8a82e3ac677f8c3c53",
       "version_major": 2,
       "version_minor": 0
      },
      "text/plain": [
       "eval batch:   0%|          | 0/8 [00:00<?, ?it/s]"
      ]
     },
     "metadata": {},
     "output_type": "display_data"
    },
    {
     "data": {
      "application/vnd.jupyter.widget-view+json": {
       "model_id": "0c73cccae409440493526588a328d9b5",
       "version_major": 2,
       "version_minor": 0
      },
      "text/plain": [
       "training batch:   0%|          | 0/35 [00:00<?, ?it/s]"
      ]
     },
     "metadata": {},
     "output_type": "display_data"
    },
    {
     "data": {
      "application/vnd.jupyter.widget-view+json": {
       "model_id": "46b907f26a614789928b1d613cc45270",
       "version_major": 2,
       "version_minor": 0
      },
      "text/plain": [
       "training batch:   0%|          | 0/35 [00:00<?, ?it/s]"
      ]
     },
     "metadata": {},
     "output_type": "display_data"
    },
    {
     "data": {
      "application/vnd.jupyter.widget-view+json": {
       "model_id": "a76ba83d170d40cdbbfeb1052af721d9",
       "version_major": 2,
       "version_minor": 0
      },
      "text/plain": [
       "training batch:   0%|          | 0/35 [00:00<?, ?it/s]"
      ]
     },
     "metadata": {},
     "output_type": "display_data"
    },
    {
     "data": {
      "application/vnd.jupyter.widget-view+json": {
       "model_id": "18dadaba27504cae8e66166082f20d2b",
       "version_major": 2,
       "version_minor": 0
      },
      "text/plain": [
       "training batch:   0%|          | 0/35 [00:00<?, ?it/s]"
      ]
     },
     "metadata": {},
     "output_type": "display_data"
    },
    {
     "data": {
      "application/vnd.jupyter.widget-view+json": {
       "model_id": "65b3b1660aac47049bed88ec813621db",
       "version_major": 2,
       "version_minor": 0
      },
      "text/plain": [
       "training batch:   0%|          | 0/35 [00:00<?, ?it/s]"
      ]
     },
     "metadata": {},
     "output_type": "display_data"
    },
    {
     "data": {
      "application/vnd.jupyter.widget-view+json": {
       "model_id": "70a0ab09cbec467883b137725a27a394",
       "version_major": 2,
       "version_minor": 0
      },
      "text/plain": [
       "training batch:   0%|          | 0/35 [00:00<?, ?it/s]"
      ]
     },
     "metadata": {},
     "output_type": "display_data"
    },
    {
     "data": {
      "application/vnd.jupyter.widget-view+json": {
       "model_id": "dc44e0e117d14bddacf3216b445d65f7",
       "version_major": 2,
       "version_minor": 0
      },
      "text/plain": [
       "training batch:   0%|          | 0/35 [00:00<?, ?it/s]"
      ]
     },
     "metadata": {},
     "output_type": "display_data"
    },
    {
     "data": {
      "application/vnd.jupyter.widget-view+json": {
       "model_id": "4cf9b4ff8d2c4decb5bf7b60a53913cb",
       "version_major": 2,
       "version_minor": 0
      },
      "text/plain": [
       "training batch:   0%|          | 0/35 [00:00<?, ?it/s]"
      ]
     },
     "metadata": {},
     "output_type": "display_data"
    },
    {
     "data": {
      "application/vnd.jupyter.widget-view+json": {
       "model_id": "c7313b10adaa4f9f9078378cc89a0297",
       "version_major": 2,
       "version_minor": 0
      },
      "text/plain": [
       "training batch:   0%|          | 0/35 [00:00<?, ?it/s]"
      ]
     },
     "metadata": {},
     "output_type": "display_data"
    },
    {
     "data": {
      "application/vnd.jupyter.widget-view+json": {
       "model_id": "a02e5125a49047a1a840a7914204aeaf",
       "version_major": 2,
       "version_minor": 0
      },
      "text/plain": [
       "training batch:   0%|          | 0/35 [00:00<?, ?it/s]"
      ]
     },
     "metadata": {},
     "output_type": "display_data"
    },
    {
     "data": {
      "application/vnd.jupyter.widget-view+json": {
       "model_id": "dc9ff7c389ff4b87b927b7440f1225a9",
       "version_major": 2,
       "version_minor": 0
      },
      "text/plain": [
       "eval batch:   0%|          | 0/8 [00:00<?, ?it/s]"
      ]
     },
     "metadata": {},
     "output_type": "display_data"
    },
    {
     "data": {
      "application/vnd.jupyter.widget-view+json": {
       "model_id": "b0dd34cf8cf54289add3a33cec45512a",
       "version_major": 2,
       "version_minor": 0
      },
      "text/plain": [
       "training batch:   0%|          | 0/35 [00:00<?, ?it/s]"
      ]
     },
     "metadata": {},
     "output_type": "display_data"
    },
    {
     "data": {
      "application/vnd.jupyter.widget-view+json": {
       "model_id": "b94b22cfa1b848479cb8569c2c2bf731",
       "version_major": 2,
       "version_minor": 0
      },
      "text/plain": [
       "training batch:   0%|          | 0/35 [00:00<?, ?it/s]"
      ]
     },
     "metadata": {},
     "output_type": "display_data"
    },
    {
     "data": {
      "application/vnd.jupyter.widget-view+json": {
       "model_id": "f6519c52276943c1bbf098ce2423830c",
       "version_major": 2,
       "version_minor": 0
      },
      "text/plain": [
       "training batch:   0%|          | 0/35 [00:00<?, ?it/s]"
      ]
     },
     "metadata": {},
     "output_type": "display_data"
    },
    {
     "data": {
      "application/vnd.jupyter.widget-view+json": {
       "model_id": "4f48cb87299a4bd5834af022d14beba2",
       "version_major": 2,
       "version_minor": 0
      },
      "text/plain": [
       "training batch:   0%|          | 0/35 [00:00<?, ?it/s]"
      ]
     },
     "metadata": {},
     "output_type": "display_data"
    },
    {
     "data": {
      "application/vnd.jupyter.widget-view+json": {
       "model_id": "2fc74737bb22440583069d61655b3878",
       "version_major": 2,
       "version_minor": 0
      },
      "text/plain": [
       "training batch:   0%|          | 0/35 [00:00<?, ?it/s]"
      ]
     },
     "metadata": {},
     "output_type": "display_data"
    },
    {
     "data": {
      "application/vnd.jupyter.widget-view+json": {
       "model_id": "677842f478b6467d938a57abf8e10968",
       "version_major": 2,
       "version_minor": 0
      },
      "text/plain": [
       "training batch:   0%|          | 0/35 [00:00<?, ?it/s]"
      ]
     },
     "metadata": {},
     "output_type": "display_data"
    },
    {
     "data": {
      "application/vnd.jupyter.widget-view+json": {
       "model_id": "2465da211b1e4b779811804b6e0f24e9",
       "version_major": 2,
       "version_minor": 0
      },
      "text/plain": [
       "training batch:   0%|          | 0/35 [00:00<?, ?it/s]"
      ]
     },
     "metadata": {},
     "output_type": "display_data"
    },
    {
     "data": {
      "application/vnd.jupyter.widget-view+json": {
       "model_id": "228e5fa35b394a5ebf10b59db5957326",
       "version_major": 2,
       "version_minor": 0
      },
      "text/plain": [
       "training batch:   0%|          | 0/35 [00:00<?, ?it/s]"
      ]
     },
     "metadata": {},
     "output_type": "display_data"
    },
    {
     "data": {
      "application/vnd.jupyter.widget-view+json": {
       "model_id": "a07da0b212374852abdaadc286450954",
       "version_major": 2,
       "version_minor": 0
      },
      "text/plain": [
       "training batch:   0%|          | 0/35 [00:00<?, ?it/s]"
      ]
     },
     "metadata": {},
     "output_type": "display_data"
    },
    {
     "data": {
      "application/vnd.jupyter.widget-view+json": {
       "model_id": "515e2985cc8d4581ad4099083079731d",
       "version_major": 2,
       "version_minor": 0
      },
      "text/plain": [
       "training batch:   0%|          | 0/35 [00:00<?, ?it/s]"
      ]
     },
     "metadata": {},
     "output_type": "display_data"
    },
    {
     "data": {
      "application/vnd.jupyter.widget-view+json": {
       "model_id": "f76205fbcb3641518aa4d34a76dcdaed",
       "version_major": 2,
       "version_minor": 0
      },
      "text/plain": [
       "eval batch:   0%|          | 0/8 [00:00<?, ?it/s]"
      ]
     },
     "metadata": {},
     "output_type": "display_data"
    },
    {
     "data": {
      "application/vnd.jupyter.widget-view+json": {
       "model_id": "d1d26e4b813c4339b984166a2a2b33d4",
       "version_major": 2,
       "version_minor": 0
      },
      "text/plain": [
       "training batch:   0%|          | 0/35 [00:00<?, ?it/s]"
      ]
     },
     "metadata": {},
     "output_type": "display_data"
    },
    {
     "data": {
      "application/vnd.jupyter.widget-view+json": {
       "model_id": "3ebfb8e496d94a9294c9a6dedab1e24a",
       "version_major": 2,
       "version_minor": 0
      },
      "text/plain": [
       "training batch:   0%|          | 0/35 [00:00<?, ?it/s]"
      ]
     },
     "metadata": {},
     "output_type": "display_data"
    },
    {
     "data": {
      "application/vnd.jupyter.widget-view+json": {
       "model_id": "6a14498c1ea74835a8b487a2c76eb93e",
       "version_major": 2,
       "version_minor": 0
      },
      "text/plain": [
       "training batch:   0%|          | 0/35 [00:00<?, ?it/s]"
      ]
     },
     "metadata": {},
     "output_type": "display_data"
    },
    {
     "data": {
      "application/vnd.jupyter.widget-view+json": {
       "model_id": "5ca74af742e04def8336113a1559e912",
       "version_major": 2,
       "version_minor": 0
      },
      "text/plain": [
       "training batch:   0%|          | 0/35 [00:00<?, ?it/s]"
      ]
     },
     "metadata": {},
     "output_type": "display_data"
    },
    {
     "data": {
      "application/vnd.jupyter.widget-view+json": {
       "model_id": "a3500267c5494300bda8df731b78a8fd",
       "version_major": 2,
       "version_minor": 0
      },
      "text/plain": [
       "training batch:   0%|          | 0/35 [00:00<?, ?it/s]"
      ]
     },
     "metadata": {},
     "output_type": "display_data"
    },
    {
     "data": {
      "application/vnd.jupyter.widget-view+json": {
       "model_id": "aed18033a5b14fedb4810be9b9c88cd4",
       "version_major": 2,
       "version_minor": 0
      },
      "text/plain": [
       "training batch:   0%|          | 0/35 [00:00<?, ?it/s]"
      ]
     },
     "metadata": {},
     "output_type": "display_data"
    },
    {
     "data": {
      "application/vnd.jupyter.widget-view+json": {
       "model_id": "09abce2751244d268e92340f921da6e2",
       "version_major": 2,
       "version_minor": 0
      },
      "text/plain": [
       "training batch:   0%|          | 0/35 [00:00<?, ?it/s]"
      ]
     },
     "metadata": {},
     "output_type": "display_data"
    },
    {
     "data": {
      "application/vnd.jupyter.widget-view+json": {
       "model_id": "cc2cec98e00c415c9789e006632dd2ce",
       "version_major": 2,
       "version_minor": 0
      },
      "text/plain": [
       "training batch:   0%|          | 0/35 [00:00<?, ?it/s]"
      ]
     },
     "metadata": {},
     "output_type": "display_data"
    },
    {
     "data": {
      "application/vnd.jupyter.widget-view+json": {
       "model_id": "c97a6ca6ab3643c4b348a7ae0a21268f",
       "version_major": 2,
       "version_minor": 0
      },
      "text/plain": [
       "training batch:   0%|          | 0/35 [00:00<?, ?it/s]"
      ]
     },
     "metadata": {},
     "output_type": "display_data"
    },
    {
     "data": {
      "application/vnd.jupyter.widget-view+json": {
       "model_id": "0e8fa58de3bd4a1e986b59657a881a62",
       "version_major": 2,
       "version_minor": 0
      },
      "text/plain": [
       "training batch:   0%|          | 0/35 [00:00<?, ?it/s]"
      ]
     },
     "metadata": {},
     "output_type": "display_data"
    },
    {
     "data": {
      "application/vnd.jupyter.widget-view+json": {
       "model_id": "d663e8df333c414eac6294918db1349c",
       "version_major": 2,
       "version_minor": 0
      },
      "text/plain": [
       "eval batch:   0%|          | 0/8 [00:00<?, ?it/s]"
      ]
     },
     "metadata": {},
     "output_type": "display_data"
    },
    {
     "data": {
      "application/vnd.jupyter.widget-view+json": {
       "model_id": "227e1af45b744b15932bd4d1e7573607",
       "version_major": 2,
       "version_minor": 0
      },
      "text/plain": [
       "training batch:   0%|          | 0/35 [00:00<?, ?it/s]"
      ]
     },
     "metadata": {},
     "output_type": "display_data"
    },
    {
     "data": {
      "application/vnd.jupyter.widget-view+json": {
       "model_id": "a9f1065cdd3740c1a7264b5f0049e9d7",
       "version_major": 2,
       "version_minor": 0
      },
      "text/plain": [
       "training batch:   0%|          | 0/35 [00:00<?, ?it/s]"
      ]
     },
     "metadata": {},
     "output_type": "display_data"
    },
    {
     "data": {
      "application/vnd.jupyter.widget-view+json": {
       "model_id": "17e457f9bf5a40be958e3885440a0f7f",
       "version_major": 2,
       "version_minor": 0
      },
      "text/plain": [
       "training batch:   0%|          | 0/35 [00:00<?, ?it/s]"
      ]
     },
     "metadata": {},
     "output_type": "display_data"
    },
    {
     "data": {
      "application/vnd.jupyter.widget-view+json": {
       "model_id": "894822e287db476391c24d02d030f8c6",
       "version_major": 2,
       "version_minor": 0
      },
      "text/plain": [
       "training batch:   0%|          | 0/35 [00:00<?, ?it/s]"
      ]
     },
     "metadata": {},
     "output_type": "display_data"
    },
    {
     "data": {
      "application/vnd.jupyter.widget-view+json": {
       "model_id": "28ad7f51624842aca72168ef098817e3",
       "version_major": 2,
       "version_minor": 0
      },
      "text/plain": [
       "training batch:   0%|          | 0/35 [00:00<?, ?it/s]"
      ]
     },
     "metadata": {},
     "output_type": "display_data"
    },
    {
     "data": {
      "application/vnd.jupyter.widget-view+json": {
       "model_id": "b1123629c00b4b2d9ca2465d3988cd80",
       "version_major": 2,
       "version_minor": 0
      },
      "text/plain": [
       "training batch:   0%|          | 0/35 [00:00<?, ?it/s]"
      ]
     },
     "metadata": {},
     "output_type": "display_data"
    },
    {
     "data": {
      "application/vnd.jupyter.widget-view+json": {
       "model_id": "75331bc4b50f43a38d04c9628c8552d5",
       "version_major": 2,
       "version_minor": 0
      },
      "text/plain": [
       "training batch:   0%|          | 0/35 [00:00<?, ?it/s]"
      ]
     },
     "metadata": {},
     "output_type": "display_data"
    },
    {
     "data": {
      "application/vnd.jupyter.widget-view+json": {
       "model_id": "559c4d25675d42dc859c0b972385c4bf",
       "version_major": 2,
       "version_minor": 0
      },
      "text/plain": [
       "training batch:   0%|          | 0/35 [00:00<?, ?it/s]"
      ]
     },
     "metadata": {},
     "output_type": "display_data"
    },
    {
     "data": {
      "application/vnd.jupyter.widget-view+json": {
       "model_id": "929e37ae97ed40f6ad93c4f5c25eaa82",
       "version_major": 2,
       "version_minor": 0
      },
      "text/plain": [
       "training batch:   0%|          | 0/35 [00:00<?, ?it/s]"
      ]
     },
     "metadata": {},
     "output_type": "display_data"
    },
    {
     "data": {
      "application/vnd.jupyter.widget-view+json": {
       "model_id": "9acc0326c7034919bb99bd1abb7fbeda",
       "version_major": 2,
       "version_minor": 0
      },
      "text/plain": [
       "training batch:   0%|          | 0/35 [00:00<?, ?it/s]"
      ]
     },
     "metadata": {},
     "output_type": "display_data"
    },
    {
     "data": {
      "application/vnd.jupyter.widget-view+json": {
       "model_id": "c95486409792448eb3968bcd2ba23b2d",
       "version_major": 2,
       "version_minor": 0
      },
      "text/plain": [
       "eval batch:   0%|          | 0/8 [00:00<?, ?it/s]"
      ]
     },
     "metadata": {},
     "output_type": "display_data"
    },
    {
     "data": {
      "application/vnd.jupyter.widget-view+json": {
       "model_id": "652e938644144811b1bd7c12dc994cdd",
       "version_major": 2,
       "version_minor": 0
      },
      "text/plain": [
       "training batch:   0%|          | 0/35 [00:00<?, ?it/s]"
      ]
     },
     "metadata": {},
     "output_type": "display_data"
    },
    {
     "data": {
      "application/vnd.jupyter.widget-view+json": {
       "model_id": "9b9b83c31ae1477eb5f9415af3471305",
       "version_major": 2,
       "version_minor": 0
      },
      "text/plain": [
       "training batch:   0%|          | 0/35 [00:00<?, ?it/s]"
      ]
     },
     "metadata": {},
     "output_type": "display_data"
    },
    {
     "data": {
      "application/vnd.jupyter.widget-view+json": {
       "model_id": "d6323ff0140948fb9c6df216f4cd40f7",
       "version_major": 2,
       "version_minor": 0
      },
      "text/plain": [
       "training batch:   0%|          | 0/35 [00:00<?, ?it/s]"
      ]
     },
     "metadata": {},
     "output_type": "display_data"
    },
    {
     "data": {
      "application/vnd.jupyter.widget-view+json": {
       "model_id": "1d1c194090e2401ba5ca2b8041a44fce",
       "version_major": 2,
       "version_minor": 0
      },
      "text/plain": [
       "training batch:   0%|          | 0/35 [00:00<?, ?it/s]"
      ]
     },
     "metadata": {},
     "output_type": "display_data"
    },
    {
     "data": {
      "application/vnd.jupyter.widget-view+json": {
       "model_id": "6550dcf122524015b1eb5d824316ceca",
       "version_major": 2,
       "version_minor": 0
      },
      "text/plain": [
       "training batch:   0%|          | 0/35 [00:00<?, ?it/s]"
      ]
     },
     "metadata": {},
     "output_type": "display_data"
    },
    {
     "data": {
      "application/vnd.jupyter.widget-view+json": {
       "model_id": "8e1e448e2542411dba6c4ea4f51ee7dd",
       "version_major": 2,
       "version_minor": 0
      },
      "text/plain": [
       "training batch:   0%|          | 0/35 [00:00<?, ?it/s]"
      ]
     },
     "metadata": {},
     "output_type": "display_data"
    },
    {
     "data": {
      "application/vnd.jupyter.widget-view+json": {
       "model_id": "c13de7ac1139474ca6493132a0460210",
       "version_major": 2,
       "version_minor": 0
      },
      "text/plain": [
       "training batch:   0%|          | 0/35 [00:00<?, ?it/s]"
      ]
     },
     "metadata": {},
     "output_type": "display_data"
    },
    {
     "data": {
      "application/vnd.jupyter.widget-view+json": {
       "model_id": "1e29fa38be75445dba47643318d75b86",
       "version_major": 2,
       "version_minor": 0
      },
      "text/plain": [
       "training batch:   0%|          | 0/35 [00:00<?, ?it/s]"
      ]
     },
     "metadata": {},
     "output_type": "display_data"
    },
    {
     "data": {
      "application/vnd.jupyter.widget-view+json": {
       "model_id": "0266ad96802c4f72a3a71751cdb2f0b9",
       "version_major": 2,
       "version_minor": 0
      },
      "text/plain": [
       "training batch:   0%|          | 0/35 [00:00<?, ?it/s]"
      ]
     },
     "metadata": {},
     "output_type": "display_data"
    },
    {
     "data": {
      "application/vnd.jupyter.widget-view+json": {
       "model_id": "eff16546ec2a489ab86473f41d377bdd",
       "version_major": 2,
       "version_minor": 0
      },
      "text/plain": [
       "training batch:   0%|          | 0/35 [00:00<?, ?it/s]"
      ]
     },
     "metadata": {},
     "output_type": "display_data"
    },
    {
     "data": {
      "application/vnd.jupyter.widget-view+json": {
       "model_id": "50cc2162a3f74623bdc43d2dad508439",
       "version_major": 2,
       "version_minor": 0
      },
      "text/plain": [
       "eval batch:   0%|          | 0/8 [00:00<?, ?it/s]"
      ]
     },
     "metadata": {},
     "output_type": "display_data"
    },
    {
     "data": {
      "application/vnd.jupyter.widget-view+json": {
       "model_id": "72bdb4b7c6dd44f89aed4920e7a4bef6",
       "version_major": 2,
       "version_minor": 0
      },
      "text/plain": [
       "training batch:   0%|          | 0/35 [00:00<?, ?it/s]"
      ]
     },
     "metadata": {},
     "output_type": "display_data"
    },
    {
     "data": {
      "application/vnd.jupyter.widget-view+json": {
       "model_id": "fd6a4bcbcff84203963042753ae8b981",
       "version_major": 2,
       "version_minor": 0
      },
      "text/plain": [
       "training batch:   0%|          | 0/35 [00:00<?, ?it/s]"
      ]
     },
     "metadata": {},
     "output_type": "display_data"
    },
    {
     "data": {
      "application/vnd.jupyter.widget-view+json": {
       "model_id": "26d2245b3a7d424181bbc2e1eddda771",
       "version_major": 2,
       "version_minor": 0
      },
      "text/plain": [
       "training batch:   0%|          | 0/35 [00:00<?, ?it/s]"
      ]
     },
     "metadata": {},
     "output_type": "display_data"
    },
    {
     "data": {
      "application/vnd.jupyter.widget-view+json": {
       "model_id": "f5cd11c8ee3542a4a82492f426455b37",
       "version_major": 2,
       "version_minor": 0
      },
      "text/plain": [
       "training batch:   0%|          | 0/35 [00:00<?, ?it/s]"
      ]
     },
     "metadata": {},
     "output_type": "display_data"
    },
    {
     "data": {
      "application/vnd.jupyter.widget-view+json": {
       "model_id": "5838ba30732f413f851cfb89020ff341",
       "version_major": 2,
       "version_minor": 0
      },
      "text/plain": [
       "training batch:   0%|          | 0/35 [00:00<?, ?it/s]"
      ]
     },
     "metadata": {},
     "output_type": "display_data"
    },
    {
     "data": {
      "application/vnd.jupyter.widget-view+json": {
       "model_id": "8736dafeeafe4ac99b0dde10a8026b82",
       "version_major": 2,
       "version_minor": 0
      },
      "text/plain": [
       "training batch:   0%|          | 0/35 [00:00<?, ?it/s]"
      ]
     },
     "metadata": {},
     "output_type": "display_data"
    },
    {
     "data": {
      "application/vnd.jupyter.widget-view+json": {
       "model_id": "e136be5c329749f591de9cc470872e38",
       "version_major": 2,
       "version_minor": 0
      },
      "text/plain": [
       "training batch:   0%|          | 0/35 [00:00<?, ?it/s]"
      ]
     },
     "metadata": {},
     "output_type": "display_data"
    },
    {
     "data": {
      "application/vnd.jupyter.widget-view+json": {
       "model_id": "a6b95427aefa4b829d56bcac45291ccc",
       "version_major": 2,
       "version_minor": 0
      },
      "text/plain": [
       "training batch:   0%|          | 0/35 [00:00<?, ?it/s]"
      ]
     },
     "metadata": {},
     "output_type": "display_data"
    },
    {
     "data": {
      "application/vnd.jupyter.widget-view+json": {
       "model_id": "77206faa5cc1481bbb23381e60ca4596",
       "version_major": 2,
       "version_minor": 0
      },
      "text/plain": [
       "training batch:   0%|          | 0/35 [00:00<?, ?it/s]"
      ]
     },
     "metadata": {},
     "output_type": "display_data"
    },
    {
     "data": {
      "application/vnd.jupyter.widget-view+json": {
       "model_id": "c55d201f1293444297a51599f47cb4ae",
       "version_major": 2,
       "version_minor": 0
      },
      "text/plain": [
       "training batch:   0%|          | 0/35 [00:00<?, ?it/s]"
      ]
     },
     "metadata": {},
     "output_type": "display_data"
    },
    {
     "data": {
      "application/vnd.jupyter.widget-view+json": {
       "model_id": "3470b48ee8984c27acef9eb8a6c19d8a",
       "version_major": 2,
       "version_minor": 0
      },
      "text/plain": [
       "eval batch:   0%|          | 0/8 [00:00<?, ?it/s]"
      ]
     },
     "metadata": {},
     "output_type": "display_data"
    },
    {
     "data": {
      "application/vnd.jupyter.widget-view+json": {
       "model_id": "9bdf7301c5ad4a228b0a53e68b2b95f3",
       "version_major": 2,
       "version_minor": 0
      },
      "text/plain": [
       "training batch:   0%|          | 0/35 [00:00<?, ?it/s]"
      ]
     },
     "metadata": {},
     "output_type": "display_data"
    },
    {
     "data": {
      "application/vnd.jupyter.widget-view+json": {
       "model_id": "80b7a7b057794174a9ff2351a0d68062",
       "version_major": 2,
       "version_minor": 0
      },
      "text/plain": [
       "training batch:   0%|          | 0/35 [00:00<?, ?it/s]"
      ]
     },
     "metadata": {},
     "output_type": "display_data"
    },
    {
     "data": {
      "application/vnd.jupyter.widget-view+json": {
       "model_id": "07d4622cb10f45b5ad68873e47c95b30",
       "version_major": 2,
       "version_minor": 0
      },
      "text/plain": [
       "training batch:   0%|          | 0/35 [00:00<?, ?it/s]"
      ]
     },
     "metadata": {},
     "output_type": "display_data"
    },
    {
     "data": {
      "application/vnd.jupyter.widget-view+json": {
       "model_id": "3921f28ae71647ac9b2f760a29a411a2",
       "version_major": 2,
       "version_minor": 0
      },
      "text/plain": [
       "training batch:   0%|          | 0/35 [00:00<?, ?it/s]"
      ]
     },
     "metadata": {},
     "output_type": "display_data"
    },
    {
     "data": {
      "application/vnd.jupyter.widget-view+json": {
       "model_id": "81c945d7a8a94e0d930cda496fd75de3",
       "version_major": 2,
       "version_minor": 0
      },
      "text/plain": [
       "training batch:   0%|          | 0/35 [00:00<?, ?it/s]"
      ]
     },
     "metadata": {},
     "output_type": "display_data"
    },
    {
     "data": {
      "application/vnd.jupyter.widget-view+json": {
       "model_id": "16e6d671c346416f9bce396f3cbc062e",
       "version_major": 2,
       "version_minor": 0
      },
      "text/plain": [
       "training batch:   0%|          | 0/35 [00:00<?, ?it/s]"
      ]
     },
     "metadata": {},
     "output_type": "display_data"
    },
    {
     "data": {
      "application/vnd.jupyter.widget-view+json": {
       "model_id": "910b851a14734bdca53f762bf0637af8",
       "version_major": 2,
       "version_minor": 0
      },
      "text/plain": [
       "training batch:   0%|          | 0/35 [00:00<?, ?it/s]"
      ]
     },
     "metadata": {},
     "output_type": "display_data"
    },
    {
     "data": {
      "application/vnd.jupyter.widget-view+json": {
       "model_id": "ba477ce9da2f47488e225ed6dbe1913d",
       "version_major": 2,
       "version_minor": 0
      },
      "text/plain": [
       "training batch:   0%|          | 0/35 [00:00<?, ?it/s]"
      ]
     },
     "metadata": {},
     "output_type": "display_data"
    },
    {
     "data": {
      "application/vnd.jupyter.widget-view+json": {
       "model_id": "b07a3e8a2b3e474e99443a8ef62d46e0",
       "version_major": 2,
       "version_minor": 0
      },
      "text/plain": [
       "training batch:   0%|          | 0/35 [00:00<?, ?it/s]"
      ]
     },
     "metadata": {},
     "output_type": "display_data"
    },
    {
     "data": {
      "application/vnd.jupyter.widget-view+json": {
       "model_id": "60200792d35c48e2bbf1286a59f7f3d0",
       "version_major": 2,
       "version_minor": 0
      },
      "text/plain": [
       "training batch:   0%|          | 0/35 [00:00<?, ?it/s]"
      ]
     },
     "metadata": {},
     "output_type": "display_data"
    },
    {
     "data": {
      "application/vnd.jupyter.widget-view+json": {
       "model_id": "a91746091ed840b2b7fee85b48c8e51e",
       "version_major": 2,
       "version_minor": 0
      },
      "text/plain": [
       "eval batch:   0%|          | 0/8 [00:00<?, ?it/s]"
      ]
     },
     "metadata": {},
     "output_type": "display_data"
    },
    {
     "data": {
      "application/vnd.jupyter.widget-view+json": {
       "model_id": "ab895b88a3154bb68d5d2b6ed0e22b43",
       "version_major": 2,
       "version_minor": 0
      },
      "text/plain": [
       "training batch:   0%|          | 0/35 [00:00<?, ?it/s]"
      ]
     },
     "metadata": {},
     "output_type": "display_data"
    },
    {
     "data": {
      "application/vnd.jupyter.widget-view+json": {
       "model_id": "ec0460515b0c44ceb910f05abef52b28",
       "version_major": 2,
       "version_minor": 0
      },
      "text/plain": [
       "training batch:   0%|          | 0/35 [00:00<?, ?it/s]"
      ]
     },
     "metadata": {},
     "output_type": "display_data"
    },
    {
     "data": {
      "application/vnd.jupyter.widget-view+json": {
       "model_id": "efdeb2ea37e74c8dbb43134d2c5fd3df",
       "version_major": 2,
       "version_minor": 0
      },
      "text/plain": [
       "training batch:   0%|          | 0/35 [00:00<?, ?it/s]"
      ]
     },
     "metadata": {},
     "output_type": "display_data"
    },
    {
     "data": {
      "application/vnd.jupyter.widget-view+json": {
       "model_id": "0afc70064100453c888c1a0f36739f7f",
       "version_major": 2,
       "version_minor": 0
      },
      "text/plain": [
       "training batch:   0%|          | 0/35 [00:00<?, ?it/s]"
      ]
     },
     "metadata": {},
     "output_type": "display_data"
    },
    {
     "data": {
      "application/vnd.jupyter.widget-view+json": {
       "model_id": "8aaa2ed959a642c286000a394c546c55",
       "version_major": 2,
       "version_minor": 0
      },
      "text/plain": [
       "training batch:   0%|          | 0/35 [00:00<?, ?it/s]"
      ]
     },
     "metadata": {},
     "output_type": "display_data"
    },
    {
     "data": {
      "application/vnd.jupyter.widget-view+json": {
       "model_id": "876e503e0bc14913b85a8210aa03c325",
       "version_major": 2,
       "version_minor": 0
      },
      "text/plain": [
       "training batch:   0%|          | 0/35 [00:00<?, ?it/s]"
      ]
     },
     "metadata": {},
     "output_type": "display_data"
    },
    {
     "data": {
      "application/vnd.jupyter.widget-view+json": {
       "model_id": "d0bf88761bb64d93906ac7f96c8e0d53",
       "version_major": 2,
       "version_minor": 0
      },
      "text/plain": [
       "training batch:   0%|          | 0/35 [00:00<?, ?it/s]"
      ]
     },
     "metadata": {},
     "output_type": "display_data"
    },
    {
     "data": {
      "application/vnd.jupyter.widget-view+json": {
       "model_id": "2b140c4a83db429d9a12c1ab3002af7d",
       "version_major": 2,
       "version_minor": 0
      },
      "text/plain": [
       "training batch:   0%|          | 0/35 [00:00<?, ?it/s]"
      ]
     },
     "metadata": {},
     "output_type": "display_data"
    },
    {
     "data": {
      "application/vnd.jupyter.widget-view+json": {
       "model_id": "16d66961bdaf4e1dbef73fa2d56631ff",
       "version_major": 2,
       "version_minor": 0
      },
      "text/plain": [
       "training batch:   0%|          | 0/35 [00:00<?, ?it/s]"
      ]
     },
     "metadata": {},
     "output_type": "display_data"
    },
    {
     "data": {
      "application/vnd.jupyter.widget-view+json": {
       "model_id": "1a2ff2cc1ae64797a057c488d9a28200",
       "version_major": 2,
       "version_minor": 0
      },
      "text/plain": [
       "training batch:   0%|          | 0/35 [00:00<?, ?it/s]"
      ]
     },
     "metadata": {},
     "output_type": "display_data"
    },
    {
     "data": {
      "application/vnd.jupyter.widget-view+json": {
       "model_id": "dcbc0030411b4ef79168ed0b188eb20c",
       "version_major": 2,
       "version_minor": 0
      },
      "text/plain": [
       "eval batch:   0%|          | 0/8 [00:00<?, ?it/s]"
      ]
     },
     "metadata": {},
     "output_type": "display_data"
    },
    {
     "data": {
      "application/vnd.jupyter.widget-view+json": {
       "model_id": "d967cbd4f45344f3ab8ba0cac3fa2537",
       "version_major": 2,
       "version_minor": 0
      },
      "text/plain": [
       "training batch:   0%|          | 0/35 [00:00<?, ?it/s]"
      ]
     },
     "metadata": {},
     "output_type": "display_data"
    },
    {
     "data": {
      "application/vnd.jupyter.widget-view+json": {
       "model_id": "cdfe8b833c9a4291871e7b54a0712799",
       "version_major": 2,
       "version_minor": 0
      },
      "text/plain": [
       "training batch:   0%|          | 0/35 [00:00<?, ?it/s]"
      ]
     },
     "metadata": {},
     "output_type": "display_data"
    },
    {
     "data": {
      "application/vnd.jupyter.widget-view+json": {
       "model_id": "2a198cf9058d4385bb1d1eab37151471",
       "version_major": 2,
       "version_minor": 0
      },
      "text/plain": [
       "training batch:   0%|          | 0/35 [00:00<?, ?it/s]"
      ]
     },
     "metadata": {},
     "output_type": "display_data"
    },
    {
     "data": {
      "application/vnd.jupyter.widget-view+json": {
       "model_id": "1d60744d4129432781a4bf3a536bddfe",
       "version_major": 2,
       "version_minor": 0
      },
      "text/plain": [
       "training batch:   0%|          | 0/35 [00:00<?, ?it/s]"
      ]
     },
     "metadata": {},
     "output_type": "display_data"
    },
    {
     "data": {
      "application/vnd.jupyter.widget-view+json": {
       "model_id": "78e8bd8642144f10894d293bd94f3dde",
       "version_major": 2,
       "version_minor": 0
      },
      "text/plain": [
       "training batch:   0%|          | 0/35 [00:00<?, ?it/s]"
      ]
     },
     "metadata": {},
     "output_type": "display_data"
    },
    {
     "data": {
      "application/vnd.jupyter.widget-view+json": {
       "model_id": "03cbec11681a40d3936fb0cd93d40b62",
       "version_major": 2,
       "version_minor": 0
      },
      "text/plain": [
       "training batch:   0%|          | 0/35 [00:00<?, ?it/s]"
      ]
     },
     "metadata": {},
     "output_type": "display_data"
    },
    {
     "data": {
      "application/vnd.jupyter.widget-view+json": {
       "model_id": "ea9e017bb9284ec785fe66cc578eb725",
       "version_major": 2,
       "version_minor": 0
      },
      "text/plain": [
       "training batch:   0%|          | 0/35 [00:00<?, ?it/s]"
      ]
     },
     "metadata": {},
     "output_type": "display_data"
    },
    {
     "data": {
      "application/vnd.jupyter.widget-view+json": {
       "model_id": "28883a9afc9146798dd73fb7907ee579",
       "version_major": 2,
       "version_minor": 0
      },
      "text/plain": [
       "training batch:   0%|          | 0/35 [00:00<?, ?it/s]"
      ]
     },
     "metadata": {},
     "output_type": "display_data"
    },
    {
     "data": {
      "application/vnd.jupyter.widget-view+json": {
       "model_id": "cc8c5c8d35154a8f9943335afeeea1f1",
       "version_major": 2,
       "version_minor": 0
      },
      "text/plain": [
       "training batch:   0%|          | 0/35 [00:00<?, ?it/s]"
      ]
     },
     "metadata": {},
     "output_type": "display_data"
    },
    {
     "data": {
      "application/vnd.jupyter.widget-view+json": {
       "model_id": "cf4666c9a33949f697e225007ea2df2a",
       "version_major": 2,
       "version_minor": 0
      },
      "text/plain": [
       "training batch:   0%|          | 0/35 [00:00<?, ?it/s]"
      ]
     },
     "metadata": {},
     "output_type": "display_data"
    },
    {
     "data": {
      "application/vnd.jupyter.widget-view+json": {
       "model_id": "e46aca5307d443a7ad76809532dd709e",
       "version_major": 2,
       "version_minor": 0
      },
      "text/plain": [
       "eval batch:   0%|          | 0/8 [00:00<?, ?it/s]"
      ]
     },
     "metadata": {},
     "output_type": "display_data"
    },
    {
     "data": {
      "application/vnd.jupyter.widget-view+json": {
       "model_id": "0340233a3a364c388eb67df983085157",
       "version_major": 2,
       "version_minor": 0
      },
      "text/plain": [
       "training batch:   0%|          | 0/35 [00:00<?, ?it/s]"
      ]
     },
     "metadata": {},
     "output_type": "display_data"
    },
    {
     "data": {
      "application/vnd.jupyter.widget-view+json": {
       "model_id": "4bcabb1735694c4eb5a112a7ba09a7aa",
       "version_major": 2,
       "version_minor": 0
      },
      "text/plain": [
       "training batch:   0%|          | 0/35 [00:00<?, ?it/s]"
      ]
     },
     "metadata": {},
     "output_type": "display_data"
    },
    {
     "data": {
      "application/vnd.jupyter.widget-view+json": {
       "model_id": "b29b8d56d73d4f85b15c83968ff3b3cc",
       "version_major": 2,
       "version_minor": 0
      },
      "text/plain": [
       "training batch:   0%|          | 0/35 [00:00<?, ?it/s]"
      ]
     },
     "metadata": {},
     "output_type": "display_data"
    },
    {
     "data": {
      "application/vnd.jupyter.widget-view+json": {
       "model_id": "efd0d38a01334515bd728ab0e0695674",
       "version_major": 2,
       "version_minor": 0
      },
      "text/plain": [
       "training batch:   0%|          | 0/35 [00:00<?, ?it/s]"
      ]
     },
     "metadata": {},
     "output_type": "display_data"
    },
    {
     "data": {
      "application/vnd.jupyter.widget-view+json": {
       "model_id": "5cc244625ce641ba8507fde7dc2732d6",
       "version_major": 2,
       "version_minor": 0
      },
      "text/plain": [
       "training batch:   0%|          | 0/35 [00:00<?, ?it/s]"
      ]
     },
     "metadata": {},
     "output_type": "display_data"
    },
    {
     "data": {
      "application/vnd.jupyter.widget-view+json": {
       "model_id": "44a1bc2f8d63405eb3424418fc00fc0d",
       "version_major": 2,
       "version_minor": 0
      },
      "text/plain": [
       "training batch:   0%|          | 0/35 [00:00<?, ?it/s]"
      ]
     },
     "metadata": {},
     "output_type": "display_data"
    },
    {
     "data": {
      "application/vnd.jupyter.widget-view+json": {
       "model_id": "b4f0be1c5b544ceb816e09edce691f96",
       "version_major": 2,
       "version_minor": 0
      },
      "text/plain": [
       "training batch:   0%|          | 0/35 [00:00<?, ?it/s]"
      ]
     },
     "metadata": {},
     "output_type": "display_data"
    },
    {
     "data": {
      "application/vnd.jupyter.widget-view+json": {
       "model_id": "88f74e3240504442b5df97f89c4aec9a",
       "version_major": 2,
       "version_minor": 0
      },
      "text/plain": [
       "training batch:   0%|          | 0/35 [00:00<?, ?it/s]"
      ]
     },
     "metadata": {},
     "output_type": "display_data"
    },
    {
     "data": {
      "application/vnd.jupyter.widget-view+json": {
       "model_id": "0f713e842bfd443b9b81baa933af9c99",
       "version_major": 2,
       "version_minor": 0
      },
      "text/plain": [
       "training batch:   0%|          | 0/35 [00:00<?, ?it/s]"
      ]
     },
     "metadata": {},
     "output_type": "display_data"
    },
    {
     "data": {
      "application/vnd.jupyter.widget-view+json": {
       "model_id": "c08b60d47a5c4d41911596c1ec3cb4a9",
       "version_major": 2,
       "version_minor": 0
      },
      "text/plain": [
       "training batch:   0%|          | 0/35 [00:00<?, ?it/s]"
      ]
     },
     "metadata": {},
     "output_type": "display_data"
    },
    {
     "data": {
      "application/vnd.jupyter.widget-view+json": {
       "model_id": "253a99a36a174b1e9a294aa164f5743d",
       "version_major": 2,
       "version_minor": 0
      },
      "text/plain": [
       "eval batch:   0%|          | 0/8 [00:00<?, ?it/s]"
      ]
     },
     "metadata": {},
     "output_type": "display_data"
    },
    {
     "data": {
      "application/vnd.jupyter.widget-view+json": {
       "model_id": "9523734ef0464c13b4c32c03d531feb5",
       "version_major": 2,
       "version_minor": 0
      },
      "text/plain": [
       "training batch:   0%|          | 0/35 [00:00<?, ?it/s]"
      ]
     },
     "metadata": {},
     "output_type": "display_data"
    },
    {
     "data": {
      "application/vnd.jupyter.widget-view+json": {
       "model_id": "ff6422e2a49d4c0787ead010956ddf5e",
       "version_major": 2,
       "version_minor": 0
      },
      "text/plain": [
       "training batch:   0%|          | 0/35 [00:00<?, ?it/s]"
      ]
     },
     "metadata": {},
     "output_type": "display_data"
    },
    {
     "data": {
      "application/vnd.jupyter.widget-view+json": {
       "model_id": "8798b08ba3a448d290670419f255e587",
       "version_major": 2,
       "version_minor": 0
      },
      "text/plain": [
       "training batch:   0%|          | 0/35 [00:00<?, ?it/s]"
      ]
     },
     "metadata": {},
     "output_type": "display_data"
    },
    {
     "data": {
      "application/vnd.jupyter.widget-view+json": {
       "model_id": "219dc03e693e4ae0a4289685f144d34a",
       "version_major": 2,
       "version_minor": 0
      },
      "text/plain": [
       "training batch:   0%|          | 0/35 [00:00<?, ?it/s]"
      ]
     },
     "metadata": {},
     "output_type": "display_data"
    },
    {
     "data": {
      "application/vnd.jupyter.widget-view+json": {
       "model_id": "ba4c4e29cf744256a10d936f5e18cf93",
       "version_major": 2,
       "version_minor": 0
      },
      "text/plain": [
       "training batch:   0%|          | 0/35 [00:00<?, ?it/s]"
      ]
     },
     "metadata": {},
     "output_type": "display_data"
    },
    {
     "data": {
      "application/vnd.jupyter.widget-view+json": {
       "model_id": "67bf8be44130406d933ee40a67e26d4d",
       "version_major": 2,
       "version_minor": 0
      },
      "text/plain": [
       "training batch:   0%|          | 0/35 [00:00<?, ?it/s]"
      ]
     },
     "metadata": {},
     "output_type": "display_data"
    },
    {
     "data": {
      "application/vnd.jupyter.widget-view+json": {
       "model_id": "e928e0db67834fd5bbd2aea3f5635c74",
       "version_major": 2,
       "version_minor": 0
      },
      "text/plain": [
       "training batch:   0%|          | 0/35 [00:00<?, ?it/s]"
      ]
     },
     "metadata": {},
     "output_type": "display_data"
    },
    {
     "data": {
      "application/vnd.jupyter.widget-view+json": {
       "model_id": "8ce438b2836f4c06b5091cd3f9ab21cb",
       "version_major": 2,
       "version_minor": 0
      },
      "text/plain": [
       "training batch:   0%|          | 0/35 [00:00<?, ?it/s]"
      ]
     },
     "metadata": {},
     "output_type": "display_data"
    },
    {
     "data": {
      "application/vnd.jupyter.widget-view+json": {
       "model_id": "fbdcf499764d4a2a9996e90922812748",
       "version_major": 2,
       "version_minor": 0
      },
      "text/plain": [
       "training batch:   0%|          | 0/35 [00:00<?, ?it/s]"
      ]
     },
     "metadata": {},
     "output_type": "display_data"
    },
    {
     "data": {
      "application/vnd.jupyter.widget-view+json": {
       "model_id": "ebc038b9df93494aabf0387d1d58c9c0",
       "version_major": 2,
       "version_minor": 0
      },
      "text/plain": [
       "training batch:   0%|          | 0/35 [00:00<?, ?it/s]"
      ]
     },
     "metadata": {},
     "output_type": "display_data"
    },
    {
     "data": {
      "application/vnd.jupyter.widget-view+json": {
       "model_id": "802a55cfe5984e9e8683954d9c037dd9",
       "version_major": 2,
       "version_minor": 0
      },
      "text/plain": [
       "eval batch:   0%|          | 0/8 [00:00<?, ?it/s]"
      ]
     },
     "metadata": {},
     "output_type": "display_data"
    },
    {
     "data": {
      "application/vnd.jupyter.widget-view+json": {
       "model_id": "62e3d6763b4b46c4aefb876ec463b40f",
       "version_major": 2,
       "version_minor": 0
      },
      "text/plain": [
       "training batch:   0%|          | 0/35 [00:00<?, ?it/s]"
      ]
     },
     "metadata": {},
     "output_type": "display_data"
    },
    {
     "data": {
      "application/vnd.jupyter.widget-view+json": {
       "model_id": "9e4e0e4c0bd146b895fa4a4f26f79f4a",
       "version_major": 2,
       "version_minor": 0
      },
      "text/plain": [
       "training batch:   0%|          | 0/35 [00:00<?, ?it/s]"
      ]
     },
     "metadata": {},
     "output_type": "display_data"
    },
    {
     "data": {
      "application/vnd.jupyter.widget-view+json": {
       "model_id": "dbbe3059d8814357b643bccce142563c",
       "version_major": 2,
       "version_minor": 0
      },
      "text/plain": [
       "training batch:   0%|          | 0/35 [00:00<?, ?it/s]"
      ]
     },
     "metadata": {},
     "output_type": "display_data"
    },
    {
     "data": {
      "application/vnd.jupyter.widget-view+json": {
       "model_id": "87c01256bd8340299c0f89473c9763ba",
       "version_major": 2,
       "version_minor": 0
      },
      "text/plain": [
       "training batch:   0%|          | 0/35 [00:00<?, ?it/s]"
      ]
     },
     "metadata": {},
     "output_type": "display_data"
    },
    {
     "data": {
      "application/vnd.jupyter.widget-view+json": {
       "model_id": "66fef334d855414cb17c5b272cce5f0f",
       "version_major": 2,
       "version_minor": 0
      },
      "text/plain": [
       "training batch:   0%|          | 0/35 [00:00<?, ?it/s]"
      ]
     },
     "metadata": {},
     "output_type": "display_data"
    },
    {
     "data": {
      "application/vnd.jupyter.widget-view+json": {
       "model_id": "0ac652facbd440d0bd42fdd77b7f7299",
       "version_major": 2,
       "version_minor": 0
      },
      "text/plain": [
       "training batch:   0%|          | 0/35 [00:00<?, ?it/s]"
      ]
     },
     "metadata": {},
     "output_type": "display_data"
    },
    {
     "data": {
      "application/vnd.jupyter.widget-view+json": {
       "model_id": "e055b4e094a8421c9831b400d2044d3b",
       "version_major": 2,
       "version_minor": 0
      },
      "text/plain": [
       "training batch:   0%|          | 0/35 [00:00<?, ?it/s]"
      ]
     },
     "metadata": {},
     "output_type": "display_data"
    },
    {
     "data": {
      "application/vnd.jupyter.widget-view+json": {
       "model_id": "f95f4939990743f885c1cba6d6e37b8a",
       "version_major": 2,
       "version_minor": 0
      },
      "text/plain": [
       "training batch:   0%|          | 0/35 [00:00<?, ?it/s]"
      ]
     },
     "metadata": {},
     "output_type": "display_data"
    },
    {
     "data": {
      "application/vnd.jupyter.widget-view+json": {
       "model_id": "1b07fca361af42cdaa99243050a1084e",
       "version_major": 2,
       "version_minor": 0
      },
      "text/plain": [
       "training batch:   0%|          | 0/35 [00:00<?, ?it/s]"
      ]
     },
     "metadata": {},
     "output_type": "display_data"
    },
    {
     "data": {
      "application/vnd.jupyter.widget-view+json": {
       "model_id": "f34650dac46c41c6a4a8c1f0b0150c4f",
       "version_major": 2,
       "version_minor": 0
      },
      "text/plain": [
       "training batch:   0%|          | 0/35 [00:00<?, ?it/s]"
      ]
     },
     "metadata": {},
     "output_type": "display_data"
    },
    {
     "data": {
      "application/vnd.jupyter.widget-view+json": {
       "model_id": "316900e956a44541af86669a602fd8f7",
       "version_major": 2,
       "version_minor": 0
      },
      "text/plain": [
       "eval batch:   0%|          | 0/8 [00:00<?, ?it/s]"
      ]
     },
     "metadata": {},
     "output_type": "display_data"
    },
    {
     "data": {
      "application/vnd.jupyter.widget-view+json": {
       "model_id": "b6ff6c9b31274b2ba899835e176c3f20",
       "version_major": 2,
       "version_minor": 0
      },
      "text/plain": [
       "training batch:   0%|          | 0/35 [00:00<?, ?it/s]"
      ]
     },
     "metadata": {},
     "output_type": "display_data"
    },
    {
     "data": {
      "application/vnd.jupyter.widget-view+json": {
       "model_id": "def02152b5b34ce8bd1fedfb66fb8055",
       "version_major": 2,
       "version_minor": 0
      },
      "text/plain": [
       "training batch:   0%|          | 0/35 [00:00<?, ?it/s]"
      ]
     },
     "metadata": {},
     "output_type": "display_data"
    },
    {
     "data": {
      "application/vnd.jupyter.widget-view+json": {
       "model_id": "7db584537e7748739df102be7c582df4",
       "version_major": 2,
       "version_minor": 0
      },
      "text/plain": [
       "training batch:   0%|          | 0/35 [00:00<?, ?it/s]"
      ]
     },
     "metadata": {},
     "output_type": "display_data"
    },
    {
     "data": {
      "application/vnd.jupyter.widget-view+json": {
       "model_id": "ba297c511f394934ba02f1fd70f08b71",
       "version_major": 2,
       "version_minor": 0
      },
      "text/plain": [
       "training batch:   0%|          | 0/35 [00:00<?, ?it/s]"
      ]
     },
     "metadata": {},
     "output_type": "display_data"
    },
    {
     "data": {
      "application/vnd.jupyter.widget-view+json": {
       "model_id": "24c5d7d849ac40e99d9c4c507b2c2b1d",
       "version_major": 2,
       "version_minor": 0
      },
      "text/plain": [
       "training batch:   0%|          | 0/35 [00:00<?, ?it/s]"
      ]
     },
     "metadata": {},
     "output_type": "display_data"
    },
    {
     "data": {
      "application/vnd.jupyter.widget-view+json": {
       "model_id": "6d0921bd68ab4520b904dc3d27fd4a8e",
       "version_major": 2,
       "version_minor": 0
      },
      "text/plain": [
       "training batch:   0%|          | 0/35 [00:00<?, ?it/s]"
      ]
     },
     "metadata": {},
     "output_type": "display_data"
    },
    {
     "data": {
      "application/vnd.jupyter.widget-view+json": {
       "model_id": "a7c323d0ff89408ba72792c3ae0ff35f",
       "version_major": 2,
       "version_minor": 0
      },
      "text/plain": [
       "training batch:   0%|          | 0/35 [00:00<?, ?it/s]"
      ]
     },
     "metadata": {},
     "output_type": "display_data"
    },
    {
     "data": {
      "application/vnd.jupyter.widget-view+json": {
       "model_id": "68842c6dc28a4f05a05e1e20d9599e82",
       "version_major": 2,
       "version_minor": 0
      },
      "text/plain": [
       "training batch:   0%|          | 0/35 [00:00<?, ?it/s]"
      ]
     },
     "metadata": {},
     "output_type": "display_data"
    },
    {
     "data": {
      "application/vnd.jupyter.widget-view+json": {
       "model_id": "6b6b983c8bf343b2b98672f359e754c1",
       "version_major": 2,
       "version_minor": 0
      },
      "text/plain": [
       "training batch:   0%|          | 0/35 [00:00<?, ?it/s]"
      ]
     },
     "metadata": {},
     "output_type": "display_data"
    },
    {
     "data": {
      "application/vnd.jupyter.widget-view+json": {
       "model_id": "9015196fbde447b48d7e620dd768e188",
       "version_major": 2,
       "version_minor": 0
      },
      "text/plain": [
       "training batch:   0%|          | 0/35 [00:00<?, ?it/s]"
      ]
     },
     "metadata": {},
     "output_type": "display_data"
    },
    {
     "data": {
      "application/vnd.jupyter.widget-view+json": {
       "model_id": "3688d6716bb84ee9ad768973e0605afc",
       "version_major": 2,
       "version_minor": 0
      },
      "text/plain": [
       "eval batch:   0%|          | 0/8 [00:00<?, ?it/s]"
      ]
     },
     "metadata": {},
     "output_type": "display_data"
    },
    {
     "data": {
      "application/vnd.jupyter.widget-view+json": {
       "model_id": "3094151fb3f349d3906e3ed1300a7e90",
       "version_major": 2,
       "version_minor": 0
      },
      "text/plain": [
       "training batch:   0%|          | 0/35 [00:00<?, ?it/s]"
      ]
     },
     "metadata": {},
     "output_type": "display_data"
    },
    {
     "data": {
      "application/vnd.jupyter.widget-view+json": {
       "model_id": "7a985335ccff407982de25ff812a028a",
       "version_major": 2,
       "version_minor": 0
      },
      "text/plain": [
       "training batch:   0%|          | 0/35 [00:00<?, ?it/s]"
      ]
     },
     "metadata": {},
     "output_type": "display_data"
    },
    {
     "data": {
      "application/vnd.jupyter.widget-view+json": {
       "model_id": "2dad75c66d2c4a16a6b958c223ee102c",
       "version_major": 2,
       "version_minor": 0
      },
      "text/plain": [
       "training batch:   0%|          | 0/35 [00:00<?, ?it/s]"
      ]
     },
     "metadata": {},
     "output_type": "display_data"
    },
    {
     "data": {
      "application/vnd.jupyter.widget-view+json": {
       "model_id": "6d42286ac6b14508a1c893a15c2656be",
       "version_major": 2,
       "version_minor": 0
      },
      "text/plain": [
       "training batch:   0%|          | 0/35 [00:00<?, ?it/s]"
      ]
     },
     "metadata": {},
     "output_type": "display_data"
    },
    {
     "data": {
      "application/vnd.jupyter.widget-view+json": {
       "model_id": "4815e56fdb394595a27e44292444abec",
       "version_major": 2,
       "version_minor": 0
      },
      "text/plain": [
       "training batch:   0%|          | 0/35 [00:00<?, ?it/s]"
      ]
     },
     "metadata": {},
     "output_type": "display_data"
    },
    {
     "data": {
      "application/vnd.jupyter.widget-view+json": {
       "model_id": "e400aa81fe444b438165c8d73549e861",
       "version_major": 2,
       "version_minor": 0
      },
      "text/plain": [
       "training batch:   0%|          | 0/35 [00:00<?, ?it/s]"
      ]
     },
     "metadata": {},
     "output_type": "display_data"
    },
    {
     "data": {
      "application/vnd.jupyter.widget-view+json": {
       "model_id": "08e3b5a935ad4e2684b366bc53a921bc",
       "version_major": 2,
       "version_minor": 0
      },
      "text/plain": [
       "training batch:   0%|          | 0/35 [00:00<?, ?it/s]"
      ]
     },
     "metadata": {},
     "output_type": "display_data"
    },
    {
     "data": {
      "application/vnd.jupyter.widget-view+json": {
       "model_id": "a69bf709850d4bc58b264461acc49cb9",
       "version_major": 2,
       "version_minor": 0
      },
      "text/plain": [
       "training batch:   0%|          | 0/35 [00:00<?, ?it/s]"
      ]
     },
     "metadata": {},
     "output_type": "display_data"
    },
    {
     "data": {
      "application/vnd.jupyter.widget-view+json": {
       "model_id": "26cfa1f8eaf04f42a14fe9bfb2d69012",
       "version_major": 2,
       "version_minor": 0
      },
      "text/plain": [
       "training batch:   0%|          | 0/35 [00:00<?, ?it/s]"
      ]
     },
     "metadata": {},
     "output_type": "display_data"
    },
    {
     "data": {
      "application/vnd.jupyter.widget-view+json": {
       "model_id": "124fd6e9d27a479f8d9daed2f1b2cfba",
       "version_major": 2,
       "version_minor": 0
      },
      "text/plain": [
       "training batch:   0%|          | 0/35 [00:00<?, ?it/s]"
      ]
     },
     "metadata": {},
     "output_type": "display_data"
    },
    {
     "data": {
      "application/vnd.jupyter.widget-view+json": {
       "model_id": "1391850a67a54e4595a273e6a3c86e43",
       "version_major": 2,
       "version_minor": 0
      },
      "text/plain": [
       "eval batch:   0%|          | 0/8 [00:00<?, ?it/s]"
      ]
     },
     "metadata": {},
     "output_type": "display_data"
    },
    {
     "data": {
      "application/vnd.jupyter.widget-view+json": {
       "model_id": "d4a95ee03f5e4614ad13f8aec967d563",
       "version_major": 2,
       "version_minor": 0
      },
      "text/plain": [
       "training batch:   0%|          | 0/35 [00:00<?, ?it/s]"
      ]
     },
     "metadata": {},
     "output_type": "display_data"
    },
    {
     "data": {
      "application/vnd.jupyter.widget-view+json": {
       "model_id": "b412c1d110b34a7f8b260c16e67fa5ef",
       "version_major": 2,
       "version_minor": 0
      },
      "text/plain": [
       "training batch:   0%|          | 0/35 [00:00<?, ?it/s]"
      ]
     },
     "metadata": {},
     "output_type": "display_data"
    },
    {
     "data": {
      "application/vnd.jupyter.widget-view+json": {
       "model_id": "1946b7e0ccd84e46a9c454b98bce35ce",
       "version_major": 2,
       "version_minor": 0
      },
      "text/plain": [
       "training batch:   0%|          | 0/35 [00:00<?, ?it/s]"
      ]
     },
     "metadata": {},
     "output_type": "display_data"
    },
    {
     "data": {
      "application/vnd.jupyter.widget-view+json": {
       "model_id": "cf9fc48283a74e1392993c2335c35d8c",
       "version_major": 2,
       "version_minor": 0
      },
      "text/plain": [
       "training batch:   0%|          | 0/35 [00:00<?, ?it/s]"
      ]
     },
     "metadata": {},
     "output_type": "display_data"
    },
    {
     "data": {
      "application/vnd.jupyter.widget-view+json": {
       "model_id": "e633330d9a0c4f549f42edcee995217a",
       "version_major": 2,
       "version_minor": 0
      },
      "text/plain": [
       "training batch:   0%|          | 0/35 [00:00<?, ?it/s]"
      ]
     },
     "metadata": {},
     "output_type": "display_data"
    },
    {
     "data": {
      "application/vnd.jupyter.widget-view+json": {
       "model_id": "1a16427f0dbd4ff6b6978ab4977b30b3",
       "version_major": 2,
       "version_minor": 0
      },
      "text/plain": [
       "training batch:   0%|          | 0/35 [00:00<?, ?it/s]"
      ]
     },
     "metadata": {},
     "output_type": "display_data"
    },
    {
     "data": {
      "application/vnd.jupyter.widget-view+json": {
       "model_id": "f980f31c47aa43bd86d7b019aedc3019",
       "version_major": 2,
       "version_minor": 0
      },
      "text/plain": [
       "training batch:   0%|          | 0/35 [00:00<?, ?it/s]"
      ]
     },
     "metadata": {},
     "output_type": "display_data"
    },
    {
     "data": {
      "application/vnd.jupyter.widget-view+json": {
       "model_id": "ef2bd55202e84d0d8dbea812a4569936",
       "version_major": 2,
       "version_minor": 0
      },
      "text/plain": [
       "training batch:   0%|          | 0/35 [00:00<?, ?it/s]"
      ]
     },
     "metadata": {},
     "output_type": "display_data"
    },
    {
     "data": {
      "application/vnd.jupyter.widget-view+json": {
       "model_id": "8befac6c838043ecaf10d7db43869695",
       "version_major": 2,
       "version_minor": 0
      },
      "text/plain": [
       "training batch:   0%|          | 0/35 [00:00<?, ?it/s]"
      ]
     },
     "metadata": {},
     "output_type": "display_data"
    },
    {
     "data": {
      "application/vnd.jupyter.widget-view+json": {
       "model_id": "e6f0289511a24b2ab612a868b3c6b000",
       "version_major": 2,
       "version_minor": 0
      },
      "text/plain": [
       "training batch:   0%|          | 0/35 [00:00<?, ?it/s]"
      ]
     },
     "metadata": {},
     "output_type": "display_data"
    },
    {
     "data": {
      "application/vnd.jupyter.widget-view+json": {
       "model_id": "be0b61439f8442a2b85f222fe88f133d",
       "version_major": 2,
       "version_minor": 0
      },
      "text/plain": [
       "eval batch:   0%|          | 0/8 [00:00<?, ?it/s]"
      ]
     },
     "metadata": {},
     "output_type": "display_data"
    },
    {
     "data": {
      "application/vnd.jupyter.widget-view+json": {
       "model_id": "2a58de618fb443169fbe301359f3feae",
       "version_major": 2,
       "version_minor": 0
      },
      "text/plain": [
       "training batch:   0%|          | 0/35 [00:00<?, ?it/s]"
      ]
     },
     "metadata": {},
     "output_type": "display_data"
    },
    {
     "data": {
      "application/vnd.jupyter.widget-view+json": {
       "model_id": "ba2bc1adc4f94cc78139165e3522e468",
       "version_major": 2,
       "version_minor": 0
      },
      "text/plain": [
       "training batch:   0%|          | 0/35 [00:00<?, ?it/s]"
      ]
     },
     "metadata": {},
     "output_type": "display_data"
    },
    {
     "data": {
      "application/vnd.jupyter.widget-view+json": {
       "model_id": "06d75212a2804c1ea52bdda5476d7f67",
       "version_major": 2,
       "version_minor": 0
      },
      "text/plain": [
       "training batch:   0%|          | 0/35 [00:00<?, ?it/s]"
      ]
     },
     "metadata": {},
     "output_type": "display_data"
    },
    {
     "data": {
      "application/vnd.jupyter.widget-view+json": {
       "model_id": "92ad413a09d544b7bbf1ec4057d701c1",
       "version_major": 2,
       "version_minor": 0
      },
      "text/plain": [
       "training batch:   0%|          | 0/35 [00:00<?, ?it/s]"
      ]
     },
     "metadata": {},
     "output_type": "display_data"
    },
    {
     "data": {
      "application/vnd.jupyter.widget-view+json": {
       "model_id": "3589471db21b45a2b691452f9301ca2c",
       "version_major": 2,
       "version_minor": 0
      },
      "text/plain": [
       "training batch:   0%|          | 0/35 [00:00<?, ?it/s]"
      ]
     },
     "metadata": {},
     "output_type": "display_data"
    },
    {
     "data": {
      "application/vnd.jupyter.widget-view+json": {
       "model_id": "96a25134fdc644cabd25a063b5995fd5",
       "version_major": 2,
       "version_minor": 0
      },
      "text/plain": [
       "training batch:   0%|          | 0/35 [00:00<?, ?it/s]"
      ]
     },
     "metadata": {},
     "output_type": "display_data"
    },
    {
     "data": {
      "application/vnd.jupyter.widget-view+json": {
       "model_id": "286cebee3bb44db39340f26fc6c77786",
       "version_major": 2,
       "version_minor": 0
      },
      "text/plain": [
       "training batch:   0%|          | 0/35 [00:00<?, ?it/s]"
      ]
     },
     "metadata": {},
     "output_type": "display_data"
    },
    {
     "data": {
      "application/vnd.jupyter.widget-view+json": {
       "model_id": "4f9f49720a344b5faf23496878537ba3",
       "version_major": 2,
       "version_minor": 0
      },
      "text/plain": [
       "training batch:   0%|          | 0/35 [00:00<?, ?it/s]"
      ]
     },
     "metadata": {},
     "output_type": "display_data"
    },
    {
     "data": {
      "application/vnd.jupyter.widget-view+json": {
       "model_id": "cfeda4b4a0a744c9ad22c4f7590ede40",
       "version_major": 2,
       "version_minor": 0
      },
      "text/plain": [
       "training batch:   0%|          | 0/35 [00:00<?, ?it/s]"
      ]
     },
     "metadata": {},
     "output_type": "display_data"
    },
    {
     "data": {
      "application/vnd.jupyter.widget-view+json": {
       "model_id": "a4bcf3e4dc20463f81604f7357c92ecf",
       "version_major": 2,
       "version_minor": 0
      },
      "text/plain": [
       "training batch:   0%|          | 0/35 [00:00<?, ?it/s]"
      ]
     },
     "metadata": {},
     "output_type": "display_data"
    },
    {
     "data": {
      "application/vnd.jupyter.widget-view+json": {
       "model_id": "21ec2ef31b354fccb0842e540730df74",
       "version_major": 2,
       "version_minor": 0
      },
      "text/plain": [
       "eval batch:   0%|          | 0/8 [00:00<?, ?it/s]"
      ]
     },
     "metadata": {},
     "output_type": "display_data"
    },
    {
     "data": {
      "application/vnd.jupyter.widget-view+json": {
       "model_id": "9605a3d045db4ab9b6094edeca2b33ac",
       "version_major": 2,
       "version_minor": 0
      },
      "text/plain": [
       "training batch:   0%|          | 0/35 [00:00<?, ?it/s]"
      ]
     },
     "metadata": {},
     "output_type": "display_data"
    },
    {
     "data": {
      "application/vnd.jupyter.widget-view+json": {
       "model_id": "2d7ba3bda35c494296b90b93a3f7f177",
       "version_major": 2,
       "version_minor": 0
      },
      "text/plain": [
       "training batch:   0%|          | 0/35 [00:00<?, ?it/s]"
      ]
     },
     "metadata": {},
     "output_type": "display_data"
    },
    {
     "data": {
      "application/vnd.jupyter.widget-view+json": {
       "model_id": "d106ed9464d247eb9ba9b9473da41d31",
       "version_major": 2,
       "version_minor": 0
      },
      "text/plain": [
       "training batch:   0%|          | 0/35 [00:00<?, ?it/s]"
      ]
     },
     "metadata": {},
     "output_type": "display_data"
    },
    {
     "data": {
      "application/vnd.jupyter.widget-view+json": {
       "model_id": "1e6a74e161a84144b3127ba51b4e60a6",
       "version_major": 2,
       "version_minor": 0
      },
      "text/plain": [
       "training batch:   0%|          | 0/35 [00:00<?, ?it/s]"
      ]
     },
     "metadata": {},
     "output_type": "display_data"
    },
    {
     "data": {
      "application/vnd.jupyter.widget-view+json": {
       "model_id": "92c25c19a8574b3d88c3c91b00b1a66a",
       "version_major": 2,
       "version_minor": 0
      },
      "text/plain": [
       "training batch:   0%|          | 0/35 [00:00<?, ?it/s]"
      ]
     },
     "metadata": {},
     "output_type": "display_data"
    },
    {
     "data": {
      "application/vnd.jupyter.widget-view+json": {
       "model_id": "c0be718c245c4a4ab45ef9421c27254a",
       "version_major": 2,
       "version_minor": 0
      },
      "text/plain": [
       "training batch:   0%|          | 0/35 [00:00<?, ?it/s]"
      ]
     },
     "metadata": {},
     "output_type": "display_data"
    },
    {
     "data": {
      "application/vnd.jupyter.widget-view+json": {
       "model_id": "b3a42a27e22f49b1b09a2c248fdabae1",
       "version_major": 2,
       "version_minor": 0
      },
      "text/plain": [
       "training batch:   0%|          | 0/35 [00:00<?, ?it/s]"
      ]
     },
     "metadata": {},
     "output_type": "display_data"
    },
    {
     "data": {
      "application/vnd.jupyter.widget-view+json": {
       "model_id": "1ad9a35c5d624f41850ba34b47e8bec2",
       "version_major": 2,
       "version_minor": 0
      },
      "text/plain": [
       "training batch:   0%|          | 0/35 [00:00<?, ?it/s]"
      ]
     },
     "metadata": {},
     "output_type": "display_data"
    },
    {
     "data": {
      "application/vnd.jupyter.widget-view+json": {
       "model_id": "0930708882954ac18e6b49016d35f0f3",
       "version_major": 2,
       "version_minor": 0
      },
      "text/plain": [
       "training batch:   0%|          | 0/35 [00:00<?, ?it/s]"
      ]
     },
     "metadata": {},
     "output_type": "display_data"
    },
    {
     "data": {
      "application/vnd.jupyter.widget-view+json": {
       "model_id": "52535a088a0441268387ba920a37f8e1",
       "version_major": 2,
       "version_minor": 0
      },
      "text/plain": [
       "training batch:   0%|          | 0/35 [00:00<?, ?it/s]"
      ]
     },
     "metadata": {},
     "output_type": "display_data"
    },
    {
     "data": {
      "application/vnd.jupyter.widget-view+json": {
       "model_id": "d821dd1bf78d45b59b347360c6d8d864",
       "version_major": 2,
       "version_minor": 0
      },
      "text/plain": [
       "eval batch:   0%|          | 0/8 [00:00<?, ?it/s]"
      ]
     },
     "metadata": {},
     "output_type": "display_data"
    },
    {
     "data": {
      "application/vnd.jupyter.widget-view+json": {
       "model_id": "2a4b4f29d6b94b18b52a5fb5f934a5d2",
       "version_major": 2,
       "version_minor": 0
      },
      "text/plain": [
       "training batch:   0%|          | 0/35 [00:00<?, ?it/s]"
      ]
     },
     "metadata": {},
     "output_type": "display_data"
    },
    {
     "data": {
      "application/vnd.jupyter.widget-view+json": {
       "model_id": "9edc85ec9c984869854545de4006db84",
       "version_major": 2,
       "version_minor": 0
      },
      "text/plain": [
       "training batch:   0%|          | 0/35 [00:00<?, ?it/s]"
      ]
     },
     "metadata": {},
     "output_type": "display_data"
    },
    {
     "data": {
      "application/vnd.jupyter.widget-view+json": {
       "model_id": "f780f593490141d3bda77da5119ecf2f",
       "version_major": 2,
       "version_minor": 0
      },
      "text/plain": [
       "training batch:   0%|          | 0/35 [00:00<?, ?it/s]"
      ]
     },
     "metadata": {},
     "output_type": "display_data"
    },
    {
     "data": {
      "application/vnd.jupyter.widget-view+json": {
       "model_id": "4fde74db63c742dcbc3fb068b929dc96",
       "version_major": 2,
       "version_minor": 0
      },
      "text/plain": [
       "training batch:   0%|          | 0/35 [00:00<?, ?it/s]"
      ]
     },
     "metadata": {},
     "output_type": "display_data"
    },
    {
     "data": {
      "application/vnd.jupyter.widget-view+json": {
       "model_id": "b160a0a24c9249488a51d3d8cbab4a54",
       "version_major": 2,
       "version_minor": 0
      },
      "text/plain": [
       "training batch:   0%|          | 0/35 [00:00<?, ?it/s]"
      ]
     },
     "metadata": {},
     "output_type": "display_data"
    },
    {
     "data": {
      "application/vnd.jupyter.widget-view+json": {
       "model_id": "115f456bdd384120b9291e0267b7971f",
       "version_major": 2,
       "version_minor": 0
      },
      "text/plain": [
       "training batch:   0%|          | 0/35 [00:00<?, ?it/s]"
      ]
     },
     "metadata": {},
     "output_type": "display_data"
    },
    {
     "data": {
      "application/vnd.jupyter.widget-view+json": {
       "model_id": "4419978f878440d68040c2ac579a3804",
       "version_major": 2,
       "version_minor": 0
      },
      "text/plain": [
       "training batch:   0%|          | 0/35 [00:00<?, ?it/s]"
      ]
     },
     "metadata": {},
     "output_type": "display_data"
    },
    {
     "data": {
      "application/vnd.jupyter.widget-view+json": {
       "model_id": "5892b4b85985400c8f4faad6932fc112",
       "version_major": 2,
       "version_minor": 0
      },
      "text/plain": [
       "training batch:   0%|          | 0/35 [00:00<?, ?it/s]"
      ]
     },
     "metadata": {},
     "output_type": "display_data"
    },
    {
     "data": {
      "application/vnd.jupyter.widget-view+json": {
       "model_id": "200468e11ca0476f937685468015ada0",
       "version_major": 2,
       "version_minor": 0
      },
      "text/plain": [
       "training batch:   0%|          | 0/35 [00:00<?, ?it/s]"
      ]
     },
     "metadata": {},
     "output_type": "display_data"
    },
    {
     "data": {
      "application/vnd.jupyter.widget-view+json": {
       "model_id": "66f879ee7b1d4a40a03ab2d4a2749220",
       "version_major": 2,
       "version_minor": 0
      },
      "text/plain": [
       "training batch:   0%|          | 0/35 [00:00<?, ?it/s]"
      ]
     },
     "metadata": {},
     "output_type": "display_data"
    },
    {
     "data": {
      "application/vnd.jupyter.widget-view+json": {
       "model_id": "750d033b16544502ae2f06fd9c6f92a3",
       "version_major": 2,
       "version_minor": 0
      },
      "text/plain": [
       "eval batch:   0%|          | 0/8 [00:00<?, ?it/s]"
      ]
     },
     "metadata": {},
     "output_type": "display_data"
    },
    {
     "data": {
      "application/vnd.jupyter.widget-view+json": {
       "model_id": "0c60b79bcf544d8fa38f901c4a745957",
       "version_major": 2,
       "version_minor": 0
      },
      "text/plain": [
       "training batch:   0%|          | 0/35 [00:00<?, ?it/s]"
      ]
     },
     "metadata": {},
     "output_type": "display_data"
    },
    {
     "data": {
      "application/vnd.jupyter.widget-view+json": {
       "model_id": "73c718385ec341dc8afa2d33214d7946",
       "version_major": 2,
       "version_minor": 0
      },
      "text/plain": [
       "training batch:   0%|          | 0/35 [00:00<?, ?it/s]"
      ]
     },
     "metadata": {},
     "output_type": "display_data"
    },
    {
     "data": {
      "application/vnd.jupyter.widget-view+json": {
       "model_id": "a8b5992ffa6f49d29a28929d584dd65c",
       "version_major": 2,
       "version_minor": 0
      },
      "text/plain": [
       "training batch:   0%|          | 0/35 [00:00<?, ?it/s]"
      ]
     },
     "metadata": {},
     "output_type": "display_data"
    },
    {
     "data": {
      "application/vnd.jupyter.widget-view+json": {
       "model_id": "17fb507fbe64440db3dfd39a074d6703",
       "version_major": 2,
       "version_minor": 0
      },
      "text/plain": [
       "training batch:   0%|          | 0/35 [00:00<?, ?it/s]"
      ]
     },
     "metadata": {},
     "output_type": "display_data"
    },
    {
     "data": {
      "application/vnd.jupyter.widget-view+json": {
       "model_id": "e21b51bde0db4f7fbccb28211dcccfec",
       "version_major": 2,
       "version_minor": 0
      },
      "text/plain": [
       "training batch:   0%|          | 0/35 [00:00<?, ?it/s]"
      ]
     },
     "metadata": {},
     "output_type": "display_data"
    },
    {
     "data": {
      "application/vnd.jupyter.widget-view+json": {
       "model_id": "af696f915f184df0b02cb724335e15d4",
       "version_major": 2,
       "version_minor": 0
      },
      "text/plain": [
       "training batch:   0%|          | 0/35 [00:00<?, ?it/s]"
      ]
     },
     "metadata": {},
     "output_type": "display_data"
    },
    {
     "data": {
      "application/vnd.jupyter.widget-view+json": {
       "model_id": "ce789e9e7d7647858f1d3030c69fd79e",
       "version_major": 2,
       "version_minor": 0
      },
      "text/plain": [
       "training batch:   0%|          | 0/35 [00:00<?, ?it/s]"
      ]
     },
     "metadata": {},
     "output_type": "display_data"
    },
    {
     "data": {
      "application/vnd.jupyter.widget-view+json": {
       "model_id": "2dcda1829426443bbf8a646451353bd0",
       "version_major": 2,
       "version_minor": 0
      },
      "text/plain": [
       "training batch:   0%|          | 0/35 [00:00<?, ?it/s]"
      ]
     },
     "metadata": {},
     "output_type": "display_data"
    },
    {
     "data": {
      "application/vnd.jupyter.widget-view+json": {
       "model_id": "72d502762a8c4285a52e0bc21458eb40",
       "version_major": 2,
       "version_minor": 0
      },
      "text/plain": [
       "training batch:   0%|          | 0/35 [00:00<?, ?it/s]"
      ]
     },
     "metadata": {},
     "output_type": "display_data"
    },
    {
     "data": {
      "application/vnd.jupyter.widget-view+json": {
       "model_id": "eb6e98bd164b479ca476365ed3b5524d",
       "version_major": 2,
       "version_minor": 0
      },
      "text/plain": [
       "training batch:   0%|          | 0/35 [00:00<?, ?it/s]"
      ]
     },
     "metadata": {},
     "output_type": "display_data"
    },
    {
     "data": {
      "application/vnd.jupyter.widget-view+json": {
       "model_id": "a0a030c662a540589ac4a3beec39a5ce",
       "version_major": 2,
       "version_minor": 0
      },
      "text/plain": [
       "eval batch:   0%|          | 0/8 [00:00<?, ?it/s]"
      ]
     },
     "metadata": {},
     "output_type": "display_data"
    }
   ],
   "source": [
    "trainer = Trainer(\n",
    "    model=model, \n",
    "    train_config={\n",
    "        \"variational\": True, \n",
    "        \"eval_metrics\": [\"description_length\", \"accuracy\"],\n",
    "        \"lr\": 1e-3,\n",
    "        \"optimizer\": \"Adam\",\n",
    "        \"n_epochs\": 500,\n",
    "        \"loss_function\": \"crossentropy\"\n",
    "    }\n",
    ")\n",
    "\n",
    "\n",
    "model = trainer.train(\n",
    "    train_loader=train_loader,\n",
    "    val_loader=val_loader,\n",
    "    evaluate_every=10\n",
    ")\n",
    "\n",
    "val_metrics_mean = trainer._metrics"
   ]
  },
  {
   "cell_type": "code",
   "execution_count": 5,
   "metadata": {},
   "outputs": [
    {
     "data": {
      "text/plain": [
       "[{'description_length': 144628.34},\n",
       " {'description_length': 134854.75},\n",
       " {'description_length': 128276.14},\n",
       " {'description_length': 121819.69},\n",
       " {'description_length': 115364.39},\n",
       " {'description_length': 108913.336},\n",
       " {'description_length': 102465.055},\n",
       " {'description_length': 96021.49},\n",
       " {'description_length': 89584.8},\n",
       " {'description_length': 83158.08},\n",
       " {'description_length': 76745.016},\n",
       " {'description_length': 70351.66},\n",
       " {'description_length': 63985.98},\n",
       " {'description_length': 57659.47},\n",
       " {'description_length': 51388.117},\n",
       " {'description_length': 45194.297},\n",
       " {'description_length': 39108.96},\n",
       " {'description_length': 33174.57},\n",
       " {'description_length': 27448.438},\n",
       " {'description_length': 22006.184},\n",
       " {'description_length': 16944.258},\n",
       " {'description_length': 12379.353},\n",
       " {'description_length': 8440.879},\n",
       " {'description_length': 5251.5723},\n",
       " {'description_length': 2892.2222}]"
      ]
     },
     "execution_count": 5,
     "metadata": {},
     "output_type": "execute_result"
    }
   ],
   "source": [
    "val_metrics_mean"
   ]
  },
  {
   "cell_type": "code",
   "execution_count": 6,
   "metadata": {},
   "outputs": [
    {
     "data": {
      "image/png": "[encoded data removed]",
      "text/plain": [
       "<Figure size 640x480 with 1 Axes>"
      ]
     },
     "metadata": {},
     "output_type": "display_data"
    }
   ],
   "source": [
    "# plt.yscale(\"log\")\n",
    "plt.plot([elem[\"description_length\"] for elem in val_metrics_mean])\n",
    "plt.show()"
   ]
  },
  {
   "cell_type": "code",
   "execution_count": 7,
   "metadata": {},
   "outputs": [],
   "source": [
    "# test_metrics_mean, test_metrics = trainer.evaluate(test_loader)"
   ]
  },
  {
   "cell_type": "code",
   "execution_count": 8,
   "metadata": {},
   "outputs": [],
   "source": [
    "# def visualize(metrics_mean): # TODO: implement and transfer to utils\n",
    "#     ...\n",
    "\n",
    "\n",
    "# visualize(val_metrics_mean)"
   ]
  },
  {
   "cell_type": "code",
   "execution_count": null,
   "metadata": {},
   "outputs": [],
   "source": []
  }
 ],
 "metadata": {
  "kernelspec": {
   "display_name": "DL",
   "language": "python",
   "name": "python3"
  },
  "language_info": {
   "codemirror_mode": {
    "name": "ipython",
    "version": 3
   },
   "file_extension": ".py",
   "mimetype": "text/x-python",
   "name": "python",
   "nbconvert_exporter": "python",
   "pygments_lexer": "ipython3",
   "version": "3.11.9"
  }
 },
 "nbformat": 4,
 "nbformat_minor": 2
}
